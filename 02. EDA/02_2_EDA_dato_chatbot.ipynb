{
  "nbformat": 4,
  "nbformat_minor": 0,
  "metadata": {
    "kernelspec": {
      "display_name": "Python 3",
      "language": "python",
      "name": "python3"
    },
    "language_info": {
      "codemirror_mode": {
        "name": "ipython",
        "version": 3
      },
      "file_extension": ".py",
      "mimetype": "text/x-python",
      "name": "python",
      "nbconvert_exporter": "python",
      "pygments_lexer": "ipython3",
      "version": "3.8.5"
    },
    "colab": {
      "name": "02_2_EDA_dato_chatbot.ipynb",
      "provenance": [],
      "toc_visible": true
    }
  },
  "cells": [
    {
      "cell_type": "markdown",
      "metadata": {
        "id": "EgqvJYwvwmsd"
      },
      "source": [
        "# Dato Chatbot raw"
      ]
    },
    {
      "cell_type": "code",
      "metadata": {
        "id": "P9gBTzltwmsi"
      },
      "source": [
        "import pandas as pd\n",
        "import numpy as py\n",
        "import json"
      ],
      "execution_count": null,
      "outputs": []
    },
    {
      "cell_type": "code",
      "metadata": {
        "colab": {
          "base_uri": "https://localhost:8080/"
        },
        "id": "gcdgjGq5wwGK",
        "outputId": "391d9cf8-54ac-4686-b7a1-56b481ca86c7"
      },
      "source": [
        "from google.colab import drive\n",
        "drive.mount('/content/drive')"
      ],
      "execution_count": null,
      "outputs": [
        {
          "output_type": "stream",
          "text": [
            "Mounted at /content/drive\n"
          ],
          "name": "stdout"
        }
      ]
    },
    {
      "cell_type": "code",
      "metadata": {
        "id": "TrvGHctpwmsq"
      },
      "source": [
        "explicit_final = pd.read_csv('/content/drive/MyDrive/DATO_CHATBOT_STRAT/explicit_true_labels (1).csv')"
      ],
      "execution_count": null,
      "outputs": []
    },
    {
      "cell_type": "code",
      "metadata": {
        "colab": {
          "base_uri": "https://localhost:8080/",
          "height": 570
        },
        "id": "Wt5WaHOHwmsq",
        "outputId": "282833b4-c346-41a7-c008-761020fd6e82"
      },
      "source": [
        "explicit_final"
      ],
      "execution_count": null,
      "outputs": [
        {
          "output_type": "execute_result",
          "data": {
            "text/html": [
              "<div>\n",
              "<style scoped>\n",
              "    .dataframe tbody tr th:only-of-type {\n",
              "        vertical-align: middle;\n",
              "    }\n",
              "\n",
              "    .dataframe tbody tr th {\n",
              "        vertical-align: top;\n",
              "    }\n",
              "\n",
              "    .dataframe thead th {\n",
              "        text-align: right;\n",
              "    }\n",
              "</style>\n",
              "<table border=\"1\" class=\"dataframe\">\n",
              "  <thead>\n",
              "    <tr style=\"text-align: right;\">\n",
              "      <th></th>\n",
              "      <th>Unnamed: 0</th>\n",
              "      <th>Query</th>\n",
              "      <th>kb_number</th>\n",
              "      <th>KbFirstFeedback</th>\n",
              "      <th>CreationDate</th>\n",
              "      <th>date</th>\n",
              "      <th>UserId</th>\n",
              "      <th>Language</th>\n",
              "      <th>kb_label</th>\n",
              "    </tr>\n",
              "  </thead>\n",
              "  <tbody>\n",
              "    <tr>\n",
              "      <th>0</th>\n",
              "      <td>0</td>\n",
              "      <td>no tengo datos en el móvil</td>\n",
              "      <td>KB0015675</td>\n",
              "      <td>True</td>\n",
              "      <td>2021-02-12 10:40:48.375082</td>\n",
              "      <td>2021-02-12</td>\n",
              "      <td>AA01552</td>\n",
              "      <td>es</td>\n",
              "      <td>Móvil / Mobile</td>\n",
              "    </tr>\n",
              "    <tr>\n",
              "      <th>1</th>\n",
              "      <td>1</td>\n",
              "      <td>¿como se agrega un buzon de outlook?</td>\n",
              "      <td>KB0011130</td>\n",
              "      <td>True</td>\n",
              "      <td>2021-03-08 19:14:46.039582</td>\n",
              "      <td>2021-03-08</td>\n",
              "      <td>AA01574</td>\n",
              "      <td>es</td>\n",
              "      <td>Correo Electrónico | Email</td>\n",
              "    </tr>\n",
              "    <tr>\n",
              "      <th>2</th>\n",
              "      <td>2</td>\n",
              "      <td>visio software in spanish</td>\n",
              "      <td>NaN</td>\n",
              "      <td>True</td>\n",
              "      <td>2021-03-17 20:09:26.231219</td>\n",
              "      <td>2021-03-17</td>\n",
              "      <td>ASENEFEL</td>\n",
              "      <td>en</td>\n",
              "      <td>NaN</td>\n",
              "    </tr>\n",
              "    <tr>\n",
              "      <th>3</th>\n",
              "      <td>3</td>\n",
              "      <td>\\r\\n\\n\\r\\nHi. Can you reset my password in SAP...</td>\n",
              "      <td>KB0016331</td>\n",
              "      <td>True</td>\n",
              "      <td>2021-02-03 11:16:24.286639</td>\n",
              "      <td>2021-02-03</td>\n",
              "      <td>AUNDHEIM</td>\n",
              "      <td>en</td>\n",
              "      <td>NaN</td>\n",
              "    </tr>\n",
              "    <tr>\n",
              "      <th>4</th>\n",
              "      <td>4</td>\n",
              "      <td>\\r\\n\\n\\r\\nHi. Can you reset my password in SAP...</td>\n",
              "      <td>KB0016331</td>\n",
              "      <td>True</td>\n",
              "      <td>2021-02-03 11:16:24.286639</td>\n",
              "      <td>2021-02-03</td>\n",
              "      <td>AUNDHEIM</td>\n",
              "      <td>en</td>\n",
              "      <td>SAP</td>\n",
              "    </tr>\n",
              "    <tr>\n",
              "      <th>...</th>\n",
              "      <td>...</td>\n",
              "      <td>...</td>\n",
              "      <td>...</td>\n",
              "      <td>...</td>\n",
              "      <td>...</td>\n",
              "      <td>...</td>\n",
              "      <td>...</td>\n",
              "      <td>...</td>\n",
              "      <td>...</td>\n",
              "    </tr>\n",
              "    <tr>\n",
              "      <th>535</th>\n",
              "      <td>535</td>\n",
              "      <td>una consulta tengo un equipo celular atex que ...</td>\n",
              "      <td>KB0014255</td>\n",
              "      <td>True</td>\n",
              "      <td>2021-01-16 16:46:08.542072</td>\n",
              "      <td>2021-01-16</td>\n",
              "      <td>NaN</td>\n",
              "      <td>es</td>\n",
              "      <td>WiFi</td>\n",
              "    </tr>\n",
              "    <tr>\n",
              "      <th>536</th>\n",
              "      <td>536</td>\n",
              "      <td>cuales son los pasos para enviar mis factura a...</td>\n",
              "      <td>KB0015711</td>\n",
              "      <td>True</td>\n",
              "      <td>2021-01-21 16:34:10.360176</td>\n",
              "      <td>2021-01-21</td>\n",
              "      <td>NaN</td>\n",
              "      <td>es</td>\n",
              "      <td>RIC | SIR (Departamental | Network Fold)</td>\n",
              "    </tr>\n",
              "    <tr>\n",
              "      <th>537</th>\n",
              "      <td>537</td>\n",
              "      <td>mi usuario SAP RK2 202 está bloqueado</td>\n",
              "      <td>KB0016116</td>\n",
              "      <td>True</td>\n",
              "      <td>2021-01-27 11:15:26.929943</td>\n",
              "      <td>2021-01-27</td>\n",
              "      <td>NaN</td>\n",
              "      <td>es</td>\n",
              "      <td>SAP</td>\n",
              "    </tr>\n",
              "    <tr>\n",
              "      <th>538</th>\n",
              "      <td>538</td>\n",
              "      <td>necesito desbloquear mi usuario sap</td>\n",
              "      <td>KB0016116</td>\n",
              "      <td>True</td>\n",
              "      <td>2021-01-27 11:16:22.846146</td>\n",
              "      <td>2021-01-27</td>\n",
              "      <td>NaN</td>\n",
              "      <td>es</td>\n",
              "      <td>SAP</td>\n",
              "    </tr>\n",
              "    <tr>\n",
              "      <th>539</th>\n",
              "      <td>539</td>\n",
              "      <td>En una videollamada, cómo cambiar el fondo?</td>\n",
              "      <td>KB0016398</td>\n",
              "      <td>True</td>\n",
              "      <td>2021-02-19 16:25:17.319723</td>\n",
              "      <td>2021-02-19</td>\n",
              "      <td>NaN</td>\n",
              "      <td>es</td>\n",
              "      <td>Teams</td>\n",
              "    </tr>\n",
              "  </tbody>\n",
              "</table>\n",
              "<p>540 rows × 9 columns</p>\n",
              "</div>"
            ],
            "text/plain": [
              "     Unnamed: 0  ...                                  kb_label\n",
              "0             0  ...                            Móvil / Mobile\n",
              "1             1  ...                Correo Electrónico | Email\n",
              "2             2  ...                                       NaN\n",
              "3             3  ...                                       NaN\n",
              "4             4  ...                                       SAP\n",
              "..          ...  ...                                       ...\n",
              "535         535  ...                                      WiFi\n",
              "536         536  ...  RIC | SIR (Departamental | Network Fold)\n",
              "537         537  ...                                       SAP\n",
              "538         538  ...                                       SAP\n",
              "539         539  ...                                     Teams\n",
              "\n",
              "[540 rows x 9 columns]"
            ]
          },
          "metadata": {
            "tags": []
          },
          "execution_count": 4
        }
      ]
    },
    {
      "cell_type": "code",
      "metadata": {
        "id": "ktzJfZcSwmsr"
      },
      "source": [
        "len_body = explicit_final['Query'].str.len()"
      ],
      "execution_count": null,
      "outputs": []
    },
    {
      "cell_type": "code",
      "metadata": {
        "colab": {
          "base_uri": "https://localhost:8080/",
          "height": 341
        },
        "id": "baYIec5iwmsr",
        "outputId": "60b86a48-7649-4345-e987-293b45e52dbf"
      },
      "source": [
        "import matplotlib.pyplot as plt\n",
        "import seaborn as sns\n",
        "\n",
        "sns.set(style='whitegrid', font_scale=1.2)\n",
        "#HAPPY_COLORS_PALETTE = [\"#01BEFE\", \"#FFDD00\", \"#FF7D00\", \"#FF006D\", \"#ADFF02\", \"#8F00FF\"]\n",
        "sns.set_palette(sns.color_palette('OrRd_r'))\n",
        "\n",
        "sns.distplot(len_body)\n",
        "plt.xlim([0, 250]);\n",
        "plt.xlabel('answer length');"
      ],
      "execution_count": null,
      "outputs": [
        {
          "output_type": "stream",
          "text": [
            "/usr/local/lib/python3.7/dist-packages/seaborn/distributions.py:2557: FutureWarning: `distplot` is a deprecated function and will be removed in a future version. Please adapt your code to use either `displot` (a figure-level function with similar flexibility) or `histplot` (an axes-level function for histograms).\n",
            "  warnings.warn(msg, FutureWarning)\n"
          ],
          "name": "stderr"
        },
        {
          "output_type": "display_data",
          "data": {
            "image/png": "[encoded data removed]",
            "text/plain": [
              "<Figure size 432x288 with 1 Axes>"
            ]
          },
          "metadata": {
            "tags": []
          }
        }
      ]
    },
    {
      "cell_type": "code",
      "metadata": {
        "id": "7xnQp5fvwmsr"
      },
      "source": [
        "cats =explicit_final['kb_label'].unique()"
      ],
      "execution_count": null,
      "outputs": []
    },
    {
      "cell_type": "code",
      "metadata": {
        "colab": {
          "base_uri": "https://localhost:8080/"
        },
        "id": "uJ2OHI8Wwmsr",
        "outputId": "03dd101f-c519-4efc-b81c-5f63f64fb254"
      },
      "source": [
        "len(cats)"
      ],
      "execution_count": null,
      "outputs": [
        {
          "output_type": "execute_result",
          "data": {
            "text/plain": [
              "40"
            ]
          },
          "metadata": {
            "tags": []
          },
          "execution_count": 8
        }
      ]
    },
    {
      "cell_type": "code",
      "metadata": {
        "colab": {
          "base_uri": "https://localhost:8080/",
          "height": 651
        },
        "id": "R-aN0lilxVJN",
        "outputId": "c6354294-e041-4fda-da3f-0d911f9ceeca"
      },
      "source": [
        "plt.figure(figsize=(20,5)) \n",
        "g = sns.countplot(data=explicit_final,x='kb_label')\n",
        "plt.xticks(rotation=90)\n"
      ],
      "execution_count": null,
      "outputs": [
        {
          "output_type": "execute_result",
          "data": {
            "text/plain": [
              "(array([ 0,  1,  2,  3,  4,  5,  6,  7,  8,  9, 10, 11, 12, 13, 14, 15, 16,\n",
              "        17, 18, 19, 20, 21, 22, 23, 24, 25, 26, 27, 28, 29, 30, 31, 32, 33,\n",
              "        34, 35, 36, 37, 38]), <a list of 39 Text major ticklabel objects>)"
            ]
          },
          "metadata": {
            "tags": []
          },
          "execution_count": 49
        },
        {
          "output_type": "display_data",
          "data": {
            "image/png": "[encoded data removed]",
            "text/plain": [
              "<Figure size 1440x360 with 1 Axes>"
            ]
          },
          "metadata": {
            "tags": []
          }
        }
      ]
    },
    {
      "cell_type": "code",
      "metadata": {
        "colab": {
          "base_uri": "https://localhost:8080/"
        },
        "id": "lJhsSjjKwmsr",
        "outputId": "eb0d56f3-b2f0-41d4-bfe3-545284c00a3e"
      },
      "source": [
        "explicit_final.shape"
      ],
      "execution_count": null,
      "outputs": [
        {
          "output_type": "execute_result",
          "data": {
            "text/plain": [
              "(540, 9)"
            ]
          },
          "metadata": {
            "tags": []
          },
          "execution_count": 16
        }
      ]
    },
    {
      "cell_type": "markdown",
      "metadata": {
        "id": "wUq916hX0gza"
      },
      "source": [
        "# Eliminamos los datos nulos y limpiamos el dato textual de la Query"
      ]
    },
    {
      "cell_type": "code",
      "metadata": {
        "colab": {
          "base_uri": "https://localhost:8080/"
        },
        "id": "wPOOpPSPwmss",
        "outputId": "3896df5e-2959-4280-d453-d962d259493c"
      },
      "source": [
        "explicit_final.info()"
      ],
      "execution_count": null,
      "outputs": [
        {
          "output_type": "stream",
          "text": [
            "<class 'pandas.core.frame.DataFrame'>\n",
            "RangeIndex: 540 entries, 0 to 539\n",
            "Data columns (total 9 columns):\n",
            " #   Column           Non-Null Count  Dtype \n",
            "---  ------           --------------  ----- \n",
            " 0   Unnamed: 0       540 non-null    int64 \n",
            " 1   Query            540 non-null    object\n",
            " 2   kb_number        524 non-null    object\n",
            " 3   KbFirstFeedback  540 non-null    bool  \n",
            " 4   CreationDate     540 non-null    object\n",
            " 5   date             540 non-null    object\n",
            " 6   UserId           530 non-null    object\n",
            " 7   Language         540 non-null    object\n",
            " 8   kb_label         475 non-null    object\n",
            "dtypes: bool(1), int64(1), object(7)\n",
            "memory usage: 34.4+ KB\n"
          ],
          "name": "stdout"
        }
      ]
    },
    {
      "cell_type": "code",
      "metadata": {
        "colab": {
          "base_uri": "https://localhost:8080/"
        },
        "id": "RBpNlK2awmss",
        "outputId": "e3ebc942-f008-451b-98cf-11710c885d54"
      },
      "source": [
        "explicit_final.Language.unique()"
      ],
      "execution_count": null,
      "outputs": [
        {
          "output_type": "execute_result",
          "data": {
            "text/plain": [
              "array(['es', 'en'], dtype=object)"
            ]
          },
          "metadata": {
            "tags": []
          },
          "execution_count": 18
        }
      ]
    },
    {
      "cell_type": "code",
      "metadata": {
        "id": "XxtCOIHOwmss"
      },
      "source": [
        "import nltk \n",
        "from nltk.stem import PorterStemmer # para ver la raiz de las palabras(worker = work)\n",
        "from nltk.tokenize import sent_tokenize, word_tokenize # para tokenizar las frases y las palabras \n",
        "import re # regex\n",
        "import string"
      ],
      "execution_count": null,
      "outputs": []
    },
    {
      "cell_type": "code",
      "metadata": {
        "id": "daV8eA_6wmss"
      },
      "source": [
        "def text_cleaning(text):\n",
        "    \n",
        "    text = text.lower()\n",
        "    text = re.sub('\\[.*?\\]', '', text)\n",
        "    text = re.sub(\"\\\\W\",\" \",text) # remove special chars\n",
        "    text = re.sub('https?://\\S+|www\\.\\S+', '', text)\n",
        "    text = re.sub('<.*?>+', '', text)\n",
        "    text = re.sub('[%s]' % re.escape(string.punctuation), '', text)\n",
        "    text = re.sub('\\n', '', text)\n",
        "    text = re.sub('\\w*\\d\\w*', '', text)\n",
        "    \n",
        "    return text"
      ],
      "execution_count": null,
      "outputs": []
    },
    {
      "cell_type": "code",
      "metadata": {
        "id": "F4vNZJ6hwmss"
      },
      "source": [
        "# aplicamos limpieza a query \n",
        "\n",
        "explicit_final['Query'] = explicit_final['Query'].astype('str')  # object a string\n",
        "explicit_final['Query']= explicit_final['Query'].apply(text_cleaning) # aplicamos cleaning a review_body\n"
      ],
      "execution_count": null,
      "outputs": []
    },
    {
      "cell_type": "code",
      "metadata": {
        "id": "H4pvm6sUwmst"
      },
      "source": [
        "df = explicit_final[['Query','kb_label','Language']]"
      ],
      "execution_count": null,
      "outputs": []
    },
    {
      "cell_type": "code",
      "metadata": {
        "colab": {
          "base_uri": "https://localhost:8080/",
          "height": 391
        },
        "id": "bOxA2amTwmst",
        "outputId": "5fb94eae-5a06-4bbf-edeb-a80bd0788fc7"
      },
      "source": [
        "df"
      ],
      "execution_count": null,
      "outputs": [
        {
          "output_type": "execute_result",
          "data": {
            "text/html": [
              "<div>\n",
              "<style scoped>\n",
              "    .dataframe tbody tr th:only-of-type {\n",
              "        vertical-align: middle;\n",
              "    }\n",
              "\n",
              "    .dataframe tbody tr th {\n",
              "        vertical-align: top;\n",
              "    }\n",
              "\n",
              "    .dataframe thead th {\n",
              "        text-align: right;\n",
              "    }\n",
              "</style>\n",
              "<table border=\"1\" class=\"dataframe\">\n",
              "  <thead>\n",
              "    <tr style=\"text-align: right;\">\n",
              "      <th></th>\n",
              "      <th>Query</th>\n",
              "      <th>kb_label</th>\n",
              "      <th>Language</th>\n",
              "    </tr>\n",
              "  </thead>\n",
              "  <tbody>\n",
              "    <tr>\n",
              "      <th>0</th>\n",
              "      <td>no tengo datos en el móvil</td>\n",
              "      <td>Móvil / Mobile</td>\n",
              "      <td>es</td>\n",
              "    </tr>\n",
              "    <tr>\n",
              "      <th>1</th>\n",
              "      <td>como se agrega un buzon de outlook</td>\n",
              "      <td>Correo Electrónico | Email</td>\n",
              "      <td>es</td>\n",
              "    </tr>\n",
              "    <tr>\n",
              "      <th>2</th>\n",
              "      <td>visio software in spanish</td>\n",
              "      <td>NaN</td>\n",
              "      <td>en</td>\n",
              "    </tr>\n",
              "    <tr>\n",
              "      <th>3</th>\n",
              "      <td>hi  can you reset my password in sap syst...</td>\n",
              "      <td>NaN</td>\n",
              "      <td>en</td>\n",
              "    </tr>\n",
              "    <tr>\n",
              "      <th>4</th>\n",
              "      <td>hi  can you reset my password in sap syst...</td>\n",
              "      <td>SAP</td>\n",
              "      <td>en</td>\n",
              "    </tr>\n",
              "    <tr>\n",
              "      <th>...</th>\n",
              "      <td>...</td>\n",
              "      <td>...</td>\n",
              "      <td>...</td>\n",
              "    </tr>\n",
              "    <tr>\n",
              "      <th>535</th>\n",
              "      <td>una consulta tengo un equipo celular atex que ...</td>\n",
              "      <td>WiFi</td>\n",
              "      <td>es</td>\n",
              "    </tr>\n",
              "    <tr>\n",
              "      <th>536</th>\n",
              "      <td>cuales son los pasos para enviar mis factura a...</td>\n",
              "      <td>RIC | SIR (Departamental | Network Fold)</td>\n",
              "      <td>es</td>\n",
              "    </tr>\n",
              "    <tr>\n",
              "      <th>537</th>\n",
              "      <td>mi usuario sap   está bloqueado</td>\n",
              "      <td>SAP</td>\n",
              "      <td>es</td>\n",
              "    </tr>\n",
              "    <tr>\n",
              "      <th>538</th>\n",
              "      <td>necesito desbloquear mi usuario sap</td>\n",
              "      <td>SAP</td>\n",
              "      <td>es</td>\n",
              "    </tr>\n",
              "    <tr>\n",
              "      <th>539</th>\n",
              "      <td>en una videollamada  cómo cambiar el fondo</td>\n",
              "      <td>Teams</td>\n",
              "      <td>es</td>\n",
              "    </tr>\n",
              "  </tbody>\n",
              "</table>\n",
              "<p>540 rows × 3 columns</p>\n",
              "</div>"
            ],
            "text/plain": [
              "                                                 Query  ... Language\n",
              "0                           no tengo datos en el móvil  ...       es\n",
              "1                  como se agrega un buzon de outlook   ...       es\n",
              "2                            visio software in spanish  ...       en\n",
              "3         hi  can you reset my password in sap syst...  ...       en\n",
              "4         hi  can you reset my password in sap syst...  ...       en\n",
              "..                                                 ...  ...      ...\n",
              "535  una consulta tengo un equipo celular atex que ...  ...       es\n",
              "536  cuales son los pasos para enviar mis factura a...  ...       es\n",
              "537                    mi usuario sap   está bloqueado  ...       es\n",
              "538                necesito desbloquear mi usuario sap  ...       es\n",
              "539        en una videollamada  cómo cambiar el fondo   ...       es\n",
              "\n",
              "[540 rows x 3 columns]"
            ]
          },
          "metadata": {
            "tags": []
          },
          "execution_count": 23
        }
      ]
    },
    {
      "cell_type": "code",
      "metadata": {
        "id": "xf3FvuU2wmst"
      },
      "source": [
        "df = df.dropna()"
      ],
      "execution_count": null,
      "outputs": []
    },
    {
      "cell_type": "code",
      "metadata": {
        "colab": {
          "base_uri": "https://localhost:8080/",
          "height": 391
        },
        "id": "67LLGm9lwmst",
        "outputId": "6bb75f8f-0d63-4456-e2e7-45a7bb436083"
      },
      "source": [
        "df"
      ],
      "execution_count": null,
      "outputs": [
        {
          "output_type": "execute_result",
          "data": {
            "text/html": [
              "<div>\n",
              "<style scoped>\n",
              "    .dataframe tbody tr th:only-of-type {\n",
              "        vertical-align: middle;\n",
              "    }\n",
              "\n",
              "    .dataframe tbody tr th {\n",
              "        vertical-align: top;\n",
              "    }\n",
              "\n",
              "    .dataframe thead th {\n",
              "        text-align: right;\n",
              "    }\n",
              "</style>\n",
              "<table border=\"1\" class=\"dataframe\">\n",
              "  <thead>\n",
              "    <tr style=\"text-align: right;\">\n",
              "      <th></th>\n",
              "      <th>Query</th>\n",
              "      <th>kb_label</th>\n",
              "      <th>Language</th>\n",
              "    </tr>\n",
              "  </thead>\n",
              "  <tbody>\n",
              "    <tr>\n",
              "      <th>0</th>\n",
              "      <td>no tengo datos en el móvil</td>\n",
              "      <td>Móvil / Mobile</td>\n",
              "      <td>es</td>\n",
              "    </tr>\n",
              "    <tr>\n",
              "      <th>1</th>\n",
              "      <td>como se agrega un buzon de outlook</td>\n",
              "      <td>Correo Electrónico | Email</td>\n",
              "      <td>es</td>\n",
              "    </tr>\n",
              "    <tr>\n",
              "      <th>4</th>\n",
              "      <td>hi  can you reset my password in sap syst...</td>\n",
              "      <td>SAP</td>\n",
              "      <td>en</td>\n",
              "    </tr>\n",
              "    <tr>\n",
              "      <th>5</th>\n",
              "      <td>install stream on teams</td>\n",
              "      <td>Teams</td>\n",
              "      <td>en</td>\n",
              "    </tr>\n",
              "    <tr>\n",
              "      <th>6</th>\n",
              "      <td>cuesta sanz  david   necesito usar el a...</td>\n",
              "      <td>OneDrive</td>\n",
              "      <td>es</td>\n",
              "    </tr>\n",
              "    <tr>\n",
              "      <th>...</th>\n",
              "      <td>...</td>\n",
              "      <td>...</td>\n",
              "      <td>...</td>\n",
              "    </tr>\n",
              "    <tr>\n",
              "      <th>535</th>\n",
              "      <td>una consulta tengo un equipo celular atex que ...</td>\n",
              "      <td>WiFi</td>\n",
              "      <td>es</td>\n",
              "    </tr>\n",
              "    <tr>\n",
              "      <th>536</th>\n",
              "      <td>cuales son los pasos para enviar mis factura a...</td>\n",
              "      <td>RIC | SIR (Departamental | Network Fold)</td>\n",
              "      <td>es</td>\n",
              "    </tr>\n",
              "    <tr>\n",
              "      <th>537</th>\n",
              "      <td>mi usuario sap   está bloqueado</td>\n",
              "      <td>SAP</td>\n",
              "      <td>es</td>\n",
              "    </tr>\n",
              "    <tr>\n",
              "      <th>538</th>\n",
              "      <td>necesito desbloquear mi usuario sap</td>\n",
              "      <td>SAP</td>\n",
              "      <td>es</td>\n",
              "    </tr>\n",
              "    <tr>\n",
              "      <th>539</th>\n",
              "      <td>en una videollamada  cómo cambiar el fondo</td>\n",
              "      <td>Teams</td>\n",
              "      <td>es</td>\n",
              "    </tr>\n",
              "  </tbody>\n",
              "</table>\n",
              "<p>475 rows × 3 columns</p>\n",
              "</div>"
            ],
            "text/plain": [
              "                                                 Query  ... Language\n",
              "0                           no tengo datos en el móvil  ...       es\n",
              "1                  como se agrega un buzon de outlook   ...       es\n",
              "4         hi  can you reset my password in sap syst...  ...       en\n",
              "5                              install stream on teams  ...       en\n",
              "6           cuesta sanz  david   necesito usar el a...  ...       es\n",
              "..                                                 ...  ...      ...\n",
              "535  una consulta tengo un equipo celular atex que ...  ...       es\n",
              "536  cuales son los pasos para enviar mis factura a...  ...       es\n",
              "537                    mi usuario sap   está bloqueado  ...       es\n",
              "538                necesito desbloquear mi usuario sap  ...       es\n",
              "539        en una videollamada  cómo cambiar el fondo   ...       es\n",
              "\n",
              "[475 rows x 3 columns]"
            ]
          },
          "metadata": {
            "tags": []
          },
          "execution_count": 25
        }
      ]
    },
    {
      "cell_type": "code",
      "metadata": {
        "colab": {
          "base_uri": "https://localhost:8080/"
        },
        "id": "dvfo8Euuwmst",
        "outputId": "556bb5d5-5229-4996-8ad6-80c091217b23"
      },
      "source": [
        "df.kb_label.value_counts()"
      ],
      "execution_count": null,
      "outputs": [
        {
          "output_type": "execute_result",
          "data": {
            "text/plain": [
              "Correo Electrónico | Email                  66\n",
              "Contraseña  | Password                      63\n",
              "UNITY                                       34\n",
              "VPN                                         33\n",
              "SAP                                         28\n",
              "Móvil / Mobile                              24\n",
              "Adobe Acrobat                               17\n",
              "PingID                                      16\n",
              "WiFi                                        14\n",
              "SAP Fiori & Registro de Jornada             14\n",
              "Teams                                       14\n",
              "CITRIX                                      13\n",
              "RIC | SIR (Departamental | Network Fold)    12\n",
              "Botón Admin / Admin button                  12\n",
              "Equipamiento TI | IT Equipment              12\n",
              "Microsoft Aplicaciones | Apps               10\n",
              "Sharepoint                                   9\n",
              "Office                                       9\n",
              "OneDrive                                     8\n",
              "MyMAR                                        8\n",
              "Firma Digital | Digital Signature            7\n",
              "Skype                                        6\n",
              "PowerBI                                      6\n",
              "Internet Navegadores | Browsers              5\n",
              "Software Center                              5\n",
              "Windows SO | OS                              3\n",
              "News                                         3\n",
              "Visio                                        3\n",
              "SEP Mobile                                   3\n",
              "Intelligent HUB                              3\n",
              "Apps móviles | Mobile Apps                   3\n",
              "Portal del Proveedor                         2\n",
              "Zoom                                         2\n",
              "Synergi                                      2\n",
              "Seguridad | Security                         2\n",
              "Conexiones | Connections                     1\n",
              "IT                                           1\n",
              "IHS                                          1\n",
              "EES Portal CRED                              1\n",
              "Name: kb_label, dtype: int64"
            ]
          },
          "metadata": {
            "tags": []
          },
          "execution_count": 26
        }
      ]
    },
    {
      "cell_type": "code",
      "metadata": {
        "id": "tiT-SZQa0P58"
      },
      "source": [
        ""
      ],
      "execution_count": null,
      "outputs": []
    },
    {
      "cell_type": "markdown",
      "metadata": {
        "id": "eQAFYU_y0QSg"
      },
      "source": [
        "# Dividimos en Español e Inglés"
      ]
    },
    {
      "cell_type": "code",
      "metadata": {
        "colab": {
          "base_uri": "https://localhost:8080/",
          "height": 391
        },
        "id": "ejAYhBQ9wmsu",
        "outputId": "b096bb13-51e5-42a3-cca0-285570adb059"
      },
      "source": [
        "import numpy as np\n",
        "final_EN = df[df['Language'] == 'en']\n",
        "final_ES = df[df['Language'] == 'es']\n",
        "final_ES"
      ],
      "execution_count": null,
      "outputs": [
        {
          "output_type": "execute_result",
          "data": {
            "text/html": [
              "<div>\n",
              "<style scoped>\n",
              "    .dataframe tbody tr th:only-of-type {\n",
              "        vertical-align: middle;\n",
              "    }\n",
              "\n",
              "    .dataframe tbody tr th {\n",
              "        vertical-align: top;\n",
              "    }\n",
              "\n",
              "    .dataframe thead th {\n",
              "        text-align: right;\n",
              "    }\n",
              "</style>\n",
              "<table border=\"1\" class=\"dataframe\">\n",
              "  <thead>\n",
              "    <tr style=\"text-align: right;\">\n",
              "      <th></th>\n",
              "      <th>Query</th>\n",
              "      <th>kb_label</th>\n",
              "      <th>Language</th>\n",
              "    </tr>\n",
              "  </thead>\n",
              "  <tbody>\n",
              "    <tr>\n",
              "      <th>0</th>\n",
              "      <td>no tengo datos en el móvil</td>\n",
              "      <td>Móvil / Mobile</td>\n",
              "      <td>es</td>\n",
              "    </tr>\n",
              "    <tr>\n",
              "      <th>1</th>\n",
              "      <td>como se agrega un buzon de outlook</td>\n",
              "      <td>Correo Electrónico | Email</td>\n",
              "      <td>es</td>\n",
              "    </tr>\n",
              "    <tr>\n",
              "      <th>6</th>\n",
              "      <td>cuesta sanz  david   necesito usar el a...</td>\n",
              "      <td>OneDrive</td>\n",
              "      <td>es</td>\n",
              "    </tr>\n",
              "    <tr>\n",
              "      <th>7</th>\n",
              "      <td>hola  tengo problemas de conexión a vpn</td>\n",
              "      <td>VPN</td>\n",
              "      <td>es</td>\n",
              "    </tr>\n",
              "    <tr>\n",
              "      <th>8</th>\n",
              "      <td>se ha instalado una actualización en el smartp...</td>\n",
              "      <td>SEP Mobile</td>\n",
              "      <td>es</td>\n",
              "    </tr>\n",
              "    <tr>\n",
              "      <th>...</th>\n",
              "      <td>...</td>\n",
              "      <td>...</td>\n",
              "      <td>...</td>\n",
              "    </tr>\n",
              "    <tr>\n",
              "      <th>535</th>\n",
              "      <td>una consulta tengo un equipo celular atex que ...</td>\n",
              "      <td>WiFi</td>\n",
              "      <td>es</td>\n",
              "    </tr>\n",
              "    <tr>\n",
              "      <th>536</th>\n",
              "      <td>cuales son los pasos para enviar mis factura a...</td>\n",
              "      <td>RIC | SIR (Departamental | Network Fold)</td>\n",
              "      <td>es</td>\n",
              "    </tr>\n",
              "    <tr>\n",
              "      <th>537</th>\n",
              "      <td>mi usuario sap   está bloqueado</td>\n",
              "      <td>SAP</td>\n",
              "      <td>es</td>\n",
              "    </tr>\n",
              "    <tr>\n",
              "      <th>538</th>\n",
              "      <td>necesito desbloquear mi usuario sap</td>\n",
              "      <td>SAP</td>\n",
              "      <td>es</td>\n",
              "    </tr>\n",
              "    <tr>\n",
              "      <th>539</th>\n",
              "      <td>en una videollamada  cómo cambiar el fondo</td>\n",
              "      <td>Teams</td>\n",
              "      <td>es</td>\n",
              "    </tr>\n",
              "  </tbody>\n",
              "</table>\n",
              "<p>430 rows × 3 columns</p>\n",
              "</div>"
            ],
            "text/plain": [
              "                                                 Query  ... Language\n",
              "0                           no tengo datos en el móvil  ...       es\n",
              "1                  como se agrega un buzon de outlook   ...       es\n",
              "6           cuesta sanz  david   necesito usar el a...  ...       es\n",
              "7             hola  tengo problemas de conexión a vpn   ...       es\n",
              "8    se ha instalado una actualización en el smartp...  ...       es\n",
              "..                                                 ...  ...      ...\n",
              "535  una consulta tengo un equipo celular atex que ...  ...       es\n",
              "536  cuales son los pasos para enviar mis factura a...  ...       es\n",
              "537                    mi usuario sap   está bloqueado  ...       es\n",
              "538                necesito desbloquear mi usuario sap  ...       es\n",
              "539        en una videollamada  cómo cambiar el fondo   ...       es\n",
              "\n",
              "[430 rows x 3 columns]"
            ]
          },
          "metadata": {
            "tags": []
          },
          "execution_count": 27
        }
      ]
    },
    {
      "cell_type": "markdown",
      "metadata": {
        "id": "7Eiwaam-0Vfv"
      },
      "source": [
        "## Eliminamos las categorías que tengan menos de 3 ejemplos \n",
        "- Para poder hacer una division del dato estratificada "
      ]
    },
    {
      "cell_type": "code",
      "metadata": {
        "colab": {
          "base_uri": "https://localhost:8080/"
        },
        "id": "Yg6kvh6Wwmsu",
        "outputId": "1f6c1477-62f8-4698-9ea2-9ac12b6e6f58"
      },
      "source": [
        "final_ES.kb_label.value_counts()"
      ],
      "execution_count": null,
      "outputs": [
        {
          "output_type": "execute_result",
          "data": {
            "text/plain": [
              "Contraseña  | Password                      60\n",
              "Correo Electrónico | Email                  59\n",
              "UNITY                                       31\n",
              "VPN                                         27\n",
              "Móvil / Mobile                              24\n",
              "SAP                                         23\n",
              "PingID                                      15\n",
              "Adobe Acrobat                               14\n",
              "SAP Fiori & Registro de Jornada             14\n",
              "WiFi                                        13\n",
              "Teams                                       12\n",
              "Equipamiento TI | IT Equipment              12\n",
              "Botón Admin / Admin button                  11\n",
              "CITRIX                                      11\n",
              "RIC | SIR (Departamental | Network Fold)    10\n",
              "Microsoft Aplicaciones | Apps               10\n",
              "Office                                       9\n",
              "OneDrive                                     8\n",
              "Firma Digital | Digital Signature            7\n",
              "MyMAR                                        7\n",
              "Sharepoint                                   6\n",
              "PowerBI                                      6\n",
              "Internet Navegadores | Browsers              5\n",
              "Skype                                        5\n",
              "Software Center                              4\n",
              "News                                         3\n",
              "Apps móviles | Mobile Apps                   3\n",
              "SEP Mobile                                   3\n",
              "Windows SO | OS                              3\n",
              "Visio                                        3\n",
              "Portal del Proveedor                         2\n",
              "Intelligent HUB                              2\n",
              "Seguridad | Security                         2\n",
              "IHS                                          1\n",
              "IT                                           1\n",
              "EES Portal CRED                              1\n",
              "Synergi                                      1\n",
              "Conexiones | Connections                     1\n",
              "Zoom                                         1\n",
              "Name: kb_label, dtype: int64"
            ]
          },
          "metadata": {
            "tags": []
          },
          "execution_count": 28
        }
      ]
    },
    {
      "cell_type": "code",
      "metadata": {
        "id": "g6HPS372wmsu"
      },
      "source": [
        "#Eliminamos categorias con menos de tres ejemplos \n",
        "final_ES = final_ES[final_ES['kb_label'] != 'Intelligent HUB' ]\n",
        "final_ES = final_ES[final_ES['kb_label'] != 'Seguridad | Security']       \n",
        "final_ES = final_ES[final_ES['kb_label'] != 'Portal del Proveedor']\n",
        "final_ES = final_ES[final_ES['kb_label'] != 'IT' ]\n",
        "final_ES = final_ES[final_ES['kb_label'] != 'Synergi' ]\n",
        "final_ES = final_ES[final_ES['kb_label'] != 'IHS']\n",
        "final_ES = final_ES[final_ES['kb_label'] != 'Zoom' ]\n",
        "final_ES = final_ES[final_ES['kb_label'] != 'EES Portal CRED' ]\n",
        "final_ES = final_ES[final_ES['kb_label'] != 'Conexiones | Connections']"
      ],
      "execution_count": null,
      "outputs": []
    },
    {
      "cell_type": "code",
      "metadata": {
        "colab": {
          "base_uri": "https://localhost:8080/"
        },
        "id": "-hLYM1qSwmsu",
        "outputId": "c14d0aca-9e01-41dc-b97d-8d01a9886261"
      },
      "source": [
        "final_ES.kb_label.value_counts()"
      ],
      "execution_count": null,
      "outputs": [
        {
          "output_type": "execute_result",
          "data": {
            "text/plain": [
              "Contraseña  | Password                      60\n",
              "Correo Electrónico | Email                  59\n",
              "UNITY                                       31\n",
              "VPN                                         27\n",
              "Móvil / Mobile                              24\n",
              "SAP                                         23\n",
              "PingID                                      15\n",
              "Adobe Acrobat                               14\n",
              "SAP Fiori & Registro de Jornada             14\n",
              "WiFi                                        13\n",
              "Teams                                       12\n",
              "Equipamiento TI | IT Equipment              12\n",
              "Botón Admin / Admin button                  11\n",
              "CITRIX                                      11\n",
              "RIC | SIR (Departamental | Network Fold)    10\n",
              "Microsoft Aplicaciones | Apps               10\n",
              "Office                                       9\n",
              "OneDrive                                     8\n",
              "MyMAR                                        7\n",
              "Firma Digital | Digital Signature            7\n",
              "PowerBI                                      6\n",
              "Sharepoint                                   6\n",
              "Internet Navegadores | Browsers              5\n",
              "Skype                                        5\n",
              "Software Center                              4\n",
              "SEP Mobile                                   3\n",
              "Visio                                        3\n",
              "News                                         3\n",
              "Apps móviles | Mobile Apps                   3\n",
              "Windows SO | OS                              3\n",
              "Name: kb_label, dtype: int64"
            ]
          },
          "metadata": {
            "tags": []
          },
          "execution_count": 30
        }
      ]
    },
    {
      "cell_type": "code",
      "metadata": {
        "colab": {
          "base_uri": "https://localhost:8080/"
        },
        "id": "fE9aKNbQwmsu",
        "outputId": "4423a86a-1e80-4eb5-9549-7b3d00f3f664"
      },
      "source": [
        "final_EN.kb_label.value_counts()"
      ],
      "execution_count": null,
      "outputs": [
        {
          "output_type": "execute_result",
          "data": {
            "text/plain": [
              "Correo Electrónico | Email                  7\n",
              "VPN                                         6\n",
              "SAP                                         5\n",
              "UNITY                                       3\n",
              "Adobe Acrobat                               3\n",
              "Sharepoint                                  3\n",
              "Contraseña  | Password                      3\n",
              "CITRIX                                      2\n",
              "RIC | SIR (Departamental | Network Fold)    2\n",
              "Teams                                       2\n",
              "Software Center                             1\n",
              "MyMAR                                       1\n",
              "WiFi                                        1\n",
              "Intelligent HUB                             1\n",
              "Zoom                                        1\n",
              "Botón Admin / Admin button                  1\n",
              "Synergi                                     1\n",
              "PingID                                      1\n",
              "Skype                                       1\n",
              "Name: kb_label, dtype: int64"
            ]
          },
          "metadata": {
            "tags": []
          },
          "execution_count": 31
        }
      ]
    },
    {
      "cell_type": "code",
      "metadata": {
        "id": "yZISnuBHwmsv"
      },
      "source": [
        "#Eliminamos categorias con menos de tres ejemplos \n",
        "final_EN = final_EN[final_EN['kb_label'] != 'Intelligent HUB' ]\n",
        "final_EN = final_EN[final_EN['kb_label'] != 'CITRIX']   \n",
        "final_EN = final_EN[final_EN['kb_label'] != 'RIC | SIR (Departamental | Network Fold)']\n",
        "final_EN = final_EN[final_EN['kb_label'] != 'Zoom' ]\n",
        "final_EN = final_EN[final_EN['kb_label'] != 'Synergi' ]\n",
        "final_EN = final_EN[final_EN['kb_label'] != 'Teams' ]\n",
        "final_EN = final_EN[final_EN['kb_label'] != 'Botón Admin / Admin button' ]\n",
        "final_EN = final_EN[final_EN['kb_label'] != 'MyMAR' ]\n",
        "final_EN = final_EN[final_EN['kb_label'] != 'PingID' ]\n",
        "final_EN = final_EN[final_EN['kb_label'] != 'Skype' ]\n",
        "final_EN = final_EN[final_EN['kb_label'] != 'Software Center' ]\n",
        "final_EN = final_EN[final_EN['kb_label'] != 'WiFi' ]"
      ],
      "execution_count": null,
      "outputs": []
    },
    {
      "cell_type": "code",
      "metadata": {
        "colab": {
          "base_uri": "https://localhost:8080/"
        },
        "id": "WoIqHxVgwmsv",
        "outputId": "91278267-f6b4-4e1f-ddde-57d562a3b377"
      },
      "source": [
        "final_EN.kb_label.value_counts()"
      ],
      "execution_count": null,
      "outputs": [
        {
          "output_type": "execute_result",
          "data": {
            "text/plain": [
              "Correo Electrónico | Email    7\n",
              "VPN                           6\n",
              "SAP                           5\n",
              "Adobe Acrobat                 3\n",
              "Contraseña  | Password        3\n",
              "UNITY                         3\n",
              "Sharepoint                    3\n",
              "Name: kb_label, dtype: int64"
            ]
          },
          "metadata": {
            "tags": []
          },
          "execution_count": 33
        }
      ]
    },
    {
      "cell_type": "code",
      "metadata": {
        "colab": {
          "base_uri": "https://localhost:8080/",
          "height": 705
        },
        "id": "7_FynHpewmsv",
        "outputId": "94dd1b3f-f38f-4b43-9798-71e0f8b38ac1"
      },
      "source": [
        "\n",
        "\n",
        "plt.figure(figsize=(15,6)) \n",
        "sns.set(style='whitegrid', font_scale=1.2)\n",
        "sns.set_palette(sns.color_palette('Purples'))\n",
        "g = sns.countplot(data=final_ES,x='kb_label')\n",
        "plt.xticks(rotation=90)"
      ],
      "execution_count": null,
      "outputs": [
        {
          "output_type": "execute_result",
          "data": {
            "text/plain": [
              "(array([ 0,  1,  2,  3,  4,  5,  6,  7,  8,  9, 10, 11, 12, 13, 14, 15, 16,\n",
              "        17, 18, 19, 20, 21, 22, 23, 24, 25, 26, 27, 28, 29]),\n",
              " <a list of 30 Text major ticklabel objects>)"
            ]
          },
          "metadata": {
            "tags": []
          },
          "execution_count": 36
        },
        {
          "output_type": "display_data",
          "data": {
            "image/png": "[encoded data removed]",
            "text/plain": [
              "<Figure size 1080x432 with 1 Axes>"
            ]
          },
          "metadata": {
            "tags": []
          }
        }
      ]
    },
    {
      "cell_type": "code",
      "metadata": {
        "colab": {
          "base_uri": "https://localhost:8080/",
          "height": 410
        },
        "id": "TwgvwDbFy2c9",
        "outputId": "d23ffae0-61b2-494c-b86d-605dd18773bb"
      },
      "source": [
        "plt.figure(figsize=(5,3)) \n",
        "g = sns.countplot(data=final_EN,x='kb_label')\n",
        "plt.xticks(rotation=90)"
      ],
      "execution_count": null,
      "outputs": [
        {
          "output_type": "execute_result",
          "data": {
            "text/plain": [
              "(array([0, 1, 2, 3, 4, 5, 6]), <a list of 7 Text major ticklabel objects>)"
            ]
          },
          "metadata": {
            "tags": []
          },
          "execution_count": 38
        },
        {
          "output_type": "display_data",
          "data": {
            "image/png": "[encoded data removed]",
            "text/plain": [
              "<Figure size 360x216 with 1 Axes>"
            ]
          },
          "metadata": {
            "tags": []
          }
        }
      ]
    },
    {
      "cell_type": "markdown",
      "metadata": {
        "id": "qdS1EF5E0GtT"
      },
      "source": [
        "# Codificamos de forma única las categorias"
      ]
    },
    {
      "cell_type": "code",
      "metadata": {
        "id": "3u31TtVcwmsv"
      },
      "source": [
        "import itertools\n",
        "class LabelEncoder(object):\n",
        "    \"\"\"Label encoder for tag labels.\"\"\"\n",
        "    def __init__(self, class_to_index={}):\n",
        "        self.class_to_index = class_to_index\n",
        "        self.index_to_class = {v: k for k, v in self.class_to_index.items()}\n",
        "        self.classes = list(self.class_to_index.keys())\n",
        "\n",
        "    def __len__(self):\n",
        "        return len(self.class_to_index)\n",
        "\n",
        "    def __str__(self):\n",
        "        return f\"<LabelEncoder(num_classes={len(self)})>\"\n",
        "\n",
        "    def fit(self, y):\n",
        "        classes = np.unique(final_ES['kb_label'])\n",
        "        for i, class_ in enumerate(classes):\n",
        "            self.class_to_index[class_] = i\n",
        "        self.index_to_class = {v: k for k, v in self.class_to_index.items()}\n",
        "        self.classes = list(self.class_to_index.keys())\n",
        "        return self\n",
        "\n",
        "    def encode(self, y):\n",
        "        encoded = np.zeros((len(y)), dtype=int)\n",
        "        for i, item in enumerate(y):\n",
        "            encoded[i] = self.class_to_index[item]\n",
        "        return encoded\n",
        "\n",
        "    def decode(self, y):\n",
        "        classes = []\n",
        "        for i, item in enumerate(y):\n",
        "            classes.append(self.index_to_class[item])\n",
        "        return classes\n",
        "\n",
        "    def save(self, fp):\n",
        "        with open(fp, 'w') as fp:\n",
        "            contents = {'class_to_index': self.class_to_index}\n",
        "            json.dump(contents, fp, indent=4, sort_keys=False)\n",
        "\n",
        "    @classmethod\n",
        "    def load(cls, fp):\n",
        "        with open(fp, 'r') as fp:\n",
        "            kwargs = json.load(fp=fp)\n",
        "        return cls(**kwargs)"
      ],
      "execution_count": null,
      "outputs": []
    },
    {
      "cell_type": "code",
      "metadata": {
        "colab": {
          "base_uri": "https://localhost:8080/"
        },
        "id": "Jim6L-Bnwmsx",
        "outputId": "603112b6-9bfe-4655-8928-17c1ec1a8e0a"
      },
      "source": [
        "# Encode\n",
        "label_encoder = LabelEncoder()\n",
        "label_encoder.fit(final_ES['kb_label'])\n",
        "NUM_CLASSES = len(label_encoder)\n",
        "label_encoder.class_to_index"
      ],
      "execution_count": null,
      "outputs": [
        {
          "output_type": "execute_result",
          "data": {
            "text/plain": [
              "{'Adobe Acrobat': 0,\n",
              " 'Apps móviles | Mobile Apps': 1,\n",
              " 'Botón Admin / Admin button': 2,\n",
              " 'CITRIX': 3,\n",
              " 'Contraseña  | Password': 4,\n",
              " 'Correo Electrónico | Email': 5,\n",
              " 'Equipamiento TI | IT Equipment': 6,\n",
              " 'Firma Digital | Digital Signature': 7,\n",
              " 'Internet Navegadores | Browsers': 8,\n",
              " 'Microsoft Aplicaciones | Apps': 9,\n",
              " 'MyMAR': 10,\n",
              " 'Móvil / Mobile': 11,\n",
              " 'News': 12,\n",
              " 'Office': 13,\n",
              " 'OneDrive': 14,\n",
              " 'PingID': 15,\n",
              " 'PowerBI': 16,\n",
              " 'RIC | SIR (Departamental | Network Fold)': 17,\n",
              " 'SAP': 18,\n",
              " 'SAP Fiori & Registro de Jornada': 19,\n",
              " 'SEP Mobile': 20,\n",
              " 'Sharepoint': 21,\n",
              " 'Skype': 22,\n",
              " 'Software Center': 23,\n",
              " 'Teams': 24,\n",
              " 'UNITY': 25,\n",
              " 'VPN': 26,\n",
              " 'Visio': 27,\n",
              " 'WiFi': 28,\n",
              " 'Windows SO | OS': 29}"
            ]
          },
          "metadata": {
            "tags": []
          },
          "execution_count": 46
        }
      ]
    },
    {
      "cell_type": "code",
      "metadata": {
        "colab": {
          "base_uri": "https://localhost:8080/",
          "height": 191
        },
        "id": "mFAL6Sj3wmsx",
        "outputId": "d5faf078-6a2d-4994-b991-73b39c51a7db"
      },
      "source": [
        "final_ES['category_cod']= label_encoder.encode(final_ES['kb_label'])\n",
        "final_ES.head()"
      ],
      "execution_count": null,
      "outputs": [
        {
          "output_type": "execute_result",
          "data": {
            "text/html": [
              "<div>\n",
              "<style scoped>\n",
              "    .dataframe tbody tr th:only-of-type {\n",
              "        vertical-align: middle;\n",
              "    }\n",
              "\n",
              "    .dataframe tbody tr th {\n",
              "        vertical-align: top;\n",
              "    }\n",
              "\n",
              "    .dataframe thead th {\n",
              "        text-align: right;\n",
              "    }\n",
              "</style>\n",
              "<table border=\"1\" class=\"dataframe\">\n",
              "  <thead>\n",
              "    <tr style=\"text-align: right;\">\n",
              "      <th></th>\n",
              "      <th>Query</th>\n",
              "      <th>kb_label</th>\n",
              "      <th>Language</th>\n",
              "      <th>category_cod</th>\n",
              "    </tr>\n",
              "  </thead>\n",
              "  <tbody>\n",
              "    <tr>\n",
              "      <th>0</th>\n",
              "      <td>no tengo datos en el móvil</td>\n",
              "      <td>Móvil / Mobile</td>\n",
              "      <td>es</td>\n",
              "      <td>11</td>\n",
              "    </tr>\n",
              "    <tr>\n",
              "      <th>1</th>\n",
              "      <td>como se agrega un buzon de outlook</td>\n",
              "      <td>Correo Electrónico | Email</td>\n",
              "      <td>es</td>\n",
              "      <td>5</td>\n",
              "    </tr>\n",
              "    <tr>\n",
              "      <th>6</th>\n",
              "      <td>cuesta sanz  david   necesito usar el a...</td>\n",
              "      <td>OneDrive</td>\n",
              "      <td>es</td>\n",
              "      <td>14</td>\n",
              "    </tr>\n",
              "    <tr>\n",
              "      <th>7</th>\n",
              "      <td>hola  tengo problemas de conexión a vpn</td>\n",
              "      <td>VPN</td>\n",
              "      <td>es</td>\n",
              "      <td>26</td>\n",
              "    </tr>\n",
              "    <tr>\n",
              "      <th>8</th>\n",
              "      <td>se ha instalado una actualización en el smartp...</td>\n",
              "      <td>SEP Mobile</td>\n",
              "      <td>es</td>\n",
              "      <td>20</td>\n",
              "    </tr>\n",
              "  </tbody>\n",
              "</table>\n",
              "</div>"
            ],
            "text/plain": [
              "                                               Query  ... category_cod\n",
              "0                         no tengo datos en el móvil  ...           11\n",
              "1                como se agrega un buzon de outlook   ...            5\n",
              "6         cuesta sanz  david   necesito usar el a...  ...           14\n",
              "7           hola  tengo problemas de conexión a vpn   ...           26\n",
              "8  se ha instalado una actualización en el smartp...  ...           20\n",
              "\n",
              "[5 rows x 4 columns]"
            ]
          },
          "metadata": {
            "tags": []
          },
          "execution_count": 47
        }
      ]
    },
    {
      "cell_type": "code",
      "metadata": {
        "colab": {
          "base_uri": "https://localhost:8080/",
          "height": 191
        },
        "id": "hvd5MBUqwmsx",
        "outputId": "d11bea92-7234-42c2-c959-4411d1299f30"
      },
      "source": [
        "final_EN['category_cod']= label_encoder.encode(final_EN['kb_label'])\n",
        "final_EN.head()"
      ],
      "execution_count": null,
      "outputs": [
        {
          "output_type": "execute_result",
          "data": {
            "text/html": [
              "<div>\n",
              "<style scoped>\n",
              "    .dataframe tbody tr th:only-of-type {\n",
              "        vertical-align: middle;\n",
              "    }\n",
              "\n",
              "    .dataframe tbody tr th {\n",
              "        vertical-align: top;\n",
              "    }\n",
              "\n",
              "    .dataframe thead th {\n",
              "        text-align: right;\n",
              "    }\n",
              "</style>\n",
              "<table border=\"1\" class=\"dataframe\">\n",
              "  <thead>\n",
              "    <tr style=\"text-align: right;\">\n",
              "      <th></th>\n",
              "      <th>Query</th>\n",
              "      <th>kb_label</th>\n",
              "      <th>Language</th>\n",
              "      <th>category_cod</th>\n",
              "    </tr>\n",
              "  </thead>\n",
              "  <tbody>\n",
              "    <tr>\n",
              "      <th>4</th>\n",
              "      <td>hi  can you reset my password in sap syst...</td>\n",
              "      <td>SAP</td>\n",
              "      <td>en</td>\n",
              "      <td>18</td>\n",
              "    </tr>\n",
              "    <tr>\n",
              "      <th>24</th>\n",
              "      <td>can you help to expedite it   we are trying to...</td>\n",
              "      <td>UNITY</td>\n",
              "      <td>en</td>\n",
              "      <td>25</td>\n",
              "    </tr>\n",
              "    <tr>\n",
              "      <th>25</th>\n",
              "      <td>how do i setup a new android phone</td>\n",
              "      <td>Correo Electrónico | Email</td>\n",
              "      <td>en</td>\n",
              "      <td>5</td>\n",
              "    </tr>\n",
              "    <tr>\n",
              "      <th>40</th>\n",
              "      <td>i need a password sent to dustin mcmann so i c...</td>\n",
              "      <td>Contraseña  | Password</td>\n",
              "      <td>en</td>\n",
              "      <td>4</td>\n",
              "    </tr>\n",
              "    <tr>\n",
              "      <th>41</th>\n",
              "      <td>how to create a new user in repsol</td>\n",
              "      <td>UNITY</td>\n",
              "      <td>en</td>\n",
              "      <td>25</td>\n",
              "    </tr>\n",
              "  </tbody>\n",
              "</table>\n",
              "</div>"
            ],
            "text/plain": [
              "                                                Query  ... category_cod\n",
              "4        hi  can you reset my password in sap syst...  ...           18\n",
              "24  can you help to expedite it   we are trying to...  ...           25\n",
              "25                 how do i setup a new android phone  ...            5\n",
              "40  i need a password sent to dustin mcmann so i c...  ...            4\n",
              "41                how to create a new user in repsol   ...           25\n",
              "\n",
              "[5 rows x 4 columns]"
            ]
          },
          "metadata": {
            "tags": []
          },
          "execution_count": 48
        }
      ]
    },
    {
      "cell_type": "markdown",
      "metadata": {
        "id": "jUHJCLIzz6CS"
      },
      "source": [
        "# Dividimos Train, Valid, Test \n",
        "\n",
        "- Haciendo estratificación para que haya los mismos porcentajes de todas las clases en los 3 grupos"
      ]
    },
    {
      "cell_type": "code",
      "metadata": {
        "colab": {
          "base_uri": "https://localhost:8080/"
        },
        "id": "AlgmW9l7wmsx",
        "outputId": "34a8b3d2-9dcf-43a7-bea6-f513a4f11fe4"
      },
      "source": [
        "# Train valid test stratified !!!!\n",
        "final_ES.kb_label.value_counts()"
      ],
      "execution_count": null,
      "outputs": [
        {
          "output_type": "execute_result",
          "data": {
            "text/plain": [
              "Contraseña  | Password                      60\n",
              "Correo Electrónico | Email                  59\n",
              "UNITY                                       31\n",
              "VPN                                         27\n",
              "Móvil / Mobile                              24\n",
              "SAP                                         23\n",
              "PingID                                      15\n",
              "Adobe Acrobat                               14\n",
              "SAP Fiori & Registro de Jornada             14\n",
              "WiFi                                        13\n",
              "Teams                                       12\n",
              "Equipamiento TI | IT Equipment              12\n",
              "CITRIX                                      11\n",
              "Botón Admin / Admin button                  11\n",
              "RIC | SIR (Departamental | Network Fold)    10\n",
              "Microsoft Aplicaciones | Apps               10\n",
              "Office                                       9\n",
              "OneDrive                                     8\n",
              "Firma Digital | Digital Signature            7\n",
              "MyMAR                                        7\n",
              "Sharepoint                                   6\n",
              "PowerBI                                      6\n",
              "Internet Navegadores | Browsers              5\n",
              "Skype                                        5\n",
              "Software Center                              4\n",
              "Windows SO | OS                              3\n",
              "SEP Mobile                                   3\n",
              "News                                         3\n",
              "Visio                                        3\n",
              "Apps móviles | Mobile Apps                   3\n",
              "Name: kb_label, dtype: int64"
            ]
          },
          "metadata": {
            "tags": []
          },
          "execution_count": 49
        }
      ]
    },
    {
      "cell_type": "code",
      "metadata": {
        "id": "WBvKvqUSwmsy"
      },
      "source": [
        "final_ES = final_ES.reset_index(drop = True)"
      ],
      "execution_count": null,
      "outputs": []
    },
    {
      "cell_type": "code",
      "metadata": {
        "colab": {
          "base_uri": "https://localhost:8080/",
          "height": 436
        },
        "id": "Wjp2es1Nwmsy",
        "outputId": "a5e90c5e-e814-4fae-8ae6-a886542a51a5"
      },
      "source": [
        "final_ES.groupby(['kb_label','category_cod','Query']).sum()"
      ],
      "execution_count": null,
      "outputs": [
        {
          "output_type": "execute_result",
          "data": {
            "text/html": [
              "<div>\n",
              "<style scoped>\n",
              "    .dataframe tbody tr th:only-of-type {\n",
              "        vertical-align: middle;\n",
              "    }\n",
              "\n",
              "    .dataframe tbody tr th {\n",
              "        vertical-align: top;\n",
              "    }\n",
              "\n",
              "    .dataframe thead th {\n",
              "        text-align: right;\n",
              "    }\n",
              "</style>\n",
              "<table border=\"1\" class=\"dataframe\">\n",
              "  <thead>\n",
              "    <tr style=\"text-align: right;\">\n",
              "      <th></th>\n",
              "      <th></th>\n",
              "      <th></th>\n",
              "      <th>Language</th>\n",
              "    </tr>\n",
              "    <tr>\n",
              "      <th>kb_label</th>\n",
              "      <th>category_cod</th>\n",
              "      <th>Query</th>\n",
              "      <th></th>\n",
              "    </tr>\n",
              "  </thead>\n",
              "  <tbody>\n",
              "    <tr>\n",
              "      <th rowspan=\"5\" valign=\"top\">Adobe Acrobat</th>\n",
              "      <th rowspan=\"5\" valign=\"top\">0</th>\n",
              "      <th>como iniciar sesion en adobe acrobat pro</th>\n",
              "      <td>es</td>\n",
              "    </tr>\n",
              "    <tr>\n",
              "      <th>necesitaría que se incluya en el centro de software el adobe acrobat pro dc  para el cual he pedido acceso para poder descargarmelo</th>\n",
              "      <td>es</td>\n",
              "    </tr>\n",
              "    <tr>\n",
              "      <th>cuáles son las credenciales para entrar en adobe acrobat dc</th>\n",
              "      <td>es</td>\n",
              "    </tr>\n",
              "    <tr>\n",
              "      <th>tienes ya acceso   adobe acrobat pro</th>\n",
              "      <td>es</td>\n",
              "    </tr>\n",
              "    <tr>\n",
              "      <th>he realizado una petición para instalación de adobe acrobat pro dc y me consta como aceptada la solicitud  pero no aparece el programa en el centro de software</th>\n",
              "      <td>es</td>\n",
              "    </tr>\n",
              "    <tr>\n",
              "      <th>...</th>\n",
              "      <th>...</th>\n",
              "      <th>...</th>\n",
              "      <td>...</td>\n",
              "    </tr>\n",
              "    <tr>\n",
              "      <th rowspan=\"2\" valign=\"top\">WiFi</th>\n",
              "      <th rowspan=\"2\" valign=\"top\">28</th>\n",
              "      <th>una consulta tengo un equipo celular atex que no tiene acceso a internet</th>\n",
              "      <td>es</td>\n",
              "    </tr>\n",
              "    <tr>\n",
              "      <th>wifi movil</th>\n",
              "      <td>es</td>\n",
              "    </tr>\n",
              "    <tr>\n",
              "      <th rowspan=\"3\" valign=\"top\">Windows SO | OS</th>\n",
              "      <th rowspan=\"3\" valign=\"top\">29</th>\n",
              "      <th>buenos días  me han dicho que para poder usar el  files on demand  de onedrive debo actualizar la versión de windows  de mi portátil  la necesidad surge del poco espacio en disco al necesitar tener de forma accesile el mapa de los archivos de onedrive</th>\n",
              "      <td>es</td>\n",
              "    </tr>\n",
              "    <tr>\n",
              "      <th>migracion windows</th>\n",
              "      <td>es</td>\n",
              "    </tr>\n",
              "    <tr>\n",
              "      <th>quiero cambiar el windows  por el windows</th>\n",
              "      <td>es</td>\n",
              "    </tr>\n",
              "  </tbody>\n",
              "</table>\n",
              "<p>416 rows × 1 columns</p>\n",
              "</div>"
            ],
            "text/plain": [
              "                                                                                Language\n",
              "kb_label        category_cod Query                                                      \n",
              "Adobe Acrobat   0                     como iniciar sesion en adobe acrobat p...       es\n",
              "                               necesitaría que se incluya en el centro de so...       es\n",
              "                              cuáles son las credenciales para entrar en ado...       es\n",
              "                              tienes ya acceso   adobe acrobat pro                    es\n",
              "                             he realizado una petición para instalación de a...       es\n",
              "...                                                                                  ...\n",
              "WiFi            28           una consulta tengo un equipo celular atex que n...       es\n",
              "                             wifi movil                                               es\n",
              "Windows SO | OS 29                buenos días  me han dicho que para poder u...       es\n",
              "                             migracion windows                                        es\n",
              "                             quiero cambiar el windows  por el windows                es\n",
              "\n",
              "[416 rows x 1 columns]"
            ]
          },
          "metadata": {
            "tags": []
          },
          "execution_count": 51
        }
      ]
    },
    {
      "cell_type": "code",
      "metadata": {
        "colab": {
          "base_uri": "https://localhost:8080/",
          "height": 910
        },
        "id": "wsGQ3vUzwmsy",
        "outputId": "5b2486f6-4296-4a66-8a2e-80ea53b0b75b"
      },
      "source": [
        "final_EN.groupby(['kb_label','category_cod','Query']).sum()"
      ],
      "execution_count": null,
      "outputs": [
        {
          "output_type": "execute_result",
          "data": {
            "text/html": [
              "<div>\n",
              "<style scoped>\n",
              "    .dataframe tbody tr th:only-of-type {\n",
              "        vertical-align: middle;\n",
              "    }\n",
              "\n",
              "    .dataframe tbody tr th {\n",
              "        vertical-align: top;\n",
              "    }\n",
              "\n",
              "    .dataframe thead th {\n",
              "        text-align: right;\n",
              "    }\n",
              "</style>\n",
              "<table border=\"1\" class=\"dataframe\">\n",
              "  <thead>\n",
              "    <tr style=\"text-align: right;\">\n",
              "      <th></th>\n",
              "      <th></th>\n",
              "      <th></th>\n",
              "      <th>Language</th>\n",
              "    </tr>\n",
              "    <tr>\n",
              "      <th>kb_label</th>\n",
              "      <th>category_cod</th>\n",
              "      <th>Query</th>\n",
              "      <th></th>\n",
              "    </tr>\n",
              "  </thead>\n",
              "  <tbody>\n",
              "    <tr>\n",
              "      <th rowspan=\"3\" valign=\"top\">Adobe Acrobat</th>\n",
              "      <th rowspan=\"3\" valign=\"top\">0</th>\n",
              "      <th>hi  i have received a file with  rar extension from my vendor  can i have a program installed on my laptop for opening files with  rar format</th>\n",
              "      <td>en</td>\n",
              "    </tr>\n",
              "    <tr>\n",
              "      <th>how do i get access to adobe acrobat pro dc</th>\n",
              "      <td>en</td>\n",
              "    </tr>\n",
              "    <tr>\n",
              "      <th>how do i request a new application</th>\n",
              "      <td>en</td>\n",
              "    </tr>\n",
              "    <tr>\n",
              "      <th rowspan=\"3\" valign=\"top\">Contraseña  | Password</th>\n",
              "      <th rowspan=\"3\" valign=\"top\">4</th>\n",
              "      <th>how to change password using pingid</th>\n",
              "      <td>en</td>\n",
              "    </tr>\n",
              "    <tr>\n",
              "      <th>i need a password sent to dustin mcmann so i can get into big ip edge client</th>\n",
              "      <td>en</td>\n",
              "    </tr>\n",
              "    <tr>\n",
              "      <th>my account is closed</th>\n",
              "      <td>en</td>\n",
              "    </tr>\n",
              "    <tr>\n",
              "      <th rowspan=\"7\" valign=\"top\">Correo Electrónico | Email</th>\n",
              "      <th rowspan=\"7\" valign=\"top\">5</th>\n",
              "      <th>i want to add members to a distribution list</th>\n",
              "      <td>en</td>\n",
              "    </tr>\n",
              "    <tr>\n",
              "      <th>how do i setup a new android phone</th>\n",
              "      <td>en</td>\n",
              "    </tr>\n",
              "    <tr>\n",
              "      <th>how to change password using repsol mobile app</th>\n",
              "      <td>en</td>\n",
              "    </tr>\n",
              "    <tr>\n",
              "      <th>i have received an email i think is a spam email   what do i do</th>\n",
              "      <td>en</td>\n",
              "    </tr>\n",
              "    <tr>\n",
              "      <th>i want to add members to a distribution list</th>\n",
              "      <td>en</td>\n",
              "    </tr>\n",
              "    <tr>\n",
              "      <th>internet does not work  outlook does not work  repsolnet not working</th>\n",
              "      <td>en</td>\n",
              "    </tr>\n",
              "    <tr>\n",
              "      <th>need your help to provide bramntsv email access to my replacement</th>\n",
              "      <td>en</td>\n",
              "    </tr>\n",
              "    <tr>\n",
              "      <th rowspan=\"5\" valign=\"top\">SAP</th>\n",
              "      <th rowspan=\"5\" valign=\"top\">18</th>\n",
              "      <th>hi  can you reset my password in sap system    my user name is aundheim</th>\n",
              "      <td>en</td>\n",
              "    </tr>\n",
              "    <tr>\n",
              "      <th>hi  i need to get access to t code zfvendormdm in sap client   erp  my id is</th>\n",
              "      <td>en</td>\n",
              "    </tr>\n",
              "    <tr>\n",
              "      <th>se solicita asignar en sap   al usuario chiara ferrario  los roles   bcbasico</th>\n",
              "      <td>en</td>\n",
              "    </tr>\n",
              "    <tr>\n",
              "      <th>hi  last month i lodge a report regarding reporting in sap</th>\n",
              "      <td>en</td>\n",
              "    </tr>\n",
              "    <tr>\n",
              "      <th>ok     assigning roles in sap systems   erp</th>\n",
              "      <td>en</td>\n",
              "    </tr>\n",
              "    <tr>\n",
              "      <th rowspan=\"2\" valign=\"top\">Sharepoint</th>\n",
              "      <th rowspan=\"2\" valign=\"top\">21</th>\n",
              "      <th>how do i edit a page in sharepoint</th>\n",
              "      <td>enen</td>\n",
              "    </tr>\n",
              "    <tr>\n",
              "      <th>how do i request a sharepoint with access form outside the organization</th>\n",
              "      <td>en</td>\n",
              "    </tr>\n",
              "    <tr>\n",
              "      <th rowspan=\"3\" valign=\"top\">UNITY</th>\n",
              "      <th rowspan=\"3\" valign=\"top\">25</th>\n",
              "      <th>can you help to expedite it   we are trying to change the name of the reporting manager to one of the staff</th>\n",
              "      <td>en</td>\n",
              "    </tr>\n",
              "    <tr>\n",
              "      <th>how to create a new user in repsol</th>\n",
              "      <td>en</td>\n",
              "    </tr>\n",
              "    <tr>\n",
              "      <th>i am trying to create an incident in unity but it will not allow me to change the incident from the none in the drop down menu to access  what should i do</th>\n",
              "      <td>en</td>\n",
              "    </tr>\n",
              "    <tr>\n",
              "      <th rowspan=\"6\" valign=\"top\">VPN</th>\n",
              "      <th rowspan=\"6\" valign=\"top\">26</th>\n",
              "      <th>can t connect to vpn</th>\n",
              "      <td>en</td>\n",
              "    </tr>\n",
              "    <tr>\n",
              "      <th>dear mymar  my vpn account is locked  appreciate you assistance to unlocked</th>\n",
              "      <td>en</td>\n",
              "    </tr>\n",
              "    <tr>\n",
              "      <th>i am working remotely from home  how often and for how long do i need to connect to corporate vpn</th>\n",
              "      <td>en</td>\n",
              "    </tr>\n",
              "    <tr>\n",
              "      <th>i can t connect to vpn</th>\n",
              "      <td>en</td>\n",
              "    </tr>\n",
              "    <tr>\n",
              "      <th>my pc isunable to connect to vpn</th>\n",
              "      <td>en</td>\n",
              "    </tr>\n",
              "    <tr>\n",
              "      <th>my vpn is not connecting</th>\n",
              "      <td>en</td>\n",
              "    </tr>\n",
              "  </tbody>\n",
              "</table>\n",
              "</div>"
            ],
            "text/plain": [
              "                                                                                           Language\n",
              "kb_label                   category_cod Query                                                      \n",
              "Adobe Acrobat              0                 hi  i have received a file with  rar exten...       en\n",
              "                                             how do i get access to adobe acrobat pro d...       en\n",
              "                                        how do i request a new application                       en\n",
              "Contraseña  | Password     4            how to change password using pingid                      en\n",
              "                                        i need a password sent to dustin mcmann so i ca...       en\n",
              "                                        my account is closed                                     en\n",
              "Correo Electrónico | Email 5                     i want to add members to a distributio...       en\n",
              "                                        how do i setup a new android phone                       en\n",
              "                                        how to change password using repsol mobile app           en\n",
              "                                        i have received an email i think is a spam emai...       en\n",
              "                                        i want to add members to a distribution list             en\n",
              "                                        internet does not work  outlook does not work  ...       en\n",
              "                                        need your help to provide bramntsv email access...       en\n",
              "SAP                        18                hi  can you reset my password in sap syste...       en\n",
              "                                             hi  i need to get access to t code zfvendo...       en\n",
              "                                          se solicita asignar en sap   al usuario chiar...       en\n",
              "                                        hi  last month i lodge a report regarding repor...       en\n",
              "                                        ok     assigning roles in sap systems   erp              en\n",
              "Sharepoint                 21           how do i edit a page in sharepoint                     enen\n",
              "                                        how do i request a sharepoint with access form ...       en\n",
              "UNITY                      25           can you help to expedite it   we are trying to ...       en\n",
              "                                        how to create a new user in repsol                       en\n",
              "                                        i am trying to create an incident in unity but ...       en\n",
              "VPN                        26           can t connect to vpn                                     en\n",
              "                                        dear mymar  my vpn account is locked  appreciat...       en\n",
              "                                        i am working remotely from home  how often and ...       en\n",
              "                                        i can t connect to vpn                                   en\n",
              "                                        my pc isunable to connect to vpn                         en\n",
              "                                        my vpn is not connecting                                 en"
            ]
          },
          "metadata": {
            "tags": []
          },
          "execution_count": 52
        }
      ]
    },
    {
      "cell_type": "code",
      "metadata": {
        "id": "f_QSWrFiwmsy"
      },
      "source": [
        "from sklearn.model_selection import train_test_split\n",
        "\n",
        "def split_stratified_into_train_val_test(df_input, stratify_colname='y',\n",
        "                                         frac_train=0.6, frac_val=0.15, frac_test=0.25,\n",
        "                                         random_state=None):\n",
        "    '''\n",
        "    Splits a Pandas dataframe into three subsets (train, val, and test)\n",
        "    following fractional ratios provided by the user, where each subset is\n",
        "    stratified by the values in a specific column (that is, each subset has\n",
        "    the same relative frequency of the values in the column). It performs this\n",
        "    splitting by running train_test_split() twice.\n",
        "\n",
        "    Parameters\n",
        "    ----------\n",
        "    df_input : Pandas dataframe\n",
        "        Input dataframe to be split.\n",
        "    stratify_colname : str\n",
        "        The name of the column that will be used for stratification. Usually\n",
        "        this column would be for the label.\n",
        "    frac_train : float\n",
        "    frac_val   : float\n",
        "    frac_test  : float\n",
        "        The ratios with which the dataframe will be split into train, val, and\n",
        "        test data. The values should be expressed as float fractions and should\n",
        "        sum to 1.0.\n",
        "    random_state : int, None, or RandomStateInstance\n",
        "        Value to be passed to train_test_split().\n",
        "\n",
        "    Returns\n",
        "    -------\n",
        "    df_train, df_val, df_test :\n",
        "        Dataframes containing the three splits.\n",
        "    '''\n",
        "\n",
        "    if frac_train + frac_val + frac_test != 1.0:\n",
        "        raise ValueError('fractions %f, %f, %f do not add up to 1.0' % \\\n",
        "                         (frac_train, frac_val, frac_test))\n",
        "\n",
        "    if stratify_colname not in df_input.columns:\n",
        "        raise ValueError('%s is not a column in the dataframe' % (stratify_colname))\n",
        "\n",
        "    X = df_input # Contains all columns.\n",
        "    y = df_input[[stratify_colname]] # Dataframe of just the column on which to stratify.\n",
        "\n",
        "    # Split original dataframe into train and temp dataframes.\n",
        "    df_train, df_temp, y_train, y_temp = train_test_split(X,\n",
        "                                                          y,\n",
        "                                                          stratify=y,\n",
        "                                                          test_size=(1.0 - frac_train),\n",
        "                                                          random_state=random_state)\n",
        "\n",
        "    # Split the temp dataframe into val and test dataframes.\n",
        "    relative_frac_test = frac_test / (frac_val + frac_test)\n",
        "    df_val, df_test, y_val, y_test = train_test_split(df_temp,\n",
        "                                                      y_temp,\n",
        "                                                      stratify=y_temp,\n",
        "                                                      test_size=relative_frac_test,\n",
        "                                                      random_state=random_state)\n",
        "\n",
        "    assert len(df_input) == len(df_train) + len(df_val) + len(df_test)\n",
        "\n",
        "    return df_train, df_val, df_test"
      ],
      "execution_count": null,
      "outputs": []
    },
    {
      "cell_type": "code",
      "metadata": {
        "id": "9u_FIImYwmsz"
      },
      "source": [
        "df_train, df_val, df_test = split_stratified_into_train_val_test(final_ES, stratify_colname='kb_label', frac_train=0.3, frac_val=0.2, frac_test=0.5)"
      ],
      "execution_count": null,
      "outputs": []
    },
    {
      "cell_type": "code",
      "metadata": {
        "colab": {
          "base_uri": "https://localhost:8080/"
        },
        "id": "HeBda_Rkwms0",
        "outputId": "38a06b8a-4606-4058-8c07-a8dae853e704"
      },
      "source": [
        "df_train.shape"
      ],
      "execution_count": null,
      "outputs": [
        {
          "output_type": "execute_result",
          "data": {
            "text/plain": [
              "(125, 4)"
            ]
          },
          "metadata": {
            "tags": []
          },
          "execution_count": 55
        }
      ]
    },
    {
      "cell_type": "code",
      "metadata": {
        "colab": {
          "base_uri": "https://localhost:8080/"
        },
        "id": "hNMv55E7wms8",
        "outputId": "5960f1a0-17c9-41cd-d824-afa1fd6f92ed"
      },
      "source": [
        "len(df_train.kb_label.unique())"
      ],
      "execution_count": null,
      "outputs": [
        {
          "output_type": "execute_result",
          "data": {
            "text/plain": [
              "30"
            ]
          },
          "metadata": {
            "tags": []
          },
          "execution_count": 56
        }
      ]
    },
    {
      "cell_type": "code",
      "metadata": {
        "colab": {
          "base_uri": "https://localhost:8080/"
        },
        "id": "d7Aa5PHqwms8",
        "outputId": "aa2da99b-8855-48e2-aac7-6d1858e7a0f8"
      },
      "source": [
        "df_val.shape"
      ],
      "execution_count": null,
      "outputs": [
        {
          "output_type": "execute_result",
          "data": {
            "text/plain": [
              "(83, 4)"
            ]
          },
          "metadata": {
            "tags": []
          },
          "execution_count": 57
        }
      ]
    },
    {
      "cell_type": "code",
      "metadata": {
        "colab": {
          "base_uri": "https://localhost:8080/"
        },
        "id": "UQcg8hdPwms8",
        "outputId": "55aa4116-1af1-4883-c8bc-a912cf5ae301"
      },
      "source": [
        "len(df_val.kb_label.unique())"
      ],
      "execution_count": null,
      "outputs": [
        {
          "output_type": "execute_result",
          "data": {
            "text/plain": [
              "30"
            ]
          },
          "metadata": {
            "tags": []
          },
          "execution_count": 58
        }
      ]
    },
    {
      "cell_type": "code",
      "metadata": {
        "colab": {
          "base_uri": "https://localhost:8080/"
        },
        "id": "dpF2UKsVwms8",
        "outputId": "6d891087-d35f-46af-fbfc-3da95ca1ef03"
      },
      "source": [
        "df_test.shape"
      ],
      "execution_count": null,
      "outputs": [
        {
          "output_type": "execute_result",
          "data": {
            "text/plain": [
              "(210, 4)"
            ]
          },
          "metadata": {
            "tags": []
          },
          "execution_count": 59
        }
      ]
    },
    {
      "cell_type": "code",
      "metadata": {
        "colab": {
          "base_uri": "https://localhost:8080/"
        },
        "id": "m_BUiws6wms9",
        "outputId": "46b47183-960c-4627-d4de-595d9f87b1aa"
      },
      "source": [
        "len(df_test.kb_label.unique())"
      ],
      "execution_count": null,
      "outputs": [
        {
          "output_type": "execute_result",
          "data": {
            "text/plain": [
              "30"
            ]
          },
          "metadata": {
            "tags": []
          },
          "execution_count": 60
        }
      ]
    },
    {
      "cell_type": "markdown",
      "metadata": {
        "id": "S6iFkU-nz0Ns"
      },
      "source": [
        "# Guardamos en csv\n"
      ]
    },
    {
      "cell_type": "code",
      "metadata": {
        "id": "Grnk53cZwms9"
      },
      "source": [
        "df_train_final = df_test\n",
        "df_test_final = df_val\n",
        "df_val_final =  df_train"
      ],
      "execution_count": null,
      "outputs": []
    },
    {
      "cell_type": "code",
      "metadata": {
        "colab": {
          "base_uri": "https://localhost:8080/"
        },
        "id": "-TZ9ZGyewms9",
        "outputId": "0eb1f706-2d47-4153-a380-0e48a3f0c818"
      },
      "source": [
        "df_train_final.shape"
      ],
      "execution_count": null,
      "outputs": [
        {
          "output_type": "execute_result",
          "data": {
            "text/plain": [
              "(210, 4)"
            ]
          },
          "metadata": {
            "tags": []
          },
          "execution_count": 62
        }
      ]
    },
    {
      "cell_type": "code",
      "metadata": {
        "colab": {
          "base_uri": "https://localhost:8080/"
        },
        "id": "tDkmZ9Gzwms9",
        "outputId": "0a3d91e3-818e-4d99-a981-414b91d4d70b"
      },
      "source": [
        "df_val_final.shape"
      ],
      "execution_count": null,
      "outputs": [
        {
          "output_type": "execute_result",
          "data": {
            "text/plain": [
              "(125, 4)"
            ]
          },
          "metadata": {
            "tags": []
          },
          "execution_count": 63
        }
      ]
    },
    {
      "cell_type": "code",
      "metadata": {
        "colab": {
          "base_uri": "https://localhost:8080/"
        },
        "id": "rEOAVB30wms9",
        "outputId": "1c8d399b-c894-4dc1-95ce-fccb46ba31c4"
      },
      "source": [
        "df_test_final.shape"
      ],
      "execution_count": null,
      "outputs": [
        {
          "output_type": "execute_result",
          "data": {
            "text/plain": [
              "(83, 4)"
            ]
          },
          "metadata": {
            "tags": []
          },
          "execution_count": 64
        }
      ]
    },
    {
      "cell_type": "code",
      "metadata": {
        "id": "GwOPBO9Qwms-"
      },
      "source": [
        "df_train = df_train_final.reset_index(drop=True)\n",
        "df_valid =  df_val_final.reset_index(drop=True)\n",
        "df_test = df_test_final.reset_index(drop=True)"
      ],
      "execution_count": null,
      "outputs": []
    },
    {
      "cell_type": "code",
      "metadata": {
        "id": "2XguIRdOwms-"
      },
      "source": [
        "df_train.to_csv('DATO_CHATBOT_STRAT/chatbot_trainES.csv',index = False)"
      ],
      "execution_count": null,
      "outputs": []
    },
    {
      "cell_type": "code",
      "metadata": {
        "id": "5MDulckrwms-"
      },
      "source": [
        "df_valid.to_csv('DATO_CHATBOT_STRAT/chatbot_validES.csv',index = False)\n",
        "df_test.to_csv('DATO_CHATBOT_STRAT/chatbot_testES.csv',index = False)"
      ],
      "execution_count": null,
      "outputs": []
    },
    {
      "cell_type": "code",
      "metadata": {
        "id": "Dyiey3KYwms-"
      },
      "source": [
        "final_EN.to_csv('DATO_CHATBOT_STRAT/chatbot_testEN.csv',index = False)"
      ],
      "execution_count": null,
      "outputs": []
    },
    {
      "cell_type": "code",
      "metadata": {
        "id": "kfBqCBzSwms-"
      },
      "source": [
        "#Probamos a cargarlo"
      ],
      "execution_count": null,
      "outputs": []
    },
    {
      "cell_type": "code",
      "metadata": {
        "id": "wxk_kskiwms-"
      },
      "source": [
        "df_train = pd.read_csv('/content/drive/MyDrive/DATO_CHATBOT_STRAT/chatbot_trainES.csv')\n",
        "df_valid = pd.read_csv('/content/drive/MyDrive/DATO_CHATBOT_STRAT/chatbot_validES.csv')\n",
        "df_test = pd.read_csv('/content/drive/MyDrive/DATO_CHATBOT_STRAT/chatbot_testES.csv')\n"
      ],
      "execution_count": null,
      "outputs": []
    },
    {
      "cell_type": "code",
      "metadata": {
        "colab": {
          "base_uri": "https://localhost:8080/",
          "height": 391
        },
        "id": "5zwi2VL9wms-",
        "outputId": "e3ba2b5b-ae66-46fc-d201-d908a80250bd"
      },
      "source": [
        "df_train"
      ],
      "execution_count": null,
      "outputs": [
        {
          "output_type": "execute_result",
          "data": {
            "text/html": [
              "<div>\n",
              "<style scoped>\n",
              "    .dataframe tbody tr th:only-of-type {\n",
              "        vertical-align: middle;\n",
              "    }\n",
              "\n",
              "    .dataframe tbody tr th {\n",
              "        vertical-align: top;\n",
              "    }\n",
              "\n",
              "    .dataframe thead th {\n",
              "        text-align: right;\n",
              "    }\n",
              "</style>\n",
              "<table border=\"1\" class=\"dataframe\">\n",
              "  <thead>\n",
              "    <tr style=\"text-align: right;\">\n",
              "      <th></th>\n",
              "      <th>Query</th>\n",
              "      <th>kb_label</th>\n",
              "      <th>Language</th>\n",
              "      <th>category_cod</th>\n",
              "    </tr>\n",
              "  </thead>\n",
              "  <tbody>\n",
              "    <tr>\n",
              "      <th>0</th>\n",
              "      <td>quiero un acceso a la carpeta compartidos</td>\n",
              "      <td>OneDrive</td>\n",
              "      <td>es</td>\n",
              "      <td>14</td>\n",
              "    </tr>\n",
              "    <tr>\n",
              "      <th>1</th>\n",
              "      <td>como acceder al centro de software</td>\n",
              "      <td>Software Center</td>\n",
              "      <td>es</td>\n",
              "      <td>23</td>\n",
              "    </tr>\n",
              "    <tr>\n",
              "      <th>2</th>\n",
              "      <td>qué hacer si el correo electrónico de mi...</td>\n",
              "      <td>Correo Electrónico | Email</td>\n",
              "      <td>es</td>\n",
              "      <td>5</td>\n",
              "    </tr>\n",
              "    <tr>\n",
              "      <th>3</th>\n",
              "      <td>necesito saber como pedir ampliacion d...</td>\n",
              "      <td>Móvil / Mobile</td>\n",
              "      <td>es</td>\n",
              "      <td>11</td>\n",
              "    </tr>\n",
              "    <tr>\n",
              "      <th>4</th>\n",
              "      <td>el registro de jornada no funciona  ni en expl...</td>\n",
              "      <td>SAP Fiori &amp; Registro de Jornada</td>\n",
              "      <td>es</td>\n",
              "      <td>19</td>\n",
              "    </tr>\n",
              "    <tr>\n",
              "      <th>...</th>\n",
              "      <td>...</td>\n",
              "      <td>...</td>\n",
              "      <td>...</td>\n",
              "      <td>...</td>\n",
              "    </tr>\n",
              "    <tr>\n",
              "      <th>205</th>\n",
              "      <td>mi usuario sap   está bloqueado</td>\n",
              "      <td>SAP</td>\n",
              "      <td>es</td>\n",
              "      <td>18</td>\n",
              "    </tr>\n",
              "    <tr>\n",
              "      <th>206</th>\n",
              "      <td>incremento datos  necesito aumentar datos móvi...</td>\n",
              "      <td>Móvil / Mobile</td>\n",
              "      <td>es</td>\n",
              "      <td>11</td>\n",
              "    </tr>\n",
              "    <tr>\n",
              "      <th>207</th>\n",
              "      <td>es un operador de nueva incorporación y no tie...</td>\n",
              "      <td>News</td>\n",
              "      <td>es</td>\n",
              "      <td>12</td>\n",
              "    </tr>\n",
              "    <tr>\n",
              "      <th>208</th>\n",
              "      <td>tengo problemas para ingresar al sap</td>\n",
              "      <td>SAP</td>\n",
              "      <td>es</td>\n",
              "      <td>18</td>\n",
              "    </tr>\n",
              "    <tr>\n",
              "      <th>209</th>\n",
              "      <td>tengo la cuenta bloqueada</td>\n",
              "      <td>Contraseña  | Password</td>\n",
              "      <td>es</td>\n",
              "      <td>4</td>\n",
              "    </tr>\n",
              "  </tbody>\n",
              "</table>\n",
              "<p>210 rows × 4 columns</p>\n",
              "</div>"
            ],
            "text/plain": [
              "                                                 Query  ... category_cod\n",
              "0            quiero un acceso a la carpeta compartidos  ...           14\n",
              "1                   como acceder al centro de software  ...           23\n",
              "2          qué hacer si el correo electrónico de mi...  ...            5\n",
              "3            necesito saber como pedir ampliacion d...  ...           11\n",
              "4    el registro de jornada no funciona  ni en expl...  ...           19\n",
              "..                                                 ...  ...          ...\n",
              "205                    mi usuario sap   está bloqueado  ...           18\n",
              "206  incremento datos  necesito aumentar datos móvi...  ...           11\n",
              "207  es un operador de nueva incorporación y no tie...  ...           12\n",
              "208               tengo problemas para ingresar al sap  ...           18\n",
              "209                        tengo la cuenta bloqueada    ...            4\n",
              "\n",
              "[210 rows x 4 columns]"
            ]
          },
          "metadata": {
            "tags": []
          },
          "execution_count": 67
        }
      ]
    }
  ]
}