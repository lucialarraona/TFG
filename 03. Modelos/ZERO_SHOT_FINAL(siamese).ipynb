{
  "nbformat": 4,
  "nbformat_minor": 0,
  "metadata": {
    "colab": {
      "name": "ZERO-SHOT-FINAL(siamese).ipynb",
      "provenance": [],
      "collapsed_sections": [
        "IebtHGKJNkeP",
        "gmxNxHBnw6UB",
        "CyaAOL0FxbuG",
        "r8w9KOspwE30",
        "EU_kUlnr39uX",
        "sRMT4z_I5G4d",
        "Fizxg3Kw5SV_",
        "9qr9xrFtdk7G"
      ],
      "toc_visible": true
    },
    "kernelspec": {
      "display_name": "Python 3",
      "name": "python3"
    },
    "widgets": {
      "application/vnd.jupyter.widget-state+json": {
        "bad4c83d18b34dfbbb5f33cc04ed469b": {
          "model_module": "@jupyter-widgets/controls",
          "model_name": "VBoxModel",
          "state": {
            "_view_name": "VBoxView",
            "_dom_classes": [],
            "_model_name": "VBoxModel",
            "_view_module": "@jupyter-widgets/controls",
            "_model_module_version": "1.5.0",
            "_view_count": null,
            "_view_module_version": "1.5.0",
            "box_style": "",
            "layout": "IPY_MODEL_70ef099d36cf41198e198331526b3205",
            "_model_module": "@jupyter-widgets/controls",
            "children": [
              "IPY_MODEL_f345e893484a4b9c8a377751ef788d0e",
              "IPY_MODEL_eec87b2bbe824b5fbfda72aefd158b20"
            ]
          }
        },
        "70ef099d36cf41198e198331526b3205": {
          "model_module": "@jupyter-widgets/base",
          "model_name": "LayoutModel",
          "state": {
            "_view_name": "LayoutView",
            "grid_template_rows": null,
            "right": null,
            "justify_content": null,
            "_view_module": "@jupyter-widgets/base",
            "overflow": null,
            "_model_module_version": "1.2.0",
            "_view_count": null,
            "flex_flow": null,
            "width": null,
            "min_width": null,
            "border": null,
            "align_items": null,
            "bottom": null,
            "_model_module": "@jupyter-widgets/base",
            "top": null,
            "grid_column": null,
            "overflow_y": null,
            "overflow_x": null,
            "grid_auto_flow": null,
            "grid_area": null,
            "grid_template_columns": null,
            "flex": null,
            "_model_name": "LayoutModel",
            "justify_items": null,
            "grid_row": null,
            "max_height": null,
            "align_content": null,
            "visibility": null,
            "align_self": null,
            "height": null,
            "min_height": null,
            "padding": null,
            "grid_auto_rows": null,
            "grid_gap": null,
            "max_width": null,
            "order": null,
            "_view_module_version": "1.2.0",
            "grid_template_areas": null,
            "object_position": null,
            "object_fit": null,
            "grid_auto_columns": null,
            "margin": null,
            "display": null,
            "left": null
          }
        },
        "f345e893484a4b9c8a377751ef788d0e": {
          "model_module": "@jupyter-widgets/controls",
          "model_name": "LabelModel",
          "state": {
            "_view_name": "LabelView",
            "style": "IPY_MODEL_54058298038a4f54b945c7844a3ebf6b",
            "_dom_classes": [],
            "description": "",
            "_model_name": "LabelModel",
            "placeholder": "​",
            "_view_module": "@jupyter-widgets/controls",
            "_model_module_version": "1.5.0",
            "value": " 183.93MB of 183.93MB uploaded (0.00MB deduped)\r",
            "_view_count": null,
            "_view_module_version": "1.5.0",
            "description_tooltip": null,
            "_model_module": "@jupyter-widgets/controls",
            "layout": "IPY_MODEL_0c704a6e51b241d3a94e2f22ce0edc07"
          }
        },
        "eec87b2bbe824b5fbfda72aefd158b20": {
          "model_module": "@jupyter-widgets/controls",
          "model_name": "FloatProgressModel",
          "state": {
            "_view_name": "ProgressView",
            "style": "IPY_MODEL_e826ce2fd110463a92ad679fc422d081",
            "_dom_classes": [],
            "description": "",
            "_model_name": "FloatProgressModel",
            "bar_style": "",
            "max": 1,
            "_view_module": "@jupyter-widgets/controls",
            "_model_module_version": "1.5.0",
            "value": 1,
            "_view_count": null,
            "_view_module_version": "1.5.0",
            "orientation": "horizontal",
            "min": 0,
            "description_tooltip": null,
            "_model_module": "@jupyter-widgets/controls",
            "layout": "IPY_MODEL_742755fc6260437ea5f7091a5f575245"
          }
        },
        "54058298038a4f54b945c7844a3ebf6b": {
          "model_module": "@jupyter-widgets/controls",
          "model_name": "DescriptionStyleModel",
          "state": {
            "_view_name": "StyleView",
            "_model_name": "DescriptionStyleModel",
            "description_width": "",
            "_view_module": "@jupyter-widgets/base",
            "_model_module_version": "1.5.0",
            "_view_count": null,
            "_view_module_version": "1.2.0",
            "_model_module": "@jupyter-widgets/controls"
          }
        },
        "0c704a6e51b241d3a94e2f22ce0edc07": {
          "model_module": "@jupyter-widgets/base",
          "model_name": "LayoutModel",
          "state": {
            "_view_name": "LayoutView",
            "grid_template_rows": null,
            "right": null,
            "justify_content": null,
            "_view_module": "@jupyter-widgets/base",
            "overflow": null,
            "_model_module_version": "1.2.0",
            "_view_count": null,
            "flex_flow": null,
            "width": null,
            "min_width": null,
            "border": null,
            "align_items": null,
            "bottom": null,
            "_model_module": "@jupyter-widgets/base",
            "top": null,
            "grid_column": null,
            "overflow_y": null,
            "overflow_x": null,
            "grid_auto_flow": null,
            "grid_area": null,
            "grid_template_columns": null,
            "flex": null,
            "_model_name": "LayoutModel",
            "justify_items": null,
            "grid_row": null,
            "max_height": null,
            "align_content": null,
            "visibility": null,
            "align_self": null,
            "height": null,
            "min_height": null,
            "padding": null,
            "grid_auto_rows": null,
            "grid_gap": null,
            "max_width": null,
            "order": null,
            "_view_module_version": "1.2.0",
            "grid_template_areas": null,
            "object_position": null,
            "object_fit": null,
            "grid_auto_columns": null,
            "margin": null,
            "display": null,
            "left": null
          }
        },
        "e826ce2fd110463a92ad679fc422d081": {
          "model_module": "@jupyter-widgets/controls",
          "model_name": "ProgressStyleModel",
          "state": {
            "_view_name": "StyleView",
            "_model_name": "ProgressStyleModel",
            "description_width": "",
            "_view_module": "@jupyter-widgets/base",
            "_model_module_version": "1.5.0",
            "_view_count": null,
            "_view_module_version": "1.2.0",
            "bar_color": null,
            "_model_module": "@jupyter-widgets/controls"
          }
        },
        "742755fc6260437ea5f7091a5f575245": {
          "model_module": "@jupyter-widgets/base",
          "model_name": "LayoutModel",
          "state": {
            "_view_name": "LayoutView",
            "grid_template_rows": null,
            "right": null,
            "justify_content": null,
            "_view_module": "@jupyter-widgets/base",
            "overflow": null,
            "_model_module_version": "1.2.0",
            "_view_count": null,
            "flex_flow": null,
            "width": null,
            "min_width": null,
            "border": null,
            "align_items": null,
            "bottom": null,
            "_model_module": "@jupyter-widgets/base",
            "top": null,
            "grid_column": null,
            "overflow_y": null,
            "overflow_x": null,
            "grid_auto_flow": null,
            "grid_area": null,
            "grid_template_columns": null,
            "flex": null,
            "_model_name": "LayoutModel",
            "justify_items": null,
            "grid_row": null,
            "max_height": null,
            "align_content": null,
            "visibility": null,
            "align_self": null,
            "height": null,
            "min_height": null,
            "padding": null,
            "grid_auto_rows": null,
            "grid_gap": null,
            "max_width": null,
            "order": null,
            "_view_module_version": "1.2.0",
            "grid_template_areas": null,
            "object_position": null,
            "object_fit": null,
            "grid_auto_columns": null,
            "margin": null,
            "display": null,
            "left": null
          }
        },
        "2561808210584cb680de0859ce8b071b": {
          "model_module": "@jupyter-widgets/controls",
          "model_name": "VBoxModel",
          "state": {
            "_view_name": "VBoxView",
            "_dom_classes": [],
            "_model_name": "VBoxModel",
            "_view_module": "@jupyter-widgets/controls",
            "_model_module_version": "1.5.0",
            "_view_count": null,
            "_view_module_version": "1.5.0",
            "box_style": "",
            "layout": "IPY_MODEL_a9aa3c03875b45c69543dff2d3696622",
            "_model_module": "@jupyter-widgets/controls",
            "children": [
              "IPY_MODEL_4cf3f9ac79ab47c9906affee46e8400a",
              "IPY_MODEL_1a23d28d6233400596c2375d9c8ee0d6"
            ]
          }
        },
        "a9aa3c03875b45c69543dff2d3696622": {
          "model_module": "@jupyter-widgets/base",
          "model_name": "LayoutModel",
          "state": {
            "_view_name": "LayoutView",
            "grid_template_rows": null,
            "right": null,
            "justify_content": null,
            "_view_module": "@jupyter-widgets/base",
            "overflow": null,
            "_model_module_version": "1.2.0",
            "_view_count": null,
            "flex_flow": null,
            "width": null,
            "min_width": null,
            "border": null,
            "align_items": null,
            "bottom": null,
            "_model_module": "@jupyter-widgets/base",
            "top": null,
            "grid_column": null,
            "overflow_y": null,
            "overflow_x": null,
            "grid_auto_flow": null,
            "grid_area": null,
            "grid_template_columns": null,
            "flex": null,
            "_model_name": "LayoutModel",
            "justify_items": null,
            "grid_row": null,
            "max_height": null,
            "align_content": null,
            "visibility": null,
            "align_self": null,
            "height": null,
            "min_height": null,
            "padding": null,
            "grid_auto_rows": null,
            "grid_gap": null,
            "max_width": null,
            "order": null,
            "_view_module_version": "1.2.0",
            "grid_template_areas": null,
            "object_position": null,
            "object_fit": null,
            "grid_auto_columns": null,
            "margin": null,
            "display": null,
            "left": null
          }
        },
        "4cf3f9ac79ab47c9906affee46e8400a": {
          "model_module": "@jupyter-widgets/controls",
          "model_name": "LabelModel",
          "state": {
            "_view_name": "LabelView",
            "style": "IPY_MODEL_56c22e68535c42e2834da151359f40eb",
            "_dom_classes": [],
            "description": "",
            "_model_name": "LabelModel",
            "placeholder": "​",
            "_view_module": "@jupyter-widgets/controls",
            "_model_module_version": "1.5.0",
            "value": " 184.27MB of 184.27MB uploaded (0.00MB deduped)\r",
            "_view_count": null,
            "_view_module_version": "1.5.0",
            "description_tooltip": null,
            "_model_module": "@jupyter-widgets/controls",
            "layout": "IPY_MODEL_0ce02b6037774e3fa26a0c40259851ed"
          }
        },
        "1a23d28d6233400596c2375d9c8ee0d6": {
          "model_module": "@jupyter-widgets/controls",
          "model_name": "FloatProgressModel",
          "state": {
            "_view_name": "ProgressView",
            "style": "IPY_MODEL_30665eb084b84f8588dc1f6af4b23d54",
            "_dom_classes": [],
            "description": "",
            "_model_name": "FloatProgressModel",
            "bar_style": "",
            "max": 1,
            "_view_module": "@jupyter-widgets/controls",
            "_model_module_version": "1.5.0",
            "value": 1,
            "_view_count": null,
            "_view_module_version": "1.5.0",
            "orientation": "horizontal",
            "min": 0,
            "description_tooltip": null,
            "_model_module": "@jupyter-widgets/controls",
            "layout": "IPY_MODEL_329f621629514927b6236c22afed3143"
          }
        },
        "56c22e68535c42e2834da151359f40eb": {
          "model_module": "@jupyter-widgets/controls",
          "model_name": "DescriptionStyleModel",
          "state": {
            "_view_name": "StyleView",
            "_model_name": "DescriptionStyleModel",
            "description_width": "",
            "_view_module": "@jupyter-widgets/base",
            "_model_module_version": "1.5.0",
            "_view_count": null,
            "_view_module_version": "1.2.0",
            "_model_module": "@jupyter-widgets/controls"
          }
        },
        "0ce02b6037774e3fa26a0c40259851ed": {
          "model_module": "@jupyter-widgets/base",
          "model_name": "LayoutModel",
          "state": {
            "_view_name": "LayoutView",
            "grid_template_rows": null,
            "right": null,
            "justify_content": null,
            "_view_module": "@jupyter-widgets/base",
            "overflow": null,
            "_model_module_version": "1.2.0",
            "_view_count": null,
            "flex_flow": null,
            "width": null,
            "min_width": null,
            "border": null,
            "align_items": null,
            "bottom": null,
            "_model_module": "@jupyter-widgets/base",
            "top": null,
            "grid_column": null,
            "overflow_y": null,
            "overflow_x": null,
            "grid_auto_flow": null,
            "grid_area": null,
            "grid_template_columns": null,
            "flex": null,
            "_model_name": "LayoutModel",
            "justify_items": null,
            "grid_row": null,
            "max_height": null,
            "align_content": null,
            "visibility": null,
            "align_self": null,
            "height": null,
            "min_height": null,
            "padding": null,
            "grid_auto_rows": null,
            "grid_gap": null,
            "max_width": null,
            "order": null,
            "_view_module_version": "1.2.0",
            "grid_template_areas": null,
            "object_position": null,
            "object_fit": null,
            "grid_auto_columns": null,
            "margin": null,
            "display": null,
            "left": null
          }
        },
        "30665eb084b84f8588dc1f6af4b23d54": {
          "model_module": "@jupyter-widgets/controls",
          "model_name": "ProgressStyleModel",
          "state": {
            "_view_name": "StyleView",
            "_model_name": "ProgressStyleModel",
            "description_width": "",
            "_view_module": "@jupyter-widgets/base",
            "_model_module_version": "1.5.0",
            "_view_count": null,
            "_view_module_version": "1.2.0",
            "bar_color": null,
            "_model_module": "@jupyter-widgets/controls"
          }
        },
        "329f621629514927b6236c22afed3143": {
          "model_module": "@jupyter-widgets/base",
          "model_name": "LayoutModel",
          "state": {
            "_view_name": "LayoutView",
            "grid_template_rows": null,
            "right": null,
            "justify_content": null,
            "_view_module": "@jupyter-widgets/base",
            "overflow": null,
            "_model_module_version": "1.2.0",
            "_view_count": null,
            "flex_flow": null,
            "width": null,
            "min_width": null,
            "border": null,
            "align_items": null,
            "bottom": null,
            "_model_module": "@jupyter-widgets/base",
            "top": null,
            "grid_column": null,
            "overflow_y": null,
            "overflow_x": null,
            "grid_auto_flow": null,
            "grid_area": null,
            "grid_template_columns": null,
            "flex": null,
            "_model_name": "LayoutModel",
            "justify_items": null,
            "grid_row": null,
            "max_height": null,
            "align_content": null,
            "visibility": null,
            "align_self": null,
            "height": null,
            "min_height": null,
            "padding": null,
            "grid_auto_rows": null,
            "grid_gap": null,
            "max_width": null,
            "order": null,
            "_view_module_version": "1.2.0",
            "grid_template_areas": null,
            "object_position": null,
            "object_fit": null,
            "grid_auto_columns": null,
            "margin": null,
            "display": null,
            "left": null
          }
        },
        "493c24a5c31c4015869392dfd97a34be": {
          "model_module": "@jupyter-widgets/controls",
          "model_name": "VBoxModel",
          "state": {
            "_view_name": "VBoxView",
            "_dom_classes": [],
            "_model_name": "VBoxModel",
            "_view_module": "@jupyter-widgets/controls",
            "_model_module_version": "1.5.0",
            "_view_count": null,
            "_view_module_version": "1.5.0",
            "box_style": "",
            "layout": "IPY_MODEL_e5b1a7c5e3ba4dd685604edde2bbfd92",
            "_model_module": "@jupyter-widgets/controls",
            "children": [
              "IPY_MODEL_1895cb52728549c79671eb7ddc033a79",
              "IPY_MODEL_3c294bf88397427d8002a567d78664a0"
            ]
          }
        },
        "e5b1a7c5e3ba4dd685604edde2bbfd92": {
          "model_module": "@jupyter-widgets/base",
          "model_name": "LayoutModel",
          "state": {
            "_view_name": "LayoutView",
            "grid_template_rows": null,
            "right": null,
            "justify_content": null,
            "_view_module": "@jupyter-widgets/base",
            "overflow": null,
            "_model_module_version": "1.2.0",
            "_view_count": null,
            "flex_flow": null,
            "width": null,
            "min_width": null,
            "border": null,
            "align_items": null,
            "bottom": null,
            "_model_module": "@jupyter-widgets/base",
            "top": null,
            "grid_column": null,
            "overflow_y": null,
            "overflow_x": null,
            "grid_auto_flow": null,
            "grid_area": null,
            "grid_template_columns": null,
            "flex": null,
            "_model_name": "LayoutModel",
            "justify_items": null,
            "grid_row": null,
            "max_height": null,
            "align_content": null,
            "visibility": null,
            "align_self": null,
            "height": null,
            "min_height": null,
            "padding": null,
            "grid_auto_rows": null,
            "grid_gap": null,
            "max_width": null,
            "order": null,
            "_view_module_version": "1.2.0",
            "grid_template_areas": null,
            "object_position": null,
            "object_fit": null,
            "grid_auto_columns": null,
            "margin": null,
            "display": null,
            "left": null
          }
        },
        "1895cb52728549c79671eb7ddc033a79": {
          "model_module": "@jupyter-widgets/controls",
          "model_name": "LabelModel",
          "state": {
            "_view_name": "LabelView",
            "style": "IPY_MODEL_ea4dbbe12aba4b899eea1fbabbd881fe",
            "_dom_classes": [],
            "description": "",
            "_model_name": "LabelModel",
            "placeholder": "​",
            "_view_module": "@jupyter-widgets/controls",
            "_model_module_version": "1.5.0",
            "value": " 184.27MB of 184.27MB uploaded (0.00MB deduped)\r",
            "_view_count": null,
            "_view_module_version": "1.5.0",
            "description_tooltip": null,
            "_model_module": "@jupyter-widgets/controls",
            "layout": "IPY_MODEL_f0941ea39f83429ebd8f3b66f9c4b3f8"
          }
        },
        "3c294bf88397427d8002a567d78664a0": {
          "model_module": "@jupyter-widgets/controls",
          "model_name": "FloatProgressModel",
          "state": {
            "_view_name": "ProgressView",
            "style": "IPY_MODEL_bb1fc848d87248259f6acad1988fd7cb",
            "_dom_classes": [],
            "description": "",
            "_model_name": "FloatProgressModel",
            "bar_style": "",
            "max": 1,
            "_view_module": "@jupyter-widgets/controls",
            "_model_module_version": "1.5.0",
            "value": 1,
            "_view_count": null,
            "_view_module_version": "1.5.0",
            "orientation": "horizontal",
            "min": 0,
            "description_tooltip": null,
            "_model_module": "@jupyter-widgets/controls",
            "layout": "IPY_MODEL_f6370e26b23644fbbaa228c9f01c0c4a"
          }
        },
        "ea4dbbe12aba4b899eea1fbabbd881fe": {
          "model_module": "@jupyter-widgets/controls",
          "model_name": "DescriptionStyleModel",
          "state": {
            "_view_name": "StyleView",
            "_model_name": "DescriptionStyleModel",
            "description_width": "",
            "_view_module": "@jupyter-widgets/base",
            "_model_module_version": "1.5.0",
            "_view_count": null,
            "_view_module_version": "1.2.0",
            "_model_module": "@jupyter-widgets/controls"
          }
        },
        "f0941ea39f83429ebd8f3b66f9c4b3f8": {
          "model_module": "@jupyter-widgets/base",
          "model_name": "LayoutModel",
          "state": {
            "_view_name": "LayoutView",
            "grid_template_rows": null,
            "right": null,
            "justify_content": null,
            "_view_module": "@jupyter-widgets/base",
            "overflow": null,
            "_model_module_version": "1.2.0",
            "_view_count": null,
            "flex_flow": null,
            "width": null,
            "min_width": null,
            "border": null,
            "align_items": null,
            "bottom": null,
            "_model_module": "@jupyter-widgets/base",
            "top": null,
            "grid_column": null,
            "overflow_y": null,
            "overflow_x": null,
            "grid_auto_flow": null,
            "grid_area": null,
            "grid_template_columns": null,
            "flex": null,
            "_model_name": "LayoutModel",
            "justify_items": null,
            "grid_row": null,
            "max_height": null,
            "align_content": null,
            "visibility": null,
            "align_self": null,
            "height": null,
            "min_height": null,
            "padding": null,
            "grid_auto_rows": null,
            "grid_gap": null,
            "max_width": null,
            "order": null,
            "_view_module_version": "1.2.0",
            "grid_template_areas": null,
            "object_position": null,
            "object_fit": null,
            "grid_auto_columns": null,
            "margin": null,
            "display": null,
            "left": null
          }
        },
        "bb1fc848d87248259f6acad1988fd7cb": {
          "model_module": "@jupyter-widgets/controls",
          "model_name": "ProgressStyleModel",
          "state": {
            "_view_name": "StyleView",
            "_model_name": "ProgressStyleModel",
            "description_width": "",
            "_view_module": "@jupyter-widgets/base",
            "_model_module_version": "1.5.0",
            "_view_count": null,
            "_view_module_version": "1.2.0",
            "bar_color": null,
            "_model_module": "@jupyter-widgets/controls"
          }
        },
        "f6370e26b23644fbbaa228c9f01c0c4a": {
          "model_module": "@jupyter-widgets/base",
          "model_name": "LayoutModel",
          "state": {
            "_view_name": "LayoutView",
            "grid_template_rows": null,
            "right": null,
            "justify_content": null,
            "_view_module": "@jupyter-widgets/base",
            "overflow": null,
            "_model_module_version": "1.2.0",
            "_view_count": null,
            "flex_flow": null,
            "width": null,
            "min_width": null,
            "border": null,
            "align_items": null,
            "bottom": null,
            "_model_module": "@jupyter-widgets/base",
            "top": null,
            "grid_column": null,
            "overflow_y": null,
            "overflow_x": null,
            "grid_auto_flow": null,
            "grid_area": null,
            "grid_template_columns": null,
            "flex": null,
            "_model_name": "LayoutModel",
            "justify_items": null,
            "grid_row": null,
            "max_height": null,
            "align_content": null,
            "visibility": null,
            "align_self": null,
            "height": null,
            "min_height": null,
            "padding": null,
            "grid_auto_rows": null,
            "grid_gap": null,
            "max_width": null,
            "order": null,
            "_view_module_version": "1.2.0",
            "grid_template_areas": null,
            "object_position": null,
            "object_fit": null,
            "grid_auto_columns": null,
            "margin": null,
            "display": null,
            "left": null
          }
        },
        "58cb2e174b3a48d6b7a0b86210dba6ce": {
          "model_module": "@jupyter-widgets/controls",
          "model_name": "VBoxModel",
          "state": {
            "_view_name": "VBoxView",
            "_dom_classes": [],
            "_model_name": "VBoxModel",
            "_view_module": "@jupyter-widgets/controls",
            "_model_module_version": "1.5.0",
            "_view_count": null,
            "_view_module_version": "1.5.0",
            "box_style": "",
            "layout": "IPY_MODEL_a3b4f44c5b6a43cfa41876400dadf134",
            "_model_module": "@jupyter-widgets/controls",
            "children": [
              "IPY_MODEL_5886912c72b34ac9b86ef8c4182c9829",
              "IPY_MODEL_fdc4aa11ed9c49409739ff04f5c9f4fa"
            ]
          }
        },
        "a3b4f44c5b6a43cfa41876400dadf134": {
          "model_module": "@jupyter-widgets/base",
          "model_name": "LayoutModel",
          "state": {
            "_view_name": "LayoutView",
            "grid_template_rows": null,
            "right": null,
            "justify_content": null,
            "_view_module": "@jupyter-widgets/base",
            "overflow": null,
            "_model_module_version": "1.2.0",
            "_view_count": null,
            "flex_flow": null,
            "width": null,
            "min_width": null,
            "border": null,
            "align_items": null,
            "bottom": null,
            "_model_module": "@jupyter-widgets/base",
            "top": null,
            "grid_column": null,
            "overflow_y": null,
            "overflow_x": null,
            "grid_auto_flow": null,
            "grid_area": null,
            "grid_template_columns": null,
            "flex": null,
            "_model_name": "LayoutModel",
            "justify_items": null,
            "grid_row": null,
            "max_height": null,
            "align_content": null,
            "visibility": null,
            "align_self": null,
            "height": null,
            "min_height": null,
            "padding": null,
            "grid_auto_rows": null,
            "grid_gap": null,
            "max_width": null,
            "order": null,
            "_view_module_version": "1.2.0",
            "grid_template_areas": null,
            "object_position": null,
            "object_fit": null,
            "grid_auto_columns": null,
            "margin": null,
            "display": null,
            "left": null
          }
        },
        "5886912c72b34ac9b86ef8c4182c9829": {
          "model_module": "@jupyter-widgets/controls",
          "model_name": "LabelModel",
          "state": {
            "_view_name": "LabelView",
            "style": "IPY_MODEL_a3993b65da4e43afb85217fd28167f0b",
            "_dom_classes": [],
            "description": "",
            "_model_name": "LabelModel",
            "placeholder": "​",
            "_view_module": "@jupyter-widgets/controls",
            "_model_module_version": "1.5.0",
            "value": " 184.00MB of 184.00MB uploaded (0.00MB deduped)\r",
            "_view_count": null,
            "_view_module_version": "1.5.0",
            "description_tooltip": null,
            "_model_module": "@jupyter-widgets/controls",
            "layout": "IPY_MODEL_3f611f375c7444d78187504139ec7716"
          }
        },
        "fdc4aa11ed9c49409739ff04f5c9f4fa": {
          "model_module": "@jupyter-widgets/controls",
          "model_name": "FloatProgressModel",
          "state": {
            "_view_name": "ProgressView",
            "style": "IPY_MODEL_0d7840092975427397d24412bb262e14",
            "_dom_classes": [],
            "description": "",
            "_model_name": "FloatProgressModel",
            "bar_style": "",
            "max": 1,
            "_view_module": "@jupyter-widgets/controls",
            "_model_module_version": "1.5.0",
            "value": 1,
            "_view_count": null,
            "_view_module_version": "1.5.0",
            "orientation": "horizontal",
            "min": 0,
            "description_tooltip": null,
            "_model_module": "@jupyter-widgets/controls",
            "layout": "IPY_MODEL_9ebe0ee0074848938649cf0179ff2f0a"
          }
        },
        "a3993b65da4e43afb85217fd28167f0b": {
          "model_module": "@jupyter-widgets/controls",
          "model_name": "DescriptionStyleModel",
          "state": {
            "_view_name": "StyleView",
            "_model_name": "DescriptionStyleModel",
            "description_width": "",
            "_view_module": "@jupyter-widgets/base",
            "_model_module_version": "1.5.0",
            "_view_count": null,
            "_view_module_version": "1.2.0",
            "_model_module": "@jupyter-widgets/controls"
          }
        },
        "3f611f375c7444d78187504139ec7716": {
          "model_module": "@jupyter-widgets/base",
          "model_name": "LayoutModel",
          "state": {
            "_view_name": "LayoutView",
            "grid_template_rows": null,
            "right": null,
            "justify_content": null,
            "_view_module": "@jupyter-widgets/base",
            "overflow": null,
            "_model_module_version": "1.2.0",
            "_view_count": null,
            "flex_flow": null,
            "width": null,
            "min_width": null,
            "border": null,
            "align_items": null,
            "bottom": null,
            "_model_module": "@jupyter-widgets/base",
            "top": null,
            "grid_column": null,
            "overflow_y": null,
            "overflow_x": null,
            "grid_auto_flow": null,
            "grid_area": null,
            "grid_template_columns": null,
            "flex": null,
            "_model_name": "LayoutModel",
            "justify_items": null,
            "grid_row": null,
            "max_height": null,
            "align_content": null,
            "visibility": null,
            "align_self": null,
            "height": null,
            "min_height": null,
            "padding": null,
            "grid_auto_rows": null,
            "grid_gap": null,
            "max_width": null,
            "order": null,
            "_view_module_version": "1.2.0",
            "grid_template_areas": null,
            "object_position": null,
            "object_fit": null,
            "grid_auto_columns": null,
            "margin": null,
            "display": null,
            "left": null
          }
        },
        "0d7840092975427397d24412bb262e14": {
          "model_module": "@jupyter-widgets/controls",
          "model_name": "ProgressStyleModel",
          "state": {
            "_view_name": "StyleView",
            "_model_name": "ProgressStyleModel",
            "description_width": "",
            "_view_module": "@jupyter-widgets/base",
            "_model_module_version": "1.5.0",
            "_view_count": null,
            "_view_module_version": "1.2.0",
            "bar_color": null,
            "_model_module": "@jupyter-widgets/controls"
          }
        },
        "9ebe0ee0074848938649cf0179ff2f0a": {
          "model_module": "@jupyter-widgets/base",
          "model_name": "LayoutModel",
          "state": {
            "_view_name": "LayoutView",
            "grid_template_rows": null,
            "right": null,
            "justify_content": null,
            "_view_module": "@jupyter-widgets/base",
            "overflow": null,
            "_model_module_version": "1.2.0",
            "_view_count": null,
            "flex_flow": null,
            "width": null,
            "min_width": null,
            "border": null,
            "align_items": null,
            "bottom": null,
            "_model_module": "@jupyter-widgets/base",
            "top": null,
            "grid_column": null,
            "overflow_y": null,
            "overflow_x": null,
            "grid_auto_flow": null,
            "grid_area": null,
            "grid_template_columns": null,
            "flex": null,
            "_model_name": "LayoutModel",
            "justify_items": null,
            "grid_row": null,
            "max_height": null,
            "align_content": null,
            "visibility": null,
            "align_self": null,
            "height": null,
            "min_height": null,
            "padding": null,
            "grid_auto_rows": null,
            "grid_gap": null,
            "max_width": null,
            "order": null,
            "_view_module_version": "1.2.0",
            "grid_template_areas": null,
            "object_position": null,
            "object_fit": null,
            "grid_auto_columns": null,
            "margin": null,
            "display": null,
            "left": null
          }
        },
        "a82e36261c134e0da7debc731f916f2d": {
          "model_module": "@jupyter-widgets/controls",
          "model_name": "VBoxModel",
          "state": {
            "_view_name": "VBoxView",
            "_dom_classes": [],
            "_model_name": "VBoxModel",
            "_view_module": "@jupyter-widgets/controls",
            "_model_module_version": "1.5.0",
            "_view_count": null,
            "_view_module_version": "1.5.0",
            "box_style": "",
            "layout": "IPY_MODEL_9342e24364994bd8922520fd77c179ce",
            "_model_module": "@jupyter-widgets/controls",
            "children": [
              "IPY_MODEL_b6298f7a0ce74a9eb0e65685def4577c",
              "IPY_MODEL_4898601bf0e649889a70f4eb3809c90f"
            ]
          }
        },
        "9342e24364994bd8922520fd77c179ce": {
          "model_module": "@jupyter-widgets/base",
          "model_name": "LayoutModel",
          "state": {
            "_view_name": "LayoutView",
            "grid_template_rows": null,
            "right": null,
            "justify_content": null,
            "_view_module": "@jupyter-widgets/base",
            "overflow": null,
            "_model_module_version": "1.2.0",
            "_view_count": null,
            "flex_flow": null,
            "width": null,
            "min_width": null,
            "border": null,
            "align_items": null,
            "bottom": null,
            "_model_module": "@jupyter-widgets/base",
            "top": null,
            "grid_column": null,
            "overflow_y": null,
            "overflow_x": null,
            "grid_auto_flow": null,
            "grid_area": null,
            "grid_template_columns": null,
            "flex": null,
            "_model_name": "LayoutModel",
            "justify_items": null,
            "grid_row": null,
            "max_height": null,
            "align_content": null,
            "visibility": null,
            "align_self": null,
            "height": null,
            "min_height": null,
            "padding": null,
            "grid_auto_rows": null,
            "grid_gap": null,
            "max_width": null,
            "order": null,
            "_view_module_version": "1.2.0",
            "grid_template_areas": null,
            "object_position": null,
            "object_fit": null,
            "grid_auto_columns": null,
            "margin": null,
            "display": null,
            "left": null
          }
        },
        "b6298f7a0ce74a9eb0e65685def4577c": {
          "model_module": "@jupyter-widgets/controls",
          "model_name": "LabelModel",
          "state": {
            "_view_name": "LabelView",
            "style": "IPY_MODEL_d332a2ed2141468f802b3c8fd1e5b839",
            "_dom_classes": [],
            "description": "",
            "_model_name": "LabelModel",
            "placeholder": "​",
            "_view_module": "@jupyter-widgets/controls",
            "_model_module_version": "1.5.0",
            "value": " 183.90MB of 183.90MB uploaded (0.00MB deduped)\r",
            "_view_count": null,
            "_view_module_version": "1.5.0",
            "description_tooltip": null,
            "_model_module": "@jupyter-widgets/controls",
            "layout": "IPY_MODEL_c3458d3a7ffa40be8f9b90c046da0139"
          }
        },
        "4898601bf0e649889a70f4eb3809c90f": {
          "model_module": "@jupyter-widgets/controls",
          "model_name": "FloatProgressModel",
          "state": {
            "_view_name": "ProgressView",
            "style": "IPY_MODEL_26a40658c6cd40ea9ecc28468b99d9ad",
            "_dom_classes": [],
            "description": "",
            "_model_name": "FloatProgressModel",
            "bar_style": "",
            "max": 1,
            "_view_module": "@jupyter-widgets/controls",
            "_model_module_version": "1.5.0",
            "value": 1,
            "_view_count": null,
            "_view_module_version": "1.5.0",
            "orientation": "horizontal",
            "min": 0,
            "description_tooltip": null,
            "_model_module": "@jupyter-widgets/controls",
            "layout": "IPY_MODEL_455d08110090447789c70cc226735026"
          }
        },
        "d332a2ed2141468f802b3c8fd1e5b839": {
          "model_module": "@jupyter-widgets/controls",
          "model_name": "DescriptionStyleModel",
          "state": {
            "_view_name": "StyleView",
            "_model_name": "DescriptionStyleModel",
            "description_width": "",
            "_view_module": "@jupyter-widgets/base",
            "_model_module_version": "1.5.0",
            "_view_count": null,
            "_view_module_version": "1.2.0",
            "_model_module": "@jupyter-widgets/controls"
          }
        },
        "c3458d3a7ffa40be8f9b90c046da0139": {
          "model_module": "@jupyter-widgets/base",
          "model_name": "LayoutModel",
          "state": {
            "_view_name": "LayoutView",
            "grid_template_rows": null,
            "right": null,
            "justify_content": null,
            "_view_module": "@jupyter-widgets/base",
            "overflow": null,
            "_model_module_version": "1.2.0",
            "_view_count": null,
            "flex_flow": null,
            "width": null,
            "min_width": null,
            "border": null,
            "align_items": null,
            "bottom": null,
            "_model_module": "@jupyter-widgets/base",
            "top": null,
            "grid_column": null,
            "overflow_y": null,
            "overflow_x": null,
            "grid_auto_flow": null,
            "grid_area": null,
            "grid_template_columns": null,
            "flex": null,
            "_model_name": "LayoutModel",
            "justify_items": null,
            "grid_row": null,
            "max_height": null,
            "align_content": null,
            "visibility": null,
            "align_self": null,
            "height": null,
            "min_height": null,
            "padding": null,
            "grid_auto_rows": null,
            "grid_gap": null,
            "max_width": null,
            "order": null,
            "_view_module_version": "1.2.0",
            "grid_template_areas": null,
            "object_position": null,
            "object_fit": null,
            "grid_auto_columns": null,
            "margin": null,
            "display": null,
            "left": null
          }
        },
        "26a40658c6cd40ea9ecc28468b99d9ad": {
          "model_module": "@jupyter-widgets/controls",
          "model_name": "ProgressStyleModel",
          "state": {
            "_view_name": "StyleView",
            "_model_name": "ProgressStyleModel",
            "description_width": "",
            "_view_module": "@jupyter-widgets/base",
            "_model_module_version": "1.5.0",
            "_view_count": null,
            "_view_module_version": "1.2.0",
            "bar_color": null,
            "_model_module": "@jupyter-widgets/controls"
          }
        },
        "455d08110090447789c70cc226735026": {
          "model_module": "@jupyter-widgets/base",
          "model_name": "LayoutModel",
          "state": {
            "_view_name": "LayoutView",
            "grid_template_rows": null,
            "right": null,
            "justify_content": null,
            "_view_module": "@jupyter-widgets/base",
            "overflow": null,
            "_model_module_version": "1.2.0",
            "_view_count": null,
            "flex_flow": null,
            "width": null,
            "min_width": null,
            "border": null,
            "align_items": null,
            "bottom": null,
            "_model_module": "@jupyter-widgets/base",
            "top": null,
            "grid_column": null,
            "overflow_y": null,
            "overflow_x": null,
            "grid_auto_flow": null,
            "grid_area": null,
            "grid_template_columns": null,
            "flex": null,
            "_model_name": "LayoutModel",
            "justify_items": null,
            "grid_row": null,
            "max_height": null,
            "align_content": null,
            "visibility": null,
            "align_self": null,
            "height": null,
            "min_height": null,
            "padding": null,
            "grid_auto_rows": null,
            "grid_gap": null,
            "max_width": null,
            "order": null,
            "_view_module_version": "1.2.0",
            "grid_template_areas": null,
            "object_position": null,
            "object_fit": null,
            "grid_auto_columns": null,
            "margin": null,
            "display": null,
            "left": null
          }
        },
        "118d81d4fb57452a8d27ca6564e81684": {
          "model_module": "@jupyter-widgets/controls",
          "model_name": "VBoxModel",
          "state": {
            "_view_name": "VBoxView",
            "_dom_classes": [],
            "_model_name": "VBoxModel",
            "_view_module": "@jupyter-widgets/controls",
            "_model_module_version": "1.5.0",
            "_view_count": null,
            "_view_module_version": "1.5.0",
            "box_style": "",
            "layout": "IPY_MODEL_c7a9578fb63b4ecd938fe62904e94962",
            "_model_module": "@jupyter-widgets/controls",
            "children": [
              "IPY_MODEL_85c68901d3d447889769ab3fa5040bc8",
              "IPY_MODEL_9afcf48145d9444b91f579119a9518de"
            ]
          }
        },
        "c7a9578fb63b4ecd938fe62904e94962": {
          "model_module": "@jupyter-widgets/base",
          "model_name": "LayoutModel",
          "state": {
            "_view_name": "LayoutView",
            "grid_template_rows": null,
            "right": null,
            "justify_content": null,
            "_view_module": "@jupyter-widgets/base",
            "overflow": null,
            "_model_module_version": "1.2.0",
            "_view_count": null,
            "flex_flow": null,
            "width": null,
            "min_width": null,
            "border": null,
            "align_items": null,
            "bottom": null,
            "_model_module": "@jupyter-widgets/base",
            "top": null,
            "grid_column": null,
            "overflow_y": null,
            "overflow_x": null,
            "grid_auto_flow": null,
            "grid_area": null,
            "grid_template_columns": null,
            "flex": null,
            "_model_name": "LayoutModel",
            "justify_items": null,
            "grid_row": null,
            "max_height": null,
            "align_content": null,
            "visibility": null,
            "align_self": null,
            "height": null,
            "min_height": null,
            "padding": null,
            "grid_auto_rows": null,
            "grid_gap": null,
            "max_width": null,
            "order": null,
            "_view_module_version": "1.2.0",
            "grid_template_areas": null,
            "object_position": null,
            "object_fit": null,
            "grid_auto_columns": null,
            "margin": null,
            "display": null,
            "left": null
          }
        },
        "85c68901d3d447889769ab3fa5040bc8": {
          "model_module": "@jupyter-widgets/controls",
          "model_name": "LabelModel",
          "state": {
            "_view_name": "LabelView",
            "style": "IPY_MODEL_2eec7a29e26b4d458b47fb850db7d0d3",
            "_dom_classes": [],
            "description": "",
            "_model_name": "LabelModel",
            "placeholder": "​",
            "_view_module": "@jupyter-widgets/controls",
            "_model_module_version": "1.5.0",
            "value": " 184.00MB of 184.00MB uploaded (0.00MB deduped)\r",
            "_view_count": null,
            "_view_module_version": "1.5.0",
            "description_tooltip": null,
            "_model_module": "@jupyter-widgets/controls",
            "layout": "IPY_MODEL_d9a0a6a22bed424d8355a15163f25efc"
          }
        },
        "9afcf48145d9444b91f579119a9518de": {
          "model_module": "@jupyter-widgets/controls",
          "model_name": "FloatProgressModel",
          "state": {
            "_view_name": "ProgressView",
            "style": "IPY_MODEL_7eb3a9399d05442a92db7b5083c9f837",
            "_dom_classes": [],
            "description": "",
            "_model_name": "FloatProgressModel",
            "bar_style": "",
            "max": 1,
            "_view_module": "@jupyter-widgets/controls",
            "_model_module_version": "1.5.0",
            "value": 1,
            "_view_count": null,
            "_view_module_version": "1.5.0",
            "orientation": "horizontal",
            "min": 0,
            "description_tooltip": null,
            "_model_module": "@jupyter-widgets/controls",
            "layout": "IPY_MODEL_a374c6044ef541e9b9cb7ac4a776ef99"
          }
        },
        "2eec7a29e26b4d458b47fb850db7d0d3": {
          "model_module": "@jupyter-widgets/controls",
          "model_name": "DescriptionStyleModel",
          "state": {
            "_view_name": "StyleView",
            "_model_name": "DescriptionStyleModel",
            "description_width": "",
            "_view_module": "@jupyter-widgets/base",
            "_model_module_version": "1.5.0",
            "_view_count": null,
            "_view_module_version": "1.2.0",
            "_model_module": "@jupyter-widgets/controls"
          }
        },
        "d9a0a6a22bed424d8355a15163f25efc": {
          "model_module": "@jupyter-widgets/base",
          "model_name": "LayoutModel",
          "state": {
            "_view_name": "LayoutView",
            "grid_template_rows": null,
            "right": null,
            "justify_content": null,
            "_view_module": "@jupyter-widgets/base",
            "overflow": null,
            "_model_module_version": "1.2.0",
            "_view_count": null,
            "flex_flow": null,
            "width": null,
            "min_width": null,
            "border": null,
            "align_items": null,
            "bottom": null,
            "_model_module": "@jupyter-widgets/base",
            "top": null,
            "grid_column": null,
            "overflow_y": null,
            "overflow_x": null,
            "grid_auto_flow": null,
            "grid_area": null,
            "grid_template_columns": null,
            "flex": null,
            "_model_name": "LayoutModel",
            "justify_items": null,
            "grid_row": null,
            "max_height": null,
            "align_content": null,
            "visibility": null,
            "align_self": null,
            "height": null,
            "min_height": null,
            "padding": null,
            "grid_auto_rows": null,
            "grid_gap": null,
            "max_width": null,
            "order": null,
            "_view_module_version": "1.2.0",
            "grid_template_areas": null,
            "object_position": null,
            "object_fit": null,
            "grid_auto_columns": null,
            "margin": null,
            "display": null,
            "left": null
          }
        },
        "7eb3a9399d05442a92db7b5083c9f837": {
          "model_module": "@jupyter-widgets/controls",
          "model_name": "ProgressStyleModel",
          "state": {
            "_view_name": "StyleView",
            "_model_name": "ProgressStyleModel",
            "description_width": "",
            "_view_module": "@jupyter-widgets/base",
            "_model_module_version": "1.5.0",
            "_view_count": null,
            "_view_module_version": "1.2.0",
            "bar_color": null,
            "_model_module": "@jupyter-widgets/controls"
          }
        },
        "a374c6044ef541e9b9cb7ac4a776ef99": {
          "model_module": "@jupyter-widgets/base",
          "model_name": "LayoutModel",
          "state": {
            "_view_name": "LayoutView",
            "grid_template_rows": null,
            "right": null,
            "justify_content": null,
            "_view_module": "@jupyter-widgets/base",
            "overflow": null,
            "_model_module_version": "1.2.0",
            "_view_count": null,
            "flex_flow": null,
            "width": null,
            "min_width": null,
            "border": null,
            "align_items": null,
            "bottom": null,
            "_model_module": "@jupyter-widgets/base",
            "top": null,
            "grid_column": null,
            "overflow_y": null,
            "overflow_x": null,
            "grid_auto_flow": null,
            "grid_area": null,
            "grid_template_columns": null,
            "flex": null,
            "_model_name": "LayoutModel",
            "justify_items": null,
            "grid_row": null,
            "max_height": null,
            "align_content": null,
            "visibility": null,
            "align_self": null,
            "height": null,
            "min_height": null,
            "padding": null,
            "grid_auto_rows": null,
            "grid_gap": null,
            "max_width": null,
            "order": null,
            "_view_module_version": "1.2.0",
            "grid_template_areas": null,
            "object_position": null,
            "object_fit": null,
            "grid_auto_columns": null,
            "margin": null,
            "display": null,
            "left": null
          }
        },
        "66187b6ba8064f6981de28b548ab9593": {
          "model_module": "@jupyter-widgets/controls",
          "model_name": "VBoxModel",
          "state": {
            "_view_name": "VBoxView",
            "_dom_classes": [],
            "_model_name": "VBoxModel",
            "_view_module": "@jupyter-widgets/controls",
            "_model_module_version": "1.5.0",
            "_view_count": null,
            "_view_module_version": "1.5.0",
            "box_style": "",
            "layout": "IPY_MODEL_ae452b5f5fab46d585ec9c30afed7c66",
            "_model_module": "@jupyter-widgets/controls",
            "children": [
              "IPY_MODEL_d8592e67063449c8ab2109332c3ffa61",
              "IPY_MODEL_b6ed9898b0744a49bdb5363f25b9b9a3"
            ]
          }
        },
        "ae452b5f5fab46d585ec9c30afed7c66": {
          "model_module": "@jupyter-widgets/base",
          "model_name": "LayoutModel",
          "state": {
            "_view_name": "LayoutView",
            "grid_template_rows": null,
            "right": null,
            "justify_content": null,
            "_view_module": "@jupyter-widgets/base",
            "overflow": null,
            "_model_module_version": "1.2.0",
            "_view_count": null,
            "flex_flow": null,
            "width": null,
            "min_width": null,
            "border": null,
            "align_items": null,
            "bottom": null,
            "_model_module": "@jupyter-widgets/base",
            "top": null,
            "grid_column": null,
            "overflow_y": null,
            "overflow_x": null,
            "grid_auto_flow": null,
            "grid_area": null,
            "grid_template_columns": null,
            "flex": null,
            "_model_name": "LayoutModel",
            "justify_items": null,
            "grid_row": null,
            "max_height": null,
            "align_content": null,
            "visibility": null,
            "align_self": null,
            "height": null,
            "min_height": null,
            "padding": null,
            "grid_auto_rows": null,
            "grid_gap": null,
            "max_width": null,
            "order": null,
            "_view_module_version": "1.2.0",
            "grid_template_areas": null,
            "object_position": null,
            "object_fit": null,
            "grid_auto_columns": null,
            "margin": null,
            "display": null,
            "left": null
          }
        },
        "d8592e67063449c8ab2109332c3ffa61": {
          "model_module": "@jupyter-widgets/controls",
          "model_name": "LabelModel",
          "state": {
            "_view_name": "LabelView",
            "style": "IPY_MODEL_27eb5e0b74894a8f9dfd9fabdadeaed4",
            "_dom_classes": [],
            "description": "",
            "_model_name": "LabelModel",
            "placeholder": "​",
            "_view_module": "@jupyter-widgets/controls",
            "_model_module_version": "1.5.0",
            "value": " 184.07MB of 184.07MB uploaded (0.00MB deduped)\r",
            "_view_count": null,
            "_view_module_version": "1.5.0",
            "description_tooltip": null,
            "_model_module": "@jupyter-widgets/controls",
            "layout": "IPY_MODEL_ecc2656e9f2f44e0ba25270c133ffefc"
          }
        },
        "b6ed9898b0744a49bdb5363f25b9b9a3": {
          "model_module": "@jupyter-widgets/controls",
          "model_name": "FloatProgressModel",
          "state": {
            "_view_name": "ProgressView",
            "style": "IPY_MODEL_55124e62f7744f0db6ef8c76fdaecac1",
            "_dom_classes": [],
            "description": "",
            "_model_name": "FloatProgressModel",
            "bar_style": "",
            "max": 1,
            "_view_module": "@jupyter-widgets/controls",
            "_model_module_version": "1.5.0",
            "value": 1,
            "_view_count": null,
            "_view_module_version": "1.5.0",
            "orientation": "horizontal",
            "min": 0,
            "description_tooltip": null,
            "_model_module": "@jupyter-widgets/controls",
            "layout": "IPY_MODEL_0837fa4bc3154b85b5dc9b601e1e9861"
          }
        },
        "27eb5e0b74894a8f9dfd9fabdadeaed4": {
          "model_module": "@jupyter-widgets/controls",
          "model_name": "DescriptionStyleModel",
          "state": {
            "_view_name": "StyleView",
            "_model_name": "DescriptionStyleModel",
            "description_width": "",
            "_view_module": "@jupyter-widgets/base",
            "_model_module_version": "1.5.0",
            "_view_count": null,
            "_view_module_version": "1.2.0",
            "_model_module": "@jupyter-widgets/controls"
          }
        },
        "ecc2656e9f2f44e0ba25270c133ffefc": {
          "model_module": "@jupyter-widgets/base",
          "model_name": "LayoutModel",
          "state": {
            "_view_name": "LayoutView",
            "grid_template_rows": null,
            "right": null,
            "justify_content": null,
            "_view_module": "@jupyter-widgets/base",
            "overflow": null,
            "_model_module_version": "1.2.0",
            "_view_count": null,
            "flex_flow": null,
            "width": null,
            "min_width": null,
            "border": null,
            "align_items": null,
            "bottom": null,
            "_model_module": "@jupyter-widgets/base",
            "top": null,
            "grid_column": null,
            "overflow_y": null,
            "overflow_x": null,
            "grid_auto_flow": null,
            "grid_area": null,
            "grid_template_columns": null,
            "flex": null,
            "_model_name": "LayoutModel",
            "justify_items": null,
            "grid_row": null,
            "max_height": null,
            "align_content": null,
            "visibility": null,
            "align_self": null,
            "height": null,
            "min_height": null,
            "padding": null,
            "grid_auto_rows": null,
            "grid_gap": null,
            "max_width": null,
            "order": null,
            "_view_module_version": "1.2.0",
            "grid_template_areas": null,
            "object_position": null,
            "object_fit": null,
            "grid_auto_columns": null,
            "margin": null,
            "display": null,
            "left": null
          }
        },
        "55124e62f7744f0db6ef8c76fdaecac1": {
          "model_module": "@jupyter-widgets/controls",
          "model_name": "ProgressStyleModel",
          "state": {
            "_view_name": "StyleView",
            "_model_name": "ProgressStyleModel",
            "description_width": "",
            "_view_module": "@jupyter-widgets/base",
            "_model_module_version": "1.5.0",
            "_view_count": null,
            "_view_module_version": "1.2.0",
            "bar_color": null,
            "_model_module": "@jupyter-widgets/controls"
          }
        },
        "0837fa4bc3154b85b5dc9b601e1e9861": {
          "model_module": "@jupyter-widgets/base",
          "model_name": "LayoutModel",
          "state": {
            "_view_name": "LayoutView",
            "grid_template_rows": null,
            "right": null,
            "justify_content": null,
            "_view_module": "@jupyter-widgets/base",
            "overflow": null,
            "_model_module_version": "1.2.0",
            "_view_count": null,
            "flex_flow": null,
            "width": null,
            "min_width": null,
            "border": null,
            "align_items": null,
            "bottom": null,
            "_model_module": "@jupyter-widgets/base",
            "top": null,
            "grid_column": null,
            "overflow_y": null,
            "overflow_x": null,
            "grid_auto_flow": null,
            "grid_area": null,
            "grid_template_columns": null,
            "flex": null,
            "_model_name": "LayoutModel",
            "justify_items": null,
            "grid_row": null,
            "max_height": null,
            "align_content": null,
            "visibility": null,
            "align_self": null,
            "height": null,
            "min_height": null,
            "padding": null,
            "grid_auto_rows": null,
            "grid_gap": null,
            "max_width": null,
            "order": null,
            "_view_module_version": "1.2.0",
            "grid_template_areas": null,
            "object_position": null,
            "object_fit": null,
            "grid_auto_columns": null,
            "margin": null,
            "display": null,
            "left": null
          }
        },
        "c1c96b90335f4653a7fbf56f2cc2b9b4": {
          "model_module": "@jupyter-widgets/controls",
          "model_name": "VBoxModel",
          "state": {
            "_view_name": "VBoxView",
            "_dom_classes": [],
            "_model_name": "VBoxModel",
            "_view_module": "@jupyter-widgets/controls",
            "_model_module_version": "1.5.0",
            "_view_count": null,
            "_view_module_version": "1.5.0",
            "box_style": "",
            "layout": "IPY_MODEL_8aac64b43ffa437bbd0d767477af59b0",
            "_model_module": "@jupyter-widgets/controls",
            "children": [
              "IPY_MODEL_9ba0ece1c27e457eac4151475501863f",
              "IPY_MODEL_aea3c668dbc649969f1456e3f1fbfa9a"
            ]
          }
        },
        "8aac64b43ffa437bbd0d767477af59b0": {
          "model_module": "@jupyter-widgets/base",
          "model_name": "LayoutModel",
          "state": {
            "_view_name": "LayoutView",
            "grid_template_rows": null,
            "right": null,
            "justify_content": null,
            "_view_module": "@jupyter-widgets/base",
            "overflow": null,
            "_model_module_version": "1.2.0",
            "_view_count": null,
            "flex_flow": null,
            "width": null,
            "min_width": null,
            "border": null,
            "align_items": null,
            "bottom": null,
            "_model_module": "@jupyter-widgets/base",
            "top": null,
            "grid_column": null,
            "overflow_y": null,
            "overflow_x": null,
            "grid_auto_flow": null,
            "grid_area": null,
            "grid_template_columns": null,
            "flex": null,
            "_model_name": "LayoutModel",
            "justify_items": null,
            "grid_row": null,
            "max_height": null,
            "align_content": null,
            "visibility": null,
            "align_self": null,
            "height": null,
            "min_height": null,
            "padding": null,
            "grid_auto_rows": null,
            "grid_gap": null,
            "max_width": null,
            "order": null,
            "_view_module_version": "1.2.0",
            "grid_template_areas": null,
            "object_position": null,
            "object_fit": null,
            "grid_auto_columns": null,
            "margin": null,
            "display": null,
            "left": null
          }
        },
        "9ba0ece1c27e457eac4151475501863f": {
          "model_module": "@jupyter-widgets/controls",
          "model_name": "LabelModel",
          "state": {
            "_view_name": "LabelView",
            "style": "IPY_MODEL_4499491c32d54bdd976ad23538327ac5",
            "_dom_classes": [],
            "description": "",
            "_model_name": "LabelModel",
            "placeholder": "​",
            "_view_module": "@jupyter-widgets/controls",
            "_model_module_version": "1.5.0",
            "value": " 184.27MB of 184.27MB uploaded (0.00MB deduped)\r",
            "_view_count": null,
            "_view_module_version": "1.5.0",
            "description_tooltip": null,
            "_model_module": "@jupyter-widgets/controls",
            "layout": "IPY_MODEL_396b474b7e604bb0850bec34e1ab418c"
          }
        },
        "aea3c668dbc649969f1456e3f1fbfa9a": {
          "model_module": "@jupyter-widgets/controls",
          "model_name": "FloatProgressModel",
          "state": {
            "_view_name": "ProgressView",
            "style": "IPY_MODEL_541024fcacae46fbbbb1f411354612a9",
            "_dom_classes": [],
            "description": "",
            "_model_name": "FloatProgressModel",
            "bar_style": "",
            "max": 1,
            "_view_module": "@jupyter-widgets/controls",
            "_model_module_version": "1.5.0",
            "value": 1,
            "_view_count": null,
            "_view_module_version": "1.5.0",
            "orientation": "horizontal",
            "min": 0,
            "description_tooltip": null,
            "_model_module": "@jupyter-widgets/controls",
            "layout": "IPY_MODEL_0d06f482b91841ee8ace4b3f66d4d34f"
          }
        },
        "4499491c32d54bdd976ad23538327ac5": {
          "model_module": "@jupyter-widgets/controls",
          "model_name": "DescriptionStyleModel",
          "state": {
            "_view_name": "StyleView",
            "_model_name": "DescriptionStyleModel",
            "description_width": "",
            "_view_module": "@jupyter-widgets/base",
            "_model_module_version": "1.5.0",
            "_view_count": null,
            "_view_module_version": "1.2.0",
            "_model_module": "@jupyter-widgets/controls"
          }
        },
        "396b474b7e604bb0850bec34e1ab418c": {
          "model_module": "@jupyter-widgets/base",
          "model_name": "LayoutModel",
          "state": {
            "_view_name": "LayoutView",
            "grid_template_rows": null,
            "right": null,
            "justify_content": null,
            "_view_module": "@jupyter-widgets/base",
            "overflow": null,
            "_model_module_version": "1.2.0",
            "_view_count": null,
            "flex_flow": null,
            "width": null,
            "min_width": null,
            "border": null,
            "align_items": null,
            "bottom": null,
            "_model_module": "@jupyter-widgets/base",
            "top": null,
            "grid_column": null,
            "overflow_y": null,
            "overflow_x": null,
            "grid_auto_flow": null,
            "grid_area": null,
            "grid_template_columns": null,
            "flex": null,
            "_model_name": "LayoutModel",
            "justify_items": null,
            "grid_row": null,
            "max_height": null,
            "align_content": null,
            "visibility": null,
            "align_self": null,
            "height": null,
            "min_height": null,
            "padding": null,
            "grid_auto_rows": null,
            "grid_gap": null,
            "max_width": null,
            "order": null,
            "_view_module_version": "1.2.0",
            "grid_template_areas": null,
            "object_position": null,
            "object_fit": null,
            "grid_auto_columns": null,
            "margin": null,
            "display": null,
            "left": null
          }
        },
        "541024fcacae46fbbbb1f411354612a9": {
          "model_module": "@jupyter-widgets/controls",
          "model_name": "ProgressStyleModel",
          "state": {
            "_view_name": "StyleView",
            "_model_name": "ProgressStyleModel",
            "description_width": "",
            "_view_module": "@jupyter-widgets/base",
            "_model_module_version": "1.5.0",
            "_view_count": null,
            "_view_module_version": "1.2.0",
            "bar_color": null,
            "_model_module": "@jupyter-widgets/controls"
          }
        },
        "0d06f482b91841ee8ace4b3f66d4d34f": {
          "model_module": "@jupyter-widgets/base",
          "model_name": "LayoutModel",
          "state": {
            "_view_name": "LayoutView",
            "grid_template_rows": null,
            "right": null,
            "justify_content": null,
            "_view_module": "@jupyter-widgets/base",
            "overflow": null,
            "_model_module_version": "1.2.0",
            "_view_count": null,
            "flex_flow": null,
            "width": null,
            "min_width": null,
            "border": null,
            "align_items": null,
            "bottom": null,
            "_model_module": "@jupyter-widgets/base",
            "top": null,
            "grid_column": null,
            "overflow_y": null,
            "overflow_x": null,
            "grid_auto_flow": null,
            "grid_area": null,
            "grid_template_columns": null,
            "flex": null,
            "_model_name": "LayoutModel",
            "justify_items": null,
            "grid_row": null,
            "max_height": null,
            "align_content": null,
            "visibility": null,
            "align_self": null,
            "height": null,
            "min_height": null,
            "padding": null,
            "grid_auto_rows": null,
            "grid_gap": null,
            "max_width": null,
            "order": null,
            "_view_module_version": "1.2.0",
            "grid_template_areas": null,
            "object_position": null,
            "object_fit": null,
            "grid_auto_columns": null,
            "margin": null,
            "display": null,
            "left": null
          }
        },
        "92d9894dff46420c93116a78871c2f9a": {
          "model_module": "@jupyter-widgets/controls",
          "model_name": "VBoxModel",
          "state": {
            "_view_name": "VBoxView",
            "_dom_classes": [],
            "_model_name": "VBoxModel",
            "_view_module": "@jupyter-widgets/controls",
            "_model_module_version": "1.5.0",
            "_view_count": null,
            "_view_module_version": "1.5.0",
            "box_style": "",
            "layout": "IPY_MODEL_25e8ad9f133e4fd1b00750876fdbdb6d",
            "_model_module": "@jupyter-widgets/controls",
            "children": [
              "IPY_MODEL_7e24114a11d74f45b43eaf5d92b277b3",
              "IPY_MODEL_a873b4e288054118b06021f06478a857"
            ]
          }
        },
        "25e8ad9f133e4fd1b00750876fdbdb6d": {
          "model_module": "@jupyter-widgets/base",
          "model_name": "LayoutModel",
          "state": {
            "_view_name": "LayoutView",
            "grid_template_rows": null,
            "right": null,
            "justify_content": null,
            "_view_module": "@jupyter-widgets/base",
            "overflow": null,
            "_model_module_version": "1.2.0",
            "_view_count": null,
            "flex_flow": null,
            "width": null,
            "min_width": null,
            "border": null,
            "align_items": null,
            "bottom": null,
            "_model_module": "@jupyter-widgets/base",
            "top": null,
            "grid_column": null,
            "overflow_y": null,
            "overflow_x": null,
            "grid_auto_flow": null,
            "grid_area": null,
            "grid_template_columns": null,
            "flex": null,
            "_model_name": "LayoutModel",
            "justify_items": null,
            "grid_row": null,
            "max_height": null,
            "align_content": null,
            "visibility": null,
            "align_self": null,
            "height": null,
            "min_height": null,
            "padding": null,
            "grid_auto_rows": null,
            "grid_gap": null,
            "max_width": null,
            "order": null,
            "_view_module_version": "1.2.0",
            "grid_template_areas": null,
            "object_position": null,
            "object_fit": null,
            "grid_auto_columns": null,
            "margin": null,
            "display": null,
            "left": null
          }
        },
        "7e24114a11d74f45b43eaf5d92b277b3": {
          "model_module": "@jupyter-widgets/controls",
          "model_name": "LabelModel",
          "state": {
            "_view_name": "LabelView",
            "style": "IPY_MODEL_b12f1770c74f4d06aff20c2c6f7081fb",
            "_dom_classes": [],
            "description": "",
            "_model_name": "LabelModel",
            "placeholder": "​",
            "_view_module": "@jupyter-widgets/controls",
            "_model_module_version": "1.5.0",
            "value": " 184.07MB of 184.07MB uploaded (0.00MB deduped)\r",
            "_view_count": null,
            "_view_module_version": "1.5.0",
            "description_tooltip": null,
            "_model_module": "@jupyter-widgets/controls",
            "layout": "IPY_MODEL_3f9f1a77f0f24c0895f972d834d97ead"
          }
        },
        "a873b4e288054118b06021f06478a857": {
          "model_module": "@jupyter-widgets/controls",
          "model_name": "FloatProgressModel",
          "state": {
            "_view_name": "ProgressView",
            "style": "IPY_MODEL_4516fac0e10a485289424fa2858f1aae",
            "_dom_classes": [],
            "description": "",
            "_model_name": "FloatProgressModel",
            "bar_style": "",
            "max": 1,
            "_view_module": "@jupyter-widgets/controls",
            "_model_module_version": "1.5.0",
            "value": 1,
            "_view_count": null,
            "_view_module_version": "1.5.0",
            "orientation": "horizontal",
            "min": 0,
            "description_tooltip": null,
            "_model_module": "@jupyter-widgets/controls",
            "layout": "IPY_MODEL_97fbdf4c1c62492f9177a48c14324afe"
          }
        },
        "b12f1770c74f4d06aff20c2c6f7081fb": {
          "model_module": "@jupyter-widgets/controls",
          "model_name": "DescriptionStyleModel",
          "state": {
            "_view_name": "StyleView",
            "_model_name": "DescriptionStyleModel",
            "description_width": "",
            "_view_module": "@jupyter-widgets/base",
            "_model_module_version": "1.5.0",
            "_view_count": null,
            "_view_module_version": "1.2.0",
            "_model_module": "@jupyter-widgets/controls"
          }
        },
        "3f9f1a77f0f24c0895f972d834d97ead": {
          "model_module": "@jupyter-widgets/base",
          "model_name": "LayoutModel",
          "state": {
            "_view_name": "LayoutView",
            "grid_template_rows": null,
            "right": null,
            "justify_content": null,
            "_view_module": "@jupyter-widgets/base",
            "overflow": null,
            "_model_module_version": "1.2.0",
            "_view_count": null,
            "flex_flow": null,
            "width": null,
            "min_width": null,
            "border": null,
            "align_items": null,
            "bottom": null,
            "_model_module": "@jupyter-widgets/base",
            "top": null,
            "grid_column": null,
            "overflow_y": null,
            "overflow_x": null,
            "grid_auto_flow": null,
            "grid_area": null,
            "grid_template_columns": null,
            "flex": null,
            "_model_name": "LayoutModel",
            "justify_items": null,
            "grid_row": null,
            "max_height": null,
            "align_content": null,
            "visibility": null,
            "align_self": null,
            "height": null,
            "min_height": null,
            "padding": null,
            "grid_auto_rows": null,
            "grid_gap": null,
            "max_width": null,
            "order": null,
            "_view_module_version": "1.2.0",
            "grid_template_areas": null,
            "object_position": null,
            "object_fit": null,
            "grid_auto_columns": null,
            "margin": null,
            "display": null,
            "left": null
          }
        },
        "4516fac0e10a485289424fa2858f1aae": {
          "model_module": "@jupyter-widgets/controls",
          "model_name": "ProgressStyleModel",
          "state": {
            "_view_name": "StyleView",
            "_model_name": "ProgressStyleModel",
            "description_width": "",
            "_view_module": "@jupyter-widgets/base",
            "_model_module_version": "1.5.0",
            "_view_count": null,
            "_view_module_version": "1.2.0",
            "bar_color": null,
            "_model_module": "@jupyter-widgets/controls"
          }
        },
        "97fbdf4c1c62492f9177a48c14324afe": {
          "model_module": "@jupyter-widgets/base",
          "model_name": "LayoutModel",
          "state": {
            "_view_name": "LayoutView",
            "grid_template_rows": null,
            "right": null,
            "justify_content": null,
            "_view_module": "@jupyter-widgets/base",
            "overflow": null,
            "_model_module_version": "1.2.0",
            "_view_count": null,
            "flex_flow": null,
            "width": null,
            "min_width": null,
            "border": null,
            "align_items": null,
            "bottom": null,
            "_model_module": "@jupyter-widgets/base",
            "top": null,
            "grid_column": null,
            "overflow_y": null,
            "overflow_x": null,
            "grid_auto_flow": null,
            "grid_area": null,
            "grid_template_columns": null,
            "flex": null,
            "_model_name": "LayoutModel",
            "justify_items": null,
            "grid_row": null,
            "max_height": null,
            "align_content": null,
            "visibility": null,
            "align_self": null,
            "height": null,
            "min_height": null,
            "padding": null,
            "grid_auto_rows": null,
            "grid_gap": null,
            "max_width": null,
            "order": null,
            "_view_module_version": "1.2.0",
            "grid_template_areas": null,
            "object_position": null,
            "object_fit": null,
            "grid_auto_columns": null,
            "margin": null,
            "display": null,
            "left": null
          }
        },
        "1d9967a763f04b928eee5d71f00a14ab": {
          "model_module": "@jupyter-widgets/controls",
          "model_name": "VBoxModel",
          "state": {
            "_view_name": "VBoxView",
            "_dom_classes": [],
            "_model_name": "VBoxModel",
            "_view_module": "@jupyter-widgets/controls",
            "_model_module_version": "1.5.0",
            "_view_count": null,
            "_view_module_version": "1.5.0",
            "box_style": "",
            "layout": "IPY_MODEL_5362ddef98f84cbfa1555d1f5371508b",
            "_model_module": "@jupyter-widgets/controls",
            "children": [
              "IPY_MODEL_c79cfed7ee0b4d1f9f9f25b61bda0915",
              "IPY_MODEL_ced4b0b1fa074c438f997e612161e382"
            ]
          }
        },
        "5362ddef98f84cbfa1555d1f5371508b": {
          "model_module": "@jupyter-widgets/base",
          "model_name": "LayoutModel",
          "state": {
            "_view_name": "LayoutView",
            "grid_template_rows": null,
            "right": null,
            "justify_content": null,
            "_view_module": "@jupyter-widgets/base",
            "overflow": null,
            "_model_module_version": "1.2.0",
            "_view_count": null,
            "flex_flow": null,
            "width": null,
            "min_width": null,
            "border": null,
            "align_items": null,
            "bottom": null,
            "_model_module": "@jupyter-widgets/base",
            "top": null,
            "grid_column": null,
            "overflow_y": null,
            "overflow_x": null,
            "grid_auto_flow": null,
            "grid_area": null,
            "grid_template_columns": null,
            "flex": null,
            "_model_name": "LayoutModel",
            "justify_items": null,
            "grid_row": null,
            "max_height": null,
            "align_content": null,
            "visibility": null,
            "align_self": null,
            "height": null,
            "min_height": null,
            "padding": null,
            "grid_auto_rows": null,
            "grid_gap": null,
            "max_width": null,
            "order": null,
            "_view_module_version": "1.2.0",
            "grid_template_areas": null,
            "object_position": null,
            "object_fit": null,
            "grid_auto_columns": null,
            "margin": null,
            "display": null,
            "left": null
          }
        },
        "c79cfed7ee0b4d1f9f9f25b61bda0915": {
          "model_module": "@jupyter-widgets/controls",
          "model_name": "LabelModel",
          "state": {
            "_view_name": "LabelView",
            "style": "IPY_MODEL_85102af199c348708f17db9c71cf4fe2",
            "_dom_classes": [],
            "description": "",
            "_model_name": "LabelModel",
            "placeholder": "​",
            "_view_module": "@jupyter-widgets/controls",
            "_model_module_version": "1.5.0",
            "value": " 184.07MB of 184.07MB uploaded (0.00MB deduped)\r",
            "_view_count": null,
            "_view_module_version": "1.5.0",
            "description_tooltip": null,
            "_model_module": "@jupyter-widgets/controls",
            "layout": "IPY_MODEL_bef2d77d740a4065b5568dd57eeec2ab"
          }
        },
        "ced4b0b1fa074c438f997e612161e382": {
          "model_module": "@jupyter-widgets/controls",
          "model_name": "FloatProgressModel",
          "state": {
            "_view_name": "ProgressView",
            "style": "IPY_MODEL_db30256dbc504553b36015c49d98f671",
            "_dom_classes": [],
            "description": "",
            "_model_name": "FloatProgressModel",
            "bar_style": "",
            "max": 1,
            "_view_module": "@jupyter-widgets/controls",
            "_model_module_version": "1.5.0",
            "value": 1,
            "_view_count": null,
            "_view_module_version": "1.5.0",
            "orientation": "horizontal",
            "min": 0,
            "description_tooltip": null,
            "_model_module": "@jupyter-widgets/controls",
            "layout": "IPY_MODEL_b79c5390952a4a4382eb132655c02820"
          }
        },
        "85102af199c348708f17db9c71cf4fe2": {
          "model_module": "@jupyter-widgets/controls",
          "model_name": "DescriptionStyleModel",
          "state": {
            "_view_name": "StyleView",
            "_model_name": "DescriptionStyleModel",
            "description_width": "",
            "_view_module": "@jupyter-widgets/base",
            "_model_module_version": "1.5.0",
            "_view_count": null,
            "_view_module_version": "1.2.0",
            "_model_module": "@jupyter-widgets/controls"
          }
        },
        "bef2d77d740a4065b5568dd57eeec2ab": {
          "model_module": "@jupyter-widgets/base",
          "model_name": "LayoutModel",
          "state": {
            "_view_name": "LayoutView",
            "grid_template_rows": null,
            "right": null,
            "justify_content": null,
            "_view_module": "@jupyter-widgets/base",
            "overflow": null,
            "_model_module_version": "1.2.0",
            "_view_count": null,
            "flex_flow": null,
            "width": null,
            "min_width": null,
            "border": null,
            "align_items": null,
            "bottom": null,
            "_model_module": "@jupyter-widgets/base",
            "top": null,
            "grid_column": null,
            "overflow_y": null,
            "overflow_x": null,
            "grid_auto_flow": null,
            "grid_area": null,
            "grid_template_columns": null,
            "flex": null,
            "_model_name": "LayoutModel",
            "justify_items": null,
            "grid_row": null,
            "max_height": null,
            "align_content": null,
            "visibility": null,
            "align_self": null,
            "height": null,
            "min_height": null,
            "padding": null,
            "grid_auto_rows": null,
            "grid_gap": null,
            "max_width": null,
            "order": null,
            "_view_module_version": "1.2.0",
            "grid_template_areas": null,
            "object_position": null,
            "object_fit": null,
            "grid_auto_columns": null,
            "margin": null,
            "display": null,
            "left": null
          }
        },
        "db30256dbc504553b36015c49d98f671": {
          "model_module": "@jupyter-widgets/controls",
          "model_name": "ProgressStyleModel",
          "state": {
            "_view_name": "StyleView",
            "_model_name": "ProgressStyleModel",
            "description_width": "",
            "_view_module": "@jupyter-widgets/base",
            "_model_module_version": "1.5.0",
            "_view_count": null,
            "_view_module_version": "1.2.0",
            "bar_color": null,
            "_model_module": "@jupyter-widgets/controls"
          }
        },
        "b79c5390952a4a4382eb132655c02820": {
          "model_module": "@jupyter-widgets/base",
          "model_name": "LayoutModel",
          "state": {
            "_view_name": "LayoutView",
            "grid_template_rows": null,
            "right": null,
            "justify_content": null,
            "_view_module": "@jupyter-widgets/base",
            "overflow": null,
            "_model_module_version": "1.2.0",
            "_view_count": null,
            "flex_flow": null,
            "width": null,
            "min_width": null,
            "border": null,
            "align_items": null,
            "bottom": null,
            "_model_module": "@jupyter-widgets/base",
            "top": null,
            "grid_column": null,
            "overflow_y": null,
            "overflow_x": null,
            "grid_auto_flow": null,
            "grid_area": null,
            "grid_template_columns": null,
            "flex": null,
            "_model_name": "LayoutModel",
            "justify_items": null,
            "grid_row": null,
            "max_height": null,
            "align_content": null,
            "visibility": null,
            "align_self": null,
            "height": null,
            "min_height": null,
            "padding": null,
            "grid_auto_rows": null,
            "grid_gap": null,
            "max_width": null,
            "order": null,
            "_view_module_version": "1.2.0",
            "grid_template_areas": null,
            "object_position": null,
            "object_fit": null,
            "grid_auto_columns": null,
            "margin": null,
            "display": null,
            "left": null
          }
        },
        "cf25f782e69d462d8fb9c0fa44d1218c": {
          "model_module": "@jupyter-widgets/controls",
          "model_name": "VBoxModel",
          "state": {
            "_view_name": "VBoxView",
            "_dom_classes": [],
            "_model_name": "VBoxModel",
            "_view_module": "@jupyter-widgets/controls",
            "_model_module_version": "1.5.0",
            "_view_count": null,
            "_view_module_version": "1.5.0",
            "box_style": "",
            "layout": "IPY_MODEL_33efc77670d24fc195c1d2cfc714febf",
            "_model_module": "@jupyter-widgets/controls",
            "children": [
              "IPY_MODEL_9a0d049afce640ab9c73ec61a10c68e1",
              "IPY_MODEL_f5a01dcd9ac5442c81f18d5f7e1304fb"
            ]
          }
        },
        "33efc77670d24fc195c1d2cfc714febf": {
          "model_module": "@jupyter-widgets/base",
          "model_name": "LayoutModel",
          "state": {
            "_view_name": "LayoutView",
            "grid_template_rows": null,
            "right": null,
            "justify_content": null,
            "_view_module": "@jupyter-widgets/base",
            "overflow": null,
            "_model_module_version": "1.2.0",
            "_view_count": null,
            "flex_flow": null,
            "width": null,
            "min_width": null,
            "border": null,
            "align_items": null,
            "bottom": null,
            "_model_module": "@jupyter-widgets/base",
            "top": null,
            "grid_column": null,
            "overflow_y": null,
            "overflow_x": null,
            "grid_auto_flow": null,
            "grid_area": null,
            "grid_template_columns": null,
            "flex": null,
            "_model_name": "LayoutModel",
            "justify_items": null,
            "grid_row": null,
            "max_height": null,
            "align_content": null,
            "visibility": null,
            "align_self": null,
            "height": null,
            "min_height": null,
            "padding": null,
            "grid_auto_rows": null,
            "grid_gap": null,
            "max_width": null,
            "order": null,
            "_view_module_version": "1.2.0",
            "grid_template_areas": null,
            "object_position": null,
            "object_fit": null,
            "grid_auto_columns": null,
            "margin": null,
            "display": null,
            "left": null
          }
        },
        "9a0d049afce640ab9c73ec61a10c68e1": {
          "model_module": "@jupyter-widgets/controls",
          "model_name": "LabelModel",
          "state": {
            "_view_name": "LabelView",
            "style": "IPY_MODEL_707fe9f674994d0b9a05374a5dcf5b34",
            "_dom_classes": [],
            "description": "",
            "_model_name": "LabelModel",
            "placeholder": "​",
            "_view_module": "@jupyter-widgets/controls",
            "_model_module_version": "1.5.0",
            "value": " 184.07MB of 184.07MB uploaded (0.00MB deduped)\r",
            "_view_count": null,
            "_view_module_version": "1.5.0",
            "description_tooltip": null,
            "_model_module": "@jupyter-widgets/controls",
            "layout": "IPY_MODEL_1e589f46e45042aeab40b9baaec0969e"
          }
        },
        "f5a01dcd9ac5442c81f18d5f7e1304fb": {
          "model_module": "@jupyter-widgets/controls",
          "model_name": "FloatProgressModel",
          "state": {
            "_view_name": "ProgressView",
            "style": "IPY_MODEL_4900a893f7014e3dac7c574cff8552ba",
            "_dom_classes": [],
            "description": "",
            "_model_name": "FloatProgressModel",
            "bar_style": "",
            "max": 1,
            "_view_module": "@jupyter-widgets/controls",
            "_model_module_version": "1.5.0",
            "value": 1,
            "_view_count": null,
            "_view_module_version": "1.5.0",
            "orientation": "horizontal",
            "min": 0,
            "description_tooltip": null,
            "_model_module": "@jupyter-widgets/controls",
            "layout": "IPY_MODEL_fabb606c6aa0434c867bad5d1a72bf78"
          }
        },
        "707fe9f674994d0b9a05374a5dcf5b34": {
          "model_module": "@jupyter-widgets/controls",
          "model_name": "DescriptionStyleModel",
          "state": {
            "_view_name": "StyleView",
            "_model_name": "DescriptionStyleModel",
            "description_width": "",
            "_view_module": "@jupyter-widgets/base",
            "_model_module_version": "1.5.0",
            "_view_count": null,
            "_view_module_version": "1.2.0",
            "_model_module": "@jupyter-widgets/controls"
          }
        },
        "1e589f46e45042aeab40b9baaec0969e": {
          "model_module": "@jupyter-widgets/base",
          "model_name": "LayoutModel",
          "state": {
            "_view_name": "LayoutView",
            "grid_template_rows": null,
            "right": null,
            "justify_content": null,
            "_view_module": "@jupyter-widgets/base",
            "overflow": null,
            "_model_module_version": "1.2.0",
            "_view_count": null,
            "flex_flow": null,
            "width": null,
            "min_width": null,
            "border": null,
            "align_items": null,
            "bottom": null,
            "_model_module": "@jupyter-widgets/base",
            "top": null,
            "grid_column": null,
            "overflow_y": null,
            "overflow_x": null,
            "grid_auto_flow": null,
            "grid_area": null,
            "grid_template_columns": null,
            "flex": null,
            "_model_name": "LayoutModel",
            "justify_items": null,
            "grid_row": null,
            "max_height": null,
            "align_content": null,
            "visibility": null,
            "align_self": null,
            "height": null,
            "min_height": null,
            "padding": null,
            "grid_auto_rows": null,
            "grid_gap": null,
            "max_width": null,
            "order": null,
            "_view_module_version": "1.2.0",
            "grid_template_areas": null,
            "object_position": null,
            "object_fit": null,
            "grid_auto_columns": null,
            "margin": null,
            "display": null,
            "left": null
          }
        },
        "4900a893f7014e3dac7c574cff8552ba": {
          "model_module": "@jupyter-widgets/controls",
          "model_name": "ProgressStyleModel",
          "state": {
            "_view_name": "StyleView",
            "_model_name": "ProgressStyleModel",
            "description_width": "",
            "_view_module": "@jupyter-widgets/base",
            "_model_module_version": "1.5.0",
            "_view_count": null,
            "_view_module_version": "1.2.0",
            "bar_color": null,
            "_model_module": "@jupyter-widgets/controls"
          }
        },
        "fabb606c6aa0434c867bad5d1a72bf78": {
          "model_module": "@jupyter-widgets/base",
          "model_name": "LayoutModel",
          "state": {
            "_view_name": "LayoutView",
            "grid_template_rows": null,
            "right": null,
            "justify_content": null,
            "_view_module": "@jupyter-widgets/base",
            "overflow": null,
            "_model_module_version": "1.2.0",
            "_view_count": null,
            "flex_flow": null,
            "width": null,
            "min_width": null,
            "border": null,
            "align_items": null,
            "bottom": null,
            "_model_module": "@jupyter-widgets/base",
            "top": null,
            "grid_column": null,
            "overflow_y": null,
            "overflow_x": null,
            "grid_auto_flow": null,
            "grid_area": null,
            "grid_template_columns": null,
            "flex": null,
            "_model_name": "LayoutModel",
            "justify_items": null,
            "grid_row": null,
            "max_height": null,
            "align_content": null,
            "visibility": null,
            "align_self": null,
            "height": null,
            "min_height": null,
            "padding": null,
            "grid_auto_rows": null,
            "grid_gap": null,
            "max_width": null,
            "order": null,
            "_view_module_version": "1.2.0",
            "grid_template_areas": null,
            "object_position": null,
            "object_fit": null,
            "grid_auto_columns": null,
            "margin": null,
            "display": null,
            "left": null
          }
        },
        "3ca362885884494287fdf51949cd4975": {
          "model_module": "@jupyter-widgets/controls",
          "model_name": "VBoxModel",
          "state": {
            "_view_name": "VBoxView",
            "_dom_classes": [],
            "_model_name": "VBoxModel",
            "_view_module": "@jupyter-widgets/controls",
            "_model_module_version": "1.5.0",
            "_view_count": null,
            "_view_module_version": "1.5.0",
            "box_style": "",
            "layout": "IPY_MODEL_4246cd31b4704e6ba611cc40bbc404c5",
            "_model_module": "@jupyter-widgets/controls",
            "children": [
              "IPY_MODEL_d183ae0ab6eb458b8fd677a33e03100c",
              "IPY_MODEL_d1d3297d49c3472b8af8dc4731cc24e3"
            ]
          }
        },
        "4246cd31b4704e6ba611cc40bbc404c5": {
          "model_module": "@jupyter-widgets/base",
          "model_name": "LayoutModel",
          "state": {
            "_view_name": "LayoutView",
            "grid_template_rows": null,
            "right": null,
            "justify_content": null,
            "_view_module": "@jupyter-widgets/base",
            "overflow": null,
            "_model_module_version": "1.2.0",
            "_view_count": null,
            "flex_flow": null,
            "width": null,
            "min_width": null,
            "border": null,
            "align_items": null,
            "bottom": null,
            "_model_module": "@jupyter-widgets/base",
            "top": null,
            "grid_column": null,
            "overflow_y": null,
            "overflow_x": null,
            "grid_auto_flow": null,
            "grid_area": null,
            "grid_template_columns": null,
            "flex": null,
            "_model_name": "LayoutModel",
            "justify_items": null,
            "grid_row": null,
            "max_height": null,
            "align_content": null,
            "visibility": null,
            "align_self": null,
            "height": null,
            "min_height": null,
            "padding": null,
            "grid_auto_rows": null,
            "grid_gap": null,
            "max_width": null,
            "order": null,
            "_view_module_version": "1.2.0",
            "grid_template_areas": null,
            "object_position": null,
            "object_fit": null,
            "grid_auto_columns": null,
            "margin": null,
            "display": null,
            "left": null
          }
        },
        "d183ae0ab6eb458b8fd677a33e03100c": {
          "model_module": "@jupyter-widgets/controls",
          "model_name": "LabelModel",
          "state": {
            "_view_name": "LabelView",
            "style": "IPY_MODEL_fb3c114dd95f477bb9deeb06dddd1a93",
            "_dom_classes": [],
            "description": "",
            "_model_name": "LabelModel",
            "placeholder": "​",
            "_view_module": "@jupyter-widgets/controls",
            "_model_module_version": "1.5.0",
            "value": " 184.00MB of 184.00MB uploaded (0.00MB deduped)\r",
            "_view_count": null,
            "_view_module_version": "1.5.0",
            "description_tooltip": null,
            "_model_module": "@jupyter-widgets/controls",
            "layout": "IPY_MODEL_c548314753f14ae9bbe61fe61e622d7d"
          }
        },
        "d1d3297d49c3472b8af8dc4731cc24e3": {
          "model_module": "@jupyter-widgets/controls",
          "model_name": "FloatProgressModel",
          "state": {
            "_view_name": "ProgressView",
            "style": "IPY_MODEL_548714c0c4164e058afbc2f62cef1770",
            "_dom_classes": [],
            "description": "",
            "_model_name": "FloatProgressModel",
            "bar_style": "",
            "max": 1,
            "_view_module": "@jupyter-widgets/controls",
            "_model_module_version": "1.5.0",
            "value": 1,
            "_view_count": null,
            "_view_module_version": "1.5.0",
            "orientation": "horizontal",
            "min": 0,
            "description_tooltip": null,
            "_model_module": "@jupyter-widgets/controls",
            "layout": "IPY_MODEL_04da61c287e3419f9f43ba87a6dd43b7"
          }
        },
        "fb3c114dd95f477bb9deeb06dddd1a93": {
          "model_module": "@jupyter-widgets/controls",
          "model_name": "DescriptionStyleModel",
          "state": {
            "_view_name": "StyleView",
            "_model_name": "DescriptionStyleModel",
            "description_width": "",
            "_view_module": "@jupyter-widgets/base",
            "_model_module_version": "1.5.0",
            "_view_count": null,
            "_view_module_version": "1.2.0",
            "_model_module": "@jupyter-widgets/controls"
          }
        },
        "c548314753f14ae9bbe61fe61e622d7d": {
          "model_module": "@jupyter-widgets/base",
          "model_name": "LayoutModel",
          "state": {
            "_view_name": "LayoutView",
            "grid_template_rows": null,
            "right": null,
            "justify_content": null,
            "_view_module": "@jupyter-widgets/base",
            "overflow": null,
            "_model_module_version": "1.2.0",
            "_view_count": null,
            "flex_flow": null,
            "width": null,
            "min_width": null,
            "border": null,
            "align_items": null,
            "bottom": null,
            "_model_module": "@jupyter-widgets/base",
            "top": null,
            "grid_column": null,
            "overflow_y": null,
            "overflow_x": null,
            "grid_auto_flow": null,
            "grid_area": null,
            "grid_template_columns": null,
            "flex": null,
            "_model_name": "LayoutModel",
            "justify_items": null,
            "grid_row": null,
            "max_height": null,
            "align_content": null,
            "visibility": null,
            "align_self": null,
            "height": null,
            "min_height": null,
            "padding": null,
            "grid_auto_rows": null,
            "grid_gap": null,
            "max_width": null,
            "order": null,
            "_view_module_version": "1.2.0",
            "grid_template_areas": null,
            "object_position": null,
            "object_fit": null,
            "grid_auto_columns": null,
            "margin": null,
            "display": null,
            "left": null
          }
        },
        "548714c0c4164e058afbc2f62cef1770": {
          "model_module": "@jupyter-widgets/controls",
          "model_name": "ProgressStyleModel",
          "state": {
            "_view_name": "StyleView",
            "_model_name": "ProgressStyleModel",
            "description_width": "",
            "_view_module": "@jupyter-widgets/base",
            "_model_module_version": "1.5.0",
            "_view_count": null,
            "_view_module_version": "1.2.0",
            "bar_color": null,
            "_model_module": "@jupyter-widgets/controls"
          }
        },
        "04da61c287e3419f9f43ba87a6dd43b7": {
          "model_module": "@jupyter-widgets/base",
          "model_name": "LayoutModel",
          "state": {
            "_view_name": "LayoutView",
            "grid_template_rows": null,
            "right": null,
            "justify_content": null,
            "_view_module": "@jupyter-widgets/base",
            "overflow": null,
            "_model_module_version": "1.2.0",
            "_view_count": null,
            "flex_flow": null,
            "width": null,
            "min_width": null,
            "border": null,
            "align_items": null,
            "bottom": null,
            "_model_module": "@jupyter-widgets/base",
            "top": null,
            "grid_column": null,
            "overflow_y": null,
            "overflow_x": null,
            "grid_auto_flow": null,
            "grid_area": null,
            "grid_template_columns": null,
            "flex": null,
            "_model_name": "LayoutModel",
            "justify_items": null,
            "grid_row": null,
            "max_height": null,
            "align_content": null,
            "visibility": null,
            "align_self": null,
            "height": null,
            "min_height": null,
            "padding": null,
            "grid_auto_rows": null,
            "grid_gap": null,
            "max_width": null,
            "order": null,
            "_view_module_version": "1.2.0",
            "grid_template_areas": null,
            "object_position": null,
            "object_fit": null,
            "grid_auto_columns": null,
            "margin": null,
            "display": null,
            "left": null
          }
        }
      }
    },
    "accelerator": "GPU"
  },
  "cells": [
    {
      "cell_type": "markdown",
      "metadata": {
        "id": "xgh7NQe4_Lb9"
      },
      "source": [
        "# **Zero-Shot** Text Classification with ***Siamese Network***\n",
        "\n",
        "Este notebook incluye la preparación del dataset por pares, la arquitectura de la red siamesa y el entrenamiento en KERAS."
      ]
    },
    {
      "cell_type": "markdown",
      "metadata": {
        "id": "IebtHGKJNkeP"
      },
      "source": [
        "# Librerías"
      ]
    },
    {
      "cell_type": "code",
      "metadata": {
        "id": "8CB111K5aure"
      },
      "source": [
        "import pandas as pd\n",
        "import numpy as np\n",
        "import seaborn as sns"
      ],
      "execution_count": null,
      "outputs": []
    },
    {
      "cell_type": "code",
      "metadata": {
        "id": "jBfycpGw98ku"
      },
      "source": [
        "%%capture\n",
        "!pip install livelossplot ## track del entrenamiento"
      ],
      "execution_count": null,
      "outputs": []
    },
    {
      "cell_type": "code",
      "metadata": {
        "id": "_WQFnOtv-Flm"
      },
      "source": [
        "from livelossplot import PlotLossesKeras"
      ],
      "execution_count": null,
      "outputs": []
    },
    {
      "cell_type": "code",
      "metadata": {
        "id": "WF-4hNu0muVF"
      },
      "source": [
        "%%capture\n",
        "!pip install wandb \n",
        "import wandb\n",
        "from wandb.keras import WandbCallback"
      ],
      "execution_count": null,
      "outputs": []
    },
    {
      "cell_type": "code",
      "metadata": {
        "colab": {
          "base_uri": "https://localhost:8080/"
        },
        "id": "7De9OL7RxBbA",
        "outputId": "1d4b2e08-56a5-43cf-8990-1a67f2e08cf3"
      },
      "source": [
        "from google.colab import drive\n",
        "drive.mount('/content/drive')"
      ],
      "execution_count": null,
      "outputs": [
        {
          "output_type": "stream",
          "text": [
            "Mounted at /content/drive\n"
          ],
          "name": "stdout"
        }
      ]
    },
    {
      "cell_type": "code",
      "metadata": {
        "id": "zT-vAPD32wZC"
      },
      "source": [
        "%%capture\n",
        "!pip install keras"
      ],
      "execution_count": null,
      "outputs": []
    },
    {
      "cell_type": "code",
      "metadata": {
        "id": "QMFqE3Ev3Abn"
      },
      "source": [
        "%%capture\n",
        "import tensorflow as tf\n",
        "import keras\n",
        "import keras.backend as K\n",
        "from keras.preprocessing.text import Tokenizer\n",
        "from keras.preprocessing.sequence import pad_sequences\n",
        "from keras.layers import Input, Concatenate, Conv2D, Flatten, Dense, Embedding, LSTM\n",
        "from keras.models import Model\n"
      ],
      "execution_count": null,
      "outputs": []
    },
    {
      "cell_type": "markdown",
      "metadata": {
        "id": "F4LQLT8giEXM"
      },
      "source": [
        "# Preparación del dataset\n",
        "- Necesario crear pares de datos de entrada: \n",
        "  - 2 frases \n",
        "  - is_equal = 0 o 1 dependiendo de si las frases tienen significado similar o no \n"
      ]
    },
    {
      "cell_type": "markdown",
      "metadata": {
        "id": "gmxNxHBnw6UB"
      },
      "source": [
        "##Load Amazon Dataset English/Spanish & create pairs (only the first time)\n"
      ]
    },
    {
      "cell_type": "code",
      "metadata": {
        "id": "z9IcVHdQw6UC"
      },
      "source": [
        "path1 = \"/content/drive/MyDrive/TFG/Datasets_procesados_2/train/amazonEN_train.csv\"\n",
        "path2 = \"/content/drive/MyDrive/TFG/Datasets_procesados_2/valid/amazonEN_valid.csv\"\n",
        "path3 = \"/content/drive/MyDrive/TFG/Datasets_procesados_2/test/amazonEN_test.csv\""
      ],
      "execution_count": null,
      "outputs": []
    },
    {
      "cell_type": "code",
      "metadata": {
        "id": "XOr7NrLDw6UC"
      },
      "source": [
        "df_train = pd.read_csv(path1)\n",
        "df_valid = pd.read_csv(path2)\n",
        "df_test = pd.read_csv(path3)"
      ],
      "execution_count": null,
      "outputs": []
    },
    {
      "cell_type": "code",
      "metadata": {
        "colab": {
          "base_uri": "https://localhost:8080/",
          "height": 301
        },
        "id": "wXvInorVk5U4",
        "outputId": "4d96be78-939b-46db-b16f-338250cd2490"
      },
      "source": [
        "df_train.head(2)"
      ],
      "execution_count": null,
      "outputs": [
        {
          "output_type": "execute_result",
          "data": {
            "text/html": [
              "<div>\n",
              "<style scoped>\n",
              "    .dataframe tbody tr th:only-of-type {\n",
              "        vertical-align: middle;\n",
              "    }\n",
              "\n",
              "    .dataframe tbody tr th {\n",
              "        vertical-align: top;\n",
              "    }\n",
              "\n",
              "    .dataframe thead th {\n",
              "        text-align: right;\n",
              "    }\n",
              "</style>\n",
              "<table border=\"1\" class=\"dataframe\">\n",
              "  <thead>\n",
              "    <tr style=\"text-align: right;\">\n",
              "      <th></th>\n",
              "      <th>review_id</th>\n",
              "      <th>product_id</th>\n",
              "      <th>reviewer_id</th>\n",
              "      <th>star_rating</th>\n",
              "      <th>review_body</th>\n",
              "      <th>review_title</th>\n",
              "      <th>language</th>\n",
              "      <th>product_category</th>\n",
              "      <th>text_title</th>\n",
              "      <th>text_title_cat</th>\n",
              "      <th>text_cat</th>\n",
              "      <th>product_category_cod</th>\n",
              "    </tr>\n",
              "  </thead>\n",
              "  <tbody>\n",
              "    <tr>\n",
              "      <th>0</th>\n",
              "      <td>en_0522546</td>\n",
              "      <td>product_en_0681589</td>\n",
              "      <td>reviewer_en_0687817</td>\n",
              "      <td>2</td>\n",
              "      <td>Not strong enough to run a small 120v vacuum c...</td>\n",
              "      <td>Not strong enough to run a small 120v vacuum c...</td>\n",
              "      <td>en</td>\n",
              "      <td>lawn_and_garden</td>\n",
              "      <td>Not strong enough to run a small 120v vacuum c...</td>\n",
              "      <td>Not strong enough to run a small 120v vacuum c...</td>\n",
              "      <td>Not strong enough to run a small 120v vacuum c...</td>\n",
              "      <td>17</td>\n",
              "    </tr>\n",
              "    <tr>\n",
              "      <th>1</th>\n",
              "      <td>en_0612910</td>\n",
              "      <td>product_en_0295449</td>\n",
              "      <td>reviewer_en_0312138</td>\n",
              "      <td>1</td>\n",
              "      <td>The leg openings are a little small, but other...</td>\n",
              "      <td>Crap</td>\n",
              "      <td>en</td>\n",
              "      <td>apparel</td>\n",
              "      <td>Crap The leg openings are a little small, but ...</td>\n",
              "      <td>Crap The leg openings are a little small, but ...</td>\n",
              "      <td>The leg openings are a little small, but other...</td>\n",
              "      <td>0</td>\n",
              "    </tr>\n",
              "  </tbody>\n",
              "</table>\n",
              "</div>"
            ],
            "text/plain": [
              "    review_id  ... product_category_cod\n",
              "0  en_0522546  ...                   17\n",
              "1  en_0612910  ...                    0\n",
              "\n",
              "[2 rows x 12 columns]"
            ]
          },
          "metadata": {
            "tags": []
          },
          "execution_count": 8
        }
      ]
    },
    {
      "cell_type": "markdown",
      "metadata": {
        "id": "CyaAOL0FxbuG"
      },
      "source": [
        "### Create pairs english"
      ]
    },
    {
      "cell_type": "code",
      "metadata": {
        "id": "NQsHQVGftOtO"
      },
      "source": [
        "# Agrupamos por puntuaciones \n",
        "star0 = df_train[df_train[\"star_rating\"] == 0]\n",
        "star1 = df_train[df_train[\"star_rating\"] == 1]\n",
        "star2 = df_train[df_train[\"star_rating\"] == 2]\n",
        "star3 = df_train[df_train[\"star_rating\"] == 3]\n",
        "star4 = df_train[df_train[\"star_rating\"] == 4]"
      ],
      "execution_count": null,
      "outputs": []
    },
    {
      "cell_type": "code",
      "metadata": {
        "colab": {
          "base_uri": "https://localhost:8080/"
        },
        "id": "RnU4MGLNfxt2",
        "outputId": "bba88dd4-0408-43b0-eb6b-dbc5677060c9"
      },
      "source": [
        "star4.shape"
      ],
      "execution_count": null,
      "outputs": [
        {
          "output_type": "execute_result",
          "data": {
            "text/plain": [
              "(40000, 12)"
            ]
          },
          "metadata": {
            "tags": []
          },
          "execution_count": 10
        }
      ]
    },
    {
      "cell_type": "code",
      "metadata": {
        "id": "wHP0nRfrsEvW"
      },
      "source": [
        "#Creamos funcion para hacer pares de cada grupo de puntuaciones \n",
        "def create_pairs(df):\n",
        "  partitions = 2\n",
        "  star0s = np.array_split(df, partitions)\n",
        "\n",
        "  star01 = star0s[0]['review_body']\n",
        "  star01 = star01.reset_index()\n",
        "  star01.rename(columns={'review_body': 'sent1'}, inplace=True)\n",
        "\n",
        "\n",
        "  star02 = star0s[1]['review_body']\n",
        "  star02 = star02.reset_index()\n",
        "  star02.rename(columns={'review_body': 'sent2'}, inplace=True)\n",
        "\n",
        "  final1s = pd.DataFrame()\n",
        "  final1s = pd.concat([star01,star02],axis=1)\n",
        "  final1s = final1s.drop('index',axis=1)\n",
        "  final1s['is_duplicate'] = 1\n",
        "  return final1s"
      ],
      "execution_count": null,
      "outputs": []
    },
    {
      "cell_type": "code",
      "metadata": {
        "colab": {
          "base_uri": "https://localhost:8080/",
          "height": 173
        },
        "id": "djpia-BOsEsy",
        "outputId": "44356a6f-3e9e-423a-ed99-0605978350cb"
      },
      "source": [
        "# Cada grupo de puntuaciones dividido en dos y puesto en dos columnas sent1 y sent2  + is_duplicate = 1 porque son del mismo grupo == aprox mismo significado\n",
        "pair_0s = create_pairs(star0)[:5000].reset_index(drop=True)\n",
        "pair_1s = create_pairs(star1)[:5000].reset_index(drop=True)\n",
        "pair_2s = create_pairs(star2)[:5000].reset_index(drop=True)\n",
        "pair_3s = create_pairs(star3)[:5000].reset_index(drop = True)\n",
        "pair_4s = create_pairs(star4)[:5000].reset_index(drop=True)\n",
        "\n",
        "#Ejemplo del resultado\n",
        "pair_0s.head(4)"
      ],
      "execution_count": null,
      "outputs": [
        {
          "output_type": "execute_result",
          "data": {
            "text/html": [
              "<div>\n",
              "<style scoped>\n",
              "    .dataframe tbody tr th:only-of-type {\n",
              "        vertical-align: middle;\n",
              "    }\n",
              "\n",
              "    .dataframe tbody tr th {\n",
              "        vertical-align: top;\n",
              "    }\n",
              "\n",
              "    .dataframe thead th {\n",
              "        text-align: right;\n",
              "    }\n",
              "</style>\n",
              "<table border=\"1\" class=\"dataframe\">\n",
              "  <thead>\n",
              "    <tr style=\"text-align: right;\">\n",
              "      <th></th>\n",
              "      <th>sent1</th>\n",
              "      <th>sent2</th>\n",
              "      <th>is_duplicate</th>\n",
              "    </tr>\n",
              "  </thead>\n",
              "  <tbody>\n",
              "    <tr>\n",
              "      <th>0</th>\n",
              "      <td>Very, very thin, you can bend them with you fi...</td>\n",
              "      <td>I am EXTREMELY unhappy and wish I could give i...</td>\n",
              "      <td>1</td>\n",
              "    </tr>\n",
              "    <tr>\n",
              "      <th>1</th>\n",
              "      <td>Super cute! Loved it until I noticed that the ...</td>\n",
              "      <td>I did not receive this item even though Amazon...</td>\n",
              "      <td>1</td>\n",
              "    </tr>\n",
              "    <tr>\n",
              "      <th>2</th>\n",
              "      <td>Broke down after a month's use!!</td>\n",
              "      <td>Ordered 2. Both were broke when they arrived. ...</td>\n",
              "      <td>1</td>\n",
              "    </tr>\n",
              "    <tr>\n",
              "      <th>3</th>\n",
              "      <td>It's hard to be critical of something so inexp...</td>\n",
              "      <td>Remote stopped working one month after purchase</td>\n",
              "      <td>1</td>\n",
              "    </tr>\n",
              "  </tbody>\n",
              "</table>\n",
              "</div>"
            ],
            "text/plain": [
              "                                               sent1  ... is_duplicate\n",
              "0  Very, very thin, you can bend them with you fi...  ...            1\n",
              "1  Super cute! Loved it until I noticed that the ...  ...            1\n",
              "2                   Broke down after a month's use!!  ...            1\n",
              "3  It's hard to be critical of something so inexp...  ...            1\n",
              "\n",
              "[4 rows x 3 columns]"
            ]
          },
          "metadata": {
            "tags": []
          },
          "execution_count": 12
        }
      ]
    },
    {
      "cell_type": "code",
      "metadata": {
        "id": "6UYyb0nH6ual"
      },
      "source": [
        "#Descartamos el 2 , pares entre 0-1 y 3-4 \n",
        "result_pairs = pd.DataFrame()\n",
        "result_pairs = pd.concat([pair_0s,pair_1s,pair_3s,pair_4s],ignore_index=True)\n"
      ],
      "execution_count": null,
      "outputs": []
    },
    {
      "cell_type": "code",
      "metadata": {
        "id": "ZMQGOWi5fl0B"
      },
      "source": [
        "result_pairs = result_pairs.sample(frac=1).reset_index(drop=True)"
      ],
      "execution_count": null,
      "outputs": []
    },
    {
      "cell_type": "code",
      "metadata": {
        "colab": {
          "base_uri": "https://localhost:8080/",
          "height": 419
        },
        "id": "Dv5BUG83jA3F",
        "outputId": "19a5e989-bc0a-449d-957d-dc27129e6243"
      },
      "source": [
        "result_pairs"
      ],
      "execution_count": null,
      "outputs": [
        {
          "output_type": "execute_result",
          "data": {
            "text/html": [
              "<div>\n",
              "<style scoped>\n",
              "    .dataframe tbody tr th:only-of-type {\n",
              "        vertical-align: middle;\n",
              "    }\n",
              "\n",
              "    .dataframe tbody tr th {\n",
              "        vertical-align: top;\n",
              "    }\n",
              "\n",
              "    .dataframe thead th {\n",
              "        text-align: right;\n",
              "    }\n",
              "</style>\n",
              "<table border=\"1\" class=\"dataframe\">\n",
              "  <thead>\n",
              "    <tr style=\"text-align: right;\">\n",
              "      <th></th>\n",
              "      <th>sent1</th>\n",
              "      <th>sent2</th>\n",
              "      <th>is_duplicate</th>\n",
              "    </tr>\n",
              "  </thead>\n",
              "  <tbody>\n",
              "    <tr>\n",
              "      <th>0</th>\n",
              "      <td>They were nice not as comfortable as I thought</td>\n",
              "      <td>Worked for what we needed until we can actuall...</td>\n",
              "      <td>1</td>\n",
              "    </tr>\n",
              "    <tr>\n",
              "      <th>1</th>\n",
              "      <td>alarm did not go off 3 days out of 5. am sendi...</td>\n",
              "      <td>order wrong one's, shipped back to amazon, alt...</td>\n",
              "      <td>1</td>\n",
              "    </tr>\n",
              "    <tr>\n",
              "      <th>2</th>\n",
              "      <td>twist on earing part sucks.</td>\n",
              "      <td>One of the markers came broken and leaking.</td>\n",
              "      <td>1</td>\n",
              "    </tr>\n",
              "    <tr>\n",
              "      <th>3</th>\n",
              "      <td>Honestly, nothing too special. The masks slid ...</td>\n",
              "      <td>I have no idea why most of the reviews claim t...</td>\n",
              "      <td>1</td>\n",
              "    </tr>\n",
              "    <tr>\n",
              "      <th>4</th>\n",
              "      <td>This was such a tiny leaf and half eaten not ok</td>\n",
              "      <td>Bought them about a month ago. I was happily s...</td>\n",
              "      <td>1</td>\n",
              "    </tr>\n",
              "    <tr>\n",
              "      <th>...</th>\n",
              "      <td>...</td>\n",
              "      <td>...</td>\n",
              "      <td>...</td>\n",
              "    </tr>\n",
              "    <tr>\n",
              "      <th>19995</th>\n",
              "      <td>Even after warranty support (during which they...</td>\n",
              "      <td>Absolute crap! Utter garbage! No bottle fits. ...</td>\n",
              "      <td>1</td>\n",
              "    </tr>\n",
              "    <tr>\n",
              "      <th>19996</th>\n",
              "      <td>Hasn’t really helped with weight loss, but I h...</td>\n",
              "      <td>Basic plain zippered hoodie I expect it'll las...</td>\n",
              "      <td>1</td>\n",
              "    </tr>\n",
              "    <tr>\n",
              "      <th>19997</th>\n",
              "      <td>Seems to work great if produce is dry</td>\n",
              "      <td>Neck hole is a little tighter then I would lik...</td>\n",
              "      <td>1</td>\n",
              "    </tr>\n",
              "    <tr>\n",
              "      <th>19998</th>\n",
              "      <td>bad acting, story plot the whole works don't w...</td>\n",
              "      <td>The flimsy nature of the thin plastic material...</td>\n",
              "      <td>1</td>\n",
              "    </tr>\n",
              "    <tr>\n",
              "      <th>19999</th>\n",
              "      <td>I liked the ideal of how it works and after fi...</td>\n",
              "      <td>Not the best quality but it is good for what y...</td>\n",
              "      <td>1</td>\n",
              "    </tr>\n",
              "  </tbody>\n",
              "</table>\n",
              "<p>20000 rows × 3 columns</p>\n",
              "</div>"
            ],
            "text/plain": [
              "                                                   sent1  ... is_duplicate\n",
              "0         They were nice not as comfortable as I thought  ...            1\n",
              "1      alarm did not go off 3 days out of 5. am sendi...  ...            1\n",
              "2                            twist on earing part sucks.  ...            1\n",
              "3      Honestly, nothing too special. The masks slid ...  ...            1\n",
              "4        This was such a tiny leaf and half eaten not ok  ...            1\n",
              "...                                                  ...  ...          ...\n",
              "19995  Even after warranty support (during which they...  ...            1\n",
              "19996  Hasn’t really helped with weight loss, but I h...  ...            1\n",
              "19997              Seems to work great if produce is dry  ...            1\n",
              "19998  bad acting, story plot the whole works don't w...  ...            1\n",
              "19999  I liked the ideal of how it works and after fi...  ...            1\n",
              "\n",
              "[20000 rows x 3 columns]"
            ]
          },
          "metadata": {
            "tags": []
          },
          "execution_count": 15
        }
      ]
    },
    {
      "cell_type": "code",
      "metadata": {
        "colab": {
          "base_uri": "https://localhost:8080/"
        },
        "id": "In0qa8_PcqKR",
        "outputId": "b5eb2f3f-b35c-4060-a71d-c37cfeff7239"
      },
      "source": [
        "print(result_pairs.iloc[-1]['sent1'])\n",
        "print(result_pairs.iloc[-1]['sent2'])"
      ],
      "execution_count": null,
      "outputs": [
        {
          "output_type": "stream",
          "text": [
            "I liked the ideal of how it works and after first use, hearing strange sounds. In my opinion the hose connections seemed to be a little delicate.\n",
            "Not the best quality but it is good for what you pay.\n"
          ],
          "name": "stdout"
        }
      ]
    },
    {
      "cell_type": "code",
      "metadata": {
        "id": "qZEfma3lsEqc"
      },
      "source": [
        "# Hacemos combinaciones entre grupos de puntuaciones para añadir ejemplos que no tengan el mismo significado == is_duplicate = 0\n",
        "from itertools import product\n",
        "def create_dispairs(dfa,dfb):\n",
        "  \n",
        "  a = dfa['sent1']\n",
        "  a1 = dfb['sent1']\n",
        "\n",
        "  b = dfa['sent2']\n",
        "  b1 = dfb['sent2']\n",
        "\n",
        "  dispairs_1 = pd.DataFrame(list(product(a, a1)), columns=['l1', 'l2'])\n",
        "  dispairs_2 = pd.DataFrame(list(product(b, b1)), columns=['l1', 'l2'])\n",
        "\n",
        "  dispairs_1['l1'] = dispairs_1['l1'].astype(str)\n",
        "  dispairs_1['l2'] = dispairs_1['l2'].astype(str)\n",
        "\n",
        "  dispairs_2['l1'] = dispairs_2['l1'].astype(str)\n",
        "  dispairs_2['l2'] = dispairs_2['l2'].astype(str)\n",
        "\n",
        "\n",
        "  dispairs_1['is_duplicate'] = np.where(dispairs_1['l1']== dispairs_1['l2'], 1, 0)\n",
        "  dispairs_2['is_duplicate'] = np.where(dispairs_2['l1']== dispairs_2['l2'], 1, 0)\n",
        "\n",
        "  dispairs_1 = dispairs_1.sample(frac = 0.2)\n",
        "  dispairs_2 = dispairs_2.sample(frac = 0.2)\n",
        "  \n",
        "  result = pd.DataFrame()\n",
        "  result = pd.concat([dispairs_1,dispairs_2])\n",
        "  return result"
      ],
      "execution_count": null,
      "outputs": []
    },
    {
      "cell_type": "code",
      "metadata": {
        "id": "J_hR2i3gDrKi"
      },
      "source": [
        "dispairs_03 = create_dispairs(pair_0s,pair_3s)\n",
        "dispairs_04 = create_dispairs(pair_0s,pair_4s)\n",
        "result_dispairs0 = pd.concat([dispairs_03,dispairs_04],ignore_index=True)\n",
        "result_dispairs0 = result_dispairs0.sample(frac=0.1)"
      ],
      "execution_count": null,
      "outputs": []
    },
    {
      "cell_type": "code",
      "metadata": {
        "id": "N2U1oxzwe9SG"
      },
      "source": [
        "result_dispairs0 = result_dispairs0.reset_index(drop=True)"
      ],
      "execution_count": null,
      "outputs": []
    },
    {
      "cell_type": "code",
      "metadata": {
        "colab": {
          "base_uri": "https://localhost:8080/",
          "height": 419
        },
        "id": "v03Niq7kksSe",
        "outputId": "03ac4956-2ff4-4718-c0cf-a9e95800f732"
      },
      "source": [
        "result_dispairs0"
      ],
      "execution_count": null,
      "outputs": [
        {
          "output_type": "execute_result",
          "data": {
            "text/html": [
              "<div>\n",
              "<style scoped>\n",
              "    .dataframe tbody tr th:only-of-type {\n",
              "        vertical-align: middle;\n",
              "    }\n",
              "\n",
              "    .dataframe tbody tr th {\n",
              "        vertical-align: top;\n",
              "    }\n",
              "\n",
              "    .dataframe thead th {\n",
              "        text-align: right;\n",
              "    }\n",
              "</style>\n",
              "<table border=\"1\" class=\"dataframe\">\n",
              "  <thead>\n",
              "    <tr style=\"text-align: right;\">\n",
              "      <th></th>\n",
              "      <th>l1</th>\n",
              "      <th>l2</th>\n",
              "      <th>is_duplicate</th>\n",
              "    </tr>\n",
              "  </thead>\n",
              "  <tbody>\n",
              "    <tr>\n",
              "      <th>0</th>\n",
              "      <td>I bought this container to store my sweaters. ...</td>\n",
              "      <td>I love the color selection but it's challengin...</td>\n",
              "      <td>0</td>\n",
              "    </tr>\n",
              "    <tr>\n",
              "      <th>1</th>\n",
              "      <td>Didnt come with all the tools. Also didnt come...</td>\n",
              "      <td>I got this solar ground light to put in my gar...</td>\n",
              "      <td>0</td>\n",
              "    </tr>\n",
              "    <tr>\n",
              "      <th>2</th>\n",
              "      <td>Haven't been able to use it because I received...</td>\n",
              "      <td>Very well made and durable. Does make me sweat...</td>\n",
              "      <td>0</td>\n",
              "    </tr>\n",
              "    <tr>\n",
              "      <th>3</th>\n",
              "      <td>Items arrived all broken. Horrible packaging. ...</td>\n",
              "      <td>Bought these for my husband, he says they fit ...</td>\n",
              "      <td>0</td>\n",
              "    </tr>\n",
              "    <tr>\n",
              "      <th>4</th>\n",
              "      <td>look for who ever looking for a waterproof cas...</td>\n",
              "      <td>I absolutely love this pad. I can do hip thrus...</td>\n",
              "      <td>0</td>\n",
              "    </tr>\n",
              "    <tr>\n",
              "      <th>...</th>\n",
              "      <td>...</td>\n",
              "      <td>...</td>\n",
              "      <td>...</td>\n",
              "    </tr>\n",
              "    <tr>\n",
              "      <th>1999995</th>\n",
              "      <td>Not stretchy at all, if you have any kind of c...</td>\n",
              "      <td>Durable, does its job although the white doesn...</td>\n",
              "      <td>0</td>\n",
              "    </tr>\n",
              "    <tr>\n",
              "      <th>1999996</th>\n",
              "      <td>Product locked 1 x then would NOT repeat the p...</td>\n",
              "      <td>Love this shower curtain was everything I was ...</td>\n",
              "      <td>0</td>\n",
              "    </tr>\n",
              "    <tr>\n",
              "      <th>1999997</th>\n",
              "      <td>overtime it starts to shade coming apart man i...</td>\n",
              "      <td>I really liked this book. Sweet not too over t...</td>\n",
              "      <td>0</td>\n",
              "    </tr>\n",
              "    <tr>\n",
              "      <th>1999998</th>\n",
              "      <td>This thing doesn't hold a charge for more than...</td>\n",
              "      <td>Have gone through several similar collars that...</td>\n",
              "      <td>0</td>\n",
              "    </tr>\n",
              "    <tr>\n",
              "      <th>1999999</th>\n",
              "      <td>This is not what I wanted and will not pay for...</td>\n",
              "      <td>Love it so far. Not bulky and very nice colors.</td>\n",
              "      <td>0</td>\n",
              "    </tr>\n",
              "  </tbody>\n",
              "</table>\n",
              "<p>2000000 rows × 3 columns</p>\n",
              "</div>"
            ],
            "text/plain": [
              "                                                        l1  ... is_duplicate\n",
              "0        I bought this container to store my sweaters. ...  ...            0\n",
              "1        Didnt come with all the tools. Also didnt come...  ...            0\n",
              "2        Haven't been able to use it because I received...  ...            0\n",
              "3        Items arrived all broken. Horrible packaging. ...  ...            0\n",
              "4        look for who ever looking for a waterproof cas...  ...            0\n",
              "...                                                    ...  ...          ...\n",
              "1999995  Not stretchy at all, if you have any kind of c...  ...            0\n",
              "1999996  Product locked 1 x then would NOT repeat the p...  ...            0\n",
              "1999997  overtime it starts to shade coming apart man i...  ...            0\n",
              "1999998  This thing doesn't hold a charge for more than...  ...            0\n",
              "1999999  This is not what I wanted and will not pay for...  ...            0\n",
              "\n",
              "[2000000 rows x 3 columns]"
            ]
          },
          "metadata": {
            "tags": []
          },
          "execution_count": 18
        }
      ]
    },
    {
      "cell_type": "code",
      "metadata": {
        "id": "tmdQgJIIDrzz"
      },
      "source": [
        "dispairs_13 = create_dispairs(pair_1s,pair_3s)\n",
        "dispairs_14 = create_dispairs(pair_1s,pair_4s)\n",
        "result_dispairs1 = pd.concat([dispairs_13,dispairs_14],ignore_index=True)\n",
        "result_dispairs1 = result_dispairs1.sample(frac=0.1)\n",
        "result_dispairs1 = result_dispairs1.reset_index(drop=True)"
      ],
      "execution_count": null,
      "outputs": []
    },
    {
      "cell_type": "code",
      "metadata": {
        "id": "JVSd-danDsG4"
      },
      "source": [
        "dispairs_31 = create_dispairs(pair_3s,pair_1s)\n",
        "dispairs_30 = create_dispairs(pair_0s,pair_3s)\n",
        "result_dispairs3 = pd.concat([dispairs_31,dispairs_30],ignore_index=True)\n",
        "result_dispairs3 = result_dispairs3.sample(frac=0.1)\n",
        "result_dispairs3 = result_dispairs3.reset_index(drop=True)"
      ],
      "execution_count": null,
      "outputs": []
    },
    {
      "cell_type": "code",
      "metadata": {
        "id": "pRNgDfwiDwrP"
      },
      "source": [
        "dispairs_41 = create_dispairs(pair_4s,pair_1s)\n",
        "dispairs_40 = create_dispairs(pair_0s,pair_4s)\n",
        "result_dispairs4 = pd.concat([dispairs_41,dispairs_40],ignore_index=True)\n",
        "result_dispairs4 = result_dispairs4.sample(frac=0.1)\n",
        "result_dispairs4 = result_dispairs4.reset_index(drop=True)"
      ],
      "execution_count": null,
      "outputs": []
    },
    {
      "cell_type": "code",
      "metadata": {
        "colab": {
          "base_uri": "https://localhost:8080/",
          "height": 419
        },
        "id": "To_aDwSqeqTf",
        "outputId": "2096d086-1a14-4cb2-abc9-63df618b5b32"
      },
      "source": [
        "result_dispairs4"
      ],
      "execution_count": null,
      "outputs": [
        {
          "output_type": "execute_result",
          "data": {
            "text/html": [
              "<div>\n",
              "<style scoped>\n",
              "    .dataframe tbody tr th:only-of-type {\n",
              "        vertical-align: middle;\n",
              "    }\n",
              "\n",
              "    .dataframe tbody tr th {\n",
              "        vertical-align: top;\n",
              "    }\n",
              "\n",
              "    .dataframe thead th {\n",
              "        text-align: right;\n",
              "    }\n",
              "</style>\n",
              "<table border=\"1\" class=\"dataframe\">\n",
              "  <thead>\n",
              "    <tr style=\"text-align: right;\">\n",
              "      <th></th>\n",
              "      <th>l1</th>\n",
              "      <th>l2</th>\n",
              "      <th>is_duplicate</th>\n",
              "    </tr>\n",
              "  </thead>\n",
              "  <tbody>\n",
              "    <tr>\n",
              "      <th>0</th>\n",
              "      <td>doesn't work very good... it blinks alot</td>\n",
              "      <td>I have another, similar holder, but I find tha...</td>\n",
              "      <td>0</td>\n",
              "    </tr>\n",
              "    <tr>\n",
              "      <th>1</th>\n",
              "      <td>AS described arrived in excellent condition</td>\n",
              "      <td>One of these did not seem to have a Carmel lay...</td>\n",
              "      <td>0</td>\n",
              "    </tr>\n",
              "    <tr>\n",
              "      <th>2</th>\n",
              "      <td>This item, as it turns out, does NOT kill the ...</td>\n",
              "      <td>Thanks and great item</td>\n",
              "      <td>0</td>\n",
              "    </tr>\n",
              "    <tr>\n",
              "      <th>3</th>\n",
              "      <td>Advertised as two bottles but only received on...</td>\n",
              "      <td>I bought these as a gift for a friend's birthd...</td>\n",
              "      <td>0</td>\n",
              "    </tr>\n",
              "    <tr>\n",
              "      <th>4</th>\n",
              "      <td>Prior to purchasing this product I read some r...</td>\n",
              "      <td>Works pretty well. All ports work great. Don't...</td>\n",
              "      <td>0</td>\n",
              "    </tr>\n",
              "    <tr>\n",
              "      <th>...</th>\n",
              "      <td>...</td>\n",
              "      <td>...</td>\n",
              "      <td>...</td>\n",
              "    </tr>\n",
              "    <tr>\n",
              "      <th>1999995</th>\n",
              "      <td>I never got these :(</td>\n",
              "      <td>Very quick delivery, excellent item, They are ...</td>\n",
              "      <td>0</td>\n",
              "    </tr>\n",
              "    <tr>\n",
              "      <th>1999996</th>\n",
              "      <td>Exactly what I need for keeping my \"veggie\" gr...</td>\n",
              "      <td>One of the slots was made too big so the capsu...</td>\n",
              "      <td>0</td>\n",
              "    </tr>\n",
              "    <tr>\n",
              "      <th>1999997</th>\n",
              "      <td>Easy to use and install Works well in diffusin...</td>\n",
              "      <td>These SMELL. It's a very odd smell. I've no id...</td>\n",
              "      <td>0</td>\n",
              "    </tr>\n",
              "    <tr>\n",
              "      <th>1999998</th>\n",
              "      <td>I just received this item today and, to my sur...</td>\n",
              "      <td>Excellent and up to date. We had several trave...</td>\n",
              "      <td>0</td>\n",
              "    </tr>\n",
              "    <tr>\n",
              "      <th>1999999</th>\n",
              "      <td>Clip broke when putting on pants for the first...</td>\n",
              "      <td>The cord works well with my new MacBook Pro.</td>\n",
              "      <td>0</td>\n",
              "    </tr>\n",
              "  </tbody>\n",
              "</table>\n",
              "<p>2000000 rows × 3 columns</p>\n",
              "</div>"
            ],
            "text/plain": [
              "                                                        l1  ... is_duplicate\n",
              "0                 doesn't work very good... it blinks alot  ...            0\n",
              "1              AS described arrived in excellent condition  ...            0\n",
              "2        This item, as it turns out, does NOT kill the ...  ...            0\n",
              "3        Advertised as two bottles but only received on...  ...            0\n",
              "4        Prior to purchasing this product I read some r...  ...            0\n",
              "...                                                    ...  ...          ...\n",
              "1999995                               I never got these :(  ...            0\n",
              "1999996  Exactly what I need for keeping my \"veggie\" gr...  ...            0\n",
              "1999997  Easy to use and install Works well in diffusin...  ...            0\n",
              "1999998  I just received this item today and, to my sur...  ...            0\n",
              "1999999  Clip broke when putting on pants for the first...  ...            0\n",
              "\n",
              "[2000000 rows x 3 columns]"
            ]
          },
          "metadata": {
            "tags": []
          },
          "execution_count": 23
        }
      ]
    },
    {
      "cell_type": "code",
      "metadata": {
        "colab": {
          "base_uri": "https://localhost:8080/"
        },
        "id": "4ilKmGLbcKlf",
        "outputId": "7f52d712-9318-4bf1-872d-8a9571077010"
      },
      "source": [
        "result_dispairs4.reset_index(drop=True)\n",
        "print(result_dispairs4['l1'][10])\n",
        "print(result_dispairs4['l2'][10])"
      ],
      "execution_count": null,
      "outputs": [
        {
          "output_type": "stream",
          "text": [
            "It’s heavy, and sturdy. Will get the job done. The blade is very sharp.\n",
            "I don't like it, my boyfriend use it not me\n"
          ],
          "name": "stdout"
        }
      ]
    },
    {
      "cell_type": "code",
      "metadata": {
        "id": "M3OXd_Vf8qW5"
      },
      "source": [
        "result_dispairs = pd.concat([result_dispairs1,result_dispairs0,result_dispairs3,result_dispairs4],ignore_index=True)\n",
        "#result_dispairs = result_dispairs.sample(frac=0.1)\n",
        "result_dispairs = result_dispairs.reset_index(drop=True)\n"
      ],
      "execution_count": null,
      "outputs": []
    },
    {
      "cell_type": "code",
      "metadata": {
        "colab": {
          "base_uri": "https://localhost:8080/"
        },
        "id": "jWtuGNQWbANk",
        "outputId": "db5f0d9a-f998-4107-88b1-5452154f4900"
      },
      "source": [
        "print(result_dispairs['l1'][77888])\n",
        "print(result_dispairs['l2'][77888])"
      ],
      "execution_count": null,
      "outputs": [
        {
          "output_type": "stream",
          "text": [
            "I love dog movies and I love even more dog-police-comedy movies. But this one was a little too slap-stick for me. The comedy was more for a young person, probably pre-teen. I didn't finish the movie.\n",
            "Love that it keeps pill cases secure. No opening and spilling in my purse. I take many pills several times a day and these are easy to fill and to keep medicine organized.\n"
          ],
          "name": "stdout"
        }
      ]
    },
    {
      "cell_type": "code",
      "metadata": {
        "id": "zicKiOMhBqa0"
      },
      "source": [
        "result_dispairs =result_dispairs.rename(columns={'l1':'sent1','l2':'sent2'})"
      ],
      "execution_count": null,
      "outputs": []
    },
    {
      "cell_type": "code",
      "metadata": {
        "id": "T1zYLSECBb50"
      },
      "source": [
        "result_final_data = pd.concat([result_pairs,result_dispairs],ignore_index=True)\n",
        "#hello =result_final_data[result_final_data[\"is_duplicate\"] == 0].count()"
      ],
      "execution_count": null,
      "outputs": []
    },
    {
      "cell_type": "code",
      "metadata": {
        "colab": {
          "base_uri": "https://localhost:8080/"
        },
        "id": "aH-5TQnEn9In",
        "outputId": "06d6ef03-8fc9-4ae8-82c9-1bb7837d40e7"
      },
      "source": [
        "result_final_data.shape"
      ],
      "execution_count": null,
      "outputs": [
        {
          "output_type": "execute_result",
          "data": {
            "text/plain": [
              "(8020000, 3)"
            ]
          },
          "metadata": {
            "tags": []
          },
          "execution_count": 29
        }
      ]
    },
    {
      "cell_type": "code",
      "metadata": {
        "colab": {
          "base_uri": "https://localhost:8080/",
          "height": 419
        },
        "id": "oTrl-ch9ms2z",
        "outputId": "2b465b30-a498-4801-9358-091e4eaed497"
      },
      "source": [
        "#result_final_data1 = result_final_data.sample(frac=0.3)\n",
        "result_final_data1 = result_final_data.reset_index(drop=True)\n",
        "result_final_data1"
      ],
      "execution_count": null,
      "outputs": [
        {
          "output_type": "execute_result",
          "data": {
            "text/html": [
              "<div>\n",
              "<style scoped>\n",
              "    .dataframe tbody tr th:only-of-type {\n",
              "        vertical-align: middle;\n",
              "    }\n",
              "\n",
              "    .dataframe tbody tr th {\n",
              "        vertical-align: top;\n",
              "    }\n",
              "\n",
              "    .dataframe thead th {\n",
              "        text-align: right;\n",
              "    }\n",
              "</style>\n",
              "<table border=\"1\" class=\"dataframe\">\n",
              "  <thead>\n",
              "    <tr style=\"text-align: right;\">\n",
              "      <th></th>\n",
              "      <th>sent1</th>\n",
              "      <th>sent2</th>\n",
              "      <th>is_duplicate</th>\n",
              "    </tr>\n",
              "  </thead>\n",
              "  <tbody>\n",
              "    <tr>\n",
              "      <th>0</th>\n",
              "      <td>Doesn't really turn well at all</td>\n",
              "      <td>Everything about this light shows good design....</td>\n",
              "      <td>1</td>\n",
              "    </tr>\n",
              "    <tr>\n",
              "      <th>1</th>\n",
              "      <td>These were cheep, not well made, hard to work ...</td>\n",
              "      <td>This design is exactly what I want. I read the...</td>\n",
              "      <td>1</td>\n",
              "    </tr>\n",
              "    <tr>\n",
              "      <th>2</th>\n",
              "      <td>I wish the grommet pieces were better sorted, ...</td>\n",
              "      <td>...this was a really good art house film. I li...</td>\n",
              "      <td>1</td>\n",
              "    </tr>\n",
              "    <tr>\n",
              "      <th>3</th>\n",
              "      <td>Came really wrinkled but it’s cute</td>\n",
              "      <td>One of my favorite/smooth flavors of Nespresso...</td>\n",
              "      <td>1</td>\n",
              "    </tr>\n",
              "    <tr>\n",
              "      <th>4</th>\n",
              "      <td>I bought the two-pack of these seat belt retai...</td>\n",
              "      <td>Good quality and good design.</td>\n",
              "      <td>1</td>\n",
              "    </tr>\n",
              "    <tr>\n",
              "      <th>...</th>\n",
              "      <td>...</td>\n",
              "      <td>...</td>\n",
              "      <td>...</td>\n",
              "    </tr>\n",
              "    <tr>\n",
              "      <th>8019995</th>\n",
              "      <td>I never got these :(</td>\n",
              "      <td>Very quick delivery, excellent item, They are ...</td>\n",
              "      <td>0</td>\n",
              "    </tr>\n",
              "    <tr>\n",
              "      <th>8019996</th>\n",
              "      <td>Exactly what I need for keeping my \"veggie\" gr...</td>\n",
              "      <td>One of the slots was made too big so the capsu...</td>\n",
              "      <td>0</td>\n",
              "    </tr>\n",
              "    <tr>\n",
              "      <th>8019997</th>\n",
              "      <td>Easy to use and install Works well in diffusin...</td>\n",
              "      <td>These SMELL. It's a very odd smell. I've no id...</td>\n",
              "      <td>0</td>\n",
              "    </tr>\n",
              "    <tr>\n",
              "      <th>8019998</th>\n",
              "      <td>I just received this item today and, to my sur...</td>\n",
              "      <td>Excellent and up to date. We had several trave...</td>\n",
              "      <td>0</td>\n",
              "    </tr>\n",
              "    <tr>\n",
              "      <th>8019999</th>\n",
              "      <td>Clip broke when putting on pants for the first...</td>\n",
              "      <td>The cord works well with my new MacBook Pro.</td>\n",
              "      <td>0</td>\n",
              "    </tr>\n",
              "  </tbody>\n",
              "</table>\n",
              "<p>8020000 rows × 3 columns</p>\n",
              "</div>"
            ],
            "text/plain": [
              "                                                     sent1  ... is_duplicate\n",
              "0                          Doesn't really turn well at all  ...            1\n",
              "1        These were cheep, not well made, hard to work ...  ...            1\n",
              "2        I wish the grommet pieces were better sorted, ...  ...            1\n",
              "3                       Came really wrinkled but it’s cute  ...            1\n",
              "4        I bought the two-pack of these seat belt retai...  ...            1\n",
              "...                                                    ...  ...          ...\n",
              "8019995                               I never got these :(  ...            0\n",
              "8019996  Exactly what I need for keeping my \"veggie\" gr...  ...            0\n",
              "8019997  Easy to use and install Works well in diffusin...  ...            0\n",
              "8019998  I just received this item today and, to my sur...  ...            0\n",
              "8019999  Clip broke when putting on pants for the first...  ...            0\n",
              "\n",
              "[8020000 rows x 3 columns]"
            ]
          },
          "metadata": {
            "tags": []
          },
          "execution_count": 35
        }
      ]
    },
    {
      "cell_type": "code",
      "metadata": {
        "colab": {
          "base_uri": "https://localhost:8080/"
        },
        "id": "Zxo1cxMka58m",
        "outputId": "29241b47-7feb-47f3-c6c0-098c76b08714"
      },
      "source": [
        "print(result_final_data['sent1'][10000])\n",
        "print(result_final_data['sent2'][10000])\n",
        "print(result_final_data['is_duplicate'][10000])"
      ],
      "execution_count": null,
      "outputs": [
        {
          "output_type": "stream",
          "text": [
            "This product caused an allergic reaction which brought alot of little itchy bumps on my arms\n",
            "Great read. Love her books.\n",
            "0\n"
          ],
          "name": "stdout"
        }
      ]
    },
    {
      "cell_type": "code",
      "metadata": {
        "id": "u5hP2Hc6Iz5i"
      },
      "source": [
        "# LO GUARDO EN UN DATAFRAME\n",
        "result_final_data1.to_csv(r\"drive/MyDrive/TFG/review_pairs_new.csv\", index = False)"
      ],
      "execution_count": null,
      "outputs": []
    },
    {
      "cell_type": "code",
      "metadata": {
        "colab": {
          "base_uri": "https://localhost:8080/"
        },
        "id": "wAeZmFfLCvZY",
        "outputId": "1b6cde4e-14d3-487f-ba94-16774311671d"
      },
      "source": [
        "majority =result_final_data1[result_final_data1[\"is_duplicate\"] == 0]\n",
        "len(majority)"
      ],
      "execution_count": null,
      "outputs": [
        {
          "output_type": "execute_result",
          "data": {
            "text/plain": [
              "7999999"
            ]
          },
          "metadata": {
            "tags": []
          },
          "execution_count": 36
        }
      ]
    },
    {
      "cell_type": "code",
      "metadata": {
        "colab": {
          "base_uri": "https://localhost:8080/"
        },
        "id": "hjNe9XVAC2XD",
        "outputId": "0ab37c7f-edce-42bb-ebdf-bf05914e409b"
      },
      "source": [
        "menority =result_final_data1[result_final_data1[\"is_duplicate\"] == 1]\n",
        "len(menority)"
      ],
      "execution_count": null,
      "outputs": [
        {
          "output_type": "execute_result",
          "data": {
            "text/plain": [
              "20001"
            ]
          },
          "metadata": {
            "tags": []
          },
          "execution_count": 37
        }
      ]
    },
    {
      "cell_type": "code",
      "metadata": {
        "id": "A36g514UsEPc"
      },
      "source": [
        "from sklearn.utils import resample\n",
        "\n",
        "df_maj_resamp = resample(majority,replace=False,n_samples=20000,random_state=20000)"
      ],
      "execution_count": null,
      "outputs": []
    },
    {
      "cell_type": "code",
      "metadata": {
        "id": "FtDzvoMrKat2"
      },
      "source": [
        "final_dataframe= pd.concat([menority,df_maj_resamp])"
      ],
      "execution_count": null,
      "outputs": []
    },
    {
      "cell_type": "code",
      "metadata": {
        "id": "Dw1ON4YdKqLr"
      },
      "source": [
        "final_dataframe = final_dataframe.sample(frac=1).reset_index(drop=True)"
      ],
      "execution_count": null,
      "outputs": []
    },
    {
      "cell_type": "code",
      "metadata": {
        "colab": {
          "base_uri": "https://localhost:8080/"
        },
        "id": "qeah-1-iK7_W",
        "outputId": "9d05e78a-4a85-4f4c-e7d0-0de153fe3d40"
      },
      "source": [
        "print(final_dataframe.loc[15]['sent1'])\n",
        "print(final_dataframe.loc[15]['sent2'])\n",
        "print(final_dataframe.loc[15]['is_duplicate'])"
      ],
      "execution_count": null,
      "outputs": [
        {
          "output_type": "stream",
          "text": [
            "Very high quality for the price\n",
            "They are all a different size, it’s no good.\n",
            "0\n"
          ],
          "name": "stdout"
        }
      ]
    },
    {
      "cell_type": "code",
      "metadata": {
        "colab": {
          "base_uri": "https://localhost:8080/"
        },
        "id": "vbDqgxv7udsW",
        "outputId": "a444612b-fd51-44a4-be12-b24528653c49"
      },
      "source": [
        "final_dataframe.shape"
      ],
      "execution_count": null,
      "outputs": [
        {
          "output_type": "execute_result",
          "data": {
            "text/plain": [
              "(40001, 3)"
            ]
          },
          "metadata": {
            "tags": []
          },
          "execution_count": 45
        }
      ]
    },
    {
      "cell_type": "code",
      "metadata": {
        "id": "Jq_VxiDyMdPf"
      },
      "source": [
        "final_dataframe.to_csv(r\"drive/MyDrive/TFG/review_pairs_downsampled.csv\", index = False)"
      ],
      "execution_count": null,
      "outputs": []
    },
    {
      "cell_type": "code",
      "metadata": {
        "id": "wwl146fXx4N-"
      },
      "source": [
        ""
      ],
      "execution_count": null,
      "outputs": []
    },
    {
      "cell_type": "markdown",
      "metadata": {
        "id": "PV9Tp6Fsysfo"
      },
      "source": [
        "### Pares en Español"
      ]
    },
    {
      "cell_type": "code",
      "metadata": {
        "id": "CZH-uPAKx4GO"
      },
      "source": [
        "# Pares de Test en Español"
      ],
      "execution_count": null,
      "outputs": []
    },
    {
      "cell_type": "code",
      "metadata": {
        "id": "EJOhoAwux3-W"
      },
      "source": [
        "path33 = \"/content/drive/MyDrive/TFG/Datasets_procesados_2/test/amazonES_test.csv\"\n",
        "df_test_es = pd.read_csv(path33)"
      ],
      "execution_count": null,
      "outputs": []
    },
    {
      "cell_type": "code",
      "metadata": {
        "id": "tc1dDoTMx31h"
      },
      "source": [
        "# Agrupamos por puntuaciones \n",
        "star0 = df_test_es[df_test_es[\"star_rating\"] == 0]\n",
        "star1 = df_test_es[df_test_es[\"star_rating\"] == 1]\n",
        "star2 = df_test_es[df_test_es[\"star_rating\"] == 2]\n",
        "star3 = df_test_es[df_test_es[\"star_rating\"] == 3]\n",
        "star4 = df_test_es[df_test_es[\"star_rating\"] == 4]"
      ],
      "execution_count": null,
      "outputs": []
    },
    {
      "cell_type": "code",
      "metadata": {
        "id": "zZD-bQxYyVRK"
      },
      "source": [
        "#Creamos funcion para hacer pares de cada grupo de puntuaciones \n",
        "def create_pairs(df):\n",
        "  partitions = 2\n",
        "  star0s = np.array_split(df, partitions)\n",
        "\n",
        "  star01 = star0s[0]['review_body']\n",
        "  star01 = star01.reset_index()\n",
        "  star01.rename(columns={'review_body': 'sent1'}, inplace=True)\n",
        "\n",
        "\n",
        "  star02 = star0s[1]['review_body']\n",
        "  star02 = star02.reset_index()\n",
        "  star02.rename(columns={'review_body': 'sent2'}, inplace=True)\n",
        "\n",
        "  final1s = pd.DataFrame()\n",
        "  final1s = pd.concat([star01,star02],axis=1)\n",
        "  final1s = final1s.drop('index',axis=1)\n",
        "  final1s['is_duplicate'] = 1\n",
        "  return final1s"
      ],
      "execution_count": null,
      "outputs": []
    },
    {
      "cell_type": "code",
      "metadata": {
        "colab": {
          "base_uri": "https://localhost:8080/"
        },
        "id": "FmS4jssVycGK",
        "outputId": "40d5139c-6d45-4795-d389-9cdc625df8c7"
      },
      "source": [
        "# Cada grupo de puntuaciones dividido en dos y puesto en dos columnas sent1 y sent2  + is_duplicate = 1 porque son del mismo grupo == aprox mismo significado\n",
        "pair_0s = create_pairs(star0)[:5000].reset_index(drop=True)\n",
        "pair_1s = create_pairs(star1)[:5000].reset_index(drop=True)\n",
        "pair_2s = create_pairs(star2)[:5000].reset_index(drop=True)\n",
        "pair_3s = create_pairs(star3)[:5000].reset_index(drop = True)\n",
        "pair_4s = create_pairs(star4)[:5000].reset_index(drop=True)\n",
        "\n",
        "#Ejemplo del resultado\n",
        "pair_0s.head(4)"
      ],
      "execution_count": null,
      "outputs": [
        {
          "output_type": "execute_result",
          "data": {
            "text/html": [
              "<div>\n",
              "<style scoped>\n",
              "    .dataframe tbody tr th:only-of-type {\n",
              "        vertical-align: middle;\n",
              "    }\n",
              "\n",
              "    .dataframe tbody tr th {\n",
              "        vertical-align: top;\n",
              "    }\n",
              "\n",
              "    .dataframe thead th {\n",
              "        text-align: right;\n",
              "    }\n",
              "</style>\n",
              "<table border=\"1\" class=\"dataframe\">\n",
              "  <thead>\n",
              "    <tr style=\"text-align: right;\">\n",
              "      <th></th>\n",
              "      <th>sent1</th>\n",
              "      <th>sent2</th>\n",
              "      <th>is_duplicate</th>\n",
              "    </tr>\n",
              "  </thead>\n",
              "  <tbody>\n",
              "    <tr>\n",
              "      <th>0</th>\n",
              "      <td>El producto no tiene nada que ver con la image...</td>\n",
              "      <td>No me gusta nada e daño mi teléfono nuevo a es...</td>\n",
              "      <td>1</td>\n",
              "    </tr>\n",
              "    <tr>\n",
              "      <th>1</th>\n",
              "      <td>Despues de mas de un mes el pedido sigue sin l...</td>\n",
              "      <td>no me ha gustado nada, me lo cobraron y no lo ...</td>\n",
              "      <td>1</td>\n",
              "    </tr>\n",
              "    <tr>\n",
              "      <th>2</th>\n",
              "      <td>El punto de recogida cerró por vacaciones hace...</td>\n",
              "      <td>El mismo día de ponerlo se despega la parte de...</td>\n",
              "      <td>1</td>\n",
              "    </tr>\n",
              "    <tr>\n",
              "      <th>3</th>\n",
              "      <td>Me llegó con el lomo despegado. Mal protegido ...</td>\n",
              "      <td>Muy mal. La red Wifi llega perfectamente, pero...</td>\n",
              "      <td>1</td>\n",
              "    </tr>\n",
              "  </tbody>\n",
              "</table>\n",
              "</div>"
            ],
            "text/plain": [
              "                                               sent1  ... is_duplicate\n",
              "0  El producto no tiene nada que ver con la image...  ...            1\n",
              "1  Despues de mas de un mes el pedido sigue sin l...  ...            1\n",
              "2  El punto de recogida cerró por vacaciones hace...  ...            1\n",
              "3  Me llegó con el lomo despegado. Mal protegido ...  ...            1\n",
              "\n",
              "[4 rows x 3 columns]"
            ]
          },
          "metadata": {
            "tags": []
          },
          "execution_count": 81
        }
      ]
    },
    {
      "cell_type": "code",
      "metadata": {
        "id": "klZRtHzoyk9e"
      },
      "source": [
        "#Descartamos el 2 , pares entre 0-1 y 3-4 \n",
        "result_pairs = pd.DataFrame()\n",
        "result_pairs = pd.concat([pair_0s,pair_1s,pair_3s,pair_4s],ignore_index=True)\n"
      ],
      "execution_count": null,
      "outputs": []
    },
    {
      "cell_type": "code",
      "metadata": {
        "colab": {
          "base_uri": "https://localhost:8080/"
        },
        "id": "WkiTjGGjywga",
        "outputId": "1abe6b62-054a-4b05-e0e8-f709700231c7"
      },
      "source": [
        "result_pairs = result_pairs.sample(frac=1).reset_index(drop=True)\n",
        "result_pairs"
      ],
      "execution_count": null,
      "outputs": [
        {
          "output_type": "execute_result",
          "data": {
            "text/html": [
              "<div>\n",
              "<style scoped>\n",
              "    .dataframe tbody tr th:only-of-type {\n",
              "        vertical-align: middle;\n",
              "    }\n",
              "\n",
              "    .dataframe tbody tr th {\n",
              "        vertical-align: top;\n",
              "    }\n",
              "\n",
              "    .dataframe thead th {\n",
              "        text-align: right;\n",
              "    }\n",
              "</style>\n",
              "<table border=\"1\" class=\"dataframe\">\n",
              "  <thead>\n",
              "    <tr style=\"text-align: right;\">\n",
              "      <th></th>\n",
              "      <th>sent1</th>\n",
              "      <th>sent2</th>\n",
              "      <th>is_duplicate</th>\n",
              "    </tr>\n",
              "  </thead>\n",
              "  <tbody>\n",
              "    <tr>\n",
              "      <th>0</th>\n",
              "      <td>Cumple todas mis expectativas. Buen producto.</td>\n",
              "      <td>Ya he probado el otro hervidor, segunda compra...</td>\n",
              "      <td>1</td>\n",
              "    </tr>\n",
              "    <tr>\n",
              "      <th>1</th>\n",
              "      <td>Tal cual se ve en la imagen. Estamos Muy conte...</td>\n",
              "      <td>Duradera y limpia. Algo almohadillada. Perfect...</td>\n",
              "      <td>1</td>\n",
              "    </tr>\n",
              "    <tr>\n",
              "      <th>2</th>\n",
              "      <td>Reconozco que lo compré solamente para probar ...</td>\n",
              "      <td>Es cómodo y rápido de poner pero no da el calo...</td>\n",
              "      <td>1</td>\n",
              "    </tr>\n",
              "    <tr>\n",
              "      <th>3</th>\n",
              "      <td>La Calidad de la portada es muy buena y gran c...</td>\n",
              "      <td>Muy buen precio y encantada.</td>\n",
              "      <td>1</td>\n",
              "    </tr>\n",
              "    <tr>\n",
              "      <th>4</th>\n",
              "      <td>Muy comodo para cargar varios dispositivos a l...</td>\n",
              "      <td>Me gustó este modelo ya que es más pequeño imi...</td>\n",
              "      <td>1</td>\n",
              "    </tr>\n",
              "    <tr>\n",
              "      <th>...</th>\n",
              "      <td>...</td>\n",
              "      <td>...</td>\n",
              "      <td>...</td>\n",
              "    </tr>\n",
              "    <tr>\n",
              "      <th>995</th>\n",
              "      <td>Cable corto. La luz indicadora de conexión no ...</td>\n",
              "      <td>Es muy lento. Endeble. Para trabajar en un hos...</td>\n",
              "      <td>1</td>\n",
              "    </tr>\n",
              "    <tr>\n",
              "      <th>996</th>\n",
              "      <td>Es la tercera vez que compro este producto y l...</td>\n",
              "      <td>Compre este articulo como reacondicionado de a...</td>\n",
              "      <td>1</td>\n",
              "    </tr>\n",
              "    <tr>\n",
              "      <th>997</th>\n",
              "      <td>De momento bastante bien. Cumple las espectati...</td>\n",
              "      <td>Todo correcto, recibido en el plazo establecid...</td>\n",
              "      <td>1</td>\n",
              "    </tr>\n",
              "    <tr>\n",
              "      <th>998</th>\n",
              "      <td>Son unos mini-mini libros! No me los esperaba ...</td>\n",
              "      <td>Cuando recibo el pedido, venia abierto el prec...</td>\n",
              "      <td>1</td>\n",
              "    </tr>\n",
              "    <tr>\n",
              "      <th>999</th>\n",
              "      <td>Llegó a casa y nada más bajar a dejarlo en el ...</td>\n",
              "      <td>Calidad precio como se espera. La foto es bast...</td>\n",
              "      <td>1</td>\n",
              "    </tr>\n",
              "  </tbody>\n",
              "</table>\n",
              "<p>1000 rows × 3 columns</p>\n",
              "</div>"
            ],
            "text/plain": [
              "                                                 sent1  ... is_duplicate\n",
              "0        Cumple todas mis expectativas. Buen producto.  ...            1\n",
              "1    Tal cual se ve en la imagen. Estamos Muy conte...  ...            1\n",
              "2    Reconozco que lo compré solamente para probar ...  ...            1\n",
              "3    La Calidad de la portada es muy buena y gran c...  ...            1\n",
              "4    Muy comodo para cargar varios dispositivos a l...  ...            1\n",
              "..                                                 ...  ...          ...\n",
              "995  Cable corto. La luz indicadora de conexión no ...  ...            1\n",
              "996  Es la tercera vez que compro este producto y l...  ...            1\n",
              "997  De momento bastante bien. Cumple las espectati...  ...            1\n",
              "998  Son unos mini-mini libros! No me los esperaba ...  ...            1\n",
              "999  Llegó a casa y nada más bajar a dejarlo en el ...  ...            1\n",
              "\n",
              "[1000 rows x 3 columns]"
            ]
          },
          "metadata": {
            "tags": []
          },
          "execution_count": 83
        }
      ]
    },
    {
      "cell_type": "code",
      "metadata": {
        "id": "ZIyBFy7Hywns"
      },
      "source": [
        "# Hacemos combinaciones entre grupos de puntuaciones para añadir ejemplos que no tengan el mismo significado == is_duplicate = 0\n",
        "from itertools import product\n",
        "def create_dispairs(dfa,dfb):\n",
        "  \n",
        "  a = dfa['sent1']\n",
        "  a1 = dfb['sent1']\n",
        "\n",
        "  b = dfa['sent2']\n",
        "  b1 = dfb['sent2']\n",
        "\n",
        "  dispairs_1 = pd.DataFrame(list(product(a, a1)), columns=['l1', 'l2'])\n",
        "  dispairs_2 = pd.DataFrame(list(product(b, b1)), columns=['l1', 'l2'])\n",
        "\n",
        "  dispairs_1['l1'] = dispairs_1['l1'].astype(str)\n",
        "  dispairs_1['l2'] = dispairs_1['l2'].astype(str)\n",
        "\n",
        "  dispairs_2['l1'] = dispairs_2['l1'].astype(str)\n",
        "  dispairs_2['l2'] = dispairs_2['l2'].astype(str)\n",
        "\n",
        "\n",
        "  dispairs_1['is_duplicate'] = np.where(dispairs_1['l1']== dispairs_1['l2'], 1, 0)\n",
        "  dispairs_2['is_duplicate'] = np.where(dispairs_2['l1']== dispairs_2['l2'], 1, 0)\n",
        "\n",
        "  dispairs_1 = dispairs_1.sample(frac = 0.2)\n",
        "  dispairs_2 = dispairs_2.sample(frac = 0.2)\n",
        "  \n",
        "  result = pd.DataFrame()\n",
        "  result = pd.concat([dispairs_1,dispairs_2])\n",
        "  return result"
      ],
      "execution_count": null,
      "outputs": []
    },
    {
      "cell_type": "code",
      "metadata": {
        "id": "TcaGJInJzi3-"
      },
      "source": [
        "dispairs_03 = create_dispairs(pair_0s,pair_3s)\n",
        "dispairs_04 = create_dispairs(pair_0s,pair_4s)\n",
        "result_dispairs0 = pd.concat([dispairs_03,dispairs_04],ignore_index=True)\n",
        "result_dispairs0 = result_dispairs0.sample(frac=0.1)\n",
        "result_dispairs0 = result_dispairs0.reset_index(drop=True)"
      ],
      "execution_count": null,
      "outputs": []
    },
    {
      "cell_type": "code",
      "metadata": {
        "id": "vWOpYmwRywvA"
      },
      "source": [
        "dispairs_13 = create_dispairs(pair_1s,pair_3s)\n",
        "dispairs_14 = create_dispairs(pair_1s,pair_4s)\n",
        "result_dispairs1 = pd.concat([dispairs_13,dispairs_14],ignore_index=True)\n",
        "result_dispairs1 = result_dispairs1.sample(frac=0.1)\n",
        "result_dispairs1 = result_dispairs1.reset_index(drop=True)"
      ],
      "execution_count": null,
      "outputs": []
    },
    {
      "cell_type": "code",
      "metadata": {
        "id": "wDug9Nqbyw2z"
      },
      "source": [
        "dispairs_31 = create_dispairs(pair_3s,pair_1s)\n",
        "dispairs_30 = create_dispairs(pair_0s,pair_3s)\n",
        "result_dispairs3 = pd.concat([dispairs_31,dispairs_30],ignore_index=True)\n",
        "result_dispairs3 = result_dispairs3.sample(frac=0.1)\n",
        "result_dispairs3 = result_dispairs3.reset_index(drop=True)"
      ],
      "execution_count": null,
      "outputs": []
    },
    {
      "cell_type": "code",
      "metadata": {
        "id": "M6J1SjYozF6V"
      },
      "source": [
        "dispairs_41 = create_dispairs(pair_4s,pair_1s)\n",
        "dispairs_40 = create_dispairs(pair_0s,pair_4s)\n",
        "result_dispairs4 = pd.concat([dispairs_41,dispairs_40],ignore_index=True)\n",
        "result_dispairs4 = result_dispairs4.sample(frac=0.1)\n",
        "result_dispairs4 = result_dispairs4.reset_index(drop=True)"
      ],
      "execution_count": null,
      "outputs": []
    },
    {
      "cell_type": "code",
      "metadata": {
        "colab": {
          "base_uri": "https://localhost:8080/"
        },
        "id": "rcLaG009zJag",
        "outputId": "47b0de92-5514-4177-9dc1-8d0af6c12e88"
      },
      "source": [
        "result_dispairs4"
      ],
      "execution_count": null,
      "outputs": [
        {
          "output_type": "execute_result",
          "data": {
            "text/html": [
              "<div>\n",
              "<style scoped>\n",
              "    .dataframe tbody tr th:only-of-type {\n",
              "        vertical-align: middle;\n",
              "    }\n",
              "\n",
              "    .dataframe tbody tr th {\n",
              "        vertical-align: top;\n",
              "    }\n",
              "\n",
              "    .dataframe thead th {\n",
              "        text-align: right;\n",
              "    }\n",
              "</style>\n",
              "<table border=\"1\" class=\"dataframe\">\n",
              "  <thead>\n",
              "    <tr style=\"text-align: right;\">\n",
              "      <th></th>\n",
              "      <th>l1</th>\n",
              "      <th>l2</th>\n",
              "      <th>is_duplicate</th>\n",
              "    </tr>\n",
              "  </thead>\n",
              "  <tbody>\n",
              "    <tr>\n",
              "      <th>0</th>\n",
              "      <td>El producto me va muy mal</td>\n",
              "      <td>Es tal cual lo describen en el anuncio. Buenas...</td>\n",
              "      <td>0</td>\n",
              "    </tr>\n",
              "    <tr>\n",
              "      <th>1</th>\n",
              "      <td>Me encanta, es muy bonito, me queda genial y d...</td>\n",
              "      <td>He intentado poner el protector tres veces sin...</td>\n",
              "      <td>0</td>\n",
              "    </tr>\n",
              "    <tr>\n",
              "      <th>2</th>\n",
              "      <td>Es pequeño y no tiene las medidas que pone en ...</td>\n",
              "      <td>Tuve uno de la marca Kong y lo rompió en dos d...</td>\n",
              "      <td>0</td>\n",
              "    </tr>\n",
              "    <tr>\n",
              "      <th>3</th>\n",
              "      <td>la hebilla no enganchaba en cuanto te lo ponía...</td>\n",
              "      <td>A mi hija la ha encantado. Viene además 2 hoja...</td>\n",
              "      <td>0</td>\n",
              "    </tr>\n",
              "    <tr>\n",
              "      <th>4</th>\n",
              "      <td>Justo lo que buscaba</td>\n",
              "      <td>la funda de silicona me ha llegado peefectamen...</td>\n",
              "      <td>0</td>\n",
              "    </tr>\n",
              "    <tr>\n",
              "      <th>...</th>\n",
              "      <td>...</td>\n",
              "      <td>...</td>\n",
              "      <td>...</td>\n",
              "    </tr>\n",
              "    <tr>\n",
              "      <th>5035</th>\n",
              "      <td>No Funciona, no se enciende la luz</td>\n",
              "      <td>Buen tamaño, buen tacto. Son de goma blanda (n...</td>\n",
              "      <td>0</td>\n",
              "    </tr>\n",
              "    <tr>\n",
              "      <th>5036</th>\n",
              "      <td>Son los youtubers favoritos de mi hijo, y está...</td>\n",
              "      <td>Q pena. Es muy bonito, pero se le está cayendo...</td>\n",
              "      <td>0</td>\n",
              "    </tr>\n",
              "    <tr>\n",
              "      <th>5037</th>\n",
              "      <td>Hoy es día 30 de julio y todavia no lo he reci...</td>\n",
              "      <td>Producto buenísimo, ajusta a la perfección, es...</td>\n",
              "      <td>0</td>\n",
              "    </tr>\n",
              "    <tr>\n",
              "      <th>5038</th>\n",
              "      <td>Muy sencillo y de baja calidad</td>\n",
              "      <td>Muy recomendable si te gusta el género.</td>\n",
              "      <td>0</td>\n",
              "    </tr>\n",
              "    <tr>\n",
              "      <th>5039</th>\n",
              "      <td>Lo compre para que mi perrita que ya es mayor ...</td>\n",
              "      <td>La primera impresión no es mala del todo, lo q...</td>\n",
              "      <td>0</td>\n",
              "    </tr>\n",
              "  </tbody>\n",
              "</table>\n",
              "<p>5040 rows × 3 columns</p>\n",
              "</div>"
            ],
            "text/plain": [
              "                                                     l1  ... is_duplicate\n",
              "0                             El producto me va muy mal  ...            0\n",
              "1     Me encanta, es muy bonito, me queda genial y d...  ...            0\n",
              "2     Es pequeño y no tiene las medidas que pone en ...  ...            0\n",
              "3     la hebilla no enganchaba en cuanto te lo ponía...  ...            0\n",
              "4                                  Justo lo que buscaba  ...            0\n",
              "...                                                 ...  ...          ...\n",
              "5035                 No Funciona, no se enciende la luz  ...            0\n",
              "5036  Son los youtubers favoritos de mi hijo, y está...  ...            0\n",
              "5037  Hoy es día 30 de julio y todavia no lo he reci...  ...            0\n",
              "5038                     Muy sencillo y de baja calidad  ...            0\n",
              "5039  Lo compre para que mi perrita que ya es mayor ...  ...            0\n",
              "\n",
              "[5040 rows x 3 columns]"
            ]
          },
          "metadata": {
            "tags": []
          },
          "execution_count": 89
        }
      ]
    },
    {
      "cell_type": "code",
      "metadata": {
        "id": "uSsgMpe3zW_J"
      },
      "source": [
        "result_dispairs = pd.concat([result_dispairs1,result_dispairs0,result_dispairs3,result_dispairs4],ignore_index=True)\n",
        "#result_dispairs = result_dispairs.sample(frac=0.1)\n",
        "result_dispairs = result_dispairs.reset_index(drop=True)\n"
      ],
      "execution_count": null,
      "outputs": []
    },
    {
      "cell_type": "code",
      "metadata": {
        "colab": {
          "base_uri": "https://localhost:8080/"
        },
        "id": "Pz9rOmmrzW5c",
        "outputId": "18130979-26ad-454c-f04d-4551863ee00d"
      },
      "source": [
        "result_dispairs"
      ],
      "execution_count": null,
      "outputs": [
        {
          "output_type": "execute_result",
          "data": {
            "text/html": [
              "<div>\n",
              "<style scoped>\n",
              "    .dataframe tbody tr th:only-of-type {\n",
              "        vertical-align: middle;\n",
              "    }\n",
              "\n",
              "    .dataframe tbody tr th {\n",
              "        vertical-align: top;\n",
              "    }\n",
              "\n",
              "    .dataframe thead th {\n",
              "        text-align: right;\n",
              "    }\n",
              "</style>\n",
              "<table border=\"1\" class=\"dataframe\">\n",
              "  <thead>\n",
              "    <tr style=\"text-align: right;\">\n",
              "      <th></th>\n",
              "      <th>l1</th>\n",
              "      <th>l2</th>\n",
              "      <th>is_duplicate</th>\n",
              "    </tr>\n",
              "  </thead>\n",
              "  <tbody>\n",
              "    <tr>\n",
              "      <th>0</th>\n",
              "      <td>Son más bonitos en la foto que en la mano, se ...</td>\n",
              "      <td>Funda oficial de Samsung que aunque ponía que ...</td>\n",
              "      <td>0</td>\n",
              "    </tr>\n",
              "    <tr>\n",
              "      <th>1</th>\n",
              "      <td>Que no pude programarlo y no tenia instrucciones.</td>\n",
              "      <td>Muy barato. Llego antes de la fecha (Comunidad...</td>\n",
              "      <td>0</td>\n",
              "    </tr>\n",
              "    <tr>\n",
              "      <th>2</th>\n",
              "      <td>La carcasa de detrás no me ha servido para nad...</td>\n",
              "      <td>El teclado es genial, el tacto es perfecto, tr...</td>\n",
              "      <td>0</td>\n",
              "    </tr>\n",
              "    <tr>\n",
              "      <th>3</th>\n",
              "      <td>Muy mala calidad. Aunque salgan oferta no mere...</td>\n",
              "      <td>la colocación fácil siguiendo las instruccione...</td>\n",
              "      <td>0</td>\n",
              "    </tr>\n",
              "    <tr>\n",
              "      <th>4</th>\n",
              "      <td>Son muy graciosos pero la calidad de la pintur...</td>\n",
              "      <td>Es una monada. El tamaño y colores es el indic...</td>\n",
              "      <td>0</td>\n",
              "    </tr>\n",
              "    <tr>\n",
              "      <th>...</th>\n",
              "      <td>...</td>\n",
              "      <td>...</td>\n",
              "      <td>...</td>\n",
              "    </tr>\n",
              "    <tr>\n",
              "      <th>19995</th>\n",
              "      <td>No Funciona, no se enciende la luz</td>\n",
              "      <td>Buen tamaño, buen tacto. Son de goma blanda (n...</td>\n",
              "      <td>0</td>\n",
              "    </tr>\n",
              "    <tr>\n",
              "      <th>19996</th>\n",
              "      <td>Son los youtubers favoritos de mi hijo, y está...</td>\n",
              "      <td>Q pena. Es muy bonito, pero se le está cayendo...</td>\n",
              "      <td>0</td>\n",
              "    </tr>\n",
              "    <tr>\n",
              "      <th>19997</th>\n",
              "      <td>Hoy es día 30 de julio y todavia no lo he reci...</td>\n",
              "      <td>Producto buenísimo, ajusta a la perfección, es...</td>\n",
              "      <td>0</td>\n",
              "    </tr>\n",
              "    <tr>\n",
              "      <th>19998</th>\n",
              "      <td>Muy sencillo y de baja calidad</td>\n",
              "      <td>Muy recomendable si te gusta el género.</td>\n",
              "      <td>0</td>\n",
              "    </tr>\n",
              "    <tr>\n",
              "      <th>19999</th>\n",
              "      <td>Lo compre para que mi perrita que ya es mayor ...</td>\n",
              "      <td>La primera impresión no es mala del todo, lo q...</td>\n",
              "      <td>0</td>\n",
              "    </tr>\n",
              "  </tbody>\n",
              "</table>\n",
              "<p>20000 rows × 3 columns</p>\n",
              "</div>"
            ],
            "text/plain": [
              "                                                      l1  ... is_duplicate\n",
              "0      Son más bonitos en la foto que en la mano, se ...  ...            0\n",
              "1      Que no pude programarlo y no tenia instrucciones.  ...            0\n",
              "2      La carcasa de detrás no me ha servido para nad...  ...            0\n",
              "3      Muy mala calidad. Aunque salgan oferta no mere...  ...            0\n",
              "4      Son muy graciosos pero la calidad de la pintur...  ...            0\n",
              "...                                                  ...  ...          ...\n",
              "19995                 No Funciona, no se enciende la luz  ...            0\n",
              "19996  Son los youtubers favoritos de mi hijo, y está...  ...            0\n",
              "19997  Hoy es día 30 de julio y todavia no lo he reci...  ...            0\n",
              "19998                     Muy sencillo y de baja calidad  ...            0\n",
              "19999  Lo compre para que mi perrita que ya es mayor ...  ...            0\n",
              "\n",
              "[20000 rows x 3 columns]"
            ]
          },
          "metadata": {
            "tags": []
          },
          "execution_count": 91
        }
      ]
    },
    {
      "cell_type": "code",
      "metadata": {
        "id": "rU4-DjzHzWzV"
      },
      "source": [
        "result_dispairs =result_dispairs.rename(columns={'l1':'sent1','l2':'sent2'})\n",
        "result_final_data = pd.concat([result_pairs,result_dispairs],ignore_index=True)"
      ],
      "execution_count": null,
      "outputs": []
    },
    {
      "cell_type": "code",
      "metadata": {
        "colab": {
          "base_uri": "https://localhost:8080/"
        },
        "id": "-7CZ1HiXz6cR",
        "outputId": "c7517711-cc07-474c-d540-c2b38b5b39ae"
      },
      "source": [
        "result_final_data"
      ],
      "execution_count": null,
      "outputs": [
        {
          "output_type": "execute_result",
          "data": {
            "text/html": [
              "<div>\n",
              "<style scoped>\n",
              "    .dataframe tbody tr th:only-of-type {\n",
              "        vertical-align: middle;\n",
              "    }\n",
              "\n",
              "    .dataframe tbody tr th {\n",
              "        vertical-align: top;\n",
              "    }\n",
              "\n",
              "    .dataframe thead th {\n",
              "        text-align: right;\n",
              "    }\n",
              "</style>\n",
              "<table border=\"1\" class=\"dataframe\">\n",
              "  <thead>\n",
              "    <tr style=\"text-align: right;\">\n",
              "      <th></th>\n",
              "      <th>sent1</th>\n",
              "      <th>sent2</th>\n",
              "      <th>is_duplicate</th>\n",
              "    </tr>\n",
              "  </thead>\n",
              "  <tbody>\n",
              "    <tr>\n",
              "      <th>0</th>\n",
              "      <td>Cumple todas mis expectativas. Buen producto.</td>\n",
              "      <td>Ya he probado el otro hervidor, segunda compra...</td>\n",
              "      <td>1</td>\n",
              "    </tr>\n",
              "    <tr>\n",
              "      <th>1</th>\n",
              "      <td>Tal cual se ve en la imagen. Estamos Muy conte...</td>\n",
              "      <td>Duradera y limpia. Algo almohadillada. Perfect...</td>\n",
              "      <td>1</td>\n",
              "    </tr>\n",
              "    <tr>\n",
              "      <th>2</th>\n",
              "      <td>Reconozco que lo compré solamente para probar ...</td>\n",
              "      <td>Es cómodo y rápido de poner pero no da el calo...</td>\n",
              "      <td>1</td>\n",
              "    </tr>\n",
              "    <tr>\n",
              "      <th>3</th>\n",
              "      <td>La Calidad de la portada es muy buena y gran c...</td>\n",
              "      <td>Muy buen precio y encantada.</td>\n",
              "      <td>1</td>\n",
              "    </tr>\n",
              "    <tr>\n",
              "      <th>4</th>\n",
              "      <td>Muy comodo para cargar varios dispositivos a l...</td>\n",
              "      <td>Me gustó este modelo ya que es más pequeño imi...</td>\n",
              "      <td>1</td>\n",
              "    </tr>\n",
              "    <tr>\n",
              "      <th>...</th>\n",
              "      <td>...</td>\n",
              "      <td>...</td>\n",
              "      <td>...</td>\n",
              "    </tr>\n",
              "    <tr>\n",
              "      <th>20995</th>\n",
              "      <td>No Funciona, no se enciende la luz</td>\n",
              "      <td>Buen tamaño, buen tacto. Son de goma blanda (n...</td>\n",
              "      <td>0</td>\n",
              "    </tr>\n",
              "    <tr>\n",
              "      <th>20996</th>\n",
              "      <td>Son los youtubers favoritos de mi hijo, y está...</td>\n",
              "      <td>Q pena. Es muy bonito, pero se le está cayendo...</td>\n",
              "      <td>0</td>\n",
              "    </tr>\n",
              "    <tr>\n",
              "      <th>20997</th>\n",
              "      <td>Hoy es día 30 de julio y todavia no lo he reci...</td>\n",
              "      <td>Producto buenísimo, ajusta a la perfección, es...</td>\n",
              "      <td>0</td>\n",
              "    </tr>\n",
              "    <tr>\n",
              "      <th>20998</th>\n",
              "      <td>Muy sencillo y de baja calidad</td>\n",
              "      <td>Muy recomendable si te gusta el género.</td>\n",
              "      <td>0</td>\n",
              "    </tr>\n",
              "    <tr>\n",
              "      <th>20999</th>\n",
              "      <td>Lo compre para que mi perrita que ya es mayor ...</td>\n",
              "      <td>La primera impresión no es mala del todo, lo q...</td>\n",
              "      <td>0</td>\n",
              "    </tr>\n",
              "  </tbody>\n",
              "</table>\n",
              "<p>21000 rows × 3 columns</p>\n",
              "</div>"
            ],
            "text/plain": [
              "                                                   sent1  ... is_duplicate\n",
              "0          Cumple todas mis expectativas. Buen producto.  ...            1\n",
              "1      Tal cual se ve en la imagen. Estamos Muy conte...  ...            1\n",
              "2      Reconozco que lo compré solamente para probar ...  ...            1\n",
              "3      La Calidad de la portada es muy buena y gran c...  ...            1\n",
              "4      Muy comodo para cargar varios dispositivos a l...  ...            1\n",
              "...                                                  ...  ...          ...\n",
              "20995                 No Funciona, no se enciende la luz  ...            0\n",
              "20996  Son los youtubers favoritos de mi hijo, y está...  ...            0\n",
              "20997  Hoy es día 30 de julio y todavia no lo he reci...  ...            0\n",
              "20998                     Muy sencillo y de baja calidad  ...            0\n",
              "20999  Lo compre para que mi perrita que ya es mayor ...  ...            0\n",
              "\n",
              "[21000 rows x 3 columns]"
            ]
          },
          "metadata": {
            "tags": []
          },
          "execution_count": 93
        }
      ]
    },
    {
      "cell_type": "code",
      "metadata": {
        "colab": {
          "base_uri": "https://localhost:8080/"
        },
        "id": "J0PO6fQUzWtC",
        "outputId": "a73ec6e0-c8f1-4d47-f66c-62841433a2d9"
      },
      "source": [
        "result_final_data1 = result_final_data.reset_index(drop=True)\n",
        "result_final_data1"
      ],
      "execution_count": null,
      "outputs": [
        {
          "output_type": "execute_result",
          "data": {
            "text/html": [
              "<div>\n",
              "<style scoped>\n",
              "    .dataframe tbody tr th:only-of-type {\n",
              "        vertical-align: middle;\n",
              "    }\n",
              "\n",
              "    .dataframe tbody tr th {\n",
              "        vertical-align: top;\n",
              "    }\n",
              "\n",
              "    .dataframe thead th {\n",
              "        text-align: right;\n",
              "    }\n",
              "</style>\n",
              "<table border=\"1\" class=\"dataframe\">\n",
              "  <thead>\n",
              "    <tr style=\"text-align: right;\">\n",
              "      <th></th>\n",
              "      <th>sent1</th>\n",
              "      <th>sent2</th>\n",
              "      <th>is_duplicate</th>\n",
              "    </tr>\n",
              "  </thead>\n",
              "  <tbody>\n",
              "    <tr>\n",
              "      <th>0</th>\n",
              "      <td>Cumple todas mis expectativas. Buen producto.</td>\n",
              "      <td>Ya he probado el otro hervidor, segunda compra...</td>\n",
              "      <td>1</td>\n",
              "    </tr>\n",
              "    <tr>\n",
              "      <th>1</th>\n",
              "      <td>Tal cual se ve en la imagen. Estamos Muy conte...</td>\n",
              "      <td>Duradera y limpia. Algo almohadillada. Perfect...</td>\n",
              "      <td>1</td>\n",
              "    </tr>\n",
              "    <tr>\n",
              "      <th>2</th>\n",
              "      <td>Reconozco que lo compré solamente para probar ...</td>\n",
              "      <td>Es cómodo y rápido de poner pero no da el calo...</td>\n",
              "      <td>1</td>\n",
              "    </tr>\n",
              "    <tr>\n",
              "      <th>3</th>\n",
              "      <td>La Calidad de la portada es muy buena y gran c...</td>\n",
              "      <td>Muy buen precio y encantada.</td>\n",
              "      <td>1</td>\n",
              "    </tr>\n",
              "    <tr>\n",
              "      <th>4</th>\n",
              "      <td>Muy comodo para cargar varios dispositivos a l...</td>\n",
              "      <td>Me gustó este modelo ya que es más pequeño imi...</td>\n",
              "      <td>1</td>\n",
              "    </tr>\n",
              "    <tr>\n",
              "      <th>...</th>\n",
              "      <td>...</td>\n",
              "      <td>...</td>\n",
              "      <td>...</td>\n",
              "    </tr>\n",
              "    <tr>\n",
              "      <th>20995</th>\n",
              "      <td>No Funciona, no se enciende la luz</td>\n",
              "      <td>Buen tamaño, buen tacto. Son de goma blanda (n...</td>\n",
              "      <td>0</td>\n",
              "    </tr>\n",
              "    <tr>\n",
              "      <th>20996</th>\n",
              "      <td>Son los youtubers favoritos de mi hijo, y está...</td>\n",
              "      <td>Q pena. Es muy bonito, pero se le está cayendo...</td>\n",
              "      <td>0</td>\n",
              "    </tr>\n",
              "    <tr>\n",
              "      <th>20997</th>\n",
              "      <td>Hoy es día 30 de julio y todavia no lo he reci...</td>\n",
              "      <td>Producto buenísimo, ajusta a la perfección, es...</td>\n",
              "      <td>0</td>\n",
              "    </tr>\n",
              "    <tr>\n",
              "      <th>20998</th>\n",
              "      <td>Muy sencillo y de baja calidad</td>\n",
              "      <td>Muy recomendable si te gusta el género.</td>\n",
              "      <td>0</td>\n",
              "    </tr>\n",
              "    <tr>\n",
              "      <th>20999</th>\n",
              "      <td>Lo compre para que mi perrita que ya es mayor ...</td>\n",
              "      <td>La primera impresión no es mala del todo, lo q...</td>\n",
              "      <td>0</td>\n",
              "    </tr>\n",
              "  </tbody>\n",
              "</table>\n",
              "<p>21000 rows × 3 columns</p>\n",
              "</div>"
            ],
            "text/plain": [
              "                                                   sent1  ... is_duplicate\n",
              "0          Cumple todas mis expectativas. Buen producto.  ...            1\n",
              "1      Tal cual se ve en la imagen. Estamos Muy conte...  ...            1\n",
              "2      Reconozco que lo compré solamente para probar ...  ...            1\n",
              "3      La Calidad de la portada es muy buena y gran c...  ...            1\n",
              "4      Muy comodo para cargar varios dispositivos a l...  ...            1\n",
              "...                                                  ...  ...          ...\n",
              "20995                 No Funciona, no se enciende la luz  ...            0\n",
              "20996  Son los youtubers favoritos de mi hijo, y está...  ...            0\n",
              "20997  Hoy es día 30 de julio y todavia no lo he reci...  ...            0\n",
              "20998                     Muy sencillo y de baja calidad  ...            0\n",
              "20999  Lo compre para que mi perrita que ya es mayor ...  ...            0\n",
              "\n",
              "[21000 rows x 3 columns]"
            ]
          },
          "metadata": {
            "tags": []
          },
          "execution_count": 94
        }
      ]
    },
    {
      "cell_type": "code",
      "metadata": {
        "colab": {
          "base_uri": "https://localhost:8080/"
        },
        "id": "3xCdMqQv0bUz",
        "outputId": "84520123-52a1-419e-91db-6032acb6a865"
      },
      "source": [
        "majority =result_final_data1[result_final_data1[\"is_duplicate\"] == 0]\n",
        "len(majority)"
      ],
      "execution_count": null,
      "outputs": [
        {
          "output_type": "execute_result",
          "data": {
            "text/plain": [
              "20000"
            ]
          },
          "metadata": {
            "tags": []
          },
          "execution_count": 95
        }
      ]
    },
    {
      "cell_type": "code",
      "metadata": {
        "colab": {
          "base_uri": "https://localhost:8080/"
        },
        "id": "CXODP_VZ0dQL",
        "outputId": "eb06b8ae-ffc4-4bf7-f908-168f5a9976d9"
      },
      "source": [
        "minority =result_final_data1[result_final_data1[\"is_duplicate\"] == 1]\n",
        "len(minority)"
      ],
      "execution_count": null,
      "outputs": [
        {
          "output_type": "execute_result",
          "data": {
            "text/plain": [
              "1000"
            ]
          },
          "metadata": {
            "tags": []
          },
          "execution_count": 96
        }
      ]
    },
    {
      "cell_type": "code",
      "metadata": {
        "id": "OjUVui_j0jHe"
      },
      "source": [
        "from sklearn.utils import resample\n",
        "\n",
        "df_maj_resamp = resample(majority,replace=False,n_samples=1001,random_state=20000)\n",
        "\n"
      ],
      "execution_count": null,
      "outputs": []
    },
    {
      "cell_type": "code",
      "metadata": {
        "id": "-4mYTqUj0jPI"
      },
      "source": [
        "final_dataframe= pd.concat([minority,df_maj_resamp])"
      ],
      "execution_count": null,
      "outputs": []
    },
    {
      "cell_type": "code",
      "metadata": {
        "id": "gl0Gio2U02cL"
      },
      "source": [
        "final_dataframe = final_dataframe.sample(frac=1).reset_index(drop=True)"
      ],
      "execution_count": null,
      "outputs": []
    },
    {
      "cell_type": "code",
      "metadata": {
        "colab": {
          "base_uri": "https://localhost:8080/"
        },
        "id": "ITxkTOlk08pg",
        "outputId": "190f12d7-c12c-49a6-acd8-0ea02572bfac"
      },
      "source": [
        "final_dataframe.shape"
      ],
      "execution_count": null,
      "outputs": [
        {
          "output_type": "execute_result",
          "data": {
            "text/plain": [
              "(2001, 3)"
            ]
          },
          "metadata": {
            "tags": []
          },
          "execution_count": 100
        }
      ]
    },
    {
      "cell_type": "code",
      "metadata": {
        "colab": {
          "base_uri": "https://localhost:8080/"
        },
        "id": "eQxOXCkF1IAp",
        "outputId": "062b9da8-2a6b-4319-aa0c-aa32e3b3788e"
      },
      "source": [
        "final_dataframe"
      ],
      "execution_count": null,
      "outputs": [
        {
          "output_type": "execute_result",
          "data": {
            "text/html": [
              "<div>\n",
              "<style scoped>\n",
              "    .dataframe tbody tr th:only-of-type {\n",
              "        vertical-align: middle;\n",
              "    }\n",
              "\n",
              "    .dataframe tbody tr th {\n",
              "        vertical-align: top;\n",
              "    }\n",
              "\n",
              "    .dataframe thead th {\n",
              "        text-align: right;\n",
              "    }\n",
              "</style>\n",
              "<table border=\"1\" class=\"dataframe\">\n",
              "  <thead>\n",
              "    <tr style=\"text-align: right;\">\n",
              "      <th></th>\n",
              "      <th>sent1</th>\n",
              "      <th>sent2</th>\n",
              "      <th>is_duplicate</th>\n",
              "    </tr>\n",
              "  </thead>\n",
              "  <tbody>\n",
              "    <tr>\n",
              "      <th>0</th>\n",
              "      <td>No lo envían en caja. Se me deformó. Me devolv...</td>\n",
              "      <td>Un tapón venía inservible.</td>\n",
              "      <td>1</td>\n",
              "    </tr>\n",
              "    <tr>\n",
              "      <th>1</th>\n",
              "      <td>Es mas fina de lo que estoy acostumbrado a ver...</td>\n",
              "      <td>Buen producto y entrega rápida, esperaba que l...</td>\n",
              "      <td>1</td>\n",
              "    </tr>\n",
              "    <tr>\n",
              "      <th>2</th>\n",
              "      <td>Me a gustado todo en general</td>\n",
              "      <td>Quería probar pintura facial para Halloween y ...</td>\n",
              "      <td>1</td>\n",
              "    </tr>\n",
              "    <tr>\n",
              "      <th>3</th>\n",
              "      <td>Se quedan todos los bordes despegados, fatal, ...</td>\n",
              "      <td>Es ligera y funcional. Diseño informal pero pe...</td>\n",
              "      <td>0</td>\n",
              "    </tr>\n",
              "    <tr>\n",
              "      <th>4</th>\n",
              "      <td>Me compré una funda para el iPad con soporte p...</td>\n",
              "      <td>fácil instalación, buena calidad-</td>\n",
              "      <td>0</td>\n",
              "    </tr>\n",
              "    <tr>\n",
              "      <th>...</th>\n",
              "      <td>...</td>\n",
              "      <td>...</td>\n",
              "      <td>...</td>\n",
              "    </tr>\n",
              "    <tr>\n",
              "      <th>1996</th>\n",
              "      <td>El producto es buenísimo y a la primera vez qu...</td>\n",
              "      <td>Todo biem lo compre para una fiesta de niños</td>\n",
              "      <td>1</td>\n",
              "    </tr>\n",
              "    <tr>\n",
              "      <th>1997</th>\n",
              "      <td>Los he devuelto, son unos auriculares normales...</td>\n",
              "      <td>Se ajusta bien y parece que va a protegerlo lo...</td>\n",
              "      <td>0</td>\n",
              "    </tr>\n",
              "    <tr>\n",
              "      <th>1998</th>\n",
              "      <td>Me leí el libro de la chica del semáforo y el ...</td>\n",
              "      <td>Es perfecto para que no entre nada de aire por...</td>\n",
              "      <td>0</td>\n",
              "    </tr>\n",
              "    <tr>\n",
              "      <th>1999</th>\n",
              "      <td>Son muy chulos y a mi mujer les ha encantado, ...</td>\n",
              "      <td>Un gran ahorro de trabajo, la cinta se atasca ...</td>\n",
              "      <td>1</td>\n",
              "    </tr>\n",
              "    <tr>\n",
              "      <th>2000</th>\n",
              "      <td>A durado 10 minutos hasta que se han roto los ...</td>\n",
              "      <td>Tiene buen grip. El mando a distancia no encaj...</td>\n",
              "      <td>0</td>\n",
              "    </tr>\n",
              "  </tbody>\n",
              "</table>\n",
              "<p>2001 rows × 3 columns</p>\n",
              "</div>"
            ],
            "text/plain": [
              "                                                  sent1  ... is_duplicate\n",
              "0     No lo envían en caja. Se me deformó. Me devolv...  ...            1\n",
              "1     Es mas fina de lo que estoy acostumbrado a ver...  ...            1\n",
              "2                          Me a gustado todo en general  ...            1\n",
              "3     Se quedan todos los bordes despegados, fatal, ...  ...            0\n",
              "4     Me compré una funda para el iPad con soporte p...  ...            0\n",
              "...                                                 ...  ...          ...\n",
              "1996  El producto es buenísimo y a la primera vez qu...  ...            1\n",
              "1997  Los he devuelto, son unos auriculares normales...  ...            0\n",
              "1998  Me leí el libro de la chica del semáforo y el ...  ...            0\n",
              "1999  Son muy chulos y a mi mujer les ha encantado, ...  ...            1\n",
              "2000  A durado 10 minutos hasta que se han roto los ...  ...            0\n",
              "\n",
              "[2001 rows x 3 columns]"
            ]
          },
          "metadata": {
            "tags": []
          },
          "execution_count": 101
        }
      ]
    },
    {
      "cell_type": "code",
      "metadata": {
        "id": "1GxkDFyl1Ctl"
      },
      "source": [
        "final_dataframe.to_csv(r\"drive/MyDrive/TFG/review_pairs_downsampled_ES.csv\", index = False)"
      ],
      "execution_count": null,
      "outputs": []
    },
    {
      "cell_type": "code",
      "metadata": {
        "id": "QWdAp20k4dB9"
      },
      "source": [
        ""
      ],
      "execution_count": null,
      "outputs": []
    },
    {
      "cell_type": "markdown",
      "metadata": {
        "id": "3630AsaP4dov"
      },
      "source": [
        "### Pares en Frances"
      ]
    },
    {
      "cell_type": "code",
      "metadata": {
        "id": "0r9mMey14dow"
      },
      "source": [
        "# Pares de Test en Español"
      ],
      "execution_count": null,
      "outputs": []
    },
    {
      "cell_type": "code",
      "metadata": {
        "id": "8NcL4Jk24dox"
      },
      "source": [
        "path33 = \"/content/drive/MyDrive/TFG/Datasets_procesados_2/test/amazonFR_test.csv\"\n",
        "df_test_es = pd.read_csv(path33)"
      ],
      "execution_count": null,
      "outputs": []
    },
    {
      "cell_type": "code",
      "metadata": {
        "id": "Z7CMEaVW4dox"
      },
      "source": [
        "# Agrupamos por puntuaciones \n",
        "star0 = df_test_es[df_test_es[\"star_rating\"] == 0]\n",
        "star1 = df_test_es[df_test_es[\"star_rating\"] == 1]\n",
        "star2 = df_test_es[df_test_es[\"star_rating\"] == 2]\n",
        "star3 = df_test_es[df_test_es[\"star_rating\"] == 3]\n",
        "star4 = df_test_es[df_test_es[\"star_rating\"] == 4]"
      ],
      "execution_count": null,
      "outputs": []
    },
    {
      "cell_type": "code",
      "metadata": {
        "id": "7lzj6fiB4doy"
      },
      "source": [
        "#Creamos funcion para hacer pares de cada grupo de puntuaciones \n",
        "def create_pairs(df):\n",
        "  partitions = 2\n",
        "  star0s = np.array_split(df, partitions)\n",
        "\n",
        "  star01 = star0s[0]['review_body']\n",
        "  star01 = star01.reset_index()\n",
        "  star01.rename(columns={'review_body': 'sent1'}, inplace=True)\n",
        "\n",
        "\n",
        "  star02 = star0s[1]['review_body']\n",
        "  star02 = star02.reset_index()\n",
        "  star02.rename(columns={'review_body': 'sent2'}, inplace=True)\n",
        "\n",
        "  final1s = pd.DataFrame()\n",
        "  final1s = pd.concat([star01,star02],axis=1)\n",
        "  final1s = final1s.drop('index',axis=1)\n",
        "  final1s['is_duplicate'] = 1\n",
        "  return final1s"
      ],
      "execution_count": null,
      "outputs": []
    },
    {
      "cell_type": "code",
      "metadata": {
        "colab": {
          "base_uri": "https://localhost:8080/"
        },
        "id": "zAI8okKH4doz",
        "outputId": "52a734a1-7b5e-4da4-9a4f-9157b7b481cb"
      },
      "source": [
        "# Cada grupo de puntuaciones dividido en dos y puesto en dos columnas sent1 y sent2  + is_duplicate = 1 porque son del mismo grupo == aprox mismo significado\n",
        "pair_0s = create_pairs(star0)[:5000].reset_index(drop=True)\n",
        "pair_1s = create_pairs(star1)[:5000].reset_index(drop=True)\n",
        "pair_2s = create_pairs(star2)[:5000].reset_index(drop=True)\n",
        "pair_3s = create_pairs(star3)[:5000].reset_index(drop = True)\n",
        "pair_4s = create_pairs(star4)[:5000].reset_index(drop=True)\n",
        "\n",
        "#Ejemplo del resultado\n",
        "pair_0s.head(4)"
      ],
      "execution_count": null,
      "outputs": [
        {
          "output_type": "execute_result",
          "data": {
            "text/html": [
              "<div>\n",
              "<style scoped>\n",
              "    .dataframe tbody tr th:only-of-type {\n",
              "        vertical-align: middle;\n",
              "    }\n",
              "\n",
              "    .dataframe tbody tr th {\n",
              "        vertical-align: top;\n",
              "    }\n",
              "\n",
              "    .dataframe thead th {\n",
              "        text-align: right;\n",
              "    }\n",
              "</style>\n",
              "<table border=\"1\" class=\"dataframe\">\n",
              "  <thead>\n",
              "    <tr style=\"text-align: right;\">\n",
              "      <th></th>\n",
              "      <th>sent1</th>\n",
              "      <th>sent2</th>\n",
              "      <th>is_duplicate</th>\n",
              "    </tr>\n",
              "  </thead>\n",
              "  <tbody>\n",
              "    <tr>\n",
              "      <th>0</th>\n",
              "      <td>bonjour, j'avais qualifié cinq étoiles, habitu...</td>\n",
              "      <td>L'étiquette est ecrit uniquement en chinois. J...</td>\n",
              "      <td>1</td>\n",
              "    </tr>\n",
              "    <tr>\n",
              "      <th>1</th>\n",
              "      <td>très mauvaise caliter d'aricle, abime</td>\n",
              "      <td>a l arrivée super mais helas ça ne dure pas la...</td>\n",
              "      <td>1</td>\n",
              "    </tr>\n",
              "    <tr>\n",
              "      <th>2</th>\n",
              "      <td>En 2 semaines d'utilisation à peine, certaines...</td>\n",
              "      <td>le tube plié en deux ne correspond pas aux emb...</td>\n",
              "      <td>1</td>\n",
              "    </tr>\n",
              "    <tr>\n",
              "      <th>3</th>\n",
              "      <td>Nullissime!!!! Un achat pour rien, ne tient pa...</td>\n",
              "      <td>Le câble ne marche pas. Lors du branchement su...</td>\n",
              "      <td>1</td>\n",
              "    </tr>\n",
              "  </tbody>\n",
              "</table>\n",
              "</div>"
            ],
            "text/plain": [
              "                                               sent1  ... is_duplicate\n",
              "0  bonjour, j'avais qualifié cinq étoiles, habitu...  ...            1\n",
              "1              très mauvaise caliter d'aricle, abime  ...            1\n",
              "2  En 2 semaines d'utilisation à peine, certaines...  ...            1\n",
              "3  Nullissime!!!! Un achat pour rien, ne tient pa...  ...            1\n",
              "\n",
              "[4 rows x 3 columns]"
            ]
          },
          "metadata": {
            "tags": []
          },
          "execution_count": 55
        }
      ]
    },
    {
      "cell_type": "code",
      "metadata": {
        "id": "mWlXGgDI4do1"
      },
      "source": [
        "#Descartamos el 2 , pares entre 0-1 y 3-4 \n",
        "result_pairs = pd.DataFrame()\n",
        "result_pairs = pd.concat([pair_0s,pair_1s,pair_3s,pair_4s],ignore_index=True)\n"
      ],
      "execution_count": null,
      "outputs": []
    },
    {
      "cell_type": "code",
      "metadata": {
        "colab": {
          "base_uri": "https://localhost:8080/"
        },
        "id": "NZMYZz804do1",
        "outputId": "bb06fcb4-7436-4087-cc22-f70b09d6d54f"
      },
      "source": [
        "result_pairs = result_pairs.sample(frac=1).reset_index(drop=True)\n",
        "result_pairs"
      ],
      "execution_count": null,
      "outputs": [
        {
          "output_type": "execute_result",
          "data": {
            "text/html": [
              "<div>\n",
              "<style scoped>\n",
              "    .dataframe tbody tr th:only-of-type {\n",
              "        vertical-align: middle;\n",
              "    }\n",
              "\n",
              "    .dataframe tbody tr th {\n",
              "        vertical-align: top;\n",
              "    }\n",
              "\n",
              "    .dataframe thead th {\n",
              "        text-align: right;\n",
              "    }\n",
              "</style>\n",
              "<table border=\"1\" class=\"dataframe\">\n",
              "  <thead>\n",
              "    <tr style=\"text-align: right;\">\n",
              "      <th></th>\n",
              "      <th>sent1</th>\n",
              "      <th>sent2</th>\n",
              "      <th>is_duplicate</th>\n",
              "    </tr>\n",
              "  </thead>\n",
              "  <tbody>\n",
              "    <tr>\n",
              "      <th>0</th>\n",
              "      <td>article par livrer a temps pour noel malgres l...</td>\n",
              "      <td>Oscilloscope de mauvaise qualité. J'ai personn...</td>\n",
              "      <td>1</td>\n",
              "    </tr>\n",
              "    <tr>\n",
              "      <th>1</th>\n",
              "      <td>De très bonne qualité !</td>\n",
              "      <td>Très bon produit correspond à la description j...</td>\n",
              "      <td>1</td>\n",
              "    </tr>\n",
              "    <tr>\n",
              "      <th>2</th>\n",
              "      <td>Je l'avais déjà mais je l'ai perdu. Je l'ai do...</td>\n",
              "      <td>A fonctionné 2 jours plus a rendue l'âme mais ...</td>\n",
              "      <td>1</td>\n",
              "    </tr>\n",
              "    <tr>\n",
              "      <th>3</th>\n",
              "      <td>Bin produit mais pas conforme a l image il man...</td>\n",
              "      <td>J'avais testé chez mon coiffeur, mais en fait ...</td>\n",
              "      <td>1</td>\n",
              "    </tr>\n",
              "    <tr>\n",
              "      <th>4</th>\n",
              "      <td>Acheté pour faire fonctionner alternativement ...</td>\n",
              "      <td>achat de ce produit car celui d origine est ho...</td>\n",
              "      <td>1</td>\n",
              "    </tr>\n",
              "    <tr>\n",
              "      <th>...</th>\n",
              "      <td>...</td>\n",
              "      <td>...</td>\n",
              "      <td>...</td>\n",
              "    </tr>\n",
              "    <tr>\n",
              "      <th>992</th>\n",
              "      <td>2€ sur wish exactement le même et en plus très...</td>\n",
              "      <td>1: je n ai jamais reçu le produit. 2: mail Ama...</td>\n",
              "      <td>1</td>\n",
              "    </tr>\n",
              "    <tr>\n",
              "      <th>993</th>\n",
              "      <td>Bien mais juste quand la terre est molle terre...</td>\n",
              "      <td>les roues sont costauds, mais le bois du rolle...</td>\n",
              "      <td>1</td>\n",
              "    </tr>\n",
              "    <tr>\n",
              "      <th>994</th>\n",
              "      <td>Produit reçu semble etre reconditionné... Gros...</td>\n",
              "      <td>Bonjour bien reçu ,mes sur les trois une qui a...</td>\n",
              "      <td>1</td>\n",
              "    </tr>\n",
              "    <tr>\n",
              "      <th>995</th>\n",
              "      <td>malette de très bonne qualité top</td>\n",
              "      <td>Acheté pour éventuellement rallonger mes câble...</td>\n",
              "      <td>1</td>\n",
              "    </tr>\n",
              "    <tr>\n",
              "      <th>996</th>\n",
              "      <td>Très mauvaise qualité une ligne apparaît sur l...</td>\n",
              "      <td>Arnaque total si meme pas un film anti choc si...</td>\n",
              "      <td>1</td>\n",
              "    </tr>\n",
              "  </tbody>\n",
              "</table>\n",
              "<p>997 rows × 3 columns</p>\n",
              "</div>"
            ],
            "text/plain": [
              "                                                 sent1  ... is_duplicate\n",
              "0    article par livrer a temps pour noel malgres l...  ...            1\n",
              "1                              De très bonne qualité !  ...            1\n",
              "2    Je l'avais déjà mais je l'ai perdu. Je l'ai do...  ...            1\n",
              "3    Bin produit mais pas conforme a l image il man...  ...            1\n",
              "4    Acheté pour faire fonctionner alternativement ...  ...            1\n",
              "..                                                 ...  ...          ...\n",
              "992  2€ sur wish exactement le même et en plus très...  ...            1\n",
              "993  Bien mais juste quand la terre est molle terre...  ...            1\n",
              "994  Produit reçu semble etre reconditionné... Gros...  ...            1\n",
              "995                  malette de très bonne qualité top  ...            1\n",
              "996  Très mauvaise qualité une ligne apparaît sur l...  ...            1\n",
              "\n",
              "[997 rows x 3 columns]"
            ]
          },
          "metadata": {
            "tags": []
          },
          "execution_count": 57
        }
      ]
    },
    {
      "cell_type": "code",
      "metadata": {
        "id": "QPsmq1AK4do2"
      },
      "source": [
        "# Hacemos combinaciones entre grupos de puntuaciones para añadir ejemplos que no tengan el mismo significado == is_duplicate = 0\n",
        "from itertools import product\n",
        "def create_dispairs(dfa,dfb):\n",
        "  \n",
        "  a = dfa['sent1']\n",
        "  a1 = dfb['sent1']\n",
        "\n",
        "  b = dfa['sent2']\n",
        "  b1 = dfb['sent2']\n",
        "\n",
        "  dispairs_1 = pd.DataFrame(list(product(a, a1)), columns=['l1', 'l2'])\n",
        "  dispairs_2 = pd.DataFrame(list(product(b, b1)), columns=['l1', 'l2'])\n",
        "\n",
        "  dispairs_1['l1'] = dispairs_1['l1'].astype(str)\n",
        "  dispairs_1['l2'] = dispairs_1['l2'].astype(str)\n",
        "\n",
        "  dispairs_2['l1'] = dispairs_2['l1'].astype(str)\n",
        "  dispairs_2['l2'] = dispairs_2['l2'].astype(str)\n",
        "\n",
        "\n",
        "  dispairs_1['is_duplicate'] = np.where(dispairs_1['l1']== dispairs_1['l2'], 1, 0)\n",
        "  dispairs_2['is_duplicate'] = np.where(dispairs_2['l1']== dispairs_2['l2'], 1, 0)\n",
        "\n",
        "  dispairs_1 = dispairs_1.sample(frac = 0.2)\n",
        "  dispairs_2 = dispairs_2.sample(frac = 0.2)\n",
        "  \n",
        "  result = pd.DataFrame()\n",
        "  result = pd.concat([dispairs_1,dispairs_2])\n",
        "  return result"
      ],
      "execution_count": null,
      "outputs": []
    },
    {
      "cell_type": "code",
      "metadata": {
        "id": "UZ-xik624do2"
      },
      "source": [
        "dispairs_03 = create_dispairs(pair_0s,pair_3s)\n",
        "dispairs_04 = create_dispairs(pair_0s,pair_4s)\n",
        "result_dispairs0 = pd.concat([dispairs_03,dispairs_04],ignore_index=True)\n",
        "result_dispairs0 = result_dispairs0.sample(frac=0.1)\n",
        "result_dispairs0 = result_dispairs0.reset_index(drop=True)"
      ],
      "execution_count": null,
      "outputs": []
    },
    {
      "cell_type": "code",
      "metadata": {
        "id": "qqen-rH64do2"
      },
      "source": [
        "dispairs_13 = create_dispairs(pair_1s,pair_3s)\n",
        "dispairs_14 = create_dispairs(pair_1s,pair_4s)\n",
        "result_dispairs1 = pd.concat([dispairs_13,dispairs_14],ignore_index=True)\n",
        "result_dispairs1 = result_dispairs1.sample(frac=0.1)\n",
        "result_dispairs1 = result_dispairs1.reset_index(drop=True)"
      ],
      "execution_count": null,
      "outputs": []
    },
    {
      "cell_type": "code",
      "metadata": {
        "id": "FL_dopy14do3"
      },
      "source": [
        "dispairs_31 = create_dispairs(pair_3s,pair_1s)\n",
        "dispairs_30 = create_dispairs(pair_0s,pair_3s)\n",
        "result_dispairs3 = pd.concat([dispairs_31,dispairs_30],ignore_index=True)\n",
        "result_dispairs3 = result_dispairs3.sample(frac=0.1)\n",
        "result_dispairs3 = result_dispairs3.reset_index(drop=True)"
      ],
      "execution_count": null,
      "outputs": []
    },
    {
      "cell_type": "code",
      "metadata": {
        "id": "Kj6eQy2q4do3"
      },
      "source": [
        "dispairs_41 = create_dispairs(pair_4s,pair_1s)\n",
        "dispairs_40 = create_dispairs(pair_0s,pair_4s)\n",
        "result_dispairs4 = pd.concat([dispairs_41,dispairs_40],ignore_index=True)\n",
        "result_dispairs4 = result_dispairs4.sample(frac=0.1)\n",
        "result_dispairs4 = result_dispairs4.reset_index(drop=True)"
      ],
      "execution_count": null,
      "outputs": []
    },
    {
      "cell_type": "code",
      "metadata": {
        "colab": {
          "base_uri": "https://localhost:8080/"
        },
        "id": "9-OcUhyo4do3",
        "outputId": "44c7e4e4-004e-4c16-f6a3-88b3f147ec66"
      },
      "source": [
        "result_dispairs4"
      ],
      "execution_count": null,
      "outputs": [
        {
          "output_type": "execute_result",
          "data": {
            "text/html": [
              "<div>\n",
              "<style scoped>\n",
              "    .dataframe tbody tr th:only-of-type {\n",
              "        vertical-align: middle;\n",
              "    }\n",
              "\n",
              "    .dataframe tbody tr th {\n",
              "        vertical-align: top;\n",
              "    }\n",
              "\n",
              "    .dataframe thead th {\n",
              "        text-align: right;\n",
              "    }\n",
              "</style>\n",
              "<table border=\"1\" class=\"dataframe\">\n",
              "  <thead>\n",
              "    <tr style=\"text-align: right;\">\n",
              "      <th></th>\n",
              "      <th>l1</th>\n",
              "      <th>l2</th>\n",
              "      <th>is_duplicate</th>\n",
              "    </tr>\n",
              "  </thead>\n",
              "  <tbody>\n",
              "    <tr>\n",
              "      <th>0</th>\n",
              "      <td>Je suis déçue de cette bâche...le matériel se ...</td>\n",
              "      <td>J ai commande cette carte pour les 8 ans de ma...</td>\n",
              "      <td>0</td>\n",
              "    </tr>\n",
              "    <tr>\n",
              "      <th>1</th>\n",
              "      <td>Taille très bien, et très bonne qualité surtou...</td>\n",
              "      <td>Très déçu, l'écran est collant sur le tour et ...</td>\n",
              "      <td>0</td>\n",
              "    </tr>\n",
              "    <tr>\n",
              "      <th>2</th>\n",
              "      <td>gecko très réaliste apposé sur le panneau arri...</td>\n",
              "      <td>De temps en temps l'écran devient blanc et qua...</td>\n",
              "      <td>0</td>\n",
              "    </tr>\n",
              "    <tr>\n",
              "      <th>3</th>\n",
              "      <td>Reçu en 2 jours avec d'autres article! Ce clav...</td>\n",
              "      <td>Le sac est plutôt volumineux et assez grossier...</td>\n",
              "      <td>0</td>\n",
              "    </tr>\n",
              "    <tr>\n",
              "      <th>4</th>\n",
              "      <td>Se décolle en quelques heures. Pas fiable du t...</td>\n",
              "      <td>A offrir ! Jolie boîte avec beaucoup de bienve...</td>\n",
              "      <td>0</td>\n",
              "    </tr>\n",
              "    <tr>\n",
              "      <th>...</th>\n",
              "      <td>...</td>\n",
              "      <td>...</td>\n",
              "      <td>...</td>\n",
              "    </tr>\n",
              "    <tr>\n",
              "      <th>5015</th>\n",
              "      <td>cet objet ne nous a jamais été livré et heureu...</td>\n",
              "      <td>J'ai acheté cette cible parce que je la voulai...</td>\n",
              "      <td>0</td>\n",
              "    </tr>\n",
              "    <tr>\n",
              "      <th>5016</th>\n",
              "      <td>Ce sur-matelas est vraiment confortable car pl...</td>\n",
              "      <td>c'est mon deuxième dans cette marque et là pas...</td>\n",
              "      <td>0</td>\n",
              "    </tr>\n",
              "    <tr>\n",
              "      <th>5017</th>\n",
              "      <td>A première vue ce volcan à l'air solide ! Et j...</td>\n",
              "      <td>j'ai été livrée très très rapidement et le pro...</td>\n",
              "      <td>0</td>\n",
              "    </tr>\n",
              "    <tr>\n",
              "      <th>5018</th>\n",
              "      <td>Cartouches à éviter. Les cartouches ont foncti...</td>\n",
              "      <td>Bonjour, J'ai mis cette note pour la globalité...</td>\n",
              "      <td>0</td>\n",
              "    </tr>\n",
              "    <tr>\n",
              "      <th>5019</th>\n",
              "      <td>je n'ai pas reçu le produit j'ai un livre à la...</td>\n",
              "      <td>Très satisfaite de mon achat. Les histoires so...</td>\n",
              "      <td>0</td>\n",
              "    </tr>\n",
              "  </tbody>\n",
              "</table>\n",
              "<p>5020 rows × 3 columns</p>\n",
              "</div>"
            ],
            "text/plain": [
              "                                                     l1  ... is_duplicate\n",
              "0     Je suis déçue de cette bâche...le matériel se ...  ...            0\n",
              "1     Taille très bien, et très bonne qualité surtou...  ...            0\n",
              "2     gecko très réaliste apposé sur le panneau arri...  ...            0\n",
              "3     Reçu en 2 jours avec d'autres article! Ce clav...  ...            0\n",
              "4     Se décolle en quelques heures. Pas fiable du t...  ...            0\n",
              "...                                                 ...  ...          ...\n",
              "5015  cet objet ne nous a jamais été livré et heureu...  ...            0\n",
              "5016  Ce sur-matelas est vraiment confortable car pl...  ...            0\n",
              "5017  A première vue ce volcan à l'air solide ! Et j...  ...            0\n",
              "5018  Cartouches à éviter. Les cartouches ont foncti...  ...            0\n",
              "5019  je n'ai pas reçu le produit j'ai un livre à la...  ...            0\n",
              "\n",
              "[5020 rows x 3 columns]"
            ]
          },
          "metadata": {
            "tags": []
          },
          "execution_count": 63
        }
      ]
    },
    {
      "cell_type": "code",
      "metadata": {
        "id": "DCyN9FhV4do4"
      },
      "source": [
        "result_dispairs = pd.concat([result_dispairs1,result_dispairs0,result_dispairs3,result_dispairs4],ignore_index=True)\n",
        "#result_dispairs = result_dispairs.sample(frac=0.1)\n",
        "result_dispairs = result_dispairs.reset_index(drop=True)\n"
      ],
      "execution_count": null,
      "outputs": []
    },
    {
      "cell_type": "code",
      "metadata": {
        "colab": {
          "base_uri": "https://localhost:8080/"
        },
        "id": "mot4xC-74do4",
        "outputId": "be8bf526-283f-4cbe-b7bc-d70e2b4b7a2f"
      },
      "source": [
        "result_dispairs"
      ],
      "execution_count": null,
      "outputs": [
        {
          "output_type": "execute_result",
          "data": {
            "text/html": [
              "<div>\n",
              "<style scoped>\n",
              "    .dataframe tbody tr th:only-of-type {\n",
              "        vertical-align: middle;\n",
              "    }\n",
              "\n",
              "    .dataframe tbody tr th {\n",
              "        vertical-align: top;\n",
              "    }\n",
              "\n",
              "    .dataframe thead th {\n",
              "        text-align: right;\n",
              "    }\n",
              "</style>\n",
              "<table border=\"1\" class=\"dataframe\">\n",
              "  <thead>\n",
              "    <tr style=\"text-align: right;\">\n",
              "      <th></th>\n",
              "      <th>l1</th>\n",
              "      <th>l2</th>\n",
              "      <th>is_duplicate</th>\n",
              "    </tr>\n",
              "  </thead>\n",
              "  <tbody>\n",
              "    <tr>\n",
              "      <th>0</th>\n",
              "      <td>J'ai commandé cet adaptateur le 14 décembre. A...</td>\n",
              "      <td>très simple d'utilisation, il faut suivre le s...</td>\n",
              "      <td>0</td>\n",
              "    </tr>\n",
              "    <tr>\n",
              "      <th>1</th>\n",
              "      <td>Ne correspond pas à l'Amibot Spirit et est pou...</td>\n",
              "      <td>Le paillasson est conforme à mes attentes , à ...</td>\n",
              "      <td>0</td>\n",
              "    </tr>\n",
              "    <tr>\n",
              "      <th>2</th>\n",
              "      <td>Tres belle machine, avec une qualité de son ac...</td>\n",
              "      <td>Beau produit. Livraison rapide.</td>\n",
              "      <td>0</td>\n",
              "    </tr>\n",
              "    <tr>\n",
              "      <th>3</th>\n",
              "      <td>Je l'ai acheté à la va-vite et un très mauvais...</td>\n",
              "      <td>Produit parfait! Même s’il n’y a pas de notice...</td>\n",
              "      <td>0</td>\n",
              "    </tr>\n",
              "    <tr>\n",
              "      <th>4</th>\n",
              "      <td>Ventilateur HS, obligé de le remplacer. Dommag...</td>\n",
              "      <td>Très bien pour nos anciens transats en plastiq...</td>\n",
              "      <td>0</td>\n",
              "    </tr>\n",
              "    <tr>\n",
              "      <th>...</th>\n",
              "      <td>...</td>\n",
              "      <td>...</td>\n",
              "      <td>...</td>\n",
              "    </tr>\n",
              "    <tr>\n",
              "      <th>19873</th>\n",
              "      <td>cet objet ne nous a jamais été livré et heureu...</td>\n",
              "      <td>J'ai acheté cette cible parce que je la voulai...</td>\n",
              "      <td>0</td>\n",
              "    </tr>\n",
              "    <tr>\n",
              "      <th>19874</th>\n",
              "      <td>Ce sur-matelas est vraiment confortable car pl...</td>\n",
              "      <td>c'est mon deuxième dans cette marque et là pas...</td>\n",
              "      <td>0</td>\n",
              "    </tr>\n",
              "    <tr>\n",
              "      <th>19875</th>\n",
              "      <td>A première vue ce volcan à l'air solide ! Et j...</td>\n",
              "      <td>j'ai été livrée très très rapidement et le pro...</td>\n",
              "      <td>0</td>\n",
              "    </tr>\n",
              "    <tr>\n",
              "      <th>19876</th>\n",
              "      <td>Cartouches à éviter. Les cartouches ont foncti...</td>\n",
              "      <td>Bonjour, J'ai mis cette note pour la globalité...</td>\n",
              "      <td>0</td>\n",
              "    </tr>\n",
              "    <tr>\n",
              "      <th>19877</th>\n",
              "      <td>je n'ai pas reçu le produit j'ai un livre à la...</td>\n",
              "      <td>Très satisfaite de mon achat. Les histoires so...</td>\n",
              "      <td>0</td>\n",
              "    </tr>\n",
              "  </tbody>\n",
              "</table>\n",
              "<p>19878 rows × 3 columns</p>\n",
              "</div>"
            ],
            "text/plain": [
              "                                                      l1  ... is_duplicate\n",
              "0      J'ai commandé cet adaptateur le 14 décembre. A...  ...            0\n",
              "1      Ne correspond pas à l'Amibot Spirit et est pou...  ...            0\n",
              "2      Tres belle machine, avec une qualité de son ac...  ...            0\n",
              "3      Je l'ai acheté à la va-vite et un très mauvais...  ...            0\n",
              "4      Ventilateur HS, obligé de le remplacer. Dommag...  ...            0\n",
              "...                                                  ...  ...          ...\n",
              "19873  cet objet ne nous a jamais été livré et heureu...  ...            0\n",
              "19874  Ce sur-matelas est vraiment confortable car pl...  ...            0\n",
              "19875  A première vue ce volcan à l'air solide ! Et j...  ...            0\n",
              "19876  Cartouches à éviter. Les cartouches ont foncti...  ...            0\n",
              "19877  je n'ai pas reçu le produit j'ai un livre à la...  ...            0\n",
              "\n",
              "[19878 rows x 3 columns]"
            ]
          },
          "metadata": {
            "tags": []
          },
          "execution_count": 65
        }
      ]
    },
    {
      "cell_type": "code",
      "metadata": {
        "id": "sucZkVBi4do4"
      },
      "source": [
        "result_dispairs =result_dispairs.rename(columns={'l1':'sent1','l2':'sent2'})\n",
        "result_final_data = pd.concat([result_pairs,result_dispairs],ignore_index=True)"
      ],
      "execution_count": null,
      "outputs": []
    },
    {
      "cell_type": "code",
      "metadata": {
        "colab": {
          "base_uri": "https://localhost:8080/"
        },
        "id": "-ocFe10j4do5",
        "outputId": "c6e2cdd9-4069-4484-eca2-abf9e8735ba6"
      },
      "source": [
        "result_final_data"
      ],
      "execution_count": null,
      "outputs": [
        {
          "output_type": "execute_result",
          "data": {
            "text/html": [
              "<div>\n",
              "<style scoped>\n",
              "    .dataframe tbody tr th:only-of-type {\n",
              "        vertical-align: middle;\n",
              "    }\n",
              "\n",
              "    .dataframe tbody tr th {\n",
              "        vertical-align: top;\n",
              "    }\n",
              "\n",
              "    .dataframe thead th {\n",
              "        text-align: right;\n",
              "    }\n",
              "</style>\n",
              "<table border=\"1\" class=\"dataframe\">\n",
              "  <thead>\n",
              "    <tr style=\"text-align: right;\">\n",
              "      <th></th>\n",
              "      <th>sent1</th>\n",
              "      <th>sent2</th>\n",
              "      <th>is_duplicate</th>\n",
              "    </tr>\n",
              "  </thead>\n",
              "  <tbody>\n",
              "    <tr>\n",
              "      <th>0</th>\n",
              "      <td>article par livrer a temps pour noel malgres l...</td>\n",
              "      <td>Oscilloscope de mauvaise qualité. J'ai personn...</td>\n",
              "      <td>1</td>\n",
              "    </tr>\n",
              "    <tr>\n",
              "      <th>1</th>\n",
              "      <td>De très bonne qualité !</td>\n",
              "      <td>Très bon produit correspond à la description j...</td>\n",
              "      <td>1</td>\n",
              "    </tr>\n",
              "    <tr>\n",
              "      <th>2</th>\n",
              "      <td>Je l'avais déjà mais je l'ai perdu. Je l'ai do...</td>\n",
              "      <td>A fonctionné 2 jours plus a rendue l'âme mais ...</td>\n",
              "      <td>1</td>\n",
              "    </tr>\n",
              "    <tr>\n",
              "      <th>3</th>\n",
              "      <td>Bin produit mais pas conforme a l image il man...</td>\n",
              "      <td>J'avais testé chez mon coiffeur, mais en fait ...</td>\n",
              "      <td>1</td>\n",
              "    </tr>\n",
              "    <tr>\n",
              "      <th>4</th>\n",
              "      <td>Acheté pour faire fonctionner alternativement ...</td>\n",
              "      <td>achat de ce produit car celui d origine est ho...</td>\n",
              "      <td>1</td>\n",
              "    </tr>\n",
              "    <tr>\n",
              "      <th>...</th>\n",
              "      <td>...</td>\n",
              "      <td>...</td>\n",
              "      <td>...</td>\n",
              "    </tr>\n",
              "    <tr>\n",
              "      <th>20870</th>\n",
              "      <td>cet objet ne nous a jamais été livré et heureu...</td>\n",
              "      <td>J'ai acheté cette cible parce que je la voulai...</td>\n",
              "      <td>0</td>\n",
              "    </tr>\n",
              "    <tr>\n",
              "      <th>20871</th>\n",
              "      <td>Ce sur-matelas est vraiment confortable car pl...</td>\n",
              "      <td>c'est mon deuxième dans cette marque et là pas...</td>\n",
              "      <td>0</td>\n",
              "    </tr>\n",
              "    <tr>\n",
              "      <th>20872</th>\n",
              "      <td>A première vue ce volcan à l'air solide ! Et j...</td>\n",
              "      <td>j'ai été livrée très très rapidement et le pro...</td>\n",
              "      <td>0</td>\n",
              "    </tr>\n",
              "    <tr>\n",
              "      <th>20873</th>\n",
              "      <td>Cartouches à éviter. Les cartouches ont foncti...</td>\n",
              "      <td>Bonjour, J'ai mis cette note pour la globalité...</td>\n",
              "      <td>0</td>\n",
              "    </tr>\n",
              "    <tr>\n",
              "      <th>20874</th>\n",
              "      <td>je n'ai pas reçu le produit j'ai un livre à la...</td>\n",
              "      <td>Très satisfaite de mon achat. Les histoires so...</td>\n",
              "      <td>0</td>\n",
              "    </tr>\n",
              "  </tbody>\n",
              "</table>\n",
              "<p>20875 rows × 3 columns</p>\n",
              "</div>"
            ],
            "text/plain": [
              "                                                   sent1  ... is_duplicate\n",
              "0      article par livrer a temps pour noel malgres l...  ...            1\n",
              "1                                De très bonne qualité !  ...            1\n",
              "2      Je l'avais déjà mais je l'ai perdu. Je l'ai do...  ...            1\n",
              "3      Bin produit mais pas conforme a l image il man...  ...            1\n",
              "4      Acheté pour faire fonctionner alternativement ...  ...            1\n",
              "...                                                  ...  ...          ...\n",
              "20870  cet objet ne nous a jamais été livré et heureu...  ...            0\n",
              "20871  Ce sur-matelas est vraiment confortable car pl...  ...            0\n",
              "20872  A première vue ce volcan à l'air solide ! Et j...  ...            0\n",
              "20873  Cartouches à éviter. Les cartouches ont foncti...  ...            0\n",
              "20874  je n'ai pas reçu le produit j'ai un livre à la...  ...            0\n",
              "\n",
              "[20875 rows x 3 columns]"
            ]
          },
          "metadata": {
            "tags": []
          },
          "execution_count": 67
        }
      ]
    },
    {
      "cell_type": "code",
      "metadata": {
        "colab": {
          "base_uri": "https://localhost:8080/"
        },
        "id": "neczxp474do5",
        "outputId": "64278bea-3674-473c-eb34-aca11495bbbd"
      },
      "source": [
        "result_final_data1 = result_final_data.reset_index(drop=True)\n",
        "result_final_data1"
      ],
      "execution_count": null,
      "outputs": [
        {
          "output_type": "execute_result",
          "data": {
            "text/html": [
              "<div>\n",
              "<style scoped>\n",
              "    .dataframe tbody tr th:only-of-type {\n",
              "        vertical-align: middle;\n",
              "    }\n",
              "\n",
              "    .dataframe tbody tr th {\n",
              "        vertical-align: top;\n",
              "    }\n",
              "\n",
              "    .dataframe thead th {\n",
              "        text-align: right;\n",
              "    }\n",
              "</style>\n",
              "<table border=\"1\" class=\"dataframe\">\n",
              "  <thead>\n",
              "    <tr style=\"text-align: right;\">\n",
              "      <th></th>\n",
              "      <th>sent1</th>\n",
              "      <th>sent2</th>\n",
              "      <th>is_duplicate</th>\n",
              "    </tr>\n",
              "  </thead>\n",
              "  <tbody>\n",
              "    <tr>\n",
              "      <th>0</th>\n",
              "      <td>article par livrer a temps pour noel malgres l...</td>\n",
              "      <td>Oscilloscope de mauvaise qualité. J'ai personn...</td>\n",
              "      <td>1</td>\n",
              "    </tr>\n",
              "    <tr>\n",
              "      <th>1</th>\n",
              "      <td>De très bonne qualité !</td>\n",
              "      <td>Très bon produit correspond à la description j...</td>\n",
              "      <td>1</td>\n",
              "    </tr>\n",
              "    <tr>\n",
              "      <th>2</th>\n",
              "      <td>Je l'avais déjà mais je l'ai perdu. Je l'ai do...</td>\n",
              "      <td>A fonctionné 2 jours plus a rendue l'âme mais ...</td>\n",
              "      <td>1</td>\n",
              "    </tr>\n",
              "    <tr>\n",
              "      <th>3</th>\n",
              "      <td>Bin produit mais pas conforme a l image il man...</td>\n",
              "      <td>J'avais testé chez mon coiffeur, mais en fait ...</td>\n",
              "      <td>1</td>\n",
              "    </tr>\n",
              "    <tr>\n",
              "      <th>4</th>\n",
              "      <td>Acheté pour faire fonctionner alternativement ...</td>\n",
              "      <td>achat de ce produit car celui d origine est ho...</td>\n",
              "      <td>1</td>\n",
              "    </tr>\n",
              "    <tr>\n",
              "      <th>...</th>\n",
              "      <td>...</td>\n",
              "      <td>...</td>\n",
              "      <td>...</td>\n",
              "    </tr>\n",
              "    <tr>\n",
              "      <th>20870</th>\n",
              "      <td>cet objet ne nous a jamais été livré et heureu...</td>\n",
              "      <td>J'ai acheté cette cible parce que je la voulai...</td>\n",
              "      <td>0</td>\n",
              "    </tr>\n",
              "    <tr>\n",
              "      <th>20871</th>\n",
              "      <td>Ce sur-matelas est vraiment confortable car pl...</td>\n",
              "      <td>c'est mon deuxième dans cette marque et là pas...</td>\n",
              "      <td>0</td>\n",
              "    </tr>\n",
              "    <tr>\n",
              "      <th>20872</th>\n",
              "      <td>A première vue ce volcan à l'air solide ! Et j...</td>\n",
              "      <td>j'ai été livrée très très rapidement et le pro...</td>\n",
              "      <td>0</td>\n",
              "    </tr>\n",
              "    <tr>\n",
              "      <th>20873</th>\n",
              "      <td>Cartouches à éviter. Les cartouches ont foncti...</td>\n",
              "      <td>Bonjour, J'ai mis cette note pour la globalité...</td>\n",
              "      <td>0</td>\n",
              "    </tr>\n",
              "    <tr>\n",
              "      <th>20874</th>\n",
              "      <td>je n'ai pas reçu le produit j'ai un livre à la...</td>\n",
              "      <td>Très satisfaite de mon achat. Les histoires so...</td>\n",
              "      <td>0</td>\n",
              "    </tr>\n",
              "  </tbody>\n",
              "</table>\n",
              "<p>20875 rows × 3 columns</p>\n",
              "</div>"
            ],
            "text/plain": [
              "                                                   sent1  ... is_duplicate\n",
              "0      article par livrer a temps pour noel malgres l...  ...            1\n",
              "1                                De très bonne qualité !  ...            1\n",
              "2      Je l'avais déjà mais je l'ai perdu. Je l'ai do...  ...            1\n",
              "3      Bin produit mais pas conforme a l image il man...  ...            1\n",
              "4      Acheté pour faire fonctionner alternativement ...  ...            1\n",
              "...                                                  ...  ...          ...\n",
              "20870  cet objet ne nous a jamais été livré et heureu...  ...            0\n",
              "20871  Ce sur-matelas est vraiment confortable car pl...  ...            0\n",
              "20872  A première vue ce volcan à l'air solide ! Et j...  ...            0\n",
              "20873  Cartouches à éviter. Les cartouches ont foncti...  ...            0\n",
              "20874  je n'ai pas reçu le produit j'ai un livre à la...  ...            0\n",
              "\n",
              "[20875 rows x 3 columns]"
            ]
          },
          "metadata": {
            "tags": []
          },
          "execution_count": 68
        }
      ]
    },
    {
      "cell_type": "code",
      "metadata": {
        "colab": {
          "base_uri": "https://localhost:8080/"
        },
        "id": "58Vn9vGn4do5",
        "outputId": "aaf0bdc5-de12-4e48-dc92-44656ad602be"
      },
      "source": [
        "majority =result_final_data1[result_final_data1[\"is_duplicate\"] == 0]\n",
        "len(majority)"
      ],
      "execution_count": null,
      "outputs": [
        {
          "output_type": "execute_result",
          "data": {
            "text/plain": [
              "19878"
            ]
          },
          "metadata": {
            "tags": []
          },
          "execution_count": 69
        }
      ]
    },
    {
      "cell_type": "code",
      "metadata": {
        "colab": {
          "base_uri": "https://localhost:8080/"
        },
        "id": "9g9X21Bq4do6",
        "outputId": "1be1acc7-32fc-4b5b-da31-2b701c696f4f"
      },
      "source": [
        "minority =result_final_data1[result_final_data1[\"is_duplicate\"] == 1]\n",
        "len(minority)"
      ],
      "execution_count": null,
      "outputs": [
        {
          "output_type": "execute_result",
          "data": {
            "text/plain": [
              "997"
            ]
          },
          "metadata": {
            "tags": []
          },
          "execution_count": 70
        }
      ]
    },
    {
      "cell_type": "code",
      "metadata": {
        "id": "X0ecvtVb4do6"
      },
      "source": [
        "from sklearn.utils import resample\n",
        "\n",
        "df_maj_resamp = resample(majority,replace=False,n_samples=1001,random_state=20000)\n",
        "\n"
      ],
      "execution_count": null,
      "outputs": []
    },
    {
      "cell_type": "code",
      "metadata": {
        "id": "oksopzJm4do6"
      },
      "source": [
        "final_dataframe= pd.concat([minority,df_maj_resamp])"
      ],
      "execution_count": null,
      "outputs": []
    },
    {
      "cell_type": "code",
      "metadata": {
        "id": "57cYOhhT4do6"
      },
      "source": [
        "final_dataframe = final_dataframe.sample(frac=1).reset_index(drop=True)"
      ],
      "execution_count": null,
      "outputs": []
    },
    {
      "cell_type": "code",
      "metadata": {
        "colab": {
          "base_uri": "https://localhost:8080/"
        },
        "id": "Hvts8lgx4do6",
        "outputId": "ca899bc0-37ef-425b-b1a5-bec9f575c7b1"
      },
      "source": [
        "final_dataframe.shape"
      ],
      "execution_count": null,
      "outputs": [
        {
          "output_type": "execute_result",
          "data": {
            "text/plain": [
              "(1998, 3)"
            ]
          },
          "metadata": {
            "tags": []
          },
          "execution_count": 74
        }
      ]
    },
    {
      "cell_type": "code",
      "metadata": {
        "colab": {
          "base_uri": "https://localhost:8080/"
        },
        "id": "g6jNROc54do7",
        "outputId": "1ccef704-d5dd-40df-d656-6bc9f319abaf"
      },
      "source": [
        "final_dataframe"
      ],
      "execution_count": null,
      "outputs": [
        {
          "output_type": "execute_result",
          "data": {
            "text/html": [
              "<div>\n",
              "<style scoped>\n",
              "    .dataframe tbody tr th:only-of-type {\n",
              "        vertical-align: middle;\n",
              "    }\n",
              "\n",
              "    .dataframe tbody tr th {\n",
              "        vertical-align: top;\n",
              "    }\n",
              "\n",
              "    .dataframe thead th {\n",
              "        text-align: right;\n",
              "    }\n",
              "</style>\n",
              "<table border=\"1\" class=\"dataframe\">\n",
              "  <thead>\n",
              "    <tr style=\"text-align: right;\">\n",
              "      <th></th>\n",
              "      <th>sent1</th>\n",
              "      <th>sent2</th>\n",
              "      <th>is_duplicate</th>\n",
              "    </tr>\n",
              "  </thead>\n",
              "  <tbody>\n",
              "    <tr>\n",
              "      <th>0</th>\n",
              "      <td>Produit introuvable dans les magasins de brico...</td>\n",
              "      <td>emballage individuel très bon mais le colissag...</td>\n",
              "      <td>1</td>\n",
              "    </tr>\n",
              "    <tr>\n",
              "      <th>1</th>\n",
              "      <td>dès que je l'ai reçu il a plu l'apres midi. et...</td>\n",
              "      <td>acheté il y a 4 mois pour mettre sur une tombe...</td>\n",
              "      <td>1</td>\n",
              "    </tr>\n",
              "    <tr>\n",
              "      <th>2</th>\n",
              "      <td>Acheter pour ma fille produit de bonne qualité</td>\n",
              "      <td>Adapté pour le sony X compact, ne glisse pas (...</td>\n",
              "      <td>1</td>\n",
              "    </tr>\n",
              "    <tr>\n",
              "      <th>3</th>\n",
              "      <td>je n'ai pas reçu le produit j'ai un livre à la...</td>\n",
              "      <td>Remplacement ancien chargeur défectueux.</td>\n",
              "      <td>0</td>\n",
              "    </tr>\n",
              "    <tr>\n",
              "      <th>4</th>\n",
              "      <td>Pas très satisfait de ces lames que je pensais...</td>\n",
              "      <td>Ça laisse des traces au ventre c'est horrible</td>\n",
              "      <td>1</td>\n",
              "    </tr>\n",
              "    <tr>\n",
              "      <th>...</th>\n",
              "      <td>...</td>\n",
              "      <td>...</td>\n",
              "      <td>...</td>\n",
              "    </tr>\n",
              "    <tr>\n",
              "      <th>1993</th>\n",
              "      <td>Le produi semble fonctionner. Comme j'avais ac...</td>\n",
              "      <td>Je savais qu'avec des membranes de 5 mm et une...</td>\n",
              "      <td>1</td>\n",
              "    </tr>\n",
              "    <tr>\n",
              "      <th>1994</th>\n",
              "      <td>J’ai reçu se produit je suis vraiment dessus c...</td>\n",
              "      <td>Très bon produit. Me permet de prendre douche ...</td>\n",
              "      <td>0</td>\n",
              "    </tr>\n",
              "    <tr>\n",
              "      <th>1995</th>\n",
              "      <td>Produit de piètre qualité vendu au prix fort. ...</td>\n",
              "      <td>Dommage qu’il n’y ait plus la double sonde (in...</td>\n",
              "      <td>0</td>\n",
              "    </tr>\n",
              "    <tr>\n",
              "      <th>1996</th>\n",
              "      <td>Bonne barette de RAM, remplit son rôle. Rien à...</td>\n",
              "      <td>Dommage il manquait le câble, très embêtant po...</td>\n",
              "      <td>0</td>\n",
              "    </tr>\n",
              "    <tr>\n",
              "      <th>1997</th>\n",
              "      <td>2 eme commande passée sur cette boutique, parf...</td>\n",
              "      <td>Pour Bingo produit au top ne coule pas je le r...</td>\n",
              "      <td>1</td>\n",
              "    </tr>\n",
              "  </tbody>\n",
              "</table>\n",
              "<p>1998 rows × 3 columns</p>\n",
              "</div>"
            ],
            "text/plain": [
              "                                                  sent1  ... is_duplicate\n",
              "0     Produit introuvable dans les magasins de brico...  ...            1\n",
              "1     dès que je l'ai reçu il a plu l'apres midi. et...  ...            1\n",
              "2        Acheter pour ma fille produit de bonne qualité  ...            1\n",
              "3     je n'ai pas reçu le produit j'ai un livre à la...  ...            0\n",
              "4     Pas très satisfait de ces lames que je pensais...  ...            1\n",
              "...                                                 ...  ...          ...\n",
              "1993  Le produi semble fonctionner. Comme j'avais ac...  ...            1\n",
              "1994  J’ai reçu se produit je suis vraiment dessus c...  ...            0\n",
              "1995  Produit de piètre qualité vendu au prix fort. ...  ...            0\n",
              "1996  Bonne barette de RAM, remplit son rôle. Rien à...  ...            0\n",
              "1997  2 eme commande passée sur cette boutique, parf...  ...            1\n",
              "\n",
              "[1998 rows x 3 columns]"
            ]
          },
          "metadata": {
            "tags": []
          },
          "execution_count": 75
        }
      ]
    },
    {
      "cell_type": "code",
      "metadata": {
        "id": "p4dK5w974do7"
      },
      "source": [
        "final_dataframe.to_csv(r\"drive/MyDrive/TFG/review_pairs_downsampled_FR.csv\", index = False)"
      ],
      "execution_count": null,
      "outputs": []
    },
    {
      "cell_type": "code",
      "metadata": {
        "id": "yg1sOb1w4t79"
      },
      "source": [
        ""
      ],
      "execution_count": null,
      "outputs": []
    },
    {
      "cell_type": "markdown",
      "metadata": {
        "id": "Sd9q3qh84uWr"
      },
      "source": [
        "### Pares en Aleman"
      ]
    },
    {
      "cell_type": "code",
      "metadata": {
        "id": "vsiPRuIj4uWs"
      },
      "source": [
        "# Pares de Test en Español"
      ],
      "execution_count": null,
      "outputs": []
    },
    {
      "cell_type": "code",
      "metadata": {
        "id": "HqsZFemq4uWs"
      },
      "source": [
        "path33 = \"/content/drive/MyDrive/TFG/Datasets_procesados_2/test/amazonDE_test.csv\"\n",
        "df_test_es = pd.read_csv(path33)"
      ],
      "execution_count": null,
      "outputs": []
    },
    {
      "cell_type": "code",
      "metadata": {
        "id": "CMPDV4hx4uWt"
      },
      "source": [
        "# Agrupamos por puntuaciones \n",
        "star0 = df_test_es[df_test_es[\"star_rating\"] == 0]\n",
        "star1 = df_test_es[df_test_es[\"star_rating\"] == 1]\n",
        "star2 = df_test_es[df_test_es[\"star_rating\"] == 2]\n",
        "star3 = df_test_es[df_test_es[\"star_rating\"] == 3]\n",
        "star4 = df_test_es[df_test_es[\"star_rating\"] == 4]"
      ],
      "execution_count": null,
      "outputs": []
    },
    {
      "cell_type": "code",
      "metadata": {
        "id": "gvp3bFJg4uWt"
      },
      "source": [
        "#Creamos funcion para hacer pares de cada grupo de puntuaciones \n",
        "def create_pairs(df):\n",
        "  partitions = 2\n",
        "  star0s = np.array_split(df, partitions)\n",
        "\n",
        "  star01 = star0s[0]['review_body']\n",
        "  star01 = star01.reset_index()\n",
        "  star01.rename(columns={'review_body': 'sent1'}, inplace=True)\n",
        "\n",
        "\n",
        "  star02 = star0s[1]['review_body']\n",
        "  star02 = star02.reset_index()\n",
        "  star02.rename(columns={'review_body': 'sent2'}, inplace=True)\n",
        "\n",
        "  final1s = pd.DataFrame()\n",
        "  final1s = pd.concat([star01,star02],axis=1)\n",
        "  final1s = final1s.drop('index',axis=1)\n",
        "  final1s['is_duplicate'] = 1\n",
        "  return final1s"
      ],
      "execution_count": null,
      "outputs": []
    },
    {
      "cell_type": "code",
      "metadata": {
        "colab": {
          "base_uri": "https://localhost:8080/"
        },
        "id": "MXuddib44uWu",
        "outputId": "18774c0e-dcb6-4910-b578-46d0dc3b1563"
      },
      "source": [
        "# Cada grupo de puntuaciones dividido en dos y puesto en dos columnas sent1 y sent2  + is_duplicate = 1 porque son del mismo grupo == aprox mismo significado\n",
        "pair_0s = create_pairs(star0)[:5000].reset_index(drop=True)\n",
        "pair_1s = create_pairs(star1)[:5000].reset_index(drop=True)\n",
        "pair_2s = create_pairs(star2)[:5000].reset_index(drop=True)\n",
        "pair_3s = create_pairs(star3)[:5000].reset_index(drop = True)\n",
        "pair_4s = create_pairs(star4)[:5000].reset_index(drop=True)\n",
        "\n",
        "#Ejemplo del resultado\n",
        "pair_0s.head(4)"
      ],
      "execution_count": null,
      "outputs": [
        {
          "output_type": "execute_result",
          "data": {
            "text/html": [
              "<div>\n",
              "<style scoped>\n",
              "    .dataframe tbody tr th:only-of-type {\n",
              "        vertical-align: middle;\n",
              "    }\n",
              "\n",
              "    .dataframe tbody tr th {\n",
              "        vertical-align: top;\n",
              "    }\n",
              "\n",
              "    .dataframe thead th {\n",
              "        text-align: right;\n",
              "    }\n",
              "</style>\n",
              "<table border=\"1\" class=\"dataframe\">\n",
              "  <thead>\n",
              "    <tr style=\"text-align: right;\">\n",
              "      <th></th>\n",
              "      <th>sent1</th>\n",
              "      <th>sent2</th>\n",
              "      <th>is_duplicate</th>\n",
              "    </tr>\n",
              "  </thead>\n",
              "  <tbody>\n",
              "    <tr>\n",
              "      <th>0</th>\n",
              "      <td>Die Haken kamen völlig verkratzt und mit abgep...</td>\n",
              "      <td>Der Engel sah auf der Abbildung sehr viel schö...</td>\n",
              "      <td>1</td>\n",
              "    </tr>\n",
              "    <tr>\n",
              "      <th>1</th>\n",
              "      <td>Der Produktname \"Greenclick\" taucht nirgends a...</td>\n",
              "      <td>Leider war es bei der ersten Nutzung direkt de...</td>\n",
              "      <td>1</td>\n",
              "    </tr>\n",
              "    <tr>\n",
              "      <th>2</th>\n",
              "      <td>Wir hatten den Schirm genau 1 Tag in Benutzung...</td>\n",
              "      <td>Es ist einfach zum in den Müll rein zu schmeis...</td>\n",
              "      <td>1</td>\n",
              "    </tr>\n",
              "    <tr>\n",
              "      <th>3</th>\n",
              "      <td>Das Ding passt nicht.. Leider ein totaler Fehl...</td>\n",
              "      <td>Kann nicht in Verbindung mit der orginal Tasta...</td>\n",
              "      <td>1</td>\n",
              "    </tr>\n",
              "  </tbody>\n",
              "</table>\n",
              "</div>"
            ],
            "text/plain": [
              "                                               sent1  ... is_duplicate\n",
              "0  Die Haken kamen völlig verkratzt und mit abgep...  ...            1\n",
              "1  Der Produktname \"Greenclick\" taucht nirgends a...  ...            1\n",
              "2  Wir hatten den Schirm genau 1 Tag in Benutzung...  ...            1\n",
              "3  Das Ding passt nicht.. Leider ein totaler Fehl...  ...            1\n",
              "\n",
              "[4 rows x 3 columns]"
            ]
          },
          "metadata": {
            "tags": []
          },
          "execution_count": 107
        }
      ]
    },
    {
      "cell_type": "code",
      "metadata": {
        "id": "OX2UAVP84uWv"
      },
      "source": [
        "#Descartamos el 2 , pares entre 0-1 y 3-4 \n",
        "result_pairs = pd.DataFrame()\n",
        "result_pairs = pd.concat([pair_0s,pair_1s,pair_3s,pair_4s],ignore_index=True)\n"
      ],
      "execution_count": null,
      "outputs": []
    },
    {
      "cell_type": "code",
      "metadata": {
        "colab": {
          "base_uri": "https://localhost:8080/"
        },
        "id": "__t7N1FH4uWw",
        "outputId": "e47b5dda-9887-4daa-8482-ed47f6794eb7"
      },
      "source": [
        "result_pairs = result_pairs.sample(frac=1).reset_index(drop=True)\n",
        "result_pairs"
      ],
      "execution_count": null,
      "outputs": [
        {
          "output_type": "execute_result",
          "data": {
            "text/html": [
              "<div>\n",
              "<style scoped>\n",
              "    .dataframe tbody tr th:only-of-type {\n",
              "        vertical-align: middle;\n",
              "    }\n",
              "\n",
              "    .dataframe tbody tr th {\n",
              "        vertical-align: top;\n",
              "    }\n",
              "\n",
              "    .dataframe thead th {\n",
              "        text-align: right;\n",
              "    }\n",
              "</style>\n",
              "<table border=\"1\" class=\"dataframe\">\n",
              "  <thead>\n",
              "    <tr style=\"text-align: right;\">\n",
              "      <th></th>\n",
              "      <th>sent1</th>\n",
              "      <th>sent2</th>\n",
              "      <th>is_duplicate</th>\n",
              "    </tr>\n",
              "  </thead>\n",
              "  <tbody>\n",
              "    <tr>\n",
              "      <th>0</th>\n",
              "      <td>Ich habe mir einen neuen Kindle gegönnt und da...</td>\n",
              "      <td>Vorteile: - Gut verarbeitet - Sehr guter Touch...</td>\n",
              "      <td>1</td>\n",
              "    </tr>\n",
              "    <tr>\n",
              "      <th>1</th>\n",
              "      <td>Ich musste die Klappe leider wieder zurück sch...</td>\n",
              "      <td>Ist ein bisschen zu langsam. Zu wenig Ram-Spei...</td>\n",
              "      <td>1</td>\n",
              "    </tr>\n",
              "    <tr>\n",
              "      <th>2</th>\n",
              "      <td>Wenn Sie das Macbook öffnen, knarrt es, wenn d...</td>\n",
              "      <td>Sie sind gut. Ich habe sie letztes Mal gekauft...</td>\n",
              "      <td>1</td>\n",
              "    </tr>\n",
              "    <tr>\n",
              "      <th>3</th>\n",
              "      <td>Bloß nicht kaufen! Der bewegungsmelder funktio...</td>\n",
              "      <td>Besser ist es definitiv den Tee im normalen Ge...</td>\n",
              "      <td>1</td>\n",
              "    </tr>\n",
              "    <tr>\n",
              "      <th>4</th>\n",
              "      <td>Trotz seiner angeblich nur 53 db ist das Gerät...</td>\n",
              "      <td>Dialoge und Action Szenen sind einfach nur läc...</td>\n",
              "      <td>1</td>\n",
              "    </tr>\n",
              "    <tr>\n",
              "      <th>...</th>\n",
              "      <td>...</td>\n",
              "      <td>...</td>\n",
              "      <td>...</td>\n",
              "    </tr>\n",
              "    <tr>\n",
              "      <th>1003</th>\n",
              "      <td>Tut was sie soll und ist durch beigepackte Anl...</td>\n",
              "      <td>Ich habe das Produkt für mich und meine Tochte...</td>\n",
              "      <td>1</td>\n",
              "    </tr>\n",
              "    <tr>\n",
              "      <th>1004</th>\n",
              "      <td>Prinzipiell bin ich sehr zufrieden mit diesem ...</td>\n",
              "      <td>Bequem aber das Maß stimmt nicht es ist nur 18...</td>\n",
              "      <td>1</td>\n",
              "    </tr>\n",
              "    <tr>\n",
              "      <th>1005</th>\n",
              "      <td>Ich habe bezahlt, aber das paket nicht bekommen</td>\n",
              "      <td>Kam ohne Baumwolltücher an. Artikel ist so für...</td>\n",
              "      <td>1</td>\n",
              "    </tr>\n",
              "    <tr>\n",
              "      <th>1006</th>\n",
              "      <td>Preis / Leistung super</td>\n",
              "      <td>Hat Gewicht, aber macht einen super Job, tolle...</td>\n",
              "      <td>1</td>\n",
              "    </tr>\n",
              "    <tr>\n",
              "      <th>1007</th>\n",
              "      <td>Leider funktioniert das Gerät nach 2 Tagen sch...</td>\n",
              "      <td>Funktionniert nicht nach 1 Woche noch immer ni...</td>\n",
              "      <td>1</td>\n",
              "    </tr>\n",
              "  </tbody>\n",
              "</table>\n",
              "<p>1008 rows × 3 columns</p>\n",
              "</div>"
            ],
            "text/plain": [
              "                                                  sent1  ... is_duplicate\n",
              "0     Ich habe mir einen neuen Kindle gegönnt und da...  ...            1\n",
              "1     Ich musste die Klappe leider wieder zurück sch...  ...            1\n",
              "2     Wenn Sie das Macbook öffnen, knarrt es, wenn d...  ...            1\n",
              "3     Bloß nicht kaufen! Der bewegungsmelder funktio...  ...            1\n",
              "4     Trotz seiner angeblich nur 53 db ist das Gerät...  ...            1\n",
              "...                                                 ...  ...          ...\n",
              "1003  Tut was sie soll und ist durch beigepackte Anl...  ...            1\n",
              "1004  Prinzipiell bin ich sehr zufrieden mit diesem ...  ...            1\n",
              "1005    Ich habe bezahlt, aber das paket nicht bekommen  ...            1\n",
              "1006                             Preis / Leistung super  ...            1\n",
              "1007  Leider funktioniert das Gerät nach 2 Tagen sch...  ...            1\n",
              "\n",
              "[1008 rows x 3 columns]"
            ]
          },
          "metadata": {
            "tags": []
          },
          "execution_count": 109
        }
      ]
    },
    {
      "cell_type": "code",
      "metadata": {
        "id": "FGTUmcLz4uWw"
      },
      "source": [
        "# Hacemos combinaciones entre grupos de puntuaciones para añadir ejemplos que no tengan el mismo significado == is_duplicate = 0\n",
        "from itertools import product\n",
        "def create_dispairs(dfa,dfb):\n",
        "  \n",
        "  a = dfa['sent1']\n",
        "  a1 = dfb['sent1']\n",
        "\n",
        "  b = dfa['sent2']\n",
        "  b1 = dfb['sent2']\n",
        "\n",
        "  dispairs_1 = pd.DataFrame(list(product(a, a1)), columns=['l1', 'l2'])\n",
        "  dispairs_2 = pd.DataFrame(list(product(b, b1)), columns=['l1', 'l2'])\n",
        "\n",
        "  dispairs_1['l1'] = dispairs_1['l1'].astype(str)\n",
        "  dispairs_1['l2'] = dispairs_1['l2'].astype(str)\n",
        "\n",
        "  dispairs_2['l1'] = dispairs_2['l1'].astype(str)\n",
        "  dispairs_2['l2'] = dispairs_2['l2'].astype(str)\n",
        "\n",
        "\n",
        "  dispairs_1['is_duplicate'] = np.where(dispairs_1['l1']== dispairs_1['l2'], 1, 0)\n",
        "  dispairs_2['is_duplicate'] = np.where(dispairs_2['l1']== dispairs_2['l2'], 1, 0)\n",
        "\n",
        "  dispairs_1 = dispairs_1.sample(frac = 0.2)\n",
        "  dispairs_2 = dispairs_2.sample(frac = 0.2)\n",
        "  \n",
        "  result = pd.DataFrame()\n",
        "  result = pd.concat([dispairs_1,dispairs_2])\n",
        "  return result"
      ],
      "execution_count": null,
      "outputs": []
    },
    {
      "cell_type": "code",
      "metadata": {
        "id": "JlIua7qn4uWx"
      },
      "source": [
        "dispairs_03 = create_dispairs(pair_0s,pair_3s)\n",
        "dispairs_04 = create_dispairs(pair_0s,pair_4s)\n",
        "result_dispairs0 = pd.concat([dispairs_03,dispairs_04],ignore_index=True)\n",
        "result_dispairs0 = result_dispairs0.sample(frac=0.1)\n",
        "result_dispairs0 = result_dispairs0.reset_index(drop=True)"
      ],
      "execution_count": null,
      "outputs": []
    },
    {
      "cell_type": "code",
      "metadata": {
        "id": "LLxtkNuj4uWx"
      },
      "source": [
        "dispairs_13 = create_dispairs(pair_1s,pair_3s)\n",
        "dispairs_14 = create_dispairs(pair_1s,pair_4s)\n",
        "result_dispairs1 = pd.concat([dispairs_13,dispairs_14],ignore_index=True)\n",
        "result_dispairs1 = result_dispairs1.sample(frac=0.1)\n",
        "result_dispairs1 = result_dispairs1.reset_index(drop=True)"
      ],
      "execution_count": null,
      "outputs": []
    },
    {
      "cell_type": "code",
      "metadata": {
        "id": "I1clcRaR4uWx"
      },
      "source": [
        "dispairs_31 = create_dispairs(pair_3s,pair_1s)\n",
        "dispairs_30 = create_dispairs(pair_0s,pair_3s)\n",
        "result_dispairs3 = pd.concat([dispairs_31,dispairs_30],ignore_index=True)\n",
        "result_dispairs3 = result_dispairs3.sample(frac=0.1)\n",
        "result_dispairs3 = result_dispairs3.reset_index(drop=True)"
      ],
      "execution_count": null,
      "outputs": []
    },
    {
      "cell_type": "code",
      "metadata": {
        "id": "2j07Sqk44uWx"
      },
      "source": [
        "dispairs_41 = create_dispairs(pair_4s,pair_1s)\n",
        "dispairs_40 = create_dispairs(pair_0s,pair_4s)\n",
        "result_dispairs4 = pd.concat([dispairs_41,dispairs_40],ignore_index=True)\n",
        "result_dispairs4 = result_dispairs4.sample(frac=0.1)\n",
        "result_dispairs4 = result_dispairs4.reset_index(drop=True)"
      ],
      "execution_count": null,
      "outputs": []
    },
    {
      "cell_type": "code",
      "metadata": {
        "colab": {
          "base_uri": "https://localhost:8080/"
        },
        "id": "f9nVYVYA4uWy",
        "outputId": "8d933938-8b33-4e88-b30d-61a82f03a726"
      },
      "source": [
        "result_dispairs4"
      ],
      "execution_count": null,
      "outputs": [
        {
          "output_type": "execute_result",
          "data": {
            "text/html": [
              "<div>\n",
              "<style scoped>\n",
              "    .dataframe tbody tr th:only-of-type {\n",
              "        vertical-align: middle;\n",
              "    }\n",
              "\n",
              "    .dataframe tbody tr th {\n",
              "        vertical-align: top;\n",
              "    }\n",
              "\n",
              "    .dataframe thead th {\n",
              "        text-align: right;\n",
              "    }\n",
              "</style>\n",
              "<table border=\"1\" class=\"dataframe\">\n",
              "  <thead>\n",
              "    <tr style=\"text-align: right;\">\n",
              "      <th></th>\n",
              "      <th>l1</th>\n",
              "      <th>l2</th>\n",
              "      <th>is_duplicate</th>\n",
              "    </tr>\n",
              "  </thead>\n",
              "  <tbody>\n",
              "    <tr>\n",
              "      <th>0</th>\n",
              "      <td>sehr schönes Tassenset für Senseo-Kaffee. Auch...</td>\n",
              "      <td>War zuerst sehr zufrieden, aber dann gab er de...</td>\n",
              "      <td>0</td>\n",
              "    </tr>\n",
              "    <tr>\n",
              "      <th>1</th>\n",
              "      <td>Qualität und Funktion super. Für den Preis gib...</td>\n",
              "      <td>Ich wollte ihn für meinen Golf 2 aber da passt...</td>\n",
              "      <td>0</td>\n",
              "    </tr>\n",
              "    <tr>\n",
              "      <th>2</th>\n",
              "      <td>Das Spiel hing sich auf. Für den Preis no go.</td>\n",
              "      <td>Ich finde das meine Zähne nach einer Woche sch...</td>\n",
              "      <td>0</td>\n",
              "    </tr>\n",
              "    <tr>\n",
              "      <th>3</th>\n",
              "      <td>Produkt ist immernoch nicht angekommen! Vom Ve...</td>\n",
              "      <td>Die Halterungen in Kombination mit einem klein...</td>\n",
              "      <td>0</td>\n",
              "    </tr>\n",
              "    <tr>\n",
              "      <th>4</th>\n",
              "      <td>Die Hülle erfüllt ihren Zweck. Die materialqua...</td>\n",
              "      <td>Wackelig und wenn man es nicht absolut akkurat...</td>\n",
              "      <td>0</td>\n",
              "    </tr>\n",
              "    <tr>\n",
              "      <th>...</th>\n",
              "      <td>...</td>\n",
              "      <td>...</td>\n",
              "      <td>...</td>\n",
              "    </tr>\n",
              "    <tr>\n",
              "      <th>5025</th>\n",
              "      <td>Nach zwei Monaten täglich im Einsatz! Leider a...</td>\n",
              "      <td>Alles Toll. Sehr schnelle Lieferung. Ist vernü...</td>\n",
              "      <td>0</td>\n",
              "    </tr>\n",
              "    <tr>\n",
              "      <th>5026</th>\n",
              "      <td>Habe meine Bestellung nie erhalten</td>\n",
              "      <td>Lieferung erfolgte verspätet und Verpackung wa...</td>\n",
              "      <td>0</td>\n",
              "    </tr>\n",
              "    <tr>\n",
              "      <th>5027</th>\n",
              "      <td>Hatte oft Probleme mein Handgelenk zu stabilis...</td>\n",
              "      <td>Für den Preis gehen die Lüfter. Würde sie mir ...</td>\n",
              "      <td>0</td>\n",
              "    </tr>\n",
              "    <tr>\n",
              "      <th>5028</th>\n",
              "      <td>Leider funktioniert die Schere nicht, bitte um...</td>\n",
              "      <td>Ist sehr hilfreich gegen Akne hat mich sehr üb...</td>\n",
              "      <td>0</td>\n",
              "    </tr>\n",
              "    <tr>\n",
              "      <th>5029</th>\n",
              "      <td>Das Ding ist der Hammer aber nichts für Anfäng...</td>\n",
              "      <td>Schon nach sehr kurzer Zeit hat auch eine star...</td>\n",
              "      <td>0</td>\n",
              "    </tr>\n",
              "  </tbody>\n",
              "</table>\n",
              "<p>5030 rows × 3 columns</p>\n",
              "</div>"
            ],
            "text/plain": [
              "                                                     l1  ... is_duplicate\n",
              "0     sehr schönes Tassenset für Senseo-Kaffee. Auch...  ...            0\n",
              "1     Qualität und Funktion super. Für den Preis gib...  ...            0\n",
              "2         Das Spiel hing sich auf. Für den Preis no go.  ...            0\n",
              "3     Produkt ist immernoch nicht angekommen! Vom Ve...  ...            0\n",
              "4     Die Hülle erfüllt ihren Zweck. Die materialqua...  ...            0\n",
              "...                                                 ...  ...          ...\n",
              "5025  Nach zwei Monaten täglich im Einsatz! Leider a...  ...            0\n",
              "5026                 Habe meine Bestellung nie erhalten  ...            0\n",
              "5027  Hatte oft Probleme mein Handgelenk zu stabilis...  ...            0\n",
              "5028  Leider funktioniert die Schere nicht, bitte um...  ...            0\n",
              "5029  Das Ding ist der Hammer aber nichts für Anfäng...  ...            0\n",
              "\n",
              "[5030 rows x 3 columns]"
            ]
          },
          "metadata": {
            "tags": []
          },
          "execution_count": 115
        }
      ]
    },
    {
      "cell_type": "code",
      "metadata": {
        "id": "qTaFYVOI4uWy"
      },
      "source": [
        "result_dispairs = pd.concat([result_dispairs1,result_dispairs0,result_dispairs3,result_dispairs4],ignore_index=True)\n",
        "#result_dispairs = result_dispairs.sample(frac=0.1)\n",
        "result_dispairs = result_dispairs.reset_index(drop=True)\n"
      ],
      "execution_count": null,
      "outputs": []
    },
    {
      "cell_type": "code",
      "metadata": {
        "colab": {
          "base_uri": "https://localhost:8080/"
        },
        "id": "E7Gd2aq44uWy",
        "outputId": "3386bb3d-99b8-42ad-c0a8-83570970400e"
      },
      "source": [
        "result_dispairs"
      ],
      "execution_count": null,
      "outputs": [
        {
          "output_type": "execute_result",
          "data": {
            "text/html": [
              "<div>\n",
              "<style scoped>\n",
              "    .dataframe tbody tr th:only-of-type {\n",
              "        vertical-align: middle;\n",
              "    }\n",
              "\n",
              "    .dataframe tbody tr th {\n",
              "        vertical-align: top;\n",
              "    }\n",
              "\n",
              "    .dataframe thead th {\n",
              "        text-align: right;\n",
              "    }\n",
              "</style>\n",
              "<table border=\"1\" class=\"dataframe\">\n",
              "  <thead>\n",
              "    <tr style=\"text-align: right;\">\n",
              "      <th></th>\n",
              "      <th>l1</th>\n",
              "      <th>l2</th>\n",
              "      <th>is_duplicate</th>\n",
              "    </tr>\n",
              "  </thead>\n",
              "  <tbody>\n",
              "    <tr>\n",
              "      <th>0</th>\n",
              "      <td>Leider kann ich keine Fotos machen wenn das Ha...</td>\n",
              "      <td>Nicht das was ich erwartet hatte.</td>\n",
              "      <td>0</td>\n",
              "    </tr>\n",
              "    <tr>\n",
              "      <th>1</th>\n",
              "      <td>Nach 2 Wochen Batterie leer</td>\n",
              "      <td>Ein schicker Schrank für kleines Geld.</td>\n",
              "      <td>0</td>\n",
              "    </tr>\n",
              "    <tr>\n",
              "      <th>2</th>\n",
              "      <td>Nicht besser als ein billig Produkt. Ich war r...</td>\n",
              "      <td>Genau das richtige Spiel für meine beiden Jung...</td>\n",
              "      <td>0</td>\n",
              "    </tr>\n",
              "    <tr>\n",
              "      <th>3</th>\n",
              "      <td>Ich kenne das Spiel noch von früher. Die Spiel...</td>\n",
              "      <td>Rasche lieferung hält was es verspricht.</td>\n",
              "      <td>0</td>\n",
              "    </tr>\n",
              "    <tr>\n",
              "      <th>4</th>\n",
              "      <td>Zwar ist der Artikel gut verarbeitet und es wi...</td>\n",
              "      <td>Super zufrieden mein Sohn lieb es damit zu fah...</td>\n",
              "      <td>0</td>\n",
              "    </tr>\n",
              "    <tr>\n",
              "      <th>...</th>\n",
              "      <td>...</td>\n",
              "      <td>...</td>\n",
              "      <td>...</td>\n",
              "    </tr>\n",
              "    <tr>\n",
              "      <th>20316</th>\n",
              "      <td>Nach zwei Monaten täglich im Einsatz! Leider a...</td>\n",
              "      <td>Alles Toll. Sehr schnelle Lieferung. Ist vernü...</td>\n",
              "      <td>0</td>\n",
              "    </tr>\n",
              "    <tr>\n",
              "      <th>20317</th>\n",
              "      <td>Habe meine Bestellung nie erhalten</td>\n",
              "      <td>Lieferung erfolgte verspätet und Verpackung wa...</td>\n",
              "      <td>0</td>\n",
              "    </tr>\n",
              "    <tr>\n",
              "      <th>20318</th>\n",
              "      <td>Hatte oft Probleme mein Handgelenk zu stabilis...</td>\n",
              "      <td>Für den Preis gehen die Lüfter. Würde sie mir ...</td>\n",
              "      <td>0</td>\n",
              "    </tr>\n",
              "    <tr>\n",
              "      <th>20319</th>\n",
              "      <td>Leider funktioniert die Schere nicht, bitte um...</td>\n",
              "      <td>Ist sehr hilfreich gegen Akne hat mich sehr üb...</td>\n",
              "      <td>0</td>\n",
              "    </tr>\n",
              "    <tr>\n",
              "      <th>20320</th>\n",
              "      <td>Das Ding ist der Hammer aber nichts für Anfäng...</td>\n",
              "      <td>Schon nach sehr kurzer Zeit hat auch eine star...</td>\n",
              "      <td>0</td>\n",
              "    </tr>\n",
              "  </tbody>\n",
              "</table>\n",
              "<p>20321 rows × 3 columns</p>\n",
              "</div>"
            ],
            "text/plain": [
              "                                                      l1  ... is_duplicate\n",
              "0      Leider kann ich keine Fotos machen wenn das Ha...  ...            0\n",
              "1                            Nach 2 Wochen Batterie leer  ...            0\n",
              "2      Nicht besser als ein billig Produkt. Ich war r...  ...            0\n",
              "3      Ich kenne das Spiel noch von früher. Die Spiel...  ...            0\n",
              "4      Zwar ist der Artikel gut verarbeitet und es wi...  ...            0\n",
              "...                                                  ...  ...          ...\n",
              "20316  Nach zwei Monaten täglich im Einsatz! Leider a...  ...            0\n",
              "20317                 Habe meine Bestellung nie erhalten  ...            0\n",
              "20318  Hatte oft Probleme mein Handgelenk zu stabilis...  ...            0\n",
              "20319  Leider funktioniert die Schere nicht, bitte um...  ...            0\n",
              "20320  Das Ding ist der Hammer aber nichts für Anfäng...  ...            0\n",
              "\n",
              "[20321 rows x 3 columns]"
            ]
          },
          "metadata": {
            "tags": []
          },
          "execution_count": 117
        }
      ]
    },
    {
      "cell_type": "code",
      "metadata": {
        "id": "2IyNIE7W4uWy"
      },
      "source": [
        "result_dispairs =result_dispairs.rename(columns={'l1':'sent1','l2':'sent2'})\n",
        "result_final_data = pd.concat([result_pairs,result_dispairs],ignore_index=True)"
      ],
      "execution_count": null,
      "outputs": []
    },
    {
      "cell_type": "code",
      "metadata": {
        "colab": {
          "base_uri": "https://localhost:8080/"
        },
        "id": "fISS6x1_4uWy",
        "outputId": "49e983e9-1f13-4bf5-f98a-38d7402f4914"
      },
      "source": [
        "result_final_data"
      ],
      "execution_count": null,
      "outputs": [
        {
          "output_type": "execute_result",
          "data": {
            "text/html": [
              "<div>\n",
              "<style scoped>\n",
              "    .dataframe tbody tr th:only-of-type {\n",
              "        vertical-align: middle;\n",
              "    }\n",
              "\n",
              "    .dataframe tbody tr th {\n",
              "        vertical-align: top;\n",
              "    }\n",
              "\n",
              "    .dataframe thead th {\n",
              "        text-align: right;\n",
              "    }\n",
              "</style>\n",
              "<table border=\"1\" class=\"dataframe\">\n",
              "  <thead>\n",
              "    <tr style=\"text-align: right;\">\n",
              "      <th></th>\n",
              "      <th>sent1</th>\n",
              "      <th>sent2</th>\n",
              "      <th>is_duplicate</th>\n",
              "    </tr>\n",
              "  </thead>\n",
              "  <tbody>\n",
              "    <tr>\n",
              "      <th>0</th>\n",
              "      <td>Ich habe mir einen neuen Kindle gegönnt und da...</td>\n",
              "      <td>Vorteile: - Gut verarbeitet - Sehr guter Touch...</td>\n",
              "      <td>1</td>\n",
              "    </tr>\n",
              "    <tr>\n",
              "      <th>1</th>\n",
              "      <td>Ich musste die Klappe leider wieder zurück sch...</td>\n",
              "      <td>Ist ein bisschen zu langsam. Zu wenig Ram-Spei...</td>\n",
              "      <td>1</td>\n",
              "    </tr>\n",
              "    <tr>\n",
              "      <th>2</th>\n",
              "      <td>Wenn Sie das Macbook öffnen, knarrt es, wenn d...</td>\n",
              "      <td>Sie sind gut. Ich habe sie letztes Mal gekauft...</td>\n",
              "      <td>1</td>\n",
              "    </tr>\n",
              "    <tr>\n",
              "      <th>3</th>\n",
              "      <td>Bloß nicht kaufen! Der bewegungsmelder funktio...</td>\n",
              "      <td>Besser ist es definitiv den Tee im normalen Ge...</td>\n",
              "      <td>1</td>\n",
              "    </tr>\n",
              "    <tr>\n",
              "      <th>4</th>\n",
              "      <td>Trotz seiner angeblich nur 53 db ist das Gerät...</td>\n",
              "      <td>Dialoge und Action Szenen sind einfach nur läc...</td>\n",
              "      <td>1</td>\n",
              "    </tr>\n",
              "    <tr>\n",
              "      <th>...</th>\n",
              "      <td>...</td>\n",
              "      <td>...</td>\n",
              "      <td>...</td>\n",
              "    </tr>\n",
              "    <tr>\n",
              "      <th>21324</th>\n",
              "      <td>Nach zwei Monaten täglich im Einsatz! Leider a...</td>\n",
              "      <td>Alles Toll. Sehr schnelle Lieferung. Ist vernü...</td>\n",
              "      <td>0</td>\n",
              "    </tr>\n",
              "    <tr>\n",
              "      <th>21325</th>\n",
              "      <td>Habe meine Bestellung nie erhalten</td>\n",
              "      <td>Lieferung erfolgte verspätet und Verpackung wa...</td>\n",
              "      <td>0</td>\n",
              "    </tr>\n",
              "    <tr>\n",
              "      <th>21326</th>\n",
              "      <td>Hatte oft Probleme mein Handgelenk zu stabilis...</td>\n",
              "      <td>Für den Preis gehen die Lüfter. Würde sie mir ...</td>\n",
              "      <td>0</td>\n",
              "    </tr>\n",
              "    <tr>\n",
              "      <th>21327</th>\n",
              "      <td>Leider funktioniert die Schere nicht, bitte um...</td>\n",
              "      <td>Ist sehr hilfreich gegen Akne hat mich sehr üb...</td>\n",
              "      <td>0</td>\n",
              "    </tr>\n",
              "    <tr>\n",
              "      <th>21328</th>\n",
              "      <td>Das Ding ist der Hammer aber nichts für Anfäng...</td>\n",
              "      <td>Schon nach sehr kurzer Zeit hat auch eine star...</td>\n",
              "      <td>0</td>\n",
              "    </tr>\n",
              "  </tbody>\n",
              "</table>\n",
              "<p>21329 rows × 3 columns</p>\n",
              "</div>"
            ],
            "text/plain": [
              "                                                   sent1  ... is_duplicate\n",
              "0      Ich habe mir einen neuen Kindle gegönnt und da...  ...            1\n",
              "1      Ich musste die Klappe leider wieder zurück sch...  ...            1\n",
              "2      Wenn Sie das Macbook öffnen, knarrt es, wenn d...  ...            1\n",
              "3      Bloß nicht kaufen! Der bewegungsmelder funktio...  ...            1\n",
              "4      Trotz seiner angeblich nur 53 db ist das Gerät...  ...            1\n",
              "...                                                  ...  ...          ...\n",
              "21324  Nach zwei Monaten täglich im Einsatz! Leider a...  ...            0\n",
              "21325                 Habe meine Bestellung nie erhalten  ...            0\n",
              "21326  Hatte oft Probleme mein Handgelenk zu stabilis...  ...            0\n",
              "21327  Leider funktioniert die Schere nicht, bitte um...  ...            0\n",
              "21328  Das Ding ist der Hammer aber nichts für Anfäng...  ...            0\n",
              "\n",
              "[21329 rows x 3 columns]"
            ]
          },
          "metadata": {
            "tags": []
          },
          "execution_count": 119
        }
      ]
    },
    {
      "cell_type": "code",
      "metadata": {
        "colab": {
          "base_uri": "https://localhost:8080/"
        },
        "id": "4k3bURqS4uWz",
        "outputId": "cd2dbb26-e090-452f-be5f-c4a7c4cdcac2"
      },
      "source": [
        "result_final_data1 = result_final_data.reset_index(drop=True)\n",
        "result_final_data1"
      ],
      "execution_count": null,
      "outputs": [
        {
          "output_type": "execute_result",
          "data": {
            "text/html": [
              "<div>\n",
              "<style scoped>\n",
              "    .dataframe tbody tr th:only-of-type {\n",
              "        vertical-align: middle;\n",
              "    }\n",
              "\n",
              "    .dataframe tbody tr th {\n",
              "        vertical-align: top;\n",
              "    }\n",
              "\n",
              "    .dataframe thead th {\n",
              "        text-align: right;\n",
              "    }\n",
              "</style>\n",
              "<table border=\"1\" class=\"dataframe\">\n",
              "  <thead>\n",
              "    <tr style=\"text-align: right;\">\n",
              "      <th></th>\n",
              "      <th>sent1</th>\n",
              "      <th>sent2</th>\n",
              "      <th>is_duplicate</th>\n",
              "    </tr>\n",
              "  </thead>\n",
              "  <tbody>\n",
              "    <tr>\n",
              "      <th>0</th>\n",
              "      <td>Ich habe mir einen neuen Kindle gegönnt und da...</td>\n",
              "      <td>Vorteile: - Gut verarbeitet - Sehr guter Touch...</td>\n",
              "      <td>1</td>\n",
              "    </tr>\n",
              "    <tr>\n",
              "      <th>1</th>\n",
              "      <td>Ich musste die Klappe leider wieder zurück sch...</td>\n",
              "      <td>Ist ein bisschen zu langsam. Zu wenig Ram-Spei...</td>\n",
              "      <td>1</td>\n",
              "    </tr>\n",
              "    <tr>\n",
              "      <th>2</th>\n",
              "      <td>Wenn Sie das Macbook öffnen, knarrt es, wenn d...</td>\n",
              "      <td>Sie sind gut. Ich habe sie letztes Mal gekauft...</td>\n",
              "      <td>1</td>\n",
              "    </tr>\n",
              "    <tr>\n",
              "      <th>3</th>\n",
              "      <td>Bloß nicht kaufen! Der bewegungsmelder funktio...</td>\n",
              "      <td>Besser ist es definitiv den Tee im normalen Ge...</td>\n",
              "      <td>1</td>\n",
              "    </tr>\n",
              "    <tr>\n",
              "      <th>4</th>\n",
              "      <td>Trotz seiner angeblich nur 53 db ist das Gerät...</td>\n",
              "      <td>Dialoge und Action Szenen sind einfach nur läc...</td>\n",
              "      <td>1</td>\n",
              "    </tr>\n",
              "    <tr>\n",
              "      <th>...</th>\n",
              "      <td>...</td>\n",
              "      <td>...</td>\n",
              "      <td>...</td>\n",
              "    </tr>\n",
              "    <tr>\n",
              "      <th>21324</th>\n",
              "      <td>Nach zwei Monaten täglich im Einsatz! Leider a...</td>\n",
              "      <td>Alles Toll. Sehr schnelle Lieferung. Ist vernü...</td>\n",
              "      <td>0</td>\n",
              "    </tr>\n",
              "    <tr>\n",
              "      <th>21325</th>\n",
              "      <td>Habe meine Bestellung nie erhalten</td>\n",
              "      <td>Lieferung erfolgte verspätet und Verpackung wa...</td>\n",
              "      <td>0</td>\n",
              "    </tr>\n",
              "    <tr>\n",
              "      <th>21326</th>\n",
              "      <td>Hatte oft Probleme mein Handgelenk zu stabilis...</td>\n",
              "      <td>Für den Preis gehen die Lüfter. Würde sie mir ...</td>\n",
              "      <td>0</td>\n",
              "    </tr>\n",
              "    <tr>\n",
              "      <th>21327</th>\n",
              "      <td>Leider funktioniert die Schere nicht, bitte um...</td>\n",
              "      <td>Ist sehr hilfreich gegen Akne hat mich sehr üb...</td>\n",
              "      <td>0</td>\n",
              "    </tr>\n",
              "    <tr>\n",
              "      <th>21328</th>\n",
              "      <td>Das Ding ist der Hammer aber nichts für Anfäng...</td>\n",
              "      <td>Schon nach sehr kurzer Zeit hat auch eine star...</td>\n",
              "      <td>0</td>\n",
              "    </tr>\n",
              "  </tbody>\n",
              "</table>\n",
              "<p>21329 rows × 3 columns</p>\n",
              "</div>"
            ],
            "text/plain": [
              "                                                   sent1  ... is_duplicate\n",
              "0      Ich habe mir einen neuen Kindle gegönnt und da...  ...            1\n",
              "1      Ich musste die Klappe leider wieder zurück sch...  ...            1\n",
              "2      Wenn Sie das Macbook öffnen, knarrt es, wenn d...  ...            1\n",
              "3      Bloß nicht kaufen! Der bewegungsmelder funktio...  ...            1\n",
              "4      Trotz seiner angeblich nur 53 db ist das Gerät...  ...            1\n",
              "...                                                  ...  ...          ...\n",
              "21324  Nach zwei Monaten täglich im Einsatz! Leider a...  ...            0\n",
              "21325                 Habe meine Bestellung nie erhalten  ...            0\n",
              "21326  Hatte oft Probleme mein Handgelenk zu stabilis...  ...            0\n",
              "21327  Leider funktioniert die Schere nicht, bitte um...  ...            0\n",
              "21328  Das Ding ist der Hammer aber nichts für Anfäng...  ...            0\n",
              "\n",
              "[21329 rows x 3 columns]"
            ]
          },
          "metadata": {
            "tags": []
          },
          "execution_count": 120
        }
      ]
    },
    {
      "cell_type": "code",
      "metadata": {
        "colab": {
          "base_uri": "https://localhost:8080/"
        },
        "id": "x_Zdms6r4uWz",
        "outputId": "ca6b0ee5-3062-4474-a242-c3676725d9dc"
      },
      "source": [
        "majority =result_final_data1[result_final_data1[\"is_duplicate\"] == 0]\n",
        "len(majority)"
      ],
      "execution_count": null,
      "outputs": [
        {
          "output_type": "execute_result",
          "data": {
            "text/plain": [
              "20320"
            ]
          },
          "metadata": {
            "tags": []
          },
          "execution_count": 121
        }
      ]
    },
    {
      "cell_type": "code",
      "metadata": {
        "colab": {
          "base_uri": "https://localhost:8080/"
        },
        "id": "RnxmoTN24uWz",
        "outputId": "3828f420-ecd1-4a2d-b9d2-5606d78fdefa"
      },
      "source": [
        "minority =result_final_data1[result_final_data1[\"is_duplicate\"] == 1]\n",
        "len(minority)"
      ],
      "execution_count": null,
      "outputs": [
        {
          "output_type": "execute_result",
          "data": {
            "text/plain": [
              "1009"
            ]
          },
          "metadata": {
            "tags": []
          },
          "execution_count": 122
        }
      ]
    },
    {
      "cell_type": "code",
      "metadata": {
        "id": "oGjlO9UA4uW0"
      },
      "source": [
        "from sklearn.utils import resample\n",
        "\n",
        "df_maj_resamp = resample(majority,replace=False,n_samples=1001,random_state=20000)\n",
        "\n"
      ],
      "execution_count": null,
      "outputs": []
    },
    {
      "cell_type": "code",
      "metadata": {
        "id": "c50mf6GJ4uW0"
      },
      "source": [
        "final_dataframe= pd.concat([minority,df_maj_resamp])"
      ],
      "execution_count": null,
      "outputs": []
    },
    {
      "cell_type": "code",
      "metadata": {
        "id": "Um1MkWEU4uW0"
      },
      "source": [
        "final_dataframe = final_dataframe.sample(frac=1).reset_index(drop=True)"
      ],
      "execution_count": null,
      "outputs": []
    },
    {
      "cell_type": "code",
      "metadata": {
        "colab": {
          "base_uri": "https://localhost:8080/"
        },
        "id": "ZblgqeYV4uW0",
        "outputId": "1004d65c-13f2-45c1-e714-7423f52402f9"
      },
      "source": [
        "final_dataframe.shape"
      ],
      "execution_count": null,
      "outputs": [
        {
          "output_type": "execute_result",
          "data": {
            "text/plain": [
              "(2010, 3)"
            ]
          },
          "metadata": {
            "tags": []
          },
          "execution_count": 126
        }
      ]
    },
    {
      "cell_type": "code",
      "metadata": {
        "colab": {
          "base_uri": "https://localhost:8080/"
        },
        "id": "jMnzwevr4uW0",
        "outputId": "0b519716-9c61-470a-ff58-1a813a90f9f9"
      },
      "source": [
        "final_dataframe"
      ],
      "execution_count": null,
      "outputs": [
        {
          "output_type": "execute_result",
          "data": {
            "text/html": [
              "<div>\n",
              "<style scoped>\n",
              "    .dataframe tbody tr th:only-of-type {\n",
              "        vertical-align: middle;\n",
              "    }\n",
              "\n",
              "    .dataframe tbody tr th {\n",
              "        vertical-align: top;\n",
              "    }\n",
              "\n",
              "    .dataframe thead th {\n",
              "        text-align: right;\n",
              "    }\n",
              "</style>\n",
              "<table border=\"1\" class=\"dataframe\">\n",
              "  <thead>\n",
              "    <tr style=\"text-align: right;\">\n",
              "      <th></th>\n",
              "      <th>sent1</th>\n",
              "      <th>sent2</th>\n",
              "      <th>is_duplicate</th>\n",
              "    </tr>\n",
              "  </thead>\n",
              "  <tbody>\n",
              "    <tr>\n",
              "      <th>0</th>\n",
              "      <td>Ist leider noch nicht bei mir angekommen. Lang...</td>\n",
              "      <td>Sehr dünnes Material, gute Verarbeitung und mo...</td>\n",
              "      <td>0</td>\n",
              "    </tr>\n",
              "    <tr>\n",
              "      <th>1</th>\n",
              "      <td>Die Matte löst sich nach nur 6 Monaten im Wass...</td>\n",
              "      <td>Eigentlich kauft man sich eine Hülle um das Sm...</td>\n",
              "      <td>1</td>\n",
              "    </tr>\n",
              "    <tr>\n",
              "      <th>2</th>\n",
              "      <td>Kann mich nur anschließen, dass der Service de...</td>\n",
              "      <td>Ich hab mich schon gewundert, dass eine Pumpe,...</td>\n",
              "      <td>1</td>\n",
              "    </tr>\n",
              "    <tr>\n",
              "      <th>3</th>\n",
              "      <td>Die Dinger halten nicht gut. Das verwendete do...</td>\n",
              "      <td>Case liegt gut in der Hand, allerdings schirmt...</td>\n",
              "      <td>1</td>\n",
              "    </tr>\n",
              "    <tr>\n",
              "      <th>4</th>\n",
              "      <td>Gutes Trampolin. Macht meinen Kindern (3,5 und...</td>\n",
              "      <td>Das Shirt fällt etwas breiter aus. Ansonsten b...</td>\n",
              "      <td>1</td>\n",
              "    </tr>\n",
              "    <tr>\n",
              "      <th>...</th>\n",
              "      <td>...</td>\n",
              "      <td>...</td>\n",
              "      <td>...</td>\n",
              "    </tr>\n",
              "    <tr>\n",
              "      <th>2005</th>\n",
              "      <td>Schönes Chart aber schlechte Qualität. Hintegr...</td>\n",
              "      <td>Schöner Stoff, schönes design, leider ist mir ...</td>\n",
              "      <td>1</td>\n",
              "    </tr>\n",
              "    <tr>\n",
              "      <th>2006</th>\n",
              "      <td>Die Wimpernzange hat eine gute Qualität und si...</td>\n",
              "      <td>Es ist ein tolles Spiel aber manche Sachen sin...</td>\n",
              "      <td>1</td>\n",
              "    </tr>\n",
              "    <tr>\n",
              "      <th>2007</th>\n",
              "      <td>Es wurden NUR die Einzelteile geliefert, OHNE ...</td>\n",
              "      <td>Läst sich sauber aufkleben. Oben und unten feh...</td>\n",
              "      <td>1</td>\n",
              "    </tr>\n",
              "    <tr>\n",
              "      <th>2008</th>\n",
              "      <td>Ein Bewegungsmelder hat die Batterien innerhal...</td>\n",
              "      <td>Schlechte Verarbeitung, Materialien sind nicht...</td>\n",
              "      <td>1</td>\n",
              "    </tr>\n",
              "    <tr>\n",
              "      <th>2009</th>\n",
              "      <td>War zuerst sehr zufrieden, aber dann gab er de...</td>\n",
              "      <td>Ich hatte das Buch wieder zurück geschickt geh...</td>\n",
              "      <td>1</td>\n",
              "    </tr>\n",
              "  </tbody>\n",
              "</table>\n",
              "<p>2010 rows × 3 columns</p>\n",
              "</div>"
            ],
            "text/plain": [
              "                                                  sent1  ... is_duplicate\n",
              "0     Ist leider noch nicht bei mir angekommen. Lang...  ...            0\n",
              "1     Die Matte löst sich nach nur 6 Monaten im Wass...  ...            1\n",
              "2     Kann mich nur anschließen, dass der Service de...  ...            1\n",
              "3     Die Dinger halten nicht gut. Das verwendete do...  ...            1\n",
              "4     Gutes Trampolin. Macht meinen Kindern (3,5 und...  ...            1\n",
              "...                                                 ...  ...          ...\n",
              "2005  Schönes Chart aber schlechte Qualität. Hintegr...  ...            1\n",
              "2006  Die Wimpernzange hat eine gute Qualität und si...  ...            1\n",
              "2007  Es wurden NUR die Einzelteile geliefert, OHNE ...  ...            1\n",
              "2008  Ein Bewegungsmelder hat die Batterien innerhal...  ...            1\n",
              "2009  War zuerst sehr zufrieden, aber dann gab er de...  ...            1\n",
              "\n",
              "[2010 rows x 3 columns]"
            ]
          },
          "metadata": {
            "tags": []
          },
          "execution_count": 127
        }
      ]
    },
    {
      "cell_type": "code",
      "metadata": {
        "id": "PgsO12bq4uW0"
      },
      "source": [
        "final_dataframe.to_csv(r\"drive/MyDrive/TFG/review_pairs_downsampled_DE.csv\", index = False)"
      ],
      "execution_count": null,
      "outputs": []
    },
    {
      "cell_type": "markdown",
      "metadata": {
        "id": "r8w9KOspwE30"
      },
      "source": [
        "# ZERO-SHOT Classification\n",
        "- Directamente importamos el archivo con la base de datos por pares. "
      ]
    },
    {
      "cell_type": "code",
      "metadata": {
        "colab": {
          "base_uri": "https://localhost:8080/",
          "height": 191
        },
        "id": "67-zlRo00D8t",
        "outputId": "4d3e5579-e5e6-4628-8a3d-7e7a40371e09"
      },
      "source": [
        "## Import data pairs :\n",
        "\n",
        "final_dataframe = pd.read_csv('drive/MyDrive/TFG/review_pairs_downsampled.csv')\n",
        "final_dataframe.head()"
      ],
      "execution_count": null,
      "outputs": [
        {
          "output_type": "execute_result",
          "data": {
            "text/html": [
              "<div>\n",
              "<style scoped>\n",
              "    .dataframe tbody tr th:only-of-type {\n",
              "        vertical-align: middle;\n",
              "    }\n",
              "\n",
              "    .dataframe tbody tr th {\n",
              "        vertical-align: top;\n",
              "    }\n",
              "\n",
              "    .dataframe thead th {\n",
              "        text-align: right;\n",
              "    }\n",
              "</style>\n",
              "<table border=\"1\" class=\"dataframe\">\n",
              "  <thead>\n",
              "    <tr style=\"text-align: right;\">\n",
              "      <th></th>\n",
              "      <th>sent1</th>\n",
              "      <th>sent2</th>\n",
              "      <th>is_duplicate</th>\n",
              "    </tr>\n",
              "  </thead>\n",
              "  <tbody>\n",
              "    <tr>\n",
              "      <th>0</th>\n",
              "      <td>I purchased another scent from Anthropology an...</td>\n",
              "      <td>Mechanically is is a good device, Good fit. bu...</td>\n",
              "      <td>1</td>\n",
              "    </tr>\n",
              "    <tr>\n",
              "      <th>1</th>\n",
              "      <td>Gotta have it if you want to wire your lights....</td>\n",
              "      <td>works great for my computer. its the 13 inch m...</td>\n",
              "      <td>1</td>\n",
              "    </tr>\n",
              "    <tr>\n",
              "      <th>2</th>\n",
              "      <td>It's well made and I enjoy it, but really wish...</td>\n",
              "      <td>Capsules were damage, I tried to return for a ...</td>\n",
              "      <td>0</td>\n",
              "    </tr>\n",
              "    <tr>\n",
              "      <th>3</th>\n",
              "      <td>The top barely covered anything...not the same...</td>\n",
              "      <td>Gaiters really are helpful in keeping you warm...</td>\n",
              "      <td>0</td>\n",
              "    </tr>\n",
              "    <tr>\n",
              "      <th>4</th>\n",
              "      <td>Not happy with the purchase at all. The cables...</td>\n",
              "      <td>Great price and they are more comfortable for ...</td>\n",
              "      <td>0</td>\n",
              "    </tr>\n",
              "  </tbody>\n",
              "</table>\n",
              "</div>"
            ],
            "text/plain": [
              "                                               sent1  ... is_duplicate\n",
              "0  I purchased another scent from Anthropology an...  ...            1\n",
              "1  Gotta have it if you want to wire your lights....  ...            1\n",
              "2  It's well made and I enjoy it, but really wish...  ...            0\n",
              "3  The top barely covered anything...not the same...  ...            0\n",
              "4  Not happy with the purchase at all. The cables...  ...            0\n",
              "\n",
              "[5 rows x 3 columns]"
            ]
          },
          "metadata": {
            "tags": []
          },
          "execution_count": 8
        }
      ]
    },
    {
      "cell_type": "code",
      "metadata": {
        "colab": {
          "base_uri": "https://localhost:8080/"
        },
        "id": "Dsfhyah2w6UE",
        "outputId": "ec1ec3bb-005f-4e12-c592-9fa98dda957d"
      },
      "source": [
        "# Dividimos el dato de entrenamiento\n",
        "\n",
        "from sklearn.model_selection import train_test_split\n",
        "\n",
        "X_temp, X_test, y_temp, y_test = train_test_split(final_dataframe[['sent1', 'sent2']], final_dataframe['is_duplicate'], test_size=0.2, random_state=42)\n",
        "\n",
        "X_train, X_val, y_train, y_val = train_test_split(X_temp, y_temp, test_size=0.2, random_state=42)\n",
        "\n",
        "print(X_train.shape)\n",
        "print(y_train.shape)\n",
        "print(X_val.shape)\n",
        "print(y_val.shape)\n",
        "print(X_test.shape)\n",
        "print(y_test.shape)"
      ],
      "execution_count": null,
      "outputs": [
        {
          "output_type": "stream",
          "text": [
            "(25600, 2)\n",
            "(25600,)\n",
            "(6400, 2)\n",
            "(6400,)\n",
            "(8001, 2)\n",
            "(8001,)\n"
          ],
          "name": "stdout"
        }
      ]
    },
    {
      "cell_type": "code",
      "metadata": {
        "id": "q4sA_Vsuer3V"
      },
      "source": [
        "# Concatenación sentence 1 y sentence 2 para poder sacar el vocabulario de todos los textos\n",
        "%%capture\n",
        "X_train[\"text\"] = X_train[\"sent1\"] + \" \" + X_train[\"sent2\"]\n"
      ],
      "execution_count": null,
      "outputs": []
    },
    {
      "cell_type": "code",
      "metadata": {
        "colab": {
          "base_uri": "https://localhost:8080/",
          "height": 191
        },
        "id": "9nbam5wR1Q1F",
        "outputId": "d17ddaab-98de-4846-f6dc-504b53abce6a"
      },
      "source": [
        "X_train.head()"
      ],
      "execution_count": null,
      "outputs": [
        {
          "output_type": "execute_result",
          "data": {
            "text/html": [
              "<div>\n",
              "<style scoped>\n",
              "    .dataframe tbody tr th:only-of-type {\n",
              "        vertical-align: middle;\n",
              "    }\n",
              "\n",
              "    .dataframe tbody tr th {\n",
              "        vertical-align: top;\n",
              "    }\n",
              "\n",
              "    .dataframe thead th {\n",
              "        text-align: right;\n",
              "    }\n",
              "</style>\n",
              "<table border=\"1\" class=\"dataframe\">\n",
              "  <thead>\n",
              "    <tr style=\"text-align: right;\">\n",
              "      <th></th>\n",
              "      <th>sent1</th>\n",
              "      <th>sent2</th>\n",
              "      <th>text</th>\n",
              "    </tr>\n",
              "  </thead>\n",
              "  <tbody>\n",
              "    <tr>\n",
              "      <th>24340</th>\n",
              "      <td>Love this dress, I probably should order a sma...</td>\n",
              "      <td>I used them for sample packets for food produc...</td>\n",
              "      <td>Love this dress, I probably should order a sma...</td>\n",
              "    </tr>\n",
              "    <tr>\n",
              "      <th>31272</th>\n",
              "      <td>Just as advertised.. Great quality shears, not...</td>\n",
              "      <td>I'm very happy with this unit. I've read a lot...</td>\n",
              "      <td>Just as advertised.. Great quality shears, not...</td>\n",
              "    </tr>\n",
              "    <tr>\n",
              "      <th>18443</th>\n",
              "      <td>Would have liked better if it had a protector ...</td>\n",
              "      <td>I like the dress was surprised that the front ...</td>\n",
              "      <td>Would have liked better if it had a protector ...</td>\n",
              "    </tr>\n",
              "    <tr>\n",
              "      <th>34259</th>\n",
              "      <td>This collar is really heavy duty. I actually b...</td>\n",
              "      <td>Bought two initially. One didn't work. Company...</td>\n",
              "      <td>This collar is really heavy duty. I actually b...</td>\n",
              "    </tr>\n",
              "    <tr>\n",
              "      <th>34694</th>\n",
              "      <td>They taste good and I like that they're indivi...</td>\n",
              "      <td>The movies are what they say the problem I am ...</td>\n",
              "      <td>They taste good and I like that they're indivi...</td>\n",
              "    </tr>\n",
              "  </tbody>\n",
              "</table>\n",
              "</div>"
            ],
            "text/plain": [
              "                                                   sent1  ...                                               text\n",
              "24340  Love this dress, I probably should order a sma...  ...  Love this dress, I probably should order a sma...\n",
              "31272  Just as advertised.. Great quality shears, not...  ...  Just as advertised.. Great quality shears, not...\n",
              "18443  Would have liked better if it had a protector ...  ...  Would have liked better if it had a protector ...\n",
              "34259  This collar is really heavy duty. I actually b...  ...  This collar is really heavy duty. I actually b...\n",
              "34694  They taste good and I like that they're indivi...  ...  They taste good and I like that they're indivi...\n",
              "\n",
              "[5 rows x 3 columns]"
            ]
          },
          "metadata": {
            "tags": []
          },
          "execution_count": 11
        }
      ]
    },
    {
      "cell_type": "code",
      "metadata": {
        "id": "Z0kNuviZe2O9"
      },
      "source": [
        "%%capture\n",
        "import tensorflow as tf\n",
        "import keras\n",
        "import keras.backend as K\n",
        "from keras.preprocessing.text import Tokenizer\n",
        "from keras.preprocessing.sequence import pad_sequences\n",
        "from keras.layers import Input, Concatenate, Conv2D, Flatten, Dense, Embedding, LSTM\n",
        "from keras.models import Model\n",
        "\n",
        "## Creamos tokenizer a partir de el vocabulario de la columna text (ambas sentences)\n",
        "t = Tokenizer()\n",
        "t.fit_on_texts(X_train['text'].values)\n",
        "vocab_size = len(t.word_index)+1\n",
        "\n",
        "## Convertimos a string\n",
        "X_train['sent1'] = X_train['sent1'].astype(str)\n",
        "X_train['sent2'] = X_train['sent2'].astype(str)\n",
        "\n",
        "X_val['sent1'] = X_val['sent1'].astype(str)\n",
        "X_val['sent2'] = X_val['sent2'].astype(str)\n",
        "\n",
        "X_test['sent1'] = X_test['sent1'].astype(str)\n",
        "X_test['sent2'] = X_test['sent2'].astype(str)\n",
        "\n",
        "## Aplicamos text_to_sequences para pasar a secuencia\n",
        "\n",
        "train_sent1_seq = t.texts_to_sequences(X_train['sent1'].values)\n",
        "train_sent2_seq = t.texts_to_sequences(X_train['sent2'].values)\n",
        "val_sent1_seq = t.texts_to_sequences(X_val['sent1'].values)\n",
        "val_sent2_seq = t.texts_to_sequences(X_val['sent2'].values)\n",
        "test_sent1_seq = t.texts_to_sequences(X_test['sent1'].values)\n",
        "test_sent2_seq = t.texts_to_sequences(X_test['sent2'].values)\n"
      ],
      "execution_count": null,
      "outputs": []
    },
    {
      "cell_type": "code",
      "metadata": {
        "colab": {
          "base_uri": "https://localhost:8080/",
          "height": 333
        },
        "id": "TDF9dpc9hMHl",
        "outputId": "bedc632e-3c98-4f2c-8d28-d1561cf673e7"
      },
      "source": [
        "# Comprobamos la distribución de las longitudes de secuencia para definir max_length\n",
        "len_vec = [len(sent_vec) for sent_vec in train_sent1_seq]\n",
        "np.max(len_vec)\n",
        "\n",
        "sns.distplot(len_vec)"
      ],
      "execution_count": null,
      "outputs": [
        {
          "output_type": "stream",
          "text": [
            "/usr/local/lib/python3.7/dist-packages/seaborn/distributions.py:2557: FutureWarning: `distplot` is a deprecated function and will be removed in a future version. Please adapt your code to use either `displot` (a figure-level function with similar flexibility) or `histplot` (an axes-level function for histograms).\n",
            "  warnings.warn(msg, FutureWarning)\n"
          ],
          "name": "stderr"
        },
        {
          "output_type": "execute_result",
          "data": {
            "text/plain": [
              "<matplotlib.axes._subplots.AxesSubplot at 0x7f50822c7c90>"
            ]
          },
          "metadata": {
            "tags": []
          },
          "execution_count": 13
        },
        {
          "output_type": "display_data",
          "data": {
            "image/png": "[encoded data removed]",
            "text/plain": [
              "<Figure size 432x288 with 1 Axes>"
            ]
          },
          "metadata": {
            "tags": [],
            "needs_background": "light"
          }
        }
      ]
    },
    {
      "cell_type": "code",
      "metadata": {
        "id": "9J4bcYH7hfa6"
      },
      "source": [
        "# Definimos maxima longitud de secuencia\n",
        "max_len = 260"
      ],
      "execution_count": null,
      "outputs": []
    },
    {
      "cell_type": "code",
      "metadata": {
        "id": "YNMbC-zkhyz9"
      },
      "source": [
        "# Realizamos padding para igualar la longitud de las secuencias\n",
        "train_sent1_seq = pad_sequences(train_sent1_seq, maxlen=max_len, padding='post')\n",
        "train_sent2_seq = pad_sequences(train_sent2_seq, maxlen=max_len, padding='post')\n",
        "val_sent1_seq = pad_sequences(val_sent1_seq, maxlen=max_len, padding='post')\n",
        "val_sent2_seq = pad_sequences(val_sent2_seq, maxlen=max_len, padding='post')\n",
        "test_sent1_seq = pad_sequences(test_sent1_seq, maxlen=max_len, padding='post')\n",
        "test_sent2_seq = pad_sequences(test_sent2_seq, maxlen=max_len, padding='post')\n"
      ],
      "execution_count": null,
      "outputs": []
    },
    {
      "cell_type": "markdown",
      "metadata": {
        "id": "qNmaUJ8Bw6T-"
      },
      "source": [
        "## Load Muse Embeddings"
      ]
    },
    {
      "cell_type": "code",
      "metadata": {
        "id": "iLEhYY6Yw6T_"
      },
      "source": [
        "def read_muse_vecs(muse_file):\n",
        "        with open(muse_file, 'r',  errors='ignore', encoding=\"utf-8\") as f:\n",
        "            words = set()\n",
        "            word_to_vec_map = {}\n",
        "            for line in f:\n",
        "                line = line.strip().split()\n",
        "                curr_word_list = line[0: len(line) - 300]\n",
        "                curr_word = \"\"\n",
        "                for t in curr_word_list:\n",
        "                    curr_word = curr_word + str(t) + \" \"\n",
        "                curr_word = curr_word.strip()\n",
        "                words.add(curr_word)\n",
        "                try:\n",
        "                    word_to_vec_map[curr_word] = np.array(line[-300:], dtype=np.float64)\n",
        "                except:\n",
        "                    print(line, len(line))\n",
        "\n",
        "            i = 1\n",
        "            words_to_index = {}\n",
        "            index_to_words = {}\n",
        "\n",
        "            words.add(\"nokey\")\n",
        "            word_to_vec_map[\"nokey\"] = np.zeros((300,), dtype=np.float64)\n",
        "\n",
        "            for w in sorted(words):\n",
        "                words_to_index[w] = i\n",
        "                index_to_words[i] = w\n",
        "                i = i + 1\n",
        "        return words_to_index, index_to_words, word_to_vec_map"
      ],
      "execution_count": null,
      "outputs": []
    },
    {
      "cell_type": "code",
      "metadata": {
        "id": "ZFejxeB7jfd0"
      },
      "source": [
        "%%capture\n",
        "Pathjup = \"muse/data/wiki.multi.en.vec\"\n",
        "Pathdrive = \"/content/drive/MyDrive/muse/data/wiki.multi.en.vec\"\n",
        "\n",
        "words_to_index, index_to_words, word_to_vec_map = read_muse_vecs(Pathdrive)"
      ],
      "execution_count": null,
      "outputs": []
    },
    {
      "cell_type": "code",
      "metadata": {
        "id": "L1Sy1s2Hw6UA"
      },
      "source": [
        "## Diccionario con word-embeddings(300)\n",
        "#word_to_vec_map.keys()"
      ],
      "execution_count": null,
      "outputs": []
    },
    {
      "cell_type": "code",
      "metadata": {
        "colab": {
          "base_uri": "https://localhost:8080/"
        },
        "id": "70KybO03w6UB",
        "outputId": "b53715ec-295d-4fda-9cf3-4fb01bf1bf0d"
      },
      "source": [
        "len(words_to_index) # Tamaño del vocabulario ingles"
      ],
      "execution_count": null,
      "outputs": [
        {
          "output_type": "execute_result",
          "data": {
            "text/plain": [
              "199989"
            ]
          },
          "metadata": {
            "tags": []
          },
          "execution_count": 19
        }
      ]
    },
    {
      "cell_type": "code",
      "metadata": {
        "colab": {
          "base_uri": "https://localhost:8080/"
        },
        "id": "pqEo5qaKw6UB",
        "outputId": "020bc3e9-7599-4962-977e-85bfad2f39b9"
      },
      "source": [
        "len(word_to_vec_map[\"no\"]) # Embeddings palabra \"right\""
      ],
      "execution_count": null,
      "outputs": [
        {
          "output_type": "execute_result",
          "data": {
            "text/plain": [
              "300"
            ]
          },
          "metadata": {
            "tags": []
          },
          "execution_count": 20
        }
      ]
    },
    {
      "cell_type": "code",
      "metadata": {
        "id": "SIo80mTon0O3"
      },
      "source": [
        "#Creamos matriz de embeddings a partir del vocab de las review_body FULL\n",
        "from numpy import zeros\n",
        "embedding_matrix = zeros((vocab_size,300))\n",
        "for word, i in t.word_index.items():\n",
        "  embedding_vector = word_to_vec_map.get(word)\n",
        "  if embedding_vector is not None:\n",
        "    embedding_matrix[i] = embedding_vector"
      ],
      "execution_count": null,
      "outputs": []
    },
    {
      "cell_type": "code",
      "metadata": {
        "colab": {
          "base_uri": "https://localhost:8080/"
        },
        "id": "hGqUhkr4n8z8",
        "outputId": "9fede2a2-e3f4-454e-f58a-0b1bd77284f9"
      },
      "source": [
        "embedding_matrix.shape"
      ],
      "execution_count": null,
      "outputs": [
        {
          "output_type": "execute_result",
          "data": {
            "text/plain": [
              "(22971, 300)"
            ]
          },
          "metadata": {
            "tags": []
          },
          "execution_count": 22
        }
      ]
    },
    {
      "cell_type": "markdown",
      "metadata": {
        "id": "jqz-RMkQyc7U"
      },
      "source": [
        "# Modelo red Siamesa"
      ]
    },
    {
      "cell_type": "markdown",
      "metadata": {
        "id": "pQZM0g33l2Ki"
      },
      "source": [
        "## Binary-cross entropy loss "
      ]
    },
    {
      "cell_type": "code",
      "metadata": {
        "id": "VLPrUSNYyfL-"
      },
      "source": [
        "from keras.regularizers import l2\n",
        "from keras.models import Sequential\n",
        "from keras.optimizers import Adam\n",
        "from keras.layers import Conv2D, ZeroPadding2D, Activation, Input, concatenate\n",
        "from keras.models import Model\n",
        "\n",
        "from keras.layers.normalization import BatchNormalization\n",
        "from keras.layers.pooling import MaxPooling1D\n",
        "from keras.layers.merge import Concatenate\n",
        "from keras.layers.core import Lambda, Flatten, Dense\n",
        "from keras.initializers import glorot_uniform\n",
        "from keras.layers import Input, Dense, Flatten, GlobalMaxPool2D, GlobalAvgPool2D, Concatenate, Multiply, Dropout, Subtract, Add, Conv2D,Bidirectional"
      ],
      "execution_count": null,
      "outputs": []
    },
    {
      "cell_type": "code",
      "metadata": {
        "id": "qCNfFav9zpeu"
      },
      "source": [
        "from keras import backend as K\n",
        "\n",
        "def cosine_distance(vests):\n",
        "    x, y = vests\n",
        "    x = K.l2_normalize(x, axis=-1)\n",
        "    y = K.l2_normalize(y, axis=-1)\n",
        "    return -K.mean(x * y, axis=-1, keepdims=True)\n",
        "\n",
        "def cos_dist_output_shape(shapes):\n",
        "    shape1, shape2 = shapes\n",
        "    return (shape1[0],1)"
      ],
      "execution_count": null,
      "outputs": []
    },
    {
      "cell_type": "code",
      "metadata": {
        "id": "cdifajYPztCS"
      },
      "source": [
        "from sklearn.metrics import roc_auc_score\n",
        "\n",
        "def auroc(y_true, y_pred):\n",
        "    return tf.py_function(roc_auc_score, (y_true, y_pred), tf.double)"
      ],
      "execution_count": null,
      "outputs": []
    },
    {
      "cell_type": "code",
      "metadata": {
        "colab": {
          "base_uri": "https://localhost:8080/",
          "height": 147
        },
        "id": "Px4KiOo1oFCL",
        "outputId": "76c127ae-8ead-4e5f-b5ba-b83cb3d7d1dc"
      },
      "source": [
        "# Initialize wandb with your project name\n",
        "run = wandb.init(project='Zero_shot_siamese',\n",
        "                 config={  # and include hyperparameters and metadata\n",
        "                     \"learning_rate\": 0.001,\n",
        "                     \"epochs\": 3,\n",
        "                     \"batch_size\": 64,\n",
        "                     \"loss_function\": \"binary_crossentropy\",\n",
        "                     \"architecture\": \"BiLSTM\"\n",
        "                 })\n",
        "config = wandb.config  # We'll use this to configure our experiment"
      ],
      "execution_count": null,
      "outputs": [
        {
          "output_type": "display_data",
          "data": {
            "application/javascript": [
              "\n",
              "        window._wandbApiKey = new Promise((resolve, reject) => {\n",
              "            function loadScript(url) {\n",
              "            return new Promise(function(resolve, reject) {\n",
              "                let newScript = document.createElement(\"script\");\n",
              "                newScript.onerror = reject;\n",
              "                newScript.onload = resolve;\n",
              "                document.body.appendChild(newScript);\n",
              "                newScript.src = url;\n",
              "            });\n",
              "            }\n",
              "            loadScript(\"https://cdn.jsdelivr.net/npm/postmate/build/postmate.min.js\").then(() => {\n",
              "            const iframe = document.createElement('iframe')\n",
              "            iframe.style.cssText = \"width:0;height:0;border:none\"\n",
              "            document.body.appendChild(iframe)\n",
              "            const handshake = new Postmate({\n",
              "                container: iframe,\n",
              "                url: 'https://wandb.ai/authorize'\n",
              "            });\n",
              "            const timeout = setTimeout(() => reject(\"Couldn't auto authenticate\"), 5000)\n",
              "            handshake.then(function(child) {\n",
              "                child.on('authorize', data => {\n",
              "                    clearTimeout(timeout)\n",
              "                    resolve(data)\n",
              "                });\n",
              "            });\n",
              "            })\n",
              "        });\n",
              "    "
            ],
            "text/plain": [
              "<IPython.core.display.Javascript object>"
            ]
          },
          "metadata": {
            "tags": []
          }
        },
        {
          "output_type": "stream",
          "text": [
            "\u001b[34m\u001b[1mwandb\u001b[0m: Appending key for api.wandb.ai to your netrc file: /root/.netrc\n"
          ],
          "name": "stderr"
        },
        {
          "output_type": "display_data",
          "data": {
            "text/html": [
              "\n",
              "                Tracking run with wandb version 0.10.23<br/>\n",
              "                Syncing run <strong style=\"color:#cdcd00\">good-river-7</strong> to <a href=\"https://wandb.ai\" target=\"_blank\">Weights & Biases</a> <a href=\"https://docs.wandb.com/integrations/jupyter.html\" target=\"_blank\">(Documentation)</a>.<br/>\n",
              "                Project page: <a href=\"https://wandb.ai/lucialarraona/Zero_shot_siamese\" target=\"_blank\">https://wandb.ai/lucialarraona/Zero_shot_siamese</a><br/>\n",
              "                Run page: <a href=\"https://wandb.ai/lucialarraona/Zero_shot_siamese/runs/lxngetnl\" target=\"_blank\">https://wandb.ai/lucialarraona/Zero_shot_siamese/runs/lxngetnl</a><br/>\n",
              "                Run data is saved locally in <code>/content/wandb/run-20210328_213547-lxngetnl</code><br/><br/>\n",
              "            "
            ],
            "text/plain": [
              "<IPython.core.display.HTML object>"
            ]
          },
          "metadata": {
            "tags": []
          }
        }
      ]
    },
    {
      "cell_type": "code",
      "metadata": {
        "id": "U_CRZ83vzzAw"
      },
      "source": [
        "#Arquitectura del modelo\n",
        "input_1 = Input(shape=(train_sent1_seq.shape[1],))\n",
        "input_2 = Input(shape=(train_sent2_seq.shape[1],))\n",
        "\n",
        "\n",
        "common_embed = Embedding(input_dim = vocab_size, output_dim=300,weights=[embedding_matrix], input_length= max_len,trainable=False) \n",
        "\n",
        "bilstm_1 = common_embed(input_1)\n",
        "bilstm_2 = common_embed(input_2)\n",
        "\n",
        "\n",
        "common_bilstm = Bidirectional(LSTM(128,return_sequences=True, activation=\"relu\"))\n",
        "\n",
        "vector_1 = common_bilstm(bilstm_1)\n",
        "vector_1 = Flatten()(vector_1)\n",
        "\n",
        "vector_2 = common_bilstm(bilstm_2)\n",
        "vector_2 = Flatten()(vector_2)\n",
        "\n",
        "x3 = Subtract()([vector_1, vector_2])\n",
        "x3 = Multiply()([x3, x3])\n",
        "\n",
        "x1_ = Multiply()([vector_1, vector_1])\n",
        "x2_ = Multiply()([vector_2, vector_2])\n",
        "x4 = Subtract()([x1_, x2_])\n",
        "    \n",
        "#https://stackoverflow.com/a/51003359/10650182\n",
        "x5 = Lambda(cosine_distance, output_shape=cos_dist_output_shape)([vector_1, vector_2])\n",
        "    \n",
        "conc = Concatenate(axis=-1)([x5,x4, x3])\n",
        "\n",
        "x = Dense(100, activation=\"relu\", name='conc_layer')(conc)\n",
        "x = Dropout(0.3)(x)\n",
        "out = Dense(1, activation=\"sigmoid\", name = 'out')(x)\n",
        "\n",
        "model = Model([input_1, input_2], out)\n",
        "\n",
        "model.compile(loss=config.loss_function, metrics=['acc'], optimizer=Adam(lr=config.learning_rate, beta_1=0.9, beta_2=0.999, clipnorm=1.0))"
      ],
      "execution_count": null,
      "outputs": []
    },
    {
      "cell_type": "code",
      "metadata": {
        "colab": {
          "base_uri": "https://localhost:8080/",
          "height": 685
        },
        "id": "7run6VnEwjkT",
        "outputId": "983f8b30-d4cf-4049-b33f-87389e3bedd7"
      },
      "source": [
        "from keras.utils import plot_model\n",
        "\n",
        "plot_model(model, '/content/drive/MyDrive/TFG/model_arq/siamese.png', show_shapes=True)"
      ],
      "execution_count": null,
      "outputs": [
        {
          "output_type": "execute_result",
          "data": {
            "image/png": "[encoded data removed]",
            "text/plain": [
              "<IPython.core.display.Image object>"
            ]
          },
          "metadata": {
            "tags": []
          },
          "execution_count": 29
        }
      ]
    },
    {
      "cell_type": "code",
      "metadata": {
        "colab": {
          "base_uri": "https://localhost:8080/"
        },
        "id": "btDu_g6C0DMg",
        "outputId": "a436df55-d45e-47cf-cf73-54dfea8baed5"
      },
      "source": [
        "model.summary()"
      ],
      "execution_count": null,
      "outputs": [
        {
          "output_type": "stream",
          "text": [
            "Model: \"model\"\n",
            "__________________________________________________________________________________________________\n",
            "Layer (type)                    Output Shape         Param #     Connected to                     \n",
            "==================================================================================================\n",
            "input_1 (InputLayer)            [(None, 260)]        0                                            \n",
            "__________________________________________________________________________________________________\n",
            "input_2 (InputLayer)            [(None, 260)]        0                                            \n",
            "__________________________________________________________________________________________________\n",
            "embedding (Embedding)           (None, 260, 300)     6891300     input_1[0][0]                    \n",
            "                                                                 input_2[0][0]                    \n",
            "__________________________________________________________________________________________________\n",
            "bidirectional (Bidirectional)   (None, 260, 256)     439296      embedding[0][0]                  \n",
            "                                                                 embedding[1][0]                  \n",
            "__________________________________________________________________________________________________\n",
            "flatten (Flatten)               (None, 66560)        0           bidirectional[0][0]              \n",
            "__________________________________________________________________________________________________\n",
            "flatten_1 (Flatten)             (None, 66560)        0           bidirectional[1][0]              \n",
            "__________________________________________________________________________________________________\n",
            "multiply_1 (Multiply)           (None, 66560)        0           flatten[0][0]                    \n",
            "                                                                 flatten[0][0]                    \n",
            "__________________________________________________________________________________________________\n",
            "multiply_2 (Multiply)           (None, 66560)        0           flatten_1[0][0]                  \n",
            "                                                                 flatten_1[0][0]                  \n",
            "__________________________________________________________________________________________________\n",
            "subtract (Subtract)             (None, 66560)        0           flatten[0][0]                    \n",
            "                                                                 flatten_1[0][0]                  \n",
            "__________________________________________________________________________________________________\n",
            "lambda (Lambda)                 (None, 1)            0           flatten[0][0]                    \n",
            "                                                                 flatten_1[0][0]                  \n",
            "__________________________________________________________________________________________________\n",
            "subtract_1 (Subtract)           (None, 66560)        0           multiply_1[0][0]                 \n",
            "                                                                 multiply_2[0][0]                 \n",
            "__________________________________________________________________________________________________\n",
            "multiply (Multiply)             (None, 66560)        0           subtract[0][0]                   \n",
            "                                                                 subtract[0][0]                   \n",
            "__________________________________________________________________________________________________\n",
            "concatenate (Concatenate)       (None, 133121)       0           lambda[0][0]                     \n",
            "                                                                 subtract_1[0][0]                 \n",
            "                                                                 multiply[0][0]                   \n",
            "__________________________________________________________________________________________________\n",
            "conc_layer (Dense)              (None, 100)          13312200    concatenate[0][0]                \n",
            "__________________________________________________________________________________________________\n",
            "dropout (Dropout)               (None, 100)          0           conc_layer[0][0]                 \n",
            "__________________________________________________________________________________________________\n",
            "out (Dense)                     (None, 1)            101         dropout[0][0]                    \n",
            "==================================================================================================\n",
            "Total params: 20,642,897\n",
            "Trainable params: 13,751,597\n",
            "Non-trainable params: 6,891,300\n",
            "__________________________________________________________________________________________________\n"
          ],
          "name": "stdout"
        }
      ]
    },
    {
      "cell_type": "code",
      "metadata": {
        "colab": {
          "base_uri": "https://localhost:8080/",
          "height": 704
        },
        "id": "UnoD-1Jt0TfE",
        "outputId": "3236d94c-f7eb-4169-ff2c-8c3ae56dd739"
      },
      "source": [
        "X_train_final = [train_sent1_seq,train_sent2_seq]\n",
        "X_val_final= [val_sent1_seq, val_sent2_seq]\n",
        "\n",
        "\n",
        "y_train_final = y_train.values.reshape(-1,1)\n",
        "y_val_final= y_val.values.reshape(-1,1)\n",
        "\n",
        "model.fit(X_train_final, y_train_final,epochs=config.epochs,batch_size=config.batch_size,validation_data=(X_val_final, y_val_final),callbacks= [PlotLossesKeras(),WandbCallback()])\n"
      ],
      "execution_count": null,
      "outputs": [
        {
          "output_type": "display_data",
          "data": {
            "image/png": "[encoded data removed]",
            "text/plain": [
              "<Figure size 864x576 with 2 Axes>"
            ]
          },
          "metadata": {
            "tags": [],
            "needs_background": "light"
          }
        },
        {
          "output_type": "stream",
          "text": [
            "Accuracy\n",
            "\ttraining         \t (min:    0.647, max:    0.803, cur:    0.803)\n",
            "\tvalidation       \t (min:    0.721, max:    0.782, cur:    0.782)\n",
            "Loss\n",
            "\ttraining         \t (min:    0.426, max:    0.621, cur:    0.426)\n",
            "\tvalidation       \t (min:    0.471, max:    0.544, cur:    0.478)\n"
          ],
          "name": "stdout"
        },
        {
          "output_type": "execute_result",
          "data": {
            "text/plain": [
              "<tensorflow.python.keras.callbacks.History at 0x7fd630113f90>"
            ]
          },
          "metadata": {
            "tags": []
          },
          "execution_count": 29
        }
      ]
    },
    {
      "cell_type": "code",
      "metadata": {
        "id": "DQFRaEbmDPkk",
        "colab": {
          "base_uri": "https://localhost:8080/",
          "height": 667,
          "referenced_widgets": [
            "bad4c83d18b34dfbbb5f33cc04ed469b",
            "70ef099d36cf41198e198331526b3205",
            "f345e893484a4b9c8a377751ef788d0e",
            "eec87b2bbe824b5fbfda72aefd158b20",
            "54058298038a4f54b945c7844a3ebf6b",
            "0c704a6e51b241d3a94e2f22ce0edc07",
            "e826ce2fd110463a92ad679fc422d081",
            "742755fc6260437ea5f7091a5f575245"
          ]
        },
        "outputId": "f53a9754-5c43-4e53-fcce-ab269f3ea365"
      },
      "source": [
        "wandb.finish()"
      ],
      "execution_count": null,
      "outputs": [
        {
          "output_type": "display_data",
          "data": {
            "text/html": [
              "<br/>Waiting for W&B process to finish, PID 299<br/>Program ended successfully."
            ],
            "text/plain": [
              "<IPython.core.display.HTML object>"
            ]
          },
          "metadata": {
            "tags": []
          }
        },
        {
          "output_type": "display_data",
          "data": {
            "application/vnd.jupyter.widget-view+json": {
              "model_id": "bad4c83d18b34dfbbb5f33cc04ed469b",
              "version_minor": 0,
              "version_major": 2
            },
            "text/plain": [
              "VBox(children=(Label(value=' 183.73MB of 183.73MB uploaded (0.00MB deduped)\\r'), FloatProgress(value=1.0, max=…"
            ]
          },
          "metadata": {
            "tags": []
          }
        },
        {
          "output_type": "display_data",
          "data": {
            "text/html": [
              "Find user logs for this run at: <code>/content/wandb/run-20210317_195346-5updt3tq/logs/debug.log</code>"
            ],
            "text/plain": [
              "<IPython.core.display.HTML object>"
            ]
          },
          "metadata": {
            "tags": []
          }
        },
        {
          "output_type": "display_data",
          "data": {
            "text/html": [
              "Find internal logs for this run at: <code>/content/wandb/run-20210317_195346-5updt3tq/logs/debug-internal.log</code>"
            ],
            "text/plain": [
              "<IPython.core.display.HTML object>"
            ]
          },
          "metadata": {
            "tags": []
          }
        },
        {
          "output_type": "display_data",
          "data": {
            "text/html": [
              "<h3>Run summary:</h3><br/><style>\n",
              "    table.wandb td:nth-child(1) { padding: 0 10px; text-align: right }\n",
              "    </style><table class=\"wandb\">\n",
              "<tr><td>epoch</td><td>2</td></tr><tr><td>loss</td><td>0.42573</td></tr><tr><td>acc</td><td>0.80344</td></tr><tr><td>val_loss</td><td>0.47761</td></tr><tr><td>val_acc</td><td>0.78234</td></tr><tr><td>_runtime</td><td>3438</td></tr><tr><td>_timestamp</td><td>1616014265</td></tr><tr><td>_step</td><td>2</td></tr><tr><td>best_val_loss</td><td>0.47064</td></tr><tr><td>best_epoch</td><td>1</td></tr></table>"
            ],
            "text/plain": [
              "<IPython.core.display.HTML object>"
            ]
          },
          "metadata": {
            "tags": []
          }
        },
        {
          "output_type": "display_data",
          "data": {
            "text/html": [
              "<h3>Run history:</h3><br/><style>\n",
              "    table.wandb td:nth-child(1) { padding: 0 10px; text-align: right }\n",
              "    </style><table class=\"wandb\">\n",
              "<tr><td>epoch</td><td>▁▅█</td></tr><tr><td>loss</td><td>█▄▁</td></tr><tr><td>acc</td><td>▁▆█</td></tr><tr><td>val_loss</td><td>█▁▂</td></tr><tr><td>val_acc</td><td>▁▇█</td></tr><tr><td>_runtime</td><td>▁▄█</td></tr><tr><td>_timestamp</td><td>▁▄█</td></tr><tr><td>_step</td><td>▁▅█</td></tr></table><br/>"
            ],
            "text/plain": [
              "<IPython.core.display.HTML object>"
            ]
          },
          "metadata": {
            "tags": []
          }
        },
        {
          "output_type": "display_data",
          "data": {
            "text/html": [
              "Synced 5 W&B file(s), 1 media file(s), 0 artifact file(s) and 1 other file(s)"
            ],
            "text/plain": [
              "<IPython.core.display.HTML object>"
            ]
          },
          "metadata": {
            "tags": []
          }
        },
        {
          "output_type": "display_data",
          "data": {
            "text/html": [
              "\n",
              "                    <br/>Synced <strong style=\"color:#cdcd00\">lemon-flower-3</strong>: <a href=\"https://wandb.ai/lucialarraona/Zero_shot_siamese/runs/5updt3tq\" target=\"_blank\">https://wandb.ai/lucialarraona/Zero_shot_siamese/runs/5updt3tq</a><br/>\n",
              "                "
            ],
            "text/plain": [
              "<IPython.core.display.HTML object>"
            ]
          },
          "metadata": {
            "tags": []
          }
        }
      ]
    },
    {
      "cell_type": "code",
      "metadata": {
        "id": "zVS3rWVYEq0s"
      },
      "source": [
        "model.save(\"drive/MyDrive/TFG/siamese_2.h5\")"
      ],
      "execution_count": null,
      "outputs": []
    },
    {
      "cell_type": "code",
      "metadata": {
        "id": "2Lkf4Dih6wx6"
      },
      "source": [
        "model_siamese = keras.models.load_model(\"drive/MyDrive/TFG/siamese_2.h5\")"
      ],
      "execution_count": null,
      "outputs": []
    },
    {
      "cell_type": "code",
      "metadata": {
        "id": "J7PyfKictsGL"
      },
      "source": [
        "X_test_final = [test_sent1_seq,test_sent2_seq]\n",
        "y_test_final = y_test.values.reshape(-1,1)\n",
        "\n",
        "\n",
        "y_pred_test = model_siamese.predict(X_test_final)\n"
      ],
      "execution_count": null,
      "outputs": []
    },
    {
      "cell_type": "code",
      "metadata": {
        "id": "8rFMGv6ym8TI"
      },
      "source": [
        "y_pred_test_mapped= np.where(y_pred_test > 0.5, 1, 0)"
      ],
      "execution_count": null,
      "outputs": []
    },
    {
      "cell_type": "code",
      "metadata": {
        "colab": {
          "base_uri": "https://localhost:8080/"
        },
        "id": "s10Y_7b9vGB2",
        "outputId": "dd843adb-abd3-4137-8112-3cbde1c97ade"
      },
      "source": [
        "print(X_test['sent1'].values[110])\n",
        "print(X_test['sent2'].values[110])\n",
        "print(y_pred_test[110]) # similaridad\n",
        "print(y_pred_test_mapped[110]) #clase"
      ],
      "execution_count": null,
      "outputs": [
        {
          "output_type": "stream",
          "text": [
            "The desk looked great after assembling, which wasn't overly difficult. The box was well packed & instructions were adequate. My only complaint would be regard to the collar for wiring/cables to go thru - cheap, super thin plastic that cracked apart during assembly. Needs to be soft rubber.\n",
            "Not what I expected but gets the job done.\n",
            "[0.43280742]\n",
            "[0]\n"
          ],
          "name": "stdout"
        }
      ]
    },
    {
      "cell_type": "code",
      "metadata": {
        "id": "UqTyfDFfubJa"
      },
      "source": [
        "## Función evaluación dato  \n",
        "from sklearn.metrics import confusion_matrix\n",
        "import seaborn as sns\n",
        "import pandas as pd\n",
        "import matplotlib.pyplot as plt\n",
        "from sklearn.metrics import classification_report\n",
        "\n",
        "def eval_model(model,test_data,test_labels):\n",
        "\n",
        "  \"\"\"\n",
        "  Recibe el modelo, el dato de test ya procesado (x idioma) y las true labels\n",
        "  \"\"\"\n",
        "  loss,acc = model.evaluate(x=test_data, \n",
        "                            y=test_labels, \n",
        "                            batch_size=64, \n",
        "                            verbose=1)\n",
        "  \n",
        "  \n",
        "  predictions = model.predict(test_data)\n",
        "  predictions = np.where(predictions > 0.5, 1, 0)\n",
        "  matrix = confusion_matrix(test_labels, predictions)\n",
        "  plt.figure(figsize = (5,3))\n",
        "  sns.heatmap(matrix/np.sum(matrix), annot=True, \n",
        "              fmt='.2%', cmap='Purples')\n",
        "  plt.xlabel(\"Predicted class\")\n",
        "  plt.ylabel(\"True class\") \n",
        "\n",
        "  clas_report = classification_report(test_labels, predictions)\n",
        "\n",
        "  return print(clas_report)"
      ],
      "execution_count": null,
      "outputs": []
    },
    {
      "cell_type": "code",
      "metadata": {
        "colab": {
          "base_uri": "https://localhost:8080/",
          "height": 387
        },
        "id": "HCtl01OSu1eG",
        "outputId": "5a0a5f55-1eb0-4f04-835d-9ca2e0359a47"
      },
      "source": [
        "eval_model(model_siamese,X_test_final,y_test_final)"
      ],
      "execution_count": null,
      "outputs": [
        {
          "output_type": "stream",
          "text": [
            "126/126 [==============================] - 104s 822ms/step - loss: 0.4869 - acc: 0.7769\n",
            "              precision    recall  f1-score   support\n",
            "\n",
            "           0       0.82      0.71      0.76      3959\n",
            "           1       0.75      0.85      0.79      4042\n",
            "\n",
            "    accuracy                           0.78      8001\n",
            "   macro avg       0.78      0.78      0.78      8001\n",
            "weighted avg       0.78      0.78      0.78      8001\n",
            "\n"
          ],
          "name": "stdout"
        },
        {
          "output_type": "display_data",
          "data": {
            "image/png": "[encoded data removed]",
            "text/plain": [
              "<Figure size 360x216 with 2 Axes>"
            ]
          },
          "metadata": {
            "tags": [],
            "needs_background": "light"
          }
        }
      ]
    },
    {
      "cell_type": "markdown",
      "metadata": {
        "id": "DD-hDC5x1yCs"
      },
      "source": [
        "#### Evaluación  en otros idiomas"
      ]
    },
    {
      "cell_type": "code",
      "metadata": {
        "id": "tsZ0SObA1xGh"
      },
      "source": [
        "model_siamese = keras.models.load_model(\"drive/MyDrive/TFG/siamese_2.h5\")"
      ],
      "execution_count": null,
      "outputs": []
    },
    {
      "cell_type": "markdown",
      "metadata": {
        "id": "EU_kUlnr39uX"
      },
      "source": [
        "##### Dato Español"
      ]
    },
    {
      "cell_type": "code",
      "metadata": {
        "colab": {
          "base_uri": "https://localhost:8080/",
          "height": 191
        },
        "id": "3JgZdSmG1yCt",
        "outputId": "ee29b471-f0c3-4fc5-dc84-534275dceec7"
      },
      "source": [
        "## Import data pairs :\n",
        "\n",
        "final_dataframe = pd.read_csv('drive/MyDrive/TFG/review_pairs_downsampled_ES.csv')\n",
        "final_dataframe.head()"
      ],
      "execution_count": null,
      "outputs": [
        {
          "output_type": "execute_result",
          "data": {
            "text/html": [
              "<div>\n",
              "<style scoped>\n",
              "    .dataframe tbody tr th:only-of-type {\n",
              "        vertical-align: middle;\n",
              "    }\n",
              "\n",
              "    .dataframe tbody tr th {\n",
              "        vertical-align: top;\n",
              "    }\n",
              "\n",
              "    .dataframe thead th {\n",
              "        text-align: right;\n",
              "    }\n",
              "</style>\n",
              "<table border=\"1\" class=\"dataframe\">\n",
              "  <thead>\n",
              "    <tr style=\"text-align: right;\">\n",
              "      <th></th>\n",
              "      <th>sent1</th>\n",
              "      <th>sent2</th>\n",
              "      <th>is_duplicate</th>\n",
              "    </tr>\n",
              "  </thead>\n",
              "  <tbody>\n",
              "    <tr>\n",
              "      <th>0</th>\n",
              "      <td>El producto llegó antes de tiempo, pero no es ...</td>\n",
              "      <td>No me ha llegado todavía va tardisimo después ...</td>\n",
              "      <td>1</td>\n",
              "    </tr>\n",
              "    <tr>\n",
              "      <th>1</th>\n",
              "      <td>Me ha gustado ya que es muy aparente para expo...</td>\n",
              "      <td>No viene foto completa del puzzle. La unica fo...</td>\n",
              "      <td>0</td>\n",
              "    </tr>\n",
              "    <tr>\n",
              "      <th>2</th>\n",
              "      <td>Malísimo. Francamente no me sirve para nada po...</td>\n",
              "      <td>Era un regalo para mi hijo. Lo está usando y e...</td>\n",
              "      <td>0</td>\n",
              "    </tr>\n",
              "    <tr>\n",
              "      <th>3</th>\n",
              "      <td>no ha durado ni un mes, cuando le pones la pil...</td>\n",
              "      <td>es una basura los botones se han caído, humeda...</td>\n",
              "      <td>1</td>\n",
              "    </tr>\n",
              "    <tr>\n",
              "      <th>4</th>\n",
              "      <td>No ajusta el botón con el espadín de la origin...</td>\n",
              "      <td>Por el precio que son estan muy bien. No se ve...</td>\n",
              "      <td>0</td>\n",
              "    </tr>\n",
              "  </tbody>\n",
              "</table>\n",
              "</div>"
            ],
            "text/plain": [
              "                                               sent1  ... is_duplicate\n",
              "0  El producto llegó antes de tiempo, pero no es ...  ...            1\n",
              "1  Me ha gustado ya que es muy aparente para expo...  ...            0\n",
              "2  Malísimo. Francamente no me sirve para nada po...  ...            0\n",
              "3  no ha durado ni un mes, cuando le pones la pil...  ...            1\n",
              "4  No ajusta el botón con el espadín de la origin...  ...            0\n",
              "\n",
              "[5 rows x 3 columns]"
            ]
          },
          "metadata": {
            "tags": []
          },
          "execution_count": 12
        }
      ]
    },
    {
      "cell_type": "code",
      "metadata": {
        "colab": {
          "base_uri": "https://localhost:8080/"
        },
        "id": "Wnupeegz1yCu",
        "outputId": "d08d6abb-7b1c-4abe-dc0b-9d05ba4d2022"
      },
      "source": [
        "# Dividimos el dato de entrenamiento\n",
        "\n",
        "from sklearn.model_selection import train_test_split\n",
        "\n",
        "X_temp, X_test, y_temp, y_test = train_test_split(final_dataframe[['sent1', 'sent2']], final_dataframe['is_duplicate'], test_size=0.2, random_state=42)\n",
        "\n",
        "X_train, X_val, y_train, y_val = train_test_split(X_temp, y_temp, test_size=0.2, random_state=42)\n",
        "\n",
        "print(X_train.shape)\n",
        "print(y_train.shape)\n",
        "print(X_val.shape)\n",
        "print(y_val.shape)\n",
        "print(X_test.shape)\n",
        "print(y_test.shape)"
      ],
      "execution_count": null,
      "outputs": [
        {
          "output_type": "stream",
          "text": [
            "(1280, 2)\n",
            "(1280,)\n",
            "(321, 2)\n",
            "(321,)\n",
            "(401, 2)\n",
            "(401,)\n"
          ],
          "name": "stdout"
        }
      ]
    },
    {
      "cell_type": "code",
      "metadata": {
        "id": "HyXlK9Cs1yCv"
      },
      "source": [
        "# Concatenación sentence 1 y sentence 2 para poder sacar el vocabulario de todos los textos\n",
        "%%capture\n",
        "X_train[\"text\"] = X_train[\"sent1\"] + \" \" + X_train[\"sent2\"]\n"
      ],
      "execution_count": null,
      "outputs": []
    },
    {
      "cell_type": "code",
      "metadata": {
        "colab": {
          "base_uri": "https://localhost:8080/"
        },
        "id": "oE2dALPE3ecn",
        "outputId": "ed006b79-beb2-4229-fbe0-28ecf730d495"
      },
      "source": [
        "X_train['text'] = X_train['text'].astype(str)"
      ],
      "execution_count": null,
      "outputs": [
        {
          "output_type": "stream",
          "text": [
            "/usr/local/lib/python3.7/dist-packages/ipykernel_launcher.py:1: SettingWithCopyWarning: \n",
            "A value is trying to be set on a copy of a slice from a DataFrame.\n",
            "Try using .loc[row_indexer,col_indexer] = value instead\n",
            "\n",
            "See the caveats in the documentation: https://pandas.pydata.org/pandas-docs/stable/user_guide/indexing.html#returning-a-view-versus-a-copy\n",
            "  \"\"\"Entry point for launching an IPython kernel.\n"
          ],
          "name": "stderr"
        }
      ]
    },
    {
      "cell_type": "code",
      "metadata": {
        "colab": {
          "base_uri": "https://localhost:8080/",
          "height": 191
        },
        "id": "IcV2gUou1yCv",
        "outputId": "e19dcd64-b6d2-4eb6-83ce-1824d7902797"
      },
      "source": [
        "X_train.head()"
      ],
      "execution_count": null,
      "outputs": [
        {
          "output_type": "execute_result",
          "data": {
            "text/html": [
              "<div>\n",
              "<style scoped>\n",
              "    .dataframe tbody tr th:only-of-type {\n",
              "        vertical-align: middle;\n",
              "    }\n",
              "\n",
              "    .dataframe tbody tr th {\n",
              "        vertical-align: top;\n",
              "    }\n",
              "\n",
              "    .dataframe thead th {\n",
              "        text-align: right;\n",
              "    }\n",
              "</style>\n",
              "<table border=\"1\" class=\"dataframe\">\n",
              "  <thead>\n",
              "    <tr style=\"text-align: right;\">\n",
              "      <th></th>\n",
              "      <th>sent1</th>\n",
              "      <th>sent2</th>\n",
              "      <th>text</th>\n",
              "    </tr>\n",
              "  </thead>\n",
              "  <tbody>\n",
              "    <tr>\n",
              "      <th>1419</th>\n",
              "      <td>El disfraz es tal y como se ve en la foto, y l...</td>\n",
              "      <td>Buena e interesante información bastante actua...</td>\n",
              "      <td>El disfraz es tal y como se ve en la foto, y l...</td>\n",
              "    </tr>\n",
              "    <tr>\n",
              "      <th>1428</th>\n",
              "      <td>Una bonita historia en un relato breve. Para s...</td>\n",
              "      <td>pero no tiene nada especial que la distinga de...</td>\n",
              "      <td>Una bonita historia en un relato breve. Para s...</td>\n",
              "    </tr>\n",
              "    <tr>\n",
              "      <th>1305</th>\n",
              "      <td>Papel resistente. Portadas de tacto suave pero...</td>\n",
              "      <td>Se ajusta a lo pedido, buen material, servido ...</td>\n",
              "      <td>Papel resistente. Portadas de tacto suave pero...</td>\n",
              "    </tr>\n",
              "    <tr>\n",
              "      <th>1067</th>\n",
              "      <td>Muy sencillo y de baja calidad</td>\n",
              "      <td>Todo correcto, recibido en el plazo establecid...</td>\n",
              "      <td>Muy sencillo y de baja calidad Todo correcto, ...</td>\n",
              "    </tr>\n",
              "    <tr>\n",
              "      <th>992</th>\n",
              "      <td>La tienda increíblemente atenta. No había vist...</td>\n",
              "      <td>Cumple las expectativas, calidad precio bastan...</td>\n",
              "      <td>La tienda increíblemente atenta. No había vist...</td>\n",
              "    </tr>\n",
              "  </tbody>\n",
              "</table>\n",
              "</div>"
            ],
            "text/plain": [
              "                                                  sent1  ...                                               text\n",
              "1419  El disfraz es tal y como se ve en la foto, y l...  ...  El disfraz es tal y como se ve en la foto, y l...\n",
              "1428  Una bonita historia en un relato breve. Para s...  ...  Una bonita historia en un relato breve. Para s...\n",
              "1305  Papel resistente. Portadas de tacto suave pero...  ...  Papel resistente. Portadas de tacto suave pero...\n",
              "1067                     Muy sencillo y de baja calidad  ...  Muy sencillo y de baja calidad Todo correcto, ...\n",
              "992   La tienda increíblemente atenta. No había vist...  ...  La tienda increíblemente atenta. No había vist...\n",
              "\n",
              "[5 rows x 3 columns]"
            ]
          },
          "metadata": {
            "tags": []
          },
          "execution_count": 15
        }
      ]
    },
    {
      "cell_type": "code",
      "metadata": {
        "id": "Uw54J4901yCv"
      },
      "source": [
        "%%capture\n",
        "import tensorflow as tf\n",
        "import keras\n",
        "import keras.backend as K\n",
        "from keras.preprocessing.text import Tokenizer\n",
        "from keras.preprocessing.sequence import pad_sequences\n",
        "from keras.layers import Input, Concatenate, Conv2D, Flatten, Dense, Embedding, LSTM\n",
        "from keras.models import Model\n",
        "\n",
        "## Creamos tokenizer a partir de el vocabulario de la columna text (ambas sentences)\n",
        "t = Tokenizer()\n",
        "t.fit_on_texts(X_train['text'].values)\n",
        "vocab_size = len(t.word_index)+1\n",
        "\n",
        "## Convertimos a string\n",
        "X_train['sent1'] = X_train['sent1'].astype(str)\n",
        "X_train['sent2'] = X_train['sent2'].astype(str)\n",
        "\n",
        "X_val['sent1'] = X_val['sent1'].astype(str)\n",
        "X_val['sent2'] = X_val['sent2'].astype(str)\n",
        "\n",
        "X_test['sent1'] = X_test['sent1'].astype(str)\n",
        "X_test['sent2'] = X_test['sent2'].astype(str)\n",
        "\n",
        "## Aplicamos text_to_sequences para pasar a secuencia\n",
        "\n",
        "train_sent1_seq = t.texts_to_sequences(X_train['sent1'].values)\n",
        "train_sent2_seq = t.texts_to_sequences(X_train['sent2'].values)\n",
        "val_sent1_seq = t.texts_to_sequences(X_val['sent1'].values)\n",
        "val_sent2_seq = t.texts_to_sequences(X_val['sent2'].values)\n",
        "test_sent1_seq = t.texts_to_sequences(X_test['sent1'].values)\n",
        "test_sent2_seq = t.texts_to_sequences(X_test['sent2'].values)\n"
      ],
      "execution_count": null,
      "outputs": []
    },
    {
      "cell_type": "code",
      "metadata": {
        "colab": {
          "base_uri": "https://localhost:8080/",
          "height": 333
        },
        "id": "gpwZHZmd1yCw",
        "outputId": "7a551fa4-d4dc-401d-8f1b-4483c0b39fc5"
      },
      "source": [
        "# Comprobamos la distribución de las longitudes de secuencia para definir max_length\n",
        "len_vec = [len(sent_vec) for sent_vec in train_sent1_seq]\n",
        "np.max(len_vec)\n",
        "\n",
        "sns.distplot(len_vec)"
      ],
      "execution_count": null,
      "outputs": [
        {
          "output_type": "stream",
          "text": [
            "/usr/local/lib/python3.7/dist-packages/seaborn/distributions.py:2557: FutureWarning: `distplot` is a deprecated function and will be removed in a future version. Please adapt your code to use either `displot` (a figure-level function with similar flexibility) or `histplot` (an axes-level function for histograms).\n",
            "  warnings.warn(msg, FutureWarning)\n"
          ],
          "name": "stderr"
        },
        {
          "output_type": "execute_result",
          "data": {
            "text/plain": [
              "<matplotlib.axes._subplots.AxesSubplot at 0x7fa75dbb5150>"
            ]
          },
          "metadata": {
            "tags": []
          },
          "execution_count": 19
        },
        {
          "output_type": "display_data",
          "data": {
            "image/png": "[encoded data removed]",
            "text/plain": [
              "<Figure size 432x288 with 1 Axes>"
            ]
          },
          "metadata": {
            "tags": [],
            "needs_background": "light"
          }
        }
      ]
    },
    {
      "cell_type": "code",
      "metadata": {
        "id": "vrJO9THm1yCw"
      },
      "source": [
        "# Definimos maxima longitud de secuencia\n",
        "max_len = 260"
      ],
      "execution_count": null,
      "outputs": []
    },
    {
      "cell_type": "code",
      "metadata": {
        "id": "E1eGM5gJ1yCw"
      },
      "source": [
        "# Realizamos padding para igualar la longitud de las secuencias\n",
        "train_sent1_seq = pad_sequences(train_sent1_seq, maxlen=max_len, padding='post')\n",
        "train_sent2_seq = pad_sequences(train_sent2_seq, maxlen=max_len, padding='post')\n",
        "val_sent1_seq = pad_sequences(val_sent1_seq, maxlen=max_len, padding='post')\n",
        "val_sent2_seq = pad_sequences(val_sent2_seq, maxlen=max_len, padding='post')\n",
        "test_sent1_seq = pad_sequences(test_sent1_seq, maxlen=max_len, padding='post')\n",
        "test_sent2_seq = pad_sequences(test_sent2_seq, maxlen=max_len, padding='post')\n"
      ],
      "execution_count": null,
      "outputs": []
    },
    {
      "cell_type": "code",
      "metadata": {
        "id": "V6d5Dz_l1xbh"
      },
      "source": [
        ""
      ],
      "execution_count": null,
      "outputs": []
    },
    {
      "cell_type": "code",
      "metadata": {
        "id": "l7Ucyue4nn69"
      },
      "source": [
        "# Predict en Español\n",
        "X_test_final_es = [test_sent1_seq,test_sent2_seq]\n",
        "y_test_final_es = y_test.values.reshape(-1,1)\n",
        "\n",
        "y_pred_test_es = model_siamese.predict(X_test_final_es)"
      ],
      "execution_count": null,
      "outputs": []
    },
    {
      "cell_type": "code",
      "metadata": {
        "colab": {
          "base_uri": "https://localhost:8080/",
          "height": 387
        },
        "id": "J0tuv-sS3qdR",
        "outputId": "4364c2a8-036d-46e9-8cef-3adebb00a70d"
      },
      "source": [
        "eval_model(model_siamese,X_test_final_es,y_test_final_es)"
      ],
      "execution_count": null,
      "outputs": [
        {
          "output_type": "stream",
          "text": [
            "7/7 [==============================] - 7s 929ms/step - loss: 0.9390 - acc: 0.5062\n",
            "              precision    recall  f1-score   support\n",
            "\n",
            "           0       0.51      0.32      0.39       200\n",
            "           1       0.51      0.69      0.58       201\n",
            "\n",
            "    accuracy                           0.51       401\n",
            "   macro avg       0.51      0.51      0.49       401\n",
            "weighted avg       0.51      0.51      0.49       401\n",
            "\n"
          ],
          "name": "stdout"
        },
        {
          "output_type": "display_data",
          "data": {
            "image/png": "[encoded data removed]",
            "text/plain": [
              "<Figure size 360x216 with 2 Axes>"
            ]
          },
          "metadata": {
            "tags": [],
            "needs_background": "light"
          }
        }
      ]
    },
    {
      "cell_type": "code",
      "metadata": {
        "id": "-vO45bvw5GSd"
      },
      "source": [
        ""
      ],
      "execution_count": null,
      "outputs": []
    },
    {
      "cell_type": "markdown",
      "metadata": {
        "id": "sRMT4z_I5G4d"
      },
      "source": [
        "##### Dato Frances"
      ]
    },
    {
      "cell_type": "code",
      "metadata": {
        "colab": {
          "base_uri": "https://localhost:8080/"
        },
        "id": "ismciQvR5G4e",
        "outputId": "a4f05a6d-5d0f-4b7c-858c-ab82cd2fe1e4"
      },
      "source": [
        "## Import data pairs :\n",
        "\n",
        "final_dataframe = pd.read_csv('drive/MyDrive/TFG/review_pairs_downsampled_FR.csv')\n",
        "final_dataframe.head()"
      ],
      "execution_count": null,
      "outputs": [
        {
          "output_type": "execute_result",
          "data": {
            "text/html": [
              "<div>\n",
              "<style scoped>\n",
              "    .dataframe tbody tr th:only-of-type {\n",
              "        vertical-align: middle;\n",
              "    }\n",
              "\n",
              "    .dataframe tbody tr th {\n",
              "        vertical-align: top;\n",
              "    }\n",
              "\n",
              "    .dataframe thead th {\n",
              "        text-align: right;\n",
              "    }\n",
              "</style>\n",
              "<table border=\"1\" class=\"dataframe\">\n",
              "  <thead>\n",
              "    <tr style=\"text-align: right;\">\n",
              "      <th></th>\n",
              "      <th>sent1</th>\n",
              "      <th>sent2</th>\n",
              "      <th>is_duplicate</th>\n",
              "    </tr>\n",
              "  </thead>\n",
              "  <tbody>\n",
              "    <tr>\n",
              "      <th>0</th>\n",
              "      <td>Produit introuvable dans les magasins de brico...</td>\n",
              "      <td>emballage individuel très bon mais le colissag...</td>\n",
              "      <td>1</td>\n",
              "    </tr>\n",
              "    <tr>\n",
              "      <th>1</th>\n",
              "      <td>dès que je l'ai reçu il a plu l'apres midi. et...</td>\n",
              "      <td>acheté il y a 4 mois pour mettre sur une tombe...</td>\n",
              "      <td>1</td>\n",
              "    </tr>\n",
              "    <tr>\n",
              "      <th>2</th>\n",
              "      <td>Acheter pour ma fille produit de bonne qualité</td>\n",
              "      <td>Adapté pour le sony X compact, ne glisse pas (...</td>\n",
              "      <td>1</td>\n",
              "    </tr>\n",
              "    <tr>\n",
              "      <th>3</th>\n",
              "      <td>je n'ai pas reçu le produit j'ai un livre à la...</td>\n",
              "      <td>Remplacement ancien chargeur défectueux.</td>\n",
              "      <td>0</td>\n",
              "    </tr>\n",
              "    <tr>\n",
              "      <th>4</th>\n",
              "      <td>Pas très satisfait de ces lames que je pensais...</td>\n",
              "      <td>Ça laisse des traces au ventre c'est horrible</td>\n",
              "      <td>1</td>\n",
              "    </tr>\n",
              "  </tbody>\n",
              "</table>\n",
              "</div>"
            ],
            "text/plain": [
              "                                               sent1  ... is_duplicate\n",
              "0  Produit introuvable dans les magasins de brico...  ...            1\n",
              "1  dès que je l'ai reçu il a plu l'apres midi. et...  ...            1\n",
              "2     Acheter pour ma fille produit de bonne qualité  ...            1\n",
              "3  je n'ai pas reçu le produit j'ai un livre à la...  ...            0\n",
              "4  Pas très satisfait de ces lames que je pensais...  ...            1\n",
              "\n",
              "[5 rows x 3 columns]"
            ]
          },
          "metadata": {
            "tags": []
          },
          "execution_count": 151
        }
      ]
    },
    {
      "cell_type": "code",
      "metadata": {
        "colab": {
          "base_uri": "https://localhost:8080/"
        },
        "id": "zYCWbedU5G4f",
        "outputId": "f04f387c-c7f9-4b8d-d716-10389b91a2b3"
      },
      "source": [
        "# Dividimos el dato de entrenamiento\n",
        "\n",
        "from sklearn.model_selection import train_test_split\n",
        "\n",
        "X_temp, X_test, y_temp, y_test = train_test_split(final_dataframe[['sent1', 'sent2']], final_dataframe['is_duplicate'], test_size=0.2, random_state=42)\n",
        "\n",
        "X_train, X_val, y_train, y_val = train_test_split(X_temp, y_temp, test_size=0.2, random_state=42)\n",
        "\n",
        "print(X_train.shape)\n",
        "print(y_train.shape)\n",
        "print(X_val.shape)\n",
        "print(y_val.shape)\n",
        "print(X_test.shape)\n",
        "print(y_test.shape)"
      ],
      "execution_count": null,
      "outputs": [
        {
          "output_type": "stream",
          "text": [
            "(1278, 2)\n",
            "(1278,)\n",
            "(320, 2)\n",
            "(320,)\n",
            "(400, 2)\n",
            "(400,)\n"
          ],
          "name": "stdout"
        }
      ]
    },
    {
      "cell_type": "code",
      "metadata": {
        "id": "o8gOMRDV5G4f"
      },
      "source": [
        "# Concatenación sentence 1 y sentence 2 para poder sacar el vocabulario de todos los textos\n",
        "%%capture\n",
        "X_train[\"text\"] = X_train[\"sent1\"] + \" \" + X_train[\"sent2\"]\n"
      ],
      "execution_count": null,
      "outputs": []
    },
    {
      "cell_type": "code",
      "metadata": {
        "colab": {
          "base_uri": "https://localhost:8080/"
        },
        "id": "OlydfZHj5G4g",
        "outputId": "426f37cd-3fc2-44c9-daaf-c41a61c45b71"
      },
      "source": [
        "X_train['text'] = X_train['text'].astype(str)"
      ],
      "execution_count": null,
      "outputs": [
        {
          "output_type": "stream",
          "text": [
            "/usr/local/lib/python3.7/dist-packages/ipykernel_launcher.py:1: SettingWithCopyWarning: \n",
            "A value is trying to be set on a copy of a slice from a DataFrame.\n",
            "Try using .loc[row_indexer,col_indexer] = value instead\n",
            "\n",
            "See the caveats in the documentation: https://pandas.pydata.org/pandas-docs/stable/user_guide/indexing.html#returning-a-view-versus-a-copy\n",
            "  \"\"\"Entry point for launching an IPython kernel.\n"
          ],
          "name": "stderr"
        }
      ]
    },
    {
      "cell_type": "code",
      "metadata": {
        "colab": {
          "base_uri": "https://localhost:8080/"
        },
        "id": "4oyuyWFv5G4g",
        "outputId": "2155e2cd-f49a-4fa7-a8c2-cccb06683d10"
      },
      "source": [
        "X_train.head()"
      ],
      "execution_count": null,
      "outputs": [
        {
          "output_type": "execute_result",
          "data": {
            "text/html": [
              "<div>\n",
              "<style scoped>\n",
              "    .dataframe tbody tr th:only-of-type {\n",
              "        vertical-align: middle;\n",
              "    }\n",
              "\n",
              "    .dataframe tbody tr th {\n",
              "        vertical-align: top;\n",
              "    }\n",
              "\n",
              "    .dataframe thead th {\n",
              "        text-align: right;\n",
              "    }\n",
              "</style>\n",
              "<table border=\"1\" class=\"dataframe\">\n",
              "  <thead>\n",
              "    <tr style=\"text-align: right;\">\n",
              "      <th></th>\n",
              "      <th>sent1</th>\n",
              "      <th>sent2</th>\n",
              "      <th>text</th>\n",
              "    </tr>\n",
              "  </thead>\n",
              "  <tbody>\n",
              "    <tr>\n",
              "      <th>1404</th>\n",
              "      <td>Commande payer et pas reçu Envoyer plusieurs m...</td>\n",
              "      <td>La charge et l'ampérage sont très bon pour un ...</td>\n",
              "      <td>Commande payer et pas reçu Envoyer plusieurs m...</td>\n",
              "    </tr>\n",
              "    <tr>\n",
              "      <th>1185</th>\n",
              "      <td>Couvercle du sel défectueux ne ferme pas. On m...</td>\n",
              "      <td>Effectivement excellent appareil.de fitness..t...</td>\n",
              "      <td>Couvercle du sel défectueux ne ferme pas. On m...</td>\n",
              "    </tr>\n",
              "    <tr>\n",
              "      <th>48</th>\n",
              "      <td>Bonjour, J'ai mis cette note pour la globalité...</td>\n",
              "      <td>Bin produit mais pas conforme a l image il man...</td>\n",
              "      <td>Bonjour, J'ai mis cette note pour la globalité...</td>\n",
              "    </tr>\n",
              "    <tr>\n",
              "      <th>1921</th>\n",
              "      <td>j'ai placé la 1ere vitre il y a 10 jours et el...</td>\n",
              "      <td>On voit que c'est du toc, mais pour le prix c'...</td>\n",
              "      <td>j'ai placé la 1ere vitre il y a 10 jours et el...</td>\n",
              "    </tr>\n",
              "    <tr>\n",
              "      <th>60</th>\n",
              "      <td>Bonjour, nous avons acheté cette calculatrice ...</td>\n",
              "      <td>Lot de 6 paires de chaussettes, top grande par...</td>\n",
              "      <td>Bonjour, nous avons acheté cette calculatrice ...</td>\n",
              "    </tr>\n",
              "  </tbody>\n",
              "</table>\n",
              "</div>"
            ],
            "text/plain": [
              "                                                  sent1  ...                                               text\n",
              "1404  Commande payer et pas reçu Envoyer plusieurs m...  ...  Commande payer et pas reçu Envoyer plusieurs m...\n",
              "1185  Couvercle du sel défectueux ne ferme pas. On m...  ...  Couvercle du sel défectueux ne ferme pas. On m...\n",
              "48    Bonjour, J'ai mis cette note pour la globalité...  ...  Bonjour, J'ai mis cette note pour la globalité...\n",
              "1921  j'ai placé la 1ere vitre il y a 10 jours et el...  ...  j'ai placé la 1ere vitre il y a 10 jours et el...\n",
              "60    Bonjour, nous avons acheté cette calculatrice ...  ...  Bonjour, nous avons acheté cette calculatrice ...\n",
              "\n",
              "[5 rows x 3 columns]"
            ]
          },
          "metadata": {
            "tags": []
          },
          "execution_count": 155
        }
      ]
    },
    {
      "cell_type": "code",
      "metadata": {
        "id": "NeG0TZ385G4h"
      },
      "source": [
        "%%capture\n",
        "import tensorflow as tf\n",
        "import keras\n",
        "import keras.backend as K\n",
        "from keras.preprocessing.text import Tokenizer\n",
        "from keras.preprocessing.sequence import pad_sequences\n",
        "from keras.layers import Input, Concatenate, Conv2D, Flatten, Dense, Embedding, LSTM\n",
        "from keras.models import Model\n",
        "\n",
        "## Creamos tokenizer a partir de el vocabulario de la columna text (ambas sentences)\n",
        "t = Tokenizer()\n",
        "t.fit_on_texts(X_train['text'].values)\n",
        "vocab_size = len(t.word_index)+1\n",
        "\n",
        "## Convertimos a string\n",
        "X_train['sent1'] = X_train['sent1'].astype(str)\n",
        "X_train['sent2'] = X_train['sent2'].astype(str)\n",
        "\n",
        "X_val['sent1'] = X_val['sent1'].astype(str)\n",
        "X_val['sent2'] = X_val['sent2'].astype(str)\n",
        "\n",
        "X_test['sent1'] = X_test['sent1'].astype(str)\n",
        "X_test['sent2'] = X_test['sent2'].astype(str)\n",
        "\n",
        "## Aplicamos text_to_sequences para pasar a secuencia\n",
        "\n",
        "train_sent1_seq = t.texts_to_sequences(X_train['sent1'].values)\n",
        "train_sent2_seq = t.texts_to_sequences(X_train['sent2'].values)\n",
        "val_sent1_seq = t.texts_to_sequences(X_val['sent1'].values)\n",
        "val_sent2_seq = t.texts_to_sequences(X_val['sent2'].values)\n",
        "test_sent1_seq = t.texts_to_sequences(X_test['sent1'].values)\n",
        "test_sent2_seq = t.texts_to_sequences(X_test['sent2'].values)\n"
      ],
      "execution_count": null,
      "outputs": []
    },
    {
      "cell_type": "code",
      "metadata": {
        "colab": {
          "base_uri": "https://localhost:8080/"
        },
        "id": "rFF6jqnC5G4h",
        "outputId": "cfe1b807-1de3-4adb-d58b-2bead71c6ac8"
      },
      "source": [
        "# Comprobamos la distribución de las longitudes de secuencia para definir max_length\n",
        "len_vec = [len(sent_vec) for sent_vec in train_sent1_seq]\n",
        "np.max(len_vec)\n",
        "\n",
        "sns.distplot(len_vec)"
      ],
      "execution_count": null,
      "outputs": [
        {
          "output_type": "stream",
          "text": [
            "/usr/local/lib/python3.7/dist-packages/seaborn/distributions.py:2557: FutureWarning: `distplot` is a deprecated function and will be removed in a future version. Please adapt your code to use either `displot` (a figure-level function with similar flexibility) or `histplot` (an axes-level function for histograms).\n",
            "  warnings.warn(msg, FutureWarning)\n"
          ],
          "name": "stderr"
        },
        {
          "output_type": "execute_result",
          "data": {
            "text/plain": [
              "<matplotlib.axes._subplots.AxesSubplot at 0x7fa75ddb2910>"
            ]
          },
          "metadata": {
            "tags": []
          },
          "execution_count": 157
        },
        {
          "output_type": "display_data",
          "data": {
            "image/png": "[encoded data removed]",
            "text/plain": [
              "<Figure size 432x288 with 1 Axes>"
            ]
          },
          "metadata": {
            "tags": [],
            "needs_background": "light"
          }
        }
      ]
    },
    {
      "cell_type": "code",
      "metadata": {
        "id": "5coLqdX55G4i"
      },
      "source": [
        "# Definimos maxima longitud de secuencia\n",
        "max_len = 260"
      ],
      "execution_count": null,
      "outputs": []
    },
    {
      "cell_type": "code",
      "metadata": {
        "id": "NH-qcepP5G4j"
      },
      "source": [
        "# Realizamos padding para igualar la longitud de las secuencias\n",
        "train_sent1_seq = pad_sequences(train_sent1_seq, maxlen=max_len, padding='post')\n",
        "train_sent2_seq = pad_sequences(train_sent2_seq, maxlen=max_len, padding='post')\n",
        "val_sent1_seq = pad_sequences(val_sent1_seq, maxlen=max_len, padding='post')\n",
        "val_sent2_seq = pad_sequences(val_sent2_seq, maxlen=max_len, padding='post')\n",
        "test_sent1_seq = pad_sequences(test_sent1_seq, maxlen=max_len, padding='post')\n",
        "test_sent2_seq = pad_sequences(test_sent2_seq, maxlen=max_len, padding='post')\n"
      ],
      "execution_count": null,
      "outputs": []
    },
    {
      "cell_type": "code",
      "metadata": {
        "id": "vezzxf1N5G4j"
      },
      "source": [
        ""
      ],
      "execution_count": null,
      "outputs": []
    },
    {
      "cell_type": "code",
      "metadata": {
        "id": "tO9iaUgE5G4j"
      },
      "source": [
        "# Predict en Español\n",
        "X_test_final_fr = [test_sent1_seq,test_sent2_seq]\n",
        "y_test_final_fr = y_test.values.reshape(-1,1)\n",
        "\n",
        "y_pred_test_es = model_siamese.predict(X_test_final_fr)"
      ],
      "execution_count": null,
      "outputs": []
    },
    {
      "cell_type": "code",
      "metadata": {
        "colab": {
          "base_uri": "https://localhost:8080/"
        },
        "id": "98bjKV5-5G4k",
        "outputId": "2bd63ec7-d475-43ad-a9a1-46e48283f330"
      },
      "source": [
        "eval_model(model_siamese,X_test_final_fr,y_test_final_fr)"
      ],
      "execution_count": null,
      "outputs": [
        {
          "output_type": "stream",
          "text": [
            "7/7 [==============================] - 6s 784ms/step - loss: 0.9594 - acc: 0.5000\n",
            "              precision    recall  f1-score   support\n",
            "\n",
            "           0       0.48      0.31      0.38       194\n",
            "           1       0.51      0.67      0.58       206\n",
            "\n",
            "    accuracy                           0.50       400\n",
            "   macro avg       0.49      0.49      0.48       400\n",
            "weighted avg       0.49      0.50      0.48       400\n",
            "\n"
          ],
          "name": "stdout"
        },
        {
          "output_type": "display_data",
          "data": {
            "image/png": "[encoded data removed]",
            "text/plain": [
              "<Figure size 360x216 with 2 Axes>"
            ]
          },
          "metadata": {
            "tags": [],
            "needs_background": "light"
          }
        }
      ]
    },
    {
      "cell_type": "code",
      "metadata": {
        "id": "e53_4-xc5R_a"
      },
      "source": [
        ""
      ],
      "execution_count": null,
      "outputs": []
    },
    {
      "cell_type": "markdown",
      "metadata": {
        "id": "Fizxg3Kw5SV_"
      },
      "source": [
        "##### Dato Aleman"
      ]
    },
    {
      "cell_type": "code",
      "metadata": {
        "colab": {
          "base_uri": "https://localhost:8080/"
        },
        "id": "gHF0I41g5SWA",
        "outputId": "1be14444-52a2-4df8-df10-c6e282b1fb03"
      },
      "source": [
        "## Import data pairs :\n",
        "\n",
        "final_dataframe = pd.read_csv('drive/MyDrive/TFG/review_pairs_downsampled_DE.csv')\n",
        "final_dataframe.head()"
      ],
      "execution_count": null,
      "outputs": [
        {
          "output_type": "execute_result",
          "data": {
            "text/html": [
              "<div>\n",
              "<style scoped>\n",
              "    .dataframe tbody tr th:only-of-type {\n",
              "        vertical-align: middle;\n",
              "    }\n",
              "\n",
              "    .dataframe tbody tr th {\n",
              "        vertical-align: top;\n",
              "    }\n",
              "\n",
              "    .dataframe thead th {\n",
              "        text-align: right;\n",
              "    }\n",
              "</style>\n",
              "<table border=\"1\" class=\"dataframe\">\n",
              "  <thead>\n",
              "    <tr style=\"text-align: right;\">\n",
              "      <th></th>\n",
              "      <th>sent1</th>\n",
              "      <th>sent2</th>\n",
              "      <th>is_duplicate</th>\n",
              "    </tr>\n",
              "  </thead>\n",
              "  <tbody>\n",
              "    <tr>\n",
              "      <th>0</th>\n",
              "      <td>Ist leider noch nicht bei mir angekommen. Lang...</td>\n",
              "      <td>Sehr dünnes Material, gute Verarbeitung und mo...</td>\n",
              "      <td>0</td>\n",
              "    </tr>\n",
              "    <tr>\n",
              "      <th>1</th>\n",
              "      <td>Die Matte löst sich nach nur 6 Monaten im Wass...</td>\n",
              "      <td>Eigentlich kauft man sich eine Hülle um das Sm...</td>\n",
              "      <td>1</td>\n",
              "    </tr>\n",
              "    <tr>\n",
              "      <th>2</th>\n",
              "      <td>Kann mich nur anschließen, dass der Service de...</td>\n",
              "      <td>Ich hab mich schon gewundert, dass eine Pumpe,...</td>\n",
              "      <td>1</td>\n",
              "    </tr>\n",
              "    <tr>\n",
              "      <th>3</th>\n",
              "      <td>Die Dinger halten nicht gut. Das verwendete do...</td>\n",
              "      <td>Case liegt gut in der Hand, allerdings schirmt...</td>\n",
              "      <td>1</td>\n",
              "    </tr>\n",
              "    <tr>\n",
              "      <th>4</th>\n",
              "      <td>Gutes Trampolin. Macht meinen Kindern (3,5 und...</td>\n",
              "      <td>Das Shirt fällt etwas breiter aus. Ansonsten b...</td>\n",
              "      <td>1</td>\n",
              "    </tr>\n",
              "  </tbody>\n",
              "</table>\n",
              "</div>"
            ],
            "text/plain": [
              "                                               sent1  ... is_duplicate\n",
              "0  Ist leider noch nicht bei mir angekommen. Lang...  ...            0\n",
              "1  Die Matte löst sich nach nur 6 Monaten im Wass...  ...            1\n",
              "2  Kann mich nur anschließen, dass der Service de...  ...            1\n",
              "3  Die Dinger halten nicht gut. Das verwendete do...  ...            1\n",
              "4  Gutes Trampolin. Macht meinen Kindern (3,5 und...  ...            1\n",
              "\n",
              "[5 rows x 3 columns]"
            ]
          },
          "metadata": {
            "tags": []
          },
          "execution_count": 162
        }
      ]
    },
    {
      "cell_type": "code",
      "metadata": {
        "colab": {
          "base_uri": "https://localhost:8080/"
        },
        "id": "miXopYNX5SWA",
        "outputId": "1948f037-04fc-44a7-a691-efcb584302db"
      },
      "source": [
        "# Dividimos el dato de entrenamiento\n",
        "\n",
        "from sklearn.model_selection import train_test_split\n",
        "\n",
        "X_temp, X_test, y_temp, y_test = train_test_split(final_dataframe[['sent1', 'sent2']], final_dataframe['is_duplicate'], test_size=0.2, random_state=42)\n",
        "\n",
        "X_train, X_val, y_train, y_val = train_test_split(X_temp, y_temp, test_size=0.2, random_state=42)\n",
        "\n",
        "print(X_train.shape)\n",
        "print(y_train.shape)\n",
        "print(X_val.shape)\n",
        "print(y_val.shape)\n",
        "print(X_test.shape)\n",
        "print(y_test.shape)"
      ],
      "execution_count": null,
      "outputs": [
        {
          "output_type": "stream",
          "text": [
            "(1286, 2)\n",
            "(1286,)\n",
            "(322, 2)\n",
            "(322,)\n",
            "(402, 2)\n",
            "(402,)\n"
          ],
          "name": "stdout"
        }
      ]
    },
    {
      "cell_type": "code",
      "metadata": {
        "id": "8JkSKLlm5SWA"
      },
      "source": [
        "# Concatenación sentence 1 y sentence 2 para poder sacar el vocabulario de todos los textos\n",
        "%%capture\n",
        "X_train[\"text\"] = X_train[\"sent1\"] + \" \" + X_train[\"sent2\"]\n"
      ],
      "execution_count": null,
      "outputs": []
    },
    {
      "cell_type": "code",
      "metadata": {
        "colab": {
          "base_uri": "https://localhost:8080/"
        },
        "id": "IiVbA_8W5SWB",
        "outputId": "5942e368-9725-4297-ffd7-3a9098017d81"
      },
      "source": [
        "X_train['text'] = X_train['text'].astype(str)"
      ],
      "execution_count": null,
      "outputs": [
        {
          "output_type": "stream",
          "text": [
            "/usr/local/lib/python3.7/dist-packages/ipykernel_launcher.py:1: SettingWithCopyWarning: \n",
            "A value is trying to be set on a copy of a slice from a DataFrame.\n",
            "Try using .loc[row_indexer,col_indexer] = value instead\n",
            "\n",
            "See the caveats in the documentation: https://pandas.pydata.org/pandas-docs/stable/user_guide/indexing.html#returning-a-view-versus-a-copy\n",
            "  \"\"\"Entry point for launching an IPython kernel.\n"
          ],
          "name": "stderr"
        }
      ]
    },
    {
      "cell_type": "code",
      "metadata": {
        "colab": {
          "base_uri": "https://localhost:8080/"
        },
        "id": "X63Hvu1t5SWB",
        "outputId": "ad59d223-e772-4c09-eef6-50f3d15f65c1"
      },
      "source": [
        "X_train.head()"
      ],
      "execution_count": null,
      "outputs": [
        {
          "output_type": "execute_result",
          "data": {
            "text/html": [
              "<div>\n",
              "<style scoped>\n",
              "    .dataframe tbody tr th:only-of-type {\n",
              "        vertical-align: middle;\n",
              "    }\n",
              "\n",
              "    .dataframe tbody tr th {\n",
              "        vertical-align: top;\n",
              "    }\n",
              "\n",
              "    .dataframe thead th {\n",
              "        text-align: right;\n",
              "    }\n",
              "</style>\n",
              "<table border=\"1\" class=\"dataframe\">\n",
              "  <thead>\n",
              "    <tr style=\"text-align: right;\">\n",
              "      <th></th>\n",
              "      <th>sent1</th>\n",
              "      <th>sent2</th>\n",
              "      <th>text</th>\n",
              "    </tr>\n",
              "  </thead>\n",
              "  <tbody>\n",
              "    <tr>\n",
              "      <th>1059</th>\n",
              "      <td>Tut was sie soll und ist durch beigepackte Anl...</td>\n",
              "      <td>Ich habe das Produkt für mich und meine Tochte...</td>\n",
              "      <td>Tut was sie soll und ist durch beigepackte Anl...</td>\n",
              "    </tr>\n",
              "    <tr>\n",
              "      <th>1822</th>\n",
              "      <td>Sehr billiges Material und schlechte Qualität....</td>\n",
              "      <td>Ganz uns garnicht zufrieden habe die Hose wied...</td>\n",
              "      <td>Sehr billiges Material und schlechte Qualität....</td>\n",
              "    </tr>\n",
              "    <tr>\n",
              "      <th>872</th>\n",
              "      <td>Ich habe mir die Bumper gekauft da bei meinem ...</td>\n",
              "      <td>Habe bereits eine Form und habe nun endlich me...</td>\n",
              "      <td>Ich habe mir die Bumper gekauft da bei meinem ...</td>\n",
              "    </tr>\n",
              "    <tr>\n",
              "      <th>714</th>\n",
              "      <td>Der Diffuser wird gut verpackt verschickt und ...</td>\n",
              "      <td>Sieht ok aus, schlechte Qualität</td>\n",
              "      <td>Der Diffuser wird gut verpackt verschickt und ...</td>\n",
              "    </tr>\n",
              "    <tr>\n",
              "      <th>1206</th>\n",
              "      <td>Sehr schön gestaltet! Hab es verschenkt an ein...</td>\n",
              "      <td>Leider nur bedingt zufriedenstellend bei leich...</td>\n",
              "      <td>Sehr schön gestaltet! Hab es verschenkt an ein...</td>\n",
              "    </tr>\n",
              "  </tbody>\n",
              "</table>\n",
              "</div>"
            ],
            "text/plain": [
              "                                                  sent1  ...                                               text\n",
              "1059  Tut was sie soll und ist durch beigepackte Anl...  ...  Tut was sie soll und ist durch beigepackte Anl...\n",
              "1822  Sehr billiges Material und schlechte Qualität....  ...  Sehr billiges Material und schlechte Qualität....\n",
              "872   Ich habe mir die Bumper gekauft da bei meinem ...  ...  Ich habe mir die Bumper gekauft da bei meinem ...\n",
              "714   Der Diffuser wird gut verpackt verschickt und ...  ...  Der Diffuser wird gut verpackt verschickt und ...\n",
              "1206  Sehr schön gestaltet! Hab es verschenkt an ein...  ...  Sehr schön gestaltet! Hab es verschenkt an ein...\n",
              "\n",
              "[5 rows x 3 columns]"
            ]
          },
          "metadata": {
            "tags": []
          },
          "execution_count": 166
        }
      ]
    },
    {
      "cell_type": "code",
      "metadata": {
        "id": "YCQxKyEa5SWD"
      },
      "source": [
        "%%capture\n",
        "import tensorflow as tf\n",
        "import keras\n",
        "import keras.backend as K\n",
        "from keras.preprocessing.text import Tokenizer\n",
        "from keras.preprocessing.sequence import pad_sequences\n",
        "from keras.layers import Input, Concatenate, Conv2D, Flatten, Dense, Embedding, LSTM\n",
        "from keras.models import Model\n",
        "\n",
        "## Creamos tokenizer a partir de el vocabulario de la columna text (ambas sentences)\n",
        "t = Tokenizer()\n",
        "t.fit_on_texts(X_train['text'].values)\n",
        "vocab_size = len(t.word_index)+1\n",
        "\n",
        "## Convertimos a string\n",
        "X_train['sent1'] = X_train['sent1'].astype(str)\n",
        "X_train['sent2'] = X_train['sent2'].astype(str)\n",
        "\n",
        "X_val['sent1'] = X_val['sent1'].astype(str)\n",
        "X_val['sent2'] = X_val['sent2'].astype(str)\n",
        "\n",
        "X_test['sent1'] = X_test['sent1'].astype(str)\n",
        "X_test['sent2'] = X_test['sent2'].astype(str)\n",
        "\n",
        "## Aplicamos text_to_sequences para pasar a secuencia\n",
        "\n",
        "train_sent1_seq = t.texts_to_sequences(X_train['sent1'].values)\n",
        "train_sent2_seq = t.texts_to_sequences(X_train['sent2'].values)\n",
        "val_sent1_seq = t.texts_to_sequences(X_val['sent1'].values)\n",
        "val_sent2_seq = t.texts_to_sequences(X_val['sent2'].values)\n",
        "test_sent1_seq = t.texts_to_sequences(X_test['sent1'].values)\n",
        "test_sent2_seq = t.texts_to_sequences(X_test['sent2'].values)\n"
      ],
      "execution_count": null,
      "outputs": []
    },
    {
      "cell_type": "code",
      "metadata": {
        "colab": {
          "base_uri": "https://localhost:8080/"
        },
        "id": "BjsFP87D5SWE",
        "outputId": "056c23f8-b3fe-4b63-c2c4-0f5a2a2dc77b"
      },
      "source": [
        "# Comprobamos la distribución de las longitudes de secuencia para definir max_length\n",
        "len_vec = [len(sent_vec) for sent_vec in train_sent1_seq]\n",
        "np.max(len_vec)\n",
        "\n",
        "sns.distplot(len_vec)"
      ],
      "execution_count": null,
      "outputs": [
        {
          "output_type": "stream",
          "text": [
            "/usr/local/lib/python3.7/dist-packages/seaborn/distributions.py:2557: FutureWarning: `distplot` is a deprecated function and will be removed in a future version. Please adapt your code to use either `displot` (a figure-level function with similar flexibility) or `histplot` (an axes-level function for histograms).\n",
            "  warnings.warn(msg, FutureWarning)\n"
          ],
          "name": "stderr"
        },
        {
          "output_type": "execute_result",
          "data": {
            "text/plain": [
              "<matplotlib.axes._subplots.AxesSubplot at 0x7fa75dadff50>"
            ]
          },
          "metadata": {
            "tags": []
          },
          "execution_count": 168
        },
        {
          "output_type": "display_data",
          "data": {
            "image/png": "[encoded data removed]",
            "text/plain": [
              "<Figure size 432x288 with 1 Axes>"
            ]
          },
          "metadata": {
            "tags": [],
            "needs_background": "light"
          }
        }
      ]
    },
    {
      "cell_type": "code",
      "metadata": {
        "id": "_KBX0r4D5SWE"
      },
      "source": [
        "# Definimos maxima longitud de secuencia\n",
        "max_len = 260"
      ],
      "execution_count": null,
      "outputs": []
    },
    {
      "cell_type": "code",
      "metadata": {
        "id": "TbmRnOcd5SWE"
      },
      "source": [
        "# Realizamos padding para igualar la longitud de las secuencias\n",
        "train_sent1_seq = pad_sequences(train_sent1_seq, maxlen=max_len, padding='post')\n",
        "train_sent2_seq = pad_sequences(train_sent2_seq, maxlen=max_len, padding='post')\n",
        "val_sent1_seq = pad_sequences(val_sent1_seq, maxlen=max_len, padding='post')\n",
        "val_sent2_seq = pad_sequences(val_sent2_seq, maxlen=max_len, padding='post')\n",
        "test_sent1_seq = pad_sequences(test_sent1_seq, maxlen=max_len, padding='post')\n",
        "test_sent2_seq = pad_sequences(test_sent2_seq, maxlen=max_len, padding='post')\n"
      ],
      "execution_count": null,
      "outputs": []
    },
    {
      "cell_type": "code",
      "metadata": {
        "id": "fZ1H3UJo5SWE"
      },
      "source": [
        ""
      ],
      "execution_count": null,
      "outputs": []
    },
    {
      "cell_type": "code",
      "metadata": {
        "id": "Mpax6D2t5SWF"
      },
      "source": [
        "# Predict en Español\n",
        "X_test_final_de = [test_sent1_seq,test_sent2_seq]\n",
        "y_test_final_de = y_test.values.reshape(-1,1)\n",
        "\n",
        "y_pred_test_es = model_siamese.predict(X_test_final_de)"
      ],
      "execution_count": null,
      "outputs": []
    },
    {
      "cell_type": "code",
      "metadata": {
        "colab": {
          "base_uri": "https://localhost:8080/"
        },
        "id": "lBnlfmjI5SWF",
        "outputId": "aea8f772-3f63-4aa1-9c28-51738a35198c"
      },
      "source": [
        "eval_model(model_siamese,X_test_final_de,y_test_final_de)"
      ],
      "execution_count": null,
      "outputs": [
        {
          "output_type": "stream",
          "text": [
            "7/7 [==============================] - 6s 770ms/step - loss: 0.9794 - acc: 0.5000\n",
            "              precision    recall  f1-score   support\n",
            "\n",
            "           0       0.52      0.29      0.37       205\n",
            "           1       0.49      0.72      0.58       197\n",
            "\n",
            "    accuracy                           0.50       402\n",
            "   macro avg       0.51      0.50      0.48       402\n",
            "weighted avg       0.51      0.50      0.48       402\n",
            "\n"
          ],
          "name": "stdout"
        },
        {
          "output_type": "display_data",
          "data": {
            "image/png": "[encoded data removed]",
            "text/plain": [
              "<Figure size 360x216 with 2 Axes>"
            ]
          },
          "metadata": {
            "tags": [],
            "needs_background": "light"
          }
        }
      ]
    },
    {
      "cell_type": "markdown",
      "metadata": {
        "id": "9qr9xrFtdk7G"
      },
      "source": [
        "## Contrastive Loss"
      ]
    },
    {
      "cell_type": "code",
      "metadata": {
        "id": "3heHiKp5e6Ys"
      },
      "source": [
        "# import the necessary packages\n",
        "import tensorflow.keras.backend as K\n",
        "import tensorflow as tf\n",
        "def contrastive_loss(y, preds, margin=1):\n",
        "\t# explicitly cast the true class label data type to the predicted\n",
        "\t# class label data type (otherwise we run the risk of having two\n",
        "\t# separate data types, causing TensorFlow to error out)\n",
        "\ty = tf.cast(y, preds.dtype)\n",
        "\t# calculate the contrastive loss between the true labels and\n",
        "\t# the predicted labels\n",
        "\tsquaredPreds = K.square(preds)\n",
        "\tsquaredMargin = K.square(K.maximum(margin - preds, 0))\n",
        "\tloss = K.mean(y * squaredPreds + (1 - y) * squaredMargin)\n",
        "\t# return the computed contrastive loss to the calling function\n",
        "\treturn loss"
      ],
      "execution_count": null,
      "outputs": []
    },
    {
      "cell_type": "code",
      "metadata": {
        "id": "gTH8-cpZeKoT"
      },
      "source": [
        "input_1 = Input(shape=(train_sent1_seq.shape[1],))\n",
        "input_2 = Input(shape=(train_sent2_seq.shape[1],))\n",
        "\n",
        "\n",
        "common_embed = Embedding(input_dim = vocab_size, output_dim=300,weights=[embedding_matrix], input_length= max_len,trainable=False) \n",
        "\n",
        "bilstm_1 = common_embed(input_1)\n",
        "bilstm_2 = common_embed(input_2)\n",
        "\n",
        "\n",
        "common_bilstm = Bidirectional(LSTM(128,return_sequences=True, activation=\"relu\"))\n",
        "\n",
        "vector_1 = common_bilstm(bilstm_1)\n",
        "vector_1 = Flatten()(vector_1)\n",
        "\n",
        "vector_2 = common_bilstm(bilstm_2)\n",
        "vector_2 = Flatten()(vector_2)\n",
        "\n",
        "x3 = Subtract()([vector_1, vector_2])\n",
        "x3 = Multiply()([x3, x3])\n",
        "\n",
        "x1_ = Multiply()([vector_1, vector_1])\n",
        "x2_ = Multiply()([vector_2, vector_2])\n",
        "x4 = Subtract()([x1_, x2_])\n",
        "    \n",
        "    #https://stackoverflow.com/a/51003359/10650182\n",
        "x5 = Lambda(cosine_distance, output_shape=cos_dist_output_shape)([vector_1, vector_2])\n",
        "    \n",
        "conc = Concatenate(axis=-1)([x5,x4, x3])\n",
        "\n",
        "x = Dense(100, activation=\"relu\", name='conc_layer')(conc)\n",
        "x = Dropout(0.01)(x)\n",
        "out = Dense(1, activation=\"sigmoid\", name = 'out')(x)\n",
        "\n",
        "model = Model([input_1, input_2], out)\n",
        "\n",
        "## Cambiamos la funcion de perdida\n",
        "model.compile(loss= contrastive_loss, metrics=['acc'], optimizer=Adam(lr=config.learning_rate, beta_1=0.9, beta_2=0.999, clipnorm=1.0))"
      ],
      "execution_count": null,
      "outputs": []
    },
    {
      "cell_type": "code",
      "metadata": {
        "colab": {
          "base_uri": "https://localhost:8080/"
        },
        "id": "5gj6ugAPecyQ",
        "outputId": "3763528d-60a2-4d11-b694-3ed54d291ea5"
      },
      "source": [
        "model.summary()"
      ],
      "execution_count": null,
      "outputs": [
        {
          "output_type": "stream",
          "text": [
            "Model: \"model\"\n",
            "__________________________________________________________________________________________________\n",
            "Layer (type)                    Output Shape         Param #     Connected to                     \n",
            "==================================================================================================\n",
            "input_1 (InputLayer)            [(None, 260)]        0                                            \n",
            "__________________________________________________________________________________________________\n",
            "input_2 (InputLayer)            [(None, 260)]        0                                            \n",
            "__________________________________________________________________________________________________\n",
            "embedding (Embedding)           (None, 260, 300)     6891300     input_1[0][0]                    \n",
            "                                                                 input_2[0][0]                    \n",
            "__________________________________________________________________________________________________\n",
            "bidirectional (Bidirectional)   (None, 260, 256)     439296      embedding[0][0]                  \n",
            "                                                                 embedding[1][0]                  \n",
            "__________________________________________________________________________________________________\n",
            "flatten (Flatten)               (None, 66560)        0           bidirectional[0][0]              \n",
            "__________________________________________________________________________________________________\n",
            "flatten_1 (Flatten)             (None, 66560)        0           bidirectional[1][0]              \n",
            "__________________________________________________________________________________________________\n",
            "multiply_1 (Multiply)           (None, 66560)        0           flatten[0][0]                    \n",
            "                                                                 flatten[0][0]                    \n",
            "__________________________________________________________________________________________________\n",
            "multiply_2 (Multiply)           (None, 66560)        0           flatten_1[0][0]                  \n",
            "                                                                 flatten_1[0][0]                  \n",
            "__________________________________________________________________________________________________\n",
            "subtract (Subtract)             (None, 66560)        0           flatten[0][0]                    \n",
            "                                                                 flatten_1[0][0]                  \n",
            "__________________________________________________________________________________________________\n",
            "lambda (Lambda)                 (None, 1)            0           flatten[0][0]                    \n",
            "                                                                 flatten_1[0][0]                  \n",
            "__________________________________________________________________________________________________\n",
            "subtract_1 (Subtract)           (None, 66560)        0           multiply_1[0][0]                 \n",
            "                                                                 multiply_2[0][0]                 \n",
            "__________________________________________________________________________________________________\n",
            "multiply (Multiply)             (None, 66560)        0           subtract[0][0]                   \n",
            "                                                                 subtract[0][0]                   \n",
            "__________________________________________________________________________________________________\n",
            "concatenate (Concatenate)       (None, 133121)       0           lambda[0][0]                     \n",
            "                                                                 subtract_1[0][0]                 \n",
            "                                                                 multiply[0][0]                   \n",
            "__________________________________________________________________________________________________\n",
            "conc_layer (Dense)              (None, 100)          13312200    concatenate[0][0]                \n",
            "__________________________________________________________________________________________________\n",
            "dropout (Dropout)               (None, 100)          0           conc_layer[0][0]                 \n",
            "__________________________________________________________________________________________________\n",
            "out (Dense)                     (None, 1)            101         dropout[0][0]                    \n",
            "==================================================================================================\n",
            "Total params: 20,642,897\n",
            "Trainable params: 13,751,597\n",
            "Non-trainable params: 6,891,300\n",
            "__________________________________________________________________________________________________\n"
          ],
          "name": "stdout"
        }
      ]
    },
    {
      "cell_type": "code",
      "metadata": {
        "colab": {
          "base_uri": "https://localhost:8080/"
        },
        "id": "P3Oj2WCni_Vl",
        "outputId": "538f23f8-f3a0-462e-cb26-83cf276fc791"
      },
      "source": [
        "X_train_final = [train_sent1_seq,train_sent2_seq]\n",
        "X_val_final= [val_sent1_seq, val_sent2_seq]\n",
        "\n",
        "\n",
        "y_train_final = y_train.values.reshape(-1,1)\n",
        "y_val_final= y_val.values.reshape(-1,1)\n",
        "\n",
        "model.fit(X_train_final, y_train_final,epochs=config.epochs,batch_size=config.batch_size,validation_data=(X_val_final, y_val_final),callbacks= [PlotLossesKeras(),WandbCallback()])\n"
      ],
      "execution_count": null,
      "outputs": [
        {
          "output_type": "display_data",
          "data": {
            "image/png": "[encoded data removed]",
            "text/plain": [
              "<Figure size 864x576 with 2 Axes>"
            ]
          },
          "metadata": {
            "tags": [],
            "needs_background": "light"
          }
        },
        {
          "output_type": "stream",
          "text": [
            "Accuracy\n",
            "\ttraining         \t (min:    0.482, max:    0.503, cur:    0.503)\n",
            "\tvalidation       \t (min:    0.496, max:    0.496, cur:    0.496)\n",
            "Loss\n",
            "\ttraining         \t (min:      nan, max:      nan, cur:      nan)\n",
            "\tvalidation       \t (min:      nan, max:      nan, cur:      nan)\n"
          ],
          "name": "stdout"
        },
        {
          "output_type": "execute_result",
          "data": {
            "text/plain": [
              "<tensorflow.python.keras.callbacks.History at 0x7f8124936cd0>"
            ]
          },
          "metadata": {
            "tags": []
          },
          "execution_count": 37
        }
      ]
    },
    {
      "cell_type": "code",
      "metadata": {
        "id": "800SLW5rwFmT"
      },
      "source": [
        "model.save(\"drive/MyDrive/TFG/siamese_contrastive.h5\")"
      ],
      "execution_count": null,
      "outputs": []
    },
    {
      "cell_type": "code",
      "metadata": {
        "id": "Zr3mafgOjGXD"
      },
      "source": [
        "X_test_final = [test_sent1_seq,test_sent2_seq]\n",
        "y_test_final = y_test.values.reshape(-1,1)\n",
        "\n",
        "model.predict(X_test_final)\n",
        "\n",
        "y_pred_test_mapped= np.where(y_pred_test > 0.5, 1, 0)"
      ],
      "execution_count": null,
      "outputs": []
    },
    {
      "cell_type": "code",
      "metadata": {
        "colab": {
          "base_uri": "https://localhost:8080/"
        },
        "id": "t5zAfgViQJ6m",
        "outputId": "90f78b3e-17b5-4e92-deb4-0758b2ea7bc2"
      },
      "source": [
        "print(X_test['sent1'].values[1])\n",
        "print(X_test['sent2'].values[1])\n",
        "print(y_pred_test[1])\n",
        "print(y_pred_test_mapped[1])"
      ],
      "execution_count": null,
      "outputs": [
        {
          "output_type": "stream",
          "text": [
            "This is the second one we purchased. The kettle stopped working on the other one and was out of warranty.\n",
            "I did lose weight, in combination with other things, but this belt is not for smaller people! I have a short torso and the large part of my waistline was about 34\". It was way, way too long for me and very hard to bend over while exercising. You will, however, sweat like a stuck hog at a state fair in July. Drink lots of water if you use anything neoprene.\n",
            "[0.36168247]\n",
            "[0]\n"
          ],
          "name": "stdout"
        }
      ]
    },
    {
      "cell_type": "code",
      "metadata": {
        "id": "iO0Hk23Wwwv6"
      },
      "source": [
        "eval_model(model_siamese,X_test_final,y_test_final)"
      ],
      "execution_count": null,
      "outputs": []
    },
    {
      "cell_type": "markdown",
      "metadata": {
        "id": "nfMccCL4xU81"
      },
      "source": [
        "# Sweep de parámetros SIAMESE with Binary Cross_entropy"
      ]
    },
    {
      "cell_type": "code",
      "metadata": {
        "id": "rSPw6cX4HANN"
      },
      "source": [
        "X_train_final = [train_sent1_seq,train_sent2_seq]\n",
        "X_val_final= [val_sent1_seq, val_sent2_seq]\n",
        "\n",
        "\n",
        "y_train_final = y_train.values.reshape(-1,1)\n",
        "y_val_final= y_val.values.reshape(-1,1)\n",
        "\n",
        "X_test_final = [test_sent1_seq,test_sent2_seq]\n",
        "y_test_final = y_test.values.reshape(-1,1)"
      ],
      "execution_count": null,
      "outputs": []
    },
    {
      "cell_type": "code",
      "metadata": {
        "id": "ecwavMH7xkee"
      },
      "source": [
        "# Configure the sweep – specify the parameters to search through, the search strategy, the optimization metric et all.\n",
        "sweep_config = {\n",
        "    'method': 'random', #grid, random\n",
        "    'metric': {\n",
        "      'name': 'accuracy',\n",
        "      'goal': 'maximize'   \n",
        "    },\n",
        "    'parameters': {\n",
        "        'epochs': {\n",
        "            'values': [5,8]\n",
        "        },\n",
        "        'batch_size': {\n",
        "            'values': [128, 64]\n",
        "        },\n",
        "        'dropout': {\n",
        "            'values': [0.3, 0.4]\n",
        "        },\n",
        "\n",
        "        'learning_rate': {\n",
        "            'values': [1e-3, 3e-3,3e-4,1e-5]\n",
        "        },\n",
        "        'optimizer': {\n",
        "            'values': ['adam']\n",
        "        },\n",
        "        'activation': {\n",
        "            'values': ['sigmoid']\n",
        "        }\n",
        "    }\n",
        "}"
      ],
      "execution_count": null,
      "outputs": []
    },
    {
      "cell_type": "code",
      "metadata": {
        "colab": {
          "base_uri": "https://localhost:8080/",
          "height": 82
        },
        "id": "umfG3HFLxxxA",
        "outputId": "85250310-e268-430c-8a3a-6c2ad88a0066"
      },
      "source": [
        "# Initialize a new sweep\n",
        "# Arguments:\n",
        "#     – sweep_config: the sweep config dictionary defined above\n",
        "#     – entity: Set the username for the sweep\n",
        "#     – project: Set the project name for the sweep\n",
        "sweep_id = wandb.sweep(sweep_config, entity=\"lucialarraona\", project=\"Sweepslucia\")"
      ],
      "execution_count": null,
      "outputs": [
        {
          "output_type": "display_data",
          "data": {
            "application/javascript": [
              "\n",
              "        window._wandbApiKey = new Promise((resolve, reject) => {\n",
              "            function loadScript(url) {\n",
              "            return new Promise(function(resolve, reject) {\n",
              "                let newScript = document.createElement(\"script\");\n",
              "                newScript.onerror = reject;\n",
              "                newScript.onload = resolve;\n",
              "                document.body.appendChild(newScript);\n",
              "                newScript.src = url;\n",
              "            });\n",
              "            }\n",
              "            loadScript(\"https://cdn.jsdelivr.net/npm/postmate/build/postmate.min.js\").then(() => {\n",
              "            const iframe = document.createElement('iframe')\n",
              "            iframe.style.cssText = \"width:0;height:0;border:none\"\n",
              "            document.body.appendChild(iframe)\n",
              "            const handshake = new Postmate({\n",
              "                container: iframe,\n",
              "                url: 'https://wandb.ai/authorize'\n",
              "            });\n",
              "            const timeout = setTimeout(() => reject(\"Couldn't auto authenticate\"), 5000)\n",
              "            handshake.then(function(child) {\n",
              "                child.on('authorize', data => {\n",
              "                    clearTimeout(timeout)\n",
              "                    resolve(data)\n",
              "                });\n",
              "            });\n",
              "            })\n",
              "        });\n",
              "    "
            ],
            "text/plain": [
              "<IPython.core.display.Javascript object>"
            ]
          },
          "metadata": {
            "tags": []
          }
        },
        {
          "output_type": "stream",
          "text": [
            "\u001b[34m\u001b[1mwandb\u001b[0m: Appending key for api.wandb.ai to your netrc file: /root/.netrc\n"
          ],
          "name": "stderr"
        },
        {
          "output_type": "stream",
          "text": [
            "Create sweep with ID: nn08ycka\n",
            "Sweep URL: https://wandb.ai/lucialarraona/Sweepslucia/sweeps/nn08ycka\n"
          ],
          "name": "stdout"
        }
      ]
    },
    {
      "cell_type": "code",
      "metadata": {
        "id": "pPqwm84kx1m6"
      },
      "source": [
        "from keras.models import Sequential\n",
        "from tensorflow.keras.layers import Embedding\n",
        "from keras.models import Sequential\n",
        "from tensorflow.keras import layers\n",
        "from keras.layers import Bidirectional\n",
        "# The sweep calls this function with each set of hyperparameters\n",
        "def train():\n",
        "    # Default values for hyper-parameters we're going to sweep over\n",
        "    config_defaults = {\n",
        "        'epochs': 5,\n",
        "        'batch_size': 128,\n",
        "        'learning_rate': 1e-3,\n",
        "        'activation': 'sigmoid',\n",
        "        'optimizer': 'adam',\n",
        "        'dropout': 0.5,\n",
        "        'seed': 42\n",
        "    }\n",
        "\n",
        "    # Initialize a new wandb run\n",
        "    wandb.init(config=config_defaults)\n",
        "    \n",
        "    # Config is a variable that holds and saves hyperparameters and inputs\n",
        "    config = wandb.config\n",
        "    \n",
        "    # Define the model architecture \n",
        "\n",
        "    #Arquitectura del modelo\n",
        "    input_1 = Input(shape=(train_sent1_seq.shape[1],))\n",
        "    input_2 = Input(shape=(train_sent2_seq.shape[1],))\n",
        "\n",
        "\n",
        "    common_embed = Embedding(input_dim = vocab_size, output_dim=300,weights=[embedding_matrix], input_length= max_len,trainable=False) \n",
        "\n",
        "    bilstm_1 = common_embed(input_1)\n",
        "    bilstm_2 = common_embed(input_2)\n",
        "\n",
        "\n",
        "    common_bilstm = Bidirectional(LSTM(128,return_sequences=True, activation=\"relu\"))\n",
        "\n",
        "    vector_1 = common_bilstm(bilstm_1)\n",
        "    vector_1 = Flatten()(vector_1)\n",
        "\n",
        "    vector_2 = common_bilstm(bilstm_2)\n",
        "    vector_2 = Flatten()(vector_2)\n",
        "    \n",
        "    x3 = Subtract()([vector_1, vector_2])\n",
        "    x3 = Multiply()([x3, x3])\n",
        "\n",
        "    x1_ = Multiply()([vector_1, vector_1])\n",
        "    x2_ = Multiply()([vector_2, vector_2])\n",
        "    x4 = Subtract()([x1_, x2_])\n",
        "        \n",
        "    #https://stackoverflow.com/a/51003359/10650182\n",
        "    x5 = Lambda(cosine_distance, output_shape=cos_dist_output_shape)([vector_1, vector_2])\n",
        "        \n",
        "    conc = Concatenate(axis=-1)([x5,x4, x3])\n",
        "\n",
        "    x = Dense(100, activation=\"relu\", name='conc_layer')(conc)\n",
        "    x = Dropout(0.01)(x)\n",
        "    out = Dense(1, activation=\"sigmoid\", name = 'out')(x)\n",
        "\n",
        "    model = Model([input_1, input_2], out)\n",
        "\n",
        "    # Define the optimizer\n",
        " \n",
        "    if config.optimizer=='adam':\n",
        "      optimizer = Adam(lr=config.learning_rate, beta_1=0.9, beta_2=0.999, clipnorm=1.0)\n",
        "\n",
        "    model.compile(loss = \"binary_crossentropy\", optimizer = optimizer, metrics=['accuracy'])\n",
        "\n",
        "    model.fit(X_train_final, y_train_final,\n",
        "              epochs=config.epochs,\n",
        "              batch_size=config.batch_size,\n",
        "              validation_data=(X_val_final, y_val_final),\n",
        "              callbacks=[WandbCallback(validation_data=(X_val_final, y_val_final))])"
      ],
      "execution_count": null,
      "outputs": []
    },
    {
      "cell_type": "code",
      "metadata": {
        "colab": {
          "base_uri": "https://localhost:8080/",
          "height": 1000,
          "referenced_widgets": [
            "2561808210584cb680de0859ce8b071b",
            "a9aa3c03875b45c69543dff2d3696622",
            "4cf3f9ac79ab47c9906affee46e8400a",
            "1a23d28d6233400596c2375d9c8ee0d6",
            "56c22e68535c42e2834da151359f40eb",
            "0ce02b6037774e3fa26a0c40259851ed",
            "30665eb084b84f8588dc1f6af4b23d54",
            "329f621629514927b6236c22afed3143",
            "493c24a5c31c4015869392dfd97a34be",
            "e5b1a7c5e3ba4dd685604edde2bbfd92",
            "1895cb52728549c79671eb7ddc033a79",
            "3c294bf88397427d8002a567d78664a0",
            "ea4dbbe12aba4b899eea1fbabbd881fe",
            "f0941ea39f83429ebd8f3b66f9c4b3f8",
            "bb1fc848d87248259f6acad1988fd7cb",
            "f6370e26b23644fbbaa228c9f01c0c4a",
            "58cb2e174b3a48d6b7a0b86210dba6ce",
            "a3b4f44c5b6a43cfa41876400dadf134",
            "5886912c72b34ac9b86ef8c4182c9829",
            "fdc4aa11ed9c49409739ff04f5c9f4fa",
            "a3993b65da4e43afb85217fd28167f0b",
            "3f611f375c7444d78187504139ec7716",
            "0d7840092975427397d24412bb262e14",
            "9ebe0ee0074848938649cf0179ff2f0a",
            "a82e36261c134e0da7debc731f916f2d",
            "9342e24364994bd8922520fd77c179ce",
            "b6298f7a0ce74a9eb0e65685def4577c",
            "4898601bf0e649889a70f4eb3809c90f",
            "d332a2ed2141468f802b3c8fd1e5b839",
            "c3458d3a7ffa40be8f9b90c046da0139",
            "26a40658c6cd40ea9ecc28468b99d9ad",
            "455d08110090447789c70cc226735026",
            "118d81d4fb57452a8d27ca6564e81684",
            "c7a9578fb63b4ecd938fe62904e94962",
            "85c68901d3d447889769ab3fa5040bc8",
            "9afcf48145d9444b91f579119a9518de",
            "2eec7a29e26b4d458b47fb850db7d0d3",
            "d9a0a6a22bed424d8355a15163f25efc",
            "7eb3a9399d05442a92db7b5083c9f837",
            "a374c6044ef541e9b9cb7ac4a776ef99",
            "66187b6ba8064f6981de28b548ab9593",
            "ae452b5f5fab46d585ec9c30afed7c66",
            "d8592e67063449c8ab2109332c3ffa61",
            "b6ed9898b0744a49bdb5363f25b9b9a3",
            "27eb5e0b74894a8f9dfd9fabdadeaed4",
            "ecc2656e9f2f44e0ba25270c133ffefc",
            "55124e62f7744f0db6ef8c76fdaecac1",
            "0837fa4bc3154b85b5dc9b601e1e9861",
            "c1c96b90335f4653a7fbf56f2cc2b9b4",
            "8aac64b43ffa437bbd0d767477af59b0",
            "9ba0ece1c27e457eac4151475501863f",
            "aea3c668dbc649969f1456e3f1fbfa9a",
            "4499491c32d54bdd976ad23538327ac5",
            "396b474b7e604bb0850bec34e1ab418c",
            "541024fcacae46fbbbb1f411354612a9",
            "0d06f482b91841ee8ace4b3f66d4d34f",
            "92d9894dff46420c93116a78871c2f9a",
            "25e8ad9f133e4fd1b00750876fdbdb6d",
            "7e24114a11d74f45b43eaf5d92b277b3",
            "a873b4e288054118b06021f06478a857",
            "b12f1770c74f4d06aff20c2c6f7081fb",
            "3f9f1a77f0f24c0895f972d834d97ead",
            "4516fac0e10a485289424fa2858f1aae",
            "97fbdf4c1c62492f9177a48c14324afe",
            "1d9967a763f04b928eee5d71f00a14ab",
            "5362ddef98f84cbfa1555d1f5371508b",
            "c79cfed7ee0b4d1f9f9f25b61bda0915",
            "ced4b0b1fa074c438f997e612161e382",
            "85102af199c348708f17db9c71cf4fe2",
            "bef2d77d740a4065b5568dd57eeec2ab",
            "db30256dbc504553b36015c49d98f671",
            "b79c5390952a4a4382eb132655c02820",
            "cf25f782e69d462d8fb9c0fa44d1218c",
            "33efc77670d24fc195c1d2cfc714febf",
            "9a0d049afce640ab9c73ec61a10c68e1",
            "f5a01dcd9ac5442c81f18d5f7e1304fb",
            "707fe9f674994d0b9a05374a5dcf5b34",
            "1e589f46e45042aeab40b9baaec0969e",
            "4900a893f7014e3dac7c574cff8552ba",
            "fabb606c6aa0434c867bad5d1a72bf78",
            "3ca362885884494287fdf51949cd4975",
            "4246cd31b4704e6ba611cc40bbc404c5",
            "d183ae0ab6eb458b8fd677a33e03100c",
            "d1d3297d49c3472b8af8dc4731cc24e3",
            "fb3c114dd95f477bb9deeb06dddd1a93",
            "c548314753f14ae9bbe61fe61e622d7d",
            "548714c0c4164e058afbc2f62cef1770",
            "04da61c287e3419f9f43ba87a6dd43b7"
          ]
        },
        "id": "-j0EXQ1Hx4An",
        "outputId": "221aa118-0af9-491b-c42e-8a97cd31edbd"
      },
      "source": [
        "wandb.agent(sweep_id, train)"
      ],
      "execution_count": null,
      "outputs": [
        {
          "output_type": "stream",
          "text": [
            "\u001b[34m\u001b[1mwandb\u001b[0m: Agent Starting Run: b3p507z5 with config:\n",
            "\u001b[34m\u001b[1mwandb\u001b[0m: \tactivation: sigmoid\n",
            "\u001b[34m\u001b[1mwandb\u001b[0m: \tbatch_size: 64\n",
            "\u001b[34m\u001b[1mwandb\u001b[0m: \tdropout: 0.3\n",
            "\u001b[34m\u001b[1mwandb\u001b[0m: \tepochs: 8\n",
            "\u001b[34m\u001b[1mwandb\u001b[0m: \tlearning_rate: 0.001\n",
            "\u001b[34m\u001b[1mwandb\u001b[0m: \toptimizer: adam\n",
            "\u001b[34m\u001b[1mwandb\u001b[0m: Currently logged in as: \u001b[33mlucialarraona\u001b[0m (use `wandb login --relogin` to force relogin)\n"
          ],
          "name": "stderr"
        },
        {
          "output_type": "display_data",
          "data": {
            "text/html": [
              "\n",
              "                Tracking run with wandb version 0.10.23<br/>\n",
              "                Syncing run <strong style=\"color:#cdcd00\">sandy-sweep-1</strong> to <a href=\"https://wandb.ai\" target=\"_blank\">Weights & Biases</a> <a href=\"https://docs.wandb.com/integrations/jupyter.html\" target=\"_blank\">(Documentation)</a>.<br/>\n",
              "                Project page: <a href=\"https://wandb.ai/lucialarraona/Sweepslucia\" target=\"_blank\">https://wandb.ai/lucialarraona/Sweepslucia</a><br/>\n",
              "                Sweep page: <a href=\"https://wandb.ai/lucialarraona/Sweepslucia/sweeps/nn08ycka\" target=\"_blank\">https://wandb.ai/lucialarraona/Sweepslucia/sweeps/nn08ycka</a><br/>\n",
              "Run page: <a href=\"https://wandb.ai/lucialarraona/Sweepslucia/runs/b3p507z5\" target=\"_blank\">https://wandb.ai/lucialarraona/Sweepslucia/runs/b3p507z5</a><br/>\n",
              "                Run data is saved locally in <code>/content/wandb/run-20210328_112842-b3p507z5</code><br/><br/>\n",
              "            "
            ],
            "text/plain": [
              "<IPython.core.display.HTML object>"
            ]
          },
          "metadata": {
            "tags": []
          }
        },
        {
          "output_type": "stream",
          "text": [
            "Epoch 1/8\n",
            "400/400 [==============================] - 304s 746ms/step - loss: 0.6627 - accuracy: 0.5860 - val_loss: 0.5289 - val_accuracy: 0.7359\n",
            "Epoch 2/8\n",
            "400/400 [==============================] - 300s 748ms/step - loss: 0.5158 - accuracy: 0.7443 - val_loss: 0.4735 - val_accuracy: 0.7716\n",
            "Epoch 3/8\n",
            "400/400 [==============================] - 300s 748ms/step - loss: 0.4278 - accuracy: 0.8005 - val_loss: 0.4708 - val_accuracy: 0.7734\n",
            "Epoch 4/8\n",
            "400/400 [==============================] - 292s 729ms/step - loss: 0.3341 - accuracy: 0.8581 - val_loss: 0.4885 - val_accuracy: 0.7800\n",
            "Epoch 5/8\n",
            "400/400 [==============================] - 292s 730ms/step - loss: 0.2350 - accuracy: 0.9044 - val_loss: 0.5683 - val_accuracy: 0.7720\n",
            "Epoch 6/8\n",
            "400/400 [==============================] - 300s 751ms/step - loss: 0.1500 - accuracy: 0.9426 - val_loss: 0.7099 - val_accuracy: 0.7697\n",
            "Epoch 7/8\n",
            "400/400 [==============================] - 298s 745ms/step - loss: 0.0911 - accuracy: 0.9680 - val_loss: 0.7853 - val_accuracy: 0.7800\n",
            "Epoch 8/8\n",
            "400/400 [==============================] - 299s 748ms/step - loss: 0.0626 - accuracy: 0.9801 - val_loss: 0.9721 - val_accuracy: 0.7672\n"
          ],
          "name": "stdout"
        },
        {
          "output_type": "display_data",
          "data": {
            "text/html": [
              "<br/>Waiting for W&B process to finish, PID 327<br/>Program ended successfully."
            ],
            "text/plain": [
              "<IPython.core.display.HTML object>"
            ]
          },
          "metadata": {
            "tags": []
          }
        },
        {
          "output_type": "display_data",
          "data": {
            "application/vnd.jupyter.widget-view+json": {
              "model_id": "2561808210584cb680de0859ce8b071b",
              "version_minor": 0,
              "version_major": 2
            },
            "text/plain": [
              "VBox(children=(Label(value=' 183.73MB of 183.73MB uploaded (0.00MB deduped)\\r'), FloatProgress(value=1.0, max=…"
            ]
          },
          "metadata": {
            "tags": []
          }
        },
        {
          "output_type": "display_data",
          "data": {
            "text/html": [
              "Find user logs for this run at: <code>/content/wandb/run-20210328_112842-b3p507z5/logs/debug.log</code>"
            ],
            "text/plain": [
              "<IPython.core.display.HTML object>"
            ]
          },
          "metadata": {
            "tags": []
          }
        },
        {
          "output_type": "display_data",
          "data": {
            "text/html": [
              "Find internal logs for this run at: <code>/content/wandb/run-20210328_112842-b3p507z5/logs/debug-internal.log</code>"
            ],
            "text/plain": [
              "<IPython.core.display.HTML object>"
            ]
          },
          "metadata": {
            "tags": []
          }
        },
        {
          "output_type": "display_data",
          "data": {
            "text/html": [
              "<h3>Run summary:</h3><br/><style>\n",
              "    table.wandb td:nth-child(1) { padding: 0 10px; text-align: right }\n",
              "    </style><table class=\"wandb\">\n",
              "<tr><td>epoch</td><td>7</td></tr><tr><td>loss</td><td>0.06547</td></tr><tr><td>accuracy</td><td>0.97805</td></tr><tr><td>val_loss</td><td>0.9721</td></tr><tr><td>val_accuracy</td><td>0.76719</td></tr><tr><td>_runtime</td><td>2394</td></tr><tr><td>_timestamp</td><td>1616933316</td></tr><tr><td>_step</td><td>7</td></tr><tr><td>best_val_loss</td><td>0.47076</td></tr><tr><td>best_epoch</td><td>2</td></tr></table>"
            ],
            "text/plain": [
              "<IPython.core.display.HTML object>"
            ]
          },
          "metadata": {
            "tags": []
          }
        },
        {
          "output_type": "display_data",
          "data": {
            "text/html": [
              "<h3>Run history:</h3><br/><style>\n",
              "    table.wandb td:nth-child(1) { padding: 0 10px; text-align: right }\n",
              "    </style><table class=\"wandb\">\n",
              "<tr><td>epoch</td><td>▁▂▃▄▅▆▇█</td></tr><tr><td>loss</td><td>█▆▆▄▃▂▁▁</td></tr><tr><td>accuracy</td><td>▁▃▄▅▆▇██</td></tr><tr><td>val_loss</td><td>▂▁▁▁▂▄▅█</td></tr><tr><td>val_accuracy</td><td>▁▇▇█▇▆█▆</td></tr><tr><td>_runtime</td><td>▁▂▃▄▅▆▇█</td></tr><tr><td>_timestamp</td><td>▁▂▃▄▅▆▇█</td></tr><tr><td>_step</td><td>▁▂▃▄▅▆▇█</td></tr></table><br/>"
            ],
            "text/plain": [
              "<IPython.core.display.HTML object>"
            ]
          },
          "metadata": {
            "tags": []
          }
        },
        {
          "output_type": "display_data",
          "data": {
            "text/html": [
              "Synced 5 W&B file(s), 1 media file(s), 0 artifact file(s) and 1 other file(s)"
            ],
            "text/plain": [
              "<IPython.core.display.HTML object>"
            ]
          },
          "metadata": {
            "tags": []
          }
        },
        {
          "output_type": "display_data",
          "data": {
            "text/html": [
              "\n",
              "                    <br/>Synced <strong style=\"color:#cdcd00\">sandy-sweep-1</strong>: <a href=\"https://wandb.ai/lucialarraona/Sweepslucia/runs/b3p507z5\" target=\"_blank\">https://wandb.ai/lucialarraona/Sweepslucia/runs/b3p507z5</a><br/>\n",
              "                "
            ],
            "text/plain": [
              "<IPython.core.display.HTML object>"
            ]
          },
          "metadata": {
            "tags": []
          }
        },
        {
          "output_type": "stream",
          "text": [
            "\u001b[34m\u001b[1mwandb\u001b[0m: Agent Starting Run: xbqppllz with config:\n",
            "\u001b[34m\u001b[1mwandb\u001b[0m: \tactivation: sigmoid\n",
            "\u001b[34m\u001b[1mwandb\u001b[0m: \tbatch_size: 64\n",
            "\u001b[34m\u001b[1mwandb\u001b[0m: \tdropout: 0.4\n",
            "\u001b[34m\u001b[1mwandb\u001b[0m: \tepochs: 8\n",
            "\u001b[34m\u001b[1mwandb\u001b[0m: \tlearning_rate: 0.003\n",
            "\u001b[34m\u001b[1mwandb\u001b[0m: \toptimizer: adam\n"
          ],
          "name": "stderr"
        },
        {
          "output_type": "display_data",
          "data": {
            "text/html": [
              "\n",
              "                Tracking run with wandb version 0.10.23<br/>\n",
              "                Syncing run <strong style=\"color:#cdcd00\">laced-sweep-2</strong> to <a href=\"https://wandb.ai\" target=\"_blank\">Weights & Biases</a> <a href=\"https://docs.wandb.com/integrations/jupyter.html\" target=\"_blank\">(Documentation)</a>.<br/>\n",
              "                Project page: <a href=\"https://wandb.ai/lucialarraona/Sweepslucia\" target=\"_blank\">https://wandb.ai/lucialarraona/Sweepslucia</a><br/>\n",
              "                Sweep page: <a href=\"https://wandb.ai/lucialarraona/Sweepslucia/sweeps/nn08ycka\" target=\"_blank\">https://wandb.ai/lucialarraona/Sweepslucia/sweeps/nn08ycka</a><br/>\n",
              "Run page: <a href=\"https://wandb.ai/lucialarraona/Sweepslucia/runs/xbqppllz\" target=\"_blank\">https://wandb.ai/lucialarraona/Sweepslucia/runs/xbqppllz</a><br/>\n",
              "                Run data is saved locally in <code>/content/wandb/run-20210328_120844-xbqppllz</code><br/><br/>\n",
              "            "
            ],
            "text/plain": [
              "<IPython.core.display.HTML object>"
            ]
          },
          "metadata": {
            "tags": []
          }
        },
        {
          "output_type": "stream",
          "text": [
            "Epoch 1/8\n",
            "400/400 [==============================] - 306s 758ms/step - loss: 0.6510 - accuracy: 0.5873 - val_loss: 0.4994 - val_accuracy: 0.7517\n",
            "Epoch 2/8\n",
            "400/400 [==============================] - 304s 760ms/step - loss: 0.4769 - accuracy: 0.7649 - val_loss: 0.4682 - val_accuracy: 0.7706\n",
            "Epoch 3/8\n",
            "400/400 [==============================] - 306s 763ms/step - loss: 0.3693 - accuracy: 0.8366 - val_loss: 0.4594 - val_accuracy: 0.7872\n",
            "Epoch 4/8\n",
            "400/400 [==============================] - 297s 741ms/step - loss: 0.2531 - accuracy: 0.8953 - val_loss: 0.5200 - val_accuracy: 0.7869\n",
            "Epoch 5/8\n",
            "400/400 [==============================] - 289s 723ms/step - loss: 0.1548 - accuracy: 0.9411 - val_loss: 0.6318 - val_accuracy: 0.7709\n",
            "Epoch 6/8\n",
            "400/400 [==============================] - 294s 735ms/step - loss: 0.0985 - accuracy: 0.9681 - val_loss: 0.8501 - val_accuracy: 0.7498\n",
            "Epoch 7/8\n",
            "400/400 [==============================] - 294s 735ms/step - loss: 0.0620 - accuracy: 0.9801 - val_loss: 0.9274 - val_accuracy: 0.7705\n",
            "Epoch 8/8\n",
            "400/400 [==============================] - 296s 740ms/step - loss: 0.0364 - accuracy: 0.9892 - val_loss: 1.0919 - val_accuracy: 0.7716\n"
          ],
          "name": "stdout"
        },
        {
          "output_type": "display_data",
          "data": {
            "text/html": [
              "<br/>Waiting for W&B process to finish, PID 562<br/>Program ended successfully."
            ],
            "text/plain": [
              "<IPython.core.display.HTML object>"
            ]
          },
          "metadata": {
            "tags": []
          }
        },
        {
          "output_type": "display_data",
          "data": {
            "application/vnd.jupyter.widget-view+json": {
              "model_id": "493c24a5c31c4015869392dfd97a34be",
              "version_minor": 0,
              "version_major": 2
            },
            "text/plain": [
              "VBox(children=(Label(value=' 183.73MB of 183.73MB uploaded (0.00MB deduped)\\r'), FloatProgress(value=1.0, max=…"
            ]
          },
          "metadata": {
            "tags": []
          }
        },
        {
          "output_type": "display_data",
          "data": {
            "text/html": [
              "Find user logs for this run at: <code>/content/wandb/run-20210328_120844-xbqppllz/logs/debug.log</code>"
            ],
            "text/plain": [
              "<IPython.core.display.HTML object>"
            ]
          },
          "metadata": {
            "tags": []
          }
        },
        {
          "output_type": "display_data",
          "data": {
            "text/html": [
              "Find internal logs for this run at: <code>/content/wandb/run-20210328_120844-xbqppllz/logs/debug-internal.log</code>"
            ],
            "text/plain": [
              "<IPython.core.display.HTML object>"
            ]
          },
          "metadata": {
            "tags": []
          }
        },
        {
          "output_type": "display_data",
          "data": {
            "text/html": [
              "<h3>Run summary:</h3><br/><style>\n",
              "    table.wandb td:nth-child(1) { padding: 0 10px; text-align: right }\n",
              "    </style><table class=\"wandb\">\n",
              "<tr><td>epoch</td><td>7</td></tr><tr><td>loss</td><td>0.04212</td></tr><tr><td>accuracy</td><td>0.98645</td></tr><tr><td>val_loss</td><td>1.09195</td></tr><tr><td>val_accuracy</td><td>0.77156</td></tr><tr><td>_runtime</td><td>2390</td></tr><tr><td>_timestamp</td><td>1616935714</td></tr><tr><td>_step</td><td>7</td></tr><tr><td>best_val_loss</td><td>0.45943</td></tr><tr><td>best_epoch</td><td>2</td></tr></table>"
            ],
            "text/plain": [
              "<IPython.core.display.HTML object>"
            ]
          },
          "metadata": {
            "tags": []
          }
        },
        {
          "output_type": "display_data",
          "data": {
            "text/html": [
              "<h3>Run history:</h3><br/><style>\n",
              "    table.wandb td:nth-child(1) { padding: 0 10px; text-align: right }\n",
              "    </style><table class=\"wandb\">\n",
              "<tr><td>epoch</td><td>▁▂▃▄▅▆▇█</td></tr><tr><td>loss</td><td>█▆▅▄▃▂▁▁</td></tr><tr><td>accuracy</td><td>▁▃▅▆▇███</td></tr><tr><td>val_loss</td><td>▁▁▁▂▃▅▆█</td></tr><tr><td>val_accuracy</td><td>▁▅██▅▁▅▅</td></tr><tr><td>_runtime</td><td>▁▂▃▄▅▆▇█</td></tr><tr><td>_timestamp</td><td>▁▂▃▄▅▆▇█</td></tr><tr><td>_step</td><td>▁▂▃▄▅▆▇█</td></tr></table><br/>"
            ],
            "text/plain": [
              "<IPython.core.display.HTML object>"
            ]
          },
          "metadata": {
            "tags": []
          }
        },
        {
          "output_type": "display_data",
          "data": {
            "text/html": [
              "Synced 5 W&B file(s), 1 media file(s), 0 artifact file(s) and 1 other file(s)"
            ],
            "text/plain": [
              "<IPython.core.display.HTML object>"
            ]
          },
          "metadata": {
            "tags": []
          }
        },
        {
          "output_type": "display_data",
          "data": {
            "text/html": [
              "\n",
              "                    <br/>Synced <strong style=\"color:#cdcd00\">laced-sweep-2</strong>: <a href=\"https://wandb.ai/lucialarraona/Sweepslucia/runs/xbqppllz\" target=\"_blank\">https://wandb.ai/lucialarraona/Sweepslucia/runs/xbqppllz</a><br/>\n",
              "                "
            ],
            "text/plain": [
              "<IPython.core.display.HTML object>"
            ]
          },
          "metadata": {
            "tags": []
          }
        },
        {
          "output_type": "stream",
          "text": [
            "\u001b[34m\u001b[1mwandb\u001b[0m: Agent Starting Run: yn4fw7je with config:\n",
            "\u001b[34m\u001b[1mwandb\u001b[0m: \tactivation: sigmoid\n",
            "\u001b[34m\u001b[1mwandb\u001b[0m: \tbatch_size: 128\n",
            "\u001b[34m\u001b[1mwandb\u001b[0m: \tdropout: 0.3\n",
            "\u001b[34m\u001b[1mwandb\u001b[0m: \tepochs: 8\n",
            "\u001b[34m\u001b[1mwandb\u001b[0m: \tlearning_rate: 0.0003\n",
            "\u001b[34m\u001b[1mwandb\u001b[0m: \toptimizer: adam\n"
          ],
          "name": "stderr"
        },
        {
          "output_type": "display_data",
          "data": {
            "text/html": [
              "\n",
              "                Tracking run with wandb version 0.10.23<br/>\n",
              "                Syncing run <strong style=\"color:#cdcd00\">azure-sweep-3</strong> to <a href=\"https://wandb.ai\" target=\"_blank\">Weights & Biases</a> <a href=\"https://docs.wandb.com/integrations/jupyter.html\" target=\"_blank\">(Documentation)</a>.<br/>\n",
              "                Project page: <a href=\"https://wandb.ai/lucialarraona/Sweepslucia\" target=\"_blank\">https://wandb.ai/lucialarraona/Sweepslucia</a><br/>\n",
              "                Sweep page: <a href=\"https://wandb.ai/lucialarraona/Sweepslucia/sweeps/nn08ycka\" target=\"_blank\">https://wandb.ai/lucialarraona/Sweepslucia/sweeps/nn08ycka</a><br/>\n",
              "Run page: <a href=\"https://wandb.ai/lucialarraona/Sweepslucia/runs/yn4fw7je\" target=\"_blank\">https://wandb.ai/lucialarraona/Sweepslucia/runs/yn4fw7je</a><br/>\n",
              "                Run data is saved locally in <code>/content/wandb/run-20210328_124843-yn4fw7je</code><br/><br/>\n",
              "            "
            ],
            "text/plain": [
              "<IPython.core.display.HTML object>"
            ]
          },
          "metadata": {
            "tags": []
          }
        },
        {
          "output_type": "stream",
          "text": [
            "Epoch 1/8\n",
            "200/200 [==============================] - 153s 748ms/step - loss: 0.6857 - accuracy: 0.5370 - val_loss: 0.6421 - val_accuracy: 0.6286\n",
            "Epoch 2/8\n",
            "200/200 [==============================] - 149s 742ms/step - loss: 0.6234 - accuracy: 0.6515 - val_loss: 0.6125 - val_accuracy: 0.6945\n",
            "Epoch 3/8\n",
            "200/200 [==============================] - 151s 750ms/step - loss: 0.5548 - accuracy: 0.7182 - val_loss: 0.5272 - val_accuracy: 0.7416\n",
            "Epoch 4/8\n",
            "200/200 [==============================] - 155s 771ms/step - loss: 0.4974 - accuracy: 0.7611 - val_loss: 0.5055 - val_accuracy: 0.7577\n",
            "Epoch 5/8\n",
            "200/200 [==============================] - 152s 760ms/step - loss: 0.4751 - accuracy: 0.7769 - val_loss: 0.4962 - val_accuracy: 0.7617\n",
            "Epoch 6/8\n",
            "200/200 [==============================] - 151s 753ms/step - loss: 0.4433 - accuracy: 0.7904 - val_loss: 0.4902 - val_accuracy: 0.7680\n",
            "Epoch 7/8\n",
            "200/200 [==============================] - 154s 765ms/step - loss: 0.3956 - accuracy: 0.8245 - val_loss: 0.5076 - val_accuracy: 0.7639\n",
            "Epoch 8/8\n",
            "200/200 [==============================] - 151s 753ms/step - loss: 0.3598 - accuracy: 0.8414 - val_loss: 0.5157 - val_accuracy: 0.7570\n"
          ],
          "name": "stdout"
        },
        {
          "output_type": "display_data",
          "data": {
            "text/html": [
              "<br/>Waiting for W&B process to finish, PID 736<br/>Program ended successfully."
            ],
            "text/plain": [
              "<IPython.core.display.HTML object>"
            ]
          },
          "metadata": {
            "tags": []
          }
        },
        {
          "output_type": "display_data",
          "data": {
            "application/vnd.jupyter.widget-view+json": {
              "model_id": "58cb2e174b3a48d6b7a0b86210dba6ce",
              "version_minor": 0,
              "version_major": 2
            },
            "text/plain": [
              "VBox(children=(Label(value=' 183.73MB of 183.73MB uploaded (0.00MB deduped)\\r'), FloatProgress(value=1.0, max=…"
            ]
          },
          "metadata": {
            "tags": []
          }
        },
        {
          "output_type": "display_data",
          "data": {
            "text/html": [
              "Find user logs for this run at: <code>/content/wandb/run-20210328_124843-yn4fw7je/logs/debug.log</code>"
            ],
            "text/plain": [
              "<IPython.core.display.HTML object>"
            ]
          },
          "metadata": {
            "tags": []
          }
        },
        {
          "output_type": "display_data",
          "data": {
            "text/html": [
              "Find internal logs for this run at: <code>/content/wandb/run-20210328_124843-yn4fw7je/logs/debug-internal.log</code>"
            ],
            "text/plain": [
              "<IPython.core.display.HTML object>"
            ]
          },
          "metadata": {
            "tags": []
          }
        },
        {
          "output_type": "display_data",
          "data": {
            "text/html": [
              "<h3>Run summary:</h3><br/><style>\n",
              "    table.wandb td:nth-child(1) { padding: 0 10px; text-align: right }\n",
              "    </style><table class=\"wandb\">\n",
              "<tr><td>epoch</td><td>7</td></tr><tr><td>loss</td><td>0.36113</td></tr><tr><td>accuracy</td><td>0.84145</td></tr><tr><td>val_loss</td><td>0.51566</td></tr><tr><td>val_accuracy</td><td>0.75703</td></tr><tr><td>_runtime</td><td>1220</td></tr><tr><td>_timestamp</td><td>1616936943</td></tr><tr><td>_step</td><td>7</td></tr><tr><td>best_val_loss</td><td>0.49023</td></tr><tr><td>best_epoch</td><td>5</td></tr></table>"
            ],
            "text/plain": [
              "<IPython.core.display.HTML object>"
            ]
          },
          "metadata": {
            "tags": []
          }
        },
        {
          "output_type": "display_data",
          "data": {
            "text/html": [
              "<h3>Run history:</h3><br/><style>\n",
              "    table.wandb td:nth-child(1) { padding: 0 10px; text-align: right }\n",
              "    </style><table class=\"wandb\">\n",
              "<tr><td>epoch</td><td>▁▂▃▄▅▆▇█</td></tr><tr><td>loss</td><td>█▇▅▄▄▃▂▁</td></tr><tr><td>accuracy</td><td>▁▄▅▆▆▇▇█</td></tr><tr><td>val_loss</td><td>█▇▃▂▁▁▂▂</td></tr><tr><td>val_accuracy</td><td>▁▄▇▇███▇</td></tr><tr><td>_runtime</td><td>▁▂▃▄▅▆▇█</td></tr><tr><td>_timestamp</td><td>▁▂▃▄▅▆▇█</td></tr><tr><td>_step</td><td>▁▂▃▄▅▆▇█</td></tr></table><br/>"
            ],
            "text/plain": [
              "<IPython.core.display.HTML object>"
            ]
          },
          "metadata": {
            "tags": []
          }
        },
        {
          "output_type": "display_data",
          "data": {
            "text/html": [
              "Synced 5 W&B file(s), 1 media file(s), 0 artifact file(s) and 1 other file(s)"
            ],
            "text/plain": [
              "<IPython.core.display.HTML object>"
            ]
          },
          "metadata": {
            "tags": []
          }
        },
        {
          "output_type": "display_data",
          "data": {
            "text/html": [
              "\n",
              "                    <br/>Synced <strong style=\"color:#cdcd00\">azure-sweep-3</strong>: <a href=\"https://wandb.ai/lucialarraona/Sweepslucia/runs/yn4fw7je\" target=\"_blank\">https://wandb.ai/lucialarraona/Sweepslucia/runs/yn4fw7je</a><br/>\n",
              "                "
            ],
            "text/plain": [
              "<IPython.core.display.HTML object>"
            ]
          },
          "metadata": {
            "tags": []
          }
        },
        {
          "output_type": "stream",
          "text": [
            "\u001b[34m\u001b[1mwandb\u001b[0m: Agent Starting Run: d00fbnxg with config:\n",
            "\u001b[34m\u001b[1mwandb\u001b[0m: \tactivation: sigmoid\n",
            "\u001b[34m\u001b[1mwandb\u001b[0m: \tbatch_size: 128\n",
            "\u001b[34m\u001b[1mwandb\u001b[0m: \tdropout: 0.4\n",
            "\u001b[34m\u001b[1mwandb\u001b[0m: \tepochs: 5\n",
            "\u001b[34m\u001b[1mwandb\u001b[0m: \tlearning_rate: 0.001\n",
            "\u001b[34m\u001b[1mwandb\u001b[0m: \toptimizer: adam\n"
          ],
          "name": "stderr"
        },
        {
          "output_type": "display_data",
          "data": {
            "text/html": [
              "\n",
              "                Tracking run with wandb version 0.10.23<br/>\n",
              "                Syncing run <strong style=\"color:#cdcd00\">toasty-sweep-4</strong> to <a href=\"https://wandb.ai\" target=\"_blank\">Weights & Biases</a> <a href=\"https://docs.wandb.com/integrations/jupyter.html\" target=\"_blank\">(Documentation)</a>.<br/>\n",
              "                Project page: <a href=\"https://wandb.ai/lucialarraona/Sweepslucia\" target=\"_blank\">https://wandb.ai/lucialarraona/Sweepslucia</a><br/>\n",
              "                Sweep page: <a href=\"https://wandb.ai/lucialarraona/Sweepslucia/sweeps/nn08ycka\" target=\"_blank\">https://wandb.ai/lucialarraona/Sweepslucia/sweeps/nn08ycka</a><br/>\n",
              "Run page: <a href=\"https://wandb.ai/lucialarraona/Sweepslucia/runs/d00fbnxg\" target=\"_blank\">https://wandb.ai/lucialarraona/Sweepslucia/runs/d00fbnxg</a><br/>\n",
              "                Run data is saved locally in <code>/content/wandb/run-20210328_130910-d00fbnxg</code><br/><br/>\n",
              "            "
            ],
            "text/plain": [
              "<IPython.core.display.HTML object>"
            ]
          },
          "metadata": {
            "tags": []
          }
        },
        {
          "output_type": "stream",
          "text": [
            "Epoch 1/5\n",
            "200/200 [==============================] - 155s 761ms/step - loss: 0.6707 - accuracy: 0.5730 - val_loss: 0.5692 - val_accuracy: 0.7147\n",
            "Epoch 2/5\n",
            "200/200 [==============================] - 152s 759ms/step - loss: 0.5445 - accuracy: 0.7230 - val_loss: 0.5150 - val_accuracy: 0.7484\n",
            "Epoch 3/5\n",
            "200/200 [==============================] - 149s 745ms/step - loss: 0.4750 - accuracy: 0.7723 - val_loss: 0.4749 - val_accuracy: 0.7758\n",
            "Epoch 4/5\n",
            "200/200 [==============================] - 151s 754ms/step - loss: 0.3846 - accuracy: 0.8264 - val_loss: 0.4787 - val_accuracy: 0.7800\n",
            "Epoch 5/5\n",
            "200/200 [==============================] - 152s 762ms/step - loss: 0.3117 - accuracy: 0.8651 - val_loss: 0.4958 - val_accuracy: 0.7722\n"
          ],
          "name": "stdout"
        },
        {
          "output_type": "display_data",
          "data": {
            "text/html": [
              "<br/>Waiting for W&B process to finish, PID 926<br/>Program ended successfully."
            ],
            "text/plain": [
              "<IPython.core.display.HTML object>"
            ]
          },
          "metadata": {
            "tags": []
          }
        },
        {
          "output_type": "display_data",
          "data": {
            "application/vnd.jupyter.widget-view+json": {
              "model_id": "a82e36261c134e0da7debc731f916f2d",
              "version_minor": 0,
              "version_major": 2
            },
            "text/plain": [
              "VBox(children=(Label(value=' 183.73MB of 183.73MB uploaded (0.00MB deduped)\\r'), FloatProgress(value=1.0, max=…"
            ]
          },
          "metadata": {
            "tags": []
          }
        },
        {
          "output_type": "display_data",
          "data": {
            "text/html": [
              "Find user logs for this run at: <code>/content/wandb/run-20210328_130910-d00fbnxg/logs/debug.log</code>"
            ],
            "text/plain": [
              "<IPython.core.display.HTML object>"
            ]
          },
          "metadata": {
            "tags": []
          }
        },
        {
          "output_type": "display_data",
          "data": {
            "text/html": [
              "Find internal logs for this run at: <code>/content/wandb/run-20210328_130910-d00fbnxg/logs/debug-internal.log</code>"
            ],
            "text/plain": [
              "<IPython.core.display.HTML object>"
            ]
          },
          "metadata": {
            "tags": []
          }
        },
        {
          "output_type": "display_data",
          "data": {
            "text/html": [
              "<h3>Run summary:</h3><br/><style>\n",
              "    table.wandb td:nth-child(1) { padding: 0 10px; text-align: right }\n",
              "    </style><table class=\"wandb\">\n",
              "<tr><td>epoch</td><td>4</td></tr><tr><td>loss</td><td>0.31541</td></tr><tr><td>accuracy</td><td>0.86406</td></tr><tr><td>val_loss</td><td>0.4958</td></tr><tr><td>val_accuracy</td><td>0.77219</td></tr><tr><td>_runtime</td><td>763</td></tr><tr><td>_timestamp</td><td>1616937713</td></tr><tr><td>_step</td><td>4</td></tr><tr><td>best_val_loss</td><td>0.47494</td></tr><tr><td>best_epoch</td><td>2</td></tr></table>"
            ],
            "text/plain": [
              "<IPython.core.display.HTML object>"
            ]
          },
          "metadata": {
            "tags": []
          }
        },
        {
          "output_type": "display_data",
          "data": {
            "text/html": [
              "<h3>Run history:</h3><br/><style>\n",
              "    table.wandb td:nth-child(1) { padding: 0 10px; text-align: right }\n",
              "    </style><table class=\"wandb\">\n",
              "<tr><td>epoch</td><td>▁▃▅▆█</td></tr><tr><td>loss</td><td>█▆▄▃▁</td></tr><tr><td>accuracy</td><td>▁▄▆▇█</td></tr><tr><td>val_loss</td><td>█▄▁▁▃</td></tr><tr><td>val_accuracy</td><td>▁▅██▇</td></tr><tr><td>_runtime</td><td>▁▃▄▆█</td></tr><tr><td>_timestamp</td><td>▁▃▄▆█</td></tr><tr><td>_step</td><td>▁▃▅▆█</td></tr></table><br/>"
            ],
            "text/plain": [
              "<IPython.core.display.HTML object>"
            ]
          },
          "metadata": {
            "tags": []
          }
        },
        {
          "output_type": "display_data",
          "data": {
            "text/html": [
              "Synced 5 W&B file(s), 1 media file(s), 0 artifact file(s) and 1 other file(s)"
            ],
            "text/plain": [
              "<IPython.core.display.HTML object>"
            ]
          },
          "metadata": {
            "tags": []
          }
        },
        {
          "output_type": "display_data",
          "data": {
            "text/html": [
              "\n",
              "                    <br/>Synced <strong style=\"color:#cdcd00\">toasty-sweep-4</strong>: <a href=\"https://wandb.ai/lucialarraona/Sweepslucia/runs/d00fbnxg\" target=\"_blank\">https://wandb.ai/lucialarraona/Sweepslucia/runs/d00fbnxg</a><br/>\n",
              "                "
            ],
            "text/plain": [
              "<IPython.core.display.HTML object>"
            ]
          },
          "metadata": {
            "tags": []
          }
        },
        {
          "output_type": "stream",
          "text": [
            "\u001b[34m\u001b[1mwandb\u001b[0m: Agent Starting Run: udt647o5 with config:\n",
            "\u001b[34m\u001b[1mwandb\u001b[0m: \tactivation: sigmoid\n",
            "\u001b[34m\u001b[1mwandb\u001b[0m: \tbatch_size: 128\n",
            "\u001b[34m\u001b[1mwandb\u001b[0m: \tdropout: 0.3\n",
            "\u001b[34m\u001b[1mwandb\u001b[0m: \tepochs: 8\n",
            "\u001b[34m\u001b[1mwandb\u001b[0m: \tlearning_rate: 1e-05\n",
            "\u001b[34m\u001b[1mwandb\u001b[0m: \toptimizer: adam\n"
          ],
          "name": "stderr"
        },
        {
          "output_type": "display_data",
          "data": {
            "text/html": [
              "\n",
              "                Tracking run with wandb version 0.10.23<br/>\n",
              "                Syncing run <strong style=\"color:#cdcd00\">true-sweep-5</strong> to <a href=\"https://wandb.ai\" target=\"_blank\">Weights & Biases</a> <a href=\"https://docs.wandb.com/integrations/jupyter.html\" target=\"_blank\">(Documentation)</a>.<br/>\n",
              "                Project page: <a href=\"https://wandb.ai/lucialarraona/Sweepslucia\" target=\"_blank\">https://wandb.ai/lucialarraona/Sweepslucia</a><br/>\n",
              "                Sweep page: <a href=\"https://wandb.ai/lucialarraona/Sweepslucia/sweeps/nn08ycka\" target=\"_blank\">https://wandb.ai/lucialarraona/Sweepslucia/sweeps/nn08ycka</a><br/>\n",
              "Run page: <a href=\"https://wandb.ai/lucialarraona/Sweepslucia/runs/udt647o5\" target=\"_blank\">https://wandb.ai/lucialarraona/Sweepslucia/runs/udt647o5</a><br/>\n",
              "                Run data is saved locally in <code>/content/wandb/run-20210328_132200-udt647o5</code><br/><br/>\n",
              "            "
            ],
            "text/plain": [
              "<IPython.core.display.HTML object>"
            ]
          },
          "metadata": {
            "tags": []
          }
        },
        {
          "output_type": "stream",
          "text": [
            "Epoch 1/8\n",
            "200/200 [==============================] - 153s 750ms/step - loss: 0.6931 - accuracy: 0.5092 - val_loss: 0.6931 - val_accuracy: 0.5072\n",
            "Epoch 2/8\n",
            "200/200 [==============================] - 149s 743ms/step - loss: 0.6928 - accuracy: 0.5297 - val_loss: 0.6925 - val_accuracy: 0.5327\n",
            "Epoch 3/8\n",
            "200/200 [==============================] - 152s 759ms/step - loss: 0.6919 - accuracy: 0.5423 - val_loss: 0.6909 - val_accuracy: 0.5467\n",
            "Epoch 4/8\n",
            "200/200 [==============================] - 151s 755ms/step - loss: 0.6889 - accuracy: 0.5628 - val_loss: 0.6863 - val_accuracy: 0.5622\n",
            "Epoch 5/8\n",
            "200/200 [==============================] - 153s 762ms/step - loss: 0.6815 - accuracy: 0.5787 - val_loss: 0.6780 - val_accuracy: 0.5867\n",
            "Epoch 6/8\n",
            "200/200 [==============================] - 153s 764ms/step - loss: 0.6728 - accuracy: 0.5925 - val_loss: 0.6742 - val_accuracy: 0.5948\n",
            "Epoch 7/8\n",
            "200/200 [==============================] - 150s 747ms/step - loss: 0.6694 - accuracy: 0.5974 - val_loss: 0.6733 - val_accuracy: 0.5944\n",
            "Epoch 8/8\n",
            "200/200 [==============================] - 149s 741ms/step - loss: 0.6652 - accuracy: 0.6043 - val_loss: 0.6686 - val_accuracy: 0.6027\n"
          ],
          "name": "stdout"
        },
        {
          "output_type": "display_data",
          "data": {
            "text/html": [
              "<br/>Waiting for W&B process to finish, PID 1028<br/>Program ended successfully."
            ],
            "text/plain": [
              "<IPython.core.display.HTML object>"
            ]
          },
          "metadata": {
            "tags": []
          }
        },
        {
          "output_type": "display_data",
          "data": {
            "application/vnd.jupyter.widget-view+json": {
              "model_id": "118d81d4fb57452a8d27ca6564e81684",
              "version_minor": 0,
              "version_major": 2
            },
            "text/plain": [
              "VBox(children=(Label(value=' 183.73MB of 183.73MB uploaded (0.00MB deduped)\\r'), FloatProgress(value=1.0, max=…"
            ]
          },
          "metadata": {
            "tags": []
          }
        },
        {
          "output_type": "display_data",
          "data": {
            "text/html": [
              "Find user logs for this run at: <code>/content/wandb/run-20210328_132200-udt647o5/logs/debug.log</code>"
            ],
            "text/plain": [
              "<IPython.core.display.HTML object>"
            ]
          },
          "metadata": {
            "tags": []
          }
        },
        {
          "output_type": "display_data",
          "data": {
            "text/html": [
              "Find internal logs for this run at: <code>/content/wandb/run-20210328_132200-udt647o5/logs/debug-internal.log</code>"
            ],
            "text/plain": [
              "<IPython.core.display.HTML object>"
            ]
          },
          "metadata": {
            "tags": []
          }
        },
        {
          "output_type": "display_data",
          "data": {
            "text/html": [
              "<h3>Run summary:</h3><br/><style>\n",
              "    table.wandb td:nth-child(1) { padding: 0 10px; text-align: right }\n",
              "    </style><table class=\"wandb\">\n",
              "<tr><td>epoch</td><td>7</td></tr><tr><td>loss</td><td>0.66428</td></tr><tr><td>accuracy</td><td>0.60672</td></tr><tr><td>val_loss</td><td>0.66862</td></tr><tr><td>val_accuracy</td><td>0.60266</td></tr><tr><td>_runtime</td><td>1214</td></tr><tr><td>_timestamp</td><td>1616938934</td></tr><tr><td>_step</td><td>7</td></tr><tr><td>best_val_loss</td><td>0.66862</td></tr><tr><td>best_epoch</td><td>7</td></tr></table>"
            ],
            "text/plain": [
              "<IPython.core.display.HTML object>"
            ]
          },
          "metadata": {
            "tags": []
          }
        },
        {
          "output_type": "display_data",
          "data": {
            "text/html": [
              "<h3>Run history:</h3><br/><style>\n",
              "    table.wandb td:nth-child(1) { padding: 0 10px; text-align: right }\n",
              "    </style><table class=\"wandb\">\n",
              "<tr><td>epoch</td><td>▁▂▃▄▅▆▇█</td></tr><tr><td>loss</td><td>███▇▅▃▂▁</td></tr><tr><td>accuracy</td><td>▁▃▄▅▆▇██</td></tr><tr><td>val_loss</td><td>██▇▆▄▃▂▁</td></tr><tr><td>val_accuracy</td><td>▁▃▄▅▇▇▇█</td></tr><tr><td>_runtime</td><td>▁▂▃▄▅▆▇█</td></tr><tr><td>_timestamp</td><td>▁▂▃▄▅▆▇█</td></tr><tr><td>_step</td><td>▁▂▃▄▅▆▇█</td></tr></table><br/>"
            ],
            "text/plain": [
              "<IPython.core.display.HTML object>"
            ]
          },
          "metadata": {
            "tags": []
          }
        },
        {
          "output_type": "display_data",
          "data": {
            "text/html": [
              "Synced 5 W&B file(s), 1 media file(s), 0 artifact file(s) and 1 other file(s)"
            ],
            "text/plain": [
              "<IPython.core.display.HTML object>"
            ]
          },
          "metadata": {
            "tags": []
          }
        },
        {
          "output_type": "display_data",
          "data": {
            "text/html": [
              "\n",
              "                    <br/>Synced <strong style=\"color:#cdcd00\">true-sweep-5</strong>: <a href=\"https://wandb.ai/lucialarraona/Sweepslucia/runs/udt647o5\" target=\"_blank\">https://wandb.ai/lucialarraona/Sweepslucia/runs/udt647o5</a><br/>\n",
              "                "
            ],
            "text/plain": [
              "<IPython.core.display.HTML object>"
            ]
          },
          "metadata": {
            "tags": []
          }
        },
        {
          "output_type": "stream",
          "text": [
            "\u001b[34m\u001b[1mwandb\u001b[0m: Agent Starting Run: eg12dmia with config:\n",
            "\u001b[34m\u001b[1mwandb\u001b[0m: \tactivation: sigmoid\n",
            "\u001b[34m\u001b[1mwandb\u001b[0m: \tbatch_size: 64\n",
            "\u001b[34m\u001b[1mwandb\u001b[0m: \tdropout: 0.3\n",
            "\u001b[34m\u001b[1mwandb\u001b[0m: \tepochs: 5\n",
            "\u001b[34m\u001b[1mwandb\u001b[0m: \tlearning_rate: 0.003\n",
            "\u001b[34m\u001b[1mwandb\u001b[0m: \toptimizer: adam\n"
          ],
          "name": "stderr"
        },
        {
          "output_type": "display_data",
          "data": {
            "text/html": [
              "\n",
              "                Tracking run with wandb version 0.10.23<br/>\n",
              "                Syncing run <strong style=\"color:#cdcd00\">revived-sweep-6</strong> to <a href=\"https://wandb.ai\" target=\"_blank\">Weights & Biases</a> <a href=\"https://docs.wandb.com/integrations/jupyter.html\" target=\"_blank\">(Documentation)</a>.<br/>\n",
              "                Project page: <a href=\"https://wandb.ai/lucialarraona/Sweepslucia\" target=\"_blank\">https://wandb.ai/lucialarraona/Sweepslucia</a><br/>\n",
              "                Sweep page: <a href=\"https://wandb.ai/lucialarraona/Sweepslucia/sweeps/nn08ycka\" target=\"_blank\">https://wandb.ai/lucialarraona/Sweepslucia/sweeps/nn08ycka</a><br/>\n",
              "Run page: <a href=\"https://wandb.ai/lucialarraona/Sweepslucia/runs/eg12dmia\" target=\"_blank\">https://wandb.ai/lucialarraona/Sweepslucia/runs/eg12dmia</a><br/>\n",
              "                Run data is saved locally in <code>/content/wandb/run-20210328_134223-eg12dmia</code><br/><br/>\n",
              "            "
            ],
            "text/plain": [
              "<IPython.core.display.HTML object>"
            ]
          },
          "metadata": {
            "tags": []
          }
        },
        {
          "output_type": "stream",
          "text": [
            "Epoch 1/5\n",
            "400/400 [==============================] - 299s 738ms/step - loss: 0.6478 - accuracy: 0.6089 - val_loss: 0.5072 - val_accuracy: 0.7525\n",
            "Epoch 2/5\n",
            "400/400 [==============================] - 304s 758ms/step - loss: 0.4886 - accuracy: 0.7641 - val_loss: 0.4778 - val_accuracy: 0.7708\n",
            "Epoch 3/5\n",
            "400/400 [==============================] - 304s 761ms/step - loss: 0.3862 - accuracy: 0.8216 - val_loss: 0.4709 - val_accuracy: 0.7867\n",
            "Epoch 4/5\n",
            "400/400 [==============================] - 306s 764ms/step - loss: 0.2593 - accuracy: 0.8933 - val_loss: 0.4902 - val_accuracy: 0.7867\n",
            "Epoch 5/5\n",
            "400/400 [==============================] - 301s 753ms/step - loss: 0.1592 - accuracy: 0.9412 - val_loss: 0.6017 - val_accuracy: 0.7783\n"
          ],
          "name": "stdout"
        },
        {
          "output_type": "display_data",
          "data": {
            "text/html": [
              "<br/>Waiting for W&B process to finish, PID 1154<br/>Program ended successfully."
            ],
            "text/plain": [
              "<IPython.core.display.HTML object>"
            ]
          },
          "metadata": {
            "tags": []
          }
        },
        {
          "output_type": "display_data",
          "data": {
            "application/vnd.jupyter.widget-view+json": {
              "model_id": "66187b6ba8064f6981de28b548ab9593",
              "version_minor": 0,
              "version_major": 2
            },
            "text/plain": [
              "VBox(children=(Label(value=' 183.73MB of 183.73MB uploaded (0.00MB deduped)\\r'), FloatProgress(value=1.0, max=…"
            ]
          },
          "metadata": {
            "tags": []
          }
        },
        {
          "output_type": "display_data",
          "data": {
            "text/html": [
              "Find user logs for this run at: <code>/content/wandb/run-20210328_134223-eg12dmia/logs/debug.log</code>"
            ],
            "text/plain": [
              "<IPython.core.display.HTML object>"
            ]
          },
          "metadata": {
            "tags": []
          }
        },
        {
          "output_type": "display_data",
          "data": {
            "text/html": [
              "Find internal logs for this run at: <code>/content/wandb/run-20210328_134223-eg12dmia/logs/debug-internal.log</code>"
            ],
            "text/plain": [
              "<IPython.core.display.HTML object>"
            ]
          },
          "metadata": {
            "tags": []
          }
        },
        {
          "output_type": "display_data",
          "data": {
            "text/html": [
              "<h3>Run summary:</h3><br/><style>\n",
              "    table.wandb td:nth-child(1) { padding: 0 10px; text-align: right }\n",
              "    </style><table class=\"wandb\">\n",
              "<tr><td>epoch</td><td>4</td></tr><tr><td>loss</td><td>0.16632</td></tr><tr><td>accuracy</td><td>0.9366</td></tr><tr><td>val_loss</td><td>0.60165</td></tr><tr><td>val_accuracy</td><td>0.77828</td></tr><tr><td>_runtime</td><td>1518</td></tr><tr><td>_timestamp</td><td>1616940461</td></tr><tr><td>_step</td><td>4</td></tr><tr><td>best_val_loss</td><td>0.47094</td></tr><tr><td>best_epoch</td><td>2</td></tr></table>"
            ],
            "text/plain": [
              "<IPython.core.display.HTML object>"
            ]
          },
          "metadata": {
            "tags": []
          }
        },
        {
          "output_type": "display_data",
          "data": {
            "text/html": [
              "<h3>Run history:</h3><br/><style>\n",
              "    table.wandb td:nth-child(1) { padding: 0 10px; text-align: right }\n",
              "    </style><table class=\"wandb\">\n",
              "<tr><td>epoch</td><td>▁▃▅▆█</td></tr><tr><td>loss</td><td>█▆▄▃▁</td></tr><tr><td>accuracy</td><td>▁▄▅▇█</td></tr><tr><td>val_loss</td><td>▃▁▁▂█</td></tr><tr><td>val_accuracy</td><td>▁▅██▆</td></tr><tr><td>_runtime</td><td>▁▃▅▆█</td></tr><tr><td>_timestamp</td><td>▁▃▅▆█</td></tr><tr><td>_step</td><td>▁▃▅▆█</td></tr></table><br/>"
            ],
            "text/plain": [
              "<IPython.core.display.HTML object>"
            ]
          },
          "metadata": {
            "tags": []
          }
        },
        {
          "output_type": "display_data",
          "data": {
            "text/html": [
              "Synced 5 W&B file(s), 1 media file(s), 0 artifact file(s) and 1 other file(s)"
            ],
            "text/plain": [
              "<IPython.core.display.HTML object>"
            ]
          },
          "metadata": {
            "tags": []
          }
        },
        {
          "output_type": "display_data",
          "data": {
            "text/html": [
              "\n",
              "                    <br/>Synced <strong style=\"color:#cdcd00\">revived-sweep-6</strong>: <a href=\"https://wandb.ai/lucialarraona/Sweepslucia/runs/eg12dmia\" target=\"_blank\">https://wandb.ai/lucialarraona/Sweepslucia/runs/eg12dmia</a><br/>\n",
              "                "
            ],
            "text/plain": [
              "<IPython.core.display.HTML object>"
            ]
          },
          "metadata": {
            "tags": []
          }
        },
        {
          "output_type": "stream",
          "text": [
            "\u001b[34m\u001b[1mwandb\u001b[0m: Agent Starting Run: u8y6mc5m with config:\n",
            "\u001b[34m\u001b[1mwandb\u001b[0m: \tactivation: sigmoid\n",
            "\u001b[34m\u001b[1mwandb\u001b[0m: \tbatch_size: 64\n",
            "\u001b[34m\u001b[1mwandb\u001b[0m: \tdropout: 0.4\n",
            "\u001b[34m\u001b[1mwandb\u001b[0m: \tepochs: 8\n",
            "\u001b[34m\u001b[1mwandb\u001b[0m: \tlearning_rate: 0.0003\n",
            "\u001b[34m\u001b[1mwandb\u001b[0m: \toptimizer: adam\n"
          ],
          "name": "stderr"
        },
        {
          "output_type": "display_data",
          "data": {
            "text/html": [
              "\n",
              "                Tracking run with wandb version 0.10.23<br/>\n",
              "                Syncing run <strong style=\"color:#cdcd00\">vital-sweep-7</strong> to <a href=\"https://wandb.ai\" target=\"_blank\">Weights & Biases</a> <a href=\"https://docs.wandb.com/integrations/jupyter.html\" target=\"_blank\">(Documentation)</a>.<br/>\n",
              "                Project page: <a href=\"https://wandb.ai/lucialarraona/Sweepslucia\" target=\"_blank\">https://wandb.ai/lucialarraona/Sweepslucia</a><br/>\n",
              "                Sweep page: <a href=\"https://wandb.ai/lucialarraona/Sweepslucia/sweeps/nn08ycka\" target=\"_blank\">https://wandb.ai/lucialarraona/Sweepslucia/sweeps/nn08ycka</a><br/>\n",
              "Run page: <a href=\"https://wandb.ai/lucialarraona/Sweepslucia/runs/u8y6mc5m\" target=\"_blank\">https://wandb.ai/lucialarraona/Sweepslucia/runs/u8y6mc5m</a><br/>\n",
              "                Run data is saved locally in <code>/content/wandb/run-20210328_140749-u8y6mc5m</code><br/><br/>\n",
              "            "
            ],
            "text/plain": [
              "<IPython.core.display.HTML object>"
            ]
          },
          "metadata": {
            "tags": []
          }
        },
        {
          "output_type": "stream",
          "text": [
            "Epoch 1/8\n",
            "400/400 [==============================] - 302s 748ms/step - loss: 0.6808 - accuracy: 0.5528 - val_loss: 0.6077 - val_accuracy: 0.6639\n",
            "Epoch 2/8\n",
            "400/400 [==============================] - 306s 762ms/step - loss: 0.5913 - accuracy: 0.6823 - val_loss: 0.5585 - val_accuracy: 0.7159\n",
            "Epoch 3/8\n",
            "400/400 [==============================] - 308s 769ms/step - loss: 0.5421 - accuracy: 0.7252 - val_loss: 0.5290 - val_accuracy: 0.7327\n",
            "Epoch 4/8\n",
            "400/400 [==============================] - 309s 772ms/step - loss: 0.4906 - accuracy: 0.7614 - val_loss: 0.4882 - val_accuracy: 0.7622\n",
            "Epoch 5/8\n",
            "400/400 [==============================] - 302s 755ms/step - loss: 0.4459 - accuracy: 0.7888 - val_loss: 0.4822 - val_accuracy: 0.7667\n",
            "Epoch 6/8\n",
            "400/400 [==============================] - 309s 772ms/step - loss: 0.3965 - accuracy: 0.8171 - val_loss: 0.4852 - val_accuracy: 0.7728\n",
            "Epoch 7/8\n",
            "400/400 [==============================] - 310s 774ms/step - loss: 0.4208 - accuracy: 0.7735 - val_loss: 0.6932 - val_accuracy: 0.5042\n",
            "Epoch 8/8\n",
            "400/400 [==============================] - 306s 766ms/step - loss: 0.6934 - accuracy: 0.4958 - val_loss: 0.6931 - val_accuracy: 0.5042\n"
          ],
          "name": "stdout"
        },
        {
          "output_type": "display_data",
          "data": {
            "text/html": [
              "<br/>Waiting for W&B process to finish, PID 1272<br/>Program ended successfully."
            ],
            "text/plain": [
              "<IPython.core.display.HTML object>"
            ]
          },
          "metadata": {
            "tags": []
          }
        },
        {
          "output_type": "display_data",
          "data": {
            "application/vnd.jupyter.widget-view+json": {
              "model_id": "c1c96b90335f4653a7fbf56f2cc2b9b4",
              "version_minor": 0,
              "version_major": 2
            },
            "text/plain": [
              "VBox(children=(Label(value=' 183.73MB of 183.73MB uploaded (0.00MB deduped)\\r'), FloatProgress(value=1.0, max=…"
            ]
          },
          "metadata": {
            "tags": []
          }
        },
        {
          "output_type": "display_data",
          "data": {
            "text/html": [
              "Find user logs for this run at: <code>/content/wandb/run-20210328_140749-u8y6mc5m/logs/debug.log</code>"
            ],
            "text/plain": [
              "<IPython.core.display.HTML object>"
            ]
          },
          "metadata": {
            "tags": []
          }
        },
        {
          "output_type": "display_data",
          "data": {
            "text/html": [
              "Find internal logs for this run at: <code>/content/wandb/run-20210328_140749-u8y6mc5m/logs/debug-internal.log</code>"
            ],
            "text/plain": [
              "<IPython.core.display.HTML object>"
            ]
          },
          "metadata": {
            "tags": []
          }
        },
        {
          "output_type": "display_data",
          "data": {
            "text/html": [
              "<h3>Run summary:</h3><br/><style>\n",
              "    table.wandb td:nth-child(1) { padding: 0 10px; text-align: right }\n",
              "    </style><table class=\"wandb\">\n",
              "<tr><td>epoch</td><td>7</td></tr><tr><td>loss</td><td>0.69331</td></tr><tr><td>accuracy</td><td>0.49734</td></tr><tr><td>val_loss</td><td>0.69311</td></tr><tr><td>val_accuracy</td><td>0.50422</td></tr><tr><td>_runtime</td><td>2458</td></tr><tr><td>_timestamp</td><td>1616942927</td></tr><tr><td>_step</td><td>7</td></tr><tr><td>best_val_loss</td><td>0.48222</td></tr><tr><td>best_epoch</td><td>4</td></tr></table>"
            ],
            "text/plain": [
              "<IPython.core.display.HTML object>"
            ]
          },
          "metadata": {
            "tags": []
          }
        },
        {
          "output_type": "display_data",
          "data": {
            "text/html": [
              "<h3>Run history:</h3><br/><style>\n",
              "    table.wandb td:nth-child(1) { padding: 0 10px; text-align: right }\n",
              "    </style><table class=\"wandb\">\n",
              "<tr><td>epoch</td><td>▁▂▃▄▅▆▇█</td></tr><tr><td>loss</td><td>▇▅▄▃▂▁▄█</td></tr><tr><td>accuracy</td><td>▃▅▆▇▇█▄▁</td></tr><tr><td>val_loss</td><td>▅▄▃▁▁▁██</td></tr><tr><td>val_accuracy</td><td>▅▇▇███▁▁</td></tr><tr><td>_runtime</td><td>▁▂▃▄▅▆▇█</td></tr><tr><td>_timestamp</td><td>▁▂▃▄▅▆▇█</td></tr><tr><td>_step</td><td>▁▂▃▄▅▆▇█</td></tr></table><br/>"
            ],
            "text/plain": [
              "<IPython.core.display.HTML object>"
            ]
          },
          "metadata": {
            "tags": []
          }
        },
        {
          "output_type": "display_data",
          "data": {
            "text/html": [
              "Synced 5 W&B file(s), 1 media file(s), 0 artifact file(s) and 1 other file(s)"
            ],
            "text/plain": [
              "<IPython.core.display.HTML object>"
            ]
          },
          "metadata": {
            "tags": []
          }
        },
        {
          "output_type": "display_data",
          "data": {
            "text/html": [
              "\n",
              "                    <br/>Synced <strong style=\"color:#cdcd00\">vital-sweep-7</strong>: <a href=\"https://wandb.ai/lucialarraona/Sweepslucia/runs/u8y6mc5m\" target=\"_blank\">https://wandb.ai/lucialarraona/Sweepslucia/runs/u8y6mc5m</a><br/>\n",
              "                "
            ],
            "text/plain": [
              "<IPython.core.display.HTML object>"
            ]
          },
          "metadata": {
            "tags": []
          }
        },
        {
          "output_type": "stream",
          "text": [
            "\u001b[34m\u001b[1mwandb\u001b[0m: Agent Starting Run: evo86fp3 with config:\n",
            "\u001b[34m\u001b[1mwandb\u001b[0m: \tactivation: sigmoid\n",
            "\u001b[34m\u001b[1mwandb\u001b[0m: \tbatch_size: 64\n",
            "\u001b[34m\u001b[1mwandb\u001b[0m: \tdropout: 0.3\n",
            "\u001b[34m\u001b[1mwandb\u001b[0m: \tepochs: 5\n",
            "\u001b[34m\u001b[1mwandb\u001b[0m: \tlearning_rate: 0.0003\n",
            "\u001b[34m\u001b[1mwandb\u001b[0m: \toptimizer: adam\n"
          ],
          "name": "stderr"
        },
        {
          "output_type": "display_data",
          "data": {
            "text/html": [
              "\n",
              "                Tracking run with wandb version 0.10.23<br/>\n",
              "                Syncing run <strong style=\"color:#cdcd00\">desert-sweep-8</strong> to <a href=\"https://wandb.ai\" target=\"_blank\">Weights & Biases</a> <a href=\"https://docs.wandb.com/integrations/jupyter.html\" target=\"_blank\">(Documentation)</a>.<br/>\n",
              "                Project page: <a href=\"https://wandb.ai/lucialarraona/Sweepslucia\" target=\"_blank\">https://wandb.ai/lucialarraona/Sweepslucia</a><br/>\n",
              "                Sweep page: <a href=\"https://wandb.ai/lucialarraona/Sweepslucia/sweeps/nn08ycka\" target=\"_blank\">https://wandb.ai/lucialarraona/Sweepslucia/sweeps/nn08ycka</a><br/>\n",
              "Run page: <a href=\"https://wandb.ai/lucialarraona/Sweepslucia/runs/evo86fp3\" target=\"_blank\">https://wandb.ai/lucialarraona/Sweepslucia/runs/evo86fp3</a><br/>\n",
              "                Run data is saved locally in <code>/content/wandb/run-20210328_144855-evo86fp3</code><br/><br/>\n",
              "            "
            ],
            "text/plain": [
              "<IPython.core.display.HTML object>"
            ]
          },
          "metadata": {
            "tags": []
          }
        },
        {
          "output_type": "stream",
          "text": [
            "Epoch 1/5\n",
            "400/400 [==============================] - 304s 753ms/step - loss: 0.6787 - accuracy: 0.5499 - val_loss: 0.6397 - val_accuracy: 0.6519\n",
            "Epoch 2/5\n",
            "400/400 [==============================] - 294s 735ms/step - loss: 0.5871 - accuracy: 0.6825 - val_loss: 0.5525 - val_accuracy: 0.7269\n",
            "Epoch 3/5\n",
            "400/400 [==============================] - 294s 735ms/step - loss: 0.5256 - accuracy: 0.7372 - val_loss: 0.4978 - val_accuracy: 0.7580\n",
            "Epoch 4/5\n",
            "400/400 [==============================] - 295s 737ms/step - loss: 0.4815 - accuracy: 0.7684 - val_loss: 0.4991 - val_accuracy: 0.7559\n",
            "Epoch 5/5\n",
            "400/400 [==============================] - 298s 744ms/step - loss: 0.4284 - accuracy: 0.7977 - val_loss: 0.4820 - val_accuracy: 0.7731\n"
          ],
          "name": "stdout"
        },
        {
          "output_type": "display_data",
          "data": {
            "text/html": [
              "<br/>Waiting for W&B process to finish, PID 1535<br/>Program ended successfully."
            ],
            "text/plain": [
              "<IPython.core.display.HTML object>"
            ]
          },
          "metadata": {
            "tags": []
          }
        },
        {
          "output_type": "display_data",
          "data": {
            "application/vnd.jupyter.widget-view+json": {
              "model_id": "92d9894dff46420c93116a78871c2f9a",
              "version_minor": 0,
              "version_major": 2
            },
            "text/plain": [
              "VBox(children=(Label(value=' 1.57MB of 183.73MB uploaded (0.00MB deduped)\\r'), FloatProgress(value=0.008563645…"
            ]
          },
          "metadata": {
            "tags": []
          }
        },
        {
          "output_type": "display_data",
          "data": {
            "text/html": [
              "Find user logs for this run at: <code>/content/wandb/run-20210328_144855-evo86fp3/logs/debug.log</code>"
            ],
            "text/plain": [
              "<IPython.core.display.HTML object>"
            ]
          },
          "metadata": {
            "tags": []
          }
        },
        {
          "output_type": "display_data",
          "data": {
            "text/html": [
              "Find internal logs for this run at: <code>/content/wandb/run-20210328_144855-evo86fp3/logs/debug-internal.log</code>"
            ],
            "text/plain": [
              "<IPython.core.display.HTML object>"
            ]
          },
          "metadata": {
            "tags": []
          }
        },
        {
          "output_type": "display_data",
          "data": {
            "text/html": [
              "<h3>Run summary:</h3><br/><style>\n",
              "    table.wandb td:nth-child(1) { padding: 0 10px; text-align: right }\n",
              "    </style><table class=\"wandb\">\n",
              "<tr><td>epoch</td><td>4</td></tr><tr><td>loss</td><td>0.42497</td></tr><tr><td>accuracy</td><td>0.80098</td></tr><tr><td>val_loss</td><td>0.48201</td></tr><tr><td>val_accuracy</td><td>0.77312</td></tr><tr><td>_runtime</td><td>1490</td></tr><tr><td>_timestamp</td><td>1616944425</td></tr><tr><td>_step</td><td>4</td></tr><tr><td>best_val_loss</td><td>0.48201</td></tr><tr><td>best_epoch</td><td>4</td></tr></table>"
            ],
            "text/plain": [
              "<IPython.core.display.HTML object>"
            ]
          },
          "metadata": {
            "tags": []
          }
        },
        {
          "output_type": "display_data",
          "data": {
            "text/html": [
              "<h3>Run history:</h3><br/><style>\n",
              "    table.wandb td:nth-child(1) { padding: 0 10px; text-align: right }\n",
              "    </style><table class=\"wandb\">\n",
              "<tr><td>epoch</td><td>▁▃▅▆█</td></tr><tr><td>loss</td><td>█▆▄▂▁</td></tr><tr><td>accuracy</td><td>▁▄▆▇█</td></tr><tr><td>val_loss</td><td>█▄▂▂▁</td></tr><tr><td>val_accuracy</td><td>▁▅▇▇█</td></tr><tr><td>_runtime</td><td>▁▃▄▆█</td></tr><tr><td>_timestamp</td><td>▁▃▄▆█</td></tr><tr><td>_step</td><td>▁▃▅▆█</td></tr></table><br/>"
            ],
            "text/plain": [
              "<IPython.core.display.HTML object>"
            ]
          },
          "metadata": {
            "tags": []
          }
        },
        {
          "output_type": "display_data",
          "data": {
            "text/html": [
              "Synced 5 W&B file(s), 1 media file(s), 0 artifact file(s) and 1 other file(s)"
            ],
            "text/plain": [
              "<IPython.core.display.HTML object>"
            ]
          },
          "metadata": {
            "tags": []
          }
        },
        {
          "output_type": "display_data",
          "data": {
            "text/html": [
              "\n",
              "                    <br/>Synced <strong style=\"color:#cdcd00\">desert-sweep-8</strong>: <a href=\"https://wandb.ai/lucialarraona/Sweepslucia/runs/evo86fp3\" target=\"_blank\">https://wandb.ai/lucialarraona/Sweepslucia/runs/evo86fp3</a><br/>\n",
              "                "
            ],
            "text/plain": [
              "<IPython.core.display.HTML object>"
            ]
          },
          "metadata": {
            "tags": []
          }
        },
        {
          "output_type": "stream",
          "text": [
            "\u001b[34m\u001b[1mwandb\u001b[0m: Agent Starting Run: 0fz8qbi0 with config:\n",
            "\u001b[34m\u001b[1mwandb\u001b[0m: \tactivation: sigmoid\n",
            "\u001b[34m\u001b[1mwandb\u001b[0m: \tbatch_size: 64\n",
            "\u001b[34m\u001b[1mwandb\u001b[0m: \tdropout: 0.3\n",
            "\u001b[34m\u001b[1mwandb\u001b[0m: \tepochs: 5\n",
            "\u001b[34m\u001b[1mwandb\u001b[0m: \tlearning_rate: 0.003\n",
            "\u001b[34m\u001b[1mwandb\u001b[0m: \toptimizer: adam\n"
          ],
          "name": "stderr"
        },
        {
          "output_type": "display_data",
          "data": {
            "text/html": [
              "\n",
              "                Tracking run with wandb version 0.10.23<br/>\n",
              "                Syncing run <strong style=\"color:#cdcd00\">dulcet-sweep-9</strong> to <a href=\"https://wandb.ai\" target=\"_blank\">Weights & Biases</a> <a href=\"https://docs.wandb.com/integrations/jupyter.html\" target=\"_blank\">(Documentation)</a>.<br/>\n",
              "                Project page: <a href=\"https://wandb.ai/lucialarraona/Sweepslucia\" target=\"_blank\">https://wandb.ai/lucialarraona/Sweepslucia</a><br/>\n",
              "                Sweep page: <a href=\"https://wandb.ai/lucialarraona/Sweepslucia/sweeps/nn08ycka\" target=\"_blank\">https://wandb.ai/lucialarraona/Sweepslucia/sweeps/nn08ycka</a><br/>\n",
              "Run page: <a href=\"https://wandb.ai/lucialarraona/Sweepslucia/runs/0fz8qbi0\" target=\"_blank\">https://wandb.ai/lucialarraona/Sweepslucia/runs/0fz8qbi0</a><br/>\n",
              "                Run data is saved locally in <code>/content/wandb/run-20210328_151357-0fz8qbi0</code><br/><br/>\n",
              "            "
            ],
            "text/plain": [
              "<IPython.core.display.HTML object>"
            ]
          },
          "metadata": {
            "tags": []
          }
        },
        {
          "output_type": "stream",
          "text": [
            "Epoch 1/5\n",
            "400/400 [==============================] - 296s 731ms/step - loss: 0.6489 - accuracy: 0.6132 - val_loss: 0.5474 - val_accuracy: 0.7169\n",
            "Epoch 2/5\n",
            "400/400 [==============================] - 294s 732ms/step - loss: 0.4959 - accuracy: 0.7562 - val_loss: 0.4612 - val_accuracy: 0.7800\n",
            "Epoch 3/5\n",
            "400/400 [==============================] - 293s 730ms/step - loss: 0.3867 - accuracy: 0.8229 - val_loss: 0.4660 - val_accuracy: 0.7803\n",
            "Epoch 4/5\n",
            "400/400 [==============================] - 301s 753ms/step - loss: 0.2677 - accuracy: 0.8876 - val_loss: 0.5145 - val_accuracy: 0.7802\n",
            "Epoch 5/5\n",
            "400/400 [==============================] - 296s 740ms/step - loss: 0.1651 - accuracy: 0.9356 - val_loss: 0.6804 - val_accuracy: 0.7688\n"
          ],
          "name": "stdout"
        },
        {
          "output_type": "display_data",
          "data": {
            "text/html": [
              "<br/>Waiting for W&B process to finish, PID 1763<br/>Program ended successfully."
            ],
            "text/plain": [
              "<IPython.core.display.HTML object>"
            ]
          },
          "metadata": {
            "tags": []
          }
        },
        {
          "output_type": "display_data",
          "data": {
            "application/vnd.jupyter.widget-view+json": {
              "model_id": "1d9967a763f04b928eee5d71f00a14ab",
              "version_minor": 0,
              "version_major": 2
            },
            "text/plain": [
              "VBox(children=(Label(value=' 183.73MB of 183.73MB uploaded (0.00MB deduped)\\r'), FloatProgress(value=1.0, max=…"
            ]
          },
          "metadata": {
            "tags": []
          }
        },
        {
          "output_type": "display_data",
          "data": {
            "text/html": [
              "Find user logs for this run at: <code>/content/wandb/run-20210328_151357-0fz8qbi0/logs/debug.log</code>"
            ],
            "text/plain": [
              "<IPython.core.display.HTML object>"
            ]
          },
          "metadata": {
            "tags": []
          }
        },
        {
          "output_type": "display_data",
          "data": {
            "text/html": [
              "Find internal logs for this run at: <code>/content/wandb/run-20210328_151357-0fz8qbi0/logs/debug-internal.log</code>"
            ],
            "text/plain": [
              "<IPython.core.display.HTML object>"
            ]
          },
          "metadata": {
            "tags": []
          }
        },
        {
          "output_type": "display_data",
          "data": {
            "text/html": [
              "<h3>Run summary:</h3><br/><style>\n",
              "    table.wandb td:nth-child(1) { padding: 0 10px; text-align: right }\n",
              "    </style><table class=\"wandb\">\n",
              "<tr><td>epoch</td><td>4</td></tr><tr><td>loss</td><td>0.1736</td></tr><tr><td>accuracy</td><td>0.9316</td></tr><tr><td>val_loss</td><td>0.68036</td></tr><tr><td>val_accuracy</td><td>0.76875</td></tr><tr><td>_runtime</td><td>1483</td></tr><tr><td>_timestamp</td><td>1616945920</td></tr><tr><td>_step</td><td>4</td></tr><tr><td>best_val_loss</td><td>0.46118</td></tr><tr><td>best_epoch</td><td>1</td></tr></table>"
            ],
            "text/plain": [
              "<IPython.core.display.HTML object>"
            ]
          },
          "metadata": {
            "tags": []
          }
        },
        {
          "output_type": "display_data",
          "data": {
            "text/html": [
              "<h3>Run history:</h3><br/><style>\n",
              "    table.wandb td:nth-child(1) { padding: 0 10px; text-align: right }\n",
              "    </style><table class=\"wandb\">\n",
              "<tr><td>epoch</td><td>▁▃▅▆█</td></tr><tr><td>loss</td><td>█▆▄▃▁</td></tr><tr><td>accuracy</td><td>▁▄▅▇█</td></tr><tr><td>val_loss</td><td>▄▁▁▃█</td></tr><tr><td>val_accuracy</td><td>▁███▇</td></tr><tr><td>_runtime</td><td>▁▃▄▆█</td></tr><tr><td>_timestamp</td><td>▁▃▄▆█</td></tr><tr><td>_step</td><td>▁▃▅▆█</td></tr></table><br/>"
            ],
            "text/plain": [
              "<IPython.core.display.HTML object>"
            ]
          },
          "metadata": {
            "tags": []
          }
        },
        {
          "output_type": "display_data",
          "data": {
            "text/html": [
              "Synced 5 W&B file(s), 1 media file(s), 0 artifact file(s) and 1 other file(s)"
            ],
            "text/plain": [
              "<IPython.core.display.HTML object>"
            ]
          },
          "metadata": {
            "tags": []
          }
        },
        {
          "output_type": "display_data",
          "data": {
            "text/html": [
              "\n",
              "                    <br/>Synced <strong style=\"color:#cdcd00\">dulcet-sweep-9</strong>: <a href=\"https://wandb.ai/lucialarraona/Sweepslucia/runs/0fz8qbi0\" target=\"_blank\">https://wandb.ai/lucialarraona/Sweepslucia/runs/0fz8qbi0</a><br/>\n",
              "                "
            ],
            "text/plain": [
              "<IPython.core.display.HTML object>"
            ]
          },
          "metadata": {
            "tags": []
          }
        },
        {
          "output_type": "stream",
          "text": [
            "\u001b[34m\u001b[1mwandb\u001b[0m: Agent Starting Run: 38jsrkj9 with config:\n",
            "\u001b[34m\u001b[1mwandb\u001b[0m: \tactivation: sigmoid\n",
            "\u001b[34m\u001b[1mwandb\u001b[0m: \tbatch_size: 64\n",
            "\u001b[34m\u001b[1mwandb\u001b[0m: \tdropout: 0.3\n",
            "\u001b[34m\u001b[1mwandb\u001b[0m: \tepochs: 5\n",
            "\u001b[34m\u001b[1mwandb\u001b[0m: \tlearning_rate: 0.0003\n",
            "\u001b[34m\u001b[1mwandb\u001b[0m: \toptimizer: adam\n"
          ],
          "name": "stderr"
        },
        {
          "output_type": "display_data",
          "data": {
            "text/html": [
              "\n",
              "                Tracking run with wandb version 0.10.23<br/>\n",
              "                Syncing run <strong style=\"color:#cdcd00\">stilted-sweep-10</strong> to <a href=\"https://wandb.ai\" target=\"_blank\">Weights & Biases</a> <a href=\"https://docs.wandb.com/integrations/jupyter.html\" target=\"_blank\">(Documentation)</a>.<br/>\n",
              "                Project page: <a href=\"https://wandb.ai/lucialarraona/Sweepslucia\" target=\"_blank\">https://wandb.ai/lucialarraona/Sweepslucia</a><br/>\n",
              "                Sweep page: <a href=\"https://wandb.ai/lucialarraona/Sweepslucia/sweeps/nn08ycka\" target=\"_blank\">https://wandb.ai/lucialarraona/Sweepslucia/sweeps/nn08ycka</a><br/>\n",
              "Run page: <a href=\"https://wandb.ai/lucialarraona/Sweepslucia/runs/38jsrkj9\" target=\"_blank\">https://wandb.ai/lucialarraona/Sweepslucia/runs/38jsrkj9</a><br/>\n",
              "                Run data is saved locally in <code>/content/wandb/run-20210328_153849-38jsrkj9</code><br/><br/>\n",
              "            "
            ],
            "text/plain": [
              "<IPython.core.display.HTML object>"
            ]
          },
          "metadata": {
            "tags": []
          }
        },
        {
          "output_type": "stream",
          "text": [
            "Epoch 1/5\n",
            "400/400 [==============================] - 295s 730ms/step - loss: 0.6917 - accuracy: 0.5097 - val_loss: 0.6932 - val_accuracy: 0.4958\n",
            "Epoch 2/5\n",
            "400/400 [==============================] - 291s 728ms/step - loss: 0.6931 - accuracy: 0.5009 - val_loss: 0.6932 - val_accuracy: 0.4958\n",
            "Epoch 3/5\n",
            "400/400 [==============================] - 292s 730ms/step - loss: 0.6931 - accuracy: 0.5057 - val_loss: 0.6932 - val_accuracy: 0.4958\n",
            "Epoch 4/5\n",
            "400/400 [==============================] - 302s 755ms/step - loss: 0.6932 - accuracy: 0.4997 - val_loss: 0.6932 - val_accuracy: 0.4958\n",
            "Epoch 5/5\n",
            "400/400 [==============================] - 298s 746ms/step - loss: 0.6931 - accuracy: 0.5037 - val_loss: 0.6932 - val_accuracy: 0.4958\n"
          ],
          "name": "stdout"
        },
        {
          "output_type": "display_data",
          "data": {
            "text/html": [
              "<br/>Waiting for W&B process to finish, PID 1999<br/>Program ended successfully."
            ],
            "text/plain": [
              "<IPython.core.display.HTML object>"
            ]
          },
          "metadata": {
            "tags": []
          }
        },
        {
          "output_type": "display_data",
          "data": {
            "application/vnd.jupyter.widget-view+json": {
              "model_id": "cf25f782e69d462d8fb9c0fa44d1218c",
              "version_minor": 0,
              "version_major": 2
            },
            "text/plain": [
              "VBox(children=(Label(value=' 183.73MB of 183.73MB uploaded (0.00MB deduped)\\r'), FloatProgress(value=1.0, max=…"
            ]
          },
          "metadata": {
            "tags": []
          }
        },
        {
          "output_type": "display_data",
          "data": {
            "text/html": [
              "Find user logs for this run at: <code>/content/wandb/run-20210328_153849-38jsrkj9/logs/debug.log</code>"
            ],
            "text/plain": [
              "<IPython.core.display.HTML object>"
            ]
          },
          "metadata": {
            "tags": []
          }
        },
        {
          "output_type": "display_data",
          "data": {
            "text/html": [
              "Find internal logs for this run at: <code>/content/wandb/run-20210328_153849-38jsrkj9/logs/debug-internal.log</code>"
            ],
            "text/plain": [
              "<IPython.core.display.HTML object>"
            ]
          },
          "metadata": {
            "tags": []
          }
        },
        {
          "output_type": "display_data",
          "data": {
            "text/html": [
              "<h3>Run summary:</h3><br/><style>\n",
              "    table.wandb td:nth-child(1) { padding: 0 10px; text-align: right }\n",
              "    </style><table class=\"wandb\">\n",
              "<tr><td>epoch</td><td>4</td></tr><tr><td>loss</td><td>0.69314</td></tr><tr><td>accuracy</td><td>0.50266</td></tr><tr><td>val_loss</td><td>0.6932</td></tr><tr><td>val_accuracy</td><td>0.49578</td></tr><tr><td>_runtime</td><td>1482</td></tr><tr><td>_timestamp</td><td>1616947411</td></tr><tr><td>_step</td><td>4</td></tr><tr><td>best_val_loss</td><td>0.69315</td></tr><tr><td>best_epoch</td><td>0</td></tr></table>"
            ],
            "text/plain": [
              "<IPython.core.display.HTML object>"
            ]
          },
          "metadata": {
            "tags": []
          }
        },
        {
          "output_type": "display_data",
          "data": {
            "text/html": [
              "<h3>Run history:</h3><br/><style>\n",
              "    table.wandb td:nth-child(1) { padding: 0 10px; text-align: right }\n",
              "    </style><table class=\"wandb\">\n",
              "<tr><td>epoch</td><td>▁▃▅▆█</td></tr><tr><td>loss</td><td>▁████</td></tr><tr><td>accuracy</td><td>█▁▄▄▄</td></tr><tr><td>val_loss</td><td>▁▃▄▆█</td></tr><tr><td>val_accuracy</td><td>▁▁▁▁▁</td></tr><tr><td>_runtime</td><td>▁▃▄▆█</td></tr><tr><td>_timestamp</td><td>▁▃▄▆█</td></tr><tr><td>_step</td><td>▁▃▅▆█</td></tr></table><br/>"
            ],
            "text/plain": [
              "<IPython.core.display.HTML object>"
            ]
          },
          "metadata": {
            "tags": []
          }
        },
        {
          "output_type": "display_data",
          "data": {
            "text/html": [
              "Synced 5 W&B file(s), 1 media file(s), 0 artifact file(s) and 1 other file(s)"
            ],
            "text/plain": [
              "<IPython.core.display.HTML object>"
            ]
          },
          "metadata": {
            "tags": []
          }
        },
        {
          "output_type": "display_data",
          "data": {
            "text/html": [
              "\n",
              "                    <br/>Synced <strong style=\"color:#cdcd00\">stilted-sweep-10</strong>: <a href=\"https://wandb.ai/lucialarraona/Sweepslucia/runs/38jsrkj9\" target=\"_blank\">https://wandb.ai/lucialarraona/Sweepslucia/runs/38jsrkj9</a><br/>\n",
              "                "
            ],
            "text/plain": [
              "<IPython.core.display.HTML object>"
            ]
          },
          "metadata": {
            "tags": []
          }
        },
        {
          "output_type": "stream",
          "text": [
            "\u001b[34m\u001b[1mwandb\u001b[0m: Agent Starting Run: rgiblf49 with config:\n",
            "\u001b[34m\u001b[1mwandb\u001b[0m: \tactivation: sigmoid\n",
            "\u001b[34m\u001b[1mwandb\u001b[0m: \tbatch_size: 128\n",
            "\u001b[34m\u001b[1mwandb\u001b[0m: \tdropout: 0.4\n",
            "\u001b[34m\u001b[1mwandb\u001b[0m: \tepochs: 8\n",
            "\u001b[34m\u001b[1mwandb\u001b[0m: \tlearning_rate: 0.003\n",
            "\u001b[34m\u001b[1mwandb\u001b[0m: \toptimizer: adam\n"
          ],
          "name": "stderr"
        },
        {
          "output_type": "display_data",
          "data": {
            "text/html": [
              "\n",
              "                Tracking run with wandb version 0.10.23<br/>\n",
              "                Syncing run <strong style=\"color:#cdcd00\">distinctive-sweep-11</strong> to <a href=\"https://wandb.ai\" target=\"_blank\">Weights & Biases</a> <a href=\"https://docs.wandb.com/integrations/jupyter.html\" target=\"_blank\">(Documentation)</a>.<br/>\n",
              "                Project page: <a href=\"https://wandb.ai/lucialarraona/Sweepslucia\" target=\"_blank\">https://wandb.ai/lucialarraona/Sweepslucia</a><br/>\n",
              "                Sweep page: <a href=\"https://wandb.ai/lucialarraona/Sweepslucia/sweeps/nn08ycka\" target=\"_blank\">https://wandb.ai/lucialarraona/Sweepslucia/sweeps/nn08ycka</a><br/>\n",
              "Run page: <a href=\"https://wandb.ai/lucialarraona/Sweepslucia/runs/rgiblf49\" target=\"_blank\">https://wandb.ai/lucialarraona/Sweepslucia/runs/rgiblf49</a><br/>\n",
              "                Run data is saved locally in <code>/content/wandb/run-20210328_160340-rgiblf49</code><br/><br/>\n",
              "            "
            ],
            "text/plain": [
              "<IPython.core.display.HTML object>"
            ]
          },
          "metadata": {
            "tags": []
          }
        },
        {
          "output_type": "stream",
          "text": [
            "Epoch 1/8\n",
            "200/200 [==============================] - 152s 746ms/step - loss: 0.6568 - accuracy: 0.5882 - val_loss: 0.5213 - val_accuracy: 0.7406\n",
            "Epoch 2/8\n",
            "200/200 [==============================] - 149s 741ms/step - loss: 0.4993 - accuracy: 0.7565 - val_loss: 0.4682 - val_accuracy: 0.7758\n",
            "Epoch 3/8\n",
            "200/200 [==============================] - 149s 746ms/step - loss: 0.3921 - accuracy: 0.8228 - val_loss: 0.4556 - val_accuracy: 0.7864\n",
            "Epoch 4/8\n",
            "200/200 [==============================] - 152s 760ms/step - loss: 0.2889 - accuracy: 0.8751 - val_loss: 0.4853 - val_accuracy: 0.7928\n",
            "Epoch 5/8\n",
            "200/200 [==============================] - 150s 752ms/step - loss: 0.1836 - accuracy: 0.9264 - val_loss: 0.6018 - val_accuracy: 0.7802\n",
            "Epoch 6/8\n",
            "200/200 [==============================] - 149s 743ms/step - loss: 0.1172 - accuracy: 0.9570 - val_loss: 0.7484 - val_accuracy: 0.7797\n",
            "Epoch 7/8\n",
            "200/200 [==============================] - 149s 744ms/step - loss: 0.0712 - accuracy: 0.9779 - val_loss: 0.8255 - val_accuracy: 0.7764\n",
            "Epoch 8/8\n",
            "200/200 [==============================] - 151s 756ms/step - loss: 0.0468 - accuracy: 0.9853 - val_loss: 1.0338 - val_accuracy: 0.7653\n"
          ],
          "name": "stdout"
        },
        {
          "output_type": "display_data",
          "data": {
            "text/html": [
              "<br/>Waiting for W&B process to finish, PID 2118<br/>Program ended successfully."
            ],
            "text/plain": [
              "<IPython.core.display.HTML object>"
            ]
          },
          "metadata": {
            "tags": []
          }
        },
        {
          "output_type": "display_data",
          "data": {
            "application/vnd.jupyter.widget-view+json": {
              "model_id": "3ca362885884494287fdf51949cd4975",
              "version_minor": 0,
              "version_major": 2
            },
            "text/plain": [
              "VBox(children=(Label(value=' 183.73MB of 183.73MB uploaded (0.00MB deduped)\\r'), FloatProgress(value=1.0, max=…"
            ]
          },
          "metadata": {
            "tags": []
          }
        },
        {
          "output_type": "display_data",
          "data": {
            "text/html": [
              "Find user logs for this run at: <code>/content/wandb/run-20210328_160340-rgiblf49/logs/debug.log</code>"
            ],
            "text/plain": [
              "<IPython.core.display.HTML object>"
            ]
          },
          "metadata": {
            "tags": []
          }
        },
        {
          "output_type": "display_data",
          "data": {
            "text/html": [
              "Find internal logs for this run at: <code>/content/wandb/run-20210328_160340-rgiblf49/logs/debug-internal.log</code>"
            ],
            "text/plain": [
              "<IPython.core.display.HTML object>"
            ]
          },
          "metadata": {
            "tags": []
          }
        },
        {
          "output_type": "display_data",
          "data": {
            "text/html": [
              "<h3>Run summary:</h3><br/><style>\n",
              "    table.wandb td:nth-child(1) { padding: 0 10px; text-align: right }\n",
              "    </style><table class=\"wandb\">\n",
              "<tr><td>epoch</td><td>7</td></tr><tr><td>loss</td><td>0.05303</td></tr><tr><td>accuracy</td><td>0.98266</td></tr><tr><td>val_loss</td><td>1.03383</td></tr><tr><td>val_accuracy</td><td>0.76531</td></tr><tr><td>_runtime</td><td>1205</td></tr><tr><td>_timestamp</td><td>1616948625</td></tr><tr><td>_step</td><td>7</td></tr><tr><td>best_val_loss</td><td>0.45556</td></tr><tr><td>best_epoch</td><td>2</td></tr></table>"
            ],
            "text/plain": [
              "<IPython.core.display.HTML object>"
            ]
          },
          "metadata": {
            "tags": []
          }
        },
        {
          "output_type": "display_data",
          "data": {
            "text/html": [
              "<h3>Run history:</h3><br/><style>\n",
              "    table.wandb td:nth-child(1) { padding: 0 10px; text-align: right }\n",
              "    </style><table class=\"wandb\">\n",
              "<tr><td>epoch</td><td>▁▂▃▄▅▆▇█</td></tr><tr><td>loss</td><td>█▆▅▄▃▂▁▁</td></tr><tr><td>accuracy</td><td>▁▃▅▆▇▇██</td></tr><tr><td>val_loss</td><td>▂▁▁▁▃▅▅█</td></tr><tr><td>val_accuracy</td><td>▁▆▇█▆▆▆▄</td></tr><tr><td>_runtime</td><td>▁▂▃▄▅▆▇█</td></tr><tr><td>_timestamp</td><td>▁▂▃▄▅▆▇█</td></tr><tr><td>_step</td><td>▁▂▃▄▅▆▇█</td></tr></table><br/>"
            ],
            "text/plain": [
              "<IPython.core.display.HTML object>"
            ]
          },
          "metadata": {
            "tags": []
          }
        },
        {
          "output_type": "display_data",
          "data": {
            "text/html": [
              "Synced 5 W&B file(s), 1 media file(s), 0 artifact file(s) and 1 other file(s)"
            ],
            "text/plain": [
              "<IPython.core.display.HTML object>"
            ]
          },
          "metadata": {
            "tags": []
          }
        },
        {
          "output_type": "display_data",
          "data": {
            "text/html": [
              "\n",
              "                    <br/>Synced <strong style=\"color:#cdcd00\">distinctive-sweep-11</strong>: <a href=\"https://wandb.ai/lucialarraona/Sweepslucia/runs/rgiblf49\" target=\"_blank\">https://wandb.ai/lucialarraona/Sweepslucia/runs/rgiblf49</a><br/>\n",
              "                "
            ],
            "text/plain": [
              "<IPython.core.display.HTML object>"
            ]
          },
          "metadata": {
            "tags": []
          }
        },
        {
          "output_type": "stream",
          "text": [
            "\u001b[34m\u001b[1mwandb\u001b[0m: Agent Starting Run: b5xmmwca with config:\n",
            "\u001b[34m\u001b[1mwandb\u001b[0m: \tactivation: sigmoid\n",
            "\u001b[34m\u001b[1mwandb\u001b[0m: \tbatch_size: 64\n",
            "\u001b[34m\u001b[1mwandb\u001b[0m: \tdropout: 0.3\n",
            "\u001b[34m\u001b[1mwandb\u001b[0m: \tepochs: 8\n",
            "\u001b[34m\u001b[1mwandb\u001b[0m: \tlearning_rate: 0.003\n",
            "\u001b[34m\u001b[1mwandb\u001b[0m: \toptimizer: adam\n"
          ],
          "name": "stderr"
        },
        {
          "output_type": "display_data",
          "data": {
            "text/html": [
              "\n",
              "                Tracking run with wandb version 0.10.23<br/>\n",
              "                Syncing run <strong style=\"color:#cdcd00\">pretty-sweep-12</strong> to <a href=\"https://wandb.ai\" target=\"_blank\">Weights & Biases</a> <a href=\"https://docs.wandb.com/integrations/jupyter.html\" target=\"_blank\">(Documentation)</a>.<br/>\n",
              "                Project page: <a href=\"https://wandb.ai/lucialarraona/Sweepslucia\" target=\"_blank\">https://wandb.ai/lucialarraona/Sweepslucia</a><br/>\n",
              "                Sweep page: <a href=\"https://wandb.ai/lucialarraona/Sweepslucia/sweeps/nn08ycka\" target=\"_blank\">https://wandb.ai/lucialarraona/Sweepslucia/sweeps/nn08ycka</a><br/>\n",
              "Run page: <a href=\"https://wandb.ai/lucialarraona/Sweepslucia/runs/b5xmmwca\" target=\"_blank\">https://wandb.ai/lucialarraona/Sweepslucia/runs/b5xmmwca</a><br/>\n",
              "                Run data is saved locally in <code>/content/wandb/run-20210328_162354-b5xmmwca</code><br/><br/>\n",
              "            "
            ],
            "text/plain": [
              "<IPython.core.display.HTML object>"
            ]
          },
          "metadata": {
            "tags": []
          }
        },
        {
          "output_type": "stream",
          "text": [
            "Epoch 1/8\n",
            "400/400 [==============================] - 300s 740ms/step - loss: 0.6493 - accuracy: 0.6081 - val_loss: 0.5463 - val_accuracy: 0.7155\n",
            "Epoch 2/8\n",
            "400/400 [==============================] - 286s 714ms/step - loss: 0.4987 - accuracy: 0.7524 - val_loss: 0.4795 - val_accuracy: 0.7706\n",
            "Epoch 3/8\n",
            "400/400 [==============================] - 291s 726ms/step - loss: 229.3285 - accuracy: 0.8176 - val_loss: 0.4692 - val_accuracy: 0.7789\n",
            "Epoch 4/8\n",
            "400/400 [==============================] - 296s 739ms/step - loss: 0.2789 - accuracy: 0.8808 - val_loss: 0.5180 - val_accuracy: 0.7777\n",
            "Epoch 5/8\n",
            "135/400 [=========>....................] - ETA: 2:59 - loss: 0.1709 - accuracy: 0.9335"
          ],
          "name": "stdout"
        }
      ]
    },
    {
      "cell_type": "code",
      "metadata": {
        "id": "ouIdzPtA4EQB"
      },
      "source": [
        ""
      ],
      "execution_count": null,
      "outputs": []
    },
    {
      "cell_type": "code",
      "metadata": {
        "id": "d8FCevastq7C"
      },
      "source": [
        ""
      ],
      "execution_count": null,
      "outputs": []
    }
  ]
}