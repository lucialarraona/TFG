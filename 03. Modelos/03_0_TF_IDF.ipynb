{
  "nbformat": 4,
  "nbformat_minor": 0,
  "metadata": {
    "colab": {
      "name": "TF-IDF AMAZON.ipynb",
      "provenance": [],
      "toc_visible": true
    },
    "kernelspec": {
      "name": "python3",
      "display_name": "Python 3"
    },
    "language_info": {
      "name": "python"
    }
  },
  "cells": [
    {
      "cell_type": "markdown",
      "metadata": {
        "id": "-pZRTdUsYS9T"
      },
      "source": [
        "# Text Classification with **TF-IDF vectors + NN**"
      ]
    },
    {
      "cell_type": "markdown",
      "metadata": {
        "id": "9enq3xQC1kQd"
      },
      "source": [
        "# Load and clean data Amazon"
      ]
    },
    {
      "cell_type": "code",
      "metadata": {
        "id": "LVSjrlC7YhI1"
      },
      "source": [
        "import numpy as np\n",
        "import pandas as pd\n",
        "np.random.seed(0)"
      ],
      "execution_count": null,
      "outputs": []
    },
    {
      "cell_type": "code",
      "metadata": {
        "id": "k8te1cR_Ird4"
      },
      "source": [
        "path1 = \"/content/drive/MyDrive/TFG/Datasets_procesados_2/train/amazonEN_train.csv\"\n",
        "path2 = \"/content/drive/MyDrive/TFG/Datasets_procesados_2/valid/amazonEN_valid.csv\"\n",
        "path3 = \"/content/drive/MyDrive/TFG/Datasets_procesados_2/test/amazonEN_test.csv\""
      ],
      "execution_count": null,
      "outputs": []
    },
    {
      "cell_type": "code",
      "metadata": {
        "id": "2lHP95bZItR0"
      },
      "source": [
        "df_train = pd.read_csv(path1)\n",
        "df_train = df_train.head(100000)\n",
        "df_valid = pd.read_csv(path2)\n",
        "df_valid = df_valid.head(1000)\n",
        "df_test = pd.read_csv(path3)\n",
        "df_test = df_test.head(10000)\n"
      ],
      "execution_count": null,
      "outputs": []
    },
    {
      "cell_type": "code",
      "metadata": {
        "colab": {
          "base_uri": "https://localhost:8080/",
          "height": 193
        },
        "id": "ivd9SJWdIu6m",
        "outputId": "13a9cc60-ee48-4df2-f847-07b259dd1aa3"
      },
      "source": [
        "df_train.head(1)"
      ],
      "execution_count": null,
      "outputs": [
        {
          "output_type": "execute_result",
          "data": {
            "text/html": [
              "<div>\n",
              "<style scoped>\n",
              "    .dataframe tbody tr th:only-of-type {\n",
              "        vertical-align: middle;\n",
              "    }\n",
              "\n",
              "    .dataframe tbody tr th {\n",
              "        vertical-align: top;\n",
              "    }\n",
              "\n",
              "    .dataframe thead th {\n",
              "        text-align: right;\n",
              "    }\n",
              "</style>\n",
              "<table border=\"1\" class=\"dataframe\">\n",
              "  <thead>\n",
              "    <tr style=\"text-align: right;\">\n",
              "      <th></th>\n",
              "      <th>review_id</th>\n",
              "      <th>product_id</th>\n",
              "      <th>reviewer_id</th>\n",
              "      <th>star_rating</th>\n",
              "      <th>review_body</th>\n",
              "      <th>review_title</th>\n",
              "      <th>language</th>\n",
              "      <th>product_category</th>\n",
              "      <th>text_title</th>\n",
              "      <th>text_title_cat</th>\n",
              "      <th>text_cat</th>\n",
              "      <th>product_category_cod</th>\n",
              "    </tr>\n",
              "  </thead>\n",
              "  <tbody>\n",
              "    <tr>\n",
              "      <th>0</th>\n",
              "      <td>en_0522546</td>\n",
              "      <td>product_en_0681589</td>\n",
              "      <td>reviewer_en_0687817</td>\n",
              "      <td>2</td>\n",
              "      <td>Not strong enough to run a small 120v vacuum c...</td>\n",
              "      <td>Not strong enough to run a small 120v vacuum c...</td>\n",
              "      <td>en</td>\n",
              "      <td>lawn_and_garden</td>\n",
              "      <td>Not strong enough to run a small 120v vacuum c...</td>\n",
              "      <td>Not strong enough to run a small 120v vacuum c...</td>\n",
              "      <td>Not strong enough to run a small 120v vacuum c...</td>\n",
              "      <td>17</td>\n",
              "    </tr>\n",
              "  </tbody>\n",
              "</table>\n",
              "</div>"
            ],
            "text/plain": [
              "    review_id  ... product_category_cod\n",
              "0  en_0522546  ...                   17\n",
              "\n",
              "[1 rows x 12 columns]"
            ]
          },
          "metadata": {
            "tags": []
          },
          "execution_count": 4
        }
      ]
    },
    {
      "cell_type": "code",
      "metadata": {
        "id": "GvSU9-0vlD5h"
      },
      "source": [
        "#Juntamos todo el dato para hacer la limpipeza más sencilla\n",
        "df = pd.concat([df_train,df_valid,df_test],ignore_index=True)"
      ],
      "execution_count": null,
      "outputs": []
    },
    {
      "cell_type": "code",
      "metadata": {
        "colab": {
          "base_uri": "https://localhost:8080/"
        },
        "id": "JQqf3MKXmonK",
        "outputId": "89761dd7-13da-4afe-8738-0734ce572c51"
      },
      "source": [
        "df.shape"
      ],
      "execution_count": null,
      "outputs": [
        {
          "output_type": "execute_result",
          "data": {
            "text/plain": [
              "(103500, 12)"
            ]
          },
          "metadata": {
            "tags": []
          },
          "execution_count": 6
        }
      ]
    },
    {
      "cell_type": "code",
      "metadata": {
        "id": "nY55neXmI0sq"
      },
      "source": [
        "import nltk \n",
        "from nltk.stem import PorterStemmer # para ver la raiz de las palabras(worker = work)\n",
        "from nltk.tokenize import sent_tokenize, word_tokenize # para tokenizar las frases y las palabras \n",
        "import re # regex\n",
        "import string"
      ],
      "execution_count": null,
      "outputs": []
    },
    {
      "cell_type": "code",
      "metadata": {
        "id": "OJNXmSjeI7vr"
      },
      "source": [
        "def text_cleaning(text):\n",
        "    \n",
        "    text = text.lower()\n",
        "    text = re.sub('\\[.*?\\]', '', text)\n",
        "    text = re.sub(\"\\\\W\",\" \",text) # remove special chars\n",
        "    text = re.sub('https?://\\S+|www\\.\\S+', '', text)\n",
        "    text = re.sub('<.*?>+', '', text)\n",
        "    text = re.sub('[%s]' % re.escape(string.punctuation), '', text)\n",
        "    text = re.sub('\\n', '', text)\n",
        "    text = re.sub('\\w*\\d\\w*', '', text)\n",
        "    \n",
        "    return text"
      ],
      "execution_count": null,
      "outputs": []
    },
    {
      "cell_type": "code",
      "metadata": {
        "id": "odMQQODhI9XY"
      },
      "source": [
        "df['review_body'] = df['review_body'].astype('str')  # object a string\n",
        "df['review_body']= df['review_body'].apply(text_cleaning) # aplicamos cleaning a review_body"
      ],
      "execution_count": null,
      "outputs": []
    },
    {
      "cell_type": "code",
      "metadata": {
        "colab": {
          "base_uri": "https://localhost:8080/",
          "height": 287
        },
        "id": "dAeKn0lnJMwY",
        "outputId": "c4b2892e-542d-40b9-fe73-c5f21b6893a1"
      },
      "source": [
        "df.head(2)"
      ],
      "execution_count": null,
      "outputs": [
        {
          "output_type": "execute_result",
          "data": {
            "text/html": [
              "<div>\n",
              "<style scoped>\n",
              "    .dataframe tbody tr th:only-of-type {\n",
              "        vertical-align: middle;\n",
              "    }\n",
              "\n",
              "    .dataframe tbody tr th {\n",
              "        vertical-align: top;\n",
              "    }\n",
              "\n",
              "    .dataframe thead th {\n",
              "        text-align: right;\n",
              "    }\n",
              "</style>\n",
              "<table border=\"1\" class=\"dataframe\">\n",
              "  <thead>\n",
              "    <tr style=\"text-align: right;\">\n",
              "      <th></th>\n",
              "      <th>review_id</th>\n",
              "      <th>product_id</th>\n",
              "      <th>reviewer_id</th>\n",
              "      <th>star_rating</th>\n",
              "      <th>review_body</th>\n",
              "      <th>review_title</th>\n",
              "      <th>language</th>\n",
              "      <th>product_category</th>\n",
              "      <th>text_title</th>\n",
              "      <th>text_title_cat</th>\n",
              "      <th>text_cat</th>\n",
              "      <th>product_category_cod</th>\n",
              "    </tr>\n",
              "  </thead>\n",
              "  <tbody>\n",
              "    <tr>\n",
              "      <th>0</th>\n",
              "      <td>en_0522546</td>\n",
              "      <td>product_en_0681589</td>\n",
              "      <td>reviewer_en_0687817</td>\n",
              "      <td>2</td>\n",
              "      <td>not strong enough to run a small  vacuum clean...</td>\n",
              "      <td>Not strong enough to run a small 120v vacuum c...</td>\n",
              "      <td>en</td>\n",
              "      <td>lawn_and_garden</td>\n",
              "      <td>Not strong enough to run a small 120v vacuum c...</td>\n",
              "      <td>Not strong enough to run a small 120v vacuum c...</td>\n",
              "      <td>Not strong enough to run a small 120v vacuum c...</td>\n",
              "      <td>17</td>\n",
              "    </tr>\n",
              "    <tr>\n",
              "      <th>1</th>\n",
              "      <td>en_0612910</td>\n",
              "      <td>product_en_0295449</td>\n",
              "      <td>reviewer_en_0312138</td>\n",
              "      <td>1</td>\n",
              "      <td>the leg openings are a little small  but other...</td>\n",
              "      <td>Crap</td>\n",
              "      <td>en</td>\n",
              "      <td>apparel</td>\n",
              "      <td>Crap The leg openings are a little small, but ...</td>\n",
              "      <td>Crap The leg openings are a little small, but ...</td>\n",
              "      <td>The leg openings are a little small, but other...</td>\n",
              "      <td>0</td>\n",
              "    </tr>\n",
              "  </tbody>\n",
              "</table>\n",
              "</div>"
            ],
            "text/plain": [
              "    review_id  ... product_category_cod\n",
              "0  en_0522546  ...                   17\n",
              "1  en_0612910  ...                    0\n",
              "\n",
              "[2 rows x 12 columns]"
            ]
          },
          "metadata": {
            "tags": []
          },
          "execution_count": 10
        }
      ]
    },
    {
      "cell_type": "code",
      "metadata": {
        "colab": {
          "base_uri": "https://localhost:8080/"
        },
        "id": "5Xj_kAvvJZsJ",
        "outputId": "a610b7aa-a761-4a32-dc31-9c4586b50c28"
      },
      "source": [
        "## stem and lemmatize de words en review_body para ver vocabulario mejor y crear nueva columna \n",
        "\n",
        "nltk.download('stopwords')\n",
        "nltk.download('wordnet')\n",
        "stopwords = nltk.corpus.stopwords.words('english')\n",
        "\n",
        "ps = PorterStemmer()\n",
        "wn = nltk.WordNetLemmatizer()\n",
        "\n",
        "def clean_stem (review): \n",
        "\n",
        "    temp1 =\"\".join(x for x in review if x not in string.punctuation)\n",
        "    temp2 = re.split('\\W+',temp1.lower())\n",
        "    temp3 = [ps.stem(x) for x in temp2 if x not in stopwords]\n",
        "    return temp3\n",
        "\n",
        "\n",
        "def clean_lemma (review):\n",
        "    \n",
        "    temp1 =\"\".join(x for x in review if x not in string.punctuation)\n",
        "    temp2 = re.split('\\W+',temp1.lower())\n",
        "    temp3 = [wn.lemmatize(x) for x in temp2 if x not in stopwords]\n",
        "    return temp3\n",
        "\n",
        "#clean_stem(df['review_body'])\n",
        "\n",
        "print(df['review_body'][1])\n",
        "print(clean_lemma(df['review_body'][1]))\n",
        "print()\n",
        "print(df['review_body'][1])\n",
        "print(clean_stem(df['review_body'][1]))"
      ],
      "execution_count": null,
      "outputs": [
        {
          "output_type": "stream",
          "text": [
            "[nltk_data] Downloading package stopwords to /root/nltk_data...\n",
            "[nltk_data]   Package stopwords is already up-to-date!\n",
            "[nltk_data] Downloading package wordnet to /root/nltk_data...\n",
            "[nltk_data]   Package wordnet is already up-to-date!\n",
            "the leg openings are a little small  but other than that the suit fits nicely  and is high quality material  edit  i have been wearing this for less than two months and it is   worn out  it has worn so thin in multiple spots that it s no longer appropriate for wearing in public  i have to throw it away  this is unacceptable \n",
            "['leg', 'opening', 'little', 'small', 'suit', 'fit', 'nicely', 'high', 'quality', 'material', 'edit', 'wearing', 'le', 'two', 'month', 'worn', 'worn', 'thin', 'multiple', 'spot', 'longer', 'appropriate', 'wearing', 'public', 'throw', 'away', 'unacceptable', '']\n",
            "\n",
            "the leg openings are a little small  but other than that the suit fits nicely  and is high quality material  edit  i have been wearing this for less than two months and it is   worn out  it has worn so thin in multiple spots that it s no longer appropriate for wearing in public  i have to throw it away  this is unacceptable \n",
            "['leg', 'open', 'littl', 'small', 'suit', 'fit', 'nice', 'high', 'qualiti', 'materi', 'edit', 'wear', 'less', 'two', 'month', 'worn', 'worn', 'thin', 'multipl', 'spot', 'longer', 'appropri', 'wear', 'public', 'throw', 'away', 'unaccept', '']\n"
          ],
          "name": "stdout"
        }
      ]
    },
    {
      "cell_type": "code",
      "metadata": {
        "id": "GaC9_orXJdO_"
      },
      "source": [
        "#df['review_body_words'] = df['review_body'].map(clean_lemma)\n",
        "#df.head()"
      ],
      "execution_count": null,
      "outputs": []
    },
    {
      "cell_type": "code",
      "metadata": {
        "id": "DYvVU_IrmKzz"
      },
      "source": [
        "X = df['review_body']\n",
        "y = df['star_rating']"
      ],
      "execution_count": null,
      "outputs": []
    },
    {
      "cell_type": "code",
      "metadata": {
        "colab": {
          "base_uri": "https://localhost:8080/"
        },
        "id": "W-nwFsdbmli4",
        "outputId": "8cf46ec4-b296-4583-ef78-b8488518c5b9"
      },
      "source": [
        "y.shape"
      ],
      "execution_count": null,
      "outputs": [
        {
          "output_type": "execute_result",
          "data": {
            "text/plain": [
              "(103500,)"
            ]
          },
          "metadata": {
            "tags": []
          },
          "execution_count": 14
        }
      ]
    },
    {
      "cell_type": "code",
      "metadata": {
        "id": "DNqVaHa5mSaZ"
      },
      "source": [
        "from sklearn.model_selection import train_test_split\n",
        "\n",
        "X_train, X_temp, y_train, y_temp = train_test_split(X,y,test_size=0.3)\n",
        "X_val, X_test, y_val, y_test = train_test_split(X_temp,y_temp,test_size=0.1)"
      ],
      "execution_count": null,
      "outputs": []
    },
    {
      "cell_type": "code",
      "metadata": {
        "id": "esKp1ia7msQK",
        "colab": {
          "base_uri": "https://localhost:8080/"
        },
        "outputId": "891bdf69-9f97-4cdb-9534-0f5c6e7a0863"
      },
      "source": [
        "print(len(X_train))\n",
        "print(len(X_val))\n",
        "print(len(X_test))\n"
      ],
      "execution_count": null,
      "outputs": [
        {
          "output_type": "stream",
          "text": [
            "72450\n",
            "27945\n",
            "3105\n"
          ],
          "name": "stdout"
        }
      ]
    },
    {
      "cell_type": "markdown",
      "metadata": {
        "id": "yF24WScq1TV1"
      },
      "source": [
        "# Visualizar vocab TFIDF"
      ]
    },
    {
      "cell_type": "code",
      "metadata": {
        "id": "g0rYj_2ZJmb9"
      },
      "source": [
        "# Visualizar el vocabulario de la tfidf\n",
        "from sklearn.feature_extraction.text import TfidfVectorizer\n",
        "\n",
        "vectlemm = TfidfVectorizer(analyzer=clean_lemma,sublinear_tf=True, min_df=30,ngram_range=(1, 2), stop_words='english')\n",
        "\n",
        "textfeatures= vectlemm.fit_transform(X_train)\n"
      ],
      "execution_count": null,
      "outputs": []
    },
    {
      "cell_type": "code",
      "metadata": {
        "colab": {
          "base_uri": "https://localhost:8080/",
          "height": 270
        },
        "id": "zN0pDvf4MGyz",
        "outputId": "c12b85f3-4ae3-4923-bbe3-4d8fd733da61"
      },
      "source": [
        "textmatrix = pd.DataFrame(textfeatures.toarray(),columns=vectlemm.vocabulary_)\n",
        "print ('VOCABULARY')\n",
        "textmatrix.head()"
      ],
      "execution_count": null,
      "outputs": [
        {
          "output_type": "stream",
          "text": [
            "VOCABULARY\n"
          ],
          "name": "stdout"
        },
        {
          "output_type": "execute_result",
          "data": {
            "text/html": [
              "<div>\n",
              "<style scoped>\n",
              "    .dataframe tbody tr th:only-of-type {\n",
              "        vertical-align: middle;\n",
              "    }\n",
              "\n",
              "    .dataframe tbody tr th {\n",
              "        vertical-align: top;\n",
              "    }\n",
              "\n",
              "    .dataframe thead th {\n",
              "        text-align: right;\n",
              "    }\n",
              "</style>\n",
              "<table border=\"1\" class=\"dataframe\">\n",
              "  <thead>\n",
              "    <tr style=\"text-align: right;\">\n",
              "      <th></th>\n",
              "      <th>strong</th>\n",
              "      <th>enough</th>\n",
              "      <th>run</th>\n",
              "      <th>small</th>\n",
              "      <th>vacuum</th>\n",
              "      <th>cleaner</th>\n",
              "      <th>clean</th>\n",
              "      <th>car</th>\n",
              "      <th></th>\n",
              "      <th>leg</th>\n",
              "      <th>opening</th>\n",
              "      <th>little</th>\n",
              "      <th>suit</th>\n",
              "      <th>fit</th>\n",
              "      <th>nicely</th>\n",
              "      <th>high</th>\n",
              "      <th>quality</th>\n",
              "      <th>material</th>\n",
              "      <th>edit</th>\n",
              "      <th>wearing</th>\n",
              "      <th>le</th>\n",
              "      <th>two</th>\n",
              "      <th>month</th>\n",
              "      <th>worn</th>\n",
              "      <th>thin</th>\n",
              "      <th>multiple</th>\n",
              "      <th>spot</th>\n",
              "      <th>longer</th>\n",
              "      <th>throw</th>\n",
              "      <th>away</th>\n",
              "      <th>really</th>\n",
              "      <th>cute</th>\n",
              "      <th>mug</th>\n",
              "      <th>would</th>\n",
              "      <th>given</th>\n",
              "      <th>star</th>\n",
              "      <th>bit</th>\n",
              "      <th>bigger</th>\n",
              "      <th>well</th>\n",
              "      <th>look</th>\n",
              "      <th>...</th>\n",
              "      <th>clothing</th>\n",
              "      <th>sweater</th>\n",
              "      <th>sick</th>\n",
              "      <th>chocolate</th>\n",
              "      <th>gross</th>\n",
              "      <th>station</th>\n",
              "      <th>grey</th>\n",
              "      <th>release</th>\n",
              "      <th>automatically</th>\n",
              "      <th>butter</th>\n",
              "      <th>flower</th>\n",
              "      <th>covering</th>\n",
              "      <th>combination</th>\n",
              "      <th>unhappy</th>\n",
              "      <th>ruined</th>\n",
              "      <th>fingerprint</th>\n",
              "      <th>watched</th>\n",
              "      <th>serious</th>\n",
              "      <th>typically</th>\n",
              "      <th>boyfriend</th>\n",
              "      <th>stretchy</th>\n",
              "      <th>curl</th>\n",
              "      <th>heating</th>\n",
              "      <th>can</th>\n",
              "      <th>throwing</th>\n",
              "      <th>arrival</th>\n",
              "      <th>recieved</th>\n",
              "      <th>building</th>\n",
              "      <th>motion</th>\n",
              "      <th>growing</th>\n",
              "      <th>backup</th>\n",
              "      <th>awhile</th>\n",
              "      <th>random</th>\n",
              "      <th>title</th>\n",
              "      <th>requested</th>\n",
              "      <th>closure</th>\n",
              "      <th>snow</th>\n",
              "      <th>milk</th>\n",
              "      <th>rolling</th>\n",
              "      <th>upside</th>\n",
              "    </tr>\n",
              "  </thead>\n",
              "  <tbody>\n",
              "    <tr>\n",
              "      <th>0</th>\n",
              "      <td>0.076894</td>\n",
              "      <td>0.0</td>\n",
              "      <td>0.0</td>\n",
              "      <td>0.0</td>\n",
              "      <td>0.0</td>\n",
              "      <td>0.0</td>\n",
              "      <td>0.0</td>\n",
              "      <td>0.0</td>\n",
              "      <td>0.0</td>\n",
              "      <td>0.0</td>\n",
              "      <td>0.0</td>\n",
              "      <td>0.0</td>\n",
              "      <td>0.0</td>\n",
              "      <td>0.0</td>\n",
              "      <td>0.0</td>\n",
              "      <td>0.0</td>\n",
              "      <td>0.0</td>\n",
              "      <td>0.0</td>\n",
              "      <td>0.0</td>\n",
              "      <td>0.0</td>\n",
              "      <td>0.0</td>\n",
              "      <td>0.0</td>\n",
              "      <td>0.0</td>\n",
              "      <td>0.0</td>\n",
              "      <td>0.0</td>\n",
              "      <td>0.0</td>\n",
              "      <td>0.0</td>\n",
              "      <td>0.0</td>\n",
              "      <td>0.0</td>\n",
              "      <td>0.0</td>\n",
              "      <td>0.0</td>\n",
              "      <td>0.0</td>\n",
              "      <td>0.0</td>\n",
              "      <td>0.0</td>\n",
              "      <td>0.0</td>\n",
              "      <td>0.0</td>\n",
              "      <td>0.0</td>\n",
              "      <td>0.0</td>\n",
              "      <td>0.0</td>\n",
              "      <td>0.0</td>\n",
              "      <td>...</td>\n",
              "      <td>0.0</td>\n",
              "      <td>0.0</td>\n",
              "      <td>0.0</td>\n",
              "      <td>0.0</td>\n",
              "      <td>0.0</td>\n",
              "      <td>0.0</td>\n",
              "      <td>0.0</td>\n",
              "      <td>0.0</td>\n",
              "      <td>0.000000</td>\n",
              "      <td>0.0</td>\n",
              "      <td>0.0</td>\n",
              "      <td>0.0</td>\n",
              "      <td>0.0</td>\n",
              "      <td>0.0</td>\n",
              "      <td>0.0</td>\n",
              "      <td>0.000000</td>\n",
              "      <td>0.0</td>\n",
              "      <td>0.0</td>\n",
              "      <td>0.0</td>\n",
              "      <td>0.0</td>\n",
              "      <td>0.0</td>\n",
              "      <td>0.0</td>\n",
              "      <td>0.0</td>\n",
              "      <td>0.0</td>\n",
              "      <td>0.0</td>\n",
              "      <td>0.0</td>\n",
              "      <td>0.0</td>\n",
              "      <td>0.0</td>\n",
              "      <td>0.0</td>\n",
              "      <td>0.0</td>\n",
              "      <td>0.0</td>\n",
              "      <td>0.0</td>\n",
              "      <td>0.0</td>\n",
              "      <td>0.0</td>\n",
              "      <td>0.0</td>\n",
              "      <td>0.0</td>\n",
              "      <td>0.0</td>\n",
              "      <td>0.0</td>\n",
              "      <td>0.0</td>\n",
              "      <td>0.0</td>\n",
              "    </tr>\n",
              "    <tr>\n",
              "      <th>1</th>\n",
              "      <td>0.043599</td>\n",
              "      <td>0.0</td>\n",
              "      <td>0.0</td>\n",
              "      <td>0.0</td>\n",
              "      <td>0.0</td>\n",
              "      <td>0.0</td>\n",
              "      <td>0.0</td>\n",
              "      <td>0.0</td>\n",
              "      <td>0.0</td>\n",
              "      <td>0.0</td>\n",
              "      <td>0.0</td>\n",
              "      <td>0.0</td>\n",
              "      <td>0.0</td>\n",
              "      <td>0.0</td>\n",
              "      <td>0.0</td>\n",
              "      <td>0.0</td>\n",
              "      <td>0.0</td>\n",
              "      <td>0.0</td>\n",
              "      <td>0.0</td>\n",
              "      <td>0.0</td>\n",
              "      <td>0.0</td>\n",
              "      <td>0.0</td>\n",
              "      <td>0.0</td>\n",
              "      <td>0.0</td>\n",
              "      <td>0.0</td>\n",
              "      <td>0.0</td>\n",
              "      <td>0.0</td>\n",
              "      <td>0.0</td>\n",
              "      <td>0.0</td>\n",
              "      <td>0.0</td>\n",
              "      <td>0.0</td>\n",
              "      <td>0.0</td>\n",
              "      <td>0.0</td>\n",
              "      <td>0.0</td>\n",
              "      <td>0.0</td>\n",
              "      <td>0.0</td>\n",
              "      <td>0.0</td>\n",
              "      <td>0.0</td>\n",
              "      <td>0.0</td>\n",
              "      <td>0.0</td>\n",
              "      <td>...</td>\n",
              "      <td>0.0</td>\n",
              "      <td>0.0</td>\n",
              "      <td>0.0</td>\n",
              "      <td>0.0</td>\n",
              "      <td>0.0</td>\n",
              "      <td>0.0</td>\n",
              "      <td>0.0</td>\n",
              "      <td>0.0</td>\n",
              "      <td>0.385787</td>\n",
              "      <td>0.0</td>\n",
              "      <td>0.0</td>\n",
              "      <td>0.0</td>\n",
              "      <td>0.0</td>\n",
              "      <td>0.0</td>\n",
              "      <td>0.0</td>\n",
              "      <td>0.000000</td>\n",
              "      <td>0.0</td>\n",
              "      <td>0.0</td>\n",
              "      <td>0.0</td>\n",
              "      <td>0.0</td>\n",
              "      <td>0.0</td>\n",
              "      <td>0.0</td>\n",
              "      <td>0.0</td>\n",
              "      <td>0.0</td>\n",
              "      <td>0.0</td>\n",
              "      <td>0.0</td>\n",
              "      <td>0.0</td>\n",
              "      <td>0.0</td>\n",
              "      <td>0.0</td>\n",
              "      <td>0.0</td>\n",
              "      <td>0.0</td>\n",
              "      <td>0.0</td>\n",
              "      <td>0.0</td>\n",
              "      <td>0.0</td>\n",
              "      <td>0.0</td>\n",
              "      <td>0.0</td>\n",
              "      <td>0.0</td>\n",
              "      <td>0.0</td>\n",
              "      <td>0.0</td>\n",
              "      <td>0.0</td>\n",
              "    </tr>\n",
              "    <tr>\n",
              "      <th>2</th>\n",
              "      <td>0.084764</td>\n",
              "      <td>0.0</td>\n",
              "      <td>0.0</td>\n",
              "      <td>0.0</td>\n",
              "      <td>0.0</td>\n",
              "      <td>0.0</td>\n",
              "      <td>0.0</td>\n",
              "      <td>0.0</td>\n",
              "      <td>0.0</td>\n",
              "      <td>0.0</td>\n",
              "      <td>0.0</td>\n",
              "      <td>0.0</td>\n",
              "      <td>0.0</td>\n",
              "      <td>0.0</td>\n",
              "      <td>0.0</td>\n",
              "      <td>0.0</td>\n",
              "      <td>0.0</td>\n",
              "      <td>0.0</td>\n",
              "      <td>0.0</td>\n",
              "      <td>0.0</td>\n",
              "      <td>0.0</td>\n",
              "      <td>0.0</td>\n",
              "      <td>0.0</td>\n",
              "      <td>0.0</td>\n",
              "      <td>0.0</td>\n",
              "      <td>0.0</td>\n",
              "      <td>0.0</td>\n",
              "      <td>0.0</td>\n",
              "      <td>0.0</td>\n",
              "      <td>0.0</td>\n",
              "      <td>0.0</td>\n",
              "      <td>0.0</td>\n",
              "      <td>0.0</td>\n",
              "      <td>0.0</td>\n",
              "      <td>0.0</td>\n",
              "      <td>0.0</td>\n",
              "      <td>0.0</td>\n",
              "      <td>0.0</td>\n",
              "      <td>0.0</td>\n",
              "      <td>0.0</td>\n",
              "      <td>...</td>\n",
              "      <td>0.0</td>\n",
              "      <td>0.0</td>\n",
              "      <td>0.0</td>\n",
              "      <td>0.0</td>\n",
              "      <td>0.0</td>\n",
              "      <td>0.0</td>\n",
              "      <td>0.0</td>\n",
              "      <td>0.0</td>\n",
              "      <td>0.000000</td>\n",
              "      <td>0.0</td>\n",
              "      <td>0.0</td>\n",
              "      <td>0.0</td>\n",
              "      <td>0.0</td>\n",
              "      <td>0.0</td>\n",
              "      <td>0.0</td>\n",
              "      <td>0.217286</td>\n",
              "      <td>0.0</td>\n",
              "      <td>0.0</td>\n",
              "      <td>0.0</td>\n",
              "      <td>0.0</td>\n",
              "      <td>0.0</td>\n",
              "      <td>0.0</td>\n",
              "      <td>0.0</td>\n",
              "      <td>0.0</td>\n",
              "      <td>0.0</td>\n",
              "      <td>0.0</td>\n",
              "      <td>0.0</td>\n",
              "      <td>0.0</td>\n",
              "      <td>0.0</td>\n",
              "      <td>0.0</td>\n",
              "      <td>0.0</td>\n",
              "      <td>0.0</td>\n",
              "      <td>0.0</td>\n",
              "      <td>0.0</td>\n",
              "      <td>0.0</td>\n",
              "      <td>0.0</td>\n",
              "      <td>0.0</td>\n",
              "      <td>0.0</td>\n",
              "      <td>0.0</td>\n",
              "      <td>0.0</td>\n",
              "    </tr>\n",
              "    <tr>\n",
              "      <th>3</th>\n",
              "      <td>0.000000</td>\n",
              "      <td>0.0</td>\n",
              "      <td>0.0</td>\n",
              "      <td>0.0</td>\n",
              "      <td>0.0</td>\n",
              "      <td>0.0</td>\n",
              "      <td>0.0</td>\n",
              "      <td>0.0</td>\n",
              "      <td>0.0</td>\n",
              "      <td>0.0</td>\n",
              "      <td>0.0</td>\n",
              "      <td>0.0</td>\n",
              "      <td>0.0</td>\n",
              "      <td>0.0</td>\n",
              "      <td>0.0</td>\n",
              "      <td>0.0</td>\n",
              "      <td>0.0</td>\n",
              "      <td>0.0</td>\n",
              "      <td>0.0</td>\n",
              "      <td>0.0</td>\n",
              "      <td>0.0</td>\n",
              "      <td>0.0</td>\n",
              "      <td>0.0</td>\n",
              "      <td>0.0</td>\n",
              "      <td>0.0</td>\n",
              "      <td>0.0</td>\n",
              "      <td>0.0</td>\n",
              "      <td>0.0</td>\n",
              "      <td>0.0</td>\n",
              "      <td>0.0</td>\n",
              "      <td>0.0</td>\n",
              "      <td>0.0</td>\n",
              "      <td>0.0</td>\n",
              "      <td>0.0</td>\n",
              "      <td>0.0</td>\n",
              "      <td>0.0</td>\n",
              "      <td>0.0</td>\n",
              "      <td>0.0</td>\n",
              "      <td>0.0</td>\n",
              "      <td>0.0</td>\n",
              "      <td>...</td>\n",
              "      <td>0.0</td>\n",
              "      <td>0.0</td>\n",
              "      <td>0.0</td>\n",
              "      <td>0.0</td>\n",
              "      <td>0.0</td>\n",
              "      <td>0.0</td>\n",
              "      <td>0.0</td>\n",
              "      <td>0.0</td>\n",
              "      <td>0.000000</td>\n",
              "      <td>0.0</td>\n",
              "      <td>0.0</td>\n",
              "      <td>0.0</td>\n",
              "      <td>0.0</td>\n",
              "      <td>0.0</td>\n",
              "      <td>0.0</td>\n",
              "      <td>0.000000</td>\n",
              "      <td>0.0</td>\n",
              "      <td>0.0</td>\n",
              "      <td>0.0</td>\n",
              "      <td>0.0</td>\n",
              "      <td>0.0</td>\n",
              "      <td>0.0</td>\n",
              "      <td>0.0</td>\n",
              "      <td>0.0</td>\n",
              "      <td>0.0</td>\n",
              "      <td>0.0</td>\n",
              "      <td>0.0</td>\n",
              "      <td>0.0</td>\n",
              "      <td>0.0</td>\n",
              "      <td>0.0</td>\n",
              "      <td>0.0</td>\n",
              "      <td>0.0</td>\n",
              "      <td>0.0</td>\n",
              "      <td>0.0</td>\n",
              "      <td>0.0</td>\n",
              "      <td>0.0</td>\n",
              "      <td>0.0</td>\n",
              "      <td>0.0</td>\n",
              "      <td>0.0</td>\n",
              "      <td>0.0</td>\n",
              "    </tr>\n",
              "    <tr>\n",
              "      <th>4</th>\n",
              "      <td>0.071446</td>\n",
              "      <td>0.0</td>\n",
              "      <td>0.0</td>\n",
              "      <td>0.0</td>\n",
              "      <td>0.0</td>\n",
              "      <td>0.0</td>\n",
              "      <td>0.0</td>\n",
              "      <td>0.0</td>\n",
              "      <td>0.0</td>\n",
              "      <td>0.0</td>\n",
              "      <td>0.0</td>\n",
              "      <td>0.0</td>\n",
              "      <td>0.0</td>\n",
              "      <td>0.0</td>\n",
              "      <td>0.0</td>\n",
              "      <td>0.0</td>\n",
              "      <td>0.0</td>\n",
              "      <td>0.0</td>\n",
              "      <td>0.0</td>\n",
              "      <td>0.0</td>\n",
              "      <td>0.0</td>\n",
              "      <td>0.0</td>\n",
              "      <td>0.0</td>\n",
              "      <td>0.0</td>\n",
              "      <td>0.0</td>\n",
              "      <td>0.0</td>\n",
              "      <td>0.0</td>\n",
              "      <td>0.0</td>\n",
              "      <td>0.0</td>\n",
              "      <td>0.0</td>\n",
              "      <td>0.0</td>\n",
              "      <td>0.0</td>\n",
              "      <td>0.0</td>\n",
              "      <td>0.0</td>\n",
              "      <td>0.0</td>\n",
              "      <td>0.0</td>\n",
              "      <td>0.0</td>\n",
              "      <td>0.0</td>\n",
              "      <td>0.0</td>\n",
              "      <td>0.0</td>\n",
              "      <td>...</td>\n",
              "      <td>0.0</td>\n",
              "      <td>0.0</td>\n",
              "      <td>0.0</td>\n",
              "      <td>0.0</td>\n",
              "      <td>0.0</td>\n",
              "      <td>0.0</td>\n",
              "      <td>0.0</td>\n",
              "      <td>0.0</td>\n",
              "      <td>0.000000</td>\n",
              "      <td>0.0</td>\n",
              "      <td>0.0</td>\n",
              "      <td>0.0</td>\n",
              "      <td>0.0</td>\n",
              "      <td>0.0</td>\n",
              "      <td>0.0</td>\n",
              "      <td>0.183147</td>\n",
              "      <td>0.0</td>\n",
              "      <td>0.0</td>\n",
              "      <td>0.0</td>\n",
              "      <td>0.0</td>\n",
              "      <td>0.0</td>\n",
              "      <td>0.0</td>\n",
              "      <td>0.0</td>\n",
              "      <td>0.0</td>\n",
              "      <td>0.0</td>\n",
              "      <td>0.0</td>\n",
              "      <td>0.0</td>\n",
              "      <td>0.0</td>\n",
              "      <td>0.0</td>\n",
              "      <td>0.0</td>\n",
              "      <td>0.0</td>\n",
              "      <td>0.0</td>\n",
              "      <td>0.0</td>\n",
              "      <td>0.0</td>\n",
              "      <td>0.0</td>\n",
              "      <td>0.0</td>\n",
              "      <td>0.0</td>\n",
              "      <td>0.0</td>\n",
              "      <td>0.0</td>\n",
              "      <td>0.0</td>\n",
              "    </tr>\n",
              "  </tbody>\n",
              "</table>\n",
              "<p>5 rows × 2038 columns</p>\n",
              "</div>"
            ],
            "text/plain": [
              "     strong  enough  run  small  vacuum  ...  closure  snow  milk  rolling  upside\n",
              "0  0.076894     0.0  0.0    0.0     0.0  ...      0.0   0.0   0.0      0.0     0.0\n",
              "1  0.043599     0.0  0.0    0.0     0.0  ...      0.0   0.0   0.0      0.0     0.0\n",
              "2  0.084764     0.0  0.0    0.0     0.0  ...      0.0   0.0   0.0      0.0     0.0\n",
              "3  0.000000     0.0  0.0    0.0     0.0  ...      0.0   0.0   0.0      0.0     0.0\n",
              "4  0.071446     0.0  0.0    0.0     0.0  ...      0.0   0.0   0.0      0.0     0.0\n",
              "\n",
              "[5 rows x 2038 columns]"
            ]
          },
          "metadata": {
            "tags": []
          },
          "execution_count": 50
        }
      ]
    },
    {
      "cell_type": "code",
      "metadata": {
        "id": "VMZ3JU6kbUNi"
      },
      "source": [
        ""
      ],
      "execution_count": null,
      "outputs": []
    },
    {
      "cell_type": "code",
      "metadata": {
        "id": "Zy_famrCKDbI"
      },
      "source": [
        "from sklearn.linear_model import LogisticRegression\n",
        "from sklearn.ensemble import RandomForestClassifier\n",
        "from sklearn.metrics import precision_recall_fscore_support as score\n",
        "from sklearn.model_selection import train_test_split\n",
        "from sklearn.metrics import accuracy_score\n",
        "from sklearn.pipeline import Pipeline\n",
        "from sklearn.inspection import permutation_importance"
      ],
      "execution_count": null,
      "outputs": []
    },
    {
      "cell_type": "code",
      "metadata": {
        "id": "tQVGOH17P3so"
      },
      "source": [
        "# Feature extra 2 : reviews length\n",
        "\n",
        "df['length'] = df['review_body'].apply(lambda x : len(re.split('\\W+',x)))\n"
      ],
      "execution_count": null,
      "outputs": []
    },
    {
      "cell_type": "code",
      "metadata": {
        "colab": {
          "base_uri": "https://localhost:8080/",
          "height": 253
        },
        "id": "Cw5basqOKl9G",
        "outputId": "43134b1a-4cd1-48ca-b09b-390f22e222f7"
      },
      "source": [
        "# reset index of the review_body column to match with new features\n",
        "#new_sentiment = df.score.reset_index()['score']\n",
        "#new_length = df.length.reset_index()['length']\n",
        "X_features = textmatrix\n",
        "#X_features = pd.concat([df['length'],pd.DataFrame(textfeatures.toarray(),columns=vectlemm.vocabulary_)],axis=1)\n",
        "y = df['star_rating']\n",
        "\n",
        "X_features.head()"
      ],
      "execution_count": null,
      "outputs": [
        {
          "output_type": "execute_result",
          "data": {
            "text/html": [
              "<div>\n",
              "<style scoped>\n",
              "    .dataframe tbody tr th:only-of-type {\n",
              "        vertical-align: middle;\n",
              "    }\n",
              "\n",
              "    .dataframe tbody tr th {\n",
              "        vertical-align: top;\n",
              "    }\n",
              "\n",
              "    .dataframe thead th {\n",
              "        text-align: right;\n",
              "    }\n",
              "</style>\n",
              "<table border=\"1\" class=\"dataframe\">\n",
              "  <thead>\n",
              "    <tr style=\"text-align: right;\">\n",
              "      <th></th>\n",
              "      <th>strong</th>\n",
              "      <th>enough</th>\n",
              "      <th>run</th>\n",
              "      <th>small</th>\n",
              "      <th>vacuum</th>\n",
              "      <th>cleaner</th>\n",
              "      <th>clean</th>\n",
              "      <th>car</th>\n",
              "      <th></th>\n",
              "      <th>leg</th>\n",
              "      <th>opening</th>\n",
              "      <th>little</th>\n",
              "      <th>suit</th>\n",
              "      <th>fit</th>\n",
              "      <th>nicely</th>\n",
              "      <th>high</th>\n",
              "      <th>quality</th>\n",
              "      <th>material</th>\n",
              "      <th>edit</th>\n",
              "      <th>wearing</th>\n",
              "      <th>le</th>\n",
              "      <th>two</th>\n",
              "      <th>month</th>\n",
              "      <th>worn</th>\n",
              "      <th>thin</th>\n",
              "      <th>multiple</th>\n",
              "      <th>spot</th>\n",
              "      <th>longer</th>\n",
              "      <th>appropriate</th>\n",
              "      <th>public</th>\n",
              "      <th>throw</th>\n",
              "      <th>away</th>\n",
              "      <th>unacceptable</th>\n",
              "      <th>really</th>\n",
              "      <th>cute</th>\n",
              "      <th>mug</th>\n",
              "      <th>would</th>\n",
              "      <th>given</th>\n",
              "      <th>star</th>\n",
              "      <th>bit</th>\n",
              "      <th>...</th>\n",
              "      <th>bored</th>\n",
              "      <th>younger</th>\n",
              "      <th>separated</th>\n",
              "      <th>vanilla</th>\n",
              "      <th>resistance</th>\n",
              "      <th>suitcase</th>\n",
              "      <th>drilled</th>\n",
              "      <th>woke</th>\n",
              "      <th>nephew</th>\n",
              "      <th>apps</th>\n",
              "      <th>boat</th>\n",
              "      <th>discolored</th>\n",
              "      <th>impression</th>\n",
              "      <th>co</th>\n",
              "      <th>utensil</th>\n",
              "      <th>admit</th>\n",
              "      <th>coin</th>\n",
              "      <th>afternoon</th>\n",
              "      <th>comparable</th>\n",
              "      <th>bitter</th>\n",
              "      <th>delay</th>\n",
              "      <th>earphone</th>\n",
              "      <th>quicker</th>\n",
              "      <th>smoke</th>\n",
              "      <th>exciting</th>\n",
              "      <th>helmet</th>\n",
              "      <th>wonderfully</th>\n",
              "      <th>raise</th>\n",
              "      <th>genuine</th>\n",
              "      <th>amazingly</th>\n",
              "      <th>placement</th>\n",
              "      <th>march</th>\n",
              "      <th>reduced</th>\n",
              "      <th>hr</th>\n",
              "      <th>attaching</th>\n",
              "      <th>handling</th>\n",
              "      <th>sucked</th>\n",
              "      <th>adventure</th>\n",
              "      <th>insole</th>\n",
              "      <th>pregnant</th>\n",
              "    </tr>\n",
              "  </thead>\n",
              "  <tbody>\n",
              "    <tr>\n",
              "      <th>0</th>\n",
              "      <td>0.077121</td>\n",
              "      <td>0.0</td>\n",
              "      <td>0.0</td>\n",
              "      <td>0.0</td>\n",
              "      <td>0.0</td>\n",
              "      <td>0.0</td>\n",
              "      <td>0.0</td>\n",
              "      <td>0.0</td>\n",
              "      <td>0.0</td>\n",
              "      <td>0.0</td>\n",
              "      <td>0.0</td>\n",
              "      <td>0.0</td>\n",
              "      <td>0.0</td>\n",
              "      <td>0.0</td>\n",
              "      <td>0.0</td>\n",
              "      <td>0.0</td>\n",
              "      <td>0.0</td>\n",
              "      <td>0.0</td>\n",
              "      <td>0.0</td>\n",
              "      <td>0.0</td>\n",
              "      <td>0.0</td>\n",
              "      <td>0.0</td>\n",
              "      <td>0.0</td>\n",
              "      <td>0.0</td>\n",
              "      <td>0.0</td>\n",
              "      <td>0.0</td>\n",
              "      <td>0.0</td>\n",
              "      <td>0.0</td>\n",
              "      <td>0.0</td>\n",
              "      <td>0.0</td>\n",
              "      <td>0.0</td>\n",
              "      <td>0.0</td>\n",
              "      <td>0.0</td>\n",
              "      <td>0.0</td>\n",
              "      <td>0.0</td>\n",
              "      <td>0.0</td>\n",
              "      <td>0.0</td>\n",
              "      <td>0.0</td>\n",
              "      <td>0.0</td>\n",
              "      <td>0.0</td>\n",
              "      <td>...</td>\n",
              "      <td>0.0</td>\n",
              "      <td>0.0</td>\n",
              "      <td>0.0</td>\n",
              "      <td>0.000000</td>\n",
              "      <td>0.0</td>\n",
              "      <td>0.0</td>\n",
              "      <td>0.0</td>\n",
              "      <td>0.0</td>\n",
              "      <td>0.0</td>\n",
              "      <td>0.0</td>\n",
              "      <td>0.0</td>\n",
              "      <td>0.0</td>\n",
              "      <td>0.0</td>\n",
              "      <td>0.0</td>\n",
              "      <td>0.0</td>\n",
              "      <td>0.0</td>\n",
              "      <td>0.0</td>\n",
              "      <td>0.0</td>\n",
              "      <td>0.0</td>\n",
              "      <td>0.0</td>\n",
              "      <td>0.0</td>\n",
              "      <td>0.0</td>\n",
              "      <td>0.0</td>\n",
              "      <td>0.0</td>\n",
              "      <td>0.0</td>\n",
              "      <td>0.0</td>\n",
              "      <td>0.0</td>\n",
              "      <td>0.0</td>\n",
              "      <td>0.0</td>\n",
              "      <td>0.0</td>\n",
              "      <td>0.0</td>\n",
              "      <td>0.0</td>\n",
              "      <td>0.0</td>\n",
              "      <td>0.0</td>\n",
              "      <td>0.0</td>\n",
              "      <td>0.0</td>\n",
              "      <td>0.0</td>\n",
              "      <td>0.0</td>\n",
              "      <td>0.0</td>\n",
              "      <td>0.0</td>\n",
              "    </tr>\n",
              "    <tr>\n",
              "      <th>1</th>\n",
              "      <td>0.039006</td>\n",
              "      <td>0.0</td>\n",
              "      <td>0.0</td>\n",
              "      <td>0.0</td>\n",
              "      <td>0.0</td>\n",
              "      <td>0.0</td>\n",
              "      <td>0.0</td>\n",
              "      <td>0.0</td>\n",
              "      <td>0.0</td>\n",
              "      <td>0.0</td>\n",
              "      <td>0.0</td>\n",
              "      <td>0.0</td>\n",
              "      <td>0.0</td>\n",
              "      <td>0.0</td>\n",
              "      <td>0.0</td>\n",
              "      <td>0.0</td>\n",
              "      <td>0.0</td>\n",
              "      <td>0.0</td>\n",
              "      <td>0.0</td>\n",
              "      <td>0.0</td>\n",
              "      <td>0.0</td>\n",
              "      <td>0.0</td>\n",
              "      <td>0.0</td>\n",
              "      <td>0.0</td>\n",
              "      <td>0.0</td>\n",
              "      <td>0.0</td>\n",
              "      <td>0.0</td>\n",
              "      <td>0.0</td>\n",
              "      <td>0.0</td>\n",
              "      <td>0.0</td>\n",
              "      <td>0.0</td>\n",
              "      <td>0.0</td>\n",
              "      <td>0.0</td>\n",
              "      <td>0.0</td>\n",
              "      <td>0.0</td>\n",
              "      <td>0.0</td>\n",
              "      <td>0.0</td>\n",
              "      <td>0.0</td>\n",
              "      <td>0.0</td>\n",
              "      <td>0.0</td>\n",
              "      <td>...</td>\n",
              "      <td>0.0</td>\n",
              "      <td>0.0</td>\n",
              "      <td>0.0</td>\n",
              "      <td>0.000000</td>\n",
              "      <td>0.0</td>\n",
              "      <td>0.0</td>\n",
              "      <td>0.0</td>\n",
              "      <td>0.0</td>\n",
              "      <td>0.0</td>\n",
              "      <td>0.0</td>\n",
              "      <td>0.0</td>\n",
              "      <td>0.0</td>\n",
              "      <td>0.0</td>\n",
              "      <td>0.0</td>\n",
              "      <td>0.0</td>\n",
              "      <td>0.0</td>\n",
              "      <td>0.0</td>\n",
              "      <td>0.0</td>\n",
              "      <td>0.0</td>\n",
              "      <td>0.0</td>\n",
              "      <td>0.0</td>\n",
              "      <td>0.0</td>\n",
              "      <td>0.0</td>\n",
              "      <td>0.0</td>\n",
              "      <td>0.0</td>\n",
              "      <td>0.0</td>\n",
              "      <td>0.0</td>\n",
              "      <td>0.0</td>\n",
              "      <td>0.0</td>\n",
              "      <td>0.0</td>\n",
              "      <td>0.0</td>\n",
              "      <td>0.0</td>\n",
              "      <td>0.0</td>\n",
              "      <td>0.0</td>\n",
              "      <td>0.0</td>\n",
              "      <td>0.0</td>\n",
              "      <td>0.0</td>\n",
              "      <td>0.0</td>\n",
              "      <td>0.0</td>\n",
              "      <td>0.0</td>\n",
              "    </tr>\n",
              "    <tr>\n",
              "      <th>2</th>\n",
              "      <td>0.085037</td>\n",
              "      <td>0.0</td>\n",
              "      <td>0.0</td>\n",
              "      <td>0.0</td>\n",
              "      <td>0.0</td>\n",
              "      <td>0.0</td>\n",
              "      <td>0.0</td>\n",
              "      <td>0.0</td>\n",
              "      <td>0.0</td>\n",
              "      <td>0.0</td>\n",
              "      <td>0.0</td>\n",
              "      <td>0.0</td>\n",
              "      <td>0.0</td>\n",
              "      <td>0.0</td>\n",
              "      <td>0.0</td>\n",
              "      <td>0.0</td>\n",
              "      <td>0.0</td>\n",
              "      <td>0.0</td>\n",
              "      <td>0.0</td>\n",
              "      <td>0.0</td>\n",
              "      <td>0.0</td>\n",
              "      <td>0.0</td>\n",
              "      <td>0.0</td>\n",
              "      <td>0.0</td>\n",
              "      <td>0.0</td>\n",
              "      <td>0.0</td>\n",
              "      <td>0.0</td>\n",
              "      <td>0.0</td>\n",
              "      <td>0.0</td>\n",
              "      <td>0.0</td>\n",
              "      <td>0.0</td>\n",
              "      <td>0.0</td>\n",
              "      <td>0.0</td>\n",
              "      <td>0.0</td>\n",
              "      <td>0.0</td>\n",
              "      <td>0.0</td>\n",
              "      <td>0.0</td>\n",
              "      <td>0.0</td>\n",
              "      <td>0.0</td>\n",
              "      <td>0.0</td>\n",
              "      <td>...</td>\n",
              "      <td>0.0</td>\n",
              "      <td>0.0</td>\n",
              "      <td>0.0</td>\n",
              "      <td>0.217258</td>\n",
              "      <td>0.0</td>\n",
              "      <td>0.0</td>\n",
              "      <td>0.0</td>\n",
              "      <td>0.0</td>\n",
              "      <td>0.0</td>\n",
              "      <td>0.0</td>\n",
              "      <td>0.0</td>\n",
              "      <td>0.0</td>\n",
              "      <td>0.0</td>\n",
              "      <td>0.0</td>\n",
              "      <td>0.0</td>\n",
              "      <td>0.0</td>\n",
              "      <td>0.0</td>\n",
              "      <td>0.0</td>\n",
              "      <td>0.0</td>\n",
              "      <td>0.0</td>\n",
              "      <td>0.0</td>\n",
              "      <td>0.0</td>\n",
              "      <td>0.0</td>\n",
              "      <td>0.0</td>\n",
              "      <td>0.0</td>\n",
              "      <td>0.0</td>\n",
              "      <td>0.0</td>\n",
              "      <td>0.0</td>\n",
              "      <td>0.0</td>\n",
              "      <td>0.0</td>\n",
              "      <td>0.0</td>\n",
              "      <td>0.0</td>\n",
              "      <td>0.0</td>\n",
              "      <td>0.0</td>\n",
              "      <td>0.0</td>\n",
              "      <td>0.0</td>\n",
              "      <td>0.0</td>\n",
              "      <td>0.0</td>\n",
              "      <td>0.0</td>\n",
              "      <td>0.0</td>\n",
              "    </tr>\n",
              "    <tr>\n",
              "      <th>3</th>\n",
              "      <td>0.000000</td>\n",
              "      <td>0.0</td>\n",
              "      <td>0.0</td>\n",
              "      <td>0.0</td>\n",
              "      <td>0.0</td>\n",
              "      <td>0.0</td>\n",
              "      <td>0.0</td>\n",
              "      <td>0.0</td>\n",
              "      <td>0.0</td>\n",
              "      <td>0.0</td>\n",
              "      <td>0.0</td>\n",
              "      <td>0.0</td>\n",
              "      <td>0.0</td>\n",
              "      <td>0.0</td>\n",
              "      <td>0.0</td>\n",
              "      <td>0.0</td>\n",
              "      <td>0.0</td>\n",
              "      <td>0.0</td>\n",
              "      <td>0.0</td>\n",
              "      <td>0.0</td>\n",
              "      <td>0.0</td>\n",
              "      <td>0.0</td>\n",
              "      <td>0.0</td>\n",
              "      <td>0.0</td>\n",
              "      <td>0.0</td>\n",
              "      <td>0.0</td>\n",
              "      <td>0.0</td>\n",
              "      <td>0.0</td>\n",
              "      <td>0.0</td>\n",
              "      <td>0.0</td>\n",
              "      <td>0.0</td>\n",
              "      <td>0.0</td>\n",
              "      <td>0.0</td>\n",
              "      <td>0.0</td>\n",
              "      <td>0.0</td>\n",
              "      <td>0.0</td>\n",
              "      <td>0.0</td>\n",
              "      <td>0.0</td>\n",
              "      <td>0.0</td>\n",
              "      <td>0.0</td>\n",
              "      <td>...</td>\n",
              "      <td>0.0</td>\n",
              "      <td>0.0</td>\n",
              "      <td>0.0</td>\n",
              "      <td>0.000000</td>\n",
              "      <td>0.0</td>\n",
              "      <td>0.0</td>\n",
              "      <td>0.0</td>\n",
              "      <td>0.0</td>\n",
              "      <td>0.0</td>\n",
              "      <td>0.0</td>\n",
              "      <td>0.0</td>\n",
              "      <td>0.0</td>\n",
              "      <td>0.0</td>\n",
              "      <td>0.0</td>\n",
              "      <td>0.0</td>\n",
              "      <td>0.0</td>\n",
              "      <td>0.0</td>\n",
              "      <td>0.0</td>\n",
              "      <td>0.0</td>\n",
              "      <td>0.0</td>\n",
              "      <td>0.0</td>\n",
              "      <td>0.0</td>\n",
              "      <td>0.0</td>\n",
              "      <td>0.0</td>\n",
              "      <td>0.0</td>\n",
              "      <td>0.0</td>\n",
              "      <td>0.0</td>\n",
              "      <td>0.0</td>\n",
              "      <td>0.0</td>\n",
              "      <td>0.0</td>\n",
              "      <td>0.0</td>\n",
              "      <td>0.0</td>\n",
              "      <td>0.0</td>\n",
              "      <td>0.0</td>\n",
              "      <td>0.0</td>\n",
              "      <td>0.0</td>\n",
              "      <td>0.0</td>\n",
              "      <td>0.0</td>\n",
              "      <td>0.0</td>\n",
              "      <td>0.0</td>\n",
              "    </tr>\n",
              "    <tr>\n",
              "      <th>4</th>\n",
              "      <td>0.071432</td>\n",
              "      <td>0.0</td>\n",
              "      <td>0.0</td>\n",
              "      <td>0.0</td>\n",
              "      <td>0.0</td>\n",
              "      <td>0.0</td>\n",
              "      <td>0.0</td>\n",
              "      <td>0.0</td>\n",
              "      <td>0.0</td>\n",
              "      <td>0.0</td>\n",
              "      <td>0.0</td>\n",
              "      <td>0.0</td>\n",
              "      <td>0.0</td>\n",
              "      <td>0.0</td>\n",
              "      <td>0.0</td>\n",
              "      <td>0.0</td>\n",
              "      <td>0.0</td>\n",
              "      <td>0.0</td>\n",
              "      <td>0.0</td>\n",
              "      <td>0.0</td>\n",
              "      <td>0.0</td>\n",
              "      <td>0.0</td>\n",
              "      <td>0.0</td>\n",
              "      <td>0.0</td>\n",
              "      <td>0.0</td>\n",
              "      <td>0.0</td>\n",
              "      <td>0.0</td>\n",
              "      <td>0.0</td>\n",
              "      <td>0.0</td>\n",
              "      <td>0.0</td>\n",
              "      <td>0.0</td>\n",
              "      <td>0.0</td>\n",
              "      <td>0.0</td>\n",
              "      <td>0.0</td>\n",
              "      <td>0.0</td>\n",
              "      <td>0.0</td>\n",
              "      <td>0.0</td>\n",
              "      <td>0.0</td>\n",
              "      <td>0.0</td>\n",
              "      <td>0.0</td>\n",
              "      <td>...</td>\n",
              "      <td>0.0</td>\n",
              "      <td>0.0</td>\n",
              "      <td>0.0</td>\n",
              "      <td>0.182499</td>\n",
              "      <td>0.0</td>\n",
              "      <td>0.0</td>\n",
              "      <td>0.0</td>\n",
              "      <td>0.0</td>\n",
              "      <td>0.0</td>\n",
              "      <td>0.0</td>\n",
              "      <td>0.0</td>\n",
              "      <td>0.0</td>\n",
              "      <td>0.0</td>\n",
              "      <td>0.0</td>\n",
              "      <td>0.0</td>\n",
              "      <td>0.0</td>\n",
              "      <td>0.0</td>\n",
              "      <td>0.0</td>\n",
              "      <td>0.0</td>\n",
              "      <td>0.0</td>\n",
              "      <td>0.0</td>\n",
              "      <td>0.0</td>\n",
              "      <td>0.0</td>\n",
              "      <td>0.0</td>\n",
              "      <td>0.0</td>\n",
              "      <td>0.0</td>\n",
              "      <td>0.0</td>\n",
              "      <td>0.0</td>\n",
              "      <td>0.0</td>\n",
              "      <td>0.0</td>\n",
              "      <td>0.0</td>\n",
              "      <td>0.0</td>\n",
              "      <td>0.0</td>\n",
              "      <td>0.0</td>\n",
              "      <td>0.0</td>\n",
              "      <td>0.0</td>\n",
              "      <td>0.0</td>\n",
              "      <td>0.0</td>\n",
              "      <td>0.0</td>\n",
              "      <td>0.0</td>\n",
              "    </tr>\n",
              "  </tbody>\n",
              "</table>\n",
              "<p>5 rows × 3072 columns</p>\n",
              "</div>"
            ],
            "text/plain": [
              "     strong  enough  run  small  ...  sucked  adventure  insole  pregnant\n",
              "0  0.077121     0.0  0.0    0.0  ...     0.0        0.0     0.0       0.0\n",
              "1  0.039006     0.0  0.0    0.0  ...     0.0        0.0     0.0       0.0\n",
              "2  0.085037     0.0  0.0    0.0  ...     0.0        0.0     0.0       0.0\n",
              "3  0.000000     0.0  0.0    0.0  ...     0.0        0.0     0.0       0.0\n",
              "4  0.071432     0.0  0.0    0.0  ...     0.0        0.0     0.0       0.0\n",
              "\n",
              "[5 rows x 3072 columns]"
            ]
          },
          "metadata": {
            "tags": []
          },
          "execution_count": 19
        }
      ]
    },
    {
      "cell_type": "code",
      "metadata": {
        "colab": {
          "base_uri": "https://localhost:8080/"
        },
        "id": "0Om3K8yeK6Of",
        "outputId": "5aae87eb-5e26-46bc-e196-f69742547097"
      },
      "source": [
        "X_features.shape"
      ],
      "execution_count": null,
      "outputs": [
        {
          "output_type": "execute_result",
          "data": {
            "text/plain": [
              "(205000, 3072)"
            ]
          },
          "metadata": {
            "tags": []
          },
          "execution_count": 20
        }
      ]
    },
    {
      "cell_type": "code",
      "metadata": {
        "colab": {
          "base_uri": "https://localhost:8080/",
          "height": 419
        },
        "id": "cvWpf9wn0kE5",
        "outputId": "a42c8571-00f3-4fcf-f3a6-2f4bff9abb1a"
      },
      "source": [
        "# suma de probabilidades\n",
        "sum_scores = pd.DataFrame(textmatrix.sum(),columns=['sum_scores_TFIDF'])\n",
        "\n",
        "#high usage of words in reviews\n",
        "sum_scores.sort_values(by='sum_scores_TFIDF',ascending=False)b"
      ],
      "execution_count": null,
      "outputs": [
        {
          "output_type": "execute_result",
          "data": {
            "text/html": [
              "<div>\n",
              "<style scoped>\n",
              "    .dataframe tbody tr th:only-of-type {\n",
              "        vertical-align: middle;\n",
              "    }\n",
              "\n",
              "    .dataframe tbody tr th {\n",
              "        vertical-align: top;\n",
              "    }\n",
              "\n",
              "    .dataframe thead th {\n",
              "        text-align: right;\n",
              "    }\n",
              "</style>\n",
              "<table border=\"1\" class=\"dataframe\">\n",
              "  <thead>\n",
              "    <tr style=\"text-align: right;\">\n",
              "      <th></th>\n",
              "      <th>sum_scores_TFIDF</th>\n",
              "    </tr>\n",
              "  </thead>\n",
              "  <tbody>\n",
              "    <tr>\n",
              "      <th>strong</th>\n",
              "      <td>6102.409503</td>\n",
              "    </tr>\n",
              "    <tr>\n",
              "      <th>brush</th>\n",
              "      <td>2628.039233</td>\n",
              "    </tr>\n",
              "    <tr>\n",
              "      <th>chocolate</th>\n",
              "      <td>2552.786059</td>\n",
              "    </tr>\n",
              "    <tr>\n",
              "      <th>character</th>\n",
              "      <td>2493.966749</td>\n",
              "    </tr>\n",
              "    <tr>\n",
              "      <th>line</th>\n",
              "      <td>2353.637309</td>\n",
              "    </tr>\n",
              "    <tr>\n",
              "      <th>...</th>\n",
              "      <td>...</td>\n",
              "    </tr>\n",
              "    <tr>\n",
              "      <th>sizing</th>\n",
              "      <td>28.444169</td>\n",
              "    </tr>\n",
              "    <tr>\n",
              "      <th>melted</th>\n",
              "      <td>28.131392</td>\n",
              "    </tr>\n",
              "    <tr>\n",
              "      <th>use</th>\n",
              "      <td>28.005668</td>\n",
              "    </tr>\n",
              "    <tr>\n",
              "      <th>inside</th>\n",
              "      <td>27.667185</td>\n",
              "    </tr>\n",
              "    <tr>\n",
              "      <th>glove</th>\n",
              "      <td>27.243107</td>\n",
              "    </tr>\n",
              "  </tbody>\n",
              "</table>\n",
              "<p>2038 rows × 1 columns</p>\n",
              "</div>"
            ],
            "text/plain": [
              "           sum_scores_TFIDF\n",
              "strong          6102.409503\n",
              "brush           2628.039233\n",
              "chocolate       2552.786059\n",
              "character       2493.966749\n",
              "line            2353.637309\n",
              "...                     ...\n",
              "sizing            28.444169\n",
              "melted            28.131392\n",
              "use               28.005668\n",
              "inside            27.667185\n",
              "glove             27.243107\n",
              "\n",
              "[2038 rows x 1 columns]"
            ]
          },
          "metadata": {
            "tags": []
          },
          "execution_count": 54
        }
      ]
    },
    {
      "cell_type": "code",
      "metadata": {
        "colab": {
          "base_uri": "https://localhost:8080/",
          "height": 204
        },
        "id": "OuDbl39q1LiU",
        "outputId": "48e8c4b0-92f2-4485-83a7-db6464edb669"
      },
      "source": [
        "#  words used by many people or less frequent in sentences\n",
        "x = sum_scores.sort_values(by='sum_scores_TFIDF',ascending = True)\n",
        "x.head(5)\n"
      ],
      "execution_count": null,
      "outputs": [
        {
          "output_type": "execute_result",
          "data": {
            "text/html": [
              "<div>\n",
              "<style scoped>\n",
              "    .dataframe tbody tr th:only-of-type {\n",
              "        vertical-align: middle;\n",
              "    }\n",
              "\n",
              "    .dataframe tbody tr th {\n",
              "        vertical-align: top;\n",
              "    }\n",
              "\n",
              "    .dataframe thead th {\n",
              "        text-align: right;\n",
              "    }\n",
              "</style>\n",
              "<table border=\"1\" class=\"dataframe\">\n",
              "  <thead>\n",
              "    <tr style=\"text-align: right;\">\n",
              "      <th></th>\n",
              "      <th>sum_scores_TFIDF</th>\n",
              "    </tr>\n",
              "  </thead>\n",
              "  <tbody>\n",
              "    <tr>\n",
              "      <th>glove</th>\n",
              "      <td>27.243107</td>\n",
              "    </tr>\n",
              "    <tr>\n",
              "      <th>inside</th>\n",
              "      <td>27.667185</td>\n",
              "    </tr>\n",
              "    <tr>\n",
              "      <th>use</th>\n",
              "      <td>28.005668</td>\n",
              "    </tr>\n",
              "    <tr>\n",
              "      <th>melted</th>\n",
              "      <td>28.131392</td>\n",
              "    </tr>\n",
              "    <tr>\n",
              "      <th>sizing</th>\n",
              "      <td>28.444169</td>\n",
              "    </tr>\n",
              "  </tbody>\n",
              "</table>\n",
              "</div>"
            ],
            "text/plain": [
              "        sum_scores_TFIDF\n",
              "glove          27.243107\n",
              "inside         27.667185\n",
              "use            28.005668\n",
              "melted         28.131392\n",
              "sizing         28.444169"
            ]
          },
          "metadata": {
            "tags": []
          },
          "execution_count": 55
        }
      ]
    },
    {
      "cell_type": "code",
      "metadata": {
        "id": "J_ezG7EX02e3"
      },
      "source": [
        "%%capture\n",
        "!pip install wordcloud"
      ],
      "execution_count": null,
      "outputs": []
    },
    {
      "cell_type": "code",
      "metadata": {
        "colab": {
          "base_uri": "https://localhost:8080/",
          "height": 254
        },
        "id": "5A9c9fHn03dj",
        "outputId": "5608bc5f-96f6-4a67-89ba-02da2fa73325"
      },
      "source": [
        "from wordcloud import WordCloud\n",
        "\n",
        "Cloud = WordCloud(background_color=\"white\", max_words=50).generate_from_frequencies(x['sum_scores_TFIDF'])\n",
        "\n",
        "fig = plt.figure(1, figsize=(8, 8))\n",
        "plt.imshow(Cloud)\n",
        "plt.axis('off')\n",
        "plt.show()\n"
      ],
      "execution_count": null,
      "outputs": [
        {
          "output_type": "display_data",
          "data": {
            "image/png": "[encoded data removed]",
            "text/plain": [
              "<Figure size 576x576 with 1 Axes>"
            ]
          },
          "metadata": {
            "tags": [],
            "needs_background": "light"
          }
        }
      ]
    },
    {
      "cell_type": "markdown",
      "metadata": {
        "id": "JiQDvkED0ft1"
      },
      "source": [
        ""
      ]
    },
    {
      "cell_type": "markdown",
      "metadata": {
        "id": "pfXVCqpgVeQ_"
      },
      "source": [
        "# Red Neuronal Simple"
      ]
    },
    {
      "cell_type": "markdown",
      "metadata": {
        "id": "LXFqwl-aBBWp"
      },
      "source": [
        "## Rating clasification"
      ]
    },
    {
      "cell_type": "code",
      "metadata": {
        "colab": {
          "base_uri": "https://localhost:8080/"
        },
        "id": "KEpEbxN7V9em",
        "outputId": "a3503462-e2ca-48ee-e8ae-00bbf1ca8841"
      },
      "source": [
        "!pip install keras"
      ],
      "execution_count": null,
      "outputs": [
        {
          "output_type": "stream",
          "text": [
            "Requirement already satisfied: keras in /usr/local/lib/python3.7/dist-packages (2.4.3)\n",
            "Requirement already satisfied: pyyaml in /usr/local/lib/python3.7/dist-packages (from keras) (3.13)\n",
            "Requirement already satisfied: scipy>=0.14 in /usr/local/lib/python3.7/dist-packages (from keras) (1.4.1)\n",
            "Requirement already satisfied: h5py in /usr/local/lib/python3.7/dist-packages (from keras) (2.10.0)\n",
            "Requirement already satisfied: numpy>=1.9.1 in /usr/local/lib/python3.7/dist-packages (from keras) (1.19.5)\n",
            "Requirement already satisfied: six in /usr/local/lib/python3.7/dist-packages (from h5py->keras) (1.15.0)\n"
          ],
          "name": "stdout"
        }
      ]
    },
    {
      "cell_type": "code",
      "metadata": {
        "id": "i0TewU7Ro9gl"
      },
      "source": [
        "from keras.layers import *"
      ],
      "execution_count": null,
      "outputs": []
    },
    {
      "cell_type": "code",
      "metadata": {
        "id": "djIvdBEYaEab"
      },
      "source": [
        "from sklearn.feature_extraction.text import TfidfVectorizer\n",
        "from sklearn.preprocessing import LabelEncoder\n",
        "import matplotlib.pyplot as plt\n",
        "from tensorflow import keras\n",
        "import pandas as pd\n",
        "import json\n",
        "import numpy as np"
      ],
      "execution_count": null,
      "outputs": []
    },
    {
      "cell_type": "code",
      "metadata": {
        "id": "3oDKeiW2srf8"
      },
      "source": [
        "%%capture \n",
        "!pip install wandb\n",
        "import wandb\n",
        "from wandb.keras import WandbCallback"
      ],
      "execution_count": null,
      "outputs": []
    },
    {
      "cell_type": "code",
      "metadata": {
        "id": "gHMFgw2WaEYM"
      },
      "source": [
        "tfidf = TfidfVectorizer(analyzer=clean_lemma,sublinear_tf=True, min_df=30,ngram_range=(1, 2), stop_words='english')"
      ],
      "execution_count": null,
      "outputs": []
    },
    {
      "cell_type": "code",
      "metadata": {
        "colab": {
          "base_uri": "https://localhost:8080/"
        },
        "id": "jYSoQXfim271",
        "outputId": "f5829c97-4f0f-4743-c7cd-fa644f4dbddc"
      },
      "source": [
        "# Para train fit_transform\n",
        "features_train = tfidf.fit_transform(X_train).toarray()\n",
        "labels_train = y_train\n",
        "print(features_train.shape)\n",
        "print(labels_train.shape)\n",
        "\n",
        "# Para test solo transform \n",
        "features_test = tfidf.transform(X_test).toarray()\n",
        "labels_test = y_test\n",
        "print(features_test.shape)\n",
        "print(labels_test.shape)"
      ],
      "execution_count": null,
      "outputs": [
        {
          "output_type": "stream",
          "text": [
            "(72450, 3426)\n",
            "(72450,)\n",
            "(3105, 3426)\n",
            "(3105,)\n"
          ],
          "name": "stdout"
        }
      ]
    },
    {
      "cell_type": "code",
      "metadata": {
        "id": "r4AaQBHbm8UL"
      },
      "source": [
        "lb = LabelEncoder()\n",
        "\n",
        "y_train = lb.fit_transform(y_train)\n",
        "y_test = lb.fit_transform(y_test)\n",
        "\n",
        "y_train = keras.utils.to_categorical(y_train)\n",
        "y_test = keras.utils.to_categorical(y_test)"
      ],
      "execution_count": null,
      "outputs": []
    },
    {
      "cell_type": "markdown",
      "metadata": {
        "id": "5V7i27rpkIqj"
      },
      "source": [
        "### Visualization t-SNE, PCA de los datos y sus categorías asociadas"
      ]
    },
    {
      "cell_type": "code",
      "metadata": {
        "id": "YhDJosJxnjnT"
      },
      "source": [
        "import numpy as np\n",
        "import pandas as pd\n",
        "from sklearn.decomposition import PCA\n",
        "import matplotlib.pyplot as plt\n",
        "import seaborn as sns\n",
        "from sklearn.manifold import TSNE"
      ],
      "execution_count": null,
      "outputs": []
    },
    {
      "cell_type": "code",
      "metadata": {
        "id": "LsSKdP6pkGQj"
      },
      "source": [
        "features = np.concatenate((features_train,features_test), axis=0)\n",
        "labels = np.concatenate((labels_train,labels_test), axis=0)"
      ],
      "execution_count": null,
      "outputs": []
    },
    {
      "cell_type": "code",
      "metadata": {
        "colab": {
          "base_uri": "https://localhost:8080/"
        },
        "id": "nbciKdZ-nZJC",
        "outputId": "02a361c8-5a19-4525-a172-1c196d74bd38"
      },
      "source": [
        "print(features_train.shape)\n",
        "print(labels_train.shape)\n"
      ],
      "execution_count": null,
      "outputs": [
        {
          "output_type": "stream",
          "text": [
            "(72450, 3426)\n",
            "(72450,)\n"
          ],
          "name": "stdout"
        }
      ]
    },
    {
      "cell_type": "code",
      "metadata": {
        "colab": {
          "base_uri": "https://localhost:8080/"
        },
        "id": "Nfm6jUAuUZYm",
        "outputId": "1212d148-82b4-4dea-f061-131eaa6c547f"
      },
      "source": [
        "len(labels_test.unique())"
      ],
      "execution_count": null,
      "outputs": [
        {
          "output_type": "execute_result",
          "data": {
            "text/plain": [
              "5"
            ]
          },
          "metadata": {
            "tags": []
          },
          "execution_count": 31
        }
      ]
    },
    {
      "cell_type": "code",
      "metadata": {
        "id": "P-UhHd6dkGq_"
      },
      "source": [
        "def plot_dim_red(model, features, labels, n_components=2):\n",
        "    \n",
        "    # Creation of the model\n",
        "    if (model == 'PCA'):\n",
        "        mod = PCA(n_components=n_components)\n",
        "        title = \"PCA decomposition\"  # for the plot\n",
        "        \n",
        "    elif (model == 'TSNE'):\n",
        "        mod = TSNE(n_components=2)\n",
        "        title = \"t-SNE decomposition\" \n",
        "\n",
        "    else:\n",
        "        return \"Error\"\n",
        "    \n",
        "    # Fit and transform the features\n",
        "    principal_components = mod.fit_transform(features)\n",
        "    \n",
        "    # Put them into a dataframe\n",
        "    df_features = pd.DataFrame(data=principal_components,\n",
        "                     columns=['PC1', 'PC2'])\n",
        "    \n",
        "    # Now we have to paste each row's label and its meaning\n",
        "    # Convert labels array to df\n",
        "    df_labels = pd.DataFrame(data=labels,\n",
        "                             columns=['label'])\n",
        "    \n",
        "    df_full = pd.concat([df_features, df_labels], axis=1)\n",
        "    df_full['label'] = df_full['label'].astype(str)\n",
        "\n",
        "    # Get labels name\n",
        "    category_names = {\n",
        "        \"0\": '0 stars',\n",
        "        \"1\": '1 stars',\n",
        "        \"2\": '2 stars',\n",
        "        \"3\": '3 stars',\n",
        "        \"4\": '4 stars'\n",
        "    }\n",
        "    # And map labels\n",
        "    df_full['label_name'] = df_full['label']\n",
        "    df_full = df_full.replace({'label_name':category_names})\n",
        "\n",
        "    # Plot\n",
        "    plt.figure(figsize=(10,10))\n",
        "    sns.scatterplot(x='PC1',\n",
        "                    y='PC2',\n",
        "                    hue=\"label_name\", \n",
        "                    data=df_full,\n",
        "                    palette=[\"red\", \"pink\", \"royalblue\", \"greenyellow\", \"lightseagreen\"],\n",
        "                    #palette = sns.color_palette('coolwarm', n_colors=5), \n",
        "                    alpha=.7).set_title(title);\n"
      ],
      "execution_count": null,
      "outputs": []
    },
    {
      "cell_type": "code",
      "metadata": {
        "colab": {
          "base_uri": "https://localhost:8080/",
          "height": 328
        },
        "id": "zwItiDgykGxd",
        "outputId": "1b861ade-7f23-4b5f-9889-1ecd18a5e4d5"
      },
      "source": [
        "plot_dim_red(\"PCA\", \n",
        "             features=features_train, \n",
        "             labels=labels_train,\n",
        "             n_components=2)"
      ],
      "execution_count": null,
      "outputs": [
        {
          "output_type": "error",
          "ename": "KeyboardInterrupt",
          "evalue": "ignored",
          "traceback": [
            "\u001b[0;31m---------------------------------------------------------------------------\u001b[0m",
            "\u001b[0;31mKeyboardInterrupt\u001b[0m                         Traceback (most recent call last)",
            "\u001b[0;32m<ipython-input-39-bd8b7ee730b6>\u001b[0m in \u001b[0;36m<module>\u001b[0;34m()\u001b[0m\n\u001b[1;32m      2\u001b[0m              \u001b[0mfeatures\u001b[0m\u001b[0;34m=\u001b[0m\u001b[0mfeatures_train\u001b[0m\u001b[0;34m,\u001b[0m\u001b[0;34m\u001b[0m\u001b[0;34m\u001b[0m\u001b[0m\n\u001b[1;32m      3\u001b[0m              \u001b[0mlabels\u001b[0m\u001b[0;34m=\u001b[0m\u001b[0mlabels_train\u001b[0m\u001b[0;34m,\u001b[0m\u001b[0;34m\u001b[0m\u001b[0;34m\u001b[0m\u001b[0m\n\u001b[0;32m----> 4\u001b[0;31m              n_components=2)\n\u001b[0m",
            "\u001b[0;32m<ipython-input-36-f5a41cfc8596>\u001b[0m in \u001b[0;36mplot_dim_red\u001b[0;34m(model, features, labels, n_components)\u001b[0m\n\u001b[1;32m     14\u001b[0m \u001b[0;34m\u001b[0m\u001b[0m\n\u001b[1;32m     15\u001b[0m     \u001b[0;31m# Fit and transform the features\u001b[0m\u001b[0;34m\u001b[0m\u001b[0;34m\u001b[0m\u001b[0;34m\u001b[0m\u001b[0m\n\u001b[0;32m---> 16\u001b[0;31m     \u001b[0mprincipal_components\u001b[0m \u001b[0;34m=\u001b[0m \u001b[0mmod\u001b[0m\u001b[0;34m.\u001b[0m\u001b[0mfit_transform\u001b[0m\u001b[0;34m(\u001b[0m\u001b[0mfeatures\u001b[0m\u001b[0;34m)\u001b[0m\u001b[0;34m\u001b[0m\u001b[0;34m\u001b[0m\u001b[0m\n\u001b[0m\u001b[1;32m     17\u001b[0m \u001b[0;34m\u001b[0m\u001b[0m\n\u001b[1;32m     18\u001b[0m     \u001b[0;31m# Put them into a dataframe\u001b[0m\u001b[0;34m\u001b[0m\u001b[0;34m\u001b[0m\u001b[0;34m\u001b[0m\u001b[0m\n",
            "\u001b[0;32m/usr/local/lib/python3.7/dist-packages/sklearn/decomposition/_pca.py\u001b[0m in \u001b[0;36mfit_transform\u001b[0;34m(self, X, y)\u001b[0m\n\u001b[1;32m    367\u001b[0m         \u001b[0mC\u001b[0m\u001b[0;34m-\u001b[0m\u001b[0mordered\u001b[0m \u001b[0marray\u001b[0m\u001b[0;34m,\u001b[0m \u001b[0muse\u001b[0m \u001b[0;34m'np.ascontiguousarray'\u001b[0m\u001b[0;34m.\u001b[0m\u001b[0;34m\u001b[0m\u001b[0;34m\u001b[0m\u001b[0m\n\u001b[1;32m    368\u001b[0m         \"\"\"\n\u001b[0;32m--> 369\u001b[0;31m         \u001b[0mU\u001b[0m\u001b[0;34m,\u001b[0m \u001b[0mS\u001b[0m\u001b[0;34m,\u001b[0m \u001b[0mV\u001b[0m \u001b[0;34m=\u001b[0m \u001b[0mself\u001b[0m\u001b[0;34m.\u001b[0m\u001b[0m_fit\u001b[0m\u001b[0;34m(\u001b[0m\u001b[0mX\u001b[0m\u001b[0;34m)\u001b[0m\u001b[0;34m\u001b[0m\u001b[0;34m\u001b[0m\u001b[0m\n\u001b[0m\u001b[1;32m    370\u001b[0m         \u001b[0mU\u001b[0m \u001b[0;34m=\u001b[0m \u001b[0mU\u001b[0m\u001b[0;34m[\u001b[0m\u001b[0;34m:\u001b[0m\u001b[0;34m,\u001b[0m \u001b[0;34m:\u001b[0m\u001b[0mself\u001b[0m\u001b[0;34m.\u001b[0m\u001b[0mn_components_\u001b[0m\u001b[0;34m]\u001b[0m\u001b[0;34m\u001b[0m\u001b[0;34m\u001b[0m\u001b[0m\n\u001b[1;32m    371\u001b[0m \u001b[0;34m\u001b[0m\u001b[0m\n",
            "\u001b[0;32m/usr/local/lib/python3.7/dist-packages/sklearn/decomposition/_pca.py\u001b[0m in \u001b[0;36m_fit\u001b[0;34m(self, X)\u001b[0m\n\u001b[1;32m    416\u001b[0m             \u001b[0;32mreturn\u001b[0m \u001b[0mself\u001b[0m\u001b[0;34m.\u001b[0m\u001b[0m_fit_full\u001b[0m\u001b[0;34m(\u001b[0m\u001b[0mX\u001b[0m\u001b[0;34m,\u001b[0m \u001b[0mn_components\u001b[0m\u001b[0;34m)\u001b[0m\u001b[0;34m\u001b[0m\u001b[0;34m\u001b[0m\u001b[0m\n\u001b[1;32m    417\u001b[0m         \u001b[0;32melif\u001b[0m \u001b[0mself\u001b[0m\u001b[0;34m.\u001b[0m\u001b[0m_fit_svd_solver\u001b[0m \u001b[0;32min\u001b[0m \u001b[0;34m[\u001b[0m\u001b[0;34m'arpack'\u001b[0m\u001b[0;34m,\u001b[0m \u001b[0;34m'randomized'\u001b[0m\u001b[0;34m]\u001b[0m\u001b[0;34m:\u001b[0m\u001b[0;34m\u001b[0m\u001b[0;34m\u001b[0m\u001b[0m\n\u001b[0;32m--> 418\u001b[0;31m             \u001b[0;32mreturn\u001b[0m \u001b[0mself\u001b[0m\u001b[0;34m.\u001b[0m\u001b[0m_fit_truncated\u001b[0m\u001b[0;34m(\u001b[0m\u001b[0mX\u001b[0m\u001b[0;34m,\u001b[0m \u001b[0mn_components\u001b[0m\u001b[0;34m,\u001b[0m \u001b[0mself\u001b[0m\u001b[0;34m.\u001b[0m\u001b[0m_fit_svd_solver\u001b[0m\u001b[0;34m)\u001b[0m\u001b[0;34m\u001b[0m\u001b[0;34m\u001b[0m\u001b[0m\n\u001b[0m\u001b[1;32m    419\u001b[0m         \u001b[0;32melse\u001b[0m\u001b[0;34m:\u001b[0m\u001b[0;34m\u001b[0m\u001b[0;34m\u001b[0m\u001b[0m\n\u001b[1;32m    420\u001b[0m             raise ValueError(\"Unrecognized svd_solver='{0}'\"\n",
            "\u001b[0;32m/usr/local/lib/python3.7/dist-packages/sklearn/decomposition/_pca.py\u001b[0m in \u001b[0;36m_fit_truncated\u001b[0;34m(self, X, n_components, svd_solver)\u001b[0m\n\u001b[1;32m    533\u001b[0m                                      \u001b[0mn_iter\u001b[0m\u001b[0;34m=\u001b[0m\u001b[0mself\u001b[0m\u001b[0;34m.\u001b[0m\u001b[0miterated_power\u001b[0m\u001b[0;34m,\u001b[0m\u001b[0;34m\u001b[0m\u001b[0;34m\u001b[0m\u001b[0m\n\u001b[1;32m    534\u001b[0m                                      \u001b[0mflip_sign\u001b[0m\u001b[0;34m=\u001b[0m\u001b[0;32mTrue\u001b[0m\u001b[0;34m,\u001b[0m\u001b[0;34m\u001b[0m\u001b[0;34m\u001b[0m\u001b[0m\n\u001b[0;32m--> 535\u001b[0;31m                                      random_state=random_state)\n\u001b[0m\u001b[1;32m    536\u001b[0m \u001b[0;34m\u001b[0m\u001b[0m\n\u001b[1;32m    537\u001b[0m         \u001b[0mself\u001b[0m\u001b[0;34m.\u001b[0m\u001b[0mn_samples_\u001b[0m\u001b[0;34m,\u001b[0m \u001b[0mself\u001b[0m\u001b[0;34m.\u001b[0m\u001b[0mn_features_\u001b[0m \u001b[0;34m=\u001b[0m \u001b[0mn_samples\u001b[0m\u001b[0;34m,\u001b[0m \u001b[0mn_features\u001b[0m\u001b[0;34m\u001b[0m\u001b[0;34m\u001b[0m\u001b[0m\n",
            "\u001b[0;32m/usr/local/lib/python3.7/dist-packages/sklearn/utils/extmath.py\u001b[0m in \u001b[0;36mrandomized_svd\u001b[0;34m(M, n_components, n_oversamples, n_iter, power_iteration_normalizer, transpose, flip_sign, random_state)\u001b[0m\n\u001b[1;32m    346\u001b[0m \u001b[0;34m\u001b[0m\u001b[0m\n\u001b[1;32m    347\u001b[0m     Q = randomized_range_finder(M, n_random, n_iter,\n\u001b[0;32m--> 348\u001b[0;31m                                 power_iteration_normalizer, random_state)\n\u001b[0m\u001b[1;32m    349\u001b[0m \u001b[0;34m\u001b[0m\u001b[0m\n\u001b[1;32m    350\u001b[0m     \u001b[0;31m# project M to the (k + p) dimensional space using the basis vectors\u001b[0m\u001b[0;34m\u001b[0m\u001b[0;34m\u001b[0m\u001b[0;34m\u001b[0m\u001b[0m\n",
            "\u001b[0;32m/usr/local/lib/python3.7/dist-packages/sklearn/utils/extmath.py\u001b[0m in \u001b[0;36mrandomized_range_finder\u001b[0;34m(A, size, n_iter, power_iteration_normalizer, random_state)\u001b[0m\n\u001b[1;32m    231\u001b[0m         \u001b[0;32melif\u001b[0m \u001b[0mpower_iteration_normalizer\u001b[0m \u001b[0;34m==\u001b[0m \u001b[0;34m'LU'\u001b[0m\u001b[0;34m:\u001b[0m\u001b[0;34m\u001b[0m\u001b[0;34m\u001b[0m\u001b[0m\n\u001b[1;32m    232\u001b[0m             \u001b[0mQ\u001b[0m\u001b[0;34m,\u001b[0m \u001b[0m_\u001b[0m \u001b[0;34m=\u001b[0m \u001b[0mlinalg\u001b[0m\u001b[0;34m.\u001b[0m\u001b[0mlu\u001b[0m\u001b[0;34m(\u001b[0m\u001b[0msafe_sparse_dot\u001b[0m\u001b[0;34m(\u001b[0m\u001b[0mA\u001b[0m\u001b[0;34m,\u001b[0m \u001b[0mQ\u001b[0m\u001b[0;34m)\u001b[0m\u001b[0;34m,\u001b[0m \u001b[0mpermute_l\u001b[0m\u001b[0;34m=\u001b[0m\u001b[0;32mTrue\u001b[0m\u001b[0;34m)\u001b[0m\u001b[0;34m\u001b[0m\u001b[0;34m\u001b[0m\u001b[0m\n\u001b[0;32m--> 233\u001b[0;31m             \u001b[0mQ\u001b[0m\u001b[0;34m,\u001b[0m \u001b[0m_\u001b[0m \u001b[0;34m=\u001b[0m \u001b[0mlinalg\u001b[0m\u001b[0;34m.\u001b[0m\u001b[0mlu\u001b[0m\u001b[0;34m(\u001b[0m\u001b[0msafe_sparse_dot\u001b[0m\u001b[0;34m(\u001b[0m\u001b[0mA\u001b[0m\u001b[0;34m.\u001b[0m\u001b[0mT\u001b[0m\u001b[0;34m,\u001b[0m \u001b[0mQ\u001b[0m\u001b[0;34m)\u001b[0m\u001b[0;34m,\u001b[0m \u001b[0mpermute_l\u001b[0m\u001b[0;34m=\u001b[0m\u001b[0;32mTrue\u001b[0m\u001b[0;34m)\u001b[0m\u001b[0;34m\u001b[0m\u001b[0;34m\u001b[0m\u001b[0m\n\u001b[0m\u001b[1;32m    234\u001b[0m         \u001b[0;32melif\u001b[0m \u001b[0mpower_iteration_normalizer\u001b[0m \u001b[0;34m==\u001b[0m \u001b[0;34m'QR'\u001b[0m\u001b[0;34m:\u001b[0m\u001b[0;34m\u001b[0m\u001b[0;34m\u001b[0m\u001b[0m\n\u001b[1;32m    235\u001b[0m             \u001b[0mQ\u001b[0m\u001b[0;34m,\u001b[0m \u001b[0m_\u001b[0m \u001b[0;34m=\u001b[0m \u001b[0mlinalg\u001b[0m\u001b[0;34m.\u001b[0m\u001b[0mqr\u001b[0m\u001b[0;34m(\u001b[0m\u001b[0msafe_sparse_dot\u001b[0m\u001b[0;34m(\u001b[0m\u001b[0mA\u001b[0m\u001b[0;34m,\u001b[0m \u001b[0mQ\u001b[0m\u001b[0;34m)\u001b[0m\u001b[0;34m,\u001b[0m \u001b[0mmode\u001b[0m\u001b[0;34m=\u001b[0m\u001b[0;34m'economic'\u001b[0m\u001b[0;34m)\u001b[0m\u001b[0;34m\u001b[0m\u001b[0;34m\u001b[0m\u001b[0m\n",
            "\u001b[0;32m/usr/local/lib/python3.7/dist-packages/sklearn/utils/extmath.py\u001b[0m in \u001b[0;36msafe_sparse_dot\u001b[0;34m(a, b, dense_output)\u001b[0m\n\u001b[1;32m    149\u001b[0m             \u001b[0mret\u001b[0m \u001b[0;34m=\u001b[0m \u001b[0mnp\u001b[0m\u001b[0;34m.\u001b[0m\u001b[0mdot\u001b[0m\u001b[0;34m(\u001b[0m\u001b[0ma\u001b[0m\u001b[0;34m,\u001b[0m \u001b[0mb\u001b[0m\u001b[0;34m)\u001b[0m\u001b[0;34m\u001b[0m\u001b[0;34m\u001b[0m\u001b[0m\n\u001b[1;32m    150\u001b[0m     \u001b[0;32melse\u001b[0m\u001b[0;34m:\u001b[0m\u001b[0;34m\u001b[0m\u001b[0;34m\u001b[0m\u001b[0m\n\u001b[0;32m--> 151\u001b[0;31m         \u001b[0mret\u001b[0m \u001b[0;34m=\u001b[0m \u001b[0ma\u001b[0m \u001b[0;34m@\u001b[0m \u001b[0mb\u001b[0m\u001b[0;34m\u001b[0m\u001b[0;34m\u001b[0m\u001b[0m\n\u001b[0m\u001b[1;32m    152\u001b[0m \u001b[0;34m\u001b[0m\u001b[0m\n\u001b[1;32m    153\u001b[0m     if (sparse.issparse(a) and sparse.issparse(b)\n",
            "\u001b[0;31mKeyboardInterrupt\u001b[0m: "
          ]
        }
      ]
    },
    {
      "cell_type": "code",
      "metadata": {
        "id": "LOu9kmS5kG4v"
      },
      "source": [
        "plot_dim_red(\"TSNE\", \n",
        "             features=features_train, \n",
        "             labels=labels_train,\n",
        "             n_components=2)"
      ],
      "execution_count": null,
      "outputs": []
    },
    {
      "cell_type": "markdown",
      "metadata": {
        "id": "cSN7WUuHnwI7"
      },
      "source": [
        "###Training"
      ]
    },
    {
      "cell_type": "code",
      "metadata": {
        "colab": {
          "base_uri": "https://localhost:8080/",
          "height": 131
        },
        "id": "UZUvOKV5tQPe",
        "outputId": "d3cc7e48-52a2-4aef-cc16-92eb8aa5edb6"
      },
      "source": [
        "# Initialize wandb with your project name\n",
        "run = wandb.init(project='TF-IDF',\n",
        "                 group = 'Rating Classification',\n",
        "                 config={  # and include hyperparameters and metadata\n",
        "                     \"learning_rate\": 0.001,\n",
        "                     \"epochs\": 10,\n",
        "                     \"batch_size\": 64,\n",
        "                     \"loss_function\": \"categorical_crossentropy\",\n",
        "                     \"architecture\": \"Dense\"\n",
        "                 })\n",
        "config = wandb.config  # We'll use this to configure our experiment"
      ],
      "execution_count": null,
      "outputs": [
        {
          "output_type": "stream",
          "text": [
            "\u001b[34m\u001b[1mwandb\u001b[0m: Currently logged in as: \u001b[33mlucialarraona\u001b[0m (use `wandb login --relogin` to force relogin)\n"
          ],
          "name": "stderr"
        },
        {
          "output_type": "display_data",
          "data": {
            "text/html": [
              "\n",
              "                Tracking run with wandb version 0.10.24<br/>\n",
              "                Syncing run <strong style=\"color:#cdcd00\">ruby-elevator-2</strong> to <a href=\"https://wandb.ai\" target=\"_blank\">Weights & Biases</a> <a href=\"https://docs.wandb.com/integrations/jupyter.html\" target=\"_blank\">(Documentation)</a>.<br/>\n",
              "                Project page: <a href=\"https://wandb.ai/lucialarraona/TF-IDF\" target=\"_blank\">https://wandb.ai/lucialarraona/TF-IDF</a><br/>\n",
              "                Run page: <a href=\"https://wandb.ai/lucialarraona/TF-IDF/runs/13p86m4j\" target=\"_blank\">https://wandb.ai/lucialarraona/TF-IDF/runs/13p86m4j</a><br/>\n",
              "                Run data is saved locally in <code>/content/wandb/run-20210331_140136-13p86m4j</code><br/><br/>\n",
              "            "
            ],
            "text/plain": [
              "<IPython.core.display.HTML object>"
            ]
          },
          "metadata": {
            "tags": []
          }
        }
      ]
    },
    {
      "cell_type": "code",
      "metadata": {
        "id": "lGAB4yjGcvhp"
      },
      "source": [
        "model = keras.Sequential()\n",
        "model.add(keras.layers.Dense(1000, input_dim=len(features_train[1,:])))\n",
        "#model.add(LSTM(512,return_sequences=True))\n",
        "model.add(keras.layers.Dropout(0.4))\n",
        "model.add(keras.layers.Dense(1000))\n",
        "model.add(keras.layers.Dropout(0.4))\n",
        "model.add(keras.layers.Dense(5, activation='softmax'))\n",
        "\n",
        "from keras.optimizers import Adam\n",
        "\n",
        "model.compile(optimizer=Adam(lr = config.learning_rate),\n",
        "              loss= config.loss_function,\n",
        "              metrics=['accuracy'])"
      ],
      "execution_count": null,
      "outputs": []
    },
    {
      "cell_type": "code",
      "metadata": {
        "colab": {
          "base_uri": "https://localhost:8080/",
          "height": 643
        },
        "id": "GdJqwhuDWusQ",
        "outputId": "a5f34716-4b11-40d4-d32b-5744821cc912"
      },
      "source": [
        "from keras.utils import plot_model\n",
        "plot_model(model, '/content/drive/MyDrive/TFG/model_arq/TFIDF.png', show_shapes=True)"
      ],
      "execution_count": null,
      "outputs": [
        {
          "output_type": "execute_result",
          "data": {
            "image/png": "[encoded data removed]",
            "text/plain": [
              "<IPython.core.display.Image object>"
            ]
          },
          "metadata": {
            "tags": []
          },
          "execution_count": 40
        }
      ]
    },
    {
      "cell_type": "code",
      "metadata": {
        "colab": {
          "base_uri": "https://localhost:8080/"
        },
        "id": "NP3t50oAc3AD",
        "outputId": "1f986cf8-fd6b-4094-9125-20d850b14ec0"
      },
      "source": [
        "model.summary()"
      ],
      "execution_count": null,
      "outputs": [
        {
          "output_type": "stream",
          "text": [
            "Model: \"sequential_4\"\n",
            "_________________________________________________________________\n",
            "Layer (type)                 Output Shape              Param #   \n",
            "=================================================================\n",
            "dense_6 (Dense)              (None, 1000)              3427000   \n",
            "_________________________________________________________________\n",
            "dropout_2 (Dropout)          (None, 1000)              0         \n",
            "_________________________________________________________________\n",
            "dense_7 (Dense)              (None, 1000)              1001000   \n",
            "_________________________________________________________________\n",
            "dropout_3 (Dropout)          (None, 1000)              0         \n",
            "_________________________________________________________________\n",
            "dense_8 (Dense)              (None, 5)                 5005      \n",
            "=================================================================\n",
            "Total params: 4,433,005\n",
            "Trainable params: 4,433,005\n",
            "Non-trainable params: 0\n",
            "_________________________________________________________________\n"
          ],
          "name": "stdout"
        }
      ]
    },
    {
      "cell_type": "code",
      "metadata": {
        "colab": {
          "base_uri": "https://localhost:8080/"
        },
        "id": "utGeDdM9c57x",
        "outputId": "54de7e01-05f8-4b7e-ddad-54496186d7bf"
      },
      "source": [
        "model.fit(features_train,y_train, \n",
        "          epochs=config.epochs, \n",
        "          batch_size=config.batch_size,\n",
        "          validation_data=(features_test,y_test),\n",
        "          callbacks=[WandbCallback()])"
      ],
      "execution_count": null,
      "outputs": [
        {
          "output_type": "stream",
          "text": [
            "Epoch 1/10\n",
            "1133/1133 [==============================] - 59s 52ms/step - loss: 1.2813 - accuracy: 0.4370 - val_loss: 1.1941 - val_accuracy: 0.4757\n",
            "Epoch 2/10\n",
            "1133/1133 [==============================] - 58s 52ms/step - loss: 1.1563 - accuracy: 0.5043 - val_loss: 1.2114 - val_accuracy: 0.4583\n",
            "Epoch 3/10\n",
            "1133/1133 [==============================] - 58s 51ms/step - loss: 1.1327 - accuracy: 0.5187 - val_loss: 1.2072 - val_accuracy: 0.4847\n",
            "Epoch 4/10\n",
            "1133/1133 [==============================] - 58s 51ms/step - loss: 1.1250 - accuracy: 0.5229 - val_loss: 1.2096 - val_accuracy: 0.4699\n",
            "Epoch 5/10\n",
            "1133/1133 [==============================] - 58s 51ms/step - loss: 1.1221 - accuracy: 0.5263 - val_loss: 1.2006 - val_accuracy: 0.4770\n",
            "Epoch 6/10\n",
            "1133/1133 [==============================] - 60s 53ms/step - loss: 1.1249 - accuracy: 0.5241 - val_loss: 1.2237 - val_accuracy: 0.4715\n",
            "Epoch 7/10\n",
            "1133/1133 [==============================] - 61s 54ms/step - loss: 1.1215 - accuracy: 0.5260 - val_loss: 1.2077 - val_accuracy: 0.4741\n",
            "Epoch 8/10\n",
            "1133/1133 [==============================] - 71s 63ms/step - loss: 1.1201 - accuracy: 0.5248 - val_loss: 1.2399 - val_accuracy: 0.4647\n",
            "Epoch 9/10\n",
            "1133/1133 [==============================] - 71s 62ms/step - loss: 1.1230 - accuracy: 0.5236 - val_loss: 1.2341 - val_accuracy: 0.4750\n",
            "Epoch 10/10\n",
            "1133/1133 [==============================] - 71s 63ms/step - loss: 1.1131 - accuracy: 0.5279 - val_loss: 1.2253 - val_accuracy: 0.4593\n"
          ],
          "name": "stdout"
        },
        {
          "output_type": "execute_result",
          "data": {
            "text/plain": [
              "<tensorflow.python.keras.callbacks.History at 0x7f0764553310>"
            ]
          },
          "metadata": {
            "tags": []
          },
          "execution_count": 42
        }
      ]
    },
    {
      "cell_type": "code",
      "metadata": {
        "id": "yMZIfrqctyr3"
      },
      "source": [
        "model.save('/content/drive/MyDrive/TFG/Modelos_entrenados_keras/tfidf_amazon/tfidf_rating_v2.h5')"
      ],
      "execution_count": null,
      "outputs": []
    },
    {
      "cell_type": "markdown",
      "metadata": {
        "id": "yGZphu2mxr9O"
      },
      "source": [
        "###Evaluación"
      ]
    },
    {
      "cell_type": "code",
      "metadata": {
        "id": "gPMxtkBBqbwu"
      },
      "source": [
        "from sklearn.metrics import confusion_matrix\n",
        "from sklearn.metrics import classification_report\n",
        "import seaborn as sns"
      ],
      "execution_count": null,
      "outputs": []
    },
    {
      "cell_type": "code",
      "metadata": {
        "id": "C2pIFroF-kmf"
      },
      "source": [
        "model_tfidf_rating = keras.models.load_model('/content/drive/MyDrive/TFG/Modelos_entrenados_keras/tfidf_amazon/tfidf_rating.h5')"
      ],
      "execution_count": null,
      "outputs": []
    },
    {
      "cell_type": "code",
      "metadata": {
        "colab": {
          "base_uri": "https://localhost:8080/"
        },
        "id": "NCV7QMav-W_T",
        "outputId": "ba65543e-7a9b-4d06-d62a-f4d2177b85b8"
      },
      "source": [
        "loss,acc = model.evaluate(x=X_test, \n",
        "                          y=y_test, \n",
        "                          batch_size=64, \n",
        "                          verbose=1)\n",
        "  "
      ],
      "execution_count": null,
      "outputs": [
        {
          "output_type": "stream",
          "text": [
            "49/49 [==============================] - 1s 13ms/step - loss: 0.0296 - accuracy: 0.9897\n"
          ],
          "name": "stdout"
        }
      ]
    },
    {
      "cell_type": "code",
      "metadata": {
        "id": "I9XQY-wwuz3c"
      },
      "source": [
        "predictions = model.predict(X_test)"
      ],
      "execution_count": null,
      "outputs": []
    },
    {
      "cell_type": "code",
      "metadata": {
        "colab": {
          "base_uri": "https://localhost:8080/"
        },
        "id": "xE1Rf9xxu746",
        "outputId": "14d0430f-7383-45d4-8861-1b91a8962199"
      },
      "source": [
        "predictions.argmax(axis=1)"
      ],
      "execution_count": null,
      "outputs": [
        {
          "output_type": "execute_result",
          "data": {
            "text/plain": [
              "array([2, 4, 1, ..., 0, 0, 2])"
            ]
          },
          "metadata": {
            "tags": []
          },
          "execution_count": 52
        }
      ]
    },
    {
      "cell_type": "code",
      "metadata": {
        "colab": {
          "base_uri": "https://localhost:8080/"
        },
        "id": "6q8Nw3iMvHvI",
        "outputId": "9f475859-4f8c-43ef-80d1-9b0570728b61"
      },
      "source": [
        "y_test"
      ],
      "execution_count": null,
      "outputs": [
        {
          "output_type": "execute_result",
          "data": {
            "text/plain": [
              "array([[0., 0., 0., 0., 1.],\n",
              "       [0., 0., 1., 0., 0.],\n",
              "       [1., 0., 0., 0., 0.],\n",
              "       ...,\n",
              "       [0., 0., 0., 0., 1.],\n",
              "       [0., 1., 0., 0., 0.],\n",
              "       [0., 0., 0., 0., 1.]], dtype=float32)"
            ]
          },
          "metadata": {
            "tags": []
          },
          "execution_count": 53
        }
      ]
    },
    {
      "cell_type": "code",
      "metadata": {
        "colab": {
          "base_uri": "https://localhost:8080/",
          "height": 458
        },
        "id": "TZyMroD-hvZB",
        "outputId": "3dafbffb-5974-4433-c0ff-45d1d39aa9c5"
      },
      "source": [
        "predictions = model.predict(X_test)\n",
        "matrix = confusion_matrix(y_test.argmax(axis=1), predictions.argmax(axis=1))\n",
        "plt.figure(figsize = (10,7))\n",
        "sns.heatmap(matrix/np.sum(matrix), annot=True, \n",
        "              fmt='.2%', cmap='Blues')\n",
        "plt.xlabel(\"Predicted class\")\n",
        "plt.ylabel(\"True class\") "
      ],
      "execution_count": null,
      "outputs": [
        {
          "output_type": "execute_result",
          "data": {
            "text/plain": [
              "Text(69.0, 0.5, 'True class')"
            ]
          },
          "metadata": {
            "tags": []
          },
          "execution_count": 39
        },
        {
          "output_type": "display_data",
          "data": {
            "image/png": "[encoded data removed]",
            "text/plain": [
              "<Figure size 720x504 with 2 Axes>"
            ]
          },
          "metadata": {
            "tags": [],
            "needs_background": "light"
          }
        }
      ]
    },
    {
      "cell_type": "code",
      "metadata": {
        "colab": {
          "base_uri": "https://localhost:8080/"
        },
        "id": "DnZodj1uqYd2",
        "outputId": "ca8582c5-4f65-4d89-c6f4-aba598645247"
      },
      "source": [
        "print(classification_report(y_test.argmax(axis=1), predictions.argmax(axis=1)))"
      ],
      "execution_count": null,
      "outputs": [
        {
          "output_type": "stream",
          "text": [
            "              precision    recall  f1-score   support\n",
            "\n",
            "           0       0.99      0.99      0.99       609\n",
            "           1       1.00      0.99      0.99       659\n",
            "           2       0.98      0.99      0.99       601\n",
            "           3       0.99      0.99      0.99       603\n",
            "           4       0.98      0.99      0.99       633\n",
            "\n",
            "    accuracy                           0.99      3105\n",
            "   macro avg       0.99      0.99      0.99      3105\n",
            "weighted avg       0.99      0.99      0.99      3105\n",
            "\n"
          ],
          "name": "stdout"
        }
      ]
    },
    {
      "cell_type": "code",
      "metadata": {
        "id": "KViwMxzVBHBq"
      },
      "source": [
        ""
      ],
      "execution_count": null,
      "outputs": []
    },
    {
      "cell_type": "markdown",
      "metadata": {
        "id": "Skn0FlT5BHW8"
      },
      "source": [
        "## Category clasification"
      ]
    },
    {
      "cell_type": "code",
      "metadata": {
        "colab": {
          "base_uri": "https://localhost:8080/"
        },
        "id": "tFR3rmiXBHW9",
        "outputId": "858d69c4-54cb-42ef-f126-275cf7bd5ae4"
      },
      "source": [
        "!pip install keras"
      ],
      "execution_count": null,
      "outputs": [
        {
          "output_type": "stream",
          "text": [
            "Requirement already satisfied: keras in /usr/local/lib/python3.7/dist-packages (2.4.3)\n",
            "Requirement already satisfied: scipy>=0.14 in /usr/local/lib/python3.7/dist-packages (from keras) (1.4.1)\n",
            "Requirement already satisfied: numpy>=1.9.1 in /usr/local/lib/python3.7/dist-packages (from keras) (1.19.5)\n",
            "Requirement already satisfied: h5py in /usr/local/lib/python3.7/dist-packages (from keras) (2.10.0)\n",
            "Requirement already satisfied: pyyaml in /usr/local/lib/python3.7/dist-packages (from keras) (3.13)\n",
            "Requirement already satisfied: six in /usr/local/lib/python3.7/dist-packages (from h5py->keras) (1.15.0)\n"
          ],
          "name": "stdout"
        }
      ]
    },
    {
      "cell_type": "code",
      "metadata": {
        "id": "JVQlZ22xBHW-"
      },
      "source": [
        "from sklearn.feature_extraction.text import TfidfVectorizer\n",
        "from sklearn.preprocessing import LabelEncoder\n",
        "import matplotlib.pyplot as plt\n",
        "from tensorflow import keras\n",
        "import pandas as pd\n",
        "import json\n",
        "import numpy as np"
      ],
      "execution_count": null,
      "outputs": []
    },
    {
      "cell_type": "code",
      "metadata": {
        "id": "WjdDLgItBHW-"
      },
      "source": [
        "%%capture \n",
        "!pip install wandb\n",
        "import wandb\n",
        "from wandb.keras import WandbCallback"
      ],
      "execution_count": null,
      "outputs": []
    },
    {
      "cell_type": "code",
      "metadata": {
        "id": "FHMTnLHDBHW_"
      },
      "source": [
        "tfidf = TfidfVectorizer(analyzer=clean_lemma,sublinear_tf=True, min_df=100,ngram_range=(1, 2), stop_words='english')"
      ],
      "execution_count": null,
      "outputs": []
    },
    {
      "cell_type": "code",
      "metadata": {
        "id": "7L1r57vSBHW_"
      },
      "source": [
        "x = tfidf.fit_transform(df['review_body'])\n",
        "#x = tfidf.fit_transform(df['text_title'])\n",
        "#x = tfidf.fit_transform(df['text_title_cat'])"
      ],
      "execution_count": null,
      "outputs": []
    },
    {
      "cell_type": "code",
      "metadata": {
        "id": "zSBabdoBBHXA"
      },
      "source": [
        "x = x.toarray()"
      ],
      "execution_count": null,
      "outputs": []
    },
    {
      "cell_type": "code",
      "metadata": {
        "colab": {
          "base_uri": "https://localhost:8080/"
        },
        "id": "w3DGtyYWBHXA",
        "outputId": "586ffb07-5abe-4065-eac9-199086991e01"
      },
      "source": [
        "x.shape"
      ],
      "execution_count": null,
      "outputs": [
        {
          "output_type": "execute_result",
          "data": {
            "text/plain": [
              "(103500, 2038)"
            ]
          },
          "metadata": {
            "tags": []
          },
          "execution_count": 61
        }
      ]
    },
    {
      "cell_type": "code",
      "metadata": {
        "id": "5XsqGxLyBHXB"
      },
      "source": [
        "lb = LabelEncoder()\n",
        "y = lb.fit_transform(df['product_category_cod'])\n",
        "y = keras.utils.to_categorical(y)"
      ],
      "execution_count": null,
      "outputs": []
    },
    {
      "cell_type": "code",
      "metadata": {
        "colab": {
          "base_uri": "https://localhost:8080/"
        },
        "id": "NL9hBhkDBHXB",
        "outputId": "5a3ccc08-7702-4dd7-85ae-c535a529d7fd"
      },
      "source": [
        "y.shape"
      ],
      "execution_count": null,
      "outputs": [
        {
          "output_type": "execute_result",
          "data": {
            "text/plain": [
              "(103500, 31)"
            ]
          },
          "metadata": {
            "tags": []
          },
          "execution_count": 63
        }
      ]
    },
    {
      "cell_type": "code",
      "metadata": {
        "id": "xm2TUKwMBHXB"
      },
      "source": [
        "from sklearn.model_selection import train_test_split\n",
        "\n",
        "X_train, X_temp, y_train, y_temp = train_test_split(x,y,test_size=0.3)\n",
        "X_val, X_test, y_val, y_test = train_test_split(X_temp,y_temp,test_size=0.1)"
      ],
      "execution_count": null,
      "outputs": []
    },
    {
      "cell_type": "markdown",
      "metadata": {
        "id": "8ezt14EiYKHZ"
      },
      "source": [
        "### Training"
      ]
    },
    {
      "cell_type": "code",
      "metadata": {
        "colab": {
          "base_uri": "https://localhost:8080/",
          "height": 153
        },
        "id": "UxI8jyCFBHXC",
        "outputId": "4454866a-1c9f-48e9-e4e1-35af5b2cb27d"
      },
      "source": [
        "# Initialize wandb with your project name\n",
        "run = wandb.init(project='TFIDF_category_clasif',\n",
        "                 config={  # and include hyperparameters and metadata\n",
        "                     \"learning_rate\": 0.001,\n",
        "                     \"epochs\": 20,\n",
        "                     \"batch_size\": 64,\n",
        "                     \"loss_function\": \"categorical_crossentropy\",\n",
        "                     \"architecture\": \"Dense\"\n",
        "                 })\n",
        "config = wandb.config  # We'll use this to configure our experiment"
      ],
      "execution_count": null,
      "outputs": [
        {
          "output_type": "display_data",
          "data": {
            "application/javascript": [
              "\n",
              "        window._wandbApiKey = new Promise((resolve, reject) => {\n",
              "            function loadScript(url) {\n",
              "            return new Promise(function(resolve, reject) {\n",
              "                let newScript = document.createElement(\"script\");\n",
              "                newScript.onerror = reject;\n",
              "                newScript.onload = resolve;\n",
              "                document.body.appendChild(newScript);\n",
              "                newScript.src = url;\n",
              "            });\n",
              "            }\n",
              "            loadScript(\"https://cdn.jsdelivr.net/npm/postmate/build/postmate.min.js\").then(() => {\n",
              "            const iframe = document.createElement('iframe')\n",
              "            iframe.style.cssText = \"width:0;height:0;border:none\"\n",
              "            document.body.appendChild(iframe)\n",
              "            const handshake = new Postmate({\n",
              "                container: iframe,\n",
              "                url: 'https://wandb.ai/authorize'\n",
              "            });\n",
              "            const timeout = setTimeout(() => reject(\"Couldn't auto authenticate\"), 5000)\n",
              "            handshake.then(function(child) {\n",
              "                child.on('authorize', data => {\n",
              "                    clearTimeout(timeout)\n",
              "                    resolve(data)\n",
              "                });\n",
              "            });\n",
              "            })\n",
              "        });\n",
              "    "
            ],
            "text/plain": [
              "<IPython.core.display.Javascript object>"
            ]
          },
          "metadata": {
            "tags": []
          }
        },
        {
          "output_type": "stream",
          "text": [
            "\u001b[34m\u001b[1mwandb\u001b[0m: Appending key for api.wandb.ai to your netrc file: /root/.netrc\n"
          ],
          "name": "stderr"
        },
        {
          "output_type": "display_data",
          "data": {
            "text/html": [
              "\n",
              "                Tracking run with wandb version 0.10.23<br/>\n",
              "                Syncing run <strong style=\"color:#cdcd00\">iconic-universe-1</strong> to <a href=\"https://wandb.ai\" target=\"_blank\">Weights & Biases</a> <a href=\"https://docs.wandb.com/integrations/jupyter.html\" target=\"_blank\">(Documentation)</a>.<br/>\n",
              "                Project page: <a href=\"https://wandb.ai/lucialarraona/TFIDF_category_clasif\" target=\"_blank\">https://wandb.ai/lucialarraona/TFIDF_category_clasif</a><br/>\n",
              "                Run page: <a href=\"https://wandb.ai/lucialarraona/TFIDF_category_clasif/runs/2gn0c8e7\" target=\"_blank\">https://wandb.ai/lucialarraona/TFIDF_category_clasif/runs/2gn0c8e7</a><br/>\n",
              "                Run data is saved locally in <code>/content/wandb/run-20210322_222038-2gn0c8e7</code><br/><br/>\n",
              "            "
            ],
            "text/plain": [
              "<IPython.core.display.HTML object>"
            ]
          },
          "metadata": {
            "tags": []
          }
        }
      ]
    },
    {
      "cell_type": "code",
      "metadata": {
        "id": "oigjuLHeBHXC"
      },
      "source": [
        "model = keras.Sequential()\n",
        "model.add(keras.layers.Dense(1000, activation='relu', input_dim=len(x[1,:])))\n",
        "model.add(keras.layers.Dropout(0.4))\n",
        "model.add(keras.layers.Dense(1000, activation='relu'))\n",
        "model.add(keras.layers.Dropout(0.4))\n",
        "model.add(keras.layers.Dense(31, activation='softmax'))\n",
        "model.compile(optimizer='adam',\n",
        "              loss= config.loss_function,\n",
        "              metrics=['accuracy'])"
      ],
      "execution_count": null,
      "outputs": []
    },
    {
      "cell_type": "code",
      "metadata": {
        "colab": {
          "base_uri": "https://localhost:8080/"
        },
        "id": "_dq16Xo3BHXD",
        "outputId": "cd709d5a-c46b-4342-f462-ee9feb77c17f"
      },
      "source": [
        "model.summary()"
      ],
      "execution_count": null,
      "outputs": [
        {
          "output_type": "stream",
          "text": [
            "Model: \"sequential_1\"\n",
            "_________________________________________________________________\n",
            "Layer (type)                 Output Shape              Param #   \n",
            "=================================================================\n",
            "dense_3 (Dense)              (None, 1000)              2039000   \n",
            "_________________________________________________________________\n",
            "dropout_2 (Dropout)          (None, 1000)              0         \n",
            "_________________________________________________________________\n",
            "dense_4 (Dense)              (None, 1000)              1001000   \n",
            "_________________________________________________________________\n",
            "dropout_3 (Dropout)          (None, 1000)              0         \n",
            "_________________________________________________________________\n",
            "dense_5 (Dense)              (None, 31)                31031     \n",
            "=================================================================\n",
            "Total params: 3,071,031\n",
            "Trainable params: 3,071,031\n",
            "Non-trainable params: 0\n",
            "_________________________________________________________________\n"
          ],
          "name": "stdout"
        }
      ]
    },
    {
      "cell_type": "code",
      "metadata": {
        "colab": {
          "base_uri": "https://localhost:8080/"
        },
        "id": "2EZ_bnsDBHXD",
        "outputId": "431cbbc7-241e-44f6-b6cb-800c80396bd2"
      },
      "source": [
        "model.fit(x,y, epochs=config.epochs, batch_size=config.batch_size,validation_data=(X_test,y_test),callbacks=[WandbCallback()])"
      ],
      "execution_count": null,
      "outputs": [
        {
          "output_type": "stream",
          "text": [
            "Epoch 1/20\n",
            "1618/1618 [==============================] - 58s 35ms/step - loss: 2.4662 - accuracy: 0.3097 - val_loss: 1.8359 - val_accuracy: 0.4689\n",
            "Epoch 2/20\n",
            "1618/1618 [==============================] - 58s 36ms/step - loss: 1.8700 - accuracy: 0.4612 - val_loss: 1.6024 - val_accuracy: 0.5420\n",
            "Epoch 3/20\n",
            "1618/1618 [==============================] - 58s 36ms/step - loss: 1.6526 - accuracy: 0.5129 - val_loss: 1.3330 - val_accuracy: 0.6261\n",
            "Epoch 4/20\n",
            "1618/1618 [==============================] - 58s 36ms/step - loss: 1.4019 - accuracy: 0.5809 - val_loss: 0.9993 - val_accuracy: 0.7324\n",
            "Epoch 5/20\n",
            "1618/1618 [==============================] - 58s 36ms/step - loss: 1.1410 - accuracy: 0.6582 - val_loss: 0.7137 - val_accuracy: 0.8222\n",
            "Epoch 6/20\n",
            "1618/1618 [==============================] - 58s 36ms/step - loss: 0.9184 - accuracy: 0.7218 - val_loss: 0.5193 - val_accuracy: 0.8767\n",
            "Epoch 7/20\n",
            "1618/1618 [==============================] - 58s 36ms/step - loss: 0.7569 - accuracy: 0.7675 - val_loss: 0.3958 - val_accuracy: 0.9040\n",
            "Epoch 8/20\n",
            "1618/1618 [==============================] - 58s 36ms/step - loss: 0.6476 - accuracy: 0.7985 - val_loss: 0.3168 - val_accuracy: 0.9224\n",
            "Epoch 9/20\n",
            "1618/1618 [==============================] - 58s 36ms/step - loss: 0.5778 - accuracy: 0.8191 - val_loss: 0.2747 - val_accuracy: 0.9417\n",
            "Epoch 10/20\n",
            "1618/1618 [==============================] - 57s 36ms/step - loss: 0.5204 - accuracy: 0.8368 - val_loss: 0.2370 - val_accuracy: 0.9510\n",
            "Epoch 11/20\n",
            "1618/1618 [==============================] - 58s 36ms/step - loss: 0.4804 - accuracy: 0.8486 - val_loss: 0.2133 - val_accuracy: 0.9536\n",
            "Epoch 12/20\n",
            "1618/1618 [==============================] - 58s 36ms/step - loss: 0.4456 - accuracy: 0.8595 - val_loss: 0.1801 - val_accuracy: 0.9607\n",
            "Epoch 13/20\n",
            "1618/1618 [==============================] - 58s 36ms/step - loss: 0.4251 - accuracy: 0.8664 - val_loss: 0.1780 - val_accuracy: 0.9578\n",
            "Epoch 14/20\n",
            "1618/1618 [==============================] - 58s 36ms/step - loss: 0.3942 - accuracy: 0.8750 - val_loss: 0.1628 - val_accuracy: 0.9591\n",
            "Epoch 15/20\n",
            "1618/1618 [==============================] - 58s 36ms/step - loss: 0.3783 - accuracy: 0.8787 - val_loss: 0.1507 - val_accuracy: 0.9671\n",
            "Epoch 16/20\n",
            "1618/1618 [==============================] - 58s 36ms/step - loss: 0.3686 - accuracy: 0.8824 - val_loss: 0.1361 - val_accuracy: 0.9684\n",
            "Epoch 17/20\n",
            "1618/1618 [==============================] - 58s 36ms/step - loss: 0.3503 - accuracy: 0.8892 - val_loss: 0.1261 - val_accuracy: 0.9720\n",
            "Epoch 18/20\n",
            "1618/1618 [==============================] - 58s 36ms/step - loss: 0.3321 - accuracy: 0.8935 - val_loss: 0.1222 - val_accuracy: 0.9726\n",
            "Epoch 19/20\n",
            "1618/1618 [==============================] - 58s 36ms/step - loss: 0.3257 - accuracy: 0.8954 - val_loss: 0.1171 - val_accuracy: 0.9768\n",
            "Epoch 20/20\n",
            "1618/1618 [==============================] - 58s 36ms/step - loss: 0.3158 - accuracy: 0.8993 - val_loss: 0.1191 - val_accuracy: 0.9726\n"
          ],
          "name": "stdout"
        },
        {
          "output_type": "execute_result",
          "data": {
            "text/plain": [
              "<tensorflow.python.keras.callbacks.History at 0x7f9acc17e790>"
            ]
          },
          "metadata": {
            "tags": []
          },
          "execution_count": 69
        }
      ]
    },
    {
      "cell_type": "code",
      "metadata": {
        "id": "6fG_m6ouBHXE"
      },
      "source": [
        "model.save('/content/drive/MyDrive/TFG/Modelos_entrenados_keras/tfidf_amazon/tfidf_category.h5')"
      ],
      "execution_count": null,
      "outputs": []
    },
    {
      "cell_type": "code",
      "metadata": {
        "id": "qDpsPS90DYfX"
      },
      "source": [
        ""
      ],
      "execution_count": null,
      "outputs": []
    },
    {
      "cell_type": "markdown",
      "metadata": {
        "id": "YE22n6wuDZNg"
      },
      "source": [
        "###Evaluación"
      ]
    },
    {
      "cell_type": "code",
      "metadata": {
        "id": "csNpa4f2DZNh"
      },
      "source": [
        "from sklearn.metrics import confusion_matrix\n",
        "from sklearn.metrics import classification_report\n",
        "import seaborn as sns"
      ],
      "execution_count": null,
      "outputs": []
    },
    {
      "cell_type": "code",
      "metadata": {
        "id": "ngrO6ju4DZNh"
      },
      "source": [
        "model_tfidf_rating= keras.models.load_model('/content/drive/MyDrive/TFG/Modelos_entrenados_keras/tfidf_amazon/tfidf_rating.h5')\n",
        "model_tfidf_cat = keras.models.load_model('/content/drive/MyDrive/TFG/Modelos_entrenados_keras/tfidf_amazon/tfidf_category.h5')"
      ],
      "execution_count": null,
      "outputs": []
    },
    {
      "cell_type": "code",
      "metadata": {
        "colab": {
          "base_uri": "https://localhost:8080/"
        },
        "id": "rVWSNyZwDZNi",
        "outputId": "e319eadb-9706-4229-bf66-47e3ae2c2aeb"
      },
      "source": [
        "loss,acc = model_tfidf.evaluate(x=X_test, \n",
        "                          y=y_test, \n",
        "                          batch_size=64, \n",
        "                          verbose=1)\n",
        "  "
      ],
      "execution_count": null,
      "outputs": [
        {
          "output_type": "stream",
          "text": [
            "49/49 [==============================] - 1s 11ms/step - loss: 0.1191 - accuracy: 0.9726\n"
          ],
          "name": "stdout"
        }
      ]
    },
    {
      "cell_type": "code",
      "metadata": {
        "id": "XpaDwRSSDZNj"
      },
      "source": [
        "predictions = model_tfidf.predict(X_test)"
      ],
      "execution_count": null,
      "outputs": []
    },
    {
      "cell_type": "code",
      "metadata": {
        "colab": {
          "base_uri": "https://localhost:8080/"
        },
        "id": "XTgw_V6TDZNj",
        "outputId": "20847911-64c6-4ad4-f68d-7d393d263cac"
      },
      "source": [
        "predictions.argmax(axis=1)"
      ],
      "execution_count": null,
      "outputs": [
        {
          "output_type": "execute_result",
          "data": {
            "text/plain": [
              "array([24, 21, 27, ...,  0, 13, 12])"
            ]
          },
          "metadata": {
            "tags": []
          },
          "execution_count": 75
        }
      ]
    },
    {
      "cell_type": "code",
      "metadata": {
        "colab": {
          "base_uri": "https://localhost:8080/"
        },
        "id": "9kLUlp1gDZNj",
        "outputId": "c4f70dfa-47dd-452b-8b4a-80382edea3f7"
      },
      "source": [
        "y_test"
      ],
      "execution_count": null,
      "outputs": [
        {
          "output_type": "execute_result",
          "data": {
            "text/plain": [
              "array([[0., 0., 0., ..., 0., 0., 0.],\n",
              "       [0., 0., 0., ..., 0., 0., 0.],\n",
              "       [0., 0., 0., ..., 0., 0., 0.],\n",
              "       ...,\n",
              "       [1., 0., 0., ..., 0., 0., 0.],\n",
              "       [0., 0., 0., ..., 0., 0., 0.],\n",
              "       [0., 0., 0., ..., 0., 0., 0.]], dtype=float32)"
            ]
          },
          "metadata": {
            "tags": []
          },
          "execution_count": 76
        }
      ]
    },
    {
      "cell_type": "code",
      "metadata": {
        "colab": {
          "base_uri": "https://localhost:8080/",
          "height": 813
        },
        "id": "WMqVMLZ2DZNk",
        "outputId": "ea56b804-7f6a-4744-8499-7723329f414b"
      },
      "source": [
        "predictions = model_tfidf.predict(X_test)\n",
        "matrix = confusion_matrix(y_test.argmax(axis=1), predictions.argmax(axis=1))\n",
        "plt.figure(figsize = (30,20))\n",
        "sns.heatmap(matrix/np.sum(matrix), annot=True, \n",
        "              fmt='.2%', cmap='Purples')\n",
        "plt.xlabel(\"Predicted class\")\n",
        "plt.ylabel(\"True class\") "
      ],
      "execution_count": null,
      "outputs": [
        {
          "output_type": "execute_result",
          "data": {
            "text/plain": [
              "Text(249.0, 0.5, 'True class')"
            ]
          },
          "metadata": {
            "tags": []
          },
          "execution_count": 77
        },
        {
          "output_type": "display_data",
          "data": {
            "image/png": "[encoded data removed]",
            "text/plain": [
              "<Figure size 2160x1440 with 2 Axes>"
            ]
          },
          "metadata": {
            "tags": [],
            "needs_background": "light"
          }
        }
      ]
    },
    {
      "cell_type": "code",
      "metadata": {
        "colab": {
          "base_uri": "https://localhost:8080/"
        },
        "id": "XUaSLhYeDZNk",
        "outputId": "f91e4dc4-2099-4972-8eee-68dcd7fff71f"
      },
      "source": [
        "print(classification_report(y_test.argmax(axis=1), predictions.argmax(axis=1)))"
      ],
      "execution_count": null,
      "outputs": [
        {
          "output_type": "stream",
          "text": [
            "              precision    recall  f1-score   support\n",
            "\n",
            "           0       0.93      0.99      0.96       233\n",
            "           1       0.97      0.99      0.98       139\n",
            "           2       0.98      0.94      0.96        53\n",
            "           3       0.95      0.97      0.96       179\n",
            "           4       1.00      0.93      0.96        43\n",
            "           5       0.97      1.00      0.99        39\n",
            "           6       1.00      1.00      1.00       106\n",
            "           7       1.00      1.00      1.00        23\n",
            "           8       0.99      0.97      0.98       207\n",
            "           9       0.98      1.00      0.99        90\n",
            "          10       0.97      1.00      0.99        38\n",
            "          11       0.99      0.99      0.99        74\n",
            "          12       0.97      0.96      0.97       276\n",
            "          13       1.00      0.98      0.99       102\n",
            "          14       1.00      1.00      1.00        34\n",
            "          15       0.90      0.95      0.92        38\n",
            "          16       0.97      0.93      0.95       162\n",
            "          17       0.98      0.99      0.99       138\n",
            "          18       1.00      0.96      0.98        23\n",
            "          19       1.00      0.88      0.93        16\n",
            "          20       1.00      0.97      0.98        91\n",
            "          21       0.98      0.98      0.98       205\n",
            "          22       0.99      0.98      0.99       103\n",
            "          23       1.00      1.00      1.00         3\n",
            "          24       0.99      0.98      0.98        90\n",
            "          25       0.97      0.97      0.97        88\n",
            "          26       0.98      0.93      0.95       125\n",
            "          27       0.99      0.98      0.98       139\n",
            "          28       1.00      1.00      1.00        10\n",
            "          29       1.00      1.00      1.00         9\n",
            "          30       0.94      0.97      0.96       229\n",
            "\n",
            "    accuracy                           0.97      3105\n",
            "   macro avg       0.98      0.97      0.98      3105\n",
            "weighted avg       0.97      0.97      0.97      3105\n",
            "\n"
          ],
          "name": "stdout"
        }
      ]
    }
  ]
}