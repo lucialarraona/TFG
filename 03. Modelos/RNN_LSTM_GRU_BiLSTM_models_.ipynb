{
  "nbformat": 4,
  "nbformat_minor": 0,
  "metadata": {
    "accelerator": "GPU",
    "colab": {
      "name": "RNN-LSTM-GRU-BiLSTM models .ipynb",
      "provenance": [],
      "collapsed_sections": [
        "ZJXgq2A8OVQC",
        "DU5zyFtWuZU6",
        "eyYH7ZaXuc5Z",
        "YtE4Bdlc1yjL",
        "Qp9G6Fqg2CpP",
        "jiG6z-R0SpBZ",
        "TN75flQWk7e8"
      ],
      "toc_visible": true
    },
    "kernelspec": {
      "display_name": "Python 3",
      "name": "python3"
    },
    "language_info": {
      "name": "python"
    },
    "widgets": {
      "application/vnd.jupyter.widget-state+json": {
        "fec5d6a2dab240d9b712c62a3524a973": {
          "model_module": "@jupyter-widgets/controls",
          "model_name": "VBoxModel",
          "state": {
            "_view_name": "VBoxView",
            "_dom_classes": [],
            "_model_name": "VBoxModel",
            "_view_module": "@jupyter-widgets/controls",
            "_model_module_version": "1.5.0",
            "_view_count": null,
            "_view_module_version": "1.5.0",
            "box_style": "",
            "layout": "IPY_MODEL_ff91f2ef18d649fc9a5e0180f8380513",
            "_model_module": "@jupyter-widgets/controls",
            "children": [
              "IPY_MODEL_3e8ee2147ed94b419637e2f89ce7155a",
              "IPY_MODEL_75b77ba72ba945ab9d32af82afb388d2"
            ]
          }
        },
        "ff91f2ef18d649fc9a5e0180f8380513": {
          "model_module": "@jupyter-widgets/base",
          "model_name": "LayoutModel",
          "state": {
            "_view_name": "LayoutView",
            "grid_template_rows": null,
            "right": null,
            "justify_content": null,
            "_view_module": "@jupyter-widgets/base",
            "overflow": null,
            "_model_module_version": "1.2.0",
            "_view_count": null,
            "flex_flow": null,
            "width": null,
            "min_width": null,
            "border": null,
            "align_items": null,
            "bottom": null,
            "_model_module": "@jupyter-widgets/base",
            "top": null,
            "grid_column": null,
            "overflow_y": null,
            "overflow_x": null,
            "grid_auto_flow": null,
            "grid_area": null,
            "grid_template_columns": null,
            "flex": null,
            "_model_name": "LayoutModel",
            "justify_items": null,
            "grid_row": null,
            "max_height": null,
            "align_content": null,
            "visibility": null,
            "align_self": null,
            "height": null,
            "min_height": null,
            "padding": null,
            "grid_auto_rows": null,
            "grid_gap": null,
            "max_width": null,
            "order": null,
            "_view_module_version": "1.2.0",
            "grid_template_areas": null,
            "object_position": null,
            "object_fit": null,
            "grid_auto_columns": null,
            "margin": null,
            "display": null,
            "left": null
          }
        },
        "3e8ee2147ed94b419637e2f89ce7155a": {
          "model_module": "@jupyter-widgets/controls",
          "model_name": "LabelModel",
          "state": {
            "_view_name": "LabelView",
            "style": "IPY_MODEL_e5e98e5a311547798cff60fb61fcf3e5",
            "_dom_classes": [],
            "description": "",
            "_model_name": "LabelModel",
            "placeholder": "​",
            "_view_module": "@jupyter-widgets/controls",
            "_model_module_version": "1.5.0",
            "value": " 0.80MB of 0.80MB uploaded (0.00MB deduped)\r",
            "_view_count": null,
            "_view_module_version": "1.5.0",
            "description_tooltip": null,
            "_model_module": "@jupyter-widgets/controls",
            "layout": "IPY_MODEL_810e02dcf303459f9b9585b9c1076771"
          }
        },
        "75b77ba72ba945ab9d32af82afb388d2": {
          "model_module": "@jupyter-widgets/controls",
          "model_name": "FloatProgressModel",
          "state": {
            "_view_name": "ProgressView",
            "style": "IPY_MODEL_957449ccd68641bc90988de8d5a48b51",
            "_dom_classes": [],
            "description": "",
            "_model_name": "FloatProgressModel",
            "bar_style": "",
            "max": 1,
            "_view_module": "@jupyter-widgets/controls",
            "_model_module_version": "1.5.0",
            "value": 1,
            "_view_count": null,
            "_view_module_version": "1.5.0",
            "orientation": "horizontal",
            "min": 0,
            "description_tooltip": null,
            "_model_module": "@jupyter-widgets/controls",
            "layout": "IPY_MODEL_dc7fed55fe8f40a7994c232057b74746"
          }
        },
        "e5e98e5a311547798cff60fb61fcf3e5": {
          "model_module": "@jupyter-widgets/controls",
          "model_name": "DescriptionStyleModel",
          "state": {
            "_view_name": "StyleView",
            "_model_name": "DescriptionStyleModel",
            "description_width": "",
            "_view_module": "@jupyter-widgets/base",
            "_model_module_version": "1.5.0",
            "_view_count": null,
            "_view_module_version": "1.2.0",
            "_model_module": "@jupyter-widgets/controls"
          }
        },
        "810e02dcf303459f9b9585b9c1076771": {
          "model_module": "@jupyter-widgets/base",
          "model_name": "LayoutModel",
          "state": {
            "_view_name": "LayoutView",
            "grid_template_rows": null,
            "right": null,
            "justify_content": null,
            "_view_module": "@jupyter-widgets/base",
            "overflow": null,
            "_model_module_version": "1.2.0",
            "_view_count": null,
            "flex_flow": null,
            "width": null,
            "min_width": null,
            "border": null,
            "align_items": null,
            "bottom": null,
            "_model_module": "@jupyter-widgets/base",
            "top": null,
            "grid_column": null,
            "overflow_y": null,
            "overflow_x": null,
            "grid_auto_flow": null,
            "grid_area": null,
            "grid_template_columns": null,
            "flex": null,
            "_model_name": "LayoutModel",
            "justify_items": null,
            "grid_row": null,
            "max_height": null,
            "align_content": null,
            "visibility": null,
            "align_self": null,
            "height": null,
            "min_height": null,
            "padding": null,
            "grid_auto_rows": null,
            "grid_gap": null,
            "max_width": null,
            "order": null,
            "_view_module_version": "1.2.0",
            "grid_template_areas": null,
            "object_position": null,
            "object_fit": null,
            "grid_auto_columns": null,
            "margin": null,
            "display": null,
            "left": null
          }
        },
        "957449ccd68641bc90988de8d5a48b51": {
          "model_module": "@jupyter-widgets/controls",
          "model_name": "ProgressStyleModel",
          "state": {
            "_view_name": "StyleView",
            "_model_name": "ProgressStyleModel",
            "description_width": "",
            "_view_module": "@jupyter-widgets/base",
            "_model_module_version": "1.5.0",
            "_view_count": null,
            "_view_module_version": "1.2.0",
            "bar_color": null,
            "_model_module": "@jupyter-widgets/controls"
          }
        },
        "dc7fed55fe8f40a7994c232057b74746": {
          "model_module": "@jupyter-widgets/base",
          "model_name": "LayoutModel",
          "state": {
            "_view_name": "LayoutView",
            "grid_template_rows": null,
            "right": null,
            "justify_content": null,
            "_view_module": "@jupyter-widgets/base",
            "overflow": null,
            "_model_module_version": "1.2.0",
            "_view_count": null,
            "flex_flow": null,
            "width": null,
            "min_width": null,
            "border": null,
            "align_items": null,
            "bottom": null,
            "_model_module": "@jupyter-widgets/base",
            "top": null,
            "grid_column": null,
            "overflow_y": null,
            "overflow_x": null,
            "grid_auto_flow": null,
            "grid_area": null,
            "grid_template_columns": null,
            "flex": null,
            "_model_name": "LayoutModel",
            "justify_items": null,
            "grid_row": null,
            "max_height": null,
            "align_content": null,
            "visibility": null,
            "align_self": null,
            "height": null,
            "min_height": null,
            "padding": null,
            "grid_auto_rows": null,
            "grid_gap": null,
            "max_width": null,
            "order": null,
            "_view_module_version": "1.2.0",
            "grid_template_areas": null,
            "object_position": null,
            "object_fit": null,
            "grid_auto_columns": null,
            "margin": null,
            "display": null,
            "left": null
          }
        },
        "5f5d24376c614bcb8abfada8a316b170": {
          "model_module": "@jupyter-widgets/controls",
          "model_name": "VBoxModel",
          "state": {
            "_view_name": "VBoxView",
            "_dom_classes": [],
            "_model_name": "VBoxModel",
            "_view_module": "@jupyter-widgets/controls",
            "_model_module_version": "1.5.0",
            "_view_count": null,
            "_view_module_version": "1.5.0",
            "box_style": "",
            "layout": "IPY_MODEL_500c658870f24645981d95af96c9e887",
            "_model_module": "@jupyter-widgets/controls",
            "children": [
              "IPY_MODEL_8a2a9460219e4b1ca1ad9a003fdf9af3",
              "IPY_MODEL_cc9285db193746b6a9ae2e46837826b9"
            ]
          }
        },
        "500c658870f24645981d95af96c9e887": {
          "model_module": "@jupyter-widgets/base",
          "model_name": "LayoutModel",
          "state": {
            "_view_name": "LayoutView",
            "grid_template_rows": null,
            "right": null,
            "justify_content": null,
            "_view_module": "@jupyter-widgets/base",
            "overflow": null,
            "_model_module_version": "1.2.0",
            "_view_count": null,
            "flex_flow": null,
            "width": null,
            "min_width": null,
            "border": null,
            "align_items": null,
            "bottom": null,
            "_model_module": "@jupyter-widgets/base",
            "top": null,
            "grid_column": null,
            "overflow_y": null,
            "overflow_x": null,
            "grid_auto_flow": null,
            "grid_area": null,
            "grid_template_columns": null,
            "flex": null,
            "_model_name": "LayoutModel",
            "justify_items": null,
            "grid_row": null,
            "max_height": null,
            "align_content": null,
            "visibility": null,
            "align_self": null,
            "height": null,
            "min_height": null,
            "padding": null,
            "grid_auto_rows": null,
            "grid_gap": null,
            "max_width": null,
            "order": null,
            "_view_module_version": "1.2.0",
            "grid_template_areas": null,
            "object_position": null,
            "object_fit": null,
            "grid_auto_columns": null,
            "margin": null,
            "display": null,
            "left": null
          }
        },
        "8a2a9460219e4b1ca1ad9a003fdf9af3": {
          "model_module": "@jupyter-widgets/controls",
          "model_name": "LabelModel",
          "state": {
            "_view_name": "LabelView",
            "style": "IPY_MODEL_e7e6f0cabb934be4a107a9a26f5cf782",
            "_dom_classes": [],
            "description": "",
            "_model_name": "LabelModel",
            "placeholder": "​",
            "_view_module": "@jupyter-widgets/controls",
            "_model_module_version": "1.5.0",
            "value": " 20.92MB of 20.92MB uploaded (0.00MB deduped)\r",
            "_view_count": null,
            "_view_module_version": "1.5.0",
            "description_tooltip": null,
            "_model_module": "@jupyter-widgets/controls",
            "layout": "IPY_MODEL_099dfdeb86d44ab6adfbe1c95c882d1f"
          }
        },
        "cc9285db193746b6a9ae2e46837826b9": {
          "model_module": "@jupyter-widgets/controls",
          "model_name": "FloatProgressModel",
          "state": {
            "_view_name": "ProgressView",
            "style": "IPY_MODEL_aee14b1da8b74c479081a712b34748b2",
            "_dom_classes": [],
            "description": "",
            "_model_name": "FloatProgressModel",
            "bar_style": "",
            "max": 1,
            "_view_module": "@jupyter-widgets/controls",
            "_model_module_version": "1.5.0",
            "value": 1,
            "_view_count": null,
            "_view_module_version": "1.5.0",
            "orientation": "horizontal",
            "min": 0,
            "description_tooltip": null,
            "_model_module": "@jupyter-widgets/controls",
            "layout": "IPY_MODEL_b4d8f3ab88f04cfb9ff4fb4494b1abc0"
          }
        },
        "e7e6f0cabb934be4a107a9a26f5cf782": {
          "model_module": "@jupyter-widgets/controls",
          "model_name": "DescriptionStyleModel",
          "state": {
            "_view_name": "StyleView",
            "_model_name": "DescriptionStyleModel",
            "description_width": "",
            "_view_module": "@jupyter-widgets/base",
            "_model_module_version": "1.5.0",
            "_view_count": null,
            "_view_module_version": "1.2.0",
            "_model_module": "@jupyter-widgets/controls"
          }
        },
        "099dfdeb86d44ab6adfbe1c95c882d1f": {
          "model_module": "@jupyter-widgets/base",
          "model_name": "LayoutModel",
          "state": {
            "_view_name": "LayoutView",
            "grid_template_rows": null,
            "right": null,
            "justify_content": null,
            "_view_module": "@jupyter-widgets/base",
            "overflow": null,
            "_model_module_version": "1.2.0",
            "_view_count": null,
            "flex_flow": null,
            "width": null,
            "min_width": null,
            "border": null,
            "align_items": null,
            "bottom": null,
            "_model_module": "@jupyter-widgets/base",
            "top": null,
            "grid_column": null,
            "overflow_y": null,
            "overflow_x": null,
            "grid_auto_flow": null,
            "grid_area": null,
            "grid_template_columns": null,
            "flex": null,
            "_model_name": "LayoutModel",
            "justify_items": null,
            "grid_row": null,
            "max_height": null,
            "align_content": null,
            "visibility": null,
            "align_self": null,
            "height": null,
            "min_height": null,
            "padding": null,
            "grid_auto_rows": null,
            "grid_gap": null,
            "max_width": null,
            "order": null,
            "_view_module_version": "1.2.0",
            "grid_template_areas": null,
            "object_position": null,
            "object_fit": null,
            "grid_auto_columns": null,
            "margin": null,
            "display": null,
            "left": null
          }
        },
        "aee14b1da8b74c479081a712b34748b2": {
          "model_module": "@jupyter-widgets/controls",
          "model_name": "ProgressStyleModel",
          "state": {
            "_view_name": "StyleView",
            "_model_name": "ProgressStyleModel",
            "description_width": "",
            "_view_module": "@jupyter-widgets/base",
            "_model_module_version": "1.5.0",
            "_view_count": null,
            "_view_module_version": "1.2.0",
            "bar_color": null,
            "_model_module": "@jupyter-widgets/controls"
          }
        },
        "b4d8f3ab88f04cfb9ff4fb4494b1abc0": {
          "model_module": "@jupyter-widgets/base",
          "model_name": "LayoutModel",
          "state": {
            "_view_name": "LayoutView",
            "grid_template_rows": null,
            "right": null,
            "justify_content": null,
            "_view_module": "@jupyter-widgets/base",
            "overflow": null,
            "_model_module_version": "1.2.0",
            "_view_count": null,
            "flex_flow": null,
            "width": null,
            "min_width": null,
            "border": null,
            "align_items": null,
            "bottom": null,
            "_model_module": "@jupyter-widgets/base",
            "top": null,
            "grid_column": null,
            "overflow_y": null,
            "overflow_x": null,
            "grid_auto_flow": null,
            "grid_area": null,
            "grid_template_columns": null,
            "flex": null,
            "_model_name": "LayoutModel",
            "justify_items": null,
            "grid_row": null,
            "max_height": null,
            "align_content": null,
            "visibility": null,
            "align_self": null,
            "height": null,
            "min_height": null,
            "padding": null,
            "grid_auto_rows": null,
            "grid_gap": null,
            "max_width": null,
            "order": null,
            "_view_module_version": "1.2.0",
            "grid_template_areas": null,
            "object_position": null,
            "object_fit": null,
            "grid_auto_columns": null,
            "margin": null,
            "display": null,
            "left": null
          }
        },
        "5add6502df8743a2a8670980b584872f": {
          "model_module": "@jupyter-widgets/controls",
          "model_name": "VBoxModel",
          "state": {
            "_view_name": "VBoxView",
            "_dom_classes": [],
            "_model_name": "VBoxModel",
            "_view_module": "@jupyter-widgets/controls",
            "_model_module_version": "1.5.0",
            "_view_count": null,
            "_view_module_version": "1.5.0",
            "box_style": "",
            "layout": "IPY_MODEL_65cabe6414ba4978a14cbed28c96ff8c",
            "_model_module": "@jupyter-widgets/controls",
            "children": [
              "IPY_MODEL_b991e209143841b7a93d793b18cc842a",
              "IPY_MODEL_140b66fb538848d78bd77995bfa6b563"
            ]
          }
        },
        "65cabe6414ba4978a14cbed28c96ff8c": {
          "model_module": "@jupyter-widgets/base",
          "model_name": "LayoutModel",
          "state": {
            "_view_name": "LayoutView",
            "grid_template_rows": null,
            "right": null,
            "justify_content": null,
            "_view_module": "@jupyter-widgets/base",
            "overflow": null,
            "_model_module_version": "1.2.0",
            "_view_count": null,
            "flex_flow": null,
            "width": null,
            "min_width": null,
            "border": null,
            "align_items": null,
            "bottom": null,
            "_model_module": "@jupyter-widgets/base",
            "top": null,
            "grid_column": null,
            "overflow_y": null,
            "overflow_x": null,
            "grid_auto_flow": null,
            "grid_area": null,
            "grid_template_columns": null,
            "flex": null,
            "_model_name": "LayoutModel",
            "justify_items": null,
            "grid_row": null,
            "max_height": null,
            "align_content": null,
            "visibility": null,
            "align_self": null,
            "height": null,
            "min_height": null,
            "padding": null,
            "grid_auto_rows": null,
            "grid_gap": null,
            "max_width": null,
            "order": null,
            "_view_module_version": "1.2.0",
            "grid_template_areas": null,
            "object_position": null,
            "object_fit": null,
            "grid_auto_columns": null,
            "margin": null,
            "display": null,
            "left": null
          }
        },
        "b991e209143841b7a93d793b18cc842a": {
          "model_module": "@jupyter-widgets/controls",
          "model_name": "LabelModel",
          "state": {
            "_view_name": "LabelView",
            "style": "IPY_MODEL_86a14c36ed5f49e0b38c49601e77d01e",
            "_dom_classes": [],
            "description": "",
            "_model_name": "LabelModel",
            "placeholder": "​",
            "_view_module": "@jupyter-widgets/controls",
            "_model_module_version": "1.5.0",
            "value": " 24.02MB of 24.02MB uploaded (0.00MB deduped)\r",
            "_view_count": null,
            "_view_module_version": "1.5.0",
            "description_tooltip": null,
            "_model_module": "@jupyter-widgets/controls",
            "layout": "IPY_MODEL_7d59557c5c744cc7aca93d9a909300f8"
          }
        },
        "140b66fb538848d78bd77995bfa6b563": {
          "model_module": "@jupyter-widgets/controls",
          "model_name": "FloatProgressModel",
          "state": {
            "_view_name": "ProgressView",
            "style": "IPY_MODEL_b60d6ea7728548f2a38c145907f5f5d6",
            "_dom_classes": [],
            "description": "",
            "_model_name": "FloatProgressModel",
            "bar_style": "",
            "max": 1,
            "_view_module": "@jupyter-widgets/controls",
            "_model_module_version": "1.5.0",
            "value": 1,
            "_view_count": null,
            "_view_module_version": "1.5.0",
            "orientation": "horizontal",
            "min": 0,
            "description_tooltip": null,
            "_model_module": "@jupyter-widgets/controls",
            "layout": "IPY_MODEL_15b2ab0a7a154f4983cd9d1a66c6c273"
          }
        },
        "86a14c36ed5f49e0b38c49601e77d01e": {
          "model_module": "@jupyter-widgets/controls",
          "model_name": "DescriptionStyleModel",
          "state": {
            "_view_name": "StyleView",
            "_model_name": "DescriptionStyleModel",
            "description_width": "",
            "_view_module": "@jupyter-widgets/base",
            "_model_module_version": "1.5.0",
            "_view_count": null,
            "_view_module_version": "1.2.0",
            "_model_module": "@jupyter-widgets/controls"
          }
        },
        "7d59557c5c744cc7aca93d9a909300f8": {
          "model_module": "@jupyter-widgets/base",
          "model_name": "LayoutModel",
          "state": {
            "_view_name": "LayoutView",
            "grid_template_rows": null,
            "right": null,
            "justify_content": null,
            "_view_module": "@jupyter-widgets/base",
            "overflow": null,
            "_model_module_version": "1.2.0",
            "_view_count": null,
            "flex_flow": null,
            "width": null,
            "min_width": null,
            "border": null,
            "align_items": null,
            "bottom": null,
            "_model_module": "@jupyter-widgets/base",
            "top": null,
            "grid_column": null,
            "overflow_y": null,
            "overflow_x": null,
            "grid_auto_flow": null,
            "grid_area": null,
            "grid_template_columns": null,
            "flex": null,
            "_model_name": "LayoutModel",
            "justify_items": null,
            "grid_row": null,
            "max_height": null,
            "align_content": null,
            "visibility": null,
            "align_self": null,
            "height": null,
            "min_height": null,
            "padding": null,
            "grid_auto_rows": null,
            "grid_gap": null,
            "max_width": null,
            "order": null,
            "_view_module_version": "1.2.0",
            "grid_template_areas": null,
            "object_position": null,
            "object_fit": null,
            "grid_auto_columns": null,
            "margin": null,
            "display": null,
            "left": null
          }
        },
        "b60d6ea7728548f2a38c145907f5f5d6": {
          "model_module": "@jupyter-widgets/controls",
          "model_name": "ProgressStyleModel",
          "state": {
            "_view_name": "StyleView",
            "_model_name": "ProgressStyleModel",
            "description_width": "",
            "_view_module": "@jupyter-widgets/base",
            "_model_module_version": "1.5.0",
            "_view_count": null,
            "_view_module_version": "1.2.0",
            "bar_color": null,
            "_model_module": "@jupyter-widgets/controls"
          }
        },
        "15b2ab0a7a154f4983cd9d1a66c6c273": {
          "model_module": "@jupyter-widgets/base",
          "model_name": "LayoutModel",
          "state": {
            "_view_name": "LayoutView",
            "grid_template_rows": null,
            "right": null,
            "justify_content": null,
            "_view_module": "@jupyter-widgets/base",
            "overflow": null,
            "_model_module_version": "1.2.0",
            "_view_count": null,
            "flex_flow": null,
            "width": null,
            "min_width": null,
            "border": null,
            "align_items": null,
            "bottom": null,
            "_model_module": "@jupyter-widgets/base",
            "top": null,
            "grid_column": null,
            "overflow_y": null,
            "overflow_x": null,
            "grid_auto_flow": null,
            "grid_area": null,
            "grid_template_columns": null,
            "flex": null,
            "_model_name": "LayoutModel",
            "justify_items": null,
            "grid_row": null,
            "max_height": null,
            "align_content": null,
            "visibility": null,
            "align_self": null,
            "height": null,
            "min_height": null,
            "padding": null,
            "grid_auto_rows": null,
            "grid_gap": null,
            "max_width": null,
            "order": null,
            "_view_module_version": "1.2.0",
            "grid_template_areas": null,
            "object_position": null,
            "object_fit": null,
            "grid_auto_columns": null,
            "margin": null,
            "display": null,
            "left": null
          }
        },
        "0d647a9d81424ff7a6e9341ee932d315": {
          "model_module": "@jupyter-widgets/controls",
          "model_name": "VBoxModel",
          "state": {
            "_dom_classes": [],
            "_model_module": "@jupyter-widgets/controls",
            "_model_module_version": "1.5.0",
            "_model_name": "VBoxModel",
            "_view_count": null,
            "_view_module": "@jupyter-widgets/controls",
            "_view_module_version": "1.5.0",
            "_view_name": "VBoxView",
            "box_style": "",
            "children": [
              "IPY_MODEL_7e64b999a8164c98af368175a7a24ec7",
              "IPY_MODEL_977edf1e1b9a419ebedb4b1b831adaf8"
            ],
            "layout": "IPY_MODEL_383f977e185b43cf936c0cc49a4c7654"
          }
        },
        "7e64b999a8164c98af368175a7a24ec7": {
          "model_module": "@jupyter-widgets/controls",
          "model_name": "LabelModel",
          "state": {
            "_dom_classes": [],
            "_model_module": "@jupyter-widgets/controls",
            "_model_module_version": "1.5.0",
            "_model_name": "LabelModel",
            "_view_count": null,
            "_view_module": "@jupyter-widgets/controls",
            "_view_module_version": "1.5.0",
            "_view_name": "LabelView",
            "description": "",
            "description_tooltip": null,
            "layout": "IPY_MODEL_a581a01f98a2479c892e82e1afeacdd8",
            "placeholder": "​",
            "style": "IPY_MODEL_9dd15896aee6417b9e8b659d45b56509",
            "value": " 21.53MB of 21.53MB uploaded (0.00MB deduped)\r"
          }
        },
        "977edf1e1b9a419ebedb4b1b831adaf8": {
          "model_module": "@jupyter-widgets/controls",
          "model_name": "FloatProgressModel",
          "state": {
            "_dom_classes": [],
            "_model_module": "@jupyter-widgets/controls",
            "_model_module_version": "1.5.0",
            "_model_name": "FloatProgressModel",
            "_view_count": null,
            "_view_module": "@jupyter-widgets/controls",
            "_view_module_version": "1.5.0",
            "_view_name": "ProgressView",
            "bar_style": "",
            "description": "",
            "description_tooltip": null,
            "layout": "IPY_MODEL_e474013873394f66ac146ae1e1e1a0b3",
            "max": 1,
            "min": 0,
            "orientation": "horizontal",
            "style": "IPY_MODEL_c1a9ab40d5834158b89a348390f3ad70",
            "value": 1
          }
        },
        "383f977e185b43cf936c0cc49a4c7654": {
          "model_module": "@jupyter-widgets/base",
          "model_name": "LayoutModel",
          "state": {
            "_model_module": "@jupyter-widgets/base",
            "_model_module_version": "1.2.0",
            "_model_name": "LayoutModel",
            "_view_count": null,
            "_view_module": "@jupyter-widgets/base",
            "_view_module_version": "1.2.0",
            "_view_name": "LayoutView",
            "align_content": null,
            "align_items": null,
            "align_self": null,
            "border": null,
            "bottom": null,
            "display": null,
            "flex": null,
            "flex_flow": null,
            "grid_area": null,
            "grid_auto_columns": null,
            "grid_auto_flow": null,
            "grid_auto_rows": null,
            "grid_column": null,
            "grid_gap": null,
            "grid_row": null,
            "grid_template_areas": null,
            "grid_template_columns": null,
            "grid_template_rows": null,
            "height": null,
            "justify_content": null,
            "justify_items": null,
            "left": null,
            "margin": null,
            "max_height": null,
            "max_width": null,
            "min_height": null,
            "min_width": null,
            "object_fit": null,
            "object_position": null,
            "order": null,
            "overflow": null,
            "overflow_x": null,
            "overflow_y": null,
            "padding": null,
            "right": null,
            "top": null,
            "visibility": null,
            "width": null
          }
        },
        "a581a01f98a2479c892e82e1afeacdd8": {
          "model_module": "@jupyter-widgets/base",
          "model_name": "LayoutModel",
          "state": {
            "_model_module": "@jupyter-widgets/base",
            "_model_module_version": "1.2.0",
            "_model_name": "LayoutModel",
            "_view_count": null,
            "_view_module": "@jupyter-widgets/base",
            "_view_module_version": "1.2.0",
            "_view_name": "LayoutView",
            "align_content": null,
            "align_items": null,
            "align_self": null,
            "border": null,
            "bottom": null,
            "display": null,
            "flex": null,
            "flex_flow": null,
            "grid_area": null,
            "grid_auto_columns": null,
            "grid_auto_flow": null,
            "grid_auto_rows": null,
            "grid_column": null,
            "grid_gap": null,
            "grid_row": null,
            "grid_template_areas": null,
            "grid_template_columns": null,
            "grid_template_rows": null,
            "height": null,
            "justify_content": null,
            "justify_items": null,
            "left": null,
            "margin": null,
            "max_height": null,
            "max_width": null,
            "min_height": null,
            "min_width": null,
            "object_fit": null,
            "object_position": null,
            "order": null,
            "overflow": null,
            "overflow_x": null,
            "overflow_y": null,
            "padding": null,
            "right": null,
            "top": null,
            "visibility": null,
            "width": null
          }
        },
        "9dd15896aee6417b9e8b659d45b56509": {
          "model_module": "@jupyter-widgets/controls",
          "model_name": "DescriptionStyleModel",
          "state": {
            "_model_module": "@jupyter-widgets/controls",
            "_model_module_version": "1.5.0",
            "_model_name": "DescriptionStyleModel",
            "_view_count": null,
            "_view_module": "@jupyter-widgets/base",
            "_view_module_version": "1.2.0",
            "_view_name": "StyleView",
            "description_width": ""
          }
        },
        "e474013873394f66ac146ae1e1e1a0b3": {
          "model_module": "@jupyter-widgets/base",
          "model_name": "LayoutModel",
          "state": {
            "_model_module": "@jupyter-widgets/base",
            "_model_module_version": "1.2.0",
            "_model_name": "LayoutModel",
            "_view_count": null,
            "_view_module": "@jupyter-widgets/base",
            "_view_module_version": "1.2.0",
            "_view_name": "LayoutView",
            "align_content": null,
            "align_items": null,
            "align_self": null,
            "border": null,
            "bottom": null,
            "display": null,
            "flex": null,
            "flex_flow": null,
            "grid_area": null,
            "grid_auto_columns": null,
            "grid_auto_flow": null,
            "grid_auto_rows": null,
            "grid_column": null,
            "grid_gap": null,
            "grid_row": null,
            "grid_template_areas": null,
            "grid_template_columns": null,
            "grid_template_rows": null,
            "height": null,
            "justify_content": null,
            "justify_items": null,
            "left": null,
            "margin": null,
            "max_height": null,
            "max_width": null,
            "min_height": null,
            "min_width": null,
            "object_fit": null,
            "object_position": null,
            "order": null,
            "overflow": null,
            "overflow_x": null,
            "overflow_y": null,
            "padding": null,
            "right": null,
            "top": null,
            "visibility": null,
            "width": null
          }
        },
        "c1a9ab40d5834158b89a348390f3ad70": {
          "model_module": "@jupyter-widgets/controls",
          "model_name": "ProgressStyleModel",
          "state": {
            "_model_module": "@jupyter-widgets/controls",
            "_model_module_version": "1.5.0",
            "_model_name": "ProgressStyleModel",
            "_view_count": null,
            "_view_module": "@jupyter-widgets/base",
            "_view_module_version": "1.2.0",
            "_view_name": "StyleView",
            "bar_color": null,
            "description_width": ""
          }
        }
      }
    }
  },
  "cells": [
    {
      "cell_type": "markdown",
      "metadata": {
        "id": "DL4CRiHqASw2"
      },
      "source": [
        "# Text Classification with Word2Vec embeddings and **RNN-LSTM-GRU-BiLSTM** on ***KERAS***\n",
        "\n",
        "Comparativa evolución de modelos más básicos de clasificación de texto integrados con Wandb para visualización. \n",
        "\n",
        "- Añadida capa de atención basada en Bandanhau 2015 a todos para comparar la mejora que supone (tanto para LSTM como BiLSTM)\n",
        "\n"
      ]
    },
    {
      "cell_type": "markdown",
      "metadata": {
        "id": "ZJXgq2A8OVQC"
      },
      "source": [
        "#Librerías"
      ]
    },
    {
      "cell_type": "code",
      "metadata": {
        "colab": {
          "base_uri": "https://localhost:8080/"
        },
        "id": "TmJVQVaOFwRM",
        "outputId": "7e57cc30-c696-495b-eade-93774368f7a1"
      },
      "source": [
        "from google.colab import drive\n",
        "drive.mount('/content/drive')"
      ],
      "execution_count": null,
      "outputs": [
        {
          "output_type": "stream",
          "text": [
            "Mounted at /content/drive\n"
          ],
          "name": "stdout"
        }
      ]
    },
    {
      "cell_type": "code",
      "metadata": {
        "id": "HEQOIZy_F1-j"
      },
      "source": [
        "import pandas as pd\n",
        "import numpy as np\n",
        "import matplotlib.pyplot as plt\n"
      ],
      "execution_count": null,
      "outputs": []
    },
    {
      "cell_type": "code",
      "metadata": {
        "id": "i19PnK1_GCuq"
      },
      "source": [
        "%%capture\n",
        "!pip install keras\n",
        "np.random.seed(0)\n",
        "from keras.models import Model, Sequential\n",
        "from keras.layers import Dense, Input, Dropout, LSTM, Activation\n",
        "from keras.layers.embeddings import Embedding\n",
        "from keras.preprocessing import sequence\n",
        "from keras.initializers import glorot_uniform\n",
        "import os\n",
        "import tensorflow as tf\n",
        "from tensorflow import keras\n",
        "from keras.optimizers import RMSprop, SGD, Adam, Nadam\n"
      ],
      "execution_count": null,
      "outputs": []
    },
    {
      "cell_type": "code",
      "metadata": {
        "id": "kN4oeR64GE_O"
      },
      "source": [
        "from sklearn.metrics import confusion_matrix\n",
        "import seaborn as sns\n",
        "import pandas as pd\n",
        "import matplotlib.pyplot as plt\n",
        "from sklearn.metrics import classification_report\n",
        "# Need\n",
        "from keras.preprocessing.text import Tokenizer\n",
        "from keras.preprocessing.sequence import pad_sequences\n",
        "from keras.layers import *"
      ],
      "execution_count": null,
      "outputs": []
    },
    {
      "cell_type": "code",
      "metadata": {
        "id": "jbh1cxyxOQl1"
      },
      "source": [
        "%%capture\n",
        "!pip install wandb \n",
        "import wandb\n",
        "from wandb.keras import WandbCallback"
      ],
      "execution_count": null,
      "outputs": []
    },
    {
      "cell_type": "code",
      "metadata": {
        "id": "T8oQe6qiLzH5"
      },
      "source": [
        "%%capture\n",
        "\n",
        "!pip install attention"
      ],
      "execution_count": null,
      "outputs": []
    },
    {
      "cell_type": "markdown",
      "metadata": {
        "id": "DU5zyFtWuZU6"
      },
      "source": [
        "# Carga dataset Amazon"
      ]
    },
    {
      "cell_type": "code",
      "metadata": {
        "colab": {
          "base_uri": "https://localhost:8080/"
        },
        "id": "etWbabR5tyvW",
        "outputId": "3ed676fe-ac05-44f8-a3c9-9b84a32c7da4"
      },
      "source": [
        "df_train = pd.read_csv('/content/drive/MyDrive/TFG/Datasets_procesados_2/train/amazonEN_train.csv')\n",
        "df_valid = pd.read_csv('/content/drive/MyDrive/TFG/Datasets_procesados_2/valid/amazonEN_valid.csv')\n",
        "df_test = pd.read_csv('/content/drive/MyDrive/TFG/Datasets_procesados_2/test/amazonEN_test.csv')\n",
        "df_train.head(1)"
      ],
      "execution_count": null,
      "outputs": [
        {
          "output_type": "execute_result",
          "data": {
            "text/html": [
              "<div>\n",
              "<style scoped>\n",
              "    .dataframe tbody tr th:only-of-type {\n",
              "        vertical-align: middle;\n",
              "    }\n",
              "\n",
              "    .dataframe tbody tr th {\n",
              "        vertical-align: top;\n",
              "    }\n",
              "\n",
              "    .dataframe thead th {\n",
              "        text-align: right;\n",
              "    }\n",
              "</style>\n",
              "<table border=\"1\" class=\"dataframe\">\n",
              "  <thead>\n",
              "    <tr style=\"text-align: right;\">\n",
              "      <th></th>\n",
              "      <th>review_id</th>\n",
              "      <th>product_id</th>\n",
              "      <th>reviewer_id</th>\n",
              "      <th>star_rating</th>\n",
              "      <th>review_body</th>\n",
              "      <th>review_title</th>\n",
              "      <th>language</th>\n",
              "      <th>product_category</th>\n",
              "      <th>text_title</th>\n",
              "      <th>text_title_cat</th>\n",
              "      <th>text_cat</th>\n",
              "      <th>product_category_cod</th>\n",
              "    </tr>\n",
              "  </thead>\n",
              "  <tbody>\n",
              "    <tr>\n",
              "      <th>0</th>\n",
              "      <td>en_0522546</td>\n",
              "      <td>product_en_0681589</td>\n",
              "      <td>reviewer_en_0687817</td>\n",
              "      <td>2</td>\n",
              "      <td>Not strong enough to run a small 120v vacuum c...</td>\n",
              "      <td>Not strong enough to run a small 120v vacuum c...</td>\n",
              "      <td>en</td>\n",
              "      <td>lawn_and_garden</td>\n",
              "      <td>Not strong enough to run a small 120v vacuum c...</td>\n",
              "      <td>Not strong enough to run a small 120v vacuum c...</td>\n",
              "      <td>Not strong enough to run a small 120v vacuum c...</td>\n",
              "      <td>17</td>\n",
              "    </tr>\n",
              "  </tbody>\n",
              "</table>\n",
              "</div>"
            ],
            "text/plain": [
              "    review_id  ... product_category_cod\n",
              "0  en_0522546  ...                   17\n",
              "\n",
              "[1 rows x 12 columns]"
            ]
          },
          "metadata": {
            "tags": []
          },
          "execution_count": 7
        }
      ]
    },
    {
      "cell_type": "code",
      "metadata": {
        "id": "NBVi89kkuoU7"
      },
      "source": [
        "## Función para tokenizar, codificar y realizar el padding sobre las reviews \n",
        "\n",
        "def preprocess(X_train,X_val,X_test,y_train,y_val,y_test):\n",
        " \n",
        "  ## Tokenize reviews\n",
        "  X_data_full = pd.concat([X_train, X_val, X_test],ignore_index=True)\n",
        "  t= Tokenizer()\n",
        "  t.fit_on_texts(X_data_full)\n",
        "  vocab_size = len(t.word_index)+1\n",
        "  max_length = 260\n",
        "\n",
        "  # Cod and pad reviews\n",
        "  encoded_rev = t.texts_to_sequences(X_train)\n",
        "  padded_rev = pad_sequences(encoded_rev,maxlen=max_length,padding= 'post')\n",
        "\n",
        "  encoded_rev_val = t.texts_to_sequences(X_val)\n",
        "  padded_rev_val = pad_sequences(encoded_rev_val,maxlen=max_length,padding= 'post')\n",
        "\n",
        "  encoded_rev_test = t.texts_to_sequences(X_test)\n",
        "  padded_rev_test = pad_sequences(encoded_rev_test,maxlen=max_length,padding= 'post')\n",
        "\n",
        "  return t, vocab_size, padded_rev, padded_rev_val, padded_rev_test"
      ],
      "execution_count": null,
      "outputs": []
    },
    {
      "cell_type": "markdown",
      "metadata": {
        "id": "fhRJRKHzSCzc"
      },
      "source": [
        "# Carga Dato Chatbot"
      ]
    },
    {
      "cell_type": "code",
      "metadata": {
        "colab": {
          "base_uri": "https://localhost:8080/",
          "height": 191
        },
        "id": "pOawQoz_SB-K",
        "outputId": "af73783c-d429-4de9-d156-acce1ed8ae2e"
      },
      "source": [
        "df_train = pd.read_csv('/content/drive/MyDrive/dato_chatbot_procesado/train/rep_trainES.csv')\n",
        "df_valid = pd.read_csv('/content/drive/MyDrive/dato_chatbot_procesado/valid/rep_validES.csv')\n",
        "df_test = pd.read_csv('/content/drive/MyDrive/dato_chatbot_procesado/test/rep_testES.csv')\n",
        "df_train.head()"
      ],
      "execution_count": null,
      "outputs": [
        {
          "output_type": "execute_result",
          "data": {
            "text/html": [
              "<div>\n",
              "<style scoped>\n",
              "    .dataframe tbody tr th:only-of-type {\n",
              "        vertical-align: middle;\n",
              "    }\n",
              "\n",
              "    .dataframe tbody tr th {\n",
              "        vertical-align: top;\n",
              "    }\n",
              "\n",
              "    .dataframe thead th {\n",
              "        text-align: right;\n",
              "    }\n",
              "</style>\n",
              "<table border=\"1\" class=\"dataframe\">\n",
              "  <thead>\n",
              "    <tr style=\"text-align: right;\">\n",
              "      <th></th>\n",
              "      <th>Query</th>\n",
              "      <th>category_cod</th>\n",
              "    </tr>\n",
              "  </thead>\n",
              "  <tbody>\n",
              "    <tr>\n",
              "      <th>0</th>\n",
              "      <td>cambio de contraseña y no reconoce credenciale...</td>\n",
              "      <td>5</td>\n",
              "    </tr>\n",
              "    <tr>\n",
              "      <th>1</th>\n",
              "      <td>necesito ayuda sobre la configuración del buzó...</td>\n",
              "      <td>6</td>\n",
              "    </tr>\n",
              "    <tr>\n",
              "      <th>2</th>\n",
              "      <td>quiero restaurar un archivo de un departamental</td>\n",
              "      <td>23</td>\n",
              "    </tr>\n",
              "    <tr>\n",
              "      <th>3</th>\n",
              "      <td>solicitar buzón correo compartido</td>\n",
              "      <td>6</td>\n",
              "    </tr>\n",
              "    <tr>\n",
              "      <th>4</th>\n",
              "      <td>problema acceso a teams con mi movil</td>\n",
              "      <td>32</td>\n",
              "    </tr>\n",
              "  </tbody>\n",
              "</table>\n",
              "</div>"
            ],
            "text/plain": [
              "                                               Query  category_cod\n",
              "0  cambio de contraseña y no reconoce credenciale...             5\n",
              "1  necesito ayuda sobre la configuración del buzó...             6\n",
              "2    quiero restaurar un archivo de un departamental            23\n",
              "3                solicitar buzón correo compartido               6\n",
              "4               problema acceso a teams con mi movil            32"
            ]
          },
          "metadata": {
            "tags": []
          },
          "execution_count": 52
        }
      ]
    },
    {
      "cell_type": "code",
      "metadata": {
        "colab": {
          "base_uri": "https://localhost:8080/"
        },
        "id": "JGSUx5tQW25v",
        "outputId": "1429320b-1703-458e-d978-5c4b233a7bd7"
      },
      "source": [
        "len(df_train.category_cod.unique())"
      ],
      "execution_count": null,
      "outputs": [
        {
          "output_type": "execute_result",
          "data": {
            "text/plain": [
              "39"
            ]
          },
          "metadata": {
            "tags": []
          },
          "execution_count": 27
        }
      ]
    },
    {
      "cell_type": "markdown",
      "metadata": {
        "id": "eyYH7ZaXuc5Z"
      },
      "source": [
        "# Carga Embeddings Word2Vec"
      ]
    },
    {
      "cell_type": "code",
      "metadata": {
        "id": "GA3MtQNXLrv0"
      },
      "source": [
        "# Descarga vectores Word2Vec no contextuales:  (100 / palabra )\n",
        "\n",
        "def read_word2vec_vecs(file):\n",
        "        with open(file, 'r',  errors='ignore', encoding=\"utf-8\") as f:\n",
        "            words = set()\n",
        "            word_to_vec_map = {}\n",
        "            for line in f:\n",
        "                line = line.strip().split()\n",
        "                curr_word_list = line[0: len(line) - 100]\n",
        "                curr_word = \"\"\n",
        "                for t in curr_word_list:\n",
        "                    curr_word = curr_word + str(t) + \" \"\n",
        "                curr_word = curr_word.strip()\n",
        "                words.add(curr_word)\n",
        "                try:\n",
        "                    word_to_vec_map[curr_word] = np.array(line[-100:], dtype=np.float64)\n",
        "                except:\n",
        "                    print(line, len(line))\n",
        "\n",
        "            i = 1\n",
        "            words_to_index = {}\n",
        "            index_to_words = {}\n",
        "\n",
        "            words.add(\"nokey\")\n",
        "            word_to_vec_map[\"nokey\"] = np.zeros((100,), dtype=np.float64)\n",
        "\n",
        "            for w in sorted(words):\n",
        "                words_to_index[w] = i\n",
        "                index_to_words[i] = w\n",
        "                i = i + 1\n",
        "        return words_to_index, index_to_words, word_to_vec_map"
      ],
      "execution_count": null,
      "outputs": []
    },
    {
      "cell_type": "code",
      "metadata": {
        "id": "GNlQxYFpwkAk"
      },
      "source": [
        "%%capture\n",
        "Pathdrive = \"/content/drive/MyDrive/word2vec/model.txt\"\n",
        "\n",
        "words_to_index, index_to_words, word_to_vec_map = read_word2vec_vecs(Pathdrive)"
      ],
      "execution_count": null,
      "outputs": []
    },
    {
      "cell_type": "code",
      "metadata": {
        "colab": {
          "base_uri": "https://localhost:8080/"
        },
        "id": "BRvWxClLx4va",
        "outputId": "3f29cc74-d28e-4512-ade4-cbd3ae64524a"
      },
      "source": [
        "# nº Embeddings palabra \"no\"\n",
        "len(word_to_vec_map[\"no\"]) "
      ],
      "execution_count": null,
      "outputs": [
        {
          "output_type": "execute_result",
          "data": {
            "text/plain": [
              "100"
            ]
          },
          "metadata": {
            "tags": []
          },
          "execution_count": 12
        }
      ]
    },
    {
      "cell_type": "code",
      "metadata": {
        "colab": {
          "base_uri": "https://localhost:8080/"
        },
        "id": "vk5EKnwuy5Te",
        "outputId": "f9aa2c54-d163-4979-d04d-e94dd1714fe1"
      },
      "source": [
        "# Tamaño del vocabulario de ingles\n",
        "len(words_to_index)"
      ],
      "execution_count": null,
      "outputs": [
        {
          "output_type": "execute_result",
          "data": {
            "text/plain": [
              "4027170"
            ]
          },
          "metadata": {
            "tags": []
          },
          "execution_count": 13
        }
      ]
    },
    {
      "cell_type": "markdown",
      "metadata": {
        "id": "E2BAJSK0gGdG"
      },
      "source": [
        "# Wandb log\n"
      ]
    },
    {
      "cell_type": "code",
      "metadata": {
        "colab": {
          "base_uri": "https://localhost:8080/",
          "height": 740,
          "referenced_widgets": [
            "fec5d6a2dab240d9b712c62a3524a973",
            "ff91f2ef18d649fc9a5e0180f8380513",
            "3e8ee2147ed94b419637e2f89ce7155a",
            "75b77ba72ba945ab9d32af82afb388d2",
            "e5e98e5a311547798cff60fb61fcf3e5",
            "810e02dcf303459f9b9585b9c1076771",
            "957449ccd68641bc90988de8d5a48b51",
            "dc7fed55fe8f40a7994c232057b74746"
          ]
        },
        "id": "eOHGBT7mgEr3",
        "outputId": "2874e62e-9902-47f2-d895-8ca3ceef29f1"
      },
      "source": [
        "# Initialize wandb with your project name\n",
        "run = wandb.init(project='RNN-LSTM-GRU-BiLSTM Models -CHATBOT',\n",
        "                 group = 'Category-query',\n",
        "                 config={  # and include hyperparameters and metadata\n",
        "                     \"learning_rate\": 0.001,\n",
        "                     \"epochs\": 10,\n",
        "                     \"batch_size\": 64,\n",
        "                     \"loss_function\": \"sparse_categorical_crossentropy\",\n",
        "                     \"architecture\": \"RNN\"\n",
        "                 })\n",
        "config = wandb.config  # We'll use this to configure our experiment"
      ],
      "execution_count": null,
      "outputs": [
        {
          "output_type": "display_data",
          "data": {
            "text/html": [
              "Finishing last run (ID:valk92g6) before initializing another..."
            ],
            "text/plain": [
              "<IPython.core.display.HTML object>"
            ]
          },
          "metadata": {
            "tags": []
          }
        },
        {
          "output_type": "display_data",
          "data": {
            "text/html": [
              "<br/>Waiting for W&B process to finish, PID 400<br/>Program ended successfully."
            ],
            "text/plain": [
              "<IPython.core.display.HTML object>"
            ]
          },
          "metadata": {
            "tags": []
          }
        },
        {
          "output_type": "display_data",
          "data": {
            "application/vnd.jupyter.widget-view+json": {
              "model_id": "fec5d6a2dab240d9b712c62a3524a973",
              "version_minor": 0,
              "version_major": 2
            },
            "text/plain": [
              "VBox(children=(Label(value=' 0.80MB of 0.80MB uploaded (0.00MB deduped)\\r'), FloatProgress(value=1.0, max=1.0)…"
            ]
          },
          "metadata": {
            "tags": []
          }
        },
        {
          "output_type": "display_data",
          "data": {
            "text/html": [
              "Find user logs for this run at: <code>/content/wandb/run-20210331_173526-valk92g6/logs/debug.log</code>"
            ],
            "text/plain": [
              "<IPython.core.display.HTML object>"
            ]
          },
          "metadata": {
            "tags": []
          }
        },
        {
          "output_type": "display_data",
          "data": {
            "text/html": [
              "Find internal logs for this run at: <code>/content/wandb/run-20210331_173526-valk92g6/logs/debug-internal.log</code>"
            ],
            "text/plain": [
              "<IPython.core.display.HTML object>"
            ]
          },
          "metadata": {
            "tags": []
          }
        },
        {
          "output_type": "display_data",
          "data": {
            "text/html": [
              "<h3>Run summary:</h3><br/><style>\n",
              "    table.wandb td:nth-child(1) { padding: 0 10px; text-align: right }\n",
              "    </style><table class=\"wandb\">\n",
              "<tr><td>epoch</td><td>9</td></tr><tr><td>loss</td><td>3.16719</td></tr><tr><td>accuracy</td><td>0.13971</td></tr><tr><td>val_loss</td><td>3.24917</td></tr><tr><td>val_accuracy</td><td>0.10526</td></tr><tr><td>_runtime</td><td>444</td></tr><tr><td>_timestamp</td><td>1617212570</td></tr><tr><td>_step</td><td>9</td></tr><tr><td>best_val_loss</td><td>3.11719</td></tr><tr><td>best_epoch</td><td>5</td></tr></table>"
            ],
            "text/plain": [
              "<IPython.core.display.HTML object>"
            ]
          },
          "metadata": {
            "tags": []
          }
        },
        {
          "output_type": "display_data",
          "data": {
            "text/html": [
              "<h3>Run history:</h3><br/><style>\n",
              "    table.wandb td:nth-child(1) { padding: 0 10px; text-align: right }\n",
              "    </style><table class=\"wandb\">\n",
              "<tr><td>epoch</td><td>▁▂▃▃▄▅▆▆▇█</td></tr><tr><td>loss</td><td>██▅▃▂▂▁▁▁▁</td></tr><tr><td>accuracy</td><td>▁▁▇█▆▅▆▇██</td></tr><tr><td>val_loss</td><td>█▆▄▂▁▁▂▂▂▃</td></tr><tr><td>val_accuracy</td><td>▁██▆███▆▆▆</td></tr><tr><td>_runtime</td><td>▁▂▂▃▄▅▆▇▇█</td></tr><tr><td>_timestamp</td><td>▁▂▂▃▄▅▆▇▇█</td></tr><tr><td>_step</td><td>▁▂▃▃▄▅▆▆▇█</td></tr></table><br/>"
            ],
            "text/plain": [
              "<IPython.core.display.HTML object>"
            ]
          },
          "metadata": {
            "tags": []
          }
        },
        {
          "output_type": "display_data",
          "data": {
            "text/html": [
              "Synced 5 W&B file(s), 1 media file(s), 0 artifact file(s) and 1 other file(s)"
            ],
            "text/plain": [
              "<IPython.core.display.HTML object>"
            ]
          },
          "metadata": {
            "tags": []
          }
        },
        {
          "output_type": "display_data",
          "data": {
            "text/html": [
              "\n",
              "                    <br/>Synced <strong style=\"color:#cdcd00\">sparkling-sky-1</strong>: <a href=\"https://wandb.ai/lucialarraona/RNN-LSTM-GRU-BiLSTM%20Models%20-CHATBOT/runs/valk92g6\" target=\"_blank\">https://wandb.ai/lucialarraona/RNN-LSTM-GRU-BiLSTM%20Models%20-CHATBOT/runs/valk92g6</a><br/>\n",
              "                "
            ],
            "text/plain": [
              "<IPython.core.display.HTML object>"
            ]
          },
          "metadata": {
            "tags": []
          }
        },
        {
          "output_type": "display_data",
          "data": {
            "text/html": [
              "...Successfully finished last run (ID:valk92g6). Initializing new run:<br/><br/>"
            ],
            "text/plain": [
              "<IPython.core.display.HTML object>"
            ]
          },
          "metadata": {
            "tags": []
          }
        },
        {
          "output_type": "display_data",
          "data": {
            "text/html": [
              "\n",
              "                Tracking run with wandb version 0.10.24<br/>\n",
              "                Syncing run <strong style=\"color:#cdcd00\">sweet-wood-2</strong> to <a href=\"https://wandb.ai\" target=\"_blank\">Weights & Biases</a> <a href=\"https://docs.wandb.com/integrations/jupyter.html\" target=\"_blank\">(Documentation)</a>.<br/>\n",
              "                Project page: <a href=\"https://wandb.ai/lucialarraona/RNN-LSTM-GRU-BiLSTM%20Models%20-CHATBOT\" target=\"_blank\">https://wandb.ai/lucialarraona/RNN-LSTM-GRU-BiLSTM%20Models%20-CHATBOT</a><br/>\n",
              "                Run page: <a href=\"https://wandb.ai/lucialarraona/RNN-LSTM-GRU-BiLSTM%20Models%20-CHATBOT/runs/236zbqx5\" target=\"_blank\">https://wandb.ai/lucialarraona/RNN-LSTM-GRU-BiLSTM%20Models%20-CHATBOT/runs/236zbqx5</a><br/>\n",
              "                Run data is saved locally in <code>/content/wandb/run-20210331_174350-236zbqx5</code><br/><br/>\n",
              "            "
            ],
            "text/plain": [
              "<IPython.core.display.HTML object>"
            ]
          },
          "metadata": {
            "tags": []
          }
        }
      ]
    },
    {
      "cell_type": "markdown",
      "metadata": {
        "id": "v_wjkoxjuh0L"
      },
      "source": [
        "# Modelo RNN"
      ]
    },
    {
      "cell_type": "code",
      "metadata": {
        "id": "Ze3PKUIevy9x"
      },
      "source": [
        "X_train = df_train['Query']\n",
        "X_val= df_valid['Query']\n",
        "X_test= df_test['Query']\n",
        "\n",
        "y_train = df_train['category_cod']\n",
        "y_val = df_valid['category_cod']\n",
        "y_test= df_test['category_cod']\n",
        "\n",
        "# Aplicamos pre-procesado \n",
        "t, vocab_size, padded_rev, padded_rev_val, padded_rev_test = preprocess(X_train,X_val,X_test,y_train,y_val,y_test)"
      ],
      "execution_count": null,
      "outputs": []
    },
    {
      "cell_type": "code",
      "metadata": {
        "id": "69wtdxvvwFQq"
      },
      "source": [
        "# Creamos matriz de embeddings a partir del vocab de las review_body y los embeddings MUSE,  FULL\n",
        "from numpy import zeros\n",
        "embedding_matrix = zeros((vocab_size,100))\n",
        "for word, i in t.word_index.items():\n",
        "  embedding_vector = word_to_vec_map.get(word)\n",
        "  if embedding_vector is not None:\n",
        "    embedding_matrix[i] = embedding_vector"
      ],
      "execution_count": null,
      "outputs": []
    },
    {
      "cell_type": "code",
      "metadata": {
        "colab": {
          "base_uri": "https://localhost:8080/"
        },
        "id": "b_t-e8ZOy_gt",
        "outputId": "7edd6d38-8eed-4710-f196-abdb8807eecb"
      },
      "source": [
        "embedding_matrix.shape"
      ],
      "execution_count": null,
      "outputs": [
        {
          "output_type": "execute_result",
          "data": {
            "text/plain": [
              "(975, 100)"
            ]
          },
          "metadata": {
            "tags": []
          },
          "execution_count": 43
        }
      ]
    },
    {
      "cell_type": "code",
      "metadata": {
        "id": "31v4TXQKOS7r"
      },
      "source": [
        "# Modelo RNN \n",
        "from keras.layers import SimpleRNN\n",
        "\n",
        "model = Sequential()\n",
        "embed = Embedding(vocab_size,100,weights = [embedding_matrix], input_length=260,trainable=False)\n",
        "model.add(embed)\n",
        "model.add(SimpleRNN(128,return_sequences=False))\n",
        "model.add(Dense(39,activation='softmax'))"
      ],
      "execution_count": null,
      "outputs": []
    },
    {
      "cell_type": "code",
      "metadata": {
        "colab": {
          "base_uri": "https://localhost:8080/"
        },
        "id": "bOrphWdeLpES",
        "outputId": "4d600eca-65a1-483f-ed05-d8046f2b5613"
      },
      "source": [
        "model.summary()"
      ],
      "execution_count": null,
      "outputs": [
        {
          "output_type": "stream",
          "text": [
            "Model: \"sequential_3\"\n",
            "_________________________________________________________________\n",
            "Layer (type)                 Output Shape              Param #   \n",
            "=================================================================\n",
            "embedding_3 (Embedding)      (None, 260, 100)          97500     \n",
            "_________________________________________________________________\n",
            "simple_rnn_3 (SimpleRNN)     (None, 128)               29312     \n",
            "_________________________________________________________________\n",
            "dense_3 (Dense)              (None, 39)                5031      \n",
            "=================================================================\n",
            "Total params: 131,843\n",
            "Trainable params: 34,343\n",
            "Non-trainable params: 97,500\n",
            "_________________________________________________________________\n"
          ],
          "name": "stdout"
        }
      ]
    },
    {
      "cell_type": "code",
      "metadata": {
        "id": "Xlhc3-qhOX-f"
      },
      "source": [
        "model.compile(loss=config.loss_function, optimizer=Adam(lr=config.learning_rate), metrics=['accuracy'])"
      ],
      "execution_count": null,
      "outputs": []
    },
    {
      "cell_type": "code",
      "metadata": {
        "colab": {
          "base_uri": "https://localhost:8080/"
        },
        "id": "lgdjizZf0Gnx",
        "outputId": "ba818b36-ab17-4ca2-c590-5766487c708f"
      },
      "source": [
        "model.fit(padded_rev, y_train, epochs=10, \n",
        "          batch_size= 64, shuffle=True, \n",
        "              validation_data=(padded_rev_val, y_val), callbacks= [WandbCallback()])"
      ],
      "execution_count": null,
      "outputs": [
        {
          "output_type": "stream",
          "text": [
            "Epoch 1/10\n",
            "7/7 [==============================] - 3s 279ms/step - loss: 3.6786 - accuracy: 0.0075 - val_loss: 3.7782 - val_accuracy: 0.0000e+00\n",
            "Epoch 2/10\n",
            "7/7 [==============================] - 2s 244ms/step - loss: 3.6654 - accuracy: 0.0351 - val_loss: 3.4896 - val_accuracy: 0.1053\n",
            "Epoch 3/10\n",
            "7/7 [==============================] - 2s 237ms/step - loss: 3.4562 - accuracy: 0.0526 - val_loss: 3.3130 - val_accuracy: 0.1579\n",
            "Epoch 4/10\n",
            "7/7 [==============================] - 2s 244ms/step - loss: 3.2766 - accuracy: 0.1288 - val_loss: 3.1832 - val_accuracy: 0.1579\n",
            "Epoch 5/10\n",
            "7/7 [==============================] - 2s 242ms/step - loss: 3.2367 - accuracy: 0.1124 - val_loss: 3.1527 - val_accuracy: 0.1053\n",
            "Epoch 6/10\n",
            "7/7 [==============================] - 2s 232ms/step - loss: 3.1741 - accuracy: 0.1241 - val_loss: 3.1534 - val_accuracy: 0.1053\n",
            "Epoch 7/10\n",
            "7/7 [==============================] - 2s 242ms/step - loss: 3.1161 - accuracy: 0.1115 - val_loss: 3.1969 - val_accuracy: 0.1053\n",
            "Epoch 8/10\n",
            "7/7 [==============================] - 2s 236ms/step - loss: 3.1449 - accuracy: 0.1187 - val_loss: 3.1856 - val_accuracy: 0.1053\n",
            "Epoch 9/10\n",
            "7/7 [==============================] - 2s 240ms/step - loss: 3.1194 - accuracy: 0.1445 - val_loss: 3.2376 - val_accuracy: 0.1053\n",
            "Epoch 10/10\n",
            "7/7 [==============================] - 2s 220ms/step - loss: 3.1454 - accuracy: 0.1419 - val_loss: 3.2314 - val_accuracy: 0.1579\n"
          ],
          "name": "stdout"
        },
        {
          "output_type": "execute_result",
          "data": {
            "text/plain": [
              "<tensorflow.python.keras.callbacks.History at 0x7f0fe00d6290>"
            ]
          },
          "metadata": {
            "tags": []
          },
          "execution_count": 47
        }
      ]
    },
    {
      "cell_type": "code",
      "metadata": {
        "id": "oOmlQrYp0P1i"
      },
      "source": [
        "## Función test dato  \n",
        "from sklearn.metrics import confusion_matrix\n",
        "import seaborn as sns\n",
        "import pandas as pd\n",
        "import matplotlib.pyplot as plt\n",
        "from sklearn.metrics import classification_report\n",
        "\n",
        "def eval_model(model,test_data,test_labels):\n",
        "\n",
        "  \"\"\"\n",
        "  Recibe el modelo, el dato de test ya procesado (x idioma) y las true labels\n",
        "  \"\"\"\n",
        "  loss,acc = model.evaluate(x=test_data, \n",
        "                                        y=test_labels, \n",
        "                                        batch_size=64, \n",
        "                                        verbose=1)\n",
        "  \n",
        "  \n",
        "  predictions = model.predict(test_data)\n",
        "  matrix = confusion_matrix(test_labels, predictions.argmax(axis=1))\n",
        "  plt.figure(figsize = (10,7))\n",
        "  ## Confusion matrix with counts\n",
        "  sns.heatmap(matrix, annot=True,cmap='Oranges',fmt='g')\n",
        "\n",
        "  #sns.heatmap(matrix/np.sum(matrix), annot=True, \n",
        "   #          fmt='.2%', cmap='Oranges')\n",
        "  plt.xlabel(\"Predicted class\")\n",
        "  plt.ylabel(\"True class\") \n",
        "\n",
        "  clas_report = classification_report(test_labels, predictions.argmax(axis=1))\n",
        "\n",
        "  return print(clas_report)"
      ],
      "execution_count": null,
      "outputs": []
    },
    {
      "cell_type": "code",
      "metadata": {
        "colab": {
          "base_uri": "https://localhost:8080/",
          "height": 726
        },
        "id": "BouxS3xU1yId",
        "outputId": "d6e9f350-4b48-48d8-b6d7-dc5a98be6893"
      },
      "source": [
        "eval_model(model,padded_rev_test,y_test)"
      ],
      "execution_count": null,
      "outputs": [
        {
          "output_type": "stream",
          "text": [
            "1/1 [==============================] - 0s 44ms/step - loss: 3.9817 - accuracy: 0.0000e+00\n",
            "              precision    recall  f1-score   support\n",
            "\n",
            "           6       0.00      0.00      0.00       0.0\n",
            "          22       0.00      0.00      0.00       1.0\n",
            "          24       0.00      0.00      0.00       1.0\n",
            "          28       0.00      0.00      0.00       1.0\n",
            "\n",
            "    accuracy                           0.00       3.0\n",
            "   macro avg       0.00      0.00      0.00       3.0\n",
            "weighted avg       0.00      0.00      0.00       3.0\n",
            "\n"
          ],
          "name": "stdout"
        },
        {
          "output_type": "stream",
          "text": [
            "/usr/local/lib/python3.7/dist-packages/sklearn/metrics/_classification.py:1272: UndefinedMetricWarning: Precision and F-score are ill-defined and being set to 0.0 in labels with no predicted samples. Use `zero_division` parameter to control this behavior.\n",
            "  _warn_prf(average, modifier, msg_start, len(result))\n",
            "/usr/local/lib/python3.7/dist-packages/sklearn/metrics/_classification.py:1272: UndefinedMetricWarning: Recall and F-score are ill-defined and being set to 0.0 in labels with no true samples. Use `zero_division` parameter to control this behavior.\n",
            "  _warn_prf(average, modifier, msg_start, len(result))\n"
          ],
          "name": "stderr"
        },
        {
          "output_type": "display_data",
          "data": {
            "image/png": "[encoded data removed]",
            "text/plain": [
              "<Figure size 720x504 with 2 Axes>"
            ]
          },
          "metadata": {
            "tags": [],
            "needs_background": "light"
          }
        }
      ]
    },
    {
      "cell_type": "markdown",
      "metadata": {
        "id": "YtE4Bdlc1yjL"
      },
      "source": [
        "# Modelo LSTM / GRU"
      ]
    },
    {
      "cell_type": "code",
      "metadata": {
        "id": "3MOxENvD1yjM"
      },
      "source": [
        "X_train = df_train['review_body']\n",
        "X_val= df_valid['review_body']\n",
        "X_test= df_test['review_body']\n",
        "\n",
        "y_train = df_train['product_category_cod']\n",
        "y_val = df_valid['product_category_cod']\n",
        "y_test= df_test['product_category_cod']\n",
        "\n",
        "# Aplicamos pre-procesado \n",
        "t, vocab_size, padded_rev, padded_rev_val, padded_rev_test = preprocess(X_train,X_val,X_test,y_train,y_val,y_test)"
      ],
      "execution_count": null,
      "outputs": []
    },
    {
      "cell_type": "code",
      "metadata": {
        "id": "LEWr9g-d1yjM"
      },
      "source": [
        "# Creamos matriz de embeddings a partir del vocab de las review_body y los embeddings MUSE,  FULL\n",
        "from numpy import zeros\n",
        "embedding_matrix = zeros((vocab_size,100))\n",
        "for word, i in t.word_index.items():\n",
        "  embedding_vector = word_to_vec_map.get(word)\n",
        "  if embedding_vector is not None:\n",
        "    embedding_matrix[i] = embedding_vector"
      ],
      "execution_count": null,
      "outputs": []
    },
    {
      "cell_type": "code",
      "metadata": {
        "colab": {
          "base_uri": "https://localhost:8080/"
        },
        "id": "AA7xgHuB1yjN",
        "outputId": "e61f95be-b2b9-43aa-af99-e233475fe63a"
      },
      "source": [
        "embedding_matrix.shape"
      ],
      "execution_count": null,
      "outputs": [
        {
          "output_type": "execute_result",
          "data": {
            "text/plain": [
              "(47071, 100)"
            ]
          },
          "metadata": {
            "tags": []
          },
          "execution_count": 53
        }
      ]
    },
    {
      "cell_type": "code",
      "metadata": {
        "id": "lc2ypP5w1yjO"
      },
      "source": [
        "# Modelo LSTM \n",
        "from keras.layers import LSTM\n",
        "\n",
        "modellstm= Sequential()\n",
        "embed = Embedding(vocab_size,100,weights = [embedding_matrix], input_length=260,trainable=False)\n",
        "modellstm.add(embed)\n",
        "modellstm.add(LSTM(128,return_sequences=False))\n",
        "modellstm.add(Dense(31,activation='softmax'))"
      ],
      "execution_count": null,
      "outputs": []
    },
    {
      "cell_type": "code",
      "metadata": {
        "colab": {
          "base_uri": "https://localhost:8080/"
        },
        "id": "MipxPCwy1yjP",
        "outputId": "03fdf47d-68c5-48f2-e6dc-68500f7cbd52"
      },
      "source": [
        "modellstm.summary()"
      ],
      "execution_count": null,
      "outputs": [
        {
          "output_type": "stream",
          "text": [
            "Model: \"sequential_7\"\n",
            "_________________________________________________________________\n",
            "Layer (type)                 Output Shape              Param #   \n",
            "=================================================================\n",
            "embedding_10 (Embedding)     (None, 260, 100)          4868100   \n",
            "_________________________________________________________________\n",
            "lstm_11 (LSTM)               (None, 128)               117248    \n",
            "_________________________________________________________________\n",
            "dense_21 (Dense)             (None, 31)                3999      \n",
            "=================================================================\n",
            "Total params: 4,989,347\n",
            "Trainable params: 121,247\n",
            "Non-trainable params: 4,868,100\n",
            "_________________________________________________________________\n"
          ],
          "name": "stdout"
        }
      ]
    },
    {
      "cell_type": "code",
      "metadata": {
        "id": "9VP5R3z61yjP"
      },
      "source": [
        "modellstm.compile(loss=config.loss_function, optimizer=Adam(lr=config.learning_rate), metrics=['accuracy'])"
      ],
      "execution_count": null,
      "outputs": []
    },
    {
      "cell_type": "code",
      "metadata": {
        "colab": {
          "base_uri": "https://localhost:8080/"
        },
        "id": "UT1iX5ku1yjP",
        "outputId": "012f9e75-1864-42e7-c27d-95d0c2925536"
      },
      "source": [
        "modellstm.fit(padded_rev, y_train, epochs=10, \n",
        "          batch_size= 64, shuffle=True, \n",
        "          validation_data=(padded_rev_val, y_val),\n",
        "          callbacks = [WandbCallback()]\n",
        "          )"
      ],
      "execution_count": null,
      "outputs": [
        {
          "output_type": "stream",
          "text": [
            "Epoch 1/10\n",
            "3125/3125 [==============================] - 54s 17ms/step - loss: 3.1647 - accuracy: 0.0825 - val_loss: 3.1653 - val_accuracy: 0.0928\n",
            "Epoch 2/10\n",
            "3125/3125 [==============================] - 52s 17ms/step - loss: 3.1532 - accuracy: 0.0876 - val_loss: 3.1642 - val_accuracy: 0.0928\n",
            "Epoch 3/10\n",
            "3125/3125 [==============================] - 52s 17ms/step - loss: 3.1478 - accuracy: 0.0885 - val_loss: 2.8781 - val_accuracy: 0.1596\n",
            "Epoch 4/10\n",
            "3125/3125 [==============================] - 53s 17ms/step - loss: 2.7063 - accuracy: 0.2083 - val_loss: 2.4275 - val_accuracy: 0.2812\n",
            "Epoch 5/10\n",
            "3125/3125 [==============================] - 52s 17ms/step - loss: 2.3826 - accuracy: 0.2968 - val_loss: 2.4295 - val_accuracy: 0.2964\n",
            "Epoch 6/10\n",
            "3125/3125 [==============================] - 52s 17ms/step - loss: 2.2678 - accuracy: 0.3429 - val_loss: 2.1612 - val_accuracy: 0.3788\n",
            "Epoch 7/10\n",
            "3125/3125 [==============================] - 53s 17ms/step - loss: 2.1104 - accuracy: 0.3931 - val_loss: 2.0831 - val_accuracy: 0.4012\n",
            "Epoch 8/10\n",
            "3125/3125 [==============================] - 53s 17ms/step - loss: 2.0169 - accuracy: 0.4229 - val_loss: 1.9983 - val_accuracy: 0.4320\n",
            "Epoch 9/10\n",
            "3125/3125 [==============================] - 54s 17ms/step - loss: 1.9552 - accuracy: 0.4401 - val_loss: 1.9823 - val_accuracy: 0.4316\n",
            "Epoch 10/10\n",
            "3125/3125 [==============================] - 53s 17ms/step - loss: 1.9145 - accuracy: 0.4512 - val_loss: 1.9014 - val_accuracy: 0.4548\n"
          ],
          "name": "stdout"
        },
        {
          "output_type": "execute_result",
          "data": {
            "text/plain": [
              "<tensorflow.python.keras.callbacks.History at 0x7f896c3e7690>"
            ]
          },
          "metadata": {
            "tags": []
          },
          "execution_count": 90
        }
      ]
    },
    {
      "cell_type": "code",
      "metadata": {
        "colab": {
          "base_uri": "https://localhost:8080/",
          "height": 1000
        },
        "id": "IhgH4Oax1yjQ",
        "outputId": "51d14e67-6e87-4236-8534-8bc619b25123"
      },
      "source": [
        "eval_model(modellstm,padded_rev_test,y_test)"
      ],
      "execution_count": null,
      "outputs": [
        {
          "output_type": "stream",
          "text": [
            "40/40 [==============================] - 1s 12ms/step - loss: 1.8305 - accuracy: 0.4712\n"
          ],
          "name": "stdout"
        },
        {
          "output_type": "stream",
          "text": [
            "/usr/local/lib/python3.7/dist-packages/sklearn/metrics/_classification.py:1272: UndefinedMetricWarning: Precision and F-score are ill-defined and being set to 0.0 in labels with no predicted samples. Use `zero_division` parameter to control this behavior.\n",
            "  _warn_prf(average, modifier, msg_start, len(result))\n"
          ],
          "name": "stderr"
        },
        {
          "output_type": "stream",
          "text": [
            "              precision    recall  f1-score   support\n",
            "\n",
            "           0       0.50      0.80      0.61       192\n",
            "           1       0.54      0.53      0.53       100\n",
            "           2       0.33      0.29      0.31        35\n",
            "           3       0.48      0.57      0.52       152\n",
            "           4       0.65      0.44      0.53        54\n",
            "           5       0.83      0.20      0.32        25\n",
            "           6       0.80      0.88      0.84        84\n",
            "           7       0.67      0.57      0.62        21\n",
            "           8       0.43      0.40      0.41       143\n",
            "           9       0.40      0.34      0.36        80\n",
            "          10       0.44      0.35      0.39        31\n",
            "          11       0.67      0.60      0.63        50\n",
            "          12       0.26      0.47      0.34       208\n",
            "          13       0.48      0.38      0.42        89\n",
            "          14       0.00      0.00      0.00        29\n",
            "          15       0.71      0.45      0.56        44\n",
            "          16       0.55      0.50      0.52       128\n",
            "          17       0.39      0.40      0.39        92\n",
            "          18       0.27      0.21      0.24        19\n",
            "          19       1.00      0.17      0.29        12\n",
            "          20       0.56      0.26      0.35        74\n",
            "          21       0.37      0.16      0.22       164\n",
            "          22       0.64      0.40      0.49        68\n",
            "          23       0.00      0.00      0.00         1\n",
            "          24       0.88      0.64      0.74        92\n",
            "          25       0.66      0.51      0.58        72\n",
            "          26       0.42      0.27      0.33       104\n",
            "          27       0.41      0.40      0.40       123\n",
            "          28       0.60      0.19      0.29        16\n",
            "          29       0.33      0.33      0.33         6\n",
            "          30       0.43      0.66      0.52       192\n",
            "\n",
            "    accuracy                           0.47      2500\n",
            "   macro avg       0.51      0.40      0.42      2500\n",
            "weighted avg       0.49      0.47      0.46      2500\n",
            "\n"
          ],
          "name": "stdout"
        },
        {
          "output_type": "display_data",
          "data": {
            "image/png": "[encoded data removed]",
            "text/plain": [
              "<Figure size 2160x1440 with 2 Axes>"
            ]
          },
          "metadata": {
            "tags": [],
            "needs_background": "light"
          }
        }
      ]
    },
    {
      "cell_type": "code",
      "metadata": {
        "colab": {
          "base_uri": "https://localhost:8080/",
          "height": 593,
          "referenced_widgets": [
            "5f5d24376c614bcb8abfada8a316b170",
            "500c658870f24645981d95af96c9e887",
            "8a2a9460219e4b1ca1ad9a003fdf9af3",
            "cc9285db193746b6a9ae2e46837826b9",
            "e7e6f0cabb934be4a107a9a26f5cf782",
            "099dfdeb86d44ab6adfbe1c95c882d1f",
            "aee14b1da8b74c479081a712b34748b2",
            "b4d8f3ab88f04cfb9ff4fb4494b1abc0"
          ]
        },
        "id": "ovEa1otmOUqP",
        "outputId": "1fd6328b-4dd0-4efa-f19d-500e52ee7d96"
      },
      "source": [
        "wandb.finish()"
      ],
      "execution_count": null,
      "outputs": [
        {
          "output_type": "display_data",
          "data": {
            "text/html": [
              "<br/>Waiting for W&B process to finish, PID 2794<br/>Program ended successfully."
            ],
            "text/plain": [
              "<IPython.core.display.HTML object>"
            ]
          },
          "metadata": {
            "tags": []
          }
        },
        {
          "output_type": "display_data",
          "data": {
            "application/vnd.jupyter.widget-view+json": {
              "model_id": "5f5d24376c614bcb8abfada8a316b170",
              "version_minor": 0,
              "version_major": 2
            },
            "text/plain": [
              "VBox(children=(Label(value=' 19.38MB of 19.38MB uploaded (0.00MB deduped)\\r'), FloatProgress(value=1.0, max=1.…"
            ]
          },
          "metadata": {
            "tags": []
          }
        },
        {
          "output_type": "display_data",
          "data": {
            "text/html": [
              "Find user logs for this run at: <code>/content/wandb/run-20210330_124840-25w1e2ab/logs/debug.log</code>"
            ],
            "text/plain": [
              "<IPython.core.display.HTML object>"
            ]
          },
          "metadata": {
            "tags": []
          }
        },
        {
          "output_type": "display_data",
          "data": {
            "text/html": [
              "Find internal logs for this run at: <code>/content/wandb/run-20210330_124840-25w1e2ab/logs/debug-internal.log</code>"
            ],
            "text/plain": [
              "<IPython.core.display.HTML object>"
            ]
          },
          "metadata": {
            "tags": []
          }
        },
        {
          "output_type": "display_data",
          "data": {
            "text/html": [
              "<h3>Run summary:</h3><br/><style>\n",
              "    table.wandb td:nth-child(1) { padding: 0 10px; text-align: right }\n",
              "    </style><table class=\"wandb\">\n",
              "<tr><td>epoch</td><td>9</td></tr><tr><td>loss</td><td>2.25354</td></tr><tr><td>accuracy</td><td>0.34736</td></tr><tr><td>val_loss</td><td>2.22726</td></tr><tr><td>val_accuracy</td><td>0.3568</td></tr><tr><td>_runtime</td><td>546</td></tr><tr><td>_timestamp</td><td>1617109072</td></tr><tr><td>_step</td><td>9</td></tr><tr><td>best_val_loss</td><td>2.22726</td></tr><tr><td>best_epoch</td><td>9</td></tr></table>"
            ],
            "text/plain": [
              "<IPython.core.display.HTML object>"
            ]
          },
          "metadata": {
            "tags": []
          }
        },
        {
          "output_type": "display_data",
          "data": {
            "text/html": [
              "<h3>Run history:</h3><br/><style>\n",
              "    table.wandb td:nth-child(1) { padding: 0 10px; text-align: right }\n",
              "    </style><table class=\"wandb\">\n",
              "<tr><td>epoch</td><td>▁▂▃▃▄▅▆▆▇█</td></tr><tr><td>loss</td><td>████▅▄▄▃▂▁</td></tr><tr><td>accuracy</td><td>▁▁▁▁▄▅▅▆▇█</td></tr><tr><td>val_loss</td><td>███▇▄▄▄▃▂▁</td></tr><tr><td>val_accuracy</td><td>▁▁▁▂▅▅▅▆▇█</td></tr><tr><td>_runtime</td><td>▁▂▃▃▄▅▆▆▇█</td></tr><tr><td>_timestamp</td><td>▁▂▃▃▄▅▆▆▇█</td></tr><tr><td>_step</td><td>▁▂▃▃▄▅▆▆▇█</td></tr></table><br/>"
            ],
            "text/plain": [
              "<IPython.core.display.HTML object>"
            ]
          },
          "metadata": {
            "tags": []
          }
        },
        {
          "output_type": "display_data",
          "data": {
            "text/html": [
              "Synced 5 W&B file(s), 1 media file(s), 0 artifact file(s) and 1 other file(s)"
            ],
            "text/plain": [
              "<IPython.core.display.HTML object>"
            ]
          },
          "metadata": {
            "tags": []
          }
        },
        {
          "output_type": "display_data",
          "data": {
            "text/html": [
              "\n",
              "                    <br/>Synced <strong style=\"color:#cdcd00\">glad-bee-16</strong>: <a href=\"https://wandb.ai/lucialarraona/RNN-LSTM-GRU-BiLSTM%20Models/runs/25w1e2ab\" target=\"_blank\">https://wandb.ai/lucialarraona/RNN-LSTM-GRU-BiLSTM%20Models/runs/25w1e2ab</a><br/>\n",
              "                "
            ],
            "text/plain": [
              "<IPython.core.display.HTML object>"
            ]
          },
          "metadata": {
            "tags": []
          }
        }
      ]
    },
    {
      "cell_type": "markdown",
      "metadata": {
        "id": "Qp9G6Fqg2CpP"
      },
      "source": [
        "# Modelo Bi-LSTM "
      ]
    },
    {
      "cell_type": "code",
      "metadata": {
        "id": "Em3OJoqI2CpP"
      },
      "source": [
        "X_train = df_train['review_body']\n",
        "X_val= df_valid['review_body']\n",
        "X_test= df_test['review_body']\n",
        "\n",
        "y_train = df_train['product_category_cod']\n",
        "y_val = df_valid['product_category_cod']\n",
        "y_test= df_test['product_category_cod']\n",
        "\n",
        "\n",
        "# Aplicamos pre-procesado \n",
        "t, vocab_size, padded_rev, padded_rev_val, padded_rev_test = preprocess(X_train,X_val,X_test,y_train,y_val,y_test)"
      ],
      "execution_count": null,
      "outputs": []
    },
    {
      "cell_type": "code",
      "metadata": {
        "id": "aIVn3DGh2CpQ"
      },
      "source": [
        "# Creamos matriz de embeddings a partir del vocab de las review_body y los embeddings MUSE,  FULL\n",
        "from numpy import zeros\n",
        "embedding_matrix = zeros((vocab_size,100))\n",
        "for word, i in t.word_index.items():\n",
        "  embedding_vector = word_to_vec_map.get(word)\n",
        "  if embedding_vector is not None:\n",
        "    embedding_matrix[i] = embedding_vector"
      ],
      "execution_count": null,
      "outputs": []
    },
    {
      "cell_type": "code",
      "metadata": {
        "colab": {
          "base_uri": "https://localhost:8080/"
        },
        "id": "ZFULrR372CpQ",
        "outputId": "59e63492-e091-416a-ea04-e67e75663532"
      },
      "source": [
        "embedding_matrix.shape"
      ],
      "execution_count": null,
      "outputs": [
        {
          "output_type": "execute_result",
          "data": {
            "text/plain": [
              "(48681, 100)"
            ]
          },
          "metadata": {
            "tags": []
          },
          "execution_count": 45
        }
      ]
    },
    {
      "cell_type": "code",
      "metadata": {
        "id": "2h5qVToD2CpS"
      },
      "source": [
        "# Modelo BiLSTM \n",
        "from keras.layers import Bidirectional\n",
        "\n",
        "modelbi = Sequential()\n",
        "embed = Embedding(vocab_size,100,weights = [embedding_matrix], input_length=260,trainable=False)\n",
        "modelbi.add(embed)\n",
        "modelbi.add(Bidirectional(LSTM(128,return_sequences=False)))\n",
        "modelbi.add(Dense(31,activation='softmax'))"
      ],
      "execution_count": null,
      "outputs": []
    },
    {
      "cell_type": "code",
      "metadata": {
        "colab": {
          "base_uri": "https://localhost:8080/"
        },
        "id": "qi9bj7fF2CpS",
        "outputId": "d33d7f68-422b-4713-8752-d3b86370752e"
      },
      "source": [
        "modelbi.summary()"
      ],
      "execution_count": null,
      "outputs": [
        {
          "output_type": "stream",
          "text": [
            "Model: \"sequential_9\"\n",
            "_________________________________________________________________\n",
            "Layer (type)                 Output Shape              Param #   \n",
            "=================================================================\n",
            "embedding_12 (Embedding)     (None, 260, 100)          4868100   \n",
            "_________________________________________________________________\n",
            "bidirectional_2 (Bidirection (None, 256)               234496    \n",
            "_________________________________________________________________\n",
            "dense_23 (Dense)             (None, 31)                7967      \n",
            "=================================================================\n",
            "Total params: 5,110,563\n",
            "Trainable params: 242,463\n",
            "Non-trainable params: 4,868,100\n",
            "_________________________________________________________________\n"
          ],
          "name": "stdout"
        }
      ]
    },
    {
      "cell_type": "code",
      "metadata": {
        "id": "fwFc4ZOq2CpS"
      },
      "source": [
        "modelbi.compile(loss=config.loss_function, optimizer=Adam(learning_rate=config.learning_rate), metrics=['accuracy'])"
      ],
      "execution_count": null,
      "outputs": []
    },
    {
      "cell_type": "code",
      "metadata": {
        "colab": {
          "base_uri": "https://localhost:8080/"
        },
        "id": "NUCh001U2CpT",
        "outputId": "a3daef3c-6053-4e44-b328-3c643f416417"
      },
      "source": [
        "modelbi.fit(padded_rev, y_train, epochs=10, \n",
        "          batch_size= 64, shuffle=True, \n",
        "              validation_data=(padded_rev_val, y_val),\n",
        "          callbacks = [WandbCallback()]\n",
        "          )"
      ],
      "execution_count": null,
      "outputs": [
        {
          "output_type": "stream",
          "text": [
            "Epoch 1/10\n",
            "3125/3125 [==============================] - 97s 30ms/step - loss: 2.5013 - accuracy: 0.2807 - val_loss: 1.9762 - val_accuracy: 0.4316\n",
            "Epoch 2/10\n",
            "3125/3125 [==============================] - 96s 31ms/step - loss: 1.9678 - accuracy: 0.4367 - val_loss: 1.8721 - val_accuracy: 0.4500\n",
            "Epoch 3/10\n",
            "3125/3125 [==============================] - 95s 30ms/step - loss: 1.8296 - accuracy: 0.4708 - val_loss: 1.8303 - val_accuracy: 0.4692\n",
            "Epoch 4/10\n",
            "3125/3125 [==============================] - 96s 31ms/step - loss: 1.7770 - accuracy: 0.4844 - val_loss: 1.7884 - val_accuracy: 0.4832\n",
            "Epoch 5/10\n",
            "3125/3125 [==============================] - 97s 31ms/step - loss: 1.7372 - accuracy: 0.4942 - val_loss: 1.7849 - val_accuracy: 0.4852\n",
            "Epoch 6/10\n",
            "3125/3125 [==============================] - 97s 31ms/step - loss: 1.6917 - accuracy: 0.5067 - val_loss: 1.7790 - val_accuracy: 0.4848\n",
            "Epoch 7/10\n",
            "3125/3125 [==============================] - 96s 31ms/step - loss: 1.6615 - accuracy: 0.5151 - val_loss: 1.7666 - val_accuracy: 0.4828\n",
            "Epoch 8/10\n",
            "3125/3125 [==============================] - 95s 30ms/step - loss: 1.6374 - accuracy: 0.5210 - val_loss: 1.7629 - val_accuracy: 0.4964\n",
            "Epoch 9/10\n",
            "3125/3125 [==============================] - 95s 31ms/step - loss: 1.5983 - accuracy: 0.5311 - val_loss: 1.7683 - val_accuracy: 0.4880\n",
            "Epoch 10/10\n",
            "3125/3125 [==============================] - 95s 30ms/step - loss: 1.5816 - accuracy: 0.5368 - val_loss: 1.7697 - val_accuracy: 0.4876\n"
          ],
          "name": "stdout"
        },
        {
          "output_type": "execute_result",
          "data": {
            "text/plain": [
              "<tensorflow.python.keras.callbacks.History at 0x7f896c4ebe90>"
            ]
          },
          "metadata": {
            "tags": []
          },
          "execution_count": 100
        }
      ]
    },
    {
      "cell_type": "code",
      "metadata": {
        "colab": {
          "base_uri": "https://localhost:8080/",
          "height": 1000
        },
        "id": "S38Mf-Jb2CpT",
        "outputId": "d9c0b47a-d20a-43c4-f2d6-93371d5e1f99"
      },
      "source": [
        "eval_model(modelbi,padded_rev_test,y_test)"
      ],
      "execution_count": null,
      "outputs": [
        {
          "output_type": "stream",
          "text": [
            "40/40 [==============================] - 1s 14ms/step - loss: 1.7374 - accuracy: 0.4976\n"
          ],
          "name": "stdout"
        },
        {
          "output_type": "stream",
          "text": [
            "/usr/local/lib/python3.7/dist-packages/sklearn/metrics/_classification.py:1272: UndefinedMetricWarning: Precision and F-score are ill-defined and being set to 0.0 in labels with no predicted samples. Use `zero_division` parameter to control this behavior.\n",
            "  _warn_prf(average, modifier, msg_start, len(result))\n"
          ],
          "name": "stderr"
        },
        {
          "output_type": "stream",
          "text": [
            "              precision    recall  f1-score   support\n",
            "\n",
            "           0       0.56      0.78      0.65       192\n",
            "           1       0.46      0.46      0.46       100\n",
            "           2       0.41      0.26      0.32        35\n",
            "           3       0.53      0.58      0.56       152\n",
            "           4       0.68      0.46      0.55        54\n",
            "           5       0.60      0.24      0.34        25\n",
            "           6       0.79      0.90      0.84        84\n",
            "           7       0.67      0.57      0.62        21\n",
            "           8       0.37      0.44      0.40       143\n",
            "           9       0.41      0.34      0.37        80\n",
            "          10       0.52      0.39      0.44        31\n",
            "          11       0.52      0.62      0.56        50\n",
            "          12       0.35      0.41      0.38       208\n",
            "          13       0.39      0.40      0.40        89\n",
            "          14       0.00      0.00      0.00        29\n",
            "          15       0.82      0.52      0.64        44\n",
            "          16       0.57      0.62      0.60       128\n",
            "          17       0.43      0.39      0.41        92\n",
            "          18       0.50      0.26      0.34        19\n",
            "          19       0.80      0.33      0.47        12\n",
            "          20       0.35      0.31      0.33        74\n",
            "          21       0.41      0.26      0.32       164\n",
            "          22       0.53      0.49      0.51        68\n",
            "          23       0.00      0.00      0.00         1\n",
            "          24       0.83      0.71      0.76        92\n",
            "          25       0.67      0.47      0.55        72\n",
            "          26       0.45      0.30      0.36       104\n",
            "          27       0.49      0.45      0.47       123\n",
            "          28       0.60      0.19      0.29        16\n",
            "          29       0.50      0.33      0.40         6\n",
            "          30       0.46      0.74      0.56       192\n",
            "\n",
            "    accuracy                           0.50      2500\n",
            "   macro avg       0.51      0.43      0.45      2500\n",
            "weighted avg       0.50      0.50      0.49      2500\n",
            "\n"
          ],
          "name": "stdout"
        },
        {
          "output_type": "display_data",
          "data": {
            "image/png": "[encoded data removed]",
            "text/plain": [
              "<Figure size 2160x1440 with 2 Axes>"
            ]
          },
          "metadata": {
            "tags": [],
            "needs_background": "light"
          }
        }
      ]
    },
    {
      "cell_type": "code",
      "metadata": {
        "id": "wvgquMc2ID6i",
        "colab": {
          "base_uri": "https://localhost:8080/",
          "height": 593,
          "referenced_widgets": [
            "5add6502df8743a2a8670980b584872f",
            "65cabe6414ba4978a14cbed28c96ff8c",
            "b991e209143841b7a93d793b18cc842a",
            "140b66fb538848d78bd77995bfa6b563",
            "86a14c36ed5f49e0b38c49601e77d01e",
            "7d59557c5c744cc7aca93d9a909300f8",
            "b60d6ea7728548f2a38c145907f5f5d6",
            "15b2ab0a7a154f4983cd9d1a66c6c273"
          ]
        },
        "outputId": "2a9a7b3e-66c3-457e-c7d5-10ed03507148"
      },
      "source": [
        "wandb.finish()"
      ],
      "execution_count": null,
      "outputs": [
        {
          "output_type": "display_data",
          "data": {
            "text/html": [
              "<br/>Waiting for W&B process to finish, PID 4467<br/>Program ended successfully."
            ],
            "text/plain": [
              "<IPython.core.display.HTML object>"
            ]
          },
          "metadata": {
            "tags": []
          }
        },
        {
          "output_type": "display_data",
          "data": {
            "application/vnd.jupyter.widget-view+json": {
              "model_id": "5add6502df8743a2a8670980b584872f",
              "version_minor": 0,
              "version_major": 2
            },
            "text/plain": [
              "VBox(children=(Label(value=' 21.39MB of 21.39MB uploaded (0.00MB deduped)\\r'), FloatProgress(value=1.0, max=1.…"
            ]
          },
          "metadata": {
            "tags": []
          }
        },
        {
          "output_type": "display_data",
          "data": {
            "text/html": [
              "Find user logs for this run at: <code>/content/wandb/run-20210330_144721-n5d73aht/logs/debug.log</code>"
            ],
            "text/plain": [
              "<IPython.core.display.HTML object>"
            ]
          },
          "metadata": {
            "tags": []
          }
        },
        {
          "output_type": "display_data",
          "data": {
            "text/html": [
              "Find internal logs for this run at: <code>/content/wandb/run-20210330_144721-n5d73aht/logs/debug-internal.log</code>"
            ],
            "text/plain": [
              "<IPython.core.display.HTML object>"
            ]
          },
          "metadata": {
            "tags": []
          }
        },
        {
          "output_type": "display_data",
          "data": {
            "text/html": [
              "<h3>Run summary:</h3><br/><style>\n",
              "    table.wandb td:nth-child(1) { padding: 0 10px; text-align: right }\n",
              "    </style><table class=\"wandb\">\n",
              "<tr><td>epoch</td><td>9</td></tr><tr><td>loss</td><td>1.59058</td></tr><tr><td>accuracy</td><td>0.5333</td></tr><tr><td>val_loss</td><td>1.76966</td></tr><tr><td>val_accuracy</td><td>0.4876</td></tr><tr><td>_runtime</td><td>963</td></tr><tr><td>_timestamp</td><td>1617116607</td></tr><tr><td>_step</td><td>9</td></tr><tr><td>best_val_loss</td><td>1.76289</td></tr><tr><td>best_epoch</td><td>7</td></tr></table>"
            ],
            "text/plain": [
              "<IPython.core.display.HTML object>"
            ]
          },
          "metadata": {
            "tags": []
          }
        },
        {
          "output_type": "display_data",
          "data": {
            "text/html": [
              "<h3>Run history:</h3><br/><style>\n",
              "    table.wandb td:nth-child(1) { padding: 0 10px; text-align: right }\n",
              "    </style><table class=\"wandb\">\n",
              "<tr><td>epoch</td><td>▁▂▃▃▄▅▆▆▇█</td></tr><tr><td>loss</td><td>█▅▄▃▃▂▂▂▁▁</td></tr><tr><td>accuracy</td><td>▁▅▆▆▆▇▇███</td></tr><tr><td>val_loss</td><td>█▅▃▂▂▂▁▁▁▁</td></tr><tr><td>val_accuracy</td><td>▁▃▅▇▇▇▇█▇▇</td></tr><tr><td>_runtime</td><td>▁▂▃▃▄▅▆▆▇█</td></tr><tr><td>_timestamp</td><td>▁▂▃▃▄▅▆▆▇█</td></tr><tr><td>_step</td><td>▁▂▃▃▄▅▆▆▇█</td></tr></table><br/>"
            ],
            "text/plain": [
              "<IPython.core.display.HTML object>"
            ]
          },
          "metadata": {
            "tags": []
          }
        },
        {
          "output_type": "display_data",
          "data": {
            "text/html": [
              "Synced 5 W&B file(s), 1 media file(s), 0 artifact file(s) and 1 other file(s)"
            ],
            "text/plain": [
              "<IPython.core.display.HTML object>"
            ]
          },
          "metadata": {
            "tags": []
          }
        },
        {
          "output_type": "display_data",
          "data": {
            "text/html": [
              "\n",
              "                    <br/>Synced <strong style=\"color:#cdcd00\">curious-salad-21</strong>: <a href=\"https://wandb.ai/lucialarraona/RNN-LSTM-GRU-BiLSTM%20Models/runs/n5d73aht\" target=\"_blank\">https://wandb.ai/lucialarraona/RNN-LSTM-GRU-BiLSTM%20Models/runs/n5d73aht</a><br/>\n",
              "                "
            ],
            "text/plain": [
              "<IPython.core.display.HTML object>"
            ]
          },
          "metadata": {
            "tags": []
          }
        }
      ]
    },
    {
      "cell_type": "markdown",
      "metadata": {
        "id": "jiG6z-R0SpBZ"
      },
      "source": [
        "# Add Attention Layer \n",
        "- from package imported from github\n"
      ]
    },
    {
      "cell_type": "code",
      "metadata": {
        "id": "x-ZFC5v-Sr1D"
      },
      "source": [
        "X_train = df_train['review_body']\n",
        "X_val= df_valid['review_body']\n",
        "X_test= df_test['review_body']\n",
        "\n",
        "y_train = df_train['star_rating']\n",
        "y_val = df_valid['star_rating']\n",
        "y_test= df_test['star_rating']\n",
        "\n",
        "# Aplicamos pre-procesado \n",
        "t, vocab_size, padded_rev, padded_rev_val, padded_rev_test = preprocess(X_train,X_val,X_test,y_train,y_val,y_test)"
      ],
      "execution_count": null,
      "outputs": []
    },
    {
      "cell_type": "code",
      "metadata": {
        "id": "pTKuzSPOi61O"
      },
      "source": [
        "# Creamos matriz de embeddings a partir del vocab de las review_body y los embeddings MUSE,  FULL\n",
        "from numpy import zeros\n",
        "embedding_matrix = zeros((vocab_size,100))\n",
        "for word, i in t.word_index.items():\n",
        "  embedding_vector = word_to_vec_map.get(word)\n",
        "  if embedding_vector is not None:\n",
        "    embedding_matrix[i] = embedding_vector"
      ],
      "execution_count": null,
      "outputs": []
    },
    {
      "cell_type": "code",
      "metadata": {
        "id": "sF7us3Rfi9J-"
      },
      "source": [
        "# Modelo LSTM \n",
        "from keras.layers import LSTM\n",
        "from attention import Attention\n",
        "\n",
        "model = Sequential()\n",
        "embed = Embedding(vocab_size,100,weights = [embedding_matrix], input_length=260,trainable=False)\n",
        "model.add(embed)\n",
        "model.add(LSTM(128,return_sequences=True))\n",
        "model.add(Attention(32))\n",
        "model.add(Dense(5,activation='softmax'))"
      ],
      "execution_count": null,
      "outputs": []
    },
    {
      "cell_type": "code",
      "metadata": {
        "colab": {
          "base_uri": "https://localhost:8080/"
        },
        "id": "h5J5XasjjKZG",
        "outputId": "7a1b7d43-0181-448c-aad7-e8a6e6df6ca4"
      },
      "source": [
        "model.summary()"
      ],
      "execution_count": null,
      "outputs": [
        {
          "output_type": "stream",
          "text": [
            "Model: \"sequential_1\"\n",
            "_________________________________________________________________\n",
            "Layer (type)                 Output Shape              Param #   \n",
            "=================================================================\n",
            "embedding_1 (Embedding)      (None, 260, 100)          4707100   \n",
            "_________________________________________________________________\n",
            "lstm_1 (LSTM)                (None, 260, 128)          117248    \n",
            "_________________________________________________________________\n",
            "last_hidden_state (Lambda)   (None, 128)               0         \n",
            "_________________________________________________________________\n",
            "attention_score_vec (Dense)  (None, 260, 128)          16384     \n",
            "_________________________________________________________________\n",
            "attention_score (Dot)        (None, 260)               0         \n",
            "_________________________________________________________________\n",
            "attention_weight (Activation (None, 260)               0         \n",
            "_________________________________________________________________\n",
            "context_vector (Dot)         (None, 128)               0         \n",
            "_________________________________________________________________\n",
            "attention_output (Concatenat (None, 256)               0         \n",
            "_________________________________________________________________\n",
            "attention_vector (Dense)     (None, 128)               32768     \n",
            "_________________________________________________________________\n",
            "dense (Dense)                (None, 5)                 645       \n",
            "=================================================================\n",
            "Total params: 4,874,145\n",
            "Trainable params: 167,045\n",
            "Non-trainable params: 4,707,100\n",
            "_________________________________________________________________\n"
          ],
          "name": "stdout"
        }
      ]
    },
    {
      "cell_type": "code",
      "metadata": {
        "id": "G3IJGXdLjZMS"
      },
      "source": [
        "model.compile(loss=\"sparse_categorical_crossentropy\", optimizer=Adam(lr=0.001), metrics=['accuracy'])"
      ],
      "execution_count": null,
      "outputs": []
    },
    {
      "cell_type": "code",
      "metadata": {
        "colab": {
          "base_uri": "https://localhost:8080/"
        },
        "id": "kV5mi0WvjSLs",
        "outputId": "1ba75ce9-1226-4ddf-bf08-ae6148424091"
      },
      "source": [
        "model.fit(padded_rev, y_train, epochs=10, \n",
        "          batch_size= 64, shuffle=True, \n",
        "              validation_data=(padded_rev_val, y_val))"
      ],
      "execution_count": null,
      "outputs": [
        {
          "output_type": "stream",
          "text": [
            "Epoch 1/10\n",
            "3125/3125 [==============================] - 91s 19ms/step - loss: 1.3308 - accuracy: 0.4015 - val_loss: 1.1210 - val_accuracy: 0.5088\n",
            "Epoch 2/10\n",
            "3125/3125 [==============================] - 60s 19ms/step - loss: 1.0954 - accuracy: 0.5227 - val_loss: 1.0793 - val_accuracy: 0.5216\n",
            "Epoch 3/10\n",
            "3125/3125 [==============================] - 61s 19ms/step - loss: 1.0495 - accuracy: 0.5412 - val_loss: 1.0495 - val_accuracy: 0.5456\n",
            "Epoch 4/10\n",
            "3125/3125 [==============================] - 61s 19ms/step - loss: 1.0167 - accuracy: 0.5536 - val_loss: 1.0301 - val_accuracy: 0.5584\n",
            "Epoch 5/10\n",
            "3125/3125 [==============================] - 61s 19ms/step - loss: 0.9906 - accuracy: 0.5645 - val_loss: 1.0218 - val_accuracy: 0.5456\n",
            "Epoch 6/10\n",
            "3125/3125 [==============================] - 61s 19ms/step - loss: 0.9654 - accuracy: 0.5763 - val_loss: 1.0179 - val_accuracy: 0.5604\n",
            "Epoch 7/10\n",
            "3125/3125 [==============================] - 60s 19ms/step - loss: 0.9498 - accuracy: 0.5831 - val_loss: 1.0163 - val_accuracy: 0.5508\n",
            "Epoch 8/10\n",
            "3125/3125 [==============================] - 62s 20ms/step - loss: 0.9329 - accuracy: 0.5893 - val_loss: 1.0071 - val_accuracy: 0.5500\n",
            "Epoch 9/10\n",
            "3125/3125 [==============================] - 61s 19ms/step - loss: 0.9110 - accuracy: 0.5984 - val_loss: 1.0135 - val_accuracy: 0.5532\n",
            "Epoch 10/10\n",
            "3125/3125 [==============================] - 60s 19ms/step - loss: 0.8951 - accuracy: 0.6055 - val_loss: 1.0441 - val_accuracy: 0.5520\n"
          ],
          "name": "stdout"
        },
        {
          "output_type": "execute_result",
          "data": {
            "text/plain": [
              "<tensorflow.python.keras.callbacks.History at 0x7f9d4ab3ec50>"
            ]
          },
          "metadata": {
            "tags": []
          },
          "execution_count": 21
        }
      ]
    },
    {
      "cell_type": "code",
      "metadata": {
        "colab": {
          "base_uri": "https://localhost:8080/",
          "height": 653
        },
        "id": "TfGQW_bWmuWX",
        "outputId": "a639b164-9ed2-4f1d-bbcf-d3a6981a47b2"
      },
      "source": [
        "eval_model(model,padded_rev_test,y_test)"
      ],
      "execution_count": null,
      "outputs": [
        {
          "output_type": "stream",
          "text": [
            "40/40 [==============================] - 0s 10ms/step - loss: 1.0357 - accuracy: 0.5600\n",
            "              precision    recall  f1-score   support\n",
            "\n",
            "           0       0.65      0.65      0.65       480\n",
            "           1       0.48      0.50      0.49       530\n",
            "           2       0.48      0.38      0.42       501\n",
            "           3       0.51      0.47      0.49       479\n",
            "           4       0.64      0.80      0.71       510\n",
            "\n",
            "    accuracy                           0.56      2500\n",
            "   macro avg       0.55      0.56      0.55      2500\n",
            "weighted avg       0.55      0.56      0.55      2500\n",
            "\n"
          ],
          "name": "stdout"
        },
        {
          "output_type": "display_data",
          "data": {
            "image/png": "[encoded data removed]",
            "text/plain": [
              "<Figure size 720x504 with 2 Axes>"
            ]
          },
          "metadata": {
            "tags": []
          }
        }
      ]
    },
    {
      "cell_type": "markdown",
      "metadata": {
        "id": "TN75flQWk7e8"
      },
      "source": [
        "# Custom Attention Layer built on KERAS for LSTM\n",
        "- Based on Bahdanau Attention"
      ]
    },
    {
      "cell_type": "code",
      "metadata": {
        "id": "JzUO1XpenyTB"
      },
      "source": [
        "from keras.layers import Layer\n",
        "import keras.backend as K"
      ],
      "execution_count": null,
      "outputs": []
    },
    {
      "cell_type": "code",
      "metadata": {
        "id": "nQLRJtdUjWQ6"
      },
      "source": [
        "#Banhdanau attention \n",
        "\n",
        "class Attention(Layer):\n",
        "  def __init__(self,**kwargs):\n",
        "        super(Attention,self).__init__(**kwargs)\n",
        "  \n",
        "  # Con la función build definimos los pesos y biases (W y b) \n",
        "  def build(self,input_shape):\n",
        "    self.W = self.add_weight(name= 'attention_weight', shape=(input_shape[-1],1), initializer = 'normal')\n",
        "    self.b = self.add_weight(name= 'attention_bias', shape=(input_shape[1],1), initializer = 'zeros')\n",
        "    super(Attention,self).build(input_shape)\n",
        "\n",
        "  # Con la función call definimos la lógica del mecanismo de atención y devuelve el vector de contexto\n",
        "  def call(self,x): \n",
        "    et = K.squeeze(K.tanh(K.dot(x, self.W) + self.b), axis = -1)\n",
        "    at = K.softmax(et)\n",
        "    at = K.expand_dims(at,axis= -1)\n",
        "    output = x * at\n",
        "    return K.sum(output,axis=1)\n",
        "\n",
        "  def compute_output_shape(self,input_shape):\n",
        "    return(input_shape[0],input_shape[-1])\n",
        "\n",
        "  def get_config(self):\n",
        "    return super(Attention,self).get_config()\n"
      ],
      "execution_count": null,
      "outputs": []
    },
    {
      "cell_type": "code",
      "metadata": {
        "id": "LYit5dORpEgd"
      },
      "source": [
        "modelatt = Sequential()\n",
        "embed = Embedding(vocab_size,100,weights = [embedding_matrix], input_length=260,trainable=False)\n",
        "modelatt.add(embed)\n",
        "modelatt.add(LSTM(128,return_sequences=True))\n",
        "modelatt.add(Attention())\n",
        "modelatt.add(Dense(31,activation='softmax'))"
      ],
      "execution_count": null,
      "outputs": []
    },
    {
      "cell_type": "code",
      "metadata": {
        "colab": {
          "base_uri": "https://localhost:8080/"
        },
        "id": "eJNta7TWqAQW",
        "outputId": "636e01b2-d8cc-4b2f-bc33-bf585c36f574"
      },
      "source": [
        "modelatt.summary()"
      ],
      "execution_count": null,
      "outputs": [
        {
          "output_type": "stream",
          "text": [
            "Model: \"sequential_10\"\n",
            "_________________________________________________________________\n",
            "Layer (type)                 Output Shape              Param #   \n",
            "=================================================================\n",
            "embedding_13 (Embedding)     (None, 260, 100)          4868100   \n",
            "_________________________________________________________________\n",
            "lstm_14 (LSTM)               (None, 260, 128)          117248    \n",
            "_________________________________________________________________\n",
            "attention_5 (Attention)      (None, 128)               388       \n",
            "_________________________________________________________________\n",
            "dense_24 (Dense)             (None, 31)                3999      \n",
            "=================================================================\n",
            "Total params: 4,989,735\n",
            "Trainable params: 121,635\n",
            "Non-trainable params: 4,868,100\n",
            "_________________________________________________________________\n"
          ],
          "name": "stdout"
        }
      ]
    },
    {
      "cell_type": "code",
      "metadata": {
        "id": "h63HsaItqM-o"
      },
      "source": [
        "modelatt.compile(loss=config.loss_function, optimizer=Adam(lr=config.learning_rate), metrics=['accuracy'])"
      ],
      "execution_count": null,
      "outputs": []
    },
    {
      "cell_type": "code",
      "metadata": {
        "colab": {
          "base_uri": "https://localhost:8080/"
        },
        "id": "rJ7AUOvWqUaa",
        "outputId": "3b22e4b2-9e55-4173-8060-734d04a2df10"
      },
      "source": [
        "modelatt.fit(padded_rev, y_train, epochs=10, \n",
        "          batch_size= 64, shuffle=True, \n",
        "              validation_data=(padded_rev_val, y_val),\n",
        "             callbacks = [WandbCallback()]\n",
        "             )"
      ],
      "execution_count": null,
      "outputs": [
        {
          "output_type": "stream",
          "text": [
            "Epoch 1/10\n",
            "3125/3125 [==============================] - 55s 17ms/step - loss: 2.6450 - accuracy: 0.2393 - val_loss: 2.0199 - val_accuracy: 0.4244\n",
            "Epoch 2/10\n",
            "3125/3125 [==============================] - 53s 17ms/step - loss: 1.9504 - accuracy: 0.4376 - val_loss: 1.8904 - val_accuracy: 0.4584\n",
            "Epoch 3/10\n",
            "3125/3125 [==============================] - 53s 17ms/step - loss: 1.8385 - accuracy: 0.4696 - val_loss: 1.8454 - val_accuracy: 0.4680\n",
            "Epoch 4/10\n",
            "3125/3125 [==============================] - 54s 17ms/step - loss: 1.7900 - accuracy: 0.4815 - val_loss: 1.8087 - val_accuracy: 0.4748\n",
            "Epoch 5/10\n",
            "3125/3125 [==============================] - 54s 17ms/step - loss: 1.7424 - accuracy: 0.4944 - val_loss: 1.8118 - val_accuracy: 0.4720\n",
            "Epoch 6/10\n",
            "3125/3125 [==============================] - 53s 17ms/step - loss: 1.7034 - accuracy: 0.5044 - val_loss: 1.7791 - val_accuracy: 0.4780\n",
            "Epoch 7/10\n",
            "3125/3125 [==============================] - 53s 17ms/step - loss: 1.6782 - accuracy: 0.5119 - val_loss: 1.7560 - val_accuracy: 0.4904\n",
            "Epoch 8/10\n",
            "3125/3125 [==============================] - 54s 17ms/step - loss: 1.6473 - accuracy: 0.5197 - val_loss: 1.7551 - val_accuracy: 0.4940\n",
            "Epoch 9/10\n",
            "3125/3125 [==============================] - 54s 17ms/step - loss: 1.6216 - accuracy: 0.5268 - val_loss: 1.7636 - val_accuracy: 0.4920\n",
            "Epoch 10/10\n",
            "3125/3125 [==============================] - 55s 18ms/step - loss: 1.6033 - accuracy: 0.5318 - val_loss: 1.7631 - val_accuracy: 0.4880\n"
          ],
          "name": "stdout"
        },
        {
          "output_type": "execute_result",
          "data": {
            "text/plain": [
              "<tensorflow.python.keras.callbacks.History at 0x7f893a22fed0>"
            ]
          },
          "metadata": {
            "tags": []
          },
          "execution_count": 107
        }
      ]
    },
    {
      "cell_type": "code",
      "metadata": {
        "colab": {
          "base_uri": "https://localhost:8080/",
          "height": 1000
        },
        "id": "tbLZCBvcqVJE",
        "outputId": "31b333cd-52c3-4792-c15e-62ddd980e337"
      },
      "source": [
        "eval_model(modelatt,padded_rev_test,y_test)"
      ],
      "execution_count": null,
      "outputs": [
        {
          "output_type": "stream",
          "text": [
            "40/40 [==============================] - 1s 12ms/step - loss: 1.6921 - accuracy: 0.5060\n"
          ],
          "name": "stdout"
        },
        {
          "output_type": "stream",
          "text": [
            "/usr/local/lib/python3.7/dist-packages/sklearn/metrics/_classification.py:1272: UndefinedMetricWarning: Precision and F-score are ill-defined and being set to 0.0 in labels with no predicted samples. Use `zero_division` parameter to control this behavior.\n",
            "  _warn_prf(average, modifier, msg_start, len(result))\n"
          ],
          "name": "stderr"
        },
        {
          "output_type": "stream",
          "text": [
            "              precision    recall  f1-score   support\n",
            "\n",
            "           0       0.56      0.79      0.66       192\n",
            "           1       0.52      0.50      0.51       100\n",
            "           2       0.45      0.37      0.41        35\n",
            "           3       0.47      0.62      0.54       152\n",
            "           4       0.77      0.37      0.50        54\n",
            "           5       0.56      0.36      0.44        25\n",
            "           6       0.79      0.92      0.85        84\n",
            "           7       0.74      0.67      0.70        21\n",
            "           8       0.44      0.40      0.42       143\n",
            "           9       0.38      0.36      0.37        80\n",
            "          10       0.54      0.42      0.47        31\n",
            "          11       0.52      0.64      0.57        50\n",
            "          12       0.30      0.50      0.38       208\n",
            "          13       0.38      0.39      0.38        89\n",
            "          14       0.00      0.00      0.00        29\n",
            "          15       0.68      0.52      0.59        44\n",
            "          16       0.63      0.62      0.62       128\n",
            "          17       0.62      0.43      0.51        92\n",
            "          18       0.50      0.32      0.39        19\n",
            "          19       0.80      0.33      0.47        12\n",
            "          20       0.50      0.30      0.37        74\n",
            "          21       0.40      0.24      0.30       164\n",
            "          22       0.55      0.43      0.48        68\n",
            "          23       0.00      0.00      0.00         1\n",
            "          24       0.89      0.73      0.80        92\n",
            "          25       0.73      0.50      0.60        72\n",
            "          26       0.58      0.28      0.38       104\n",
            "          27       0.48      0.44      0.46       123\n",
            "          28       0.57      0.25      0.35        16\n",
            "          29       0.67      0.33      0.44         6\n",
            "          30       0.47      0.68      0.56       192\n",
            "\n",
            "    accuracy                           0.51      2500\n",
            "   macro avg       0.53      0.44      0.47      2500\n",
            "weighted avg       0.52      0.51      0.50      2500\n",
            "\n"
          ],
          "name": "stdout"
        },
        {
          "output_type": "display_data",
          "data": {
            "image/png": "[encoded data removed]",
            "text/plain": [
              "<Figure size 2160x1440 with 2 Axes>"
            ]
          },
          "metadata": {
            "tags": [],
            "needs_background": "light"
          }
        }
      ]
    },
    {
      "cell_type": "code",
      "metadata": {
        "colab": {
          "base_uri": "https://localhost:8080/",
          "height": 593,
          "referenced_widgets": [
            "0d647a9d81424ff7a6e9341ee932d315",
            "7e64b999a8164c98af368175a7a24ec7",
            "977edf1e1b9a419ebedb4b1b831adaf8",
            "383f977e185b43cf936c0cc49a4c7654",
            "a581a01f98a2479c892e82e1afeacdd8",
            "9dd15896aee6417b9e8b659d45b56509",
            "e474013873394f66ac146ae1e1e1a0b3",
            "c1a9ab40d5834158b89a348390f3ad70"
          ]
        },
        "id": "egpTpwCNspr1",
        "outputId": "1b80e310-4183-4683-88cd-426592cb44ad"
      },
      "source": [
        "wandb.finish()"
      ],
      "execution_count": null,
      "outputs": [
        {
          "output_type": "display_data",
          "data": {
            "text/html": [
              "<br/>Waiting for W&B process to finish, PID 2075<br/>Program ended successfully."
            ],
            "text/plain": [
              "<IPython.core.display.HTML object>"
            ]
          },
          "metadata": {
            "tags": []
          }
        },
        {
          "output_type": "display_data",
          "data": {
            "application/vnd.jupyter.widget-view+json": {
              "model_id": "0d647a9d81424ff7a6e9341ee932d315",
              "version_major": 2,
              "version_minor": 0
            },
            "text/plain": [
              "VBox(children=(Label(value=' 19.96MB of 19.96MB uploaded (0.00MB deduped)\\r'), FloatProgress(value=1.0, max=1.…"
            ]
          },
          "metadata": {
            "tags": []
          }
        },
        {
          "output_type": "display_data",
          "data": {
            "text/html": [
              "Find user logs for this run at: <code>/content/wandb/run-20210329_210709-2jg1zc0r/logs/debug.log</code>"
            ],
            "text/plain": [
              "<IPython.core.display.HTML object>"
            ]
          },
          "metadata": {
            "tags": []
          }
        },
        {
          "output_type": "display_data",
          "data": {
            "text/html": [
              "Find internal logs for this run at: <code>/content/wandb/run-20210329_210709-2jg1zc0r/logs/debug-internal.log</code>"
            ],
            "text/plain": [
              "<IPython.core.display.HTML object>"
            ]
          },
          "metadata": {
            "tags": []
          }
        },
        {
          "output_type": "display_data",
          "data": {
            "text/html": [
              "<h3>Run summary:</h3><br/><style>\n",
              "    table.wandb td:nth-child(1) { padding: 0 10px; text-align: right }\n",
              "    </style><table class=\"wandb\">\n",
              "<tr><td>epoch</td><td>9</td></tr><tr><td>loss</td><td>0.78962</td></tr><tr><td>accuracy</td><td>0.65527</td></tr><tr><td>val_loss</td><td>0.87515</td></tr><tr><td>val_accuracy</td><td>0.6236</td></tr><tr><td>_runtime</td><td>843</td></tr><tr><td>_timestamp</td><td>1617052876</td></tr><tr><td>_step</td><td>10</td></tr><tr><td>best_val_loss</td><td>0.87195</td></tr><tr><td>best_epoch</td><td>8</td></tr></table>"
            ],
            "text/plain": [
              "<IPython.core.display.HTML object>"
            ]
          },
          "metadata": {
            "tags": []
          }
        },
        {
          "output_type": "display_data",
          "data": {
            "text/html": [
              "<h3>Run history:</h3><br/><style>\n",
              "    table.wandb td:nth-child(1) { padding: 0 10px; text-align: right }\n",
              "    </style><table class=\"wandb\">\n",
              "<tr><td>epoch</td><td>▁▁▂▃▃▄▅▆▆▇█</td></tr><tr><td>loss</td><td>█▇▄▃▃▂▂▂▁▁▁</td></tr><tr><td>accuracy</td><td>▁▂▅▆▆▇▇▇███</td></tr><tr><td>val_loss</td><td>▇▇█▃▂▂▂▂▁▁▁</td></tr><tr><td>val_accuracy</td><td>▁▂▂▇▆▇▇█▇██</td></tr><tr><td>_runtime</td><td>▁▄▄▅▅▆▆▇▇██</td></tr><tr><td>_timestamp</td><td>▁▄▄▅▅▆▆▇▇██</td></tr><tr><td>_step</td><td>▁▂▂▃▄▅▅▆▇▇█</td></tr></table><br/>"
            ],
            "text/plain": [
              "<IPython.core.display.HTML object>"
            ]
          },
          "metadata": {
            "tags": []
          }
        },
        {
          "output_type": "display_data",
          "data": {
            "text/html": [
              "Synced 5 W&B file(s), 2 media file(s), 0 artifact file(s) and 1 other file(s)"
            ],
            "text/plain": [
              "<IPython.core.display.HTML object>"
            ]
          },
          "metadata": {
            "tags": []
          }
        },
        {
          "output_type": "display_data",
          "data": {
            "text/html": [
              "\n",
              "                    <br/>Synced <strong style=\"color:#cdcd00\">sunny-dew-13</strong>: <a href=\"https://wandb.ai/lucialarraona/RNN-LSTM-GRU-BiLSTM%20Models/runs/2jg1zc0r\" target=\"_blank\">https://wandb.ai/lucialarraona/RNN-LSTM-GRU-BiLSTM%20Models/runs/2jg1zc0r</a><br/>\n",
              "                "
            ],
            "text/plain": [
              "<IPython.core.display.HTML object>"
            ]
          },
          "metadata": {
            "tags": []
          }
        }
      ]
    },
    {
      "cell_type": "code",
      "metadata": {
        "id": "0_YIYQE45URg"
      },
      "source": [
        "from keras.layers import Attention"
      ],
      "execution_count": null,
      "outputs": []
    },
    {
      "cell_type": "code",
      "metadata": {
        "id": "E3O2dEIZDGRn"
      },
      "source": [
        ""
      ],
      "execution_count": null,
      "outputs": []
    },
    {
      "cell_type": "markdown",
      "metadata": {
        "id": "UAODlriUiIVJ"
      },
      "source": [
        "#Custom Attention Layer built on KERAS for BiLSTM\n",
        "Hay que concatenar los estados ocultos de las dos RNN y imponer la atención sobre los mismos\n",
        "\n",
        "En este caso en vez de una capa de atención (Hereda de la capa keras.layers) implementamos una nuevo modelo pqueñito (una red nueva) que realiza las operaciones de atención "
      ]
    },
    {
      "cell_type": "code",
      "metadata": {
        "id": "qZeIl7S3iHlf"
      },
      "source": [
        "class Attention(tf.keras.Model):\n",
        "    def __init__(self, units):\n",
        "        super(Attention, self).__init__()\n",
        "        self.W1 = tf.keras.layers.Dense(units)\n",
        "        self.W2 = tf.keras.layers.Dense(units)\n",
        "        self.V = tf.keras.layers.Dense(1)\n",
        "\n",
        "    def call(self, features, hidden):\n",
        "        # hidden shape == (batch_size, hidden size)\n",
        "        # hidden_with_time_axis shape == (batch_size, 1, hidden size)\n",
        "        # we are doing this to perform addition to calculate the score\n",
        "        hidden_with_time_axis = tf.expand_dims(hidden, 1)\n",
        "          \n",
        "        # score shape == (batch_size, max_length, 1)\n",
        "        # we get 1 at the last axis because we are applying score to self.V\n",
        "        # the shape of the tensor before applying self.V is (batch_size, max_length, units)\n",
        "        score = tf.nn.tanh(\n",
        "            self.W1(features) + self.W2(hidden_with_time_axis))\n",
        "        # attention_weights shape == (batch_size, max_length, 1)\n",
        "        attention_weights = tf.nn.softmax(self.V(score), axis=1)\n",
        "          \n",
        "        # context_vector shape after sum == (batch_size, hidden_size)\n",
        "        context_vector = attention_weights * features\n",
        "        context_vector = tf.reduce_sum(context_vector, axis=1)\n",
        "        return context_vector, attention_weights\n"
      ],
      "execution_count": null,
      "outputs": []
    },
    {
      "cell_type": "code",
      "metadata": {
        "id": "ueZEZPo9jwCn"
      },
      "source": [
        "sequence_input = Input(shape=(260,), dtype=\"int32\")\n",
        "embedded_sequences = Embedding(vocab_size,100,weights = [embedding_matrix], input_length=260,trainable=False)(sequence_input)\n",
        "bilstm = Bidirectional(LSTM(128, return_sequences = True), name=\"bi_lstm_0\")(embedded_sequences)\n",
        "\n",
        "# BiLSTM outputs\n",
        "(bilstm, forward_h, forward_c, backward_h, backward_c) = Bidirectional(LSTM(128, return_sequences=True, return_state=True), name=\"bi_lstm_1\")(lstm)\n",
        "\n",
        "state_h = Concatenate()([forward_h, backward_h])\n",
        "state_c = Concatenate()([forward_c, backward_c])\n",
        "context_vector, attention_weights = Attention(10)(lstm, state_h)\n",
        "\n",
        "dense1 = Dense(100, activation=\"relu\")(context_vector)\n",
        "dropout = Dropout(0.3)(dense1)\n",
        "\n",
        "output = Dense(5, activation=\"softmax\")(dropout)\n",
        "  \n",
        "model = keras.Model(inputs=sequence_input, outputs=output)\n"
      ],
      "execution_count": null,
      "outputs": []
    },
    {
      "cell_type": "code",
      "metadata": {
        "colab": {
          "base_uri": "https://localhost:8080/"
        },
        "id": "LILLIydXmljc",
        "outputId": "e600ee5f-26b9-4f39-ad34-f59cb3974ef0"
      },
      "source": [
        "model.summary()"
      ],
      "execution_count": null,
      "outputs": [
        {
          "output_type": "stream",
          "text": [
            "Model: \"model_2\"\n",
            "__________________________________________________________________________________________________\n",
            "Layer (type)                    Output Shape         Param #     Connected to                     \n",
            "==================================================================================================\n",
            "input_3 (InputLayer)            [(None, 260)]        0                                            \n",
            "__________________________________________________________________________________________________\n",
            "embedding_4 (Embedding)         (None, 260, 100)     4707100     input_3[0][0]                    \n",
            "__________________________________________________________________________________________________\n",
            "bi_lstm_0 (Bidirectional)       (None, 260, 256)     234496      embedding_4[0][0]                \n",
            "__________________________________________________________________________________________________\n",
            "bi_lstm_1 (Bidirectional)       [(None, 260, 256), ( 394240      bi_lstm_0[0][0]                  \n",
            "__________________________________________________________________________________________________\n",
            "concatenate_4 (Concatenate)     (None, 256)          0           bi_lstm_1[0][1]                  \n",
            "                                                                 bi_lstm_1[0][3]                  \n",
            "__________________________________________________________________________________________________\n",
            "attention_2 (Attention)         ((None, 256), (None, 5151        bi_lstm_1[0][0]                  \n",
            "                                                                 concatenate_4[0][0]              \n",
            "__________________________________________________________________________________________________\n",
            "dense_14 (Dense)                (None, 100)          25700       attention_2[0][0]                \n",
            "__________________________________________________________________________________________________\n",
            "dropout_2 (Dropout)             (None, 100)          0           dense_14[0][0]                   \n",
            "__________________________________________________________________________________________________\n",
            "dense_15 (Dense)                (None, 5)            505         dropout_2[0][0]                  \n",
            "==================================================================================================\n",
            "Total params: 5,367,192\n",
            "Trainable params: 660,092\n",
            "Non-trainable params: 4,707,100\n",
            "__________________________________________________________________________________________________\n"
          ],
          "name": "stdout"
        }
      ]
    },
    {
      "cell_type": "code",
      "metadata": {
        "colab": {
          "base_uri": "https://localhost:8080/",
          "height": 812
        },
        "id": "v-1dk5GZn07l",
        "outputId": "fee862ea-93bc-49ac-a0dd-63f6e52165bf"
      },
      "source": [
        "keras.utils.plot_model(model, show_shapes=True, dpi=90)"
      ],
      "execution_count": null,
      "outputs": [
        {
          "output_type": "execute_result",
          "data": {
            "image/png": "[encoded data removed]",
            "text/plain": [
              "<IPython.core.display.Image object>"
            ]
          },
          "metadata": {
            "tags": []
          },
          "execution_count": 47
        }
      ]
    },
    {
      "cell_type": "code",
      "metadata": {
        "id": "FkpGzeRYn71g"
      },
      "source": [
        "model.compile(loss='sparse_categorical_crossentropy', optimizer=Adam(lr=0.001), metrics=['accuracy'])"
      ],
      "execution_count": null,
      "outputs": []
    },
    {
      "cell_type": "code",
      "metadata": {
        "id": "c1dZF1BloKey"
      },
      "source": [
        "X_train = df_train['review_body']\n",
        "X_val= df_valid['review_body']\n",
        "X_test= df_test['review_body']\n",
        "\n",
        "y_train = df_train['star_rating']\n",
        "y_val = df_valid['star_rating']\n",
        "y_test= df_test['star_rating']\n",
        "\n",
        "# Aplicamos pre-procesado \n",
        "t, vocab_size, padded_rev, padded_rev_val, padded_rev_test = preprocess(X_train,X_val,X_test,y_train,y_val,y_test)"
      ],
      "execution_count": null,
      "outputs": []
    },
    {
      "cell_type": "code",
      "metadata": {
        "colab": {
          "base_uri": "https://localhost:8080/"
        },
        "id": "hjBU5jngoZXh",
        "outputId": "4f87ae54-37bf-4a7b-f803-db0b165c6340"
      },
      "source": [
        "model.fit(padded_rev, y_train, epochs=10, \n",
        "          batch_size= 64, shuffle=True, \n",
        "              validation_data=(padded_rev_val, y_val))"
      ],
      "execution_count": null,
      "outputs": [
        {
          "output_type": "stream",
          "text": [
            "Epoch 1/10\n",
            "3125/3125 [==============================] - 209s 66ms/step - loss: 1.2817 - accuracy: 0.4286 - val_loss: 1.0931 - val_accuracy: 0.5100\n",
            "Epoch 2/10\n",
            "3125/3125 [==============================] - 205s 66ms/step - loss: 1.0710 - accuracy: 0.5306 - val_loss: 1.0352 - val_accuracy: 0.5384\n",
            "Epoch 3/10\n",
            "3125/3125 [==============================] - 204s 65ms/step - loss: 1.0071 - accuracy: 0.5605 - val_loss: 1.0039 - val_accuracy: 0.5436\n",
            "Epoch 4/10\n",
            "3125/3125 [==============================] - 205s 66ms/step - loss: 0.9736 - accuracy: 0.5737 - val_loss: 0.9896 - val_accuracy: 0.5592\n",
            "Epoch 5/10\n",
            "3125/3125 [==============================] - 204s 65ms/step - loss: 0.9399 - accuracy: 0.5875 - val_loss: 0.9926 - val_accuracy: 0.5556\n",
            "Epoch 6/10\n",
            "3125/3125 [==============================] - 205s 66ms/step - loss: 0.9102 - accuracy: 0.5998 - val_loss: 0.9977 - val_accuracy: 0.5664\n",
            "Epoch 7/10\n",
            "3125/3125 [==============================] - 204s 65ms/step - loss: 0.8788 - accuracy: 0.6137 - val_loss: 0.9940 - val_accuracy: 0.5656\n",
            "Epoch 8/10\n",
            "3125/3125 [==============================] - 206s 66ms/step - loss: 0.8369 - accuracy: 0.6299 - val_loss: 1.0303 - val_accuracy: 0.5516\n",
            "Epoch 9/10\n",
            "3125/3125 [==============================] - 208s 67ms/step - loss: 0.7933 - accuracy: 0.6502 - val_loss: 1.0644 - val_accuracy: 0.5492\n",
            "Epoch 10/10\n",
            "3125/3125 [==============================] - 205s 66ms/step - loss: 0.7409 - accuracy: 0.6712 - val_loss: 1.1148 - val_accuracy: 0.5492\n"
          ],
          "name": "stdout"
        },
        {
          "output_type": "execute_result",
          "data": {
            "text/plain": [
              "<tensorflow.python.keras.callbacks.History at 0x7f8a1a647910>"
            ]
          },
          "metadata": {
            "tags": []
          },
          "execution_count": 50
        }
      ]
    },
    {
      "cell_type": "code",
      "metadata": {
        "colab": {
          "base_uri": "https://localhost:8080/",
          "height": 1000
        },
        "id": "0EN_bnKpo5ME",
        "outputId": "2bd29bf4-127e-4af2-d011-49a2aae9ab4b"
      },
      "source": [
        "eval_model(model,padded_rev_test,y_test) ## NO mejora mucho la bilstm sin atentción "
      ],
      "execution_count": null,
      "outputs": [
        {
          "output_type": "stream",
          "text": [
            "40/40 [==============================] - 1s 29ms/step - loss: 2.0430 - accuracy: 0.5152\n",
            "              precision    recall  f1-score   support\n",
            "\n",
            "           0       0.56      0.67      0.61       480\n",
            "           1       0.47      0.35      0.40       530\n",
            "           2       0.40      0.44      0.42       501\n",
            "           3       0.46      0.44      0.45       479\n",
            "           4       0.67      0.68      0.67       510\n",
            "\n",
            "    accuracy                           0.52      2500\n",
            "   macro avg       0.51      0.52      0.51      2500\n",
            "weighted avg       0.51      0.52      0.51      2500\n",
            "\n"
          ],
          "name": "stdout"
        },
        {
          "output_type": "display_data",
          "data": {
            "image/png": "[encoded data removed]",
            "text/plain": [
              "<Figure size 2160x1440 with 2 Axes>"
            ]
          },
          "metadata": {
            "tags": [],
            "needs_background": "light"
          }
        }
      ]
    },
    {
      "cell_type": "code",
      "metadata": {
        "id": "WAoQ8fd-1AgG"
      },
      "source": [
        ""
      ],
      "execution_count": null,
      "outputs": []
    }
  ]
}