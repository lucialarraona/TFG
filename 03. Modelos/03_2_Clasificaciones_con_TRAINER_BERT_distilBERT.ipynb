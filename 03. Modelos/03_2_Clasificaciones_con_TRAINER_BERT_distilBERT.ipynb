{
 "cells": [
  {
   "cell_type": "markdown",
   "metadata": {
    "id": "IaLnDfGYiW4e"
   },
   "source": [
    "# Librerias"
   ]
  },
  {
   "cell_type": "code",
   "execution_count": 1,
   "metadata": {
    "executionInfo": {
     "elapsed": 2823,
     "status": "ok",
     "timestamp": 1615190055162,
     "user": {
      "displayName": "Lucía LS",
      "photoUrl": "https://lh3.googleusercontent.com/a-/AOh14GgOn57PPOCxvFJnbQAkq7ergm-XXZhjUhX15xdhqQ=s64",
      "userId": "08790667885016852653"
     },
     "user_tz": -60
    },
    "id": "7UFpAiQTiYjx"
   },
   "outputs": [],
   "source": [
    "%%capture \n",
    "!pip install transformers"
   ]
  },
  {
   "cell_type": "code",
   "execution_count": 2,
   "metadata": {
    "executionInfo": {
     "elapsed": 2942,
     "status": "ok",
     "timestamp": 1615190055481,
     "user": {
      "displayName": "Lucía LS",
      "photoUrl": "https://lh3.googleusercontent.com/a-/AOh14GgOn57PPOCxvFJnbQAkq7ergm-XXZhjUhX15xdhqQ=s64",
      "userId": "08790667885016852653"
     },
     "user_tz": -60
    },
    "id": "f35SHFtzimJ-"
   },
   "outputs": [],
   "source": [
    "from sklearn.model_selection import train_test_split\n",
    "import torch"
   ]
  },
  {
   "cell_type": "code",
   "execution_count": 3,
   "metadata": {
    "executionInfo": {
     "elapsed": 2896,
     "status": "ok",
     "timestamp": 1615190055668,
     "user": {
      "displayName": "Lucía LS",
      "photoUrl": "https://lh3.googleusercontent.com/a-/AOh14GgOn57PPOCxvFJnbQAkq7ergm-XXZhjUhX15xdhqQ=s64",
      "userId": "08790667885016852653"
     },
     "user_tz": -60
    },
    "id": "2k0Ohzv4TLPB"
   },
   "outputs": [],
   "source": [
    "import warnings\n",
    "warnings.filterwarnings('ignore')"
   ]
  },
  {
   "cell_type": "code",
   "execution_count": 4,
   "metadata": {
    "executionInfo": {
     "elapsed": 5597,
     "status": "ok",
     "timestamp": 1615190059149,
     "user": {
      "displayName": "Lucía LS",
      "photoUrl": "https://lh3.googleusercontent.com/a-/AOh14GgOn57PPOCxvFJnbQAkq7ergm-XXZhjUhX15xdhqQ=s64",
      "userId": "08790667885016852653"
     },
     "user_tz": -60
    },
    "id": "lrr3DThJmY-4"
   },
   "outputs": [],
   "source": [
    "%%capture\n",
    "!pip install wandb\n",
    "import wandb\n",
    "wandb.login()\n",
    "# api key 64d2528e8d76865170c16bf804e7172bb3780c79"
   ]
  },
  {
   "cell_type": "code",
   "execution_count": 5,
   "metadata": {
    "colab": {
     "base_uri": "https://localhost:8080/"
    },
    "executionInfo": {
     "elapsed": 503,
     "status": "ok",
     "timestamp": 1615190064173,
     "user": {
      "displayName": "Lucía LS",
      "photoUrl": "https://lh3.googleusercontent.com/a-/AOh14GgOn57PPOCxvFJnbQAkq7ergm-XXZhjUhX15xdhqQ=s64",
      "userId": "08790667885016852653"
     },
     "user_tz": -60
    },
    "id": "InIN4Da7mwkk",
    "outputId": "ef5ee86c-5f92-4ab3-8a3b-5d0fda3684d3"
   },
   "outputs": [
    {
     "data": {
      "text/plain": [
       "True"
      ]
     },
     "execution_count": 5,
     "metadata": {},
     "output_type": "execute_result"
    }
   ],
   "source": [
    "wandb.login()"
   ]
  },
  {
   "cell_type": "code",
   "execution_count": 6,
   "metadata": {},
   "outputs": [
    {
     "name": "stdout",
     "output_type": "stream",
     "text": [
      "Mon Apr 19 07:46:56 2021       \n",
      "+-----------------------------------------------------------------------------+\n",
      "| NVIDIA-SMI 460.32.03    Driver Version: 460.32.03    CUDA Version: 11.2     |\n",
      "|-------------------------------+----------------------+----------------------+\n",
      "| GPU  Name        Persistence-M| Bus-Id        Disp.A | Volatile Uncorr. ECC |\n",
      "| Fan  Temp  Perf  Pwr:Usage/Cap|         Memory-Usage | GPU-Util  Compute M. |\n",
      "|                               |                      |               MIG M. |\n",
      "|===============================+======================+======================|\n",
      "|   0  Tesla K80           On   | 00000001:00:00.0 Off |                    0 |\n",
      "| N/A   56C    P0    56W / 149W |   1846MiB / 11441MiB |      0%      Default |\n",
      "|                               |                      |                  N/A |\n",
      "+-------------------------------+----------------------+----------------------+\n",
      "|   1  Tesla K80           On   | 00000002:00:00.0 Off |                    0 |\n",
      "| N/A   42C    P8    34W / 149W |      3MiB / 11441MiB |      0%      Default |\n",
      "|                               |                      |                  N/A |\n",
      "+-------------------------------+----------------------+----------------------+\n",
      "                                                                               \n",
      "+-----------------------------------------------------------------------------+\n",
      "| Processes:                                                                  |\n",
      "|  GPU   GI   CI        PID   Type   Process name                  GPU Memory |\n",
      "|        ID   ID                                                   Usage      |\n",
      "|=============================================================================|\n",
      "|    0   N/A  N/A     73519      C   ...s/py37_pytorch/bin/python     1841MiB |\n",
      "+-----------------------------------------------------------------------------+\n"
     ]
    }
   ],
   "source": [
    "!nvidia-smi"
   ]
  },
  {
   "cell_type": "code",
   "execution_count": 7,
   "metadata": {},
   "outputs": [],
   "source": [
    "import torch\n",
    "torch.cuda.empty_cache()"
   ]
  },
  {
   "cell_type": "markdown",
   "metadata": {
    "id": "fRn0d1SIhD2w"
   },
   "source": [
    "# Carga de datos\n",
    "- incluidas nuevas columnas con concatenacion de review_body y categoria, review_body y titulo\n",
    "- nuevos indices para star rating, de 0-4 en vez de 1-5\n",
    "- numericalizar las categorias de los productos, 31 en total"
   ]
  },
  {
   "cell_type": "code",
   "execution_count": 8,
   "metadata": {
    "executionInfo": {
     "elapsed": 6113,
     "status": "ok",
     "timestamp": 1615190118334,
     "user": {
      "displayName": "Lucía LS",
      "photoUrl": "https://lh3.googleusercontent.com/a-/AOh14GgOn57PPOCxvFJnbQAkq7ergm-XXZhjUhX15xdhqQ=s64",
      "userId": "08790667885016852653"
     },
     "user_tz": -60
    },
    "id": "TSwvSunMhDUm"
   },
   "outputs": [],
   "source": [
    "# Load data\n",
    "import pandas as pd## Función test dato  \n",
    "from sklearn.metrics import confusion_matrix\n",
    "import seaborn as sns\n",
    "import pandas as pd\n",
    "import matplotlib.pyplot as plt\n",
    "from sklearn.metrics import classification_report\n",
    "\n",
    "path1 = \"amazonEN_train.csv\"\n",
    "path2 = \"amazonEN_valid.csv\"\n",
    "path3 = \"amazonEN_test.csv\"\n",
    "df_train = pd.read_csv(path1)\n",
    "df_train = df_train\n",
    "df_valid = pd.read_csv(path2)\n",
    "df_valid = df_valid\n",
    "df_test = pd.read_csv(path3)\n",
    "df_test = df_test"
   ]
  },
  {
   "cell_type": "code",
   "execution_count": 9,
   "metadata": {
    "colab": {
     "base_uri": "https://localhost:8080/",
     "height": 185
    },
    "executionInfo": {
     "elapsed": 6095,
     "status": "ok",
     "timestamp": 1615190118336,
     "user": {
      "displayName": "Lucía LS",
      "photoUrl": "https://lh3.googleusercontent.com/a-/AOh14GgOn57PPOCxvFJnbQAkq7ergm-XXZhjUhX15xdhqQ=s64",
      "userId": "08790667885016852653"
     },
     "user_tz": -60
    },
    "id": "6RQEjf46nZdX",
    "outputId": "e3d34b8c-147d-420d-d510-188e4e615cc1"
   },
   "outputs": [
    {
     "data": {
      "text/html": [
       "<div>\n",
       "<style scoped>\n",
       "    .dataframe tbody tr th:only-of-type {\n",
       "        vertical-align: middle;\n",
       "    }\n",
       "\n",
       "    .dataframe tbody tr th {\n",
       "        vertical-align: top;\n",
       "    }\n",
       "\n",
       "    .dataframe thead th {\n",
       "        text-align: right;\n",
       "    }\n",
       "</style>\n",
       "<table border=\"1\" class=\"dataframe\">\n",
       "  <thead>\n",
       "    <tr style=\"text-align: right;\">\n",
       "      <th></th>\n",
       "      <th>review_id</th>\n",
       "      <th>product_id</th>\n",
       "      <th>reviewer_id</th>\n",
       "      <th>star_rating</th>\n",
       "      <th>review_body</th>\n",
       "      <th>review_title</th>\n",
       "      <th>language</th>\n",
       "      <th>product_category</th>\n",
       "      <th>text_title</th>\n",
       "      <th>text_title_cat</th>\n",
       "      <th>text_cat</th>\n",
       "      <th>product_category_cod</th>\n",
       "    </tr>\n",
       "  </thead>\n",
       "  <tbody>\n",
       "    <tr>\n",
       "      <th>0</th>\n",
       "      <td>en_0953486</td>\n",
       "      <td>product_en_0381770</td>\n",
       "      <td>reviewer_en_0978532</td>\n",
       "      <td>4</td>\n",
       "      <td>Great, great batteries. Arrived on time and pa...</td>\n",
       "      <td>Strip of 10 Fresh Maxell LR1130 Batteries</td>\n",
       "      <td>en</td>\n",
       "      <td>electronics</td>\n",
       "      <td>Strip of 10 Fresh Maxell LR1130 Batteries Grea...</td>\n",
       "      <td>Strip of 10 Fresh Maxell LR1130 Batteries Grea...</td>\n",
       "      <td>Great, great batteries. Arrived on time and pa...</td>\n",
       "      <td>9</td>\n",
       "    </tr>\n",
       "  </tbody>\n",
       "</table>\n",
       "</div>"
      ],
      "text/plain": [
       "    review_id          product_id          reviewer_id  star_rating  \\\n",
       "0  en_0953486  product_en_0381770  reviewer_en_0978532            4   \n",
       "\n",
       "                                         review_body  \\\n",
       "0  Great, great batteries. Arrived on time and pa...   \n",
       "\n",
       "                                review_title language product_category  \\\n",
       "0  Strip of 10 Fresh Maxell LR1130 Batteries       en      electronics   \n",
       "\n",
       "                                          text_title  \\\n",
       "0  Strip of 10 Fresh Maxell LR1130 Batteries Grea...   \n",
       "\n",
       "                                      text_title_cat  \\\n",
       "0  Strip of 10 Fresh Maxell LR1130 Batteries Grea...   \n",
       "\n",
       "                                            text_cat  product_category_cod  \n",
       "0  Great, great batteries. Arrived on time and pa...                     9  "
      ]
     },
     "execution_count": 9,
     "metadata": {},
     "output_type": "execute_result"
    }
   ],
   "source": [
    "df_train.head(1)"
   ]
  },
  {
   "cell_type": "markdown",
   "metadata": {
    "id": "W0BcGi97iOLp"
   },
   "source": [
    "# Carga modelo BERT // distilBERT\n",
    "- incluye tokenizer"
   ]
  },
  {
   "cell_type": "code",
   "execution_count": 10,
   "metadata": {
    "id": "dc7JoaRnh34h"
   },
   "outputs": [],
   "source": [
    "# Bert \n",
    "\n",
    "PRE_TRAINED_MODEL_NAME = 'bert-base-uncased'\n",
    "from transformers import BertModel, BertConfig, BertTokenizer\n",
    "from transformers import BertForSequenceClassification\n",
    "tokenizer = BertTokenizer.from_pretrained(PRE_TRAINED_MODEL_NAME)"
   ]
  },
  {
   "cell_type": "code",
   "execution_count": 10,
   "metadata": {
    "colab": {
     "base_uri": "https://localhost:8080/",
     "height": 66,
     "referenced_widgets": [
      "5c7704c7c37a4908a5c802149e415a78",
      "30f2254dd41b4dc28131b6025d68a380",
      "e3df41fea2ee4c0582ed2fbf2e45fea5",
      "682892970bf54644a1881058bf13bcd9",
      "35ae960383e9451080cd87a5703b3757",
      "c42260f41d9444e0a7c50b1e60d12a8a",
      "dde0016a8b98416e85f870c043b00ce5",
      "047904171e4746a892bb8720d8bc2a5b"
     ]
    },
    "executionInfo": {
     "elapsed": 1496,
     "status": "ok",
     "timestamp": 1615190126057,
     "user": {
      "displayName": "Lucía LS",
      "photoUrl": "https://lh3.googleusercontent.com/a-/AOh14GgOn57PPOCxvFJnbQAkq7ergm-XXZhjUhX15xdhqQ=s64",
      "userId": "08790667885016852653"
     },
     "user_tz": -60
    },
    "id": "YO5IMnhwkGi9",
    "outputId": "b8cbc858-699a-4606-f0d3-a52c8830b143"
   },
   "outputs": [],
   "source": [
    "# DistilBert\n",
    "\n",
    "from transformers import DistilBertTokenizer, DistilBertForSequenceClassification\n",
    "PRE_TRAINED_MODEL_NAME = 'distilbert-base-uncased'\n",
    "tokenizer = DistilBertTokenizer.from_pretrained(PRE_TRAINED_MODEL_NAME)\n"
   ]
  },
  {
   "cell_type": "markdown",
   "metadata": {
    "id": "-2LSsgFij0Xk"
   },
   "source": [
    "# BertForSequenceClassification - RATING\n",
    "- Clasificación Rating a partir de review_body"
   ]
  },
  {
   "cell_type": "code",
   "execution_count": 11,
   "metadata": {
    "colab": {
     "base_uri": "https://localhost:8080/"
    },
    "executionInfo": {
     "elapsed": 539,
     "status": "ok",
     "timestamp": 1615190126351,
     "user": {
      "displayName": "Lucía LS",
      "photoUrl": "https://lh3.googleusercontent.com/a-/AOh14GgOn57PPOCxvFJnbQAkq7ergm-XXZhjUhX15xdhqQ=s64",
      "userId": "08790667885016852653"
     },
     "user_tz": -60
    },
    "id": "YTkq8g1EnIBf",
    "outputId": "6410cc5d-d8ea-41f9-9b69-4f41b3e72a67"
   },
   "outputs": [
    {
     "name": "stdout",
     "output_type": "stream",
     "text": [
      "env: WANDB_PROJECT=RATING CLASSIFICATION BERT\n"
     ]
    }
   ],
   "source": [
    "%env WANDB_PROJECT = RATING CLASSIFICATION BERT"
   ]
  },
  {
   "cell_type": "code",
   "execution_count": 12,
   "metadata": {
    "executionInfo": {
     "elapsed": 736,
     "status": "ok",
     "timestamp": 1615190128504,
     "user": {
      "displayName": "Lucía LS",
      "photoUrl": "https://lh3.googleusercontent.com/a-/AOh14GgOn57PPOCxvFJnbQAkq7ergm-XXZhjUhX15xdhqQ=s64",
      "userId": "08790667885016852653"
     },
     "user_tz": -60
    },
    "id": "K868-ZqRifki"
   },
   "outputs": [],
   "source": [
    "RANDOM_SEED=8\n",
    "MAX_LENGTH=512\n",
    "\n",
    "\n",
    "## CLASES DEL CLASIFICADOR \n",
    "\n",
    "class_names = ['0','1','2','3','4'] "
   ]
  },
  {
   "cell_type": "code",
   "execution_count": 13,
   "metadata": {
    "executionInfo": {
     "elapsed": 172222,
     "status": "ok",
     "timestamp": 1615190300317,
     "user": {
      "displayName": "Lucía LS",
      "photoUrl": "https://lh3.googleusercontent.com/a-/AOh14GgOn57PPOCxvFJnbQAkq7ergm-XXZhjUhX15xdhqQ=s64",
      "userId": "08790667885016852653"
     },
     "user_tz": -60
    },
    "id": "XCYGgZimjMXy"
   },
   "outputs": [],
   "source": [
    "#TOKENIZAMOS LOS DATAFRAMES\n",
    "\n",
    "train_encodings = tokenizer(df_train.review_body.values.tolist(), #truncation=True, padding=True,\n",
    "      add_special_tokens=True,\n",
    "      truncation=True,\n",
    "      max_length=MAX_LENGTH,\n",
    "      return_token_type_ids=False,\n",
    "      pad_to_max_length=True,\n",
    "      return_attention_mask=True,\n",
    "      return_tensors='pt')\n",
    "\n",
    "val_encodings = tokenizer(df_valid.review_body.values.tolist(), #truncation=True, padding=True,\n",
    "      add_special_tokens=True,\n",
    "      truncation=True,\n",
    "      max_length=MAX_LENGTH,\n",
    "      return_token_type_ids=False,\n",
    "      pad_to_max_length=True,\n",
    "      return_attention_mask=True,\n",
    "      return_tensors='pt')\n",
    "\n",
    "test_encodings = tokenizer(df_test.review_body.values.tolist(), #truncation=True, padding=True,\n",
    "      add_special_tokens=True,\n",
    "      truncation=True,\n",
    "      max_length=MAX_LENGTH,\n",
    "      return_token_type_ids=False,\n",
    "      pad_to_max_length=True,\n",
    "      return_attention_mask=True,\n",
    "      return_tensors='pt')"
   ]
  },
  {
   "cell_type": "code",
   "execution_count": 14,
   "metadata": {
    "executionInfo": {
     "elapsed": 169547,
     "status": "ok",
     "timestamp": 1615190300320,
     "user": {
      "displayName": "Lucía LS",
      "photoUrl": "https://lh3.googleusercontent.com/a-/AOh14GgOn57PPOCxvFJnbQAkq7ergm-XXZhjUhX15xdhqQ=s64",
      "userId": "08790667885016852653"
     },
     "user_tz": -60
    },
    "id": "PbZwUznzjbso"
   },
   "outputs": [],
   "source": [
    "class GPReviewDataset(torch.utils.data.Dataset):\n",
    "    def __init__(self, encodings, labels):\n",
    "        self.encodings = encodings\n",
    "        self.labels = labels\n",
    "\n",
    "    def __getitem__(self, idx):\n",
    "        item = {key: torch.tensor(val[idx]) for key, val in self.encodings.items()}\n",
    "        item['labels'] = torch.tensor(self.labels[idx])\n",
    "        return item\n",
    "\n",
    "    def __len__(self):\n",
    "        return len(self.labels)"
   ]
  },
  {
   "cell_type": "code",
   "execution_count": 15,
   "metadata": {
    "executionInfo": {
     "elapsed": 169303,
     "status": "ok",
     "timestamp": 1615190300322,
     "user": {
      "displayName": "Lucía LS",
      "photoUrl": "https://lh3.googleusercontent.com/a-/AOh14GgOn57PPOCxvFJnbQAkq7ergm-XXZhjUhX15xdhqQ=s64",
      "userId": "08790667885016852653"
     },
     "user_tz": -60
    },
    "id": "MQa18Qyojncq"
   },
   "outputs": [],
   "source": [
    "train_labels = df_train.star_rating.values\n",
    "val_labels = df_valid.star_rating.values\n",
    "test_labels = df_test.star_rating.values"
   ]
  },
  {
   "cell_type": "code",
   "execution_count": 16,
   "metadata": {
    "executionInfo": {
     "elapsed": 168876,
     "status": "ok",
     "timestamp": 1615190300323,
     "user": {
      "displayName": "Lucía LS",
      "photoUrl": "https://lh3.googleusercontent.com/a-/AOh14GgOn57PPOCxvFJnbQAkq7ergm-XXZhjUhX15xdhqQ=s64",
      "userId": "08790667885016852653"
     },
     "user_tz": -60
    },
    "id": "sxFmuoDQjoTf"
   },
   "outputs": [],
   "source": [
    "train_data = GPReviewDataset(train_encodings, torch.from_numpy(train_labels))\n",
    "val_data = GPReviewDataset(val_encodings, torch.from_numpy(val_labels))\n",
    "test_data = GPReviewDataset(test_encodings, torch.from_numpy(test_labels))"
   ]
  },
  {
   "cell_type": "code",
   "execution_count": 25,
   "metadata": {
    "colab": {
     "base_uri": "https://localhost:8080/",
     "height": 220,
     "referenced_widgets": [
      "39147fea27d2492f8cbaa64caabb9708",
      "88937cda2b4840f889b21628c58d3fce",
      "3baea76ece56454b8986983c3c2aeac9",
      "74deddc6e9964a8d9b9779a61636cc08",
      "2c69321155644e5e828827b086be21a7",
      "d42b60c25c3c4b758d4b921071c98a0f",
      "f243adabbf524215b36007577b8101a2",
      "0823fa1bb9264685946093f5c918cfaa",
      "0a36e46add3a4e17ac42a5bb83f6176d",
      "dfe146e60a2c49e7b386f05c415d394a",
      "21a32464f7d045a29bd87e3ba02e9ffe",
      "61964896e2df45bf9c236f8002be9212",
      "2fb851bbaf0042b08b140f67c067e044",
      "e159c4e407824bdab9391d1fc1586754",
      "c5850f20fa6b493aa2c729c1147bb4e1",
      "6869d9d2b7844cf3bb1f3600a700bf5f"
     ]
    },
    "executionInfo": {
     "elapsed": 175507,
     "status": "ok",
     "timestamp": 1615190307481,
     "user": {
      "displayName": "Lucía LS",
      "photoUrl": "https://lh3.googleusercontent.com/a-/AOh14GgOn57PPOCxvFJnbQAkq7ergm-XXZhjUhX15xdhqQ=s64",
      "userId": "08790667885016852653"
     },
     "user_tz": -60
    },
    "id": "usFdcdYej3rp",
    "outputId": "d47638c9-0d7a-46c5-bb2a-415d7131824d"
   },
   "outputs": [
    {
     "name": "stderr",
     "output_type": "stream",
     "text": [
      "Some weights of the model checkpoint at bert-base-uncased were not used when initializing BertForSequenceClassification: ['cls.predictions.bias', 'cls.predictions.transform.dense.weight', 'cls.predictions.transform.dense.bias', 'cls.predictions.decoder.weight', 'cls.seq_relationship.weight', 'cls.seq_relationship.bias', 'cls.predictions.transform.LayerNorm.weight', 'cls.predictions.transform.LayerNorm.bias']\n",
      "- This IS expected if you are initializing BertForSequenceClassification from the checkpoint of a model trained on another task or with another architecture (e.g. initializing a BertForSequenceClassification model from a BertForPreTraining model).\n",
      "- This IS NOT expected if you are initializing BertForSequenceClassification from the checkpoint of a model that you expect to be exactly identical (initializing a BertForSequenceClassification model from a BertForSequenceClassification model).\n",
      "Some weights of BertForSequenceClassification were not initialized from the model checkpoint at bert-base-uncased and are newly initialized: ['classifier.weight', 'classifier.bias']\n",
      "You should probably TRAIN this model on a down-stream task to be able to use it for predictions and inference.\n"
     ]
    }
   ],
   "source": [
    "from transformers import BertForSequenceClassification\n",
    "from transformers import DistilBertForSequenceClassification\n",
    "\n",
    "## DEFINIMOS EL MODELO \n",
    "\n",
    "model = BertForSequenceClassification.from_pretrained(\n",
    "    PRE_TRAINED_MODEL_NAME, # Use the 12-layer BERT model, with an uncased vocab.\n",
    "    num_labels = len(class_names), # The number of output labels--2 for binary classification.  si pones num_labels=1 hace MSE LOSS\n",
    "    output_attentions = False, # Whether the model returns attentions weights.\n",
    "    output_hidden_states = False ,# Whether the model returns all hidden-states.   \n",
    "    vocab_size=tokenizer.vocab_size)"
   ]
  },
  {
   "cell_type": "code",
   "execution_count": 26,
   "metadata": {
    "executionInfo": {
     "elapsed": 182172,
     "status": "ok",
     "timestamp": 1615190317621,
     "user": {
      "displayName": "Lucía LS",
      "photoUrl": "https://lh3.googleusercontent.com/a-/AOh14GgOn57PPOCxvFJnbQAkq7ergm-XXZhjUhX15xdhqQ=s64",
      "userId": "08790667885016852653"
     },
     "user_tz": -60
    },
    "id": "exEBcFJzkPGr"
   },
   "outputs": [],
   "source": [
    "device = torch.device(\"cuda:0\" if torch.cuda.is_available() else \"cpu\")\n",
    "model = model.to(device)"
   ]
  },
  {
   "cell_type": "code",
   "execution_count": 27,
   "metadata": {
    "colab": {
     "base_uri": "https://localhost:8080/"
    },
    "executionInfo": {
     "elapsed": 181871,
     "status": "ok",
     "timestamp": 1615190317623,
     "user": {
      "displayName": "Lucía LS",
      "photoUrl": "https://lh3.googleusercontent.com/a-/AOh14GgOn57PPOCxvFJnbQAkq7ergm-XXZhjUhX15xdhqQ=s64",
      "userId": "08790667885016852653"
     },
     "user_tz": -60
    },
    "id": "inO-_JupSqjT",
    "outputId": "e653edc5-d69e-4412-e41b-6dea13c9b5f0"
   },
   "outputs": [
    {
     "data": {
      "text/plain": [
       "device(type='cuda', index=0)"
      ]
     },
     "execution_count": 27,
     "metadata": {},
     "output_type": "execute_result"
    }
   ],
   "source": [
    "device"
   ]
  },
  {
   "cell_type": "markdown",
   "metadata": {
    "id": "nLl7UJW4kb-v"
   },
   "source": [
    "## Training"
   ]
  },
  {
   "cell_type": "code",
   "execution_count": 28,
   "metadata": {
    "executionInfo": {
     "elapsed": 179303,
     "status": "ok",
     "timestamp": 1615190317623,
     "user": {
      "displayName": "Lucía LS",
      "photoUrl": "https://lh3.googleusercontent.com/a-/AOh14GgOn57PPOCxvFJnbQAkq7ergm-XXZhjUhX15xdhqQ=s64",
      "userId": "08790667885016852653"
     },
     "user_tz": -60
    },
    "id": "Xkm45ylGh2O4"
   },
   "outputs": [],
   "source": [
    "from sklearn.metrics import precision_recall_fscore_support\n",
    "from sklearn.metrics import accuracy_score\n",
    "\n",
    "def compute_metrics(pred):\n",
    "    labels = pred.label_ids\n",
    "    preds = pred.predictions.argmax(-1)\n",
    "    precision, recall, f1, _ = precision_recall_fscore_support(labels, preds, average='weighted')\n",
    "    acc = accuracy_score(labels, preds)\n",
    "    return {\n",
    "        'accuracy': acc,\n",
    "        'f1': f1,\n",
    "        'precision': precision,\n",
    "        'recall': recall\n",
    "    }"
   ]
  },
  {
   "cell_type": "code",
   "execution_count": null,
   "metadata": {
    "id": "d_NfVc5DuFIf"
   },
   "outputs": [],
   "source": []
  },
  {
   "cell_type": "code",
   "execution_count": 29,
   "metadata": {
    "colab": {
     "base_uri": "https://localhost:8080/",
     "height": 239
    },
    "id": "7pRmuYoNka_p",
    "outputId": "0f283896-a3b6-4429-ceb9-443624809365"
   },
   "outputs": [
    {
     "data": {
      "text/html": [
       "\n",
       "    <div>\n",
       "        <style>\n",
       "            /* Turns off some styling */\n",
       "            progress {\n",
       "                /* gets rid of default border in Firefox and Opera. */\n",
       "                border: none;\n",
       "                /* Needs to be in here for Safari polyfill so background images work as expected. */\n",
       "                background-size: auto;\n",
       "            }\n",
       "        </style>\n",
       "      \n",
       "      <progress value='37500' max='37500' style='width:300px; height:20px; vertical-align: middle;'></progress>\n",
       "      [37500/37500 20:14:48, Epoch 3/3]\n",
       "    </div>\n",
       "    <table border=\"1\" class=\"dataframe\">\n",
       "  <thead>\n",
       "    <tr style=\"text-align: left;\">\n",
       "      <th>Epoch</th>\n",
       "      <th>Training Loss</th>\n",
       "      <th>Validation Loss</th>\n",
       "      <th>Accuracy</th>\n",
       "      <th>F1</th>\n",
       "      <th>Precision</th>\n",
       "      <th>Recall</th>\n",
       "      <th>Runtime</th>\n",
       "      <th>Samples Per Second</th>\n",
       "    </tr>\n",
       "  </thead>\n",
       "  <tbody>\n",
       "    <tr>\n",
       "      <td>1</td>\n",
       "      <td>0.847400</td>\n",
       "      <td>0.983318</td>\n",
       "      <td>0.575200</td>\n",
       "      <td>0.582777</td>\n",
       "      <td>0.602769</td>\n",
       "      <td>0.575200</td>\n",
       "      <td>95.262000</td>\n",
       "      <td>26.243000</td>\n",
       "    </tr>\n",
       "    <tr>\n",
       "      <td>2</td>\n",
       "      <td>0.794700</td>\n",
       "      <td>0.951746</td>\n",
       "      <td>0.581600</td>\n",
       "      <td>0.579192</td>\n",
       "      <td>0.583168</td>\n",
       "      <td>0.581600</td>\n",
       "      <td>95.661700</td>\n",
       "      <td>26.134000</td>\n",
       "    </tr>\n",
       "    <tr>\n",
       "      <td>3</td>\n",
       "      <td>0.689800</td>\n",
       "      <td>1.021605</td>\n",
       "      <td>0.585200</td>\n",
       "      <td>0.587599</td>\n",
       "      <td>0.591469</td>\n",
       "      <td>0.585200</td>\n",
       "      <td>95.439300</td>\n",
       "      <td>26.195000</td>\n",
       "    </tr>\n",
       "  </tbody>\n",
       "</table><p>"
      ],
      "text/plain": [
       "<IPython.core.display.HTML object>"
      ]
     },
     "metadata": {},
     "output_type": "display_data"
    },
    {
     "data": {
      "text/plain": [
       "TrainOutput(global_step=37500, training_loss=0.8406153692499797, metrics={'train_runtime': 72890.5877, 'train_samples_per_second': 0.514, 'total_flos': 2.01804751872e+17, 'epoch': 3.0, 'init_mem_cpu_alloc_delta': 8192, 'init_mem_gpu_alloc_delta': 0, 'init_mem_cpu_peaked_delta': 0, 'init_mem_gpu_peaked_delta': 0, 'train_mem_cpu_alloc_delta': 228093952, 'train_mem_gpu_alloc_delta': 1840302592, 'train_mem_cpu_peaked_delta': 246857728, 'train_mem_gpu_peaked_delta': 6043361280})"
      ]
     },
     "execution_count": 29,
     "metadata": {},
     "output_type": "execute_result"
    }
   ],
   "source": [
    "model_dir=\"./\"\n",
    "\n",
    "from transformers import Trainer, TrainingArguments\n",
    "\n",
    "training_args = TrainingArguments(\n",
    "    #report_to = 'wandb',\n",
    "    output_dir = model_dir +  'prueba/results',          # output directory\n",
    "    overwrite_output_dir = True,\n",
    "    evaluation_strategy='epoch',\n",
    "    num_train_epochs=3,                                 # total number of training epochs\n",
    "    per_device_train_batch_size=8,                      # batch size per device during training\n",
    "    per_device_eval_batch_size=16,                      # batch size for evaluation\n",
    "    warmup_steps=500,                                   # number of warmup steps for learning rate scheduler\n",
    "    weight_decay=0.01,                                  # strength of weight decay\n",
    "    logging_dir = model_dir +  'prueba/logs',          # directory for storing logs\n",
    "    logging_steps=10,\n",
    "    load_best_model_at_end = True,\n",
    "    metric_for_best_model = 'accuracy',\n",
    "    run_name = 'review_body_vm',     \n",
    ")\n",
    "\n",
    "trainer = Trainer(\n",
    "    model = model,                         # the instantiated 🤗 Transformers model to be trained\n",
    "    args = training_args,                  # training arguments, defined above\n",
    "    train_dataset = train_data,            # training dataset\n",
    "    eval_dataset = val_data,              # evaluation dataset\n",
    "    compute_metrics=compute_metrics            \n",
    ")\n",
    "\n",
    "trainer.train()\n"
   ]
  },
  {
   "cell_type": "markdown",
   "metadata": {
    "id": "ZQqEd8amkgYo"
   },
   "source": [
    "## Evaluation"
   ]
  },
  {
   "cell_type": "code",
   "execution_count": 30,
   "metadata": {
    "colab": {
     "base_uri": "https://localhost:8080/",
     "height": 210
    },
    "executionInfo": {
     "elapsed": 91598,
     "status": "ok",
     "timestamp": 1613522347018,
     "user": {
      "displayName": "Lucía LS",
      "photoUrl": "https://lh3.googleusercontent.com/a-/AOh14GgOn57PPOCxvFJnbQAkq7ergm-XXZhjUhX15xdhqQ=s64",
      "userId": "08790667885016852653"
     },
     "user_tz": -60
    },
    "id": "s_SB4_Fokf96",
    "outputId": "85bc8979-6b6c-4306-cb1e-877b1911f580"
   },
   "outputs": [
    {
     "data": {
      "text/html": [
       "\n",
       "    <div>\n",
       "        <style>\n",
       "            /* Turns off some styling */\n",
       "            progress {\n",
       "                /* gets rid of default border in Firefox and Opera. */\n",
       "                border: none;\n",
       "                /* Needs to be in here for Safari polyfill so background images work as expected. */\n",
       "                background-size: auto;\n",
       "            }\n",
       "        </style>\n",
       "      \n",
       "      <progress value='158' max='79' style='width:300px; height:20px; vertical-align: middle;'></progress>\n",
       "      [79/79 15:06]\n",
       "    </div>\n",
       "    "
      ],
      "text/plain": [
       "<IPython.core.display.HTML object>"
      ]
     },
     "metadata": {},
     "output_type": "display_data"
    },
    {
     "data": {
      "text/plain": [
       "{'eval_loss': 1.0216052532196045,\n",
       " 'eval_accuracy': 0.5852,\n",
       " 'eval_f1': 0.5875991225638202,\n",
       " 'eval_precision': 0.5914692585317319,\n",
       " 'eval_recall': 0.5852,\n",
       " 'eval_runtime': 95.5072,\n",
       " 'eval_samples_per_second': 26.176,\n",
       " 'epoch': 3.0,\n",
       " 'eval_mem_cpu_alloc_delta': 0,\n",
       " 'eval_mem_gpu_alloc_delta': 0,\n",
       " 'eval_mem_cpu_peaked_delta': 36864,\n",
       " 'eval_mem_gpu_peaked_delta': 579257344}"
      ]
     },
     "execution_count": 30,
     "metadata": {},
     "output_type": "execute_result"
    }
   ],
   "source": [
    "trainer.evaluate()"
   ]
  },
  {
   "cell_type": "markdown",
   "metadata": {
    "id": "6Z6LppM4kleF"
   },
   "source": [
    "##Save Model"
   ]
  },
  {
   "cell_type": "code",
   "execution_count": null,
   "metadata": {
    "id": "IhY82pj4E0WI"
   },
   "outputs": [],
   "source": [
    "!ls drive/MyDrive/TFG_1/Modelos_entrenados/"
   ]
  },
  {
   "cell_type": "code",
   "execution_count": 31,
   "metadata": {
    "colab": {
     "base_uri": "https://localhost:8080/"
    },
    "executionInfo": {
     "elapsed": 96672,
     "status": "ok",
     "timestamp": 1613522352125,
     "user": {
      "displayName": "Lucía LS",
      "photoUrl": "https://lh3.googleusercontent.com/a-/AOh14GgOn57PPOCxvFJnbQAkq7ergm-XXZhjUhX15xdhqQ=s64",
      "userId": "08790667885016852653"
     },
     "user_tz": -60
    },
    "id": "7HA1lcbOkqot",
    "outputId": "ee50906c-0d66-4701-ddff-9b04086a5a23"
   },
   "outputs": [
    {
     "data": {
      "text/plain": [
       "('Bert_body/tokenizer_config.json',\n",
       " 'Bert_body/special_tokens_map.json',\n",
       " 'Bert_body/vocab.txt',\n",
       " 'Bert_body/added_tokens.json')"
      ]
     },
     "execution_count": 31,
     "metadata": {},
     "output_type": "execute_result"
    }
   ],
   "source": [
    "# saving the fine tuned model & tokenizer\n",
    "model_path = \"Bert_body\"\n",
    "trainer.save_model(model_path)\n",
    "model.save_pretrained(model_path)\n",
    "tokenizer.save_pretrained(model_path)"
   ]
  },
  {
   "cell_type": "code",
   "execution_count": 32,
   "metadata": {},
   "outputs": [
    {
     "name": "stdout",
     "output_type": "stream",
     "text": [
      "              precision    recall  f1-score   support\n",
      "\n",
      "           0       0.66      0.68      0.67       480\n",
      "           1       0.50      0.52      0.51       530\n",
      "           2       0.51      0.49      0.50       501\n",
      "           3       0.58      0.56      0.57       479\n",
      "           4       0.75      0.78      0.76       510\n",
      "\n",
      "    accuracy                           0.60      2500\n",
      "   macro avg       0.60      0.60      0.60      2500\n",
      "weighted avg       0.60      0.60      0.60      2500\n",
      "\n",
      "{'test_loss': 0.9931801557540894, 'test_accuracy': 0.6032, 'test_f1': 0.6019477601297686, 'test_precision': 0.6011572089005479, 'test_recall': 0.6032, 'test_runtime': 94.9734, 'test_samples_per_second': 26.323, 'test_mem_cpu_alloc_delta': 983040, 'test_mem_gpu_alloc_delta': 0, 'test_mem_cpu_peaked_delta': 0, 'test_mem_gpu_peaked_delta': 579257344}\n"
     ]
    },
    {
     "data": {
      "image/png": "[encoded data removed]",
      "text/plain": [
       "<Figure size 720x504 with 2 Axes>"
      ]
     },
     "metadata": {
      "needs_background": "light"
     },
     "output_type": "display_data"
    }
   ],
   "source": [
    "## Función test dato  \n",
    "from sklearn.metrics import confusion_matrix\n",
    "import seaborn as sns\n",
    "import pandas as pd\n",
    "import matplotlib.pyplot as plt\n",
    "from sklearn.metrics import classification_report\n",
    "\n",
    "\n",
    "predictions,labels, metrics = trainer.predict(test_data)  \n",
    "\n",
    "# MATRIZ DE CONFUSION\n",
    "matrix = confusion_matrix(labels, predictions.argmax(axis=1))\n",
    "\n",
    "plt.figure(figsize = (10,7))\n",
    "## Confusion matrix with counts\n",
    "sns.heatmap(matrix, annot=True,cmap='Purples',fmt='g')\n",
    "\n",
    "#sns.heatmap(matrix/np.sum(matrix), annot=True, \n",
    "#          fmt='.2%', cmap='Oranges')\n",
    "plt.xlabel(\"Predicted class\")\n",
    "plt.ylabel(\"True class\") \n",
    "\n",
    "clas_report = classification_report(labels, predictions.argmax(axis=1))\n",
    "\n",
    "print(clas_report)\n",
    "print(metrics)"
   ]
  },
  {
   "cell_type": "markdown",
   "metadata": {
    "id": "oIP3b3vfmofI"
   },
   "source": [
    "# BertForSequenceClassification - RATING\n",
    "- Clasificación Rating a partir de review_body + titulo"
   ]
  },
  {
   "cell_type": "code",
   "execution_count": 12,
   "metadata": {
    "id": "7eWwkqfenEXU"
   },
   "outputs": [],
   "source": [
    "RANDOM_SEED=8\n",
    "MAX_LENGTH=260\n",
    "\n",
    "\n",
    "## CLASES DEL CLASIFICADOR \n",
    "\n",
    "class_names = ['0','1','2','3','4'] \n",
    "#class_names = ['0','1'] \n",
    "#class_names = ['1']"
   ]
  },
  {
   "cell_type": "code",
   "execution_count": 13,
   "metadata": {
    "id": "72mwnY_NnVF7"
   },
   "outputs": [],
   "source": [
    "#TOKENIZAMOS LOS DATAFRAMES\n",
    "\n",
    "train_encodings = tokenizer(df_train.text_title.values.tolist(), #truncation=True, padding=True,\n",
    "      add_special_tokens=True,\n",
    "      truncation=True,\n",
    "      max_length=MAX_LENGTH,\n",
    "      return_token_type_ids=False,\n",
    "      pad_to_max_length=True,\n",
    "      return_attention_mask=True,\n",
    "      return_tensors='pt')\n",
    "\n",
    "val_encodings = tokenizer(df_valid.text_title.values.tolist(), #truncation=True, padding=True,\n",
    "      add_special_tokens=True,\n",
    "      truncation=True,\n",
    "      max_length=MAX_LENGTH,\n",
    "      return_token_type_ids=False,\n",
    "      pad_to_max_length=True,\n",
    "      return_attention_mask=True,\n",
    "      return_tensors='pt')\n",
    "\n",
    "test_encodings = tokenizer(df_test.text_title.values.tolist(), #truncation=True, padding=True,\n",
    "      add_special_tokens=True,\n",
    "      truncation=True,\n",
    "      max_length=MAX_LENGTH,\n",
    "      return_token_type_ids=False,\n",
    "      pad_to_max_length=True,\n",
    "      return_attention_mask=True,\n",
    "      return_tensors='pt')"
   ]
  },
  {
   "cell_type": "code",
   "execution_count": 14,
   "metadata": {
    "id": "RWF8igOLpDaC"
   },
   "outputs": [],
   "source": [
    "class GPReviewDataset(torch.utils.data.Dataset):\n",
    "    def __init__(self, encodings, labels):\n",
    "        self.encodings = encodings\n",
    "        self.labels = labels\n",
    "\n",
    "    def __getitem__(self, idx):\n",
    "        item = {key: torch.tensor(val[idx]) for key, val in self.encodings.items()}\n",
    "        item['labels'] = torch.tensor(self.labels[idx])\n",
    "        return item\n",
    "\n",
    "    def __len__(self):\n",
    "        return len(self.labels)"
   ]
  },
  {
   "cell_type": "code",
   "execution_count": 15,
   "metadata": {
    "id": "TEuWipzwpDq2"
   },
   "outputs": [],
   "source": [
    "train_labels = df_train.star_rating.values\n",
    "val_labels = df_valid.star_rating.values\n",
    "test_labels = df_test.star_rating.values"
   ]
  },
  {
   "cell_type": "code",
   "execution_count": 16,
   "metadata": {
    "id": "IQE5cOW_pED6"
   },
   "outputs": [],
   "source": [
    "train_data = GPReviewDataset(train_encodings, torch.from_numpy(train_labels))\n",
    "val_data = GPReviewDataset(val_encodings, torch.from_numpy(val_labels))\n",
    "test_data = GPReviewDataset(test_encodings, torch.from_numpy(test_labels))"
   ]
  },
  {
   "cell_type": "code",
   "execution_count": 17,
   "metadata": {
    "colab": {
     "base_uri": "https://localhost:8080/",
     "height": 220,
     "referenced_widgets": [
      "c1c63c59020545e89bf28d77051962da",
      "e319fde4ee924b31b0f53516d55f32a2",
      "9030d749e7db4be1b68ad7437105d83c",
      "80d5f0d6a0f24d0fa3c285b943c77228",
      "45493d79ce6643cd80c96bc005755c18",
      "d564e5547fc941338d857d0007fc0f20",
      "e9af364b0d254c0fa82159e996d85926",
      "3d57a8a461f042e9b776ac8138cd82d4",
      "5638b4ff4b2244ff8d410415268049cd",
      "6de674d1f0b349a7b12501c52f045143",
      "203eedab4b68430d8573d343c6f22ccb",
      "addaca4c4f22497dae441f2ed48d531f",
      "4293f815970745c5b916c712f0081a07",
      "15fc91a45f46400a8358a36ee9287545",
      "a0c496abcc3142de8cd9d16a8da6d637",
      "b94e8ebc7d854ffaa05af0277325cf96"
     ]
    },
    "executionInfo": {
     "elapsed": 104325,
     "status": "ok",
     "timestamp": 1613552279837,
     "user": {
      "displayName": "Lucía LS",
      "photoUrl": "https://lh3.googleusercontent.com/a-/AOh14GgOn57PPOCxvFJnbQAkq7ergm-XXZhjUhX15xdhqQ=s64",
      "userId": "08790667885016852653"
     },
     "user_tz": -60
    },
    "id": "PV_Bq6tFqlM3",
    "outputId": "244d5484-717f-45db-98e5-b8c6924e32a6"
   },
   "outputs": [
    {
     "name": "stderr",
     "output_type": "stream",
     "text": [
      "Some weights of the model checkpoint at bert-base-uncased were not used when initializing BertForSequenceClassification: ['cls.predictions.bias', 'cls.predictions.transform.dense.weight', 'cls.predictions.transform.dense.bias', 'cls.predictions.decoder.weight', 'cls.seq_relationship.weight', 'cls.seq_relationship.bias', 'cls.predictions.transform.LayerNorm.weight', 'cls.predictions.transform.LayerNorm.bias']\n",
      "- This IS expected if you are initializing BertForSequenceClassification from the checkpoint of a model trained on another task or with another architecture (e.g. initializing a BertForSequenceClassification model from a BertForPreTraining model).\n",
      "- This IS NOT expected if you are initializing BertForSequenceClassification from the checkpoint of a model that you expect to be exactly identical (initializing a BertForSequenceClassification model from a BertForSequenceClassification model).\n",
      "Some weights of BertForSequenceClassification were not initialized from the model checkpoint at bert-base-uncased and are newly initialized: ['classifier.weight', 'classifier.bias']\n",
      "You should probably TRAIN this model on a down-stream task to be able to use it for predictions and inference.\n"
     ]
    }
   ],
   "source": [
    "## Lo definimos de nuevo unicamente con el proposito de usar las secciones del documento de forma independiente \n",
    "\n",
    "model = BertForSequenceClassification.from_pretrained(\n",
    "    PRE_TRAINED_MODEL_NAME, # Use the 12-layer BERT model, with an uncased vocab.\n",
    "    num_labels = len(class_names), # The number of output labels--2 for binary classification.  si pones num_labels=1 hace MSE LOSS\n",
    "    output_attentions = False, # Whether the model returns attentions weights.\n",
    "    output_hidden_states = False ,# Whether the model returns all hidden-states.   \n",
    "    vocab_size=tokenizer.vocab_size)"
   ]
  },
  {
   "cell_type": "code",
   "execution_count": 18,
   "metadata": {
    "id": "9LaJTpnfqmZT"
   },
   "outputs": [],
   "source": [
    "device = torch.device(\"cuda:0\" if torch.cuda.is_available() else \"cpu\")\n",
    "model = model.to(device)"
   ]
  },
  {
   "cell_type": "markdown",
   "metadata": {
    "id": "uIgVakt2qWUB"
   },
   "source": [
    "## Training"
   ]
  },
  {
   "cell_type": "code",
   "execution_count": 19,
   "metadata": {
    "id": "Pz-63_bdNIAu"
   },
   "outputs": [],
   "source": [
    "from sklearn.metrics import precision_recall_fscore_support\n",
    "from sklearn.metrics import accuracy_score\n",
    "\n",
    "def compute_metrics(pred):\n",
    "    labels = pred.label_ids\n",
    "    preds = pred.predictions.argmax(-1)\n",
    "    precision, recall, f1, _ = precision_recall_fscore_support(labels, preds, average='weighted')\n",
    "    acc = accuracy_score(labels, preds)\n",
    "    return {\n",
    "        'accuracy': acc,\n",
    "        'f1': f1,\n",
    "        'precision': precision,\n",
    "        'recall': recall\n",
    "    }"
   ]
  },
  {
   "cell_type": "code",
   "execution_count": null,
   "metadata": {
    "id": "ZeuQCBUPlBNa"
   },
   "outputs": [],
   "source": [
    "!nvidia-smi"
   ]
  },
  {
   "cell_type": "code",
   "execution_count": 20,
   "metadata": {
    "colab": {
     "base_uri": "https://localhost:8080/",
     "height": 177
    },
    "id": "E7voNFqXqEMs",
    "outputId": "31f5214a-fdd3-4a96-c394-06449dc80018"
   },
   "outputs": [
    {
     "name": "stderr",
     "output_type": "stream",
     "text": [
      "\u001b[34m\u001b[1mwandb\u001b[0m: wandb version 0.10.26 is available!  To upgrade, please run:\n",
      "\u001b[34m\u001b[1mwandb\u001b[0m:  $ pip install wandb --upgrade\n"
     ]
    },
    {
     "data": {
      "text/html": [
       "\n",
       "                Tracking run with wandb version 0.10.23<br/>\n",
       "                Syncing run <strong style=\"color:#cdcd00\">review_title + review_body</strong> to <a href=\"https://wandb.ai\" target=\"_blank\">Weights & Biases</a> <a href=\"https://docs.wandb.com/integrations/jupyter.html\" target=\"_blank\">(Documentation)</a>.<br/>\n",
       "                Project page: <a href=\"https://wandb.ai/lucialarraona/RATING%20CLASSIFICATION%20BERT\" target=\"_blank\">https://wandb.ai/lucialarraona/RATING%20CLASSIFICATION%20BERT</a><br/>\n",
       "                Run page: <a href=\"https://wandb.ai/lucialarraona/RATING%20CLASSIFICATION%20BERT/runs/5iygv5uf\" target=\"_blank\">https://wandb.ai/lucialarraona/RATING%20CLASSIFICATION%20BERT/runs/5iygv5uf</a><br/>\n",
       "                Run data is saved locally in <code>/home/nlpbert/notebooks/wandb/run-20210417_165017-5iygv5uf</code><br/><br/>\n",
       "            "
      ],
      "text/plain": [
       "<IPython.core.display.HTML object>"
      ]
     },
     "metadata": {},
     "output_type": "display_data"
    },
    {
     "data": {
      "text/html": [
       "\n",
       "    <div>\n",
       "        <style>\n",
       "            /* Turns off some styling */\n",
       "            progress {\n",
       "                /* gets rid of default border in Firefox and Opera. */\n",
       "                border: none;\n",
       "                /* Needs to be in here for Safari polyfill so background images work as expected. */\n",
       "                background-size: auto;\n",
       "            }\n",
       "        </style>\n",
       "      \n",
       "      <progress value='18750' max='18750' style='width:300px; height:20px; vertical-align: middle;'></progress>\n",
       "      [18750/18750 8:59:07, Epoch 3/3]\n",
       "    </div>\n",
       "    <table border=\"1\" class=\"dataframe\">\n",
       "  <thead>\n",
       "    <tr style=\"text-align: left;\">\n",
       "      <th>Epoch</th>\n",
       "      <th>Training Loss</th>\n",
       "      <th>Validation Loss</th>\n",
       "      <th>Accuracy</th>\n",
       "      <th>F1</th>\n",
       "      <th>Precision</th>\n",
       "      <th>Recall</th>\n",
       "      <th>Runtime</th>\n",
       "      <th>Samples Per Second</th>\n",
       "    </tr>\n",
       "  </thead>\n",
       "  <tbody>\n",
       "    <tr>\n",
       "      <td>1</td>\n",
       "      <td>0.745000</td>\n",
       "      <td>0.802589</td>\n",
       "      <td>0.642400</td>\n",
       "      <td>0.644819</td>\n",
       "      <td>0.662225</td>\n",
       "      <td>0.642400</td>\n",
       "      <td>49.473900</td>\n",
       "      <td>50.532000</td>\n",
       "    </tr>\n",
       "    <tr>\n",
       "      <td>2</td>\n",
       "      <td>0.716300</td>\n",
       "      <td>0.813697</td>\n",
       "      <td>0.650400</td>\n",
       "      <td>0.648424</td>\n",
       "      <td>0.652538</td>\n",
       "      <td>0.650400</td>\n",
       "      <td>49.404800</td>\n",
       "      <td>50.602000</td>\n",
       "    </tr>\n",
       "    <tr>\n",
       "      <td>3</td>\n",
       "      <td>0.537600</td>\n",
       "      <td>0.886456</td>\n",
       "      <td>0.647200</td>\n",
       "      <td>0.648297</td>\n",
       "      <td>0.650304</td>\n",
       "      <td>0.647200</td>\n",
       "      <td>49.364500</td>\n",
       "      <td>50.644000</td>\n",
       "    </tr>\n",
       "  </tbody>\n",
       "</table><p>"
      ],
      "text/plain": [
       "<IPython.core.display.HTML object>"
      ]
     },
     "metadata": {},
     "output_type": "display_data"
    },
    {
     "data": {
      "text/plain": [
       "TrainOutput(global_step=18750, training_loss=0.707719492594401, metrics={'train_runtime': 32351.7656, 'train_samples_per_second': 0.58, 'total_flos': 1.0247897556e+17, 'epoch': 3.0, 'init_mem_cpu_alloc_delta': 0, 'init_mem_gpu_alloc_delta': 0, 'init_mem_cpu_peaked_delta': 0, 'init_mem_gpu_peaked_delta': 0, 'train_mem_cpu_alloc_delta': 876023808, 'train_mem_gpu_alloc_delta': 1794231808, 'train_mem_cpu_peaked_delta': 437395456, 'train_mem_gpu_peaked_delta': 4211624448})"
      ]
     },
     "execution_count": 20,
     "metadata": {},
     "output_type": "execute_result"
    }
   ],
   "source": [
    "model_dir=\"./\"\n",
    "\n",
    "from transformers import Trainer, TrainingArguments\n",
    "\n",
    "training_args = TrainingArguments(\n",
    "    output_dir = model_dir +  'prueba/results',          # output directory\n",
    "    overwrite_output_dir = True,\n",
    "    evaluation_strategy='epoch',\n",
    "    num_train_epochs=3,                                  # total number of training epochs\n",
    "    per_device_train_batch_size=16,                       # batch size per device during training\n",
    "    per_device_eval_batch_size=16,                       # batch size for evaluation\n",
    "    warmup_steps=500,                                    # number of warmup steps for learning rate scheduler\n",
    "    weight_decay=0.01,                                   # strength of weight decay\n",
    "    logging_dir = model_dir +  'prueba/logs',            # directory for storing logs\n",
    "    logging_steps=10,\n",
    "    load_best_model_at_end = True,\n",
    "    metric_for_best_model = 'accuracy',\n",
    "    run_name = 'review_title + review_body', \n",
    ")\n",
    "\n",
    "trainer = Trainer(\n",
    "    model = model,                         # the instantiated 🤗 Transformers model to be trained\n",
    "    args = training_args,                  # training arguments, defined above\n",
    "    train_dataset = train_data,            # training dataset\n",
    "    eval_dataset = val_data,              # evaluation dataset\n",
    "    compute_metrics = compute_metrics             \n",
    ")\n",
    "\n",
    "trainer.train()"
   ]
  },
  {
   "cell_type": "markdown",
   "metadata": {
    "id": "A8Asx8Rmq6Lr"
   },
   "source": [
    "## Evaluation"
   ]
  },
  {
   "cell_type": "code",
   "execution_count": 21,
   "metadata": {
    "id": "2L-JmITUq-pK"
   },
   "outputs": [
    {
     "data": {
      "text/html": [
       "\n",
       "    <div>\n",
       "        <style>\n",
       "            /* Turns off some styling */\n",
       "            progress {\n",
       "                /* gets rid of default border in Firefox and Opera. */\n",
       "                border: none;\n",
       "                /* Needs to be in here for Safari polyfill so background images work as expected. */\n",
       "                background-size: auto;\n",
       "            }\n",
       "        </style>\n",
       "      \n",
       "      <progress value='158' max='79' style='width:300px; height:20px; vertical-align: middle;'></progress>\n",
       "      [79/79 01:38]\n",
       "    </div>\n",
       "    "
      ],
      "text/plain": [
       "<IPython.core.display.HTML object>"
      ]
     },
     "metadata": {},
     "output_type": "display_data"
    },
    {
     "data": {
      "text/plain": [
       "{'eval_loss': 0.813697338104248,\n",
       " 'eval_accuracy': 0.6504,\n",
       " 'eval_f1': 0.6484235248149245,\n",
       " 'eval_precision': 0.6525380603461889,\n",
       " 'eval_recall': 0.6504,\n",
       " 'eval_runtime': 49.3432,\n",
       " 'eval_samples_per_second': 50.666,\n",
       " 'epoch': 3.0,\n",
       " 'eval_mem_cpu_alloc_delta': -95944704,\n",
       " 'eval_mem_gpu_alloc_delta': 0,\n",
       " 'eval_mem_cpu_peaked_delta': 95944704,\n",
       " 'eval_mem_gpu_peaked_delta': 194580480}"
      ]
     },
     "execution_count": 21,
     "metadata": {},
     "output_type": "execute_result"
    }
   ],
   "source": [
    "trainer.evaluate()"
   ]
  },
  {
   "cell_type": "code",
   "execution_count": 22,
   "metadata": {},
   "outputs": [
    {
     "name": "stdout",
     "output_type": "stream",
     "text": [
      "              precision    recall  f1-score   support\n",
      "\n",
      "           0       0.67      0.80      0.73       480\n",
      "           1       0.65      0.51      0.57       530\n",
      "           2       0.57      0.62      0.60       501\n",
      "           3       0.65      0.59      0.62       479\n",
      "           4       0.77      0.80      0.79       510\n",
      "\n",
      "    accuracy                           0.66      2500\n",
      "   macro avg       0.66      0.67      0.66      2500\n",
      "weighted avg       0.66      0.66      0.66      2500\n",
      "\n",
      "{'test_loss': 0.7946434617042542, 'test_accuracy': 0.6648, 'test_f1': 0.6610685741293841, 'test_precision': 0.6645006476402061, 'test_recall': 0.6648, 'test_runtime': 49.4844, 'test_samples_per_second': 50.521, 'test_mem_cpu_alloc_delta': 0, 'test_mem_gpu_alloc_delta': 0, 'test_mem_cpu_peaked_delta': 36864, 'test_mem_gpu_peaked_delta': 194580480}\n"
     ]
    },
    {
     "data": {
      "image/png": "[encoded data removed]",
      "text/plain": [
       "<Figure size 720x504 with 2 Axes>"
      ]
     },
     "metadata": {
      "needs_background": "light"
     },
     "output_type": "display_data"
    }
   ],
   "source": [
    "## Función test dato  \n",
    "from sklearn.metrics import confusion_matrix\n",
    "import seaborn as sns\n",
    "import pandas as pd\n",
    "import matplotlib.pyplot as plt\n",
    "from sklearn.metrics import classification_report\n",
    "\n",
    "\n",
    "predictions,labels, metrics = trainer.predict(test_data)  \n",
    "\n",
    "# MATRIZ DE CONFUSION\n",
    "matrix = confusion_matrix(labels, predictions.argmax(axis=1))\n",
    "\n",
    "plt.figure(figsize = (10,7))\n",
    "## Confusion matrix with counts\n",
    "sns.heatmap(matrix, annot=True,cmap='Purples',fmt='g')\n",
    "\n",
    "#sns.heatmap(matrix/np.sum(matrix), annot=True, \n",
    "#          fmt='.2%', cmap='Oranges')\n",
    "plt.xlabel(\"Predicted class\")\n",
    "plt.ylabel(\"True class\") \n",
    "\n",
    "clas_report = classification_report(labels, predictions.argmax(axis=1))\n",
    "\n",
    "print(clas_report)\n",
    "print(metrics)"
   ]
  },
  {
   "cell_type": "markdown",
   "metadata": {
    "id": "4AU2w-_zrACw"
   },
   "source": [
    "## Save Model"
   ]
  },
  {
   "cell_type": "code",
   "execution_count": null,
   "metadata": {
    "id": "L1saT5KIq_XM"
   },
   "outputs": [],
   "source": [
    "!ls drive/MyDrive/TFG_1/Modelos_entrenados/"
   ]
  },
  {
   "cell_type": "code",
   "execution_count": 23,
   "metadata": {
    "id": "3A8ZS_Dmrla_"
   },
   "outputs": [
    {
     "data": {
      "text/plain": [
       "('BERT_text_title/tokenizer_config.json',\n",
       " 'BERT_text_title/special_tokens_map.json',\n",
       " 'BERT_text_title/vocab.txt',\n",
       " 'BERT_text_title/added_tokens.json')"
      ]
     },
     "execution_count": 23,
     "metadata": {},
     "output_type": "execute_result"
    }
   ],
   "source": [
    "# saving the fine tuned model & tokenizer\n",
    "model_path = \"BERT_text_title\"\n",
    "trainer.save_model(model_path)\n",
    "model.save_pretrained(model_path)\n",
    "tokenizer.save_pretrained(model_path)"
   ]
  },
  {
   "cell_type": "markdown",
   "metadata": {
    "id": "UWlNtsLFm7Le"
   },
   "source": [
    "# BertForSequenceClassification - RATING\n",
    "- Clasificación Rating a partir de review_body + titulo + categoria"
   ]
  },
  {
   "cell_type": "code",
   "execution_count": 12,
   "metadata": {
    "id": "gZWkAaG_m0AA"
   },
   "outputs": [],
   "source": [
    "RANDOM_SEED=8\n",
    "MAX_LENGTH=260\n",
    "\n",
    "\n",
    "## CLASES DEL CLASIFICADOR \n",
    "\n",
    "class_names = ['0','1','2','3','4'] \n",
    "#class_names = ['0','1'] \n",
    "#class_names = ['1']"
   ]
  },
  {
   "cell_type": "code",
   "execution_count": 13,
   "metadata": {
    "id": "Djpzu7zDr_NQ"
   },
   "outputs": [],
   "source": [
    "#TOKENIZAMOS LOS DATAFRAMES\n",
    "\n",
    "train_encodings = tokenizer(df_train.text_title_cat.values.tolist(), #truncation=True, padding=True,\n",
    "      add_special_tokens=True,\n",
    "      truncation=True,\n",
    "      max_length=MAX_LENGTH,\n",
    "      return_token_type_ids=False,\n",
    "      pad_to_max_length=True,\n",
    "      return_attention_mask=True,\n",
    "      return_tensors='pt')\n",
    "\n",
    "val_encodings = tokenizer(df_valid.text_title_cat.values.tolist(), #truncation=True, padding=True,\n",
    "      add_special_tokens=True,\n",
    "      truncation=True,\n",
    "      max_length=MAX_LENGTH,\n",
    "      return_token_type_ids=False,\n",
    "      pad_to_max_length=True,\n",
    "      return_attention_mask=True,\n",
    "      return_tensors='pt')\n",
    "\n",
    "test_encodings = tokenizer(df_test.text_title_cat.values.tolist(), #truncation=True, padding=True,\n",
    "      add_special_tokens=True,\n",
    "      truncation=True,\n",
    "      max_length=MAX_LENGTH,\n",
    "      return_token_type_ids=False,\n",
    "      pad_to_max_length=True,\n",
    "      return_attention_mask=True,\n",
    "      return_tensors='pt')"
   ]
  },
  {
   "cell_type": "code",
   "execution_count": 14,
   "metadata": {
    "id": "Z7JCGgT6sGp_"
   },
   "outputs": [],
   "source": [
    "class GPReviewDataset(torch.utils.data.Dataset):\n",
    "    def __init__(self, encodings, labels):\n",
    "        self.encodings = encodings\n",
    "        self.labels = labels\n",
    "\n",
    "    def __getitem__(self, idx):\n",
    "        item = {key: torch.tensor(val[idx]) for key, val in self.encodings.items()}\n",
    "        item['labels'] = torch.tensor(self.labels[idx])\n",
    "        return item\n",
    "\n",
    "    def __len__(self):\n",
    "        return len(self.labels)"
   ]
  },
  {
   "cell_type": "code",
   "execution_count": 15,
   "metadata": {
    "id": "S4cabtvhsG61"
   },
   "outputs": [],
   "source": [
    "train_labels = df_train.star_rating.values\n",
    "val_labels = df_valid.star_rating.values\n",
    "test_labels = df_test.star_rating.values"
   ]
  },
  {
   "cell_type": "code",
   "execution_count": 16,
   "metadata": {
    "id": "zePdoA_RsHUZ"
   },
   "outputs": [],
   "source": [
    "train_data = GPReviewDataset(train_encodings, torch.from_numpy(train_labels))\n",
    "val_data = GPReviewDataset(val_encodings, torch.from_numpy(val_labels))\n",
    "test_data = GPReviewDataset(test_encodings, torch.from_numpy(test_labels))"
   ]
  },
  {
   "cell_type": "code",
   "execution_count": 17,
   "metadata": {
    "colab": {
     "base_uri": "https://localhost:8080/"
    },
    "executionInfo": {
     "elapsed": 29226,
     "status": "ok",
     "timestamp": 1613038188141,
     "user": {
      "displayName": "lu ls",
      "photoUrl": "",
      "userId": "03605438839658261603"
     },
     "user_tz": -60
    },
    "id": "eaGKqNmKsHdo",
    "outputId": "69390cd6-8077-4161-d4b8-0bed612b9d0a"
   },
   "outputs": [
    {
     "name": "stderr",
     "output_type": "stream",
     "text": [
      "Some weights of the model checkpoint at bert-base-uncased were not used when initializing BertForSequenceClassification: ['cls.predictions.bias', 'cls.predictions.transform.dense.weight', 'cls.predictions.transform.dense.bias', 'cls.predictions.decoder.weight', 'cls.seq_relationship.weight', 'cls.seq_relationship.bias', 'cls.predictions.transform.LayerNorm.weight', 'cls.predictions.transform.LayerNorm.bias']\n",
      "- This IS expected if you are initializing BertForSequenceClassification from the checkpoint of a model trained on another task or with another architecture (e.g. initializing a BertForSequenceClassification model from a BertForPreTraining model).\n",
      "- This IS NOT expected if you are initializing BertForSequenceClassification from the checkpoint of a model that you expect to be exactly identical (initializing a BertForSequenceClassification model from a BertForSequenceClassification model).\n",
      "Some weights of BertForSequenceClassification were not initialized from the model checkpoint at bert-base-uncased and are newly initialized: ['classifier.weight', 'classifier.bias']\n",
      "You should probably TRAIN this model on a down-stream task to be able to use it for predictions and inference.\n"
     ]
    }
   ],
   "source": [
    "model = BertForSequenceClassification.from_pretrained(\n",
    "    PRE_TRAINED_MODEL_NAME, # Use the 12-layer BERT model, with an uncased vocab.\n",
    "    num_labels = len(class_names), # The number of output labels--2 for binary classification.  si pones num_labels=1 hace MSE LOSS\n",
    "    output_attentions = False, # Whether the model returns attentions weights.\n",
    "    output_hidden_states = False ,# Whether the model returns all hidden-states.   \n",
    "    vocab_size=tokenizer.vocab_size)"
   ]
  },
  {
   "cell_type": "code",
   "execution_count": 18,
   "metadata": {
    "id": "QYkVxCGCsSEe"
   },
   "outputs": [],
   "source": [
    "device = torch.device(\"cuda:0\" if torch.cuda.is_available() else \"cpu\")\n",
    "model = model.to(device)"
   ]
  },
  {
   "cell_type": "markdown",
   "metadata": {
    "id": "BjK0hyNJsWKL"
   },
   "source": [
    "## Training"
   ]
  },
  {
   "cell_type": "code",
   "execution_count": 19,
   "metadata": {},
   "outputs": [],
   "source": [
    "from sklearn.metrics import precision_recall_fscore_support\n",
    "from sklearn.metrics import accuracy_score\n",
    "\n",
    "def compute_metrics(pred):\n",
    "    labels = pred.label_ids\n",
    "    preds = pred.predictions.argmax(-1)\n",
    "    precision, recall, f1, _ = precision_recall_fscore_support(labels, preds, average='weighted')\n",
    "    acc = accuracy_score(labels, preds)\n",
    "    return {\n",
    "        'accuracy': acc,\n",
    "        'f1': f1,\n",
    "        'precision': precision,\n",
    "        'recall': recall\n",
    "    }"
   ]
  },
  {
   "cell_type": "code",
   "execution_count": 20,
   "metadata": {
    "colab": {
     "base_uri": "https://localhost:8080/",
     "height": 142
    },
    "executionInfo": {
     "elapsed": 761732,
     "status": "ok",
     "timestamp": 1613038920657,
     "user": {
      "displayName": "lu ls",
      "photoUrl": "",
      "userId": "03605438839658261603"
     },
     "user_tz": -60
    },
    "id": "r9V2p5zssWKL",
    "outputId": "a0bec48c-904a-481d-eede-54b75b94e706"
   },
   "outputs": [
    {
     "name": "stderr",
     "output_type": "stream",
     "text": [
      "\u001b[34m\u001b[1mwandb\u001b[0m: wandb version 0.10.26 is available!  To upgrade, please run:\n",
      "\u001b[34m\u001b[1mwandb\u001b[0m:  $ pip install wandb --upgrade\n"
     ]
    },
    {
     "data": {
      "text/html": [
       "\n",
       "                Tracking run with wandb version 0.10.23<br/>\n",
       "                Syncing run <strong style=\"color:#cdcd00\">review_title + review_body + category</strong> to <a href=\"https://wandb.ai\" target=\"_blank\">Weights & Biases</a> <a href=\"https://docs.wandb.com/integrations/jupyter.html\" target=\"_blank\">(Documentation)</a>.<br/>\n",
       "                Project page: <a href=\"https://wandb.ai/lucialarraona/RATING%20CLASSIFICATION%20BERT\" target=\"_blank\">https://wandb.ai/lucialarraona/RATING%20CLASSIFICATION%20BERT</a><br/>\n",
       "                Run page: <a href=\"https://wandb.ai/lucialarraona/RATING%20CLASSIFICATION%20BERT/runs/3ks6waxu\" target=\"_blank\">https://wandb.ai/lucialarraona/RATING%20CLASSIFICATION%20BERT/runs/3ks6waxu</a><br/>\n",
       "                Run data is saved locally in <code>/home/nlpbert/notebooks/wandb/run-20210418_110454-3ks6waxu</code><br/><br/>\n",
       "            "
      ],
      "text/plain": [
       "<IPython.core.display.HTML object>"
      ]
     },
     "metadata": {},
     "output_type": "display_data"
    },
    {
     "data": {
      "text/html": [
       "\n",
       "    <div>\n",
       "        <style>\n",
       "            /* Turns off some styling */\n",
       "            progress {\n",
       "                /* gets rid of default border in Firefox and Opera. */\n",
       "                border: none;\n",
       "                /* Needs to be in here for Safari polyfill so background images work as expected. */\n",
       "                background-size: auto;\n",
       "            }\n",
       "        </style>\n",
       "      \n",
       "      <progress value='18750' max='18750' style='width:300px; height:20px; vertical-align: middle;'></progress>\n",
       "      [18750/18750 9:00:03, Epoch 3/3]\n",
       "    </div>\n",
       "    <table border=\"1\" class=\"dataframe\">\n",
       "  <thead>\n",
       "    <tr style=\"text-align: left;\">\n",
       "      <th>Epoch</th>\n",
       "      <th>Training Loss</th>\n",
       "      <th>Validation Loss</th>\n",
       "      <th>Accuracy</th>\n",
       "      <th>F1</th>\n",
       "      <th>Precision</th>\n",
       "      <th>Recall</th>\n",
       "      <th>Runtime</th>\n",
       "      <th>Samples Per Second</th>\n",
       "    </tr>\n",
       "  </thead>\n",
       "  <tbody>\n",
       "    <tr>\n",
       "      <td>1</td>\n",
       "      <td>0.751400</td>\n",
       "      <td>0.815784</td>\n",
       "      <td>0.648000</td>\n",
       "      <td>0.651178</td>\n",
       "      <td>0.670135</td>\n",
       "      <td>0.648000</td>\n",
       "      <td>43.846700</td>\n",
       "      <td>57.017000</td>\n",
       "    </tr>\n",
       "    <tr>\n",
       "      <td>2</td>\n",
       "      <td>0.712800</td>\n",
       "      <td>0.808689</td>\n",
       "      <td>0.662000</td>\n",
       "      <td>0.660106</td>\n",
       "      <td>0.664421</td>\n",
       "      <td>0.662000</td>\n",
       "      <td>43.816600</td>\n",
       "      <td>57.056000</td>\n",
       "    </tr>\n",
       "    <tr>\n",
       "      <td>3</td>\n",
       "      <td>0.539000</td>\n",
       "      <td>0.889048</td>\n",
       "      <td>0.646400</td>\n",
       "      <td>0.647658</td>\n",
       "      <td>0.650033</td>\n",
       "      <td>0.646400</td>\n",
       "      <td>43.807900</td>\n",
       "      <td>57.067000</td>\n",
       "    </tr>\n",
       "  </tbody>\n",
       "</table><p>"
      ],
      "text/plain": [
       "<IPython.core.display.HTML object>"
      ]
     },
     "metadata": {},
     "output_type": "display_data"
    },
    {
     "data": {
      "text/plain": [
       "TrainOutput(global_step=18750, training_loss=0.7112088802337646, metrics={'train_runtime': 32407.5154, 'train_samples_per_second': 0.579, 'total_flos': 1.0247897556e+17, 'epoch': 3.0, 'init_mem_cpu_alloc_delta': 0, 'init_mem_gpu_alloc_delta': 0, 'init_mem_cpu_peaked_delta': 0, 'init_mem_gpu_peaked_delta': 0, 'train_mem_cpu_alloc_delta': 1017815040, 'train_mem_gpu_alloc_delta': 1794231808, 'train_mem_cpu_peaked_delta': 295903232, 'train_mem_gpu_peaked_delta': 4211624448})"
      ]
     },
     "execution_count": 20,
     "metadata": {},
     "output_type": "execute_result"
    }
   ],
   "source": [
    "model_dir=\"./\"\n",
    "\n",
    "from transformers import Trainer, TrainingArguments\n",
    "\n",
    "training_args = TrainingArguments(\n",
    "    output_dir = model_dir +  'prueba/results',          # output directory\n",
    "    overwrite_output_dir = True,\n",
    "    evaluation_strategy='epoch',\n",
    "    num_train_epochs=3,                         # total number of training epochs\n",
    "    per_device_train_batch_size=16,              # batch size per device during training\n",
    "    per_device_eval_batch_size=64,              # batch size for evaluation\n",
    "    warmup_steps=500,                           # number of warmup steps for learning rate scheduler\n",
    "    weight_decay=0.01,                          # strength of weight decay\n",
    "    logging_dir = model_dir +  'prueba/logs',   # directory for storing logs\n",
    "    logging_steps=10,\n",
    "    load_best_model_at_end = True,\n",
    "    metric_for_best_model = 'accuracy',\n",
    "    run_name = 'review_title + review_body + category', \n",
    ")\n",
    "\n",
    "trainer = Trainer(\n",
    "    model = model,                         # the instantiated 🤗 Transformers model to be trained\n",
    "    args = training_args,                  # training arguments, defined above\n",
    "    train_dataset = train_data,            # training dataset\n",
    "    eval_dataset = val_data,              # evaluation dataset\n",
    "    compute_metrics = compute_metrics       \n",
    ")\n",
    "\n",
    "trainer.train()"
   ]
  },
  {
   "cell_type": "markdown",
   "metadata": {
    "id": "_iPPNUAtsbr8"
   },
   "source": [
    "## Evaluation"
   ]
  },
  {
   "cell_type": "code",
   "execution_count": 21,
   "metadata": {
    "colab": {
     "base_uri": "https://localhost:8080/",
     "height": 178
    },
    "executionInfo": {
     "elapsed": 779505,
     "status": "ok",
     "timestamp": 1613038938434,
     "user": {
      "displayName": "lu ls",
      "photoUrl": "",
      "userId": "03605438839658261603"
     },
     "user_tz": -60
    },
    "id": "w5eIetv3sbr9",
    "outputId": "38473540-76ec-4af9-d11a-4296ff2c0572"
   },
   "outputs": [
    {
     "data": {
      "text/html": [
       "\n",
       "    <div>\n",
       "        <style>\n",
       "            /* Turns off some styling */\n",
       "            progress {\n",
       "                /* gets rid of default border in Firefox and Opera. */\n",
       "                border: none;\n",
       "                /* Needs to be in here for Safari polyfill so background images work as expected. */\n",
       "                background-size: auto;\n",
       "            }\n",
       "        </style>\n",
       "      \n",
       "      <progress value='40' max='20' style='width:300px; height:20px; vertical-align: middle;'></progress>\n",
       "      [20/20 01:28]\n",
       "    </div>\n",
       "    "
      ],
      "text/plain": [
       "<IPython.core.display.HTML object>"
      ]
     },
     "metadata": {},
     "output_type": "display_data"
    },
    {
     "data": {
      "text/plain": [
       "{'eval_loss': 0.8086891770362854,\n",
       " 'eval_accuracy': 0.662,\n",
       " 'eval_f1': 0.6601057838310194,\n",
       " 'eval_precision': 0.6644205751905636,\n",
       " 'eval_recall': 0.662,\n",
       " 'eval_runtime': 43.3765,\n",
       " 'eval_samples_per_second': 57.635,\n",
       " 'epoch': 3.0,\n",
       " 'eval_mem_cpu_alloc_delta': 0,\n",
       " 'eval_mem_gpu_alloc_delta': 0,\n",
       " 'eval_mem_cpu_peaked_delta': 36864,\n",
       " 'eval_mem_gpu_peaked_delta': 773972480}"
      ]
     },
     "execution_count": 21,
     "metadata": {},
     "output_type": "execute_result"
    }
   ],
   "source": [
    "trainer.evaluate()"
   ]
  },
  {
   "cell_type": "code",
   "execution_count": 22,
   "metadata": {},
   "outputs": [
    {
     "name": "stdout",
     "output_type": "stream",
     "text": [
      "              precision    recall  f1-score   support\n",
      "\n",
      "           0       0.66      0.79      0.72       480\n",
      "           1       0.64      0.50      0.56       530\n",
      "           2       0.58      0.62      0.60       501\n",
      "           3       0.65      0.61      0.63       479\n",
      "           4       0.77      0.80      0.79       510\n",
      "\n",
      "    accuracy                           0.66      2500\n",
      "   macro avg       0.66      0.66      0.66      2500\n",
      "weighted avg       0.66      0.66      0.66      2500\n",
      "\n",
      "{'test_loss': 0.7951874136924744, 'test_accuracy': 0.6608, 'test_f1': 0.6571152580443225, 'test_precision': 0.6600492612159862, 'test_recall': 0.6608, 'test_runtime': 43.47, 'test_samples_per_second': 57.511, 'test_mem_cpu_alloc_delta': 0, 'test_mem_gpu_alloc_delta': 0, 'test_mem_cpu_peaked_delta': 0, 'test_mem_gpu_peaked_delta': 773972480}\n"
     ]
    },
    {
     "data": {
      "image/png": "[encoded data removed]",
      "text/plain": [
       "<Figure size 720x504 with 2 Axes>"
      ]
     },
     "metadata": {
      "needs_background": "light"
     },
     "output_type": "display_data"
    }
   ],
   "source": [
    "## Función test dato  BERT\n",
    "from sklearn.metrics import confusion_matrix\n",
    "import seaborn as sns\n",
    "import pandas as pd\n",
    "import matplotlib.pyplot as plt\n",
    "from sklearn.metrics import classification_report\n",
    "\n",
    "\n",
    "predictions,labels, metrics = trainer.predict(test_data)  \n",
    "\n",
    "# MATRIZ DE CONFUSION\n",
    "matrix = confusion_matrix(labels, predictions.argmax(axis=1))\n",
    "\n",
    "plt.figure(figsize = (10,7))\n",
    "## Confusion matrix with counts\n",
    "sns.heatmap(matrix, annot=True,cmap='Purples',fmt='g')\n",
    "\n",
    "#sns.heatmap(matrix/np.sum(matrix), annot=True, \n",
    "#          fmt='.2%', cmap='Oranges')\n",
    "plt.xlabel(\"Predicted class\")\n",
    "plt.ylabel(\"True class\") \n",
    "\n",
    "clas_report = classification_report(labels, predictions.argmax(axis=1))\n",
    "\n",
    "print(clas_report)\n",
    "print(metrics)"
   ]
  },
  {
   "cell_type": "code",
   "execution_count": 23,
   "metadata": {},
   "outputs": [
    {
     "name": "stdout",
     "output_type": "stream",
     "text": [
      "              precision    recall  f1-score   support\n",
      "\n",
      "           0       0.68      0.76      0.72       480\n",
      "           1       0.58      0.60      0.59       530\n",
      "           2       0.60      0.52      0.55       501\n",
      "           3       0.62      0.60      0.61       479\n",
      "           4       0.77      0.80      0.78       510\n",
      "\n",
      "    accuracy                           0.65      2500\n",
      "   macro avg       0.65      0.65      0.65      2500\n",
      "weighted avg       0.65      0.65      0.65      2500\n",
      "\n",
      "{'test_loss': 0.8567789196968079, 'test_accuracy': 0.6532, 'test_f1': 0.6508041912142799, 'test_precision': 0.6503822513602843, 'test_recall': 0.6532, 'test_runtime': 44.4951, 'test_samples_per_second': 56.186, 'test_mem_cpu_alloc_delta': 552960, 'test_mem_gpu_alloc_delta': 0, 'test_mem_cpu_peaked_delta': 0, 'test_mem_gpu_peaked_delta': 2316416512}\n"
     ]
    },
    {
     "data": {
      "image/png": "[encoded data removed]",
      "text/plain": [
       "<Figure size 720x504 with 2 Axes>"
      ]
     },
     "metadata": {
      "needs_background": "light"
     },
     "output_type": "display_data"
    }
   ],
   "source": [
    "## Función test dato  distilBERT\n",
    "from sklearn.metrics import confusion_matrix\n",
    "import seaborn as sns\n",
    "import pandas as pd\n",
    "import matplotlib.pyplot as plt\n",
    "from sklearn.metrics import classification_report\n",
    "\n",
    "\n",
    "predictions,labels, metrics = trainer.predict(test_data)  \n",
    "\n",
    "# MATRIZ DE CONFUSION\n",
    "matrix = confusion_matrix(labels, predictions.argmax(axis=1))\n",
    "\n",
    "plt.figure(figsize = (10,7))\n",
    "## Confusion matrix with counts\n",
    "sns.heatmap(matrix, annot=True,cmap='Purples',fmt='g')\n",
    "\n",
    "#sns.heatmap(matrix/np.sum(matrix), annot=True, \n",
    "#          fmt='.2%', cmap='Oranges')\n",
    "plt.xlabel(\"Predicted class\")\n",
    "plt.ylabel(\"True class\") \n",
    "\n",
    "clas_report = classification_report(labels, predictions.argmax(axis=1))\n",
    "\n",
    "print(clas_report)\n",
    "print(metrics)"
   ]
  },
  {
   "cell_type": "markdown",
   "metadata": {
    "id": "1gw9jk_6sf3g"
   },
   "source": [
    "## Save Model"
   ]
  },
  {
   "cell_type": "code",
   "execution_count": null,
   "metadata": {
    "colab": {
     "base_uri": "https://localhost:8080/"
    },
    "executionInfo": {
     "elapsed": 779957,
     "status": "ok",
     "timestamp": 1613038938889,
     "user": {
      "displayName": "lu ls",
      "photoUrl": "",
      "userId": "03605438839658261603"
     },
     "user_tz": -60
    },
    "id": "W-BsPtyrsf3g",
    "outputId": "08c69e3b-5022-4b61-d597-5254664353da"
   },
   "outputs": [
    {
     "name": "stdout",
     "output_type": "stream",
     "text": [
      "Rating_text  Rating_text_title\tRating_text_title_cat\n"
     ]
    }
   ],
   "source": [
    "!ls drive/MyDrive/TFG/Modelos_entrenados/"
   ]
  },
  {
   "cell_type": "code",
   "execution_count": 23,
   "metadata": {
    "colab": {
     "base_uri": "https://localhost:8080/"
    },
    "executionInfo": {
     "elapsed": 783982,
     "status": "ok",
     "timestamp": 1613038942917,
     "user": {
      "displayName": "lu ls",
      "photoUrl": "",
      "userId": "03605438839658261603"
     },
     "user_tz": -60
    },
    "id": "caRv1tnWsj9u",
    "outputId": "1a77db06-d387-443b-deba-c197b3184aab"
   },
   "outputs": [
    {
     "data": {
      "text/plain": [
       "('BERT_text_title_cat/tokenizer_config.json',\n",
       " 'BERT_text_title_cat/special_tokens_map.json',\n",
       " 'BERT_text_title_cat/vocab.txt',\n",
       " 'BERT_text_title_cat/added_tokens.json')"
      ]
     },
     "execution_count": 23,
     "metadata": {},
     "output_type": "execute_result"
    }
   ],
   "source": [
    "# saving the fine tuned model & tokenizer\n",
    "model_path = \"BERT_text_title_cat\"\n",
    "trainer.save_model(model_path)\n",
    "model.save_pretrained(model_path)\n",
    "tokenizer.save_pretrained(model_path)"
   ]
  },
  {
   "cell_type": "markdown",
   "metadata": {
    "id": "lYZavFpEtnqi"
   },
   "source": [
    "# BertForSequenceClassification - CATEGORÍA\n",
    "\n",
    "- Clasificación de categorias de productos a partir del review_body"
   ]
  },
  {
   "cell_type": "code",
   "execution_count": 12,
   "metadata": {
    "id": "AKjb-VZytvc7"
   },
   "outputs": [],
   "source": [
    "RANDOM_SEED=8\n",
    "MAX_LENGTH=260\n",
    "\n",
    "\n",
    "## CLASES DEL CLASIFICADOR \n",
    "\n",
    "class_names = df_train.product_category.unique().tolist()"
   ]
  },
  {
   "cell_type": "code",
   "execution_count": 13,
   "metadata": {
    "colab": {
     "base_uri": "https://localhost:8080/"
    },
    "executionInfo": {
     "elapsed": 1562,
     "status": "ok",
     "timestamp": 1613043184006,
     "user": {
      "displayName": "lu ls",
      "photoUrl": "",
      "userId": "03605438839658261603"
     },
     "user_tz": -60
    },
    "id": "hf4Gomj7oTld",
    "outputId": "8ac155ac-aa6d-4b27-9341-aedc5d7ab368"
   },
   "outputs": [
    {
     "data": {
      "text/plain": [
       "31"
      ]
     },
     "execution_count": 13,
     "metadata": {},
     "output_type": "execute_result"
    }
   ],
   "source": [
    "len(class_names)"
   ]
  },
  {
   "cell_type": "code",
   "execution_count": 14,
   "metadata": {
    "id": "6capieK4vwhL"
   },
   "outputs": [],
   "source": [
    "#TOKENIZAMOS LOS DATAFRAMES\n",
    "\n",
    "train_encodings = tokenizer(df_train.review_body.values.tolist(), #truncation=True, padding=True,\n",
    "      add_special_tokens=True,\n",
    "      truncation=True,\n",
    "      max_length=MAX_LENGTH,\n",
    "      return_token_type_ids=False,\n",
    "      pad_to_max_length=True,\n",
    "      return_attention_mask=True,\n",
    "      return_tensors='pt')\n",
    "\n",
    "val_encodings = tokenizer(df_valid.review_body.values.tolist(), #truncation=True, padding=True,\n",
    "      add_special_tokens=True,\n",
    "      truncation=True,\n",
    "      max_length=MAX_LENGTH,\n",
    "      return_token_type_ids=False,\n",
    "      pad_to_max_length=True,\n",
    "      return_attention_mask=True,\n",
    "      return_tensors='pt')\n",
    "\n",
    "test_encodings = tokenizer(df_test.review_body.values.tolist(), #truncation=True, padding=True,\n",
    "      add_special_tokens=True,\n",
    "      truncation=True,\n",
    "      max_length=MAX_LENGTH,\n",
    "      return_token_type_ids=False,\n",
    "      pad_to_max_length=True,\n",
    "      return_attention_mask=True,\n",
    "      return_tensors='pt')"
   ]
  },
  {
   "cell_type": "code",
   "execution_count": 15,
   "metadata": {
    "id": "-6CC3a5Bv0nh"
   },
   "outputs": [],
   "source": [
    "class GPReviewDataset(torch.utils.data.Dataset):\n",
    "    def __init__(self, encodings, labels):\n",
    "        self.encodings = encodings\n",
    "        self.labels = labels\n",
    "\n",
    "    def __getitem__(self, idx):\n",
    "        item = {key: torch.tensor(val[idx]) for key, val in self.encodings.items()}\n",
    "        item['labels'] = torch.tensor(self.labels[idx])\n",
    "        return item\n",
    "\n",
    "    def __len__(self):\n",
    "        return len(self.labels)"
   ]
  },
  {
   "cell_type": "code",
   "execution_count": 16,
   "metadata": {
    "id": "md3llmJzv3qv"
   },
   "outputs": [],
   "source": [
    "train_labels = df_train.product_category_cod.values\n",
    "val_labels = df_valid.product_category_cod.values\n",
    "test_labels = df_test.product_category_cod.values"
   ]
  },
  {
   "cell_type": "code",
   "execution_count": 17,
   "metadata": {
    "id": "ZIj_A7OrwfPi"
   },
   "outputs": [],
   "source": [
    "train_data = GPReviewDataset(train_encodings, torch.from_numpy(train_labels))\n",
    "val_data = GPReviewDataset(val_encodings, torch.from_numpy(val_labels))\n",
    "test_data = GPReviewDataset(test_encodings, torch.from_numpy(test_labels))"
   ]
  },
  {
   "cell_type": "code",
   "execution_count": 18,
   "metadata": {
    "colab": {
     "base_uri": "https://localhost:8080/"
    },
    "executionInfo": {
     "elapsed": 15681,
     "status": "ok",
     "timestamp": 1613043198174,
     "user": {
      "displayName": "lu ls",
      "photoUrl": "",
      "userId": "03605438839658261603"
     },
     "user_tz": -60
    },
    "id": "U1JK8Ir_wqJg",
    "outputId": "d172377b-2eb0-4f60-fd3a-e6ce590267bd"
   },
   "outputs": [
    {
     "name": "stderr",
     "output_type": "stream",
     "text": [
      "Some weights of the model checkpoint at bert-base-uncased were not used when initializing BertForSequenceClassification: ['cls.predictions.bias', 'cls.predictions.transform.dense.weight', 'cls.predictions.transform.dense.bias', 'cls.predictions.decoder.weight', 'cls.seq_relationship.weight', 'cls.seq_relationship.bias', 'cls.predictions.transform.LayerNorm.weight', 'cls.predictions.transform.LayerNorm.bias']\n",
      "- This IS expected if you are initializing BertForSequenceClassification from the checkpoint of a model trained on another task or with another architecture (e.g. initializing a BertForSequenceClassification model from a BertForPreTraining model).\n",
      "- This IS NOT expected if you are initializing BertForSequenceClassification from the checkpoint of a model that you expect to be exactly identical (initializing a BertForSequenceClassification model from a BertForSequenceClassification model).\n",
      "Some weights of BertForSequenceClassification were not initialized from the model checkpoint at bert-base-uncased and are newly initialized: ['classifier.weight', 'classifier.bias']\n",
      "You should probably TRAIN this model on a down-stream task to be able to use it for predictions and inference.\n"
     ]
    }
   ],
   "source": [
    "model = BertForSequenceClassification.from_pretrained(\n",
    "    PRE_TRAINED_MODEL_NAME, # Use the 12-layer BERT model, with an uncased vocab.\n",
    "    num_labels = len(class_names), # The number of output labels--2 for binary classification.  si pones num_labels=1 hace MSE LOSS\n",
    "    output_attentions = False, # Whether the model returns attentions weights.\n",
    "    output_hidden_states = False ,# Whether the model returns all hidden-states.   \n",
    "    vocab_size=tokenizer.vocab_size)"
   ]
  },
  {
   "cell_type": "code",
   "execution_count": 19,
   "metadata": {
    "id": "mDiTBf-qwxLR"
   },
   "outputs": [],
   "source": [
    "device = torch.device(\"cuda:0\" if torch.cuda.is_available() else \"cpu\")\n",
    "model = model.to(device)"
   ]
  },
  {
   "cell_type": "markdown",
   "metadata": {
    "id": "ygQk1htBw1P-"
   },
   "source": [
    "## Training"
   ]
  },
  {
   "cell_type": "code",
   "execution_count": 21,
   "metadata": {},
   "outputs": [],
   "source": [
    "from sklearn.metrics import precision_recall_fscore_support\n",
    "from sklearn.metrics import accuracy_score\n",
    "\n",
    "def compute_metrics(pred):\n",
    "    labels = pred.label_ids\n",
    "    preds = pred.predictions.argmax(-1)\n",
    "    precision, recall, f1, _ = precision_recall_fscore_support(labels, preds, average='weighted')\n",
    "    acc = accuracy_score(labels, preds)\n",
    "    return {\n",
    "        'accuracy': acc,\n",
    "        'f1': f1,\n",
    "        'precision': precision,\n",
    "        'recall': recall\n",
    "    }"
   ]
  },
  {
   "cell_type": "code",
   "execution_count": 22,
   "metadata": {
    "colab": {
     "base_uri": "https://localhost:8080/"
    },
    "executionInfo": {
     "elapsed": 746679,
     "status": "ok",
     "timestamp": 1613043929193,
     "user": {
      "displayName": "lu ls",
      "photoUrl": "",
      "userId": "03605438839658261603"
     },
     "user_tz": -60
    },
    "id": "SfGPC8FGw1P-",
    "outputId": "cf4bb77a-a0bf-4853-df4b-0b2eff734b73"
   },
   "outputs": [
    {
     "name": "stderr",
     "output_type": "stream",
     "text": [
      "\u001b[34m\u001b[1mwandb\u001b[0m: wandb version 0.10.26 is available!  To upgrade, please run:\n",
      "\u001b[34m\u001b[1mwandb\u001b[0m:  $ pip install wandb --upgrade\n"
     ]
    },
    {
     "data": {
      "text/html": [
       "\n",
       "                Tracking run with wandb version 0.10.23<br/>\n",
       "                Syncing run <strong style=\"color:#cdcd00\">review_body - CAT</strong> to <a href=\"https://wandb.ai\" target=\"_blank\">Weights & Biases</a> <a href=\"https://docs.wandb.com/integrations/jupyter.html\" target=\"_blank\">(Documentation)</a>.<br/>\n",
       "                Project page: <a href=\"https://wandb.ai/lucialarraona/RATING%20CLASSIFICATION%20BERT\" target=\"_blank\">https://wandb.ai/lucialarraona/RATING%20CLASSIFICATION%20BERT</a><br/>\n",
       "                Run page: <a href=\"https://wandb.ai/lucialarraona/RATING%20CLASSIFICATION%20BERT/runs/1kajm6n1\" target=\"_blank\">https://wandb.ai/lucialarraona/RATING%20CLASSIFICATION%20BERT/runs/1kajm6n1</a><br/>\n",
       "                Run data is saved locally in <code>/home/nlpbert/notebooks/wandb/run-20210418_222536-1kajm6n1</code><br/><br/>\n",
       "            "
      ],
      "text/plain": [
       "<IPython.core.display.HTML object>"
      ]
     },
     "metadata": {},
     "output_type": "display_data"
    },
    {
     "data": {
      "text/html": [
       "\n",
       "    <div>\n",
       "        <style>\n",
       "            /* Turns off some styling */\n",
       "            progress {\n",
       "                /* gets rid of default border in Firefox and Opera. */\n",
       "                border: none;\n",
       "                /* Needs to be in here for Safari polyfill so background images work as expected. */\n",
       "                background-size: auto;\n",
       "            }\n",
       "        </style>\n",
       "      \n",
       "      <progress value='18750' max='18750' style='width:300px; height:20px; vertical-align: middle;'></progress>\n",
       "      [18750/18750 8:58:00, Epoch 3/3]\n",
       "    </div>\n",
       "    <table border=\"1\" class=\"dataframe\">\n",
       "  <thead>\n",
       "    <tr style=\"text-align: left;\">\n",
       "      <th>Epoch</th>\n",
       "      <th>Training Loss</th>\n",
       "      <th>Validation Loss</th>\n",
       "      <th>Accuracy</th>\n",
       "      <th>F1</th>\n",
       "      <th>Precision</th>\n",
       "      <th>Recall</th>\n",
       "      <th>Runtime</th>\n",
       "      <th>Samples Per Second</th>\n",
       "    </tr>\n",
       "  </thead>\n",
       "  <tbody>\n",
       "    <tr>\n",
       "      <td>1</td>\n",
       "      <td>1.546200</td>\n",
       "      <td>1.638183</td>\n",
       "      <td>0.524400</td>\n",
       "      <td>0.510363</td>\n",
       "      <td>0.525405</td>\n",
       "      <td>0.524400</td>\n",
       "      <td>43.617100</td>\n",
       "      <td>57.317000</td>\n",
       "    </tr>\n",
       "    <tr>\n",
       "      <td>2</td>\n",
       "      <td>1.355400</td>\n",
       "      <td>1.583955</td>\n",
       "      <td>0.540000</td>\n",
       "      <td>0.533469</td>\n",
       "      <td>0.540158</td>\n",
       "      <td>0.540000</td>\n",
       "      <td>43.681500</td>\n",
       "      <td>57.232000</td>\n",
       "    </tr>\n",
       "    <tr>\n",
       "      <td>3</td>\n",
       "      <td>1.288000</td>\n",
       "      <td>1.642287</td>\n",
       "      <td>0.540800</td>\n",
       "      <td>0.531086</td>\n",
       "      <td>0.531726</td>\n",
       "      <td>0.540800</td>\n",
       "      <td>43.758600</td>\n",
       "      <td>57.132000</td>\n",
       "    </tr>\n",
       "  </tbody>\n",
       "</table><p>"
      ],
      "text/plain": [
       "<IPython.core.display.HTML object>"
      ]
     },
     "metadata": {},
     "output_type": "display_data"
    },
    {
     "data": {
      "text/plain": [
       "TrainOutput(global_step=18750, training_loss=1.5085601072184245, metrics={'train_runtime': 32285.1138, 'train_samples_per_second': 0.581, 'total_flos': 1.02497689944e+17, 'epoch': 3.0, 'init_mem_cpu_alloc_delta': 0, 'init_mem_gpu_alloc_delta': 0, 'init_mem_cpu_peaked_delta': 0, 'init_mem_gpu_peaked_delta': 0, 'train_mem_cpu_alloc_delta': 984928256, 'train_mem_gpu_alloc_delta': 1794471424, 'train_mem_cpu_peaked_delta': 340443136, 'train_mem_gpu_peaked_delta': 4211624448})"
      ]
     },
     "execution_count": 22,
     "metadata": {},
     "output_type": "execute_result"
    }
   ],
   "source": [
    "model_dir=\"./\"\n",
    "\n",
    "from transformers import Trainer, TrainingArguments\n",
    "\n",
    "training_args = TrainingArguments(\n",
    "    output_dir = model_dir +  'prueba/results',          # output directory\n",
    "    overwrite_output_dir = True,\n",
    "    evaluation_strategy='epoch',\n",
    "    num_train_epochs=3,                         # total number of training epochs\n",
    "    per_device_train_batch_size=16,              # batch size per device during training\n",
    "    per_device_eval_batch_size=64,              # batch size for evaluation\n",
    "    warmup_steps=500,                           # number of warmup steps for learning rate scheduler\n",
    "    weight_decay=0.01,                          # strength of weight decay\n",
    "    logging_dir = model_dir +  'prueba/logs',   # directory for storing logs\n",
    "    logging_steps=10,\n",
    "    load_best_model_at_end = True,\n",
    "    metric_for_best_model = 'accuracy',\n",
    "    run_name = 'review_body - CAT', \n",
    ")\n",
    "\n",
    "trainer = Trainer(\n",
    "    model = model,                         # the instantiated 🤗 Transformers model to be trained\n",
    "    args = training_args,                  # training arguments, defined above\n",
    "    train_dataset = train_data,         # training dataset\n",
    "    eval_dataset = val_data,\n",
    "    compute_metrics = compute_metrics            # evaluation dataset\n",
    ")\n",
    "\n",
    "trainer.train()"
   ]
  },
  {
   "cell_type": "markdown",
   "metadata": {
    "id": "M0QVxSGJw36g"
   },
   "source": [
    "## Evaluation"
   ]
  },
  {
   "cell_type": "code",
   "execution_count": 23,
   "metadata": {
    "colab": {
     "base_uri": "https://localhost:8080/"
    },
    "executionInfo": {
     "elapsed": 764789,
     "status": "ok",
     "timestamp": 1613043947315,
     "user": {
      "displayName": "lu ls",
      "photoUrl": "",
      "userId": "03605438839658261603"
     },
     "user_tz": -60
    },
    "id": "8xtj1Aslw36g",
    "outputId": "c2e36608-c55b-4b56-f232-2ba0fed831d5"
   },
   "outputs": [
    {
     "data": {
      "text/html": [
       "\n",
       "    <div>\n",
       "        <style>\n",
       "            /* Turns off some styling */\n",
       "            progress {\n",
       "                /* gets rid of default border in Firefox and Opera. */\n",
       "                border: none;\n",
       "                /* Needs to be in here for Safari polyfill so background images work as expected. */\n",
       "                background-size: auto;\n",
       "            }\n",
       "        </style>\n",
       "      \n",
       "      <progress value='40' max='20' style='width:300px; height:20px; vertical-align: middle;'></progress>\n",
       "      [20/20 01:26]\n",
       "    </div>\n",
       "    "
      ],
      "text/plain": [
       "<IPython.core.display.HTML object>"
      ]
     },
     "metadata": {},
     "output_type": "display_data"
    },
    {
     "data": {
      "text/plain": [
       "{'eval_loss': 1.642287254333496,\n",
       " 'eval_accuracy': 0.5408,\n",
       " 'eval_f1': 0.5310858165403872,\n",
       " 'eval_precision': 0.5317262544324995,\n",
       " 'eval_recall': 0.5408,\n",
       " 'eval_runtime': 43.7136,\n",
       " 'eval_samples_per_second': 57.19,\n",
       " 'epoch': 3.0,\n",
       " 'eval_mem_cpu_alloc_delta': 0,\n",
       " 'eval_mem_gpu_alloc_delta': 0,\n",
       " 'eval_mem_cpu_peaked_delta': 0,\n",
       " 'eval_mem_gpu_peaked_delta': 774225408}"
      ]
     },
     "execution_count": 23,
     "metadata": {},
     "output_type": "execute_result"
    }
   ],
   "source": [
    "trainer.evaluate()"
   ]
  },
  {
   "cell_type": "code",
   "execution_count": 24,
   "metadata": {},
   "outputs": [
    {
     "name": "stdout",
     "output_type": "stream",
     "text": [
      "              precision    recall  f1-score   support\n",
      "\n",
      "           0       0.65      0.78      0.71       192\n",
      "           1       0.56      0.53      0.55       100\n",
      "           2       0.41      0.40      0.41        35\n",
      "           3       0.52      0.65      0.58       152\n",
      "           4       0.64      0.59      0.62        54\n",
      "           5       0.52      0.48      0.50        25\n",
      "           6       0.86      0.83      0.85        84\n",
      "           7       0.79      0.71      0.75        21\n",
      "           8       0.45      0.48      0.47       143\n",
      "           9       0.43      0.34      0.38        80\n",
      "          10       0.50      0.61      0.55        31\n",
      "          11       0.56      0.62      0.59        50\n",
      "          12       0.39      0.48      0.43       208\n",
      "          13       0.41      0.37      0.39        89\n",
      "          14       0.00      0.00      0.00        29\n",
      "          15       0.80      0.55      0.65        44\n",
      "          16       0.52      0.67      0.59       128\n",
      "          17       0.55      0.48      0.51        92\n",
      "          18       0.44      0.37      0.40        19\n",
      "          19       0.75      0.50      0.60        12\n",
      "          20       0.55      0.36      0.44        74\n",
      "          21       0.58      0.39      0.47       164\n",
      "          22       0.50      0.53      0.51        68\n",
      "          23       0.00      0.00      0.00         1\n",
      "          24       0.85      0.78      0.81        92\n",
      "          25       0.66      0.60      0.63        72\n",
      "          26       0.61      0.42      0.50       104\n",
      "          27       0.58      0.57      0.58       123\n",
      "          28       0.42      0.31      0.36        16\n",
      "          29       0.50      0.17      0.25         6\n",
      "          30       0.55      0.72      0.63       192\n",
      "\n",
      "    accuracy                           0.56      2500\n",
      "   macro avg       0.53      0.49      0.51      2500\n",
      "weighted avg       0.56      0.56      0.55      2500\n",
      "\n",
      "{'test_loss': 1.5854617357254028, 'test_accuracy': 0.556, 'test_f1': 0.5492590446642821, 'test_precision': 0.5553191266284906, 'test_recall': 0.556, 'test_runtime': 43.638, 'test_samples_per_second': 57.29, 'test_mem_cpu_alloc_delta': 0, 'test_mem_gpu_alloc_delta': 0, 'test_mem_cpu_peaked_delta': 0, 'test_mem_gpu_peaked_delta': 774225408}\n"
     ]
    },
    {
     "data": {
      "image/png": "[encoded data removed]",
      "text/plain": [
       "<Figure size 720x504 with 2 Axes>"
      ]
     },
     "metadata": {
      "needs_background": "light"
     },
     "output_type": "display_data"
    }
   ],
   "source": [
    "## Función test dato  distilBERT\n",
    "from sklearn.metrics import confusion_matrix\n",
    "import seaborn as sns\n",
    "import pandas as pd\n",
    "import matplotlib.pyplot as plt\n",
    "from sklearn.metrics import classification_report\n",
    "\n",
    "\n",
    "predictions,labels, metrics = trainer.predict(test_data)  \n",
    "\n",
    "# MATRIZ DE CONFUSION\n",
    "matrix = confusion_matrix(labels, predictions.argmax(axis=1))\n",
    "\n",
    "plt.figure(figsize = (10,7))\n",
    "## Confusion matrix with counts\n",
    "sns.heatmap(matrix, annot=True,cmap='Purples',fmt='g')\n",
    "\n",
    "#sns.heatmap(matrix/np.sum(matrix), annot=True, \n",
    "#          fmt='.2%', cmap='Oranges')\n",
    "plt.xlabel(\"Predicted class\")\n",
    "plt.ylabel(\"True class\") \n",
    "\n",
    "clas_report = classification_report(labels, predictions.argmax(axis=1))\n",
    "\n",
    "print(clas_report)\n",
    "print(metrics)"
   ]
  },
  {
   "cell_type": "markdown",
   "metadata": {
    "id": "kZfNk-hFw6tB"
   },
   "source": [
    "## Save Model"
   ]
  },
  {
   "cell_type": "code",
   "execution_count": null,
   "metadata": {
    "colab": {
     "base_uri": "https://localhost:8080/"
    },
    "executionInfo": {
     "elapsed": 782997,
     "status": "ok",
     "timestamp": 1613043965602,
     "user": {
      "displayName": "lu ls",
      "photoUrl": "",
      "userId": "03605438839658261603"
     },
     "user_tz": -60
    },
    "id": "wYd62Bxow6tC",
    "outputId": "2187212f-9a2d-4494-ddf2-bd99b898d779"
   },
   "outputs": [
    {
     "name": "stdout",
     "output_type": "stream",
     "text": [
      "Category_text\t     Rating_text\tRating_text_title_cat\n",
      "Category_text_title  Rating_text_title\n"
     ]
    }
   ],
   "source": [
    "!ls drive/MyDrive/TFG/Modelos_entrenados/"
   ]
  },
  {
   "cell_type": "code",
   "execution_count": 25,
   "metadata": {
    "colab": {
     "base_uri": "https://localhost:8080/"
    },
    "executionInfo": {
     "elapsed": 787004,
     "status": "ok",
     "timestamp": 1613043969614,
     "user": {
      "displayName": "lu ls",
      "photoUrl": "",
      "userId": "03605438839658261603"
     },
     "user_tz": -60
    },
    "id": "s80oYLXMw6tC",
    "outputId": "db6560ee-0ac6-4528-f56d-5ba1c0db56ac"
   },
   "outputs": [
    {
     "data": {
      "text/plain": [
       "('BERT_body_CAT/tokenizer_config.json',\n",
       " 'BERT_body_CAT/special_tokens_map.json',\n",
       " 'BERT_body_CAT/vocab.txt',\n",
       " 'BERT_body_CAT/added_tokens.json')"
      ]
     },
     "execution_count": 25,
     "metadata": {},
     "output_type": "execute_result"
    }
   ],
   "source": [
    "# saving the fine tuned model & tokenizer\n",
    "model_path = \"BERT_body_CAT\"\n",
    "trainer.save_model(model_path)\n",
    "model.save_pretrained(model_path)\n",
    "tokenizer.save_pretrained(model_path)"
   ]
  },
  {
   "cell_type": "markdown",
   "metadata": {
    "id": "wiMpXakcxleJ"
   },
   "source": [
    "# BertForSequenceClassification - CATEGORÍA\n",
    "\n",
    "- Clasificación de categorias de productos a partir del review_body + titulo"
   ]
  },
  {
   "cell_type": "code",
   "execution_count": 12,
   "metadata": {
    "id": "PPDbtxuKxleJ"
   },
   "outputs": [],
   "source": [
    "RANDOM_SEED=8\n",
    "MAX_LENGTH=260\n",
    "\n",
    "\n",
    "## CLASES DEL CLASIFICADOR \n",
    "\n",
    "class_names = df_train.product_category.unique().tolist()"
   ]
  },
  {
   "cell_type": "code",
   "execution_count": 13,
   "metadata": {
    "id": "ulc-JJYcxleJ"
   },
   "outputs": [],
   "source": [
    "#TOKENIZAMOS LOS DATAFRAMES\n",
    "\n",
    "train_encodings = tokenizer(df_train.text_title.values.tolist(), #truncation=True, padding=True,\n",
    "      add_special_tokens=True,\n",
    "      truncation=True,\n",
    "      max_length=MAX_LENGTH,\n",
    "      return_token_type_ids=False,\n",
    "      pad_to_max_length=True,\n",
    "      return_attention_mask=True,\n",
    "      return_tensors='pt')\n",
    "\n",
    "val_encodings = tokenizer(df_valid.text_title.values.tolist(), #truncation=True, padding=True,\n",
    "      add_special_tokens=True,\n",
    "      truncation=True,\n",
    "      max_length=MAX_LENGTH,\n",
    "      return_token_type_ids=False,\n",
    "      pad_to_max_length=True,\n",
    "      return_attention_mask=True,\n",
    "      return_tensors='pt')\n",
    "\n",
    "test_encodings = tokenizer(df_test.text_title.values.tolist(), #truncation=True, padding=True,\n",
    "      add_special_tokens=True,\n",
    "      truncation=True,\n",
    "      max_length=MAX_LENGTH,\n",
    "      return_token_type_ids=False,\n",
    "      pad_to_max_length=True,\n",
    "      return_attention_mask=True,\n",
    "      return_tensors='pt')"
   ]
  },
  {
   "cell_type": "code",
   "execution_count": 14,
   "metadata": {
    "id": "UZj8ZZ4KxleK"
   },
   "outputs": [],
   "source": [
    "class GPReviewDataset(torch.utils.data.Dataset):\n",
    "    def __init__(self, encodings, labels):\n",
    "        self.encodings = encodings\n",
    "        self.labels = labels\n",
    "\n",
    "    def __getitem__(self, idx):\n",
    "        item = {key: torch.tensor(val[idx]) for key, val in self.encodings.items()}\n",
    "        item['labels'] = torch.tensor(self.labels[idx])\n",
    "        return item\n",
    "\n",
    "    def __len__(self):\n",
    "        return len(self.labels)"
   ]
  },
  {
   "cell_type": "code",
   "execution_count": 15,
   "metadata": {
    "id": "5O-AjcNMxleK"
   },
   "outputs": [],
   "source": [
    "train_labels = df_train.product_category_cod.values\n",
    "val_labels = df_valid.product_category_cod.values\n",
    "test_labels = df_test.product_category_cod.values"
   ]
  },
  {
   "cell_type": "code",
   "execution_count": 16,
   "metadata": {
    "id": "UeV2NMDExleK"
   },
   "outputs": [],
   "source": [
    "train_data = GPReviewDataset(train_encodings, torch.from_numpy(train_labels))\n",
    "val_data = GPReviewDataset(val_encodings, torch.from_numpy(val_labels))\n",
    "test_data = GPReviewDataset(test_encodings, torch.from_numpy(test_labels))"
   ]
  },
  {
   "cell_type": "code",
   "execution_count": 17,
   "metadata": {
    "colab": {
     "base_uri": "https://localhost:8080/"
    },
    "executionInfo": {
     "elapsed": 22300,
     "status": "ok",
     "timestamp": 1613042218748,
     "user": {
      "displayName": "lu ls",
      "photoUrl": "",
      "userId": "03605438839658261603"
     },
     "user_tz": -60
    },
    "id": "XapCe4rjxleK",
    "outputId": "d56cc6e5-0e99-420e-f427-832987ee8a01"
   },
   "outputs": [
    {
     "name": "stderr",
     "output_type": "stream",
     "text": [
      "Some weights of the model checkpoint at bert-base-uncased were not used when initializing BertForSequenceClassification: ['cls.predictions.bias', 'cls.predictions.transform.dense.weight', 'cls.predictions.transform.dense.bias', 'cls.predictions.decoder.weight', 'cls.seq_relationship.weight', 'cls.seq_relationship.bias', 'cls.predictions.transform.LayerNorm.weight', 'cls.predictions.transform.LayerNorm.bias']\n",
      "- This IS expected if you are initializing BertForSequenceClassification from the checkpoint of a model trained on another task or with another architecture (e.g. initializing a BertForSequenceClassification model from a BertForPreTraining model).\n",
      "- This IS NOT expected if you are initializing BertForSequenceClassification from the checkpoint of a model that you expect to be exactly identical (initializing a BertForSequenceClassification model from a BertForSequenceClassification model).\n",
      "Some weights of BertForSequenceClassification were not initialized from the model checkpoint at bert-base-uncased and are newly initialized: ['classifier.weight', 'classifier.bias']\n",
      "You should probably TRAIN this model on a down-stream task to be able to use it for predictions and inference.\n"
     ]
    }
   ],
   "source": [
    "model = BertForSequenceClassification.from_pretrained(\n",
    "    PRE_TRAINED_MODEL_NAME, # Use the 12-layer BERT model, with an uncased vocab.\n",
    "    num_labels = len(class_names), # The number of output labels--2 for binary classification.  si pones num_labels=1 hace MSE LOSS\n",
    "    output_attentions = False, # Whether the model returns attentions weights.\n",
    "    output_hidden_states = False ,# Whether the model returns all hidden-states.   \n",
    "    vocab_size=tokenizer.vocab_size)"
   ]
  },
  {
   "cell_type": "code",
   "execution_count": 18,
   "metadata": {
    "id": "WfN6Pyx8xleL"
   },
   "outputs": [],
   "source": [
    "device = torch.device(\"cuda:0\" if torch.cuda.is_available() else \"cpu\")\n",
    "model = model.to(device)"
   ]
  },
  {
   "cell_type": "markdown",
   "metadata": {
    "id": "2P4MFgYmxleL"
   },
   "source": [
    "## Training"
   ]
  },
  {
   "cell_type": "code",
   "execution_count": 19,
   "metadata": {},
   "outputs": [],
   "source": [
    "from sklearn.metrics import precision_recall_fscore_support\n",
    "from sklearn.metrics import accuracy_score\n",
    "\n",
    "def compute_metrics(pred):\n",
    "    labels = pred.label_ids\n",
    "    preds = pred.predictions.argmax(-1)\n",
    "    precision, recall, f1, _ = precision_recall_fscore_support(labels, preds, average='weighted')\n",
    "    acc = accuracy_score(labels, preds)\n",
    "    return {\n",
    "        'accuracy': acc,\n",
    "        'f1': f1,\n",
    "        'precision': precision,\n",
    "        'recall': recall\n",
    "    }"
   ]
  },
  {
   "cell_type": "code",
   "execution_count": 21,
   "metadata": {
    "colab": {
     "base_uri": "https://localhost:8080/",
     "height": 142
    },
    "executionInfo": {
     "elapsed": 732286,
     "status": "ok",
     "timestamp": 1613042955804,
     "user": {
      "displayName": "lu ls",
      "photoUrl": "",
      "userId": "03605438839658261603"
     },
     "user_tz": -60
    },
    "id": "XS5_UIwSxleL",
    "outputId": "ad8f6dce-51bf-4413-c07e-92661e0ee223"
   },
   "outputs": [
    {
     "name": "stderr",
     "output_type": "stream",
     "text": [
      "\u001b[34m\u001b[1mwandb\u001b[0m: wandb version 0.10.26 is available!  To upgrade, please run:\n",
      "\u001b[34m\u001b[1mwandb\u001b[0m:  $ pip install wandb --upgrade\n"
     ]
    },
    {
     "data": {
      "text/html": [
       "\n",
       "                Tracking run with wandb version 0.10.23<br/>\n",
       "                Syncing run <strong style=\"color:#cdcd00\">review_body_title - CAT</strong> to <a href=\"https://wandb.ai\" target=\"_blank\">Weights & Biases</a> <a href=\"https://docs.wandb.com/integrations/jupyter.html\" target=\"_blank\">(Documentation)</a>.<br/>\n",
       "                Project page: <a href=\"https://wandb.ai/lucialarraona/RATING%20CLASSIFICATION%20BERT\" target=\"_blank\">https://wandb.ai/lucialarraona/RATING%20CLASSIFICATION%20BERT</a><br/>\n",
       "                Run page: <a href=\"https://wandb.ai/lucialarraona/RATING%20CLASSIFICATION%20BERT/runs/1dljkq7d\" target=\"_blank\">https://wandb.ai/lucialarraona/RATING%20CLASSIFICATION%20BERT/runs/1dljkq7d</a><br/>\n",
       "                Run data is saved locally in <code>/home/nlpbert/notebooks/wandb/run-20210419_075122-1dljkq7d</code><br/><br/>\n",
       "            "
      ],
      "text/plain": [
       "<IPython.core.display.HTML object>"
      ]
     },
     "metadata": {},
     "output_type": "display_data"
    },
    {
     "data": {
      "text/html": [
       "\n",
       "    <div>\n",
       "        <style>\n",
       "            /* Turns off some styling */\n",
       "            progress {\n",
       "                /* gets rid of default border in Firefox and Opera. */\n",
       "                border: none;\n",
       "                /* Needs to be in here for Safari polyfill so background images work as expected. */\n",
       "                background-size: auto;\n",
       "            }\n",
       "        </style>\n",
       "      \n",
       "      <progress value='18750' max='18750' style='width:300px; height:20px; vertical-align: middle;'></progress>\n",
       "      [18750/18750 9:00:31, Epoch 3/3]\n",
       "    </div>\n",
       "    <table border=\"1\" class=\"dataframe\">\n",
       "  <thead>\n",
       "    <tr style=\"text-align: left;\">\n",
       "      <th>Epoch</th>\n",
       "      <th>Training Loss</th>\n",
       "      <th>Validation Loss</th>\n",
       "      <th>Accuracy</th>\n",
       "      <th>F1</th>\n",
       "      <th>Precision</th>\n",
       "      <th>Recall</th>\n",
       "      <th>Runtime</th>\n",
       "      <th>Samples Per Second</th>\n",
       "    </tr>\n",
       "  </thead>\n",
       "  <tbody>\n",
       "    <tr>\n",
       "      <td>1</td>\n",
       "      <td>1.434900</td>\n",
       "      <td>1.609875</td>\n",
       "      <td>0.530000</td>\n",
       "      <td>0.516687</td>\n",
       "      <td>0.525254</td>\n",
       "      <td>0.530000</td>\n",
       "      <td>43.758900</td>\n",
       "      <td>57.131000</td>\n",
       "    </tr>\n",
       "    <tr>\n",
       "      <td>2</td>\n",
       "      <td>1.348000</td>\n",
       "      <td>1.567031</td>\n",
       "      <td>0.549200</td>\n",
       "      <td>0.540452</td>\n",
       "      <td>0.544794</td>\n",
       "      <td>0.549200</td>\n",
       "      <td>43.598700</td>\n",
       "      <td>57.341000</td>\n",
       "    </tr>\n",
       "    <tr>\n",
       "      <td>3</td>\n",
       "      <td>1.220200</td>\n",
       "      <td>1.608695</td>\n",
       "      <td>0.559200</td>\n",
       "      <td>0.549338</td>\n",
       "      <td>0.547317</td>\n",
       "      <td>0.559200</td>\n",
       "      <td>43.786800</td>\n",
       "      <td>57.095000</td>\n",
       "    </tr>\n",
       "  </tbody>\n",
       "</table><p>"
      ],
      "text/plain": [
       "<IPython.core.display.HTML object>"
      ]
     },
     "metadata": {},
     "output_type": "display_data"
    },
    {
     "data": {
      "text/plain": [
       "TrainOutput(global_step=18750, training_loss=1.4605249835713705, metrics={'train_runtime': 32436.0798, 'train_samples_per_second': 0.578, 'total_flos': 1.02497689944e+17, 'epoch': 3.0, 'init_mem_cpu_alloc_delta': 0, 'init_mem_gpu_alloc_delta': 0, 'init_mem_cpu_peaked_delta': 0, 'init_mem_gpu_peaked_delta': 0, 'train_mem_cpu_alloc_delta': 975134720, 'train_mem_gpu_alloc_delta': 1794471424, 'train_mem_cpu_peaked_delta': 340422656, 'train_mem_gpu_peaked_delta': 4211624448})"
      ]
     },
     "execution_count": 21,
     "metadata": {},
     "output_type": "execute_result"
    }
   ],
   "source": [
    "model_dir=\"./\"\n",
    "\n",
    "from transformers import Trainer, TrainingArguments\n",
    "\n",
    "training_args = TrainingArguments(\n",
    "    output_dir = model_dir +  'prueba/results',          # output directory\n",
    "    overwrite_output_dir = True,\n",
    "    evaluation_strategy='epoch',\n",
    "    num_train_epochs=3,                         # total number of training epochs\n",
    "    per_device_train_batch_size=16,              # batch size per device during training\n",
    "    per_device_eval_batch_size=64,              # batch size for evaluation\n",
    "    warmup_steps=500,                           # number of warmup steps for learning rate scheduler\n",
    "    weight_decay=0.01,                          # strength of weight decay\n",
    "    logging_dir = model_dir +  'prueba/logs',   # directory for storing logs\n",
    "    logging_steps=10,\n",
    "    load_best_model_at_end = True,\n",
    "    metric_for_best_model = 'accuracy',\n",
    "    run_name = 'review_body_title - CAT', \n",
    ")\n",
    "\n",
    "trainer = Trainer(\n",
    "    model = model,                         # the instantiated 🤗 Transformers model to be trained\n",
    "    args = training_args,                  # training arguments, defined above\n",
    "    train_dataset = train_data,         # training dataset\n",
    "    eval_dataset = val_data,\n",
    "    compute_metrics = compute_metrics             # evaluation dataset\n",
    ")\n",
    "\n",
    "trainer.train()"
   ]
  },
  {
   "cell_type": "markdown",
   "metadata": {
    "id": "lRxJw2lZxleL"
   },
   "source": [
    "## Evaluation"
   ]
  },
  {
   "cell_type": "code",
   "execution_count": 23,
   "metadata": {},
   "outputs": [
    {
     "data": {
      "text/html": [
       "\n",
       "    <div>\n",
       "        <style>\n",
       "            /* Turns off some styling */\n",
       "            progress {\n",
       "                /* gets rid of default border in Firefox and Opera. */\n",
       "                border: none;\n",
       "                /* Needs to be in here for Safari polyfill so background images work as expected. */\n",
       "                background-size: auto;\n",
       "            }\n",
       "        </style>\n",
       "      \n",
       "      <progress value='40' max='20' style='width:300px; height:20px; vertical-align: middle;'></progress>\n",
       "      [20/20 01:25]\n",
       "    </div>\n",
       "    "
      ],
      "text/plain": [
       "<IPython.core.display.HTML object>"
      ]
     },
     "metadata": {},
     "output_type": "display_data"
    },
    {
     "data": {
      "text/plain": [
       "{'eval_loss': 1.6086947917938232,\n",
       " 'eval_accuracy': 0.5592,\n",
       " 'eval_f1': 0.5493383401969347,\n",
       " 'eval_precision': 0.5473174733762597,\n",
       " 'eval_recall': 0.5592,\n",
       " 'eval_runtime': 43.3493,\n",
       " 'eval_samples_per_second': 57.671,\n",
       " 'epoch': 3.0,\n",
       " 'eval_mem_cpu_alloc_delta': 0,\n",
       " 'eval_mem_gpu_alloc_delta': 0,\n",
       " 'eval_mem_cpu_peaked_delta': 0,\n",
       " 'eval_mem_gpu_peaked_delta': 774225408}"
      ]
     },
     "execution_count": 23,
     "metadata": {},
     "output_type": "execute_result"
    }
   ],
   "source": [
    "trainer.evaluate()"
   ]
  },
  {
   "cell_type": "code",
   "execution_count": 24,
   "metadata": {},
   "outputs": [
    {
     "name": "stdout",
     "output_type": "stream",
     "text": [
      "              precision    recall  f1-score   support\n",
      "\n",
      "           0       0.63      0.80      0.70       192\n",
      "           1       0.52      0.51      0.52       100\n",
      "           2       0.46      0.49      0.47        35\n",
      "           3       0.52      0.61      0.56       152\n",
      "           4       0.67      0.59      0.63        54\n",
      "           5       0.72      0.52      0.60        25\n",
      "           6       0.89      0.87      0.88        84\n",
      "           7       0.84      0.76      0.80        21\n",
      "           8       0.51      0.50      0.51       143\n",
      "           9       0.41      0.33      0.36        80\n",
      "          10       0.54      0.61      0.58        31\n",
      "          11       0.65      0.70      0.67        50\n",
      "          12       0.44      0.52      0.47       208\n",
      "          13       0.36      0.36      0.36        89\n",
      "          14       0.00      0.00      0.00        29\n",
      "          15       0.72      0.52      0.61        44\n",
      "          16       0.55      0.66      0.60       128\n",
      "          17       0.57      0.49      0.53        92\n",
      "          18       0.58      0.37      0.45        19\n",
      "          19       0.67      0.50      0.57        12\n",
      "          20       0.48      0.36      0.42        74\n",
      "          21       0.50      0.40      0.44       164\n",
      "          22       0.61      0.57      0.59        68\n",
      "          23       0.00      0.00      0.00         1\n",
      "          24       0.86      0.75      0.80        92\n",
      "          25       0.72      0.60      0.65        72\n",
      "          26       0.58      0.42      0.49       104\n",
      "          27       0.55      0.52      0.54       123\n",
      "          28       0.62      0.31      0.42        16\n",
      "          29       0.33      0.33      0.33         6\n",
      "          30       0.56      0.78      0.65       192\n",
      "\n",
      "    accuracy                           0.56      2500\n",
      "   macro avg       0.55      0.51      0.52      2500\n",
      "weighted avg       0.56      0.56      0.56      2500\n",
      "\n",
      "{'test_loss': 1.5523205995559692, 'test_accuracy': 0.564, 'test_f1': 0.5572326314769159, 'test_precision': 0.5620500063174996, 'test_recall': 0.564, 'test_runtime': 43.5306, 'test_samples_per_second': 57.431, 'test_mem_cpu_alloc_delta': 0, 'test_mem_gpu_alloc_delta': 0, 'test_mem_cpu_peaked_delta': 36864, 'test_mem_gpu_peaked_delta': 774225408}\n"
     ]
    },
    {
     "data": {
      "image/png": "[encoded data removed]",
      "text/plain": [
       "<Figure size 720x504 with 2 Axes>"
      ]
     },
     "metadata": {
      "needs_background": "light"
     },
     "output_type": "display_data"
    }
   ],
   "source": [
    "## Función test dato  distilBERT\n",
    "from sklearn.metrics import confusion_matrix\n",
    "import seaborn as sns\n",
    "import pandas as pd\n",
    "import matplotlib.pyplot as plt\n",
    "from sklearn.metrics import classification_report\n",
    "\n",
    "\n",
    "predictions,labels, metrics = trainer.predict(test_data)  \n",
    "\n",
    "# MATRIZ DE CONFUSION\n",
    "matrix = confusion_matrix(labels, predictions.argmax(axis=1))\n",
    "\n",
    "plt.figure(figsize = (10,7))\n",
    "## Confusion matrix with counts\n",
    "sns.heatmap(matrix, annot=True,cmap='Purples',fmt='g')\n",
    "\n",
    "#sns.heatmap(matrix/np.sum(matrix), annot=True, \n",
    "#          fmt='.2%', cmap='Oranges')\n",
    "plt.xlabel(\"Predicted class\")\n",
    "plt.ylabel(\"True class\") \n",
    "\n",
    "clas_report = classification_report(labels, predictions.argmax(axis=1))\n",
    "\n",
    "print(clas_report)\n",
    "print(metrics)"
   ]
  },
  {
   "cell_type": "markdown",
   "metadata": {
    "id": "4sNM26YyxleM"
   },
   "source": [
    "## Save Model"
   ]
  },
  {
   "cell_type": "code",
   "execution_count": null,
   "metadata": {
    "colab": {
     "base_uri": "https://localhost:8080/"
    },
    "executionInfo": {
     "elapsed": 881,
     "status": "ok",
     "timestamp": 1613043112244,
     "user": {
      "displayName": "lu ls",
      "photoUrl": "",
      "userId": "03605438839658261603"
     },
     "user_tz": -60
    },
    "id": "WDDjecK-xleM",
    "outputId": "f39de1d7-ef92-4ac7-ac3c-f7f7653cd65c"
   },
   "outputs": [
    {
     "name": "stdout",
     "output_type": "stream",
     "text": [
      "ls: cannot access 'drive/MyDrive/TFG_1/Modelos_entrenados/': No such file or directory\n"
     ]
    }
   ],
   "source": [
    "!ls drive/MyDrive/TFG_1/Modelos_entrenados/"
   ]
  },
  {
   "cell_type": "code",
   "execution_count": 22,
   "metadata": {
    "id": "Rm9z70_2t4_O"
   },
   "outputs": [
    {
     "data": {
      "text/plain": [
       "('BERT_text_title_CAT/tokenizer_config.json',\n",
       " 'BERT_text_title_CAT/special_tokens_map.json',\n",
       " 'BERT_text_title_CAT/vocab.txt',\n",
       " 'BERT_text_title_CAT/added_tokens.json')"
      ]
     },
     "execution_count": 22,
     "metadata": {},
     "output_type": "execute_result"
    }
   ],
   "source": [
    "# saving the fine tuned model & tokenizer\n",
    "model_path = \"BERT_text_title_CAT\"\n",
    "trainer.save_model(model_path)\n",
    "model.save_pretrained(model_path)\n",
    "tokenizer.save_pretrained(model_path)"
   ]
  },
  {
   "cell_type": "code",
   "execution_count": null,
   "metadata": {
    "id": "jcrRCuosnDYH"
   },
   "outputs": [],
   "source": []
  }
 ],
 "metadata": {
  "accelerator": "GPU",
  "colab": {
   "collapsed_sections": [],
   "name": "Clasificaciones con TRAINER - BERT.ipynb",
   "provenance": []
  },
  "kernelspec": {
   "display_name": "py37_pytorch",
   "language": "python",
   "name": "conda-env-py37_pytorch-py"
  },
  "language_info": {
   "codemirror_mode": {
    "name": "ipython",
    "version": 3
   },
   "file_extension": ".py",
   "mimetype": "text/x-python",
   "name": "python",
   "nbconvert_exporter": "python",
   "pygments_lexer": "ipython3",
   "version": "3.7.9"
  },
  "widgets": {
   "application/vnd.jupyter.widget-state+json": {
    "047904171e4746a892bb8720d8bc2a5b": {
     "model_module": "@jupyter-widgets/base",
     "model_name": "LayoutModel",
     "state": {
      "_model_module": "@jupyter-widgets/base",
      "_model_module_version": "1.2.0",
      "_model_name": "LayoutModel",
      "_view_count": null,
      "_view_module": "@jupyter-widgets/base",
      "_view_module_version": "1.2.0",
      "_view_name": "LayoutView",
      "align_content": null,
      "align_items": null,
      "align_self": null,
      "border": null,
      "bottom": null,
      "display": null,
      "flex": null,
      "flex_flow": null,
      "grid_area": null,
      "grid_auto_columns": null,
      "grid_auto_flow": null,
      "grid_auto_rows": null,
      "grid_column": null,
      "grid_gap": null,
      "grid_row": null,
      "grid_template_areas": null,
      "grid_template_columns": null,
      "grid_template_rows": null,
      "height": null,
      "justify_content": null,
      "justify_items": null,
      "left": null,
      "margin": null,
      "max_height": null,
      "max_width": null,
      "min_height": null,
      "min_width": null,
      "object_fit": null,
      "object_position": null,
      "order": null,
      "overflow": null,
      "overflow_x": null,
      "overflow_y": null,
      "padding": null,
      "right": null,
      "top": null,
      "visibility": null,
      "width": null
     }
    },
    "0823fa1bb9264685946093f5c918cfaa": {
     "model_module": "@jupyter-widgets/base",
     "model_name": "LayoutModel",
     "state": {
      "_model_module": "@jupyter-widgets/base",
      "_model_module_version": "1.2.0",
      "_model_name": "LayoutModel",
      "_view_count": null,
      "_view_module": "@jupyter-widgets/base",
      "_view_module_version": "1.2.0",
      "_view_name": "LayoutView",
      "align_content": null,
      "align_items": null,
      "align_self": null,
      "border": null,
      "bottom": null,
      "display": null,
      "flex": null,
      "flex_flow": null,
      "grid_area": null,
      "grid_auto_columns": null,
      "grid_auto_flow": null,
      "grid_auto_rows": null,
      "grid_column": null,
      "grid_gap": null,
      "grid_row": null,
      "grid_template_areas": null,
      "grid_template_columns": null,
      "grid_template_rows": null,
      "height": null,
      "justify_content": null,
      "justify_items": null,
      "left": null,
      "margin": null,
      "max_height": null,
      "max_width": null,
      "min_height": null,
      "min_width": null,
      "object_fit": null,
      "object_position": null,
      "order": null,
      "overflow": null,
      "overflow_x": null,
      "overflow_y": null,
      "padding": null,
      "right": null,
      "top": null,
      "visibility": null,
      "width": null
     }
    },
    "0a36e46add3a4e17ac42a5bb83f6176d": {
     "model_module": "@jupyter-widgets/controls",
     "model_name": "HBoxModel",
     "state": {
      "_dom_classes": [],
      "_model_module": "@jupyter-widgets/controls",
      "_model_module_version": "1.5.0",
      "_model_name": "HBoxModel",
      "_view_count": null,
      "_view_module": "@jupyter-widgets/controls",
      "_view_module_version": "1.5.0",
      "_view_name": "HBoxView",
      "box_style": "",
      "children": [
       "IPY_MODEL_21a32464f7d045a29bd87e3ba02e9ffe",
       "IPY_MODEL_61964896e2df45bf9c236f8002be9212"
      ],
      "layout": "IPY_MODEL_dfe146e60a2c49e7b386f05c415d394a"
     }
    },
    "15fc91a45f46400a8358a36ee9287545": {
     "model_module": "@jupyter-widgets/base",
     "model_name": "LayoutModel",
     "state": {
      "_model_module": "@jupyter-widgets/base",
      "_model_module_version": "1.2.0",
      "_model_name": "LayoutModel",
      "_view_count": null,
      "_view_module": "@jupyter-widgets/base",
      "_view_module_version": "1.2.0",
      "_view_name": "LayoutView",
      "align_content": null,
      "align_items": null,
      "align_self": null,
      "border": null,
      "bottom": null,
      "display": null,
      "flex": null,
      "flex_flow": null,
      "grid_area": null,
      "grid_auto_columns": null,
      "grid_auto_flow": null,
      "grid_auto_rows": null,
      "grid_column": null,
      "grid_gap": null,
      "grid_row": null,
      "grid_template_areas": null,
      "grid_template_columns": null,
      "grid_template_rows": null,
      "height": null,
      "justify_content": null,
      "justify_items": null,
      "left": null,
      "margin": null,
      "max_height": null,
      "max_width": null,
      "min_height": null,
      "min_width": null,
      "object_fit": null,
      "object_position": null,
      "order": null,
      "overflow": null,
      "overflow_x": null,
      "overflow_y": null,
      "padding": null,
      "right": null,
      "top": null,
      "visibility": null,
      "width": null
     }
    },
    "203eedab4b68430d8573d343c6f22ccb": {
     "model_module": "@jupyter-widgets/controls",
     "model_name": "FloatProgressModel",
     "state": {
      "_dom_classes": [],
      "_model_module": "@jupyter-widgets/controls",
      "_model_module_version": "1.5.0",
      "_model_name": "FloatProgressModel",
      "_view_count": null,
      "_view_module": "@jupyter-widgets/controls",
      "_view_module_version": "1.5.0",
      "_view_name": "ProgressView",
      "bar_style": "success",
      "description": "Downloading: 100%",
      "description_tooltip": null,
      "layout": "IPY_MODEL_15fc91a45f46400a8358a36ee9287545",
      "max": 440473133,
      "min": 0,
      "orientation": "horizontal",
      "style": "IPY_MODEL_4293f815970745c5b916c712f0081a07",
      "value": 440473133
     }
    },
    "21a32464f7d045a29bd87e3ba02e9ffe": {
     "model_module": "@jupyter-widgets/controls",
     "model_name": "FloatProgressModel",
     "state": {
      "_dom_classes": [],
      "_model_module": "@jupyter-widgets/controls",
      "_model_module_version": "1.5.0",
      "_model_name": "FloatProgressModel",
      "_view_count": null,
      "_view_module": "@jupyter-widgets/controls",
      "_view_module_version": "1.5.0",
      "_view_name": "ProgressView",
      "bar_style": "success",
      "description": "Downloading: 100%",
      "description_tooltip": null,
      "layout": "IPY_MODEL_e159c4e407824bdab9391d1fc1586754",
      "max": 267967963,
      "min": 0,
      "orientation": "horizontal",
      "style": "IPY_MODEL_2fb851bbaf0042b08b140f67c067e044",
      "value": 267967963
     }
    },
    "2c69321155644e5e828827b086be21a7": {
     "model_module": "@jupyter-widgets/controls",
     "model_name": "ProgressStyleModel",
     "state": {
      "_model_module": "@jupyter-widgets/controls",
      "_model_module_version": "1.5.0",
      "_model_name": "ProgressStyleModel",
      "_view_count": null,
      "_view_module": "@jupyter-widgets/base",
      "_view_module_version": "1.2.0",
      "_view_name": "StyleView",
      "bar_color": null,
      "description_width": "initial"
     }
    },
    "2fb851bbaf0042b08b140f67c067e044": {
     "model_module": "@jupyter-widgets/controls",
     "model_name": "ProgressStyleModel",
     "state": {
      "_model_module": "@jupyter-widgets/controls",
      "_model_module_version": "1.5.0",
      "_model_name": "ProgressStyleModel",
      "_view_count": null,
      "_view_module": "@jupyter-widgets/base",
      "_view_module_version": "1.2.0",
      "_view_name": "StyleView",
      "bar_color": null,
      "description_width": "initial"
     }
    },
    "30f2254dd41b4dc28131b6025d68a380": {
     "model_module": "@jupyter-widgets/base",
     "model_name": "LayoutModel",
     "state": {
      "_model_module": "@jupyter-widgets/base",
      "_model_module_version": "1.2.0",
      "_model_name": "LayoutModel",
      "_view_count": null,
      "_view_module": "@jupyter-widgets/base",
      "_view_module_version": "1.2.0",
      "_view_name": "LayoutView",
      "align_content": null,
      "align_items": null,
      "align_self": null,
      "border": null,
      "bottom": null,
      "display": null,
      "flex": null,
      "flex_flow": null,
      "grid_area": null,
      "grid_auto_columns": null,
      "grid_auto_flow": null,
      "grid_auto_rows": null,
      "grid_column": null,
      "grid_gap": null,
      "grid_row": null,
      "grid_template_areas": null,
      "grid_template_columns": null,
      "grid_template_rows": null,
      "height": null,
      "justify_content": null,
      "justify_items": null,
      "left": null,
      "margin": null,
      "max_height": null,
      "max_width": null,
      "min_height": null,
      "min_width": null,
      "object_fit": null,
      "object_position": null,
      "order": null,
      "overflow": null,
      "overflow_x": null,
      "overflow_y": null,
      "padding": null,
      "right": null,
      "top": null,
      "visibility": null,
      "width": null
     }
    },
    "35ae960383e9451080cd87a5703b3757": {
     "model_module": "@jupyter-widgets/controls",
     "model_name": "ProgressStyleModel",
     "state": {
      "_model_module": "@jupyter-widgets/controls",
      "_model_module_version": "1.5.0",
      "_model_name": "ProgressStyleModel",
      "_view_count": null,
      "_view_module": "@jupyter-widgets/base",
      "_view_module_version": "1.2.0",
      "_view_name": "StyleView",
      "bar_color": null,
      "description_width": "initial"
     }
    },
    "39147fea27d2492f8cbaa64caabb9708": {
     "model_module": "@jupyter-widgets/controls",
     "model_name": "HBoxModel",
     "state": {
      "_dom_classes": [],
      "_model_module": "@jupyter-widgets/controls",
      "_model_module_version": "1.5.0",
      "_model_name": "HBoxModel",
      "_view_count": null,
      "_view_module": "@jupyter-widgets/controls",
      "_view_module_version": "1.5.0",
      "_view_name": "HBoxView",
      "box_style": "",
      "children": [
       "IPY_MODEL_3baea76ece56454b8986983c3c2aeac9",
       "IPY_MODEL_74deddc6e9964a8d9b9779a61636cc08"
      ],
      "layout": "IPY_MODEL_88937cda2b4840f889b21628c58d3fce"
     }
    },
    "3baea76ece56454b8986983c3c2aeac9": {
     "model_module": "@jupyter-widgets/controls",
     "model_name": "FloatProgressModel",
     "state": {
      "_dom_classes": [],
      "_model_module": "@jupyter-widgets/controls",
      "_model_module_version": "1.5.0",
      "_model_name": "FloatProgressModel",
      "_view_count": null,
      "_view_module": "@jupyter-widgets/controls",
      "_view_module_version": "1.5.0",
      "_view_name": "ProgressView",
      "bar_style": "success",
      "description": "Downloading: 100%",
      "description_tooltip": null,
      "layout": "IPY_MODEL_d42b60c25c3c4b758d4b921071c98a0f",
      "max": 442,
      "min": 0,
      "orientation": "horizontal",
      "style": "IPY_MODEL_2c69321155644e5e828827b086be21a7",
      "value": 442
     }
    },
    "3d57a8a461f042e9b776ac8138cd82d4": {
     "model_module": "@jupyter-widgets/base",
     "model_name": "LayoutModel",
     "state": {
      "_model_module": "@jupyter-widgets/base",
      "_model_module_version": "1.2.0",
      "_model_name": "LayoutModel",
      "_view_count": null,
      "_view_module": "@jupyter-widgets/base",
      "_view_module_version": "1.2.0",
      "_view_name": "LayoutView",
      "align_content": null,
      "align_items": null,
      "align_self": null,
      "border": null,
      "bottom": null,
      "display": null,
      "flex": null,
      "flex_flow": null,
      "grid_area": null,
      "grid_auto_columns": null,
      "grid_auto_flow": null,
      "grid_auto_rows": null,
      "grid_column": null,
      "grid_gap": null,
      "grid_row": null,
      "grid_template_areas": null,
      "grid_template_columns": null,
      "grid_template_rows": null,
      "height": null,
      "justify_content": null,
      "justify_items": null,
      "left": null,
      "margin": null,
      "max_height": null,
      "max_width": null,
      "min_height": null,
      "min_width": null,
      "object_fit": null,
      "object_position": null,
      "order": null,
      "overflow": null,
      "overflow_x": null,
      "overflow_y": null,
      "padding": null,
      "right": null,
      "top": null,
      "visibility": null,
      "width": null
     }
    },
    "4293f815970745c5b916c712f0081a07": {
     "model_module": "@jupyter-widgets/controls",
     "model_name": "ProgressStyleModel",
     "state": {
      "_model_module": "@jupyter-widgets/controls",
      "_model_module_version": "1.5.0",
      "_model_name": "ProgressStyleModel",
      "_view_count": null,
      "_view_module": "@jupyter-widgets/base",
      "_view_module_version": "1.2.0",
      "_view_name": "StyleView",
      "bar_color": null,
      "description_width": "initial"
     }
    },
    "45493d79ce6643cd80c96bc005755c18": {
     "model_module": "@jupyter-widgets/controls",
     "model_name": "ProgressStyleModel",
     "state": {
      "_model_module": "@jupyter-widgets/controls",
      "_model_module_version": "1.5.0",
      "_model_name": "ProgressStyleModel",
      "_view_count": null,
      "_view_module": "@jupyter-widgets/base",
      "_view_module_version": "1.2.0",
      "_view_name": "StyleView",
      "bar_color": null,
      "description_width": "initial"
     }
    },
    "5638b4ff4b2244ff8d410415268049cd": {
     "model_module": "@jupyter-widgets/controls",
     "model_name": "HBoxModel",
     "state": {
      "_dom_classes": [],
      "_model_module": "@jupyter-widgets/controls",
      "_model_module_version": "1.5.0",
      "_model_name": "HBoxModel",
      "_view_count": null,
      "_view_module": "@jupyter-widgets/controls",
      "_view_module_version": "1.5.0",
      "_view_name": "HBoxView",
      "box_style": "",
      "children": [
       "IPY_MODEL_203eedab4b68430d8573d343c6f22ccb",
       "IPY_MODEL_addaca4c4f22497dae441f2ed48d531f"
      ],
      "layout": "IPY_MODEL_6de674d1f0b349a7b12501c52f045143"
     }
    },
    "5c7704c7c37a4908a5c802149e415a78": {
     "model_module": "@jupyter-widgets/controls",
     "model_name": "HBoxModel",
     "state": {
      "_dom_classes": [],
      "_model_module": "@jupyter-widgets/controls",
      "_model_module_version": "1.5.0",
      "_model_name": "HBoxModel",
      "_view_count": null,
      "_view_module": "@jupyter-widgets/controls",
      "_view_module_version": "1.5.0",
      "_view_name": "HBoxView",
      "box_style": "",
      "children": [
       "IPY_MODEL_e3df41fea2ee4c0582ed2fbf2e45fea5",
       "IPY_MODEL_682892970bf54644a1881058bf13bcd9"
      ],
      "layout": "IPY_MODEL_30f2254dd41b4dc28131b6025d68a380"
     }
    },
    "61964896e2df45bf9c236f8002be9212": {
     "model_module": "@jupyter-widgets/controls",
     "model_name": "HTMLModel",
     "state": {
      "_dom_classes": [],
      "_model_module": "@jupyter-widgets/controls",
      "_model_module_version": "1.5.0",
      "_model_name": "HTMLModel",
      "_view_count": null,
      "_view_module": "@jupyter-widgets/controls",
      "_view_module_version": "1.5.0",
      "_view_name": "HTMLView",
      "description": "",
      "description_tooltip": null,
      "layout": "IPY_MODEL_6869d9d2b7844cf3bb1f3600a700bf5f",
      "placeholder": "​",
      "style": "IPY_MODEL_c5850f20fa6b493aa2c729c1147bb4e1",
      "value": " 268M/268M [00:04&lt;00:00, 55.6MB/s]"
     }
    },
    "682892970bf54644a1881058bf13bcd9": {
     "model_module": "@jupyter-widgets/controls",
     "model_name": "HTMLModel",
     "state": {
      "_dom_classes": [],
      "_model_module": "@jupyter-widgets/controls",
      "_model_module_version": "1.5.0",
      "_model_name": "HTMLModel",
      "_view_count": null,
      "_view_module": "@jupyter-widgets/controls",
      "_view_module_version": "1.5.0",
      "_view_name": "HTMLView",
      "description": "",
      "description_tooltip": null,
      "layout": "IPY_MODEL_047904171e4746a892bb8720d8bc2a5b",
      "placeholder": "​",
      "style": "IPY_MODEL_dde0016a8b98416e85f870c043b00ce5",
      "value": " 232k/232k [00:00&lt;00:00, 809kB/s]"
     }
    },
    "6869d9d2b7844cf3bb1f3600a700bf5f": {
     "model_module": "@jupyter-widgets/base",
     "model_name": "LayoutModel",
     "state": {
      "_model_module": "@jupyter-widgets/base",
      "_model_module_version": "1.2.0",
      "_model_name": "LayoutModel",
      "_view_count": null,
      "_view_module": "@jupyter-widgets/base",
      "_view_module_version": "1.2.0",
      "_view_name": "LayoutView",
      "align_content": null,
      "align_items": null,
      "align_self": null,
      "border": null,
      "bottom": null,
      "display": null,
      "flex": null,
      "flex_flow": null,
      "grid_area": null,
      "grid_auto_columns": null,
      "grid_auto_flow": null,
      "grid_auto_rows": null,
      "grid_column": null,
      "grid_gap": null,
      "grid_row": null,
      "grid_template_areas": null,
      "grid_template_columns": null,
      "grid_template_rows": null,
      "height": null,
      "justify_content": null,
      "justify_items": null,
      "left": null,
      "margin": null,
      "max_height": null,
      "max_width": null,
      "min_height": null,
      "min_width": null,
      "object_fit": null,
      "object_position": null,
      "order": null,
      "overflow": null,
      "overflow_x": null,
      "overflow_y": null,
      "padding": null,
      "right": null,
      "top": null,
      "visibility": null,
      "width": null
     }
    },
    "6de674d1f0b349a7b12501c52f045143": {
     "model_module": "@jupyter-widgets/base",
     "model_name": "LayoutModel",
     "state": {
      "_model_module": "@jupyter-widgets/base",
      "_model_module_version": "1.2.0",
      "_model_name": "LayoutModel",
      "_view_count": null,
      "_view_module": "@jupyter-widgets/base",
      "_view_module_version": "1.2.0",
      "_view_name": "LayoutView",
      "align_content": null,
      "align_items": null,
      "align_self": null,
      "border": null,
      "bottom": null,
      "display": null,
      "flex": null,
      "flex_flow": null,
      "grid_area": null,
      "grid_auto_columns": null,
      "grid_auto_flow": null,
      "grid_auto_rows": null,
      "grid_column": null,
      "grid_gap": null,
      "grid_row": null,
      "grid_template_areas": null,
      "grid_template_columns": null,
      "grid_template_rows": null,
      "height": null,
      "justify_content": null,
      "justify_items": null,
      "left": null,
      "margin": null,
      "max_height": null,
      "max_width": null,
      "min_height": null,
      "min_width": null,
      "object_fit": null,
      "object_position": null,
      "order": null,
      "overflow": null,
      "overflow_x": null,
      "overflow_y": null,
      "padding": null,
      "right": null,
      "top": null,
      "visibility": null,
      "width": null
     }
    },
    "74deddc6e9964a8d9b9779a61636cc08": {
     "model_module": "@jupyter-widgets/controls",
     "model_name": "HTMLModel",
     "state": {
      "_dom_classes": [],
      "_model_module": "@jupyter-widgets/controls",
      "_model_module_version": "1.5.0",
      "_model_name": "HTMLModel",
      "_view_count": null,
      "_view_module": "@jupyter-widgets/controls",
      "_view_module_version": "1.5.0",
      "_view_name": "HTMLView",
      "description": "",
      "description_tooltip": null,
      "layout": "IPY_MODEL_0823fa1bb9264685946093f5c918cfaa",
      "placeholder": "​",
      "style": "IPY_MODEL_f243adabbf524215b36007577b8101a2",
      "value": " 442/442 [00:17&lt;00:00, 25.1B/s]"
     }
    },
    "80d5f0d6a0f24d0fa3c285b943c77228": {
     "model_module": "@jupyter-widgets/controls",
     "model_name": "HTMLModel",
     "state": {
      "_dom_classes": [],
      "_model_module": "@jupyter-widgets/controls",
      "_model_module_version": "1.5.0",
      "_model_name": "HTMLModel",
      "_view_count": null,
      "_view_module": "@jupyter-widgets/controls",
      "_view_module_version": "1.5.0",
      "_view_name": "HTMLView",
      "description": "",
      "description_tooltip": null,
      "layout": "IPY_MODEL_3d57a8a461f042e9b776ac8138cd82d4",
      "placeholder": "​",
      "style": "IPY_MODEL_e9af364b0d254c0fa82159e996d85926",
      "value": " 433/433 [00:07&lt;00:00, 60.9B/s]"
     }
    },
    "88937cda2b4840f889b21628c58d3fce": {
     "model_module": "@jupyter-widgets/base",
     "model_name": "LayoutModel",
     "state": {
      "_model_module": "@jupyter-widgets/base",
      "_model_module_version": "1.2.0",
      "_model_name": "LayoutModel",
      "_view_count": null,
      "_view_module": "@jupyter-widgets/base",
      "_view_module_version": "1.2.0",
      "_view_name": "LayoutView",
      "align_content": null,
      "align_items": null,
      "align_self": null,
      "border": null,
      "bottom": null,
      "display": null,
      "flex": null,
      "flex_flow": null,
      "grid_area": null,
      "grid_auto_columns": null,
      "grid_auto_flow": null,
      "grid_auto_rows": null,
      "grid_column": null,
      "grid_gap": null,
      "grid_row": null,
      "grid_template_areas": null,
      "grid_template_columns": null,
      "grid_template_rows": null,
      "height": null,
      "justify_content": null,
      "justify_items": null,
      "left": null,
      "margin": null,
      "max_height": null,
      "max_width": null,
      "min_height": null,
      "min_width": null,
      "object_fit": null,
      "object_position": null,
      "order": null,
      "overflow": null,
      "overflow_x": null,
      "overflow_y": null,
      "padding": null,
      "right": null,
      "top": null,
      "visibility": null,
      "width": null
     }
    },
    "9030d749e7db4be1b68ad7437105d83c": {
     "model_module": "@jupyter-widgets/controls",
     "model_name": "FloatProgressModel",
     "state": {
      "_dom_classes": [],
      "_model_module": "@jupyter-widgets/controls",
      "_model_module_version": "1.5.0",
      "_model_name": "FloatProgressModel",
      "_view_count": null,
      "_view_module": "@jupyter-widgets/controls",
      "_view_module_version": "1.5.0",
      "_view_name": "ProgressView",
      "bar_style": "success",
      "description": "Downloading: 100%",
      "description_tooltip": null,
      "layout": "IPY_MODEL_d564e5547fc941338d857d0007fc0f20",
      "max": 433,
      "min": 0,
      "orientation": "horizontal",
      "style": "IPY_MODEL_45493d79ce6643cd80c96bc005755c18",
      "value": 433
     }
    },
    "a0c496abcc3142de8cd9d16a8da6d637": {
     "model_module": "@jupyter-widgets/controls",
     "model_name": "DescriptionStyleModel",
     "state": {
      "_model_module": "@jupyter-widgets/controls",
      "_model_module_version": "1.5.0",
      "_model_name": "DescriptionStyleModel",
      "_view_count": null,
      "_view_module": "@jupyter-widgets/base",
      "_view_module_version": "1.2.0",
      "_view_name": "StyleView",
      "description_width": ""
     }
    },
    "addaca4c4f22497dae441f2ed48d531f": {
     "model_module": "@jupyter-widgets/controls",
     "model_name": "HTMLModel",
     "state": {
      "_dom_classes": [],
      "_model_module": "@jupyter-widgets/controls",
      "_model_module_version": "1.5.0",
      "_model_name": "HTMLModel",
      "_view_count": null,
      "_view_module": "@jupyter-widgets/controls",
      "_view_module_version": "1.5.0",
      "_view_name": "HTMLView",
      "description": "",
      "description_tooltip": null,
      "layout": "IPY_MODEL_b94e8ebc7d854ffaa05af0277325cf96",
      "placeholder": "​",
      "style": "IPY_MODEL_a0c496abcc3142de8cd9d16a8da6d637",
      "value": " 440M/440M [00:06&lt;00:00, 66.2MB/s]"
     }
    },
    "b94e8ebc7d854ffaa05af0277325cf96": {
     "model_module": "@jupyter-widgets/base",
     "model_name": "LayoutModel",
     "state": {
      "_model_module": "@jupyter-widgets/base",
      "_model_module_version": "1.2.0",
      "_model_name": "LayoutModel",
      "_view_count": null,
      "_view_module": "@jupyter-widgets/base",
      "_view_module_version": "1.2.0",
      "_view_name": "LayoutView",
      "align_content": null,
      "align_items": null,
      "align_self": null,
      "border": null,
      "bottom": null,
      "display": null,
      "flex": null,
      "flex_flow": null,
      "grid_area": null,
      "grid_auto_columns": null,
      "grid_auto_flow": null,
      "grid_auto_rows": null,
      "grid_column": null,
      "grid_gap": null,
      "grid_row": null,
      "grid_template_areas": null,
      "grid_template_columns": null,
      "grid_template_rows": null,
      "height": null,
      "justify_content": null,
      "justify_items": null,
      "left": null,
      "margin": null,
      "max_height": null,
      "max_width": null,
      "min_height": null,
      "min_width": null,
      "object_fit": null,
      "object_position": null,
      "order": null,
      "overflow": null,
      "overflow_x": null,
      "overflow_y": null,
      "padding": null,
      "right": null,
      "top": null,
      "visibility": null,
      "width": null
     }
    },
    "c1c63c59020545e89bf28d77051962da": {
     "model_module": "@jupyter-widgets/controls",
     "model_name": "HBoxModel",
     "state": {
      "_dom_classes": [],
      "_model_module": "@jupyter-widgets/controls",
      "_model_module_version": "1.5.0",
      "_model_name": "HBoxModel",
      "_view_count": null,
      "_view_module": "@jupyter-widgets/controls",
      "_view_module_version": "1.5.0",
      "_view_name": "HBoxView",
      "box_style": "",
      "children": [
       "IPY_MODEL_9030d749e7db4be1b68ad7437105d83c",
       "IPY_MODEL_80d5f0d6a0f24d0fa3c285b943c77228"
      ],
      "layout": "IPY_MODEL_e319fde4ee924b31b0f53516d55f32a2"
     }
    },
    "c42260f41d9444e0a7c50b1e60d12a8a": {
     "model_module": "@jupyter-widgets/base",
     "model_name": "LayoutModel",
     "state": {
      "_model_module": "@jupyter-widgets/base",
      "_model_module_version": "1.2.0",
      "_model_name": "LayoutModel",
      "_view_count": null,
      "_view_module": "@jupyter-widgets/base",
      "_view_module_version": "1.2.0",
      "_view_name": "LayoutView",
      "align_content": null,
      "align_items": null,
      "align_self": null,
      "border": null,
      "bottom": null,
      "display": null,
      "flex": null,
      "flex_flow": null,
      "grid_area": null,
      "grid_auto_columns": null,
      "grid_auto_flow": null,
      "grid_auto_rows": null,
      "grid_column": null,
      "grid_gap": null,
      "grid_row": null,
      "grid_template_areas": null,
      "grid_template_columns": null,
      "grid_template_rows": null,
      "height": null,
      "justify_content": null,
      "justify_items": null,
      "left": null,
      "margin": null,
      "max_height": null,
      "max_width": null,
      "min_height": null,
      "min_width": null,
      "object_fit": null,
      "object_position": null,
      "order": null,
      "overflow": null,
      "overflow_x": null,
      "overflow_y": null,
      "padding": null,
      "right": null,
      "top": null,
      "visibility": null,
      "width": null
     }
    },
    "c5850f20fa6b493aa2c729c1147bb4e1": {
     "model_module": "@jupyter-widgets/controls",
     "model_name": "DescriptionStyleModel",
     "state": {
      "_model_module": "@jupyter-widgets/controls",
      "_model_module_version": "1.5.0",
      "_model_name": "DescriptionStyleModel",
      "_view_count": null,
      "_view_module": "@jupyter-widgets/base",
      "_view_module_version": "1.2.0",
      "_view_name": "StyleView",
      "description_width": ""
     }
    },
    "d42b60c25c3c4b758d4b921071c98a0f": {
     "model_module": "@jupyter-widgets/base",
     "model_name": "LayoutModel",
     "state": {
      "_model_module": "@jupyter-widgets/base",
      "_model_module_version": "1.2.0",
      "_model_name": "LayoutModel",
      "_view_count": null,
      "_view_module": "@jupyter-widgets/base",
      "_view_module_version": "1.2.0",
      "_view_name": "LayoutView",
      "align_content": null,
      "align_items": null,
      "align_self": null,
      "border": null,
      "bottom": null,
      "display": null,
      "flex": null,
      "flex_flow": null,
      "grid_area": null,
      "grid_auto_columns": null,
      "grid_auto_flow": null,
      "grid_auto_rows": null,
      "grid_column": null,
      "grid_gap": null,
      "grid_row": null,
      "grid_template_areas": null,
      "grid_template_columns": null,
      "grid_template_rows": null,
      "height": null,
      "justify_content": null,
      "justify_items": null,
      "left": null,
      "margin": null,
      "max_height": null,
      "max_width": null,
      "min_height": null,
      "min_width": null,
      "object_fit": null,
      "object_position": null,
      "order": null,
      "overflow": null,
      "overflow_x": null,
      "overflow_y": null,
      "padding": null,
      "right": null,
      "top": null,
      "visibility": null,
      "width": null
     }
    },
    "d564e5547fc941338d857d0007fc0f20": {
     "model_module": "@jupyter-widgets/base",
     "model_name": "LayoutModel",
     "state": {
      "_model_module": "@jupyter-widgets/base",
      "_model_module_version": "1.2.0",
      "_model_name": "LayoutModel",
      "_view_count": null,
      "_view_module": "@jupyter-widgets/base",
      "_view_module_version": "1.2.0",
      "_view_name": "LayoutView",
      "align_content": null,
      "align_items": null,
      "align_self": null,
      "border": null,
      "bottom": null,
      "display": null,
      "flex": null,
      "flex_flow": null,
      "grid_area": null,
      "grid_auto_columns": null,
      "grid_auto_flow": null,
      "grid_auto_rows": null,
      "grid_column": null,
      "grid_gap": null,
      "grid_row": null,
      "grid_template_areas": null,
      "grid_template_columns": null,
      "grid_template_rows": null,
      "height": null,
      "justify_content": null,
      "justify_items": null,
      "left": null,
      "margin": null,
      "max_height": null,
      "max_width": null,
      "min_height": null,
      "min_width": null,
      "object_fit": null,
      "object_position": null,
      "order": null,
      "overflow": null,
      "overflow_x": null,
      "overflow_y": null,
      "padding": null,
      "right": null,
      "top": null,
      "visibility": null,
      "width": null
     }
    },
    "dde0016a8b98416e85f870c043b00ce5": {
     "model_module": "@jupyter-widgets/controls",
     "model_name": "DescriptionStyleModel",
     "state": {
      "_model_module": "@jupyter-widgets/controls",
      "_model_module_version": "1.5.0",
      "_model_name": "DescriptionStyleModel",
      "_view_count": null,
      "_view_module": "@jupyter-widgets/base",
      "_view_module_version": "1.2.0",
      "_view_name": "StyleView",
      "description_width": ""
     }
    },
    "dfe146e60a2c49e7b386f05c415d394a": {
     "model_module": "@jupyter-widgets/base",
     "model_name": "LayoutModel",
     "state": {
      "_model_module": "@jupyter-widgets/base",
      "_model_module_version": "1.2.0",
      "_model_name": "LayoutModel",
      "_view_count": null,
      "_view_module": "@jupyter-widgets/base",
      "_view_module_version": "1.2.0",
      "_view_name": "LayoutView",
      "align_content": null,
      "align_items": null,
      "align_self": null,
      "border": null,
      "bottom": null,
      "display": null,
      "flex": null,
      "flex_flow": null,
      "grid_area": null,
      "grid_auto_columns": null,
      "grid_auto_flow": null,
      "grid_auto_rows": null,
      "grid_column": null,
      "grid_gap": null,
      "grid_row": null,
      "grid_template_areas": null,
      "grid_template_columns": null,
      "grid_template_rows": null,
      "height": null,
      "justify_content": null,
      "justify_items": null,
      "left": null,
      "margin": null,
      "max_height": null,
      "max_width": null,
      "min_height": null,
      "min_width": null,
      "object_fit": null,
      "object_position": null,
      "order": null,
      "overflow": null,
      "overflow_x": null,
      "overflow_y": null,
      "padding": null,
      "right": null,
      "top": null,
      "visibility": null,
      "width": null
     }
    },
    "e159c4e407824bdab9391d1fc1586754": {
     "model_module": "@jupyter-widgets/base",
     "model_name": "LayoutModel",
     "state": {
      "_model_module": "@jupyter-widgets/base",
      "_model_module_version": "1.2.0",
      "_model_name": "LayoutModel",
      "_view_count": null,
      "_view_module": "@jupyter-widgets/base",
      "_view_module_version": "1.2.0",
      "_view_name": "LayoutView",
      "align_content": null,
      "align_items": null,
      "align_self": null,
      "border": null,
      "bottom": null,
      "display": null,
      "flex": null,
      "flex_flow": null,
      "grid_area": null,
      "grid_auto_columns": null,
      "grid_auto_flow": null,
      "grid_auto_rows": null,
      "grid_column": null,
      "grid_gap": null,
      "grid_row": null,
      "grid_template_areas": null,
      "grid_template_columns": null,
      "grid_template_rows": null,
      "height": null,
      "justify_content": null,
      "justify_items": null,
      "left": null,
      "margin": null,
      "max_height": null,
      "max_width": null,
      "min_height": null,
      "min_width": null,
      "object_fit": null,
      "object_position": null,
      "order": null,
      "overflow": null,
      "overflow_x": null,
      "overflow_y": null,
      "padding": null,
      "right": null,
      "top": null,
      "visibility": null,
      "width": null
     }
    },
    "e319fde4ee924b31b0f53516d55f32a2": {
     "model_module": "@jupyter-widgets/base",
     "model_name": "LayoutModel",
     "state": {
      "_model_module": "@jupyter-widgets/base",
      "_model_module_version": "1.2.0",
      "_model_name": "LayoutModel",
      "_view_count": null,
      "_view_module": "@jupyter-widgets/base",
      "_view_module_version": "1.2.0",
      "_view_name": "LayoutView",
      "align_content": null,
      "align_items": null,
      "align_self": null,
      "border": null,
      "bottom": null,
      "display": null,
      "flex": null,
      "flex_flow": null,
      "grid_area": null,
      "grid_auto_columns": null,
      "grid_auto_flow": null,
      "grid_auto_rows": null,
      "grid_column": null,
      "grid_gap": null,
      "grid_row": null,
      "grid_template_areas": null,
      "grid_template_columns": null,
      "grid_template_rows": null,
      "height": null,
      "justify_content": null,
      "justify_items": null,
      "left": null,
      "margin": null,
      "max_height": null,
      "max_width": null,
      "min_height": null,
      "min_width": null,
      "object_fit": null,
      "object_position": null,
      "order": null,
      "overflow": null,
      "overflow_x": null,
      "overflow_y": null,
      "padding": null,
      "right": null,
      "top": null,
      "visibility": null,
      "width": null
     }
    },
    "e3df41fea2ee4c0582ed2fbf2e45fea5": {
     "model_module": "@jupyter-widgets/controls",
     "model_name": "FloatProgressModel",
     "state": {
      "_dom_classes": [],
      "_model_module": "@jupyter-widgets/controls",
      "_model_module_version": "1.5.0",
      "_model_name": "FloatProgressModel",
      "_view_count": null,
      "_view_module": "@jupyter-widgets/controls",
      "_view_module_version": "1.5.0",
      "_view_name": "ProgressView",
      "bar_style": "success",
      "description": "Downloading: 100%",
      "description_tooltip": null,
      "layout": "IPY_MODEL_c42260f41d9444e0a7c50b1e60d12a8a",
      "max": 231508,
      "min": 0,
      "orientation": "horizontal",
      "style": "IPY_MODEL_35ae960383e9451080cd87a5703b3757",
      "value": 231508
     }
    },
    "e9af364b0d254c0fa82159e996d85926": {
     "model_module": "@jupyter-widgets/controls",
     "model_name": "DescriptionStyleModel",
     "state": {
      "_model_module": "@jupyter-widgets/controls",
      "_model_module_version": "1.5.0",
      "_model_name": "DescriptionStyleModel",
      "_view_count": null,
      "_view_module": "@jupyter-widgets/base",
      "_view_module_version": "1.2.0",
      "_view_name": "StyleView",
      "description_width": ""
     }
    },
    "f243adabbf524215b36007577b8101a2": {
     "model_module": "@jupyter-widgets/controls",
     "model_name": "DescriptionStyleModel",
     "state": {
      "_model_module": "@jupyter-widgets/controls",
      "_model_module_version": "1.5.0",
      "_model_name": "DescriptionStyleModel",
      "_view_count": null,
      "_view_module": "@jupyter-widgets/base",
      "_view_module_version": "1.2.0",
      "_view_name": "StyleView",
      "description_width": ""
     }
    }
   }
  }
 },
 "nbformat": 4,
 "nbformat_minor": 1
}
