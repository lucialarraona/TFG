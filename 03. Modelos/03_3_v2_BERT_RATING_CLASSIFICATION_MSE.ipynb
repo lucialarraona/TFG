{
 "cells": [
  {
   "cell_type": "markdown",
   "metadata": {
    "id": "IaLnDfGYiW4e"
   },
   "source": [
    "# Librerias"
   ]
  },
  {
   "cell_type": "code",
   "execution_count": 1,
   "metadata": {
    "executionInfo": {
     "elapsed": 2823,
     "status": "ok",
     "timestamp": 1615190055162,
     "user": {
      "displayName": "Lucía LS",
      "photoUrl": "https://lh3.googleusercontent.com/a-/AOh14GgOn57PPOCxvFJnbQAkq7ergm-XXZhjUhX15xdhqQ=s64",
      "userId": "08790667885016852653"
     },
     "user_tz": -60
    },
    "id": "7UFpAiQTiYjx"
   },
   "outputs": [],
   "source": [
    "%%capture \n",
    "!pip install transformers"
   ]
  },
  {
   "cell_type": "code",
   "execution_count": 1,
   "metadata": {
    "executionInfo": {
     "elapsed": 2942,
     "status": "ok",
     "timestamp": 1615190055481,
     "user": {
      "displayName": "Lucía LS",
      "photoUrl": "https://lh3.googleusercontent.com/a-/AOh14GgOn57PPOCxvFJnbQAkq7ergm-XXZhjUhX15xdhqQ=s64",
      "userId": "08790667885016852653"
     },
     "user_tz": -60
    },
    "id": "f35SHFtzimJ-"
   },
   "outputs": [],
   "source": [
    "from sklearn.model_selection import train_test_split\n",
    "import torch"
   ]
  },
  {
   "cell_type": "code",
   "execution_count": 2,
   "metadata": {
    "executionInfo": {
     "elapsed": 2896,
     "status": "ok",
     "timestamp": 1615190055668,
     "user": {
      "displayName": "Lucía LS",
      "photoUrl": "https://lh3.googleusercontent.com/a-/AOh14GgOn57PPOCxvFJnbQAkq7ergm-XXZhjUhX15xdhqQ=s64",
      "userId": "08790667885016852653"
     },
     "user_tz": -60
    },
    "id": "2k0Ohzv4TLPB"
   },
   "outputs": [],
   "source": [
    "import warnings\n",
    "warnings.filterwarnings('ignore')"
   ]
  },
  {
   "cell_type": "code",
   "execution_count": 3,
   "metadata": {
    "executionInfo": {
     "elapsed": 5597,
     "status": "ok",
     "timestamp": 1615190059149,
     "user": {
      "displayName": "Lucía LS",
      "photoUrl": "https://lh3.googleusercontent.com/a-/AOh14GgOn57PPOCxvFJnbQAkq7ergm-XXZhjUhX15xdhqQ=s64",
      "userId": "08790667885016852653"
     },
     "user_tz": -60
    },
    "id": "lrr3DThJmY-4"
   },
   "outputs": [],
   "source": [
    "%%capture\n",
    "!pip install wandb\n",
    "import wandb\n",
    "wandb.login()\n",
    "# api key 64d2528e8d76865170c16bf804e7172bb3780c79"
   ]
  },
  {
   "cell_type": "code",
   "execution_count": 4,
   "metadata": {
    "colab": {
     "base_uri": "https://localhost:8080/"
    },
    "executionInfo": {
     "elapsed": 503,
     "status": "ok",
     "timestamp": 1615190064173,
     "user": {
      "displayName": "Lucía LS",
      "photoUrl": "https://lh3.googleusercontent.com/a-/AOh14GgOn57PPOCxvFJnbQAkq7ergm-XXZhjUhX15xdhqQ=s64",
      "userId": "08790667885016852653"
     },
     "user_tz": -60
    },
    "id": "InIN4Da7mwkk",
    "outputId": "ef5ee86c-5f92-4ab3-8a3b-5d0fda3684d3"
   },
   "outputs": [
    {
     "name": "stdout",
     "output_type": "stream",
     "text": [
      "2\n"
     ]
    }
   ],
   "source": [
    "print(2)"
   ]
  },
  {
   "cell_type": "markdown",
   "metadata": {
    "id": "fRn0d1SIhD2w"
   },
   "source": [
    "# Carga de datos\n",
    "- incluidas nuevas columnas con concatenacion de review_body y categoria, review_body y titulo\n",
    "- nuevos indices para star rating, de 0-4 en vez de 1-5\n",
    "- numericalizar las categorias de los productos, 31 en total"
   ]
  },
  {
   "cell_type": "code",
   "execution_count": 8,
   "metadata": {
    "colab": {
     "base_uri": "https://localhost:8080/"
    },
    "executionInfo": {
     "elapsed": 22104,
     "status": "ok",
     "timestamp": 1615190112183,
     "user": {
      "displayName": "Lucía LS",
      "photoUrl": "https://lh3.googleusercontent.com/a-/AOh14GgOn57PPOCxvFJnbQAkq7ergm-XXZhjUhX15xdhqQ=s64",
      "userId": "08790667885016852653"
     },
     "user_tz": -60
    },
    "id": "1hpRSXd3g9e6",
    "outputId": "46752462-94af-42d2-c3f9-3575c5c994ba"
   },
   "outputs": [
    {
     "name": "stdout",
     "output_type": "stream",
     "text": [
      "Mounted at /content/drive\n"
     ]
    }
   ],
   "source": [
    "from google.colab import drive\n",
    "drive.mount('/content/drive')"
   ]
  },
  {
   "cell_type": "code",
   "execution_count": 6,
   "metadata": {},
   "outputs": [
    {
     "name": "stdout",
     "output_type": "stream",
     "text": [
      " AzureML\r\n",
      " Chek1mv_multi\r\n",
      " Chek1mv_multi5\r\n",
      " Chek1mv_multi_2\r\n",
      " Chek1mv_multi_3\r\n",
      " Chek1mv_multi_4\r\n",
      " Chek1mv_multi_fewshotDE\r\n",
      " Chek2mv_multi\r\n",
      " Chek3mv_multi\r\n",
      " Chek4mv_multi\r\n",
      "'Clasificaciones con TRAINER - BERT_distilBERT-mse-ELENA.ipynb'\r\n",
      "'Clasificaciones con TRAINER - BERT_distilBERT.ipynb'\r\n",
      " Clasificaciones_con_TRAINER_mBERT_crosslingual-Copy1.ipynb\r\n",
      " Clasificaciones_con_TRAINER_mBERT_crosslingual-few_shot.ipynb\r\n",
      " Clasificaciones_con_TRAINER_mBERT_crosslingual.ipynb\r\n",
      " Elena\r\n",
      " MMLSpark\r\n",
      " SparkML\r\n",
      " Untitled.ipynb\r\n",
      " amazonDE_test.csv\r\n",
      " amazonDE_train.csv\r\n",
      " amazonDE_valid.csv\r\n",
      " amazonEN_test.csv\r\n",
      " amazonEN_train.csv\r\n",
      " amazonEN_valid.csv\r\n",
      " amazonES_test.csv\r\n",
      " amazonES_valid.csv\r\n",
      " amazonFR_test.csv\r\n",
      " amazonFR_valid.csv\r\n",
      " catboost\r\n",
      " few_shot_DE.csv\r\n",
      " few_shot_ES.csv\r\n",
      " few_shot_FR.csv\r\n",
      " h2o\r\n",
      " julia\r\n",
      " mBERT_RATING_CLASSIFICATION.ipynb\r\n",
      " prueba\r\n",
      " pytorch\r\n",
      "'visualizacion attention.ipynb'\r\n",
      " wandb\r\n"
     ]
    }
   ],
   "source": [
    "!ls ../notebooks"
   ]
  },
  {
   "cell_type": "code",
   "execution_count": null,
   "metadata": {},
   "outputs": [],
   "source": []
  },
  {
   "cell_type": "code",
   "execution_count": 9,
   "metadata": {},
   "outputs": [],
   "source": [
    "# Load data\n",
    "import pandas as pd\n",
    "path1 = \"./amazonEN_train.csv\"\n",
    "path2 = \"./amazonEN_valid.csv\"\n",
    "path3 = \"./amazonEN_test.csv\"\n",
    "df_train = pd.read_csv(path1)\n",
    "df_train = df_train\n",
    "df_valid = pd.read_csv(path2)\n",
    "df_valid = df_valid\n",
    "df_test = pd.read_csv(path3)\n",
    "df_test = df_test"
   ]
  },
  {
   "cell_type": "code",
   "execution_count": 12,
   "metadata": {},
   "outputs": [
    {
     "data": {
      "text/plain": [
       "array([4, 1, 0, 2, 3])"
      ]
     },
     "execution_count": 12,
     "metadata": {},
     "output_type": "execute_result"
    }
   ],
   "source": [
    "df_train.star_rating.unique()"
   ]
  },
  {
   "cell_type": "code",
   "execution_count": 6,
   "metadata": {
    "executionInfo": {
     "elapsed": 6113,
     "status": "ok",
     "timestamp": 1615190118334,
     "user": {
      "displayName": "Lucía LS",
      "photoUrl": "https://lh3.googleusercontent.com/a-/AOh14GgOn57PPOCxvFJnbQAkq7ergm-XXZhjUhX15xdhqQ=s64",
      "userId": "08790667885016852653"
     },
     "user_tz": -60
    },
    "id": "TSwvSunMhDUm"
   },
   "outputs": [],
   "source": [
    "# Load data\n",
    "import pandas as pd\n",
    "path1 = \"../nlp_transf/data/train/dataset_en_train.json\"\n",
    "path2 = \"../nlp_transf/data/dev/dataset_en_dev.json\"\n",
    "path3 = \"../nlp_transf/data/test/dataset_en_test.json\"\n",
    "\n",
    "df_train = pd.read_json(path1, lines = True).rename(columns={'stars':'star_rating'})\n",
    "df_train = df_train\n",
    "df_valid = pd.read_json(path2, lines = True).rename(columns={'stars':'star_rating'})\n",
    "df_valid = df_valid\n",
    "df_test = pd.read_json(path3, lines = True).rename(columns={'stars':'star_rating'})\n",
    "df_test = df_test"
   ]
  },
  {
   "cell_type": "code",
   "execution_count": 18,
   "metadata": {
    "colab": {
     "base_uri": "https://localhost:8080/",
     "height": 185
    },
    "executionInfo": {
     "elapsed": 6095,
     "status": "ok",
     "timestamp": 1615190118336,
     "user": {
      "displayName": "Lucía LS",
      "photoUrl": "https://lh3.googleusercontent.com/a-/AOh14GgOn57PPOCxvFJnbQAkq7ergm-XXZhjUhX15xdhqQ=s64",
      "userId": "08790667885016852653"
     },
     "user_tz": -60
    },
    "id": "6RQEjf46nZdX",
    "outputId": "e3d34b8c-147d-420d-d510-188e4e615cc1"
   },
   "outputs": [
    {
     "data": {
      "text/plain": [
       "array([1, 2, 3, 4, 5])"
      ]
     },
     "execution_count": 18,
     "metadata": {},
     "output_type": "execute_result"
    }
   ],
   "source": [
    "df_train.star_rating.unique()\n"
   ]
  },
  {
   "cell_type": "markdown",
   "metadata": {
    "id": "W0BcGi97iOLp"
   },
   "source": [
    "# Carga modelo BERT // distilBERT\n",
    "- incluye tokenizer"
   ]
  },
  {
   "cell_type": "code",
   "execution_count": 28,
   "metadata": {
    "id": "dc7JoaRnh34h"
   },
   "outputs": [],
   "source": [
    "# Bert \n",
    "\n",
    "PRE_TRAINED_MODEL_NAME = 'bert-base-uncased'\n",
    "from transformers import BertModel, BertConfig, BertTokenizer\n",
    "from transformers import BertForSequenceClassification\n",
    "tokenizer = BertTokenizer.from_pretrained(PRE_TRAINED_MODEL_NAME)"
   ]
  },
  {
   "cell_type": "code",
   "execution_count": 13,
   "metadata": {
    "colab": {
     "base_uri": "https://localhost:8080/",
     "height": 66,
     "referenced_widgets": [
      "5c7704c7c37a4908a5c802149e415a78",
      "30f2254dd41b4dc28131b6025d68a380",
      "e3df41fea2ee4c0582ed2fbf2e45fea5",
      "682892970bf54644a1881058bf13bcd9",
      "35ae960383e9451080cd87a5703b3757",
      "c42260f41d9444e0a7c50b1e60d12a8a",
      "dde0016a8b98416e85f870c043b00ce5",
      "047904171e4746a892bb8720d8bc2a5b"
     ]
    },
    "executionInfo": {
     "elapsed": 1496,
     "status": "ok",
     "timestamp": 1615190126057,
     "user": {
      "displayName": "Lucía LS",
      "photoUrl": "https://lh3.googleusercontent.com/a-/AOh14GgOn57PPOCxvFJnbQAkq7ergm-XXZhjUhX15xdhqQ=s64",
      "userId": "08790667885016852653"
     },
     "user_tz": -60
    },
    "id": "YO5IMnhwkGi9",
    "outputId": "b8cbc858-699a-4606-f0d3-a52c8830b143"
   },
   "outputs": [],
   "source": [
    "# DistilBert\n",
    "\n",
    "from transformers import DistilBertTokenizer, DistilBertForSequenceClassification\n",
    "PRE_TRAINED_MODEL_NAME = 'distilbert-base-uncased'\n",
    "tokenizer = DistilBertTokenizer.from_pretrained(PRE_TRAINED_MODEL_NAME)\n"
   ]
  },
  {
   "cell_type": "markdown",
   "metadata": {
    "id": "-2LSsgFij0Xk"
   },
   "source": [
    "# BertForSequenceClassification - RATING\n",
    "- Clasificación Rating a partir de review_body"
   ]
  },
  {
   "cell_type": "code",
   "execution_count": 30,
   "metadata": {
    "colab": {
     "base_uri": "https://localhost:8080/"
    },
    "executionInfo": {
     "elapsed": 539,
     "status": "ok",
     "timestamp": 1615190126351,
     "user": {
      "displayName": "Lucía LS",
      "photoUrl": "https://lh3.googleusercontent.com/a-/AOh14GgOn57PPOCxvFJnbQAkq7ergm-XXZhjUhX15xdhqQ=s64",
      "userId": "08790667885016852653"
     },
     "user_tz": -60
    },
    "id": "YTkq8g1EnIBf",
    "outputId": "6410cc5d-d8ea-41f9-9b69-4f41b3e72a67"
   },
   "outputs": [
    {
     "name": "stdout",
     "output_type": "stream",
     "text": [
      "env: WANDB_PROJECT=RATING CLASSIFICATION distilBERT\n"
     ]
    }
   ],
   "source": [
    "%env WANDB_PROJECT = RATING CLASSIFICATION distilBERT"
   ]
  },
  {
   "cell_type": "code",
   "execution_count": 14,
   "metadata": {
    "executionInfo": {
     "elapsed": 736,
     "status": "ok",
     "timestamp": 1615190128504,
     "user": {
      "displayName": "Lucía LS",
      "photoUrl": "https://lh3.googleusercontent.com/a-/AOh14GgOn57PPOCxvFJnbQAkq7ergm-XXZhjUhX15xdhqQ=s64",
      "userId": "08790667885016852653"
     },
     "user_tz": -60
    },
    "id": "K868-ZqRifki"
   },
   "outputs": [],
   "source": [
    "RANDOM_SEED=8\n",
    "MAX_LENGTH=512\n",
    "\n",
    "\n",
    "## CLASES DEL CLASIFICADOR \n",
    "\n",
    "class_names = ['0','1','2','3','4'] "
   ]
  },
  {
   "cell_type": "code",
   "execution_count": 15,
   "metadata": {
    "executionInfo": {
     "elapsed": 172222,
     "status": "ok",
     "timestamp": 1615190300317,
     "user": {
      "displayName": "Lucía LS",
      "photoUrl": "https://lh3.googleusercontent.com/a-/AOh14GgOn57PPOCxvFJnbQAkq7ergm-XXZhjUhX15xdhqQ=s64",
      "userId": "08790667885016852653"
     },
     "user_tz": -60
    },
    "id": "XCYGgZimjMXy"
   },
   "outputs": [],
   "source": [
    "#TOKENIZAMOS LOS DATAFRAMES\n",
    "\n",
    "train_encodings = tokenizer(df_train.review_body.values.tolist(), #truncation=True, padding=True,\n",
    "      add_special_tokens=True,\n",
    "      truncation=True,\n",
    "      max_length=MAX_LENGTH,\n",
    "      return_token_type_ids=False,\n",
    "      pad_to_max_length=True,\n",
    "      return_attention_mask=True,\n",
    "      return_tensors='pt')\n",
    "\n",
    "val_encodings = tokenizer(df_valid.review_body.values.tolist(), #truncation=True, padding=True,\n",
    "      add_special_tokens=True,\n",
    "      truncation=True,\n",
    "      max_length=MAX_LENGTH,\n",
    "      return_token_type_ids=False,\n",
    "      pad_to_max_length=True,\n",
    "      return_attention_mask=True,\n",
    "      return_tensors='pt')\n",
    "\n",
    "test_encodings = tokenizer(df_test.review_body.values.tolist(), #truncation=True, padding=True,\n",
    "      add_special_tokens=True,\n",
    "      truncation=True,\n",
    "      max_length=MAX_LENGTH,\n",
    "      return_token_type_ids=False,\n",
    "      pad_to_max_length=True,\n",
    "      return_attention_mask=True,\n",
    "      return_tensors='pt')"
   ]
  },
  {
   "cell_type": "code",
   "execution_count": 9,
   "metadata": {},
   "outputs": [
    {
     "name": "stdout",
     "output_type": "stream",
     "text": [
      "2\n"
     ]
    }
   ],
   "source": [
    "print(2)"
   ]
  },
  {
   "cell_type": "code",
   "execution_count": 16,
   "metadata": {
    "executionInfo": {
     "elapsed": 169547,
     "status": "ok",
     "timestamp": 1615190300320,
     "user": {
      "displayName": "Lucía LS",
      "photoUrl": "https://lh3.googleusercontent.com/a-/AOh14GgOn57PPOCxvFJnbQAkq7ergm-XXZhjUhX15xdhqQ=s64",
      "userId": "08790667885016852653"
     },
     "user_tz": -60
    },
    "id": "PbZwUznzjbso"
   },
   "outputs": [],
   "source": [
    "class GPReviewDataset(torch.utils.data.Dataset):\n",
    "    def __init__(self, encodings, labels):\n",
    "        self.encodings = encodings\n",
    "        self.labels = labels\n",
    "\n",
    "    def __getitem__(self, idx):\n",
    "        item = {key: torch.tensor(val[idx]) for key, val in self.encodings.items()}\n",
    "        item['labels'] = torch.tensor(self.labels[idx])\n",
    "        return item\n",
    "\n",
    "    def __len__(self):\n",
    "        return len(self.labels)"
   ]
  },
  {
   "cell_type": "code",
   "execution_count": 17,
   "metadata": {
    "executionInfo": {
     "elapsed": 169303,
     "status": "ok",
     "timestamp": 1615190300322,
     "user": {
      "displayName": "Lucía LS",
      "photoUrl": "https://lh3.googleusercontent.com/a-/AOh14GgOn57PPOCxvFJnbQAkq7ergm-XXZhjUhX15xdhqQ=s64",
      "userId": "08790667885016852653"
     },
     "user_tz": -60
    },
    "id": "MQa18Qyojncq"
   },
   "outputs": [],
   "source": [
    "#train_labels = df_train.star_rating.apply(lambda x: x-1).values\n",
    "#val_labels = df_valid.star_rating.apply(lambda x: x-1).values\n",
    "#test_labels = df_test.star_rating.apply(lambda x: x-1).values\n",
    "\n",
    "train_labels = df_train.star_rating.values\n",
    "val_labels = df_valid.star_rating.values\n",
    "test_labels = df_test.star_rating.values\n",
    "\n",
    "\n",
    "train_labels = torch.from_numpy(train_labels).to(torch.float32) \n",
    "val_labels = torch.from_numpy(val_labels).to(torch.float32) \n",
    "test_labels = torch.from_numpy(test_labels).to(torch.float32) \n",
    "\n",
    "\n",
    "\n",
    "\n",
    "train_data = GPReviewDataset(train_encodings, train_labels)\n",
    "val_data = GPReviewDataset(val_encodings, val_labels)\n",
    "test_data = GPReviewDataset(test_encodings, test_labels)"
   ]
  },
  {
   "cell_type": "code",
   "execution_count": 18,
   "metadata": {},
   "outputs": [],
   "source": [
    "class_names = ['0','1','2','3','4'] \n",
    "\n"
   ]
  },
  {
   "cell_type": "code",
   "execution_count": 77,
   "metadata": {
    "executionInfo": {
     "elapsed": 168876,
     "status": "ok",
     "timestamp": 1615190300323,
     "user": {
      "displayName": "Lucía LS",
      "photoUrl": "https://lh3.googleusercontent.com/a-/AOh14GgOn57PPOCxvFJnbQAkq7ergm-XXZhjUhX15xdhqQ=s64",
      "userId": "08790667885016852653"
     },
     "user_tz": -60
    },
    "id": "sxFmuoDQjoTf"
   },
   "outputs": [],
   "source": []
  },
  {
   "cell_type": "code",
   "execution_count": 19,
   "metadata": {
    "colab": {
     "base_uri": "https://localhost:8080/",
     "height": 220,
     "referenced_widgets": [
      "39147fea27d2492f8cbaa64caabb9708",
      "88937cda2b4840f889b21628c58d3fce",
      "3baea76ece56454b8986983c3c2aeac9",
      "74deddc6e9964a8d9b9779a61636cc08",
      "2c69321155644e5e828827b086be21a7",
      "d42b60c25c3c4b758d4b921071c98a0f",
      "f243adabbf524215b36007577b8101a2",
      "0823fa1bb9264685946093f5c918cfaa",
      "0a36e46add3a4e17ac42a5bb83f6176d",
      "dfe146e60a2c49e7b386f05c415d394a",
      "21a32464f7d045a29bd87e3ba02e9ffe",
      "61964896e2df45bf9c236f8002be9212",
      "2fb851bbaf0042b08b140f67c067e044",
      "e159c4e407824bdab9391d1fc1586754",
      "c5850f20fa6b493aa2c729c1147bb4e1",
      "6869d9d2b7844cf3bb1f3600a700bf5f"
     ]
    },
    "executionInfo": {
     "elapsed": 175507,
     "status": "ok",
     "timestamp": 1615190307481,
     "user": {
      "displayName": "Lucía LS",
      "photoUrl": "https://lh3.googleusercontent.com/a-/AOh14GgOn57PPOCxvFJnbQAkq7ergm-XXZhjUhX15xdhqQ=s64",
      "userId": "08790667885016852653"
     },
     "user_tz": -60
    },
    "id": "usFdcdYej3rp",
    "outputId": "d47638c9-0d7a-46c5-bb2a-415d7131824d"
   },
   "outputs": [
    {
     "name": "stderr",
     "output_type": "stream",
     "text": [
      "Some weights of the model checkpoint at distilbert-base-uncased were not used when initializing DistilBertForSequenceClassification: ['vocab_transform.weight', 'vocab_transform.bias', 'vocab_layer_norm.weight', 'vocab_layer_norm.bias', 'vocab_projector.weight', 'vocab_projector.bias']\n",
      "- This IS expected if you are initializing DistilBertForSequenceClassification from the checkpoint of a model trained on another task or with another architecture (e.g. initializing a BertForSequenceClassification model from a BertForPreTraining model).\n",
      "- This IS NOT expected if you are initializing DistilBertForSequenceClassification from the checkpoint of a model that you expect to be exactly identical (initializing a BertForSequenceClassification model from a BertForSequenceClassification model).\n",
      "Some weights of DistilBertForSequenceClassification were not initialized from the model checkpoint at distilbert-base-uncased and are newly initialized: ['pre_classifier.weight', 'pre_classifier.bias', 'classifier.weight', 'classifier.bias']\n",
      "You should probably TRAIN this model on a down-stream task to be able to use it for predictions and inference.\n"
     ]
    }
   ],
   "source": [
    "from transformers import BertForSequenceClassification\n",
    "from transformers import DistilBertForSequenceClassification\n",
    "\n",
    "## DEFINIMOS EL MODELO \n",
    "\n",
    "model = DistilBertForSequenceClassification.from_pretrained(\n",
    "    PRE_TRAINED_MODEL_NAME, # Use the 12-layer BERT model, with an uncased vocab.\n",
    "    num_labels = 1, # The number of output labels--2 for binary classification.  si pones num_labels=1 hace MSE LOSS\n",
    "    output_attentions = False, # Whether the model returns attentions weights.\n",
    "    output_hidden_states = False ,# Whether the model returns all hidden-states.   \n",
    "    vocab_size=tokenizer.vocab_size)"
   ]
  },
  {
   "cell_type": "code",
   "execution_count": 19,
   "metadata": {},
   "outputs": [],
   "source": [
    "DistilBertForSequenceClassification?"
   ]
  },
  {
   "cell_type": "code",
   "execution_count": 20,
   "metadata": {
    "executionInfo": {
     "elapsed": 182172,
     "status": "ok",
     "timestamp": 1615190317621,
     "user": {
      "displayName": "Lucía LS",
      "photoUrl": "https://lh3.googleusercontent.com/a-/AOh14GgOn57PPOCxvFJnbQAkq7ergm-XXZhjUhX15xdhqQ=s64",
      "userId": "08790667885016852653"
     },
     "user_tz": -60
    },
    "id": "exEBcFJzkPGr"
   },
   "outputs": [],
   "source": [
    "device = torch.device(\"cuda:0\" if torch.cuda.is_available() else \"cpu\")\n",
    "model = model.to(device)"
   ]
  },
  {
   "cell_type": "code",
   "execution_count": 20,
   "metadata": {
    "colab": {
     "base_uri": "https://localhost:8080/"
    },
    "executionInfo": {
     "elapsed": 181871,
     "status": "ok",
     "timestamp": 1615190317623,
     "user": {
      "displayName": "Lucía LS",
      "photoUrl": "https://lh3.googleusercontent.com/a-/AOh14GgOn57PPOCxvFJnbQAkq7ergm-XXZhjUhX15xdhqQ=s64",
      "userId": "08790667885016852653"
     },
     "user_tz": -60
    },
    "id": "inO-_JupSqjT",
    "outputId": "e653edc5-d69e-4412-e41b-6dea13c9b5f0"
   },
   "outputs": [
    {
     "data": {
      "text/plain": [
       "'torch.LongTensor'"
      ]
     },
     "execution_count": 20,
     "metadata": {},
     "output_type": "execute_result"
    }
   ],
   "source": [
    "train_data.labels.type()\n",
    "\n",
    "\n"
   ]
  },
  {
   "cell_type": "markdown",
   "metadata": {
    "id": "nLl7UJW4kb-v"
   },
   "source": [
    "## Training"
   ]
  },
  {
   "cell_type": "code",
   "execution_count": 21,
   "metadata": {
    "executionInfo": {
     "elapsed": 179303,
     "status": "ok",
     "timestamp": 1615190317623,
     "user": {
      "displayName": "Lucía LS",
      "photoUrl": "https://lh3.googleusercontent.com/a-/AOh14GgOn57PPOCxvFJnbQAkq7ergm-XXZhjUhX15xdhqQ=s64",
      "userId": "08790667885016852653"
     },
     "user_tz": -60
    },
    "id": "Xkm45ylGh2O4"
   },
   "outputs": [],
   "source": [
    "from sklearn.metrics import precision_recall_fscore_support\n",
    "from sklearn.metrics import accuracy_score\n",
    "\n",
    "def compute_metrics(pred):\n",
    "    labels = pred.label_ids\n",
    "    preds = pred.predictions.argmax(-1)\n",
    "    precision, recall, f1, _ = precision_recall_fscore_support(labels, preds, average='weighted')\n",
    "    acc = accuracy_score(labels, preds)\n",
    "    return {\n",
    "        'accuracy': acc,\n",
    "        'f1': f1,\n",
    "        'precision': precision,\n",
    "        'recall': recall\n",
    "    }"
   ]
  },
  {
   "cell_type": "code",
   "execution_count": 18,
   "metadata": {
    "id": "d_NfVc5DuFIf"
   },
   "outputs": [
    {
     "data": {
      "text/plain": [
       "'torch.LongTensor'"
      ]
     },
     "execution_count": 18,
     "metadata": {},
     "output_type": "execute_result"
    }
   ],
   "source": [
    "train_data.encodings['input_ids'].type()"
   ]
  },
  {
   "cell_type": "code",
   "execution_count": 22,
   "metadata": {
    "colab": {
     "base_uri": "https://localhost:8080/",
     "height": 239
    },
    "id": "7pRmuYoNka_p",
    "outputId": "0f283896-a3b6-4429-ceb9-443624809365"
   },
   "outputs": [
    {
     "name": "stderr",
     "output_type": "stream",
     "text": [
      "\u001b[34m\u001b[1mwandb\u001b[0m: wandb version 0.10.24 is available!  To upgrade, please run:\n",
      "\u001b[34m\u001b[1mwandb\u001b[0m:  $ pip install wandb --upgrade\n"
     ]
    },
    {
     "data": {
      "text/html": [
       "\n",
       "                Tracking run with wandb version 0.10.23<br/>\n",
       "                Syncing run <strong style=\"color:#cdcd00\">review_body</strong> to <a href=\"https://wandb.ai\" target=\"_blank\">Weights & Biases</a> <a href=\"https://docs.wandb.com/integrations/jupyter.html\" target=\"_blank\">(Documentation)</a>.<br/>\n",
       "                Project page: <a href=\"https://wandb.ai/lucialarraona/huggingface\" target=\"_blank\">https://wandb.ai/lucialarraona/huggingface</a><br/>\n",
       "                Run page: <a href=\"https://wandb.ai/lucialarraona/huggingface/runs/3advo53z\" target=\"_blank\">https://wandb.ai/lucialarraona/huggingface/runs/3advo53z</a><br/>\n",
       "                Run data is saved locally in <code>/home/nlpbert/notebooks/wandb/run-20210403_145735-3advo53z</code><br/><br/>\n",
       "            "
      ],
      "text/plain": [
       "<IPython.core.display.HTML object>"
      ]
     },
     "metadata": {},
     "output_type": "display_data"
    },
    {
     "ename": "RuntimeError",
     "evalue": "Caught RuntimeError in replica 0 on device 0.\nOriginal Traceback (most recent call last):\n  File \"/anaconda/envs/nlp/lib/python3.7/site-packages/torch/nn/parallel/parallel_apply.py\", line 61, in _worker\n    output = module(*input, **kwargs)\n  File \"/anaconda/envs/nlp/lib/python3.7/site-packages/torch/nn/modules/module.py\", line 727, in _call_impl\n    result = self.forward(*input, **kwargs)\n  File \"/anaconda/envs/nlp/lib/python3.7/site-packages/transformers/models/distilbert/modeling_distilbert.py\", line 625, in forward\n    return_dict=return_dict,\n  File \"/anaconda/envs/nlp/lib/python3.7/site-packages/torch/nn/modules/module.py\", line 727, in _call_impl\n    result = self.forward(*input, **kwargs)\n  File \"/anaconda/envs/nlp/lib/python3.7/site-packages/transformers/models/distilbert/modeling_distilbert.py\", line 489, in forward\n    return_dict=return_dict,\n  File \"/anaconda/envs/nlp/lib/python3.7/site-packages/torch/nn/modules/module.py\", line 727, in _call_impl\n    result = self.forward(*input, **kwargs)\n  File \"/anaconda/envs/nlp/lib/python3.7/site-packages/transformers/models/distilbert/modeling_distilbert.py\", line 309, in forward\n    x=hidden_state, attn_mask=attn_mask, head_mask=head_mask[i], output_attentions=output_attentions\n  File \"/anaconda/envs/nlp/lib/python3.7/site-packages/torch/nn/modules/module.py\", line 727, in _call_impl\n    result = self.forward(*input, **kwargs)\n  File \"/anaconda/envs/nlp/lib/python3.7/site-packages/transformers/models/distilbert/modeling_distilbert.py\", line 256, in forward\n    output_attentions=output_attentions,\n  File \"/anaconda/envs/nlp/lib/python3.7/site-packages/torch/nn/modules/module.py\", line 727, in _call_impl\n    result = self.forward(*input, **kwargs)\n  File \"/anaconda/envs/nlp/lib/python3.7/site-packages/transformers/models/distilbert/modeling_distilbert.py\", line 186, in forward\n    weights = nn.Softmax(dim=-1)(scores)  # (bs, n_heads, q_length, k_length)\n  File \"/anaconda/envs/nlp/lib/python3.7/site-packages/torch/nn/modules/module.py\", line 727, in _call_impl\n    result = self.forward(*input, **kwargs)\n  File \"/anaconda/envs/nlp/lib/python3.7/site-packages/torch/nn/modules/activation.py\", line 1198, in forward\n    return F.softmax(input, self.dim, _stacklevel=5)\n  File \"/anaconda/envs/nlp/lib/python3.7/site-packages/torch/nn/functional.py\", line 1512, in softmax\n    ret = input.softmax(dim)\nRuntimeError: CUDA out of memory. Tried to allocate 96.00 MiB (GPU 0; 11.17 GiB total capacity; 1.42 GiB already allocated; 45.44 MiB free; 1.44 GiB reserved in total by PyTorch)\n",
     "output_type": "error",
     "traceback": [
      "\u001b[0;31m---------------------------------------------------------------------------\u001b[0m",
      "\u001b[0;31mRuntimeError\u001b[0m                              Traceback (most recent call last)",
      "\u001b[0;32m<ipython-input-22-fc3f391450c6>\u001b[0m in \u001b[0;36m<module>\u001b[0;34m\u001b[0m\n\u001b[1;32m     28\u001b[0m )\n\u001b[1;32m     29\u001b[0m \u001b[0;34m\u001b[0m\u001b[0m\n\u001b[0;32m---> 30\u001b[0;31m \u001b[0mtrainer\u001b[0m\u001b[0;34m.\u001b[0m\u001b[0mtrain\u001b[0m\u001b[0;34m(\u001b[0m\u001b[0;34m)\u001b[0m\u001b[0;34m\u001b[0m\u001b[0;34m\u001b[0m\u001b[0m\n\u001b[0m",
      "\u001b[0;32m/anaconda/envs/nlp/lib/python3.7/site-packages/transformers/trainer.py\u001b[0m in \u001b[0;36mtrain\u001b[0;34m(self, resume_from_checkpoint, trial, **kwargs)\u001b[0m\n\u001b[1;32m   1051\u001b[0m                         \u001b[0mtr_loss\u001b[0m \u001b[0;34m+=\u001b[0m \u001b[0mself\u001b[0m\u001b[0;34m.\u001b[0m\u001b[0mtraining_step\u001b[0m\u001b[0;34m(\u001b[0m\u001b[0mmodel\u001b[0m\u001b[0;34m,\u001b[0m \u001b[0minputs\u001b[0m\u001b[0;34m)\u001b[0m\u001b[0;34m\u001b[0m\u001b[0;34m\u001b[0m\u001b[0m\n\u001b[1;32m   1052\u001b[0m                 \u001b[0;32melse\u001b[0m\u001b[0;34m:\u001b[0m\u001b[0;34m\u001b[0m\u001b[0;34m\u001b[0m\u001b[0m\n\u001b[0;32m-> 1053\u001b[0;31m                     \u001b[0mtr_loss\u001b[0m \u001b[0;34m+=\u001b[0m \u001b[0mself\u001b[0m\u001b[0;34m.\u001b[0m\u001b[0mtraining_step\u001b[0m\u001b[0;34m(\u001b[0m\u001b[0mmodel\u001b[0m\u001b[0;34m,\u001b[0m \u001b[0minputs\u001b[0m\u001b[0;34m)\u001b[0m\u001b[0;34m\u001b[0m\u001b[0;34m\u001b[0m\u001b[0m\n\u001b[0m\u001b[1;32m   1054\u001b[0m                 \u001b[0mself\u001b[0m\u001b[0;34m.\u001b[0m\u001b[0m_total_flos\u001b[0m \u001b[0;34m+=\u001b[0m \u001b[0mfloat\u001b[0m\u001b[0;34m(\u001b[0m\u001b[0mself\u001b[0m\u001b[0;34m.\u001b[0m\u001b[0mfloating_point_ops\u001b[0m\u001b[0;34m(\u001b[0m\u001b[0minputs\u001b[0m\u001b[0;34m)\u001b[0m\u001b[0;34m)\u001b[0m\u001b[0;34m\u001b[0m\u001b[0;34m\u001b[0m\u001b[0m\n\u001b[1;32m   1055\u001b[0m \u001b[0;34m\u001b[0m\u001b[0m\n",
      "\u001b[0;32m/anaconda/envs/nlp/lib/python3.7/site-packages/transformers/trainer.py\u001b[0m in \u001b[0;36mtraining_step\u001b[0;34m(self, model, inputs)\u001b[0m\n\u001b[1;32m   1441\u001b[0m                 \u001b[0mloss\u001b[0m \u001b[0;34m=\u001b[0m \u001b[0mself\u001b[0m\u001b[0;34m.\u001b[0m\u001b[0mcompute_loss\u001b[0m\u001b[0;34m(\u001b[0m\u001b[0mmodel\u001b[0m\u001b[0;34m,\u001b[0m \u001b[0minputs\u001b[0m\u001b[0;34m)\u001b[0m\u001b[0;34m\u001b[0m\u001b[0;34m\u001b[0m\u001b[0m\n\u001b[1;32m   1442\u001b[0m         \u001b[0;32melse\u001b[0m\u001b[0;34m:\u001b[0m\u001b[0;34m\u001b[0m\u001b[0;34m\u001b[0m\u001b[0m\n\u001b[0;32m-> 1443\u001b[0;31m             \u001b[0mloss\u001b[0m \u001b[0;34m=\u001b[0m \u001b[0mself\u001b[0m\u001b[0;34m.\u001b[0m\u001b[0mcompute_loss\u001b[0m\u001b[0;34m(\u001b[0m\u001b[0mmodel\u001b[0m\u001b[0;34m,\u001b[0m \u001b[0minputs\u001b[0m\u001b[0;34m)\u001b[0m\u001b[0;34m\u001b[0m\u001b[0;34m\u001b[0m\u001b[0m\n\u001b[0m\u001b[1;32m   1444\u001b[0m \u001b[0;34m\u001b[0m\u001b[0m\n\u001b[1;32m   1445\u001b[0m         \u001b[0;32mif\u001b[0m \u001b[0mself\u001b[0m\u001b[0;34m.\u001b[0m\u001b[0margs\u001b[0m\u001b[0;34m.\u001b[0m\u001b[0mn_gpu\u001b[0m \u001b[0;34m>\u001b[0m \u001b[0;36m1\u001b[0m\u001b[0;34m:\u001b[0m\u001b[0;34m\u001b[0m\u001b[0;34m\u001b[0m\u001b[0m\n",
      "\u001b[0;32m/anaconda/envs/nlp/lib/python3.7/site-packages/transformers/trainer.py\u001b[0m in \u001b[0;36mcompute_loss\u001b[0;34m(self, model, inputs, return_outputs)\u001b[0m\n\u001b[1;32m   1473\u001b[0m         \u001b[0;32melse\u001b[0m\u001b[0;34m:\u001b[0m\u001b[0;34m\u001b[0m\u001b[0;34m\u001b[0m\u001b[0m\n\u001b[1;32m   1474\u001b[0m             \u001b[0mlabels\u001b[0m \u001b[0;34m=\u001b[0m \u001b[0;32mNone\u001b[0m\u001b[0;34m\u001b[0m\u001b[0;34m\u001b[0m\u001b[0m\n\u001b[0;32m-> 1475\u001b[0;31m         \u001b[0moutputs\u001b[0m \u001b[0;34m=\u001b[0m \u001b[0mmodel\u001b[0m\u001b[0;34m(\u001b[0m\u001b[0;34m**\u001b[0m\u001b[0minputs\u001b[0m\u001b[0;34m)\u001b[0m\u001b[0;34m\u001b[0m\u001b[0;34m\u001b[0m\u001b[0m\n\u001b[0m\u001b[1;32m   1476\u001b[0m         \u001b[0;31m# Save past state if it exists\u001b[0m\u001b[0;34m\u001b[0m\u001b[0;34m\u001b[0m\u001b[0;34m\u001b[0m\u001b[0m\n\u001b[1;32m   1477\u001b[0m         \u001b[0;31m# TODO: this needs to be fixed and made cleaner later.\u001b[0m\u001b[0;34m\u001b[0m\u001b[0;34m\u001b[0m\u001b[0;34m\u001b[0m\u001b[0m\n",
      "\u001b[0;32m/anaconda/envs/nlp/lib/python3.7/site-packages/torch/nn/modules/module.py\u001b[0m in \u001b[0;36m_call_impl\u001b[0;34m(self, *input, **kwargs)\u001b[0m\n\u001b[1;32m    725\u001b[0m             \u001b[0mresult\u001b[0m \u001b[0;34m=\u001b[0m \u001b[0mself\u001b[0m\u001b[0;34m.\u001b[0m\u001b[0m_slow_forward\u001b[0m\u001b[0;34m(\u001b[0m\u001b[0;34m*\u001b[0m\u001b[0minput\u001b[0m\u001b[0;34m,\u001b[0m \u001b[0;34m**\u001b[0m\u001b[0mkwargs\u001b[0m\u001b[0;34m)\u001b[0m\u001b[0;34m\u001b[0m\u001b[0;34m\u001b[0m\u001b[0m\n\u001b[1;32m    726\u001b[0m         \u001b[0;32melse\u001b[0m\u001b[0;34m:\u001b[0m\u001b[0;34m\u001b[0m\u001b[0;34m\u001b[0m\u001b[0m\n\u001b[0;32m--> 727\u001b[0;31m             \u001b[0mresult\u001b[0m \u001b[0;34m=\u001b[0m \u001b[0mself\u001b[0m\u001b[0;34m.\u001b[0m\u001b[0mforward\u001b[0m\u001b[0;34m(\u001b[0m\u001b[0;34m*\u001b[0m\u001b[0minput\u001b[0m\u001b[0;34m,\u001b[0m \u001b[0;34m**\u001b[0m\u001b[0mkwargs\u001b[0m\u001b[0;34m)\u001b[0m\u001b[0;34m\u001b[0m\u001b[0;34m\u001b[0m\u001b[0m\n\u001b[0m\u001b[1;32m    728\u001b[0m         for hook in itertools.chain(\n\u001b[1;32m    729\u001b[0m                 \u001b[0m_global_forward_hooks\u001b[0m\u001b[0;34m.\u001b[0m\u001b[0mvalues\u001b[0m\u001b[0;34m(\u001b[0m\u001b[0;34m)\u001b[0m\u001b[0;34m,\u001b[0m\u001b[0;34m\u001b[0m\u001b[0;34m\u001b[0m\u001b[0m\n",
      "\u001b[0;32m/anaconda/envs/nlp/lib/python3.7/site-packages/torch/nn/parallel/data_parallel.py\u001b[0m in \u001b[0;36mforward\u001b[0;34m(self, *inputs, **kwargs)\u001b[0m\n\u001b[1;32m    159\u001b[0m             \u001b[0;32mreturn\u001b[0m \u001b[0mself\u001b[0m\u001b[0;34m.\u001b[0m\u001b[0mmodule\u001b[0m\u001b[0;34m(\u001b[0m\u001b[0;34m*\u001b[0m\u001b[0minputs\u001b[0m\u001b[0;34m[\u001b[0m\u001b[0;36m0\u001b[0m\u001b[0;34m]\u001b[0m\u001b[0;34m,\u001b[0m \u001b[0;34m**\u001b[0m\u001b[0mkwargs\u001b[0m\u001b[0;34m[\u001b[0m\u001b[0;36m0\u001b[0m\u001b[0;34m]\u001b[0m\u001b[0;34m)\u001b[0m\u001b[0;34m\u001b[0m\u001b[0;34m\u001b[0m\u001b[0m\n\u001b[1;32m    160\u001b[0m         \u001b[0mreplicas\u001b[0m \u001b[0;34m=\u001b[0m \u001b[0mself\u001b[0m\u001b[0;34m.\u001b[0m\u001b[0mreplicate\u001b[0m\u001b[0;34m(\u001b[0m\u001b[0mself\u001b[0m\u001b[0;34m.\u001b[0m\u001b[0mmodule\u001b[0m\u001b[0;34m,\u001b[0m \u001b[0mself\u001b[0m\u001b[0;34m.\u001b[0m\u001b[0mdevice_ids\u001b[0m\u001b[0;34m[\u001b[0m\u001b[0;34m:\u001b[0m\u001b[0mlen\u001b[0m\u001b[0;34m(\u001b[0m\u001b[0minputs\u001b[0m\u001b[0;34m)\u001b[0m\u001b[0;34m]\u001b[0m\u001b[0;34m)\u001b[0m\u001b[0;34m\u001b[0m\u001b[0;34m\u001b[0m\u001b[0m\n\u001b[0;32m--> 161\u001b[0;31m         \u001b[0moutputs\u001b[0m \u001b[0;34m=\u001b[0m \u001b[0mself\u001b[0m\u001b[0;34m.\u001b[0m\u001b[0mparallel_apply\u001b[0m\u001b[0;34m(\u001b[0m\u001b[0mreplicas\u001b[0m\u001b[0;34m,\u001b[0m \u001b[0minputs\u001b[0m\u001b[0;34m,\u001b[0m \u001b[0mkwargs\u001b[0m\u001b[0;34m)\u001b[0m\u001b[0;34m\u001b[0m\u001b[0;34m\u001b[0m\u001b[0m\n\u001b[0m\u001b[1;32m    162\u001b[0m         \u001b[0;32mreturn\u001b[0m \u001b[0mself\u001b[0m\u001b[0;34m.\u001b[0m\u001b[0mgather\u001b[0m\u001b[0;34m(\u001b[0m\u001b[0moutputs\u001b[0m\u001b[0;34m,\u001b[0m \u001b[0mself\u001b[0m\u001b[0;34m.\u001b[0m\u001b[0moutput_device\u001b[0m\u001b[0;34m)\u001b[0m\u001b[0;34m\u001b[0m\u001b[0;34m\u001b[0m\u001b[0m\n\u001b[1;32m    163\u001b[0m \u001b[0;34m\u001b[0m\u001b[0m\n",
      "\u001b[0;32m/anaconda/envs/nlp/lib/python3.7/site-packages/torch/nn/parallel/data_parallel.py\u001b[0m in \u001b[0;36mparallel_apply\u001b[0;34m(self, replicas, inputs, kwargs)\u001b[0m\n\u001b[1;32m    169\u001b[0m \u001b[0;34m\u001b[0m\u001b[0m\n\u001b[1;32m    170\u001b[0m     \u001b[0;32mdef\u001b[0m \u001b[0mparallel_apply\u001b[0m\u001b[0;34m(\u001b[0m\u001b[0mself\u001b[0m\u001b[0;34m,\u001b[0m \u001b[0mreplicas\u001b[0m\u001b[0;34m,\u001b[0m \u001b[0minputs\u001b[0m\u001b[0;34m,\u001b[0m \u001b[0mkwargs\u001b[0m\u001b[0;34m)\u001b[0m\u001b[0;34m:\u001b[0m\u001b[0;34m\u001b[0m\u001b[0;34m\u001b[0m\u001b[0m\n\u001b[0;32m--> 171\u001b[0;31m         \u001b[0;32mreturn\u001b[0m \u001b[0mparallel_apply\u001b[0m\u001b[0;34m(\u001b[0m\u001b[0mreplicas\u001b[0m\u001b[0;34m,\u001b[0m \u001b[0minputs\u001b[0m\u001b[0;34m,\u001b[0m \u001b[0mkwargs\u001b[0m\u001b[0;34m,\u001b[0m \u001b[0mself\u001b[0m\u001b[0;34m.\u001b[0m\u001b[0mdevice_ids\u001b[0m\u001b[0;34m[\u001b[0m\u001b[0;34m:\u001b[0m\u001b[0mlen\u001b[0m\u001b[0;34m(\u001b[0m\u001b[0mreplicas\u001b[0m\u001b[0;34m)\u001b[0m\u001b[0;34m]\u001b[0m\u001b[0;34m)\u001b[0m\u001b[0;34m\u001b[0m\u001b[0;34m\u001b[0m\u001b[0m\n\u001b[0m\u001b[1;32m    172\u001b[0m \u001b[0;34m\u001b[0m\u001b[0m\n\u001b[1;32m    173\u001b[0m     \u001b[0;32mdef\u001b[0m \u001b[0mgather\u001b[0m\u001b[0;34m(\u001b[0m\u001b[0mself\u001b[0m\u001b[0;34m,\u001b[0m \u001b[0moutputs\u001b[0m\u001b[0;34m,\u001b[0m \u001b[0moutput_device\u001b[0m\u001b[0;34m)\u001b[0m\u001b[0;34m:\u001b[0m\u001b[0;34m\u001b[0m\u001b[0;34m\u001b[0m\u001b[0m\n",
      "\u001b[0;32m/anaconda/envs/nlp/lib/python3.7/site-packages/torch/nn/parallel/parallel_apply.py\u001b[0m in \u001b[0;36mparallel_apply\u001b[0;34m(modules, inputs, kwargs_tup, devices)\u001b[0m\n\u001b[1;32m     84\u001b[0m         \u001b[0moutput\u001b[0m \u001b[0;34m=\u001b[0m \u001b[0mresults\u001b[0m\u001b[0;34m[\u001b[0m\u001b[0mi\u001b[0m\u001b[0;34m]\u001b[0m\u001b[0;34m\u001b[0m\u001b[0;34m\u001b[0m\u001b[0m\n\u001b[1;32m     85\u001b[0m         \u001b[0;32mif\u001b[0m \u001b[0misinstance\u001b[0m\u001b[0;34m(\u001b[0m\u001b[0moutput\u001b[0m\u001b[0;34m,\u001b[0m \u001b[0mExceptionWrapper\u001b[0m\u001b[0;34m)\u001b[0m\u001b[0;34m:\u001b[0m\u001b[0;34m\u001b[0m\u001b[0;34m\u001b[0m\u001b[0m\n\u001b[0;32m---> 86\u001b[0;31m             \u001b[0moutput\u001b[0m\u001b[0;34m.\u001b[0m\u001b[0mreraise\u001b[0m\u001b[0;34m(\u001b[0m\u001b[0;34m)\u001b[0m\u001b[0;34m\u001b[0m\u001b[0;34m\u001b[0m\u001b[0m\n\u001b[0m\u001b[1;32m     87\u001b[0m         \u001b[0moutputs\u001b[0m\u001b[0;34m.\u001b[0m\u001b[0mappend\u001b[0m\u001b[0;34m(\u001b[0m\u001b[0moutput\u001b[0m\u001b[0;34m)\u001b[0m\u001b[0;34m\u001b[0m\u001b[0;34m\u001b[0m\u001b[0m\n\u001b[1;32m     88\u001b[0m     \u001b[0;32mreturn\u001b[0m \u001b[0moutputs\u001b[0m\u001b[0;34m\u001b[0m\u001b[0;34m\u001b[0m\u001b[0m\n",
      "\u001b[0;32m/anaconda/envs/nlp/lib/python3.7/site-packages/torch/_utils.py\u001b[0m in \u001b[0;36mreraise\u001b[0;34m(self)\u001b[0m\n\u001b[1;32m    426\u001b[0m             \u001b[0;31m# have message field\u001b[0m\u001b[0;34m\u001b[0m\u001b[0;34m\u001b[0m\u001b[0;34m\u001b[0m\u001b[0m\n\u001b[1;32m    427\u001b[0m             \u001b[0;32mraise\u001b[0m \u001b[0mself\u001b[0m\u001b[0;34m.\u001b[0m\u001b[0mexc_type\u001b[0m\u001b[0;34m(\u001b[0m\u001b[0mmessage\u001b[0m\u001b[0;34m=\u001b[0m\u001b[0mmsg\u001b[0m\u001b[0;34m)\u001b[0m\u001b[0;34m\u001b[0m\u001b[0;34m\u001b[0m\u001b[0m\n\u001b[0;32m--> 428\u001b[0;31m         \u001b[0;32mraise\u001b[0m \u001b[0mself\u001b[0m\u001b[0;34m.\u001b[0m\u001b[0mexc_type\u001b[0m\u001b[0;34m(\u001b[0m\u001b[0mmsg\u001b[0m\u001b[0;34m)\u001b[0m\u001b[0;34m\u001b[0m\u001b[0;34m\u001b[0m\u001b[0m\n\u001b[0m\u001b[1;32m    429\u001b[0m \u001b[0;34m\u001b[0m\u001b[0m\n\u001b[1;32m    430\u001b[0m \u001b[0;34m\u001b[0m\u001b[0m\n",
      "\u001b[0;31mRuntimeError\u001b[0m: Caught RuntimeError in replica 0 on device 0.\nOriginal Traceback (most recent call last):\n  File \"/anaconda/envs/nlp/lib/python3.7/site-packages/torch/nn/parallel/parallel_apply.py\", line 61, in _worker\n    output = module(*input, **kwargs)\n  File \"/anaconda/envs/nlp/lib/python3.7/site-packages/torch/nn/modules/module.py\", line 727, in _call_impl\n    result = self.forward(*input, **kwargs)\n  File \"/anaconda/envs/nlp/lib/python3.7/site-packages/transformers/models/distilbert/modeling_distilbert.py\", line 625, in forward\n    return_dict=return_dict,\n  File \"/anaconda/envs/nlp/lib/python3.7/site-packages/torch/nn/modules/module.py\", line 727, in _call_impl\n    result = self.forward(*input, **kwargs)\n  File \"/anaconda/envs/nlp/lib/python3.7/site-packages/transformers/models/distilbert/modeling_distilbert.py\", line 489, in forward\n    return_dict=return_dict,\n  File \"/anaconda/envs/nlp/lib/python3.7/site-packages/torch/nn/modules/module.py\", line 727, in _call_impl\n    result = self.forward(*input, **kwargs)\n  File \"/anaconda/envs/nlp/lib/python3.7/site-packages/transformers/models/distilbert/modeling_distilbert.py\", line 309, in forward\n    x=hidden_state, attn_mask=attn_mask, head_mask=head_mask[i], output_attentions=output_attentions\n  File \"/anaconda/envs/nlp/lib/python3.7/site-packages/torch/nn/modules/module.py\", line 727, in _call_impl\n    result = self.forward(*input, **kwargs)\n  File \"/anaconda/envs/nlp/lib/python3.7/site-packages/transformers/models/distilbert/modeling_distilbert.py\", line 256, in forward\n    output_attentions=output_attentions,\n  File \"/anaconda/envs/nlp/lib/python3.7/site-packages/torch/nn/modules/module.py\", line 727, in _call_impl\n    result = self.forward(*input, **kwargs)\n  File \"/anaconda/envs/nlp/lib/python3.7/site-packages/transformers/models/distilbert/modeling_distilbert.py\", line 186, in forward\n    weights = nn.Softmax(dim=-1)(scores)  # (bs, n_heads, q_length, k_length)\n  File \"/anaconda/envs/nlp/lib/python3.7/site-packages/torch/nn/modules/module.py\", line 727, in _call_impl\n    result = self.forward(*input, **kwargs)\n  File \"/anaconda/envs/nlp/lib/python3.7/site-packages/torch/nn/modules/activation.py\", line 1198, in forward\n    return F.softmax(input, self.dim, _stacklevel=5)\n  File \"/anaconda/envs/nlp/lib/python3.7/site-packages/torch/nn/functional.py\", line 1512, in softmax\n    ret = input.softmax(dim)\nRuntimeError: CUDA out of memory. Tried to allocate 96.00 MiB (GPU 0; 11.17 GiB total capacity; 1.42 GiB already allocated; 45.44 MiB free; 1.44 GiB reserved in total by PyTorch)\n"
     ]
    }
   ],
   "source": [
    "model_dir=\"./\"\n",
    "\n",
    "from transformers import Trainer, TrainingArguments\n",
    "\n",
    "training_args = TrainingArguments(\n",
    "    #report_to = 'wandb',\n",
    "    output_dir = model_dir +  'prueba/results',          # output directory\n",
    "    overwrite_output_dir = True,\n",
    "    evaluation_strategy='epoch',\n",
    "    num_train_epochs=3,                                 # total number of training epochs\n",
    "    per_device_train_batch_size=8,                      # batch size per device during training\n",
    "    per_device_eval_batch_size=16,                      # batch size for evaluation\n",
    "    warmup_steps=500,                                   # number of warmup steps for learning rate scheduler\n",
    "    weight_decay=0.01,                                  # strength of weight decay\n",
    "    logging_dir = model_dir +  'prueba/logs',          # directory for storing logs\n",
    "    logging_steps=10,\n",
    "    load_best_model_at_end = True,\n",
    "    metric_for_best_model = 'accuracy',\n",
    "    run_name = 'review_body',     \n",
    ")\n",
    "\n",
    "trainer = Trainer(\n",
    "    model = model,                         # the instantiated 🤗 Transformers model to be trained\n",
    "    args = training_args,                  # training arguments, defined above\n",
    "    train_dataset = train_data,            # training dataset\n",
    "    eval_dataset = test_data,              # evaluation dataset\n",
    "    #compute_metrics=compute_metrics            \n",
    ")\n",
    "\n",
    "trainer.train()\n"
   ]
  },
  {
   "cell_type": "markdown",
   "metadata": {
    "id": "ZQqEd8amkgYo"
   },
   "source": [
    "## Evaluation"
   ]
  },
  {
   "cell_type": "code",
   "execution_count": null,
   "metadata": {
    "colab": {
     "base_uri": "https://localhost:8080/",
     "height": 210
    },
    "executionInfo": {
     "elapsed": 91598,
     "status": "ok",
     "timestamp": 1613522347018,
     "user": {
      "displayName": "Lucía LS",
      "photoUrl": "https://lh3.googleusercontent.com/a-/AOh14GgOn57PPOCxvFJnbQAkq7ergm-XXZhjUhX15xdhqQ=s64",
      "userId": "08790667885016852653"
     },
     "user_tz": -60
    },
    "id": "s_SB4_Fokf96",
    "outputId": "85bc8979-6b6c-4306-cb1e-877b1911f580"
   },
   "outputs": [
    {
     "data": {
      "text/html": [
       "\n",
       "    <div>\n",
       "        <style>\n",
       "            /* Turns off some styling */\n",
       "            progress {\n",
       "                /* gets rid of default border in Firefox and Opera. */\n",
       "                border: none;\n",
       "                /* Needs to be in here for Safari polyfill so background images work as expected. */\n",
       "                background-size: auto;\n",
       "            }\n",
       "        </style>\n",
       "      \n",
       "      <progress value='157' max='157' style='width:300px; height:20px; vertical-align: middle;'></progress>\n",
       "      [157/157 01:28]\n",
       "    </div>\n",
       "    "
      ],
      "text/plain": [
       "<IPython.core.display.HTML object>"
      ]
     },
     "metadata": {
      "tags": []
     },
     "output_type": "display_data"
    },
    {
     "name": "stderr",
     "output_type": "stream",
     "text": [
      "\u001b[34m\u001b[1mwandb\u001b[0m: \u001b[33mWARNING\u001b[0m Step must only increase in log calls.  Step 37500 < 37501; dropping {'eval/loss': 0.9578923583030701, 'eval/accuracy': 0.5864, 'eval/f1': 0.5806245762934176, 'eval/precision': 0.5808483390543308, 'eval/recall': 0.5864, 'eval/runtime': 89.0555, 'eval/samples_per_second': 28.072, 'train/epoch': 3.0}.\n"
     ]
    },
    {
     "data": {
      "text/plain": [
       "{'epoch': 3.0,\n",
       " 'eval_accuracy': 0.5864,\n",
       " 'eval_f1': 0.5806245762934176,\n",
       " 'eval_loss': 0.9578923583030701,\n",
       " 'eval_precision': 0.5808483390543308,\n",
       " 'eval_recall': 0.5864,\n",
       " 'eval_runtime': 89.0555,\n",
       " 'eval_samples_per_second': 28.072}"
      ]
     },
     "execution_count": 21,
     "metadata": {
      "tags": []
     },
     "output_type": "execute_result"
    }
   ],
   "source": [
    "trainer.evaluate()"
   ]
  },
  {
   "cell_type": "markdown",
   "metadata": {
    "id": "6Z6LppM4kleF"
   },
   "source": [
    "##Save Model"
   ]
  },
  {
   "cell_type": "code",
   "execution_count": null,
   "metadata": {
    "id": "IhY82pj4E0WI"
   },
   "outputs": [],
   "source": [
    "!ls drive/MyDrive/TFG_1/Modelos_entrenados/"
   ]
  },
  {
   "cell_type": "code",
   "execution_count": null,
   "metadata": {
    "colab": {
     "base_uri": "https://localhost:8080/"
    },
    "executionInfo": {
     "elapsed": 96672,
     "status": "ok",
     "timestamp": 1613522352125,
     "user": {
      "displayName": "Lucía LS",
      "photoUrl": "https://lh3.googleusercontent.com/a-/AOh14GgOn57PPOCxvFJnbQAkq7ergm-XXZhjUhX15xdhqQ=s64",
      "userId": "08790667885016852653"
     },
     "user_tz": -60
    },
    "id": "7HA1lcbOkqot",
    "outputId": "ee50906c-0d66-4701-ddff-9b04086a5a23"
   },
   "outputs": [
    {
     "data": {
      "text/plain": [
       "('drive/MyDrive/TFG/Modelos_entrenados/Rating_text/tokenizer_config.json',\n",
       " 'drive/MyDrive/TFG/Modelos_entrenados/Rating_text/special_tokens_map.json',\n",
       " 'drive/MyDrive/TFG/Modelos_entrenados/Rating_text/vocab.txt',\n",
       " 'drive/MyDrive/TFG/Modelos_entrenados/Rating_text/added_tokens.json')"
      ]
     },
     "execution_count": 23,
     "metadata": {
      "tags": []
     },
     "output_type": "execute_result"
    }
   ],
   "source": [
    "# saving the fine tuned model & tokenizer\n",
    "model_path = \"drive/MyDrive/TFG_1/Modelos_entrenados/Rating_text\"\n",
    "trainer.save_model(model_path)\n",
    "model.save_pretrained(model_path)\n",
    "tokenizer.save_pretrained(model_path)"
   ]
  },
  {
   "cell_type": "markdown",
   "metadata": {
    "id": "oIP3b3vfmofI"
   },
   "source": [
    "# BertForSequenceClassification - RATING\n",
    "- Clasificación Rating a partir de review_body + titulo"
   ]
  },
  {
   "cell_type": "code",
   "execution_count": null,
   "metadata": {
    "id": "7eWwkqfenEXU"
   },
   "outputs": [],
   "source": [
    "RANDOM_SEED=8\n",
    "MAX_LENGTH=512\n",
    "\n",
    "\n",
    "## CLASES DEL CLASIFICADOR \n",
    "\n",
    "class_names = ['0','1','2','3','4'] \n",
    "#class_names = ['0','1'] \n",
    "#class_names = ['1']"
   ]
  },
  {
   "cell_type": "code",
   "execution_count": null,
   "metadata": {
    "id": "72mwnY_NnVF7"
   },
   "outputs": [],
   "source": [
    "#TOKENIZAMOS LOS DATAFRAMES\n",
    "\n",
    "train_encodings = tokenizer(df_train.text_title.values.tolist(), #truncation=True, padding=True,\n",
    "      add_special_tokens=True,\n",
    "      truncation=True,\n",
    "      max_length=MAX_LENGTH,\n",
    "      return_token_type_ids=False,\n",
    "      pad_to_max_length=True,\n",
    "      return_attention_mask=True,\n",
    "      return_tensors='pt')\n",
    "\n",
    "val_encodings = tokenizer(df_valid.text_title.values.tolist(), #truncation=True, padding=True,\n",
    "      add_special_tokens=True,\n",
    "      truncation=True,\n",
    "      max_length=MAX_LENGTH,\n",
    "      return_token_type_ids=False,\n",
    "      pad_to_max_length=True,\n",
    "      return_attention_mask=True,\n",
    "      return_tensors='pt')\n",
    "\n",
    "test_encodings = tokenizer(df_test.text_title.values.tolist(), #truncation=True, padding=True,\n",
    "      add_special_tokens=True,\n",
    "      truncation=True,\n",
    "      max_length=MAX_LENGTH,\n",
    "      return_token_type_ids=False,\n",
    "      pad_to_max_length=True,\n",
    "      return_attention_mask=True,\n",
    "      return_tensors='pt')"
   ]
  },
  {
   "cell_type": "code",
   "execution_count": null,
   "metadata": {
    "id": "RWF8igOLpDaC"
   },
   "outputs": [],
   "source": [
    "class GPReviewDataset(torch.utils.data.Dataset):\n",
    "    def __init__(self, encodings, labels):\n",
    "        self.encodings = encodings\n",
    "        self.labels = labels\n",
    "\n",
    "    def __getitem__(self, idx):\n",
    "        item = {key: torch.tensor(val[idx]) for key, val in self.encodings.items()}\n",
    "        item['labels'] = torch.tensor(self.labels[idx])\n",
    "        return item\n",
    "\n",
    "    def __len__(self):\n",
    "        return len(self.labels)"
   ]
  },
  {
   "cell_type": "code",
   "execution_count": null,
   "metadata": {
    "id": "TEuWipzwpDq2"
   },
   "outputs": [],
   "source": [
    "train_labels = df_train.star_rating.values\n",
    "val_labels = df_valid.star_rating.values\n",
    "test_labels = df_test.star_rating.values"
   ]
  },
  {
   "cell_type": "code",
   "execution_count": null,
   "metadata": {
    "id": "IQE5cOW_pED6"
   },
   "outputs": [],
   "source": [
    "train_data = GPReviewDataset(train_encodings, torch.from_numpy(train_labels))\n",
    "val_data = GPReviewDataset(val_encodings, torch.from_numpy(val_labels))\n",
    "test_data = GPReviewDataset(test_encodings, torch.from_numpy(test_labels))"
   ]
  },
  {
   "cell_type": "code",
   "execution_count": null,
   "metadata": {
    "colab": {
     "base_uri": "https://localhost:8080/",
     "height": 220,
     "referenced_widgets": [
      "c1c63c59020545e89bf28d77051962da",
      "e319fde4ee924b31b0f53516d55f32a2",
      "9030d749e7db4be1b68ad7437105d83c",
      "80d5f0d6a0f24d0fa3c285b943c77228",
      "45493d79ce6643cd80c96bc005755c18",
      "d564e5547fc941338d857d0007fc0f20",
      "e9af364b0d254c0fa82159e996d85926",
      "3d57a8a461f042e9b776ac8138cd82d4",
      "5638b4ff4b2244ff8d410415268049cd",
      "6de674d1f0b349a7b12501c52f045143",
      "203eedab4b68430d8573d343c6f22ccb",
      "addaca4c4f22497dae441f2ed48d531f",
      "4293f815970745c5b916c712f0081a07",
      "15fc91a45f46400a8358a36ee9287545",
      "a0c496abcc3142de8cd9d16a8da6d637",
      "b94e8ebc7d854ffaa05af0277325cf96"
     ]
    },
    "executionInfo": {
     "elapsed": 104325,
     "status": "ok",
     "timestamp": 1613552279837,
     "user": {
      "displayName": "Lucía LS",
      "photoUrl": "https://lh3.googleusercontent.com/a-/AOh14GgOn57PPOCxvFJnbQAkq7ergm-XXZhjUhX15xdhqQ=s64",
      "userId": "08790667885016852653"
     },
     "user_tz": -60
    },
    "id": "PV_Bq6tFqlM3",
    "outputId": "244d5484-717f-45db-98e5-b8c6924e32a6"
   },
   "outputs": [
    {
     "data": {
      "application/vnd.jupyter.widget-view+json": {
       "model_id": "c1c63c59020545e89bf28d77051962da",
       "version_major": 2,
       "version_minor": 0
      },
      "text/plain": [
       "HBox(children=(FloatProgress(value=0.0, description='Downloading', max=433.0, style=ProgressStyle(description_…"
      ]
     },
     "metadata": {
      "tags": []
     },
     "output_type": "display_data"
    },
    {
     "name": "stdout",
     "output_type": "stream",
     "text": [
      "\n"
     ]
    },
    {
     "data": {
      "application/vnd.jupyter.widget-view+json": {
       "model_id": "5638b4ff4b2244ff8d410415268049cd",
       "version_major": 2,
       "version_minor": 0
      },
      "text/plain": [
       "HBox(children=(FloatProgress(value=0.0, description='Downloading', max=440473133.0, style=ProgressStyle(descri…"
      ]
     },
     "metadata": {
      "tags": []
     },
     "output_type": "display_data"
    },
    {
     "name": "stdout",
     "output_type": "stream",
     "text": [
      "\n"
     ]
    },
    {
     "name": "stderr",
     "output_type": "stream",
     "text": [
      "Some weights of the model checkpoint at bert-base-uncased were not used when initializing BertForSequenceClassification: ['cls.predictions.bias', 'cls.predictions.transform.dense.weight', 'cls.predictions.transform.dense.bias', 'cls.predictions.decoder.weight', 'cls.seq_relationship.weight', 'cls.seq_relationship.bias', 'cls.predictions.transform.LayerNorm.weight', 'cls.predictions.transform.LayerNorm.bias']\n",
      "- This IS expected if you are initializing BertForSequenceClassification from the checkpoint of a model trained on another task or with another architecture (e.g. initializing a BertForSequenceClassification model from a BertForPreTraining model).\n",
      "- This IS NOT expected if you are initializing BertForSequenceClassification from the checkpoint of a model that you expect to be exactly identical (initializing a BertForSequenceClassification model from a BertForSequenceClassification model).\n",
      "Some weights of BertForSequenceClassification were not initialized from the model checkpoint at bert-base-uncased and are newly initialized: ['classifier.weight', 'classifier.bias']\n",
      "You should probably TRAIN this model on a down-stream task to be able to use it for predictions and inference.\n"
     ]
    }
   ],
   "source": [
    "## Lo definimos de nuevo unicamente con el proposito de usar las secciones del documento de forma independiente \n",
    "\n",
    "model = BertForSequenceClassification.from_pretrained(\n",
    "    PRE_TRAINED_MODEL_NAME, # Use the 12-layer BERT model, with an uncased vocab.\n",
    "    num_labels = len(class_names), # The number of output labels--2 for binary classification.  si pones num_labels=1 hace MSE LOSS\n",
    "    output_attentions = False, # Whether the model returns attentions weights.\n",
    "    output_hidden_states = False ,# Whether the model returns all hidden-states.   \n",
    "    vocab_size=tokenizer.vocab_size)"
   ]
  },
  {
   "cell_type": "code",
   "execution_count": null,
   "metadata": {
    "id": "9LaJTpnfqmZT"
   },
   "outputs": [],
   "source": [
    "device = torch.device(\"cuda:0\" if torch.cuda.is_available() else \"cpu\")\n",
    "model = model.to(device)"
   ]
  },
  {
   "cell_type": "markdown",
   "metadata": {
    "id": "uIgVakt2qWUB"
   },
   "source": [
    "## Training"
   ]
  },
  {
   "cell_type": "code",
   "execution_count": null,
   "metadata": {
    "id": "Pz-63_bdNIAu"
   },
   "outputs": [],
   "source": [
    "from sklearn.metrics import precision_recall_fscore_support\n",
    "from sklearn.metrics import accuracy_score\n",
    "\n",
    "def compute_metrics(pred):\n",
    "    labels = pred.label_ids\n",
    "    preds = pred.predictions.argmax(-1)\n",
    "    precision, recall, f1, _ = precision_recall_fscore_support(labels, preds, average='weighted')\n",
    "    acc = accuracy_score(labels, preds)\n",
    "    return {\n",
    "        'accuracy': acc,\n",
    "        'f1': f1,\n",
    "        'precision': precision,\n",
    "        'recall': recall\n",
    "    }"
   ]
  },
  {
   "cell_type": "code",
   "execution_count": null,
   "metadata": {
    "id": "ZeuQCBUPlBNa"
   },
   "outputs": [],
   "source": [
    "!nvidia-smi"
   ]
  },
  {
   "cell_type": "code",
   "execution_count": null,
   "metadata": {
    "colab": {
     "base_uri": "https://localhost:8080/",
     "height": 177
    },
    "id": "E7voNFqXqEMs",
    "outputId": "31f5214a-fdd3-4a96-c394-06449dc80018"
   },
   "outputs": [
    {
     "data": {
      "text/html": [
       "\n",
       "                Tracking run with wandb version 0.10.19<br/>\n",
       "                Syncing run <strong style=\"color:#cdcd00\">review_title + review_body</strong> to <a href=\"https://wandb.ai\" target=\"_blank\">Weights & Biases</a> <a href=\"https://docs.wandb.com/integrations/jupyter.html\" target=\"_blank\">(Documentation)</a>.<br/>\n",
       "                Project page: <a href=\"https://wandb.ai/lucialarraona/RATING%20CLASSIFICATION\" target=\"_blank\">https://wandb.ai/lucialarraona/RATING%20CLASSIFICATION</a><br/>\n",
       "                Run page: <a href=\"https://wandb.ai/lucialarraona/RATING%20CLASSIFICATION/runs/3vgu9sln\" target=\"_blank\">https://wandb.ai/lucialarraona/RATING%20CLASSIFICATION/runs/3vgu9sln</a><br/>\n",
       "                Run data is saved locally in <code>/content/wandb/run-20210217_085831-3vgu9sln</code><br/><br/>\n",
       "            "
      ],
      "text/plain": [
       "<IPython.core.display.HTML object>"
      ]
     },
     "metadata": {
      "tags": []
     },
     "output_type": "display_data"
    },
    {
     "data": {
      "text/html": [
       "\n",
       "    <div>\n",
       "        <style>\n",
       "            /* Turns off some styling */\n",
       "            progress {\n",
       "                /* gets rid of default border in Firefox and Opera. */\n",
       "                border: none;\n",
       "                /* Needs to be in here for Safari polyfill so background images work as expected. */\n",
       "                background-size: auto;\n",
       "            }\n",
       "        </style>\n",
       "      \n",
       "      <progress value='11726' max='37500' style='width:300px; height:20px; vertical-align: middle;'></progress>\n",
       "      [11726/37500 1:32:31 < 3:23:23, 2.11 it/s, Epoch 0.94/3]\n",
       "    </div>\n",
       "    <table border=\"1\" class=\"dataframe\">\n",
       "  <thead>\n",
       "    <tr style=\"text-align: left;\">\n",
       "      <th>Epoch</th>\n",
       "      <th>Training Loss</th>\n",
       "      <th>Validation Loss</th>\n",
       "    </tr>\n",
       "  </thead>\n",
       "  <tbody>\n",
       "  </tbody>\n",
       "</table><p>"
      ],
      "text/plain": [
       "<IPython.core.display.HTML object>"
      ]
     },
     "metadata": {
      "tags": []
     },
     "output_type": "display_data"
    }
   ],
   "source": [
    "model_dir=\"./\"\n",
    "\n",
    "from transformers import Trainer, TrainingArguments\n",
    "\n",
    "training_args = TrainingArguments(\n",
    "    output_dir = model_dir +  'prueba/results',          # output directory\n",
    "    overwrite_output_dir = True,\n",
    "    evaluation_strategy='epoch',\n",
    "    num_train_epochs=3,                                  # total number of training epochs\n",
    "    per_device_train_batch_size=8,                       # batch size per device during training\n",
    "    per_device_eval_batch_size=16,                       # batch size for evaluation\n",
    "    warmup_steps=500,                                    # number of warmup steps for learning rate scheduler\n",
    "    weight_decay=0.01,                                   # strength of weight decay\n",
    "    logging_dir = model_dir +  'prueba/logs',            # directory for storing logs\n",
    "    logging_steps=10,\n",
    "    load_best_model_at_end = True,\n",
    "    metric_for_best_model = 'accuracy',\n",
    "    run_name = 'review_title + review_body', \n",
    ")\n",
    "\n",
    "trainer = Trainer(\n",
    "    model = model,                         # the instantiated 🤗 Transformers model to be trained\n",
    "    args = training_args,                  # training arguments, defined above\n",
    "    train_dataset = train_data,            # training dataset\n",
    "    eval_dataset = test_data,              # evaluation dataset\n",
    "    compute_metrics = compute_metrics             \n",
    ")\n",
    "\n",
    "trainer.train()"
   ]
  },
  {
   "cell_type": "markdown",
   "metadata": {
    "id": "A8Asx8Rmq6Lr"
   },
   "source": [
    "## Evaluation"
   ]
  },
  {
   "cell_type": "code",
   "execution_count": null,
   "metadata": {
    "id": "2L-JmITUq-pK"
   },
   "outputs": [],
   "source": [
    "trainer.evaluate()"
   ]
  },
  {
   "cell_type": "markdown",
   "metadata": {
    "id": "4AU2w-_zrACw"
   },
   "source": [
    "## Save Model"
   ]
  },
  {
   "cell_type": "code",
   "execution_count": null,
   "metadata": {
    "id": "L1saT5KIq_XM"
   },
   "outputs": [],
   "source": [
    "!ls drive/MyDrive/TFG_1/Modelos_entrenados/"
   ]
  },
  {
   "cell_type": "code",
   "execution_count": null,
   "metadata": {
    "id": "3A8ZS_Dmrla_"
   },
   "outputs": [],
   "source": [
    "# saving the fine tuned model & tokenizer\n",
    "model_path = \"drive/MyDrive/TFG/Modelos_entrenados/Rating_text_title\"\n",
    "trainer.save_model(model_path)\n",
    "model.save_pretrained(model_path)\n",
    "tokenizer.save_pretrained(model_path)"
   ]
  },
  {
   "cell_type": "markdown",
   "metadata": {
    "id": "UWlNtsLFm7Le"
   },
   "source": [
    "# BertForSequenceClassification - RATING\n",
    "- Clasificación Rating a partir de review_body + titulo + categoria"
   ]
  },
  {
   "cell_type": "code",
   "execution_count": null,
   "metadata": {
    "id": "gZWkAaG_m0AA"
   },
   "outputs": [],
   "source": [
    "RANDOM_SEED=8\n",
    "MAX_LENGTH=512\n",
    "\n",
    "\n",
    "## CLASES DEL CLASIFICADOR \n",
    "\n",
    "class_names = ['0','1','2','3','4'] \n",
    "#class_names = ['0','1'] \n",
    "#class_names = ['1']"
   ]
  },
  {
   "cell_type": "code",
   "execution_count": null,
   "metadata": {
    "id": "Djpzu7zDr_NQ"
   },
   "outputs": [],
   "source": [
    "#TOKENIZAMOS LOS DATAFRAMES\n",
    "\n",
    "train_encodings = tokenizer(df_train.text_title_cat.values.tolist(), #truncation=True, padding=True,\n",
    "      add_special_tokens=True,\n",
    "      truncation=True,\n",
    "      max_length=MAX_LENGTH,\n",
    "      return_token_type_ids=False,\n",
    "      pad_to_max_length=True,\n",
    "      return_attention_mask=True,\n",
    "      return_tensors='pt')\n",
    "\n",
    "val_encodings = tokenizer(df_valid.text_title_cat.values.tolist(), #truncation=True, padding=True,\n",
    "      add_special_tokens=True,\n",
    "      truncation=True,\n",
    "      max_length=MAX_LENGTH,\n",
    "      return_token_type_ids=False,\n",
    "      pad_to_max_length=True,\n",
    "      return_attention_mask=True,\n",
    "      return_tensors='pt')\n",
    "\n",
    "test_encodings = tokenizer(df_test.text_title_cat.values.tolist(), #truncation=True, padding=True,\n",
    "      add_special_tokens=True,\n",
    "      truncation=True,\n",
    "      max_length=MAX_LENGTH,\n",
    "      return_token_type_ids=False,\n",
    "      pad_to_max_length=True,\n",
    "      return_attention_mask=True,\n",
    "      return_tensors='pt')"
   ]
  },
  {
   "cell_type": "code",
   "execution_count": null,
   "metadata": {
    "id": "Z7JCGgT6sGp_"
   },
   "outputs": [],
   "source": [
    "class GPReviewDataset(torch.utils.data.Dataset):\n",
    "    def __init__(self, encodings, labels):\n",
    "        self.encodings = encodings\n",
    "        self.labels = labels\n",
    "\n",
    "    def __getitem__(self, idx):\n",
    "        item = {key: torch.tensor(val[idx]) for key, val in self.encodings.items()}\n",
    "        item['labels'] = torch.tensor(self.labels[idx])\n",
    "        return item\n",
    "\n",
    "    def __len__(self):\n",
    "        return len(self.labels)"
   ]
  },
  {
   "cell_type": "code",
   "execution_count": null,
   "metadata": {
    "id": "S4cabtvhsG61"
   },
   "outputs": [],
   "source": [
    "train_labels = df_train.star_rating.values\n",
    "val_labels = df_valid.star_rating.values\n",
    "test_labels = df_test.star_rating.values"
   ]
  },
  {
   "cell_type": "code",
   "execution_count": null,
   "metadata": {
    "id": "zePdoA_RsHUZ"
   },
   "outputs": [],
   "source": [
    "train_data = GPReviewDataset(train_encodings, torch.from_numpy(train_labels))\n",
    "val_data = GPReviewDataset(val_encodings, torch.from_numpy(val_labels))\n",
    "test_data = GPReviewDataset(test_encodings, torch.from_numpy(test_labels))"
   ]
  },
  {
   "cell_type": "code",
   "execution_count": null,
   "metadata": {
    "colab": {
     "base_uri": "https://localhost:8080/"
    },
    "executionInfo": {
     "elapsed": 29226,
     "status": "ok",
     "timestamp": 1613038188141,
     "user": {
      "displayName": "lu ls",
      "photoUrl": "",
      "userId": "03605438839658261603"
     },
     "user_tz": -60
    },
    "id": "eaGKqNmKsHdo",
    "outputId": "69390cd6-8077-4161-d4b8-0bed612b9d0a"
   },
   "outputs": [
    {
     "name": "stderr",
     "output_type": "stream",
     "text": [
      "Some weights of the model checkpoint at bert-base-uncased were not used when initializing BertForSequenceClassification: ['cls.predictions.bias', 'cls.predictions.transform.dense.weight', 'cls.predictions.transform.dense.bias', 'cls.predictions.decoder.weight', 'cls.seq_relationship.weight', 'cls.seq_relationship.bias', 'cls.predictions.transform.LayerNorm.weight', 'cls.predictions.transform.LayerNorm.bias']\n",
      "- This IS expected if you are initializing BertForSequenceClassification from the checkpoint of a model trained on another task or with another architecture (e.g. initializing a BertForSequenceClassification model from a BertForPreTraining model).\n",
      "- This IS NOT expected if you are initializing BertForSequenceClassification from the checkpoint of a model that you expect to be exactly identical (initializing a BertForSequenceClassification model from a BertForSequenceClassification model).\n",
      "Some weights of BertForSequenceClassification were not initialized from the model checkpoint at bert-base-uncased and are newly initialized: ['classifier.weight', 'classifier.bias']\n",
      "You should probably TRAIN this model on a down-stream task to be able to use it for predictions and inference.\n"
     ]
    }
   ],
   "source": [
    "model = BertForSequenceClassification.from_pretrained(\n",
    "    PRE_TRAINED_MODEL_NAME, # Use the 12-layer BERT model, with an uncased vocab.\n",
    "    num_labels = len(class_names), # The number of output labels--2 for binary classification.  si pones num_labels=1 hace MSE LOSS\n",
    "    output_attentions = False, # Whether the model returns attentions weights.\n",
    "    output_hidden_states = False ,# Whether the model returns all hidden-states.   \n",
    "    vocab_size=tokenizer.vocab_size)"
   ]
  },
  {
   "cell_type": "code",
   "execution_count": null,
   "metadata": {
    "id": "QYkVxCGCsSEe"
   },
   "outputs": [],
   "source": [
    "device = torch.device(\"cuda:0\" if torch.cuda.is_available() else \"cpu\")\n",
    "model = model.to(device)"
   ]
  },
  {
   "cell_type": "markdown",
   "metadata": {
    "id": "BjK0hyNJsWKL"
   },
   "source": [
    "## Training"
   ]
  },
  {
   "cell_type": "code",
   "execution_count": null,
   "metadata": {
    "colab": {
     "base_uri": "https://localhost:8080/",
     "height": 142
    },
    "executionInfo": {
     "elapsed": 761732,
     "status": "ok",
     "timestamp": 1613038920657,
     "user": {
      "displayName": "lu ls",
      "photoUrl": "",
      "userId": "03605438839658261603"
     },
     "user_tz": -60
    },
    "id": "r9V2p5zssWKL",
    "outputId": "a0bec48c-904a-481d-eede-54b75b94e706"
   },
   "outputs": [
    {
     "data": {
      "text/html": [
       "\n",
       "    <div>\n",
       "        <style>\n",
       "            /* Turns off some styling */\n",
       "            progress {\n",
       "                /* gets rid of default border in Firefox and Opera. */\n",
       "                border: none;\n",
       "                /* Needs to be in here for Safari polyfill so background images work as expected. */\n",
       "                background-size: auto;\n",
       "            }\n",
       "        </style>\n",
       "      \n",
       "      <progress value='1500' max='1500' style='width:300px; height:20px; vertical-align: middle;'></progress>\n",
       "      [1500/1500 12:12, Epoch 1/1]\n",
       "    </div>\n",
       "    <table border=\"1\" class=\"dataframe\">\n",
       "  <thead>\n",
       "    <tr style=\"text-align: left;\">\n",
       "      <th>Epoch</th>\n",
       "      <th>Training Loss</th>\n",
       "      <th>Validation Loss</th>\n",
       "      <th>Accuracy</th>\n",
       "      <th>F1</th>\n",
       "      <th>Precision</th>\n",
       "      <th>Recall</th>\n",
       "      <th>Runtime</th>\n",
       "      <th>Samples Per Second</th>\n",
       "    </tr>\n",
       "  </thead>\n",
       "  <tbody>\n",
       "    <tr>\n",
       "      <td>1</td>\n",
       "      <td>0.787100</td>\n",
       "      <td>0.880430</td>\n",
       "      <td>0.628000</td>\n",
       "      <td>0.624201</td>\n",
       "      <td>0.623436</td>\n",
       "      <td>0.628000</td>\n",
       "      <td>18.008800</td>\n",
       "      <td>55.529000</td>\n",
       "    </tr>\n",
       "  </tbody>\n",
       "</table><p>"
      ],
      "text/plain": [
       "<IPython.core.display.HTML object>"
      ]
     },
     "metadata": {
      "tags": []
     },
     "output_type": "display_data"
    },
    {
     "data": {
      "text/plain": [
       "TrainOutput(global_step=1500, training_loss=1.0608832273483277, metrics={'train_runtime': 732.4994, 'train_samples_per_second': 2.048, 'total_flos': 4036095037440000, 'epoch': 1.0})"
      ]
     },
     "execution_count": 49,
     "metadata": {
      "tags": []
     },
     "output_type": "execute_result"
    }
   ],
   "source": [
    "model_dir=\"./\"\n",
    "\n",
    "from transformers import Trainer, TrainingArguments\n",
    "\n",
    "training_args = TrainingArguments(\n",
    "    output_dir = model_dir +  'prueba/results',          # output directory\n",
    "    overwrite_output_dir = True,\n",
    "    evaluation_strategy='epoch',\n",
    "    num_train_epochs=1,                         # total number of training epochs\n",
    "    per_device_train_batch_size=8,              # batch size per device during training\n",
    "    per_device_eval_batch_size=16,              # batch size for evaluation\n",
    "    warmup_steps=500,                           # number of warmup steps for learning rate scheduler\n",
    "    weight_decay=0.01,                          # strength of weight decay\n",
    "    logging_dir = model_dir +  'prueba/logs',   # directory for storing logs\n",
    "    logging_steps=10,\n",
    "    load_best_model_at_end = True,\n",
    "    metric_for_best_model = 'accuracy',\n",
    "    run_name = 'review_title + review_body + category', \n",
    ")\n",
    "\n",
    "trainer = Trainer(\n",
    "    model = model,                         # the instantiated 🤗 Transformers model to be trained\n",
    "    args = training_args,                  # training arguments, defined above\n",
    "    train_dataset = train_data,            # training dataset\n",
    "    eval_dataset = test_data,              # evaluation dataset\n",
    "    compute_metrics = compute_metrics       \n",
    ")\n",
    "\n",
    "trainer.train()"
   ]
  },
  {
   "cell_type": "markdown",
   "metadata": {
    "id": "_iPPNUAtsbr8"
   },
   "source": [
    "## Evaluation"
   ]
  },
  {
   "cell_type": "code",
   "execution_count": null,
   "metadata": {
    "colab": {
     "base_uri": "https://localhost:8080/",
     "height": 178
    },
    "executionInfo": {
     "elapsed": 779505,
     "status": "ok",
     "timestamp": 1613038938434,
     "user": {
      "displayName": "lu ls",
      "photoUrl": "",
      "userId": "03605438839658261603"
     },
     "user_tz": -60
    },
    "id": "w5eIetv3sbr9",
    "outputId": "38473540-76ec-4af9-d11a-4296ff2c0572"
   },
   "outputs": [
    {
     "data": {
      "text/html": [
       "\n",
       "    <div>\n",
       "        <style>\n",
       "            /* Turns off some styling */\n",
       "            progress {\n",
       "                /* gets rid of default border in Firefox and Opera. */\n",
       "                border: none;\n",
       "                /* Needs to be in here for Safari polyfill so background images work as expected. */\n",
       "                background-size: auto;\n",
       "            }\n",
       "        </style>\n",
       "      \n",
       "      <progress value='63' max='63' style='width:300px; height:20px; vertical-align: middle;'></progress>\n",
       "      [63/63 00:17]\n",
       "    </div>\n",
       "    "
      ],
      "text/plain": [
       "<IPython.core.display.HTML object>"
      ]
     },
     "metadata": {
      "tags": []
     },
     "output_type": "display_data"
    },
    {
     "data": {
      "text/plain": [
       "{'epoch': 1.0,\n",
       " 'eval_accuracy': 0.628,\n",
       " 'eval_f1': 0.6242008828903407,\n",
       " 'eval_loss': 0.8804295659065247,\n",
       " 'eval_precision': 0.6234356003347613,\n",
       " 'eval_recall': 0.628,\n",
       " 'eval_runtime': 17.8392,\n",
       " 'eval_samples_per_second': 56.056}"
      ]
     },
     "execution_count": 50,
     "metadata": {
      "tags": []
     },
     "output_type": "execute_result"
    }
   ],
   "source": [
    "trainer.evaluate()"
   ]
  },
  {
   "cell_type": "markdown",
   "metadata": {
    "id": "1gw9jk_6sf3g"
   },
   "source": [
    "## Save Model"
   ]
  },
  {
   "cell_type": "code",
   "execution_count": null,
   "metadata": {
    "colab": {
     "base_uri": "https://localhost:8080/"
    },
    "executionInfo": {
     "elapsed": 779957,
     "status": "ok",
     "timestamp": 1613038938889,
     "user": {
      "displayName": "lu ls",
      "photoUrl": "",
      "userId": "03605438839658261603"
     },
     "user_tz": -60
    },
    "id": "W-BsPtyrsf3g",
    "outputId": "08c69e3b-5022-4b61-d597-5254664353da"
   },
   "outputs": [
    {
     "name": "stdout",
     "output_type": "stream",
     "text": [
      "Rating_text  Rating_text_title\tRating_text_title_cat\n"
     ]
    }
   ],
   "source": [
    "!ls drive/MyDrive/TFG/Modelos_entrenados/"
   ]
  },
  {
   "cell_type": "code",
   "execution_count": null,
   "metadata": {
    "colab": {
     "base_uri": "https://localhost:8080/"
    },
    "executionInfo": {
     "elapsed": 783982,
     "status": "ok",
     "timestamp": 1613038942917,
     "user": {
      "displayName": "lu ls",
      "photoUrl": "",
      "userId": "03605438839658261603"
     },
     "user_tz": -60
    },
    "id": "caRv1tnWsj9u",
    "outputId": "1a77db06-d387-443b-deba-c197b3184aab"
   },
   "outputs": [
    {
     "data": {
      "text/plain": [
       "('drive/MyDrive/TFG/Modelos_entrenados/Rating_text_title_cat/tokenizer_config.json',\n",
       " 'drive/MyDrive/TFG/Modelos_entrenados/Rating_text_title_cat/special_tokens_map.json',\n",
       " 'drive/MyDrive/TFG/Modelos_entrenados/Rating_text_title_cat/vocab.txt',\n",
       " 'drive/MyDrive/TFG/Modelos_entrenados/Rating_text_title_cat/added_tokens.json')"
      ]
     },
     "execution_count": 52,
     "metadata": {
      "tags": []
     },
     "output_type": "execute_result"
    }
   ],
   "source": [
    "# saving the fine tuned model & tokenizer\n",
    "model_path = \"drive/MyDrive/TFG/Modelos_entrenados/Rating_text_title_cat\"\n",
    "trainer.save_model(model_path)\n",
    "model.save_pretrained(model_path)\n",
    "tokenizer.save_pretrained(model_path)"
   ]
  },
  {
   "cell_type": "markdown",
   "metadata": {
    "id": "lYZavFpEtnqi"
   },
   "source": [
    "# BertForSequenceClassification - CATEGORÍA\n",
    "\n",
    "- Clasificación de categorias de productos a partir del review_body"
   ]
  },
  {
   "cell_type": "code",
   "execution_count": null,
   "metadata": {
    "id": "AKjb-VZytvc7"
   },
   "outputs": [],
   "source": [
    "RANDOM_SEED=8\n",
    "MAX_LENGTH=512\n",
    "\n",
    "\n",
    "## CLASES DEL CLASIFICADOR \n",
    "\n",
    "class_names = df_train.product_category.unique().tolist()"
   ]
  },
  {
   "cell_type": "code",
   "execution_count": null,
   "metadata": {
    "colab": {
     "base_uri": "https://localhost:8080/"
    },
    "executionInfo": {
     "elapsed": 1562,
     "status": "ok",
     "timestamp": 1613043184006,
     "user": {
      "displayName": "lu ls",
      "photoUrl": "",
      "userId": "03605438839658261603"
     },
     "user_tz": -60
    },
    "id": "hf4Gomj7oTld",
    "outputId": "8ac155ac-aa6d-4b27-9341-aedc5d7ab368"
   },
   "outputs": [
    {
     "data": {
      "text/plain": [
       "31"
      ]
     },
     "execution_count": 159,
     "metadata": {
      "tags": []
     },
     "output_type": "execute_result"
    }
   ],
   "source": [
    "len(class_names)"
   ]
  },
  {
   "cell_type": "code",
   "execution_count": null,
   "metadata": {
    "id": "6capieK4vwhL"
   },
   "outputs": [],
   "source": [
    "#TOKENIZAMOS LOS DATAFRAMES\n",
    "\n",
    "train_encodings = tokenizer(df_train.review_body.values.tolist(), #truncation=True, padding=True,\n",
    "      add_special_tokens=True,\n",
    "      truncation=True,\n",
    "      max_length=MAX_LENGTH,\n",
    "      return_token_type_ids=False,\n",
    "      pad_to_max_length=True,\n",
    "      return_attention_mask=True,\n",
    "      return_tensors='pt')\n",
    "\n",
    "val_encodings = tokenizer(df_valid.review_body.values.tolist(), #truncation=True, padding=True,\n",
    "      add_special_tokens=True,\n",
    "      truncation=True,\n",
    "      max_length=MAX_LENGTH,\n",
    "      return_token_type_ids=False,\n",
    "      pad_to_max_length=True,\n",
    "      return_attention_mask=True,\n",
    "      return_tensors='pt')\n",
    "\n",
    "test_encodings = tokenizer(df_test.review_body.values.tolist(), #truncation=True, padding=True,\n",
    "      add_special_tokens=True,\n",
    "      truncation=True,\n",
    "      max_length=MAX_LENGTH,\n",
    "      return_token_type_ids=False,\n",
    "      pad_to_max_length=True,\n",
    "      return_attention_mask=True,\n",
    "      return_tensors='pt')"
   ]
  },
  {
   "cell_type": "code",
   "execution_count": null,
   "metadata": {
    "id": "-6CC3a5Bv0nh"
   },
   "outputs": [],
   "source": [
    "class GPReviewDataset(torch.utils.data.Dataset):\n",
    "    def __init__(self, encodings, labels):\n",
    "        self.encodings = encodings\n",
    "        self.labels = labels\n",
    "\n",
    "    def __getitem__(self, idx):\n",
    "        item = {key: torch.tensor(val[idx]) for key, val in self.encodings.items()}\n",
    "        item['labels'] = torch.tensor(self.labels[idx])\n",
    "        return item\n",
    "\n",
    "    def __len__(self):\n",
    "        return len(self.labels)"
   ]
  },
  {
   "cell_type": "code",
   "execution_count": null,
   "metadata": {
    "id": "md3llmJzv3qv"
   },
   "outputs": [],
   "source": [
    "train_labels = df_train.product_category_cod.values\n",
    "val_labels = df_valid.product_category_cod.values\n",
    "test_labels = df_test.product_category_cod.values"
   ]
  },
  {
   "cell_type": "code",
   "execution_count": null,
   "metadata": {
    "id": "ZIj_A7OrwfPi"
   },
   "outputs": [],
   "source": [
    "train_data = GPReviewDataset(train_encodings, torch.from_numpy(train_labels))\n",
    "val_data = GPReviewDataset(val_encodings, torch.from_numpy(val_labels))\n",
    "test_data = GPReviewDataset(test_encodings, torch.from_numpy(test_labels))"
   ]
  },
  {
   "cell_type": "code",
   "execution_count": null,
   "metadata": {
    "colab": {
     "base_uri": "https://localhost:8080/"
    },
    "executionInfo": {
     "elapsed": 15681,
     "status": "ok",
     "timestamp": 1613043198174,
     "user": {
      "displayName": "lu ls",
      "photoUrl": "",
      "userId": "03605438839658261603"
     },
     "user_tz": -60
    },
    "id": "U1JK8Ir_wqJg",
    "outputId": "d172377b-2eb0-4f60-fd3a-e6ce590267bd"
   },
   "outputs": [
    {
     "name": "stderr",
     "output_type": "stream",
     "text": [
      "Some weights of the model checkpoint at bert-base-uncased were not used when initializing BertForSequenceClassification: ['cls.predictions.bias', 'cls.predictions.transform.dense.weight', 'cls.predictions.transform.dense.bias', 'cls.predictions.decoder.weight', 'cls.seq_relationship.weight', 'cls.seq_relationship.bias', 'cls.predictions.transform.LayerNorm.weight', 'cls.predictions.transform.LayerNorm.bias']\n",
      "- This IS expected if you are initializing BertForSequenceClassification from the checkpoint of a model trained on another task or with another architecture (e.g. initializing a BertForSequenceClassification model from a BertForPreTraining model).\n",
      "- This IS NOT expected if you are initializing BertForSequenceClassification from the checkpoint of a model that you expect to be exactly identical (initializing a BertForSequenceClassification model from a BertForSequenceClassification model).\n",
      "Some weights of BertForSequenceClassification were not initialized from the model checkpoint at bert-base-uncased and are newly initialized: ['classifier.weight', 'classifier.bias']\n",
      "You should probably TRAIN this model on a down-stream task to be able to use it for predictions and inference.\n"
     ]
    }
   ],
   "source": [
    "model = BertForSequenceClassification.from_pretrained(\n",
    "    PRE_TRAINED_MODEL_NAME, # Use the 12-layer BERT model, with an uncased vocab.\n",
    "    num_labels = len(class_names), # The number of output labels--2 for binary classification.  si pones num_labels=1 hace MSE LOSS\n",
    "    output_attentions = False, # Whether the model returns attentions weights.\n",
    "    output_hidden_states = False ,# Whether the model returns all hidden-states.   \n",
    "    vocab_size=tokenizer.vocab_size)"
   ]
  },
  {
   "cell_type": "code",
   "execution_count": null,
   "metadata": {
    "id": "mDiTBf-qwxLR"
   },
   "outputs": [],
   "source": [
    "device = torch.device(\"cuda:0\" if torch.cuda.is_available() else \"cpu\")\n",
    "model = model.to(device)"
   ]
  },
  {
   "cell_type": "markdown",
   "metadata": {
    "id": "ygQk1htBw1P-"
   },
   "source": [
    "## Training"
   ]
  },
  {
   "cell_type": "code",
   "execution_count": null,
   "metadata": {
    "colab": {
     "base_uri": "https://localhost:8080/"
    },
    "executionInfo": {
     "elapsed": 746679,
     "status": "ok",
     "timestamp": 1613043929193,
     "user": {
      "displayName": "lu ls",
      "photoUrl": "",
      "userId": "03605438839658261603"
     },
     "user_tz": -60
    },
    "id": "SfGPC8FGw1P-",
    "outputId": "cf4bb77a-a0bf-4853-df4b-0b2eff734b73"
   },
   "outputs": [
    {
     "data": {
      "text/html": [
       "\n",
       "    <div>\n",
       "        <style>\n",
       "            /* Turns off some styling */\n",
       "            progress {\n",
       "                /* gets rid of default border in Firefox and Opera. */\n",
       "                border: none;\n",
       "                /* Needs to be in here for Safari polyfill so background images work as expected. */\n",
       "                background-size: auto;\n",
       "            }\n",
       "        </style>\n",
       "      \n",
       "      <progress value='1500' max='1500' style='width:300px; height:20px; vertical-align: middle;'></progress>\n",
       "      [1500/1500 12:10, Epoch 1/1]\n",
       "    </div>\n",
       "    <table border=\"1\" class=\"dataframe\">\n",
       "  <thead>\n",
       "    <tr style=\"text-align: left;\">\n",
       "      <th>Epoch</th>\n",
       "      <th>Training Loss</th>\n",
       "      <th>Validation Loss</th>\n",
       "      <th>Accuracy</th>\n",
       "      <th>F1</th>\n",
       "      <th>Precision</th>\n",
       "      <th>Recall</th>\n",
       "      <th>Runtime</th>\n",
       "      <th>Samples Per Second</th>\n",
       "    </tr>\n",
       "  </thead>\n",
       "  <tbody>\n",
       "    <tr>\n",
       "      <td>1</td>\n",
       "      <td>2.291400</td>\n",
       "      <td>1.900626</td>\n",
       "      <td>0.484000</td>\n",
       "      <td>0.457461</td>\n",
       "      <td>0.466645</td>\n",
       "      <td>0.484000</td>\n",
       "      <td>17.833100</td>\n",
       "      <td>56.076000</td>\n",
       "    </tr>\n",
       "  </tbody>\n",
       "</table><p>"
      ],
      "text/plain": [
       "<IPython.core.display.HTML object>"
      ]
     },
     "metadata": {
      "tags": []
     },
     "output_type": "display_data"
    },
    {
     "data": {
      "text/plain": [
       "TrainOutput(global_step=1500, training_loss=2.4701984977722167, metrics={'train_runtime': 731.0666, 'train_samples_per_second': 2.052, 'total_flos': 4036832096256000, 'epoch': 1.0})"
      ]
     },
     "execution_count": 166,
     "metadata": {
      "tags": []
     },
     "output_type": "execute_result"
    }
   ],
   "source": [
    "model_dir=\"./\"\n",
    "\n",
    "from transformers import Trainer, TrainingArguments\n",
    "\n",
    "training_args = TrainingArguments(\n",
    "    output_dir = model_dir +  'prueba/results',          # output directory\n",
    "    overwrite_output_dir = True,\n",
    "    evaluation_strategy='epoch',\n",
    "    num_train_epochs=1,              # total number of training epochs\n",
    "    per_device_train_batch_size=8,  # batch size per device during training\n",
    "    per_device_eval_batch_size=16,   # batch size for evaluation\n",
    "    warmup_steps=500,                # number of warmup steps for learning rate scheduler\n",
    "    weight_decay=0.01,               # strength of weight decay\n",
    "    logging_dir = model_dir +  'prueba/logs',            # directory for storing logs\n",
    "    logging_steps=10,\n",
    "    #load_best_model_at_end = True\n",
    ")\n",
    "\n",
    "trainer = Trainer(\n",
    "    model = model,                         # the instantiated 🤗 Transformers model to be trained\n",
    "    args = training_args,                  # training arguments, defined above\n",
    "    train_dataset = train_data,         # training dataset\n",
    "    eval_dataset = test_data,\n",
    "    compute_metrics = compute_metrics            # evaluation dataset\n",
    ")\n",
    "\n",
    "trainer.train()"
   ]
  },
  {
   "cell_type": "markdown",
   "metadata": {
    "id": "M0QVxSGJw36g"
   },
   "source": [
    "## Evaluation"
   ]
  },
  {
   "cell_type": "code",
   "execution_count": null,
   "metadata": {
    "colab": {
     "base_uri": "https://localhost:8080/"
    },
    "executionInfo": {
     "elapsed": 764789,
     "status": "ok",
     "timestamp": 1613043947315,
     "user": {
      "displayName": "lu ls",
      "photoUrl": "",
      "userId": "03605438839658261603"
     },
     "user_tz": -60
    },
    "id": "8xtj1Aslw36g",
    "outputId": "c2e36608-c55b-4b56-f232-2ba0fed831d5"
   },
   "outputs": [
    {
     "data": {
      "text/html": [
       "\n",
       "    <div>\n",
       "        <style>\n",
       "            /* Turns off some styling */\n",
       "            progress {\n",
       "                /* gets rid of default border in Firefox and Opera. */\n",
       "                border: none;\n",
       "                /* Needs to be in here for Safari polyfill so background images work as expected. */\n",
       "                background-size: auto;\n",
       "            }\n",
       "        </style>\n",
       "      \n",
       "      <progress value='63' max='63' style='width:300px; height:20px; vertical-align: middle;'></progress>\n",
       "      [63/63 00:17]\n",
       "    </div>\n",
       "    "
      ],
      "text/plain": [
       "<IPython.core.display.HTML object>"
      ]
     },
     "metadata": {
      "tags": []
     },
     "output_type": "display_data"
    },
    {
     "data": {
      "text/plain": [
       "{'epoch': 1.0,\n",
       " 'eval_accuracy': 0.484,\n",
       " 'eval_f1': 0.45746141413361835,\n",
       " 'eval_loss': 1.9006259441375732,\n",
       " 'eval_precision': 0.46664481507264,\n",
       " 'eval_recall': 0.484,\n",
       " 'eval_runtime': 17.8415,\n",
       " 'eval_samples_per_second': 56.049}"
      ]
     },
     "execution_count": 167,
     "metadata": {
      "tags": []
     },
     "output_type": "execute_result"
    }
   ],
   "source": [
    "trainer.evaluate()"
   ]
  },
  {
   "cell_type": "code",
   "execution_count": null,
   "metadata": {
    "colab": {
     "base_uri": "https://localhost:8080/"
    },
    "executionInfo": {
     "elapsed": 782376,
     "status": "ok",
     "timestamp": 1613043964915,
     "user": {
      "displayName": "lu ls",
      "photoUrl": "",
      "userId": "03605438839658261603"
     },
     "user_tz": -60
    },
    "id": "TsGRUuWyrg7O",
    "outputId": "5491882a-62fb-4ccd-ebf2-e8146477a4b2"
   },
   "outputs": [
    {
     "data": {
      "text/html": [
       "\n",
       "    <div>\n",
       "        <style>\n",
       "            /* Turns off some styling */\n",
       "            progress {\n",
       "                /* gets rid of default border in Firefox and Opera. */\n",
       "                border: none;\n",
       "                /* Needs to be in here for Safari polyfill so background images work as expected. */\n",
       "                background-size: auto;\n",
       "            }\n",
       "        </style>\n",
       "      \n",
       "      <progress value='126' max='63' style='width:300px; height:20px; vertical-align: middle;'></progress>\n",
       "      [63/63 00:35]\n",
       "    </div>\n",
       "    "
      ],
      "text/plain": [
       "<IPython.core.display.HTML object>"
      ]
     },
     "metadata": {
      "tags": []
     },
     "output_type": "display_data"
    }
   ],
   "source": [
    "preds = trainer.predict(test_data)"
   ]
  },
  {
   "cell_type": "code",
   "execution_count": null,
   "metadata": {
    "colab": {
     "base_uri": "https://localhost:8080/"
    },
    "executionInfo": {
     "elapsed": 782362,
     "status": "ok",
     "timestamp": 1613043964916,
     "user": {
      "displayName": "lu ls",
      "photoUrl": "",
      "userId": "03605438839658261603"
     },
     "user_tz": -60
    },
    "id": "ZjAfMKTnsPcC",
    "outputId": "2d8a7149-4e68-4097-f4a8-d7bbaa78ef76"
   },
   "outputs": [
    {
     "name": "stdout",
     "output_type": "stream",
     "text": [
      "30\n",
      "[ 0  1  2  3  4  5  6  7  8  9 10 11 12 13 14 15 16 17 18 19 20 21 22 24\n",
      " 25 26 27 28 29 30]\n"
     ]
    }
   ],
   "source": [
    "import numpy as np\n",
    "y_preds = preds.label_ids\n",
    "print(len(np.unique(y_preds)))\n",
    "print(np.unique(y_preds))"
   ]
  },
  {
   "cell_type": "code",
   "execution_count": null,
   "metadata": {
    "colab": {
     "base_uri": "https://localhost:8080/"
    },
    "executionInfo": {
     "elapsed": 782347,
     "status": "ok",
     "timestamp": 1613043964917,
     "user": {
      "displayName": "lu ls",
      "photoUrl": "",
      "userId": "03605438839658261603"
     },
     "user_tz": -60
    },
    "id": "Xj5J10m0tiwU",
    "outputId": "d713b0a6-78c3-40a8-b10e-d8e0879091c6"
   },
   "outputs": [
    {
     "name": "stdout",
     "output_type": "stream",
     "text": [
      "30\n",
      "[ 0  1  2  3  4  5  6  7  8  9 10 11 12 13 14 15 16 17 18 19 20 21 22 24\n",
      " 25 26 27 28 29 30]\n"
     ]
    }
   ],
   "source": [
    "print(len(np.unique(test_labels)))\n",
    "print(np.unique(test_labels))"
   ]
  },
  {
   "cell_type": "code",
   "execution_count": null,
   "metadata": {
    "colab": {
     "base_uri": "https://localhost:8080/"
    },
    "executionInfo": {
     "elapsed": 782334,
     "status": "ok",
     "timestamp": 1613043964917,
     "user": {
      "displayName": "lu ls",
      "photoUrl": "",
      "userId": "03605438839658261603"
     },
     "user_tz": -60
    },
    "id": "UlwxK1JNt1tM",
    "outputId": "aa9890ee-d666-4551-a804-7b3f6fe99657"
   },
   "outputs": [
    {
     "data": {
      "text/plain": [
       "31"
      ]
     },
     "execution_count": 171,
     "metadata": {
      "tags": []
     },
     "output_type": "execute_result"
    }
   ],
   "source": [
    "len(class_names)"
   ]
  },
  {
   "cell_type": "code",
   "execution_count": null,
   "metadata": {
    "id": "K9S5fyfwpHkD"
   },
   "outputs": [],
   "source": [
    "from sklearn.metrics import classification_report\n",
    "\n",
    "#print(classification_report(test_labels, y_preds, target_names= class_names"
   ]
  },
  {
   "cell_type": "markdown",
   "metadata": {
    "id": "kZfNk-hFw6tB"
   },
   "source": [
    "## Save Model"
   ]
  },
  {
   "cell_type": "code",
   "execution_count": null,
   "metadata": {
    "colab": {
     "base_uri": "https://localhost:8080/"
    },
    "executionInfo": {
     "elapsed": 782997,
     "status": "ok",
     "timestamp": 1613043965602,
     "user": {
      "displayName": "lu ls",
      "photoUrl": "",
      "userId": "03605438839658261603"
     },
     "user_tz": -60
    },
    "id": "wYd62Bxow6tC",
    "outputId": "2187212f-9a2d-4494-ddf2-bd99b898d779"
   },
   "outputs": [
    {
     "name": "stdout",
     "output_type": "stream",
     "text": [
      "Category_text\t     Rating_text\tRating_text_title_cat\n",
      "Category_text_title  Rating_text_title\n"
     ]
    }
   ],
   "source": [
    "!ls drive/MyDrive/TFG/Modelos_entrenados/"
   ]
  },
  {
   "cell_type": "code",
   "execution_count": null,
   "metadata": {
    "colab": {
     "base_uri": "https://localhost:8080/"
    },
    "executionInfo": {
     "elapsed": 787004,
     "status": "ok",
     "timestamp": 1613043969614,
     "user": {
      "displayName": "lu ls",
      "photoUrl": "",
      "userId": "03605438839658261603"
     },
     "user_tz": -60
    },
    "id": "s80oYLXMw6tC",
    "outputId": "db6560ee-0ac6-4528-f56d-5ba1c0db56ac"
   },
   "outputs": [
    {
     "data": {
      "text/plain": [
       "('drive/MyDrive/TFG/Modelos_entrenados/Category_text/tokenizer_config.json',\n",
       " 'drive/MyDrive/TFG/Modelos_entrenados/Category_text/special_tokens_map.json',\n",
       " 'drive/MyDrive/TFG/Modelos_entrenados/Category_text/vocab.txt',\n",
       " 'drive/MyDrive/TFG/Modelos_entrenados/Category_text/added_tokens.json')"
      ]
     },
     "execution_count": 174,
     "metadata": {
      "tags": []
     },
     "output_type": "execute_result"
    }
   ],
   "source": [
    "# saving the fine tuned model & tokenizer\n",
    "model_path = \"drive/MyDrive/TFG/Modelos_entrenados/Category_text\"\n",
    "trainer.save_model(model_path)\n",
    "model.save_pretrained(model_path)\n",
    "tokenizer.save_pretrained(model_path)"
   ]
  },
  {
   "cell_type": "markdown",
   "metadata": {
    "id": "wiMpXakcxleJ"
   },
   "source": [
    "# BertForSequenceClassification - CATEGORÍA\n",
    "\n",
    "- Clasificación de categorias de productos a partir del review_body + titulo"
   ]
  },
  {
   "cell_type": "code",
   "execution_count": null,
   "metadata": {
    "id": "PPDbtxuKxleJ"
   },
   "outputs": [],
   "source": [
    "RANDOM_SEED=8\n",
    "MAX_LENGTH=512\n",
    "\n",
    "\n",
    "## CLASES DEL CLASIFICADOR \n",
    "\n",
    "class_names = df_train.product_category.unique().tolist()"
   ]
  },
  {
   "cell_type": "code",
   "execution_count": null,
   "metadata": {
    "id": "ulc-JJYcxleJ"
   },
   "outputs": [],
   "source": [
    "#TOKENIZAMOS LOS DATAFRAMES\n",
    "\n",
    "train_encodings = tokenizer(df_train.text_title.values.tolist(), #truncation=True, padding=True,\n",
    "      add_special_tokens=True,\n",
    "      truncation=True,\n",
    "      max_length=MAX_LENGTH,\n",
    "      return_token_type_ids=False,\n",
    "      pad_to_max_length=True,\n",
    "      return_attention_mask=True,\n",
    "      return_tensors='pt')\n",
    "\n",
    "val_encodings = tokenizer(df_valid.text_title.values.tolist(), #truncation=True, padding=True,\n",
    "      add_special_tokens=True,\n",
    "      truncation=True,\n",
    "      max_length=MAX_LENGTH,\n",
    "      return_token_type_ids=False,\n",
    "      pad_to_max_length=True,\n",
    "      return_attention_mask=True,\n",
    "      return_tensors='pt')\n",
    "\n",
    "test_encodings = tokenizer(df_test.text_title.values.tolist(), #truncation=True, padding=True,\n",
    "      add_special_tokens=True,\n",
    "      truncation=True,\n",
    "      max_length=MAX_LENGTH,\n",
    "      return_token_type_ids=False,\n",
    "      pad_to_max_length=True,\n",
    "      return_attention_mask=True,\n",
    "      return_tensors='pt')"
   ]
  },
  {
   "cell_type": "code",
   "execution_count": null,
   "metadata": {
    "id": "UZj8ZZ4KxleK"
   },
   "outputs": [],
   "source": [
    "class GPReviewDataset(torch.utils.data.Dataset):\n",
    "    def __init__(self, encodings, labels):\n",
    "        self.encodings = encodings\n",
    "        self.labels = labels\n",
    "\n",
    "    def __getitem__(self, idx):\n",
    "        item = {key: torch.tensor(val[idx]) for key, val in self.encodings.items()}\n",
    "        item['labels'] = torch.tensor(self.labels[idx])\n",
    "        return item\n",
    "\n",
    "    def __len__(self):\n",
    "        return len(self.labels)"
   ]
  },
  {
   "cell_type": "code",
   "execution_count": null,
   "metadata": {
    "id": "5O-AjcNMxleK"
   },
   "outputs": [],
   "source": [
    "train_labels = df_train.product_category_cod.values\n",
    "val_labels = df_valid.product_category_cod.values\n",
    "test_labels = df_test.product_category_cod.values"
   ]
  },
  {
   "cell_type": "code",
   "execution_count": null,
   "metadata": {
    "id": "UeV2NMDExleK"
   },
   "outputs": [],
   "source": [
    "train_data = GPReviewDataset(train_encodings, torch.from_numpy(train_labels))\n",
    "val_data = GPReviewDataset(val_encodings, torch.from_numpy(val_labels))\n",
    "test_data = GPReviewDataset(test_encodings, torch.from_numpy(test_labels))"
   ]
  },
  {
   "cell_type": "code",
   "execution_count": null,
   "metadata": {
    "colab": {
     "base_uri": "https://localhost:8080/"
    },
    "executionInfo": {
     "elapsed": 22300,
     "status": "ok",
     "timestamp": 1613042218748,
     "user": {
      "displayName": "lu ls",
      "photoUrl": "",
      "userId": "03605438839658261603"
     },
     "user_tz": -60
    },
    "id": "XapCe4rjxleK",
    "outputId": "d56cc6e5-0e99-420e-f427-832987ee8a01"
   },
   "outputs": [
    {
     "name": "stderr",
     "output_type": "stream",
     "text": [
      "Some weights of the model checkpoint at bert-base-uncased were not used when initializing BertForSequenceClassification: ['cls.predictions.bias', 'cls.predictions.transform.dense.weight', 'cls.predictions.transform.dense.bias', 'cls.predictions.decoder.weight', 'cls.seq_relationship.weight', 'cls.seq_relationship.bias', 'cls.predictions.transform.LayerNorm.weight', 'cls.predictions.transform.LayerNorm.bias']\n",
      "- This IS expected if you are initializing BertForSequenceClassification from the checkpoint of a model trained on another task or with another architecture (e.g. initializing a BertForSequenceClassification model from a BertForPreTraining model).\n",
      "- This IS NOT expected if you are initializing BertForSequenceClassification from the checkpoint of a model that you expect to be exactly identical (initializing a BertForSequenceClassification model from a BertForSequenceClassification model).\n",
      "Some weights of BertForSequenceClassification were not initialized from the model checkpoint at bert-base-uncased and are newly initialized: ['classifier.weight', 'classifier.bias']\n",
      "You should probably TRAIN this model on a down-stream task to be able to use it for predictions and inference.\n"
     ]
    }
   ],
   "source": [
    "model = BertForSequenceClassification.from_pretrained(\n",
    "    PRE_TRAINED_MODEL_NAME, # Use the 12-layer BERT model, with an uncased vocab.\n",
    "    num_labels = len(class_names), # The number of output labels--2 for binary classification.  si pones num_labels=1 hace MSE LOSS\n",
    "    output_attentions = False, # Whether the model returns attentions weights.\n",
    "    output_hidden_states = False ,# Whether the model returns all hidden-states.   \n",
    "    vocab_size=tokenizer.vocab_size)"
   ]
  },
  {
   "cell_type": "code",
   "execution_count": null,
   "metadata": {
    "id": "WfN6Pyx8xleL"
   },
   "outputs": [],
   "source": [
    "device = torch.device(\"cuda:0\" if torch.cuda.is_available() else \"cpu\")\n",
    "model = model.to(device)"
   ]
  },
  {
   "cell_type": "markdown",
   "metadata": {
    "id": "2P4MFgYmxleL"
   },
   "source": [
    "## Training"
   ]
  },
  {
   "cell_type": "code",
   "execution_count": null,
   "metadata": {
    "colab": {
     "base_uri": "https://localhost:8080/",
     "height": 142
    },
    "executionInfo": {
     "elapsed": 732286,
     "status": "ok",
     "timestamp": 1613042955804,
     "user": {
      "displayName": "lu ls",
      "photoUrl": "",
      "userId": "03605438839658261603"
     },
     "user_tz": -60
    },
    "id": "XS5_UIwSxleL",
    "outputId": "ad8f6dce-51bf-4413-c07e-92661e0ee223"
   },
   "outputs": [
    {
     "data": {
      "text/html": [
       "\n",
       "    <div>\n",
       "        <style>\n",
       "            /* Turns off some styling */\n",
       "            progress {\n",
       "                /* gets rid of default border in Firefox and Opera. */\n",
       "                border: none;\n",
       "                /* Needs to be in here for Safari polyfill so background images work as expected. */\n",
       "                background-size: auto;\n",
       "            }\n",
       "        </style>\n",
       "      \n",
       "      <progress value='1500' max='1500' style='width:300px; height:20px; vertical-align: middle;'></progress>\n",
       "      [1500/1500 12:11, Epoch 1/1]\n",
       "    </div>\n",
       "    <table border=\"1\" class=\"dataframe\">\n",
       "  <thead>\n",
       "    <tr style=\"text-align: left;\">\n",
       "      <th>Epoch</th>\n",
       "      <th>Training Loss</th>\n",
       "      <th>Validation Loss</th>\n",
       "      <th>Accuracy</th>\n",
       "      <th>F1</th>\n",
       "      <th>Precision</th>\n",
       "      <th>Recall</th>\n",
       "      <th>Runtime</th>\n",
       "      <th>Samples Per Second</th>\n",
       "    </tr>\n",
       "  </thead>\n",
       "  <tbody>\n",
       "    <tr>\n",
       "      <td>1</td>\n",
       "      <td>2.349900</td>\n",
       "      <td>1.861099</td>\n",
       "      <td>0.484000</td>\n",
       "      <td>0.465439</td>\n",
       "      <td>0.486365</td>\n",
       "      <td>0.484000</td>\n",
       "      <td>17.859200</td>\n",
       "      <td>55.993000</td>\n",
       "    </tr>\n",
       "  </tbody>\n",
       "</table><p>"
      ],
      "text/plain": [
       "<IPython.core.display.HTML object>"
      ]
     },
     "metadata": {
      "tags": []
     },
     "output_type": "display_data"
    },
    {
     "data": {
      "text/plain": [
       "TrainOutput(global_step=1500, training_loss=2.4554180132548016, metrics={'train_runtime': 731.6949, 'train_samples_per_second': 2.05, 'total_flos': 4036832096256000, 'epoch': 1.0})"
      ]
     },
     "execution_count": 153,
     "metadata": {
      "tags": []
     },
     "output_type": "execute_result"
    }
   ],
   "source": [
    "model_dir=\"./\"\n",
    "\n",
    "from transformers import Trainer, TrainingArguments\n",
    "\n",
    "training_args = TrainingArguments(\n",
    "    output_dir = model_dir +  'prueba/results',          # output directory\n",
    "    overwrite_output_dir = True,\n",
    "    evaluation_strategy='epoch',\n",
    "    num_train_epochs=1,              # total number of training epochs\n",
    "    per_device_train_batch_size=8,  # batch size per device during training\n",
    "    per_device_eval_batch_size=16,   # batch size for evaluation\n",
    "    warmup_steps=500,                # number of warmup steps for learning rate scheduler\n",
    "    weight_decay=0.01,               # strength of weight decay\n",
    "    logging_dir = model_dir +  'prueba/logs',            # directory for storing logs\n",
    "    logging_steps=10,\n",
    "    #load_best_model_at_end = True\n",
    ")\n",
    "\n",
    "trainer = Trainer(\n",
    "    model = model,                         # the instantiated 🤗 Transformers model to be trained\n",
    "    args = training_args,                  # training arguments, defined above\n",
    "    train_dataset = train_data,         # training dataset\n",
    "    eval_dataset = test_data,\n",
    "    compute_metrics = compute_metrics             # evaluation dataset\n",
    ")\n",
    "\n",
    "trainer.train()"
   ]
  },
  {
   "cell_type": "markdown",
   "metadata": {
    "id": "lRxJw2lZxleL"
   },
   "source": [
    "## Evaluation"
   ]
  },
  {
   "cell_type": "code",
   "execution_count": null,
   "metadata": {
    "colab": {
     "base_uri": "https://localhost:8080/",
     "height": 178
    },
    "executionInfo": {
     "elapsed": 19177,
     "status": "ok",
     "timestamp": 1613042974998,
     "user": {
      "displayName": "lu ls",
      "photoUrl": "",
      "userId": "03605438839658261603"
     },
     "user_tz": -60
    },
    "id": "fKec_lvkxleM",
    "outputId": "5749d487-16a2-4e47-b269-4a84fcde46dc"
   },
   "outputs": [
    {
     "data": {
      "text/html": [
       "\n",
       "    <div>\n",
       "        <style>\n",
       "            /* Turns off some styling */\n",
       "            progress {\n",
       "                /* gets rid of default border in Firefox and Opera. */\n",
       "                border: none;\n",
       "                /* Needs to be in here for Safari polyfill so background images work as expected. */\n",
       "                background-size: auto;\n",
       "            }\n",
       "        </style>\n",
       "      \n",
       "      <progress value='63' max='63' style='width:300px; height:20px; vertical-align: middle;'></progress>\n",
       "      [63/63 00:17]\n",
       "    </div>\n",
       "    "
      ],
      "text/plain": [
       "<IPython.core.display.HTML object>"
      ]
     },
     "metadata": {
      "tags": []
     },
     "output_type": "display_data"
    },
    {
     "data": {
      "text/plain": [
       "{'epoch': 1.0,\n",
       " 'eval_accuracy': 0.484,\n",
       " 'eval_f1': 0.4654393747639713,\n",
       " 'eval_loss': 1.8610986471176147,\n",
       " 'eval_precision': 0.48636542705370245,\n",
       " 'eval_recall': 0.484,\n",
       " 'eval_runtime': 17.8336,\n",
       " 'eval_samples_per_second': 56.074}"
      ]
     },
     "execution_count": 154,
     "metadata": {
      "tags": []
     },
     "output_type": "execute_result"
    }
   ],
   "source": [
    "trainer.evaluate()"
   ]
  },
  {
   "cell_type": "markdown",
   "metadata": {
    "id": "4sNM26YyxleM"
   },
   "source": [
    "## Save Model"
   ]
  },
  {
   "cell_type": "code",
   "execution_count": null,
   "metadata": {
    "colab": {
     "base_uri": "https://localhost:8080/"
    },
    "executionInfo": {
     "elapsed": 881,
     "status": "ok",
     "timestamp": 1613043112244,
     "user": {
      "displayName": "lu ls",
      "photoUrl": "",
      "userId": "03605438839658261603"
     },
     "user_tz": -60
    },
    "id": "WDDjecK-xleM",
    "outputId": "f39de1d7-ef92-4ac7-ac3c-f7f7653cd65c"
   },
   "outputs": [
    {
     "name": "stdout",
     "output_type": "stream",
     "text": [
      "ls: cannot access 'drive/MyDrive/TFG_1/Modelos_entrenados/': No such file or directory\n"
     ]
    }
   ],
   "source": [
    "!ls drive/MyDrive/TFG_1/Modelos_entrenados/"
   ]
  },
  {
   "cell_type": "code",
   "execution_count": null,
   "metadata": {
    "colab": {
     "base_uri": "https://localhost:8080/"
    },
    "executionInfo": {
     "elapsed": 4889,
     "status": "ok",
     "timestamp": 1613043118621,
     "user": {
      "displayName": "lu ls",
      "photoUrl": "",
      "userId": "03605438839658261603"
     },
     "user_tz": -60
    },
    "id": "_JvegHs-xleN",
    "outputId": "b08d61be-2cc0-4fcd-da76-7d5a0d16ffb8"
   },
   "outputs": [
    {
     "data": {
      "text/plain": [
       "('drive/MyDrive/TFG/Modelos_entrenados/Category_text_title/tokenizer_config.json',\n",
       " 'drive/MyDrive/TFG/Modelos_entrenados/Category_text_title/special_tokens_map.json',\n",
       " 'drive/MyDrive/TFG/Modelos_entrenados/Category_text_title/vocab.txt',\n",
       " 'drive/MyDrive/TFG/Modelos_entrenados/Category_text_title/added_tokens.json')"
      ]
     },
     "execution_count": 157,
     "metadata": {
      "tags": []
     },
     "output_type": "execute_result"
    }
   ],
   "source": [
    "# saving the fine tuned model & tokenizer\n",
    "model_path = \"drive/MyDrive/TFG/Modelos_entrenados/Category_text_title\"\n",
    "trainer.save_model(model_path)\n",
    "model.save_pretrained(model_path)\n",
    "tokenizer.save_pretrained(model_path)"
   ]
  },
  {
   "cell_type": "code",
   "execution_count": null,
   "metadata": {
    "id": "Rm9z70_2t4_O"
   },
   "outputs": [],
   "source": []
  },
  {
   "cell_type": "code",
   "execution_count": null,
   "metadata": {
    "id": "jcrRCuosnDYH"
   },
   "outputs": [],
   "source": []
  }
 ],
 "metadata": {
  "accelerator": "GPU",
  "colab": {
   "collapsed_sections": [],
   "name": "Clasificaciones con TRAINER - BERT.ipynb",
   "provenance": []
  },
  "kernelspec": {
   "display_name": "NLP",
   "language": "python",
   "name": "nlp"
  },
  "language_info": {
   "codemirror_mode": {
    "name": "ipython",
    "version": 3
   },
   "file_extension": ".py",
   "mimetype": "text/x-python",
   "name": "python",
   "nbconvert_exporter": "python",
   "pygments_lexer": "ipython3",
   "version": "3.7.9"
  },
  "widgets": {
   "application/vnd.jupyter.widget-state+json": {
    "047904171e4746a892bb8720d8bc2a5b": {
     "model_module": "@jupyter-widgets/base",
     "model_name": "LayoutModel",
     "state": {
      "_model_module": "@jupyter-widgets/base",
      "_model_module_version": "1.2.0",
      "_model_name": "LayoutModel",
      "_view_count": null,
      "_view_module": "@jupyter-widgets/base",
      "_view_module_version": "1.2.0",
      "_view_name": "LayoutView",
      "align_content": null,
      "align_items": null,
      "align_self": null,
      "border": null,
      "bottom": null,
      "display": null,
      "flex": null,
      "flex_flow": null,
      "grid_area": null,
      "grid_auto_columns": null,
      "grid_auto_flow": null,
      "grid_auto_rows": null,
      "grid_column": null,
      "grid_gap": null,
      "grid_row": null,
      "grid_template_areas": null,
      "grid_template_columns": null,
      "grid_template_rows": null,
      "height": null,
      "justify_content": null,
      "justify_items": null,
      "left": null,
      "margin": null,
      "max_height": null,
      "max_width": null,
      "min_height": null,
      "min_width": null,
      "object_fit": null,
      "object_position": null,
      "order": null,
      "overflow": null,
      "overflow_x": null,
      "overflow_y": null,
      "padding": null,
      "right": null,
      "top": null,
      "visibility": null,
      "width": null
     }
    },
    "0823fa1bb9264685946093f5c918cfaa": {
     "model_module": "@jupyter-widgets/base",
     "model_name": "LayoutModel",
     "state": {
      "_model_module": "@jupyter-widgets/base",
      "_model_module_version": "1.2.0",
      "_model_name": "LayoutModel",
      "_view_count": null,
      "_view_module": "@jupyter-widgets/base",
      "_view_module_version": "1.2.0",
      "_view_name": "LayoutView",
      "align_content": null,
      "align_items": null,
      "align_self": null,
      "border": null,
      "bottom": null,
      "display": null,
      "flex": null,
      "flex_flow": null,
      "grid_area": null,
      "grid_auto_columns": null,
      "grid_auto_flow": null,
      "grid_auto_rows": null,
      "grid_column": null,
      "grid_gap": null,
      "grid_row": null,
      "grid_template_areas": null,
      "grid_template_columns": null,
      "grid_template_rows": null,
      "height": null,
      "justify_content": null,
      "justify_items": null,
      "left": null,
      "margin": null,
      "max_height": null,
      "max_width": null,
      "min_height": null,
      "min_width": null,
      "object_fit": null,
      "object_position": null,
      "order": null,
      "overflow": null,
      "overflow_x": null,
      "overflow_y": null,
      "padding": null,
      "right": null,
      "top": null,
      "visibility": null,
      "width": null
     }
    },
    "0a36e46add3a4e17ac42a5bb83f6176d": {
     "model_module": "@jupyter-widgets/controls",
     "model_name": "HBoxModel",
     "state": {
      "_dom_classes": [],
      "_model_module": "@jupyter-widgets/controls",
      "_model_module_version": "1.5.0",
      "_model_name": "HBoxModel",
      "_view_count": null,
      "_view_module": "@jupyter-widgets/controls",
      "_view_module_version": "1.5.0",
      "_view_name": "HBoxView",
      "box_style": "",
      "children": [
       "IPY_MODEL_21a32464f7d045a29bd87e3ba02e9ffe",
       "IPY_MODEL_61964896e2df45bf9c236f8002be9212"
      ],
      "layout": "IPY_MODEL_dfe146e60a2c49e7b386f05c415d394a"
     }
    },
    "15fc91a45f46400a8358a36ee9287545": {
     "model_module": "@jupyter-widgets/base",
     "model_name": "LayoutModel",
     "state": {
      "_model_module": "@jupyter-widgets/base",
      "_model_module_version": "1.2.0",
      "_model_name": "LayoutModel",
      "_view_count": null,
      "_view_module": "@jupyter-widgets/base",
      "_view_module_version": "1.2.0",
      "_view_name": "LayoutView",
      "align_content": null,
      "align_items": null,
      "align_self": null,
      "border": null,
      "bottom": null,
      "display": null,
      "flex": null,
      "flex_flow": null,
      "grid_area": null,
      "grid_auto_columns": null,
      "grid_auto_flow": null,
      "grid_auto_rows": null,
      "grid_column": null,
      "grid_gap": null,
      "grid_row": null,
      "grid_template_areas": null,
      "grid_template_columns": null,
      "grid_template_rows": null,
      "height": null,
      "justify_content": null,
      "justify_items": null,
      "left": null,
      "margin": null,
      "max_height": null,
      "max_width": null,
      "min_height": null,
      "min_width": null,
      "object_fit": null,
      "object_position": null,
      "order": null,
      "overflow": null,
      "overflow_x": null,
      "overflow_y": null,
      "padding": null,
      "right": null,
      "top": null,
      "visibility": null,
      "width": null
     }
    },
    "203eedab4b68430d8573d343c6f22ccb": {
     "model_module": "@jupyter-widgets/controls",
     "model_name": "FloatProgressModel",
     "state": {
      "_dom_classes": [],
      "_model_module": "@jupyter-widgets/controls",
      "_model_module_version": "1.5.0",
      "_model_name": "FloatProgressModel",
      "_view_count": null,
      "_view_module": "@jupyter-widgets/controls",
      "_view_module_version": "1.5.0",
      "_view_name": "ProgressView",
      "bar_style": "success",
      "description": "Downloading: 100%",
      "description_tooltip": null,
      "layout": "IPY_MODEL_15fc91a45f46400a8358a36ee9287545",
      "max": 440473133,
      "min": 0,
      "orientation": "horizontal",
      "style": "IPY_MODEL_4293f815970745c5b916c712f0081a07",
      "value": 440473133
     }
    },
    "21a32464f7d045a29bd87e3ba02e9ffe": {
     "model_module": "@jupyter-widgets/controls",
     "model_name": "FloatProgressModel",
     "state": {
      "_dom_classes": [],
      "_model_module": "@jupyter-widgets/controls",
      "_model_module_version": "1.5.0",
      "_model_name": "FloatProgressModel",
      "_view_count": null,
      "_view_module": "@jupyter-widgets/controls",
      "_view_module_version": "1.5.0",
      "_view_name": "ProgressView",
      "bar_style": "success",
      "description": "Downloading: 100%",
      "description_tooltip": null,
      "layout": "IPY_MODEL_e159c4e407824bdab9391d1fc1586754",
      "max": 267967963,
      "min": 0,
      "orientation": "horizontal",
      "style": "IPY_MODEL_2fb851bbaf0042b08b140f67c067e044",
      "value": 267967963
     }
    },
    "2c69321155644e5e828827b086be21a7": {
     "model_module": "@jupyter-widgets/controls",
     "model_name": "ProgressStyleModel",
     "state": {
      "_model_module": "@jupyter-widgets/controls",
      "_model_module_version": "1.5.0",
      "_model_name": "ProgressStyleModel",
      "_view_count": null,
      "_view_module": "@jupyter-widgets/base",
      "_view_module_version": "1.2.0",
      "_view_name": "StyleView",
      "bar_color": null,
      "description_width": "initial"
     }
    },
    "2fb851bbaf0042b08b140f67c067e044": {
     "model_module": "@jupyter-widgets/controls",
     "model_name": "ProgressStyleModel",
     "state": {
      "_model_module": "@jupyter-widgets/controls",
      "_model_module_version": "1.5.0",
      "_model_name": "ProgressStyleModel",
      "_view_count": null,
      "_view_module": "@jupyter-widgets/base",
      "_view_module_version": "1.2.0",
      "_view_name": "StyleView",
      "bar_color": null,
      "description_width": "initial"
     }
    },
    "30f2254dd41b4dc28131b6025d68a380": {
     "model_module": "@jupyter-widgets/base",
     "model_name": "LayoutModel",
     "state": {
      "_model_module": "@jupyter-widgets/base",
      "_model_module_version": "1.2.0",
      "_model_name": "LayoutModel",
      "_view_count": null,
      "_view_module": "@jupyter-widgets/base",
      "_view_module_version": "1.2.0",
      "_view_name": "LayoutView",
      "align_content": null,
      "align_items": null,
      "align_self": null,
      "border": null,
      "bottom": null,
      "display": null,
      "flex": null,
      "flex_flow": null,
      "grid_area": null,
      "grid_auto_columns": null,
      "grid_auto_flow": null,
      "grid_auto_rows": null,
      "grid_column": null,
      "grid_gap": null,
      "grid_row": null,
      "grid_template_areas": null,
      "grid_template_columns": null,
      "grid_template_rows": null,
      "height": null,
      "justify_content": null,
      "justify_items": null,
      "left": null,
      "margin": null,
      "max_height": null,
      "max_width": null,
      "min_height": null,
      "min_width": null,
      "object_fit": null,
      "object_position": null,
      "order": null,
      "overflow": null,
      "overflow_x": null,
      "overflow_y": null,
      "padding": null,
      "right": null,
      "top": null,
      "visibility": null,
      "width": null
     }
    },
    "35ae960383e9451080cd87a5703b3757": {
     "model_module": "@jupyter-widgets/controls",
     "model_name": "ProgressStyleModel",
     "state": {
      "_model_module": "@jupyter-widgets/controls",
      "_model_module_version": "1.5.0",
      "_model_name": "ProgressStyleModel",
      "_view_count": null,
      "_view_module": "@jupyter-widgets/base",
      "_view_module_version": "1.2.0",
      "_view_name": "StyleView",
      "bar_color": null,
      "description_width": "initial"
     }
    },
    "39147fea27d2492f8cbaa64caabb9708": {
     "model_module": "@jupyter-widgets/controls",
     "model_name": "HBoxModel",
     "state": {
      "_dom_classes": [],
      "_model_module": "@jupyter-widgets/controls",
      "_model_module_version": "1.5.0",
      "_model_name": "HBoxModel",
      "_view_count": null,
      "_view_module": "@jupyter-widgets/controls",
      "_view_module_version": "1.5.0",
      "_view_name": "HBoxView",
      "box_style": "",
      "children": [
       "IPY_MODEL_3baea76ece56454b8986983c3c2aeac9",
       "IPY_MODEL_74deddc6e9964a8d9b9779a61636cc08"
      ],
      "layout": "IPY_MODEL_88937cda2b4840f889b21628c58d3fce"
     }
    },
    "3baea76ece56454b8986983c3c2aeac9": {
     "model_module": "@jupyter-widgets/controls",
     "model_name": "FloatProgressModel",
     "state": {
      "_dom_classes": [],
      "_model_module": "@jupyter-widgets/controls",
      "_model_module_version": "1.5.0",
      "_model_name": "FloatProgressModel",
      "_view_count": null,
      "_view_module": "@jupyter-widgets/controls",
      "_view_module_version": "1.5.0",
      "_view_name": "ProgressView",
      "bar_style": "success",
      "description": "Downloading: 100%",
      "description_tooltip": null,
      "layout": "IPY_MODEL_d42b60c25c3c4b758d4b921071c98a0f",
      "max": 442,
      "min": 0,
      "orientation": "horizontal",
      "style": "IPY_MODEL_2c69321155644e5e828827b086be21a7",
      "value": 442
     }
    },
    "3d57a8a461f042e9b776ac8138cd82d4": {
     "model_module": "@jupyter-widgets/base",
     "model_name": "LayoutModel",
     "state": {
      "_model_module": "@jupyter-widgets/base",
      "_model_module_version": "1.2.0",
      "_model_name": "LayoutModel",
      "_view_count": null,
      "_view_module": "@jupyter-widgets/base",
      "_view_module_version": "1.2.0",
      "_view_name": "LayoutView",
      "align_content": null,
      "align_items": null,
      "align_self": null,
      "border": null,
      "bottom": null,
      "display": null,
      "flex": null,
      "flex_flow": null,
      "grid_area": null,
      "grid_auto_columns": null,
      "grid_auto_flow": null,
      "grid_auto_rows": null,
      "grid_column": null,
      "grid_gap": null,
      "grid_row": null,
      "grid_template_areas": null,
      "grid_template_columns": null,
      "grid_template_rows": null,
      "height": null,
      "justify_content": null,
      "justify_items": null,
      "left": null,
      "margin": null,
      "max_height": null,
      "max_width": null,
      "min_height": null,
      "min_width": null,
      "object_fit": null,
      "object_position": null,
      "order": null,
      "overflow": null,
      "overflow_x": null,
      "overflow_y": null,
      "padding": null,
      "right": null,
      "top": null,
      "visibility": null,
      "width": null
     }
    },
    "4293f815970745c5b916c712f0081a07": {
     "model_module": "@jupyter-widgets/controls",
     "model_name": "ProgressStyleModel",
     "state": {
      "_model_module": "@jupyter-widgets/controls",
      "_model_module_version": "1.5.0",
      "_model_name": "ProgressStyleModel",
      "_view_count": null,
      "_view_module": "@jupyter-widgets/base",
      "_view_module_version": "1.2.0",
      "_view_name": "StyleView",
      "bar_color": null,
      "description_width": "initial"
     }
    },
    "45493d79ce6643cd80c96bc005755c18": {
     "model_module": "@jupyter-widgets/controls",
     "model_name": "ProgressStyleModel",
     "state": {
      "_model_module": "@jupyter-widgets/controls",
      "_model_module_version": "1.5.0",
      "_model_name": "ProgressStyleModel",
      "_view_count": null,
      "_view_module": "@jupyter-widgets/base",
      "_view_module_version": "1.2.0",
      "_view_name": "StyleView",
      "bar_color": null,
      "description_width": "initial"
     }
    },
    "5638b4ff4b2244ff8d410415268049cd": {
     "model_module": "@jupyter-widgets/controls",
     "model_name": "HBoxModel",
     "state": {
      "_dom_classes": [],
      "_model_module": "@jupyter-widgets/controls",
      "_model_module_version": "1.5.0",
      "_model_name": "HBoxModel",
      "_view_count": null,
      "_view_module": "@jupyter-widgets/controls",
      "_view_module_version": "1.5.0",
      "_view_name": "HBoxView",
      "box_style": "",
      "children": [
       "IPY_MODEL_203eedab4b68430d8573d343c6f22ccb",
       "IPY_MODEL_addaca4c4f22497dae441f2ed48d531f"
      ],
      "layout": "IPY_MODEL_6de674d1f0b349a7b12501c52f045143"
     }
    },
    "5c7704c7c37a4908a5c802149e415a78": {
     "model_module": "@jupyter-widgets/controls",
     "model_name": "HBoxModel",
     "state": {
      "_dom_classes": [],
      "_model_module": "@jupyter-widgets/controls",
      "_model_module_version": "1.5.0",
      "_model_name": "HBoxModel",
      "_view_count": null,
      "_view_module": "@jupyter-widgets/controls",
      "_view_module_version": "1.5.0",
      "_view_name": "HBoxView",
      "box_style": "",
      "children": [
       "IPY_MODEL_e3df41fea2ee4c0582ed2fbf2e45fea5",
       "IPY_MODEL_682892970bf54644a1881058bf13bcd9"
      ],
      "layout": "IPY_MODEL_30f2254dd41b4dc28131b6025d68a380"
     }
    },
    "61964896e2df45bf9c236f8002be9212": {
     "model_module": "@jupyter-widgets/controls",
     "model_name": "HTMLModel",
     "state": {
      "_dom_classes": [],
      "_model_module": "@jupyter-widgets/controls",
      "_model_module_version": "1.5.0",
      "_model_name": "HTMLModel",
      "_view_count": null,
      "_view_module": "@jupyter-widgets/controls",
      "_view_module_version": "1.5.0",
      "_view_name": "HTMLView",
      "description": "",
      "description_tooltip": null,
      "layout": "IPY_MODEL_6869d9d2b7844cf3bb1f3600a700bf5f",
      "placeholder": "​",
      "style": "IPY_MODEL_c5850f20fa6b493aa2c729c1147bb4e1",
      "value": " 268M/268M [00:04&lt;00:00, 55.6MB/s]"
     }
    },
    "682892970bf54644a1881058bf13bcd9": {
     "model_module": "@jupyter-widgets/controls",
     "model_name": "HTMLModel",
     "state": {
      "_dom_classes": [],
      "_model_module": "@jupyter-widgets/controls",
      "_model_module_version": "1.5.0",
      "_model_name": "HTMLModel",
      "_view_count": null,
      "_view_module": "@jupyter-widgets/controls",
      "_view_module_version": "1.5.0",
      "_view_name": "HTMLView",
      "description": "",
      "description_tooltip": null,
      "layout": "IPY_MODEL_047904171e4746a892bb8720d8bc2a5b",
      "placeholder": "​",
      "style": "IPY_MODEL_dde0016a8b98416e85f870c043b00ce5",
      "value": " 232k/232k [00:00&lt;00:00, 809kB/s]"
     }
    },
    "6869d9d2b7844cf3bb1f3600a700bf5f": {
     "model_module": "@jupyter-widgets/base",
     "model_name": "LayoutModel",
     "state": {
      "_model_module": "@jupyter-widgets/base",
      "_model_module_version": "1.2.0",
      "_model_name": "LayoutModel",
      "_view_count": null,
      "_view_module": "@jupyter-widgets/base",
      "_view_module_version": "1.2.0",
      "_view_name": "LayoutView",
      "align_content": null,
      "align_items": null,
      "align_self": null,
      "border": null,
      "bottom": null,
      "display": null,
      "flex": null,
      "flex_flow": null,
      "grid_area": null,
      "grid_auto_columns": null,
      "grid_auto_flow": null,
      "grid_auto_rows": null,
      "grid_column": null,
      "grid_gap": null,
      "grid_row": null,
      "grid_template_areas": null,
      "grid_template_columns": null,
      "grid_template_rows": null,
      "height": null,
      "justify_content": null,
      "justify_items": null,
      "left": null,
      "margin": null,
      "max_height": null,
      "max_width": null,
      "min_height": null,
      "min_width": null,
      "object_fit": null,
      "object_position": null,
      "order": null,
      "overflow": null,
      "overflow_x": null,
      "overflow_y": null,
      "padding": null,
      "right": null,
      "top": null,
      "visibility": null,
      "width": null
     }
    },
    "6de674d1f0b349a7b12501c52f045143": {
     "model_module": "@jupyter-widgets/base",
     "model_name": "LayoutModel",
     "state": {
      "_model_module": "@jupyter-widgets/base",
      "_model_module_version": "1.2.0",
      "_model_name": "LayoutModel",
      "_view_count": null,
      "_view_module": "@jupyter-widgets/base",
      "_view_module_version": "1.2.0",
      "_view_name": "LayoutView",
      "align_content": null,
      "align_items": null,
      "align_self": null,
      "border": null,
      "bottom": null,
      "display": null,
      "flex": null,
      "flex_flow": null,
      "grid_area": null,
      "grid_auto_columns": null,
      "grid_auto_flow": null,
      "grid_auto_rows": null,
      "grid_column": null,
      "grid_gap": null,
      "grid_row": null,
      "grid_template_areas": null,
      "grid_template_columns": null,
      "grid_template_rows": null,
      "height": null,
      "justify_content": null,
      "justify_items": null,
      "left": null,
      "margin": null,
      "max_height": null,
      "max_width": null,
      "min_height": null,
      "min_width": null,
      "object_fit": null,
      "object_position": null,
      "order": null,
      "overflow": null,
      "overflow_x": null,
      "overflow_y": null,
      "padding": null,
      "right": null,
      "top": null,
      "visibility": null,
      "width": null
     }
    },
    "74deddc6e9964a8d9b9779a61636cc08": {
     "model_module": "@jupyter-widgets/controls",
     "model_name": "HTMLModel",
     "state": {
      "_dom_classes": [],
      "_model_module": "@jupyter-widgets/controls",
      "_model_module_version": "1.5.0",
      "_model_name": "HTMLModel",
      "_view_count": null,
      "_view_module": "@jupyter-widgets/controls",
      "_view_module_version": "1.5.0",
      "_view_name": "HTMLView",
      "description": "",
      "description_tooltip": null,
      "layout": "IPY_MODEL_0823fa1bb9264685946093f5c918cfaa",
      "placeholder": "​",
      "style": "IPY_MODEL_f243adabbf524215b36007577b8101a2",
      "value": " 442/442 [00:17&lt;00:00, 25.1B/s]"
     }
    },
    "80d5f0d6a0f24d0fa3c285b943c77228": {
     "model_module": "@jupyter-widgets/controls",
     "model_name": "HTMLModel",
     "state": {
      "_dom_classes": [],
      "_model_module": "@jupyter-widgets/controls",
      "_model_module_version": "1.5.0",
      "_model_name": "HTMLModel",
      "_view_count": null,
      "_view_module": "@jupyter-widgets/controls",
      "_view_module_version": "1.5.0",
      "_view_name": "HTMLView",
      "description": "",
      "description_tooltip": null,
      "layout": "IPY_MODEL_3d57a8a461f042e9b776ac8138cd82d4",
      "placeholder": "​",
      "style": "IPY_MODEL_e9af364b0d254c0fa82159e996d85926",
      "value": " 433/433 [00:07&lt;00:00, 60.9B/s]"
     }
    },
    "88937cda2b4840f889b21628c58d3fce": {
     "model_module": "@jupyter-widgets/base",
     "model_name": "LayoutModel",
     "state": {
      "_model_module": "@jupyter-widgets/base",
      "_model_module_version": "1.2.0",
      "_model_name": "LayoutModel",
      "_view_count": null,
      "_view_module": "@jupyter-widgets/base",
      "_view_module_version": "1.2.0",
      "_view_name": "LayoutView",
      "align_content": null,
      "align_items": null,
      "align_self": null,
      "border": null,
      "bottom": null,
      "display": null,
      "flex": null,
      "flex_flow": null,
      "grid_area": null,
      "grid_auto_columns": null,
      "grid_auto_flow": null,
      "grid_auto_rows": null,
      "grid_column": null,
      "grid_gap": null,
      "grid_row": null,
      "grid_template_areas": null,
      "grid_template_columns": null,
      "grid_template_rows": null,
      "height": null,
      "justify_content": null,
      "justify_items": null,
      "left": null,
      "margin": null,
      "max_height": null,
      "max_width": null,
      "min_height": null,
      "min_width": null,
      "object_fit": null,
      "object_position": null,
      "order": null,
      "overflow": null,
      "overflow_x": null,
      "overflow_y": null,
      "padding": null,
      "right": null,
      "top": null,
      "visibility": null,
      "width": null
     }
    },
    "9030d749e7db4be1b68ad7437105d83c": {
     "model_module": "@jupyter-widgets/controls",
     "model_name": "FloatProgressModel",
     "state": {
      "_dom_classes": [],
      "_model_module": "@jupyter-widgets/controls",
      "_model_module_version": "1.5.0",
      "_model_name": "FloatProgressModel",
      "_view_count": null,
      "_view_module": "@jupyter-widgets/controls",
      "_view_module_version": "1.5.0",
      "_view_name": "ProgressView",
      "bar_style": "success",
      "description": "Downloading: 100%",
      "description_tooltip": null,
      "layout": "IPY_MODEL_d564e5547fc941338d857d0007fc0f20",
      "max": 433,
      "min": 0,
      "orientation": "horizontal",
      "style": "IPY_MODEL_45493d79ce6643cd80c96bc005755c18",
      "value": 433
     }
    },
    "a0c496abcc3142de8cd9d16a8da6d637": {
     "model_module": "@jupyter-widgets/controls",
     "model_name": "DescriptionStyleModel",
     "state": {
      "_model_module": "@jupyter-widgets/controls",
      "_model_module_version": "1.5.0",
      "_model_name": "DescriptionStyleModel",
      "_view_count": null,
      "_view_module": "@jupyter-widgets/base",
      "_view_module_version": "1.2.0",
      "_view_name": "StyleView",
      "description_width": ""
     }
    },
    "addaca4c4f22497dae441f2ed48d531f": {
     "model_module": "@jupyter-widgets/controls",
     "model_name": "HTMLModel",
     "state": {
      "_dom_classes": [],
      "_model_module": "@jupyter-widgets/controls",
      "_model_module_version": "1.5.0",
      "_model_name": "HTMLModel",
      "_view_count": null,
      "_view_module": "@jupyter-widgets/controls",
      "_view_module_version": "1.5.0",
      "_view_name": "HTMLView",
      "description": "",
      "description_tooltip": null,
      "layout": "IPY_MODEL_b94e8ebc7d854ffaa05af0277325cf96",
      "placeholder": "​",
      "style": "IPY_MODEL_a0c496abcc3142de8cd9d16a8da6d637",
      "value": " 440M/440M [00:06&lt;00:00, 66.2MB/s]"
     }
    },
    "b94e8ebc7d854ffaa05af0277325cf96": {
     "model_module": "@jupyter-widgets/base",
     "model_name": "LayoutModel",
     "state": {
      "_model_module": "@jupyter-widgets/base",
      "_model_module_version": "1.2.0",
      "_model_name": "LayoutModel",
      "_view_count": null,
      "_view_module": "@jupyter-widgets/base",
      "_view_module_version": "1.2.0",
      "_view_name": "LayoutView",
      "align_content": null,
      "align_items": null,
      "align_self": null,
      "border": null,
      "bottom": null,
      "display": null,
      "flex": null,
      "flex_flow": null,
      "grid_area": null,
      "grid_auto_columns": null,
      "grid_auto_flow": null,
      "grid_auto_rows": null,
      "grid_column": null,
      "grid_gap": null,
      "grid_row": null,
      "grid_template_areas": null,
      "grid_template_columns": null,
      "grid_template_rows": null,
      "height": null,
      "justify_content": null,
      "justify_items": null,
      "left": null,
      "margin": null,
      "max_height": null,
      "max_width": null,
      "min_height": null,
      "min_width": null,
      "object_fit": null,
      "object_position": null,
      "order": null,
      "overflow": null,
      "overflow_x": null,
      "overflow_y": null,
      "padding": null,
      "right": null,
      "top": null,
      "visibility": null,
      "width": null
     }
    },
    "c1c63c59020545e89bf28d77051962da": {
     "model_module": "@jupyter-widgets/controls",
     "model_name": "HBoxModel",
     "state": {
      "_dom_classes": [],
      "_model_module": "@jupyter-widgets/controls",
      "_model_module_version": "1.5.0",
      "_model_name": "HBoxModel",
      "_view_count": null,
      "_view_module": "@jupyter-widgets/controls",
      "_view_module_version": "1.5.0",
      "_view_name": "HBoxView",
      "box_style": "",
      "children": [
       "IPY_MODEL_9030d749e7db4be1b68ad7437105d83c",
       "IPY_MODEL_80d5f0d6a0f24d0fa3c285b943c77228"
      ],
      "layout": "IPY_MODEL_e319fde4ee924b31b0f53516d55f32a2"
     }
    },
    "c42260f41d9444e0a7c50b1e60d12a8a": {
     "model_module": "@jupyter-widgets/base",
     "model_name": "LayoutModel",
     "state": {
      "_model_module": "@jupyter-widgets/base",
      "_model_module_version": "1.2.0",
      "_model_name": "LayoutModel",
      "_view_count": null,
      "_view_module": "@jupyter-widgets/base",
      "_view_module_version": "1.2.0",
      "_view_name": "LayoutView",
      "align_content": null,
      "align_items": null,
      "align_self": null,
      "border": null,
      "bottom": null,
      "display": null,
      "flex": null,
      "flex_flow": null,
      "grid_area": null,
      "grid_auto_columns": null,
      "grid_auto_flow": null,
      "grid_auto_rows": null,
      "grid_column": null,
      "grid_gap": null,
      "grid_row": null,
      "grid_template_areas": null,
      "grid_template_columns": null,
      "grid_template_rows": null,
      "height": null,
      "justify_content": null,
      "justify_items": null,
      "left": null,
      "margin": null,
      "max_height": null,
      "max_width": null,
      "min_height": null,
      "min_width": null,
      "object_fit": null,
      "object_position": null,
      "order": null,
      "overflow": null,
      "overflow_x": null,
      "overflow_y": null,
      "padding": null,
      "right": null,
      "top": null,
      "visibility": null,
      "width": null
     }
    },
    "c5850f20fa6b493aa2c729c1147bb4e1": {
     "model_module": "@jupyter-widgets/controls",
     "model_name": "DescriptionStyleModel",
     "state": {
      "_model_module": "@jupyter-widgets/controls",
      "_model_module_version": "1.5.0",
      "_model_name": "DescriptionStyleModel",
      "_view_count": null,
      "_view_module": "@jupyter-widgets/base",
      "_view_module_version": "1.2.0",
      "_view_name": "StyleView",
      "description_width": ""
     }
    },
    "d42b60c25c3c4b758d4b921071c98a0f": {
     "model_module": "@jupyter-widgets/base",
     "model_name": "LayoutModel",
     "state": {
      "_model_module": "@jupyter-widgets/base",
      "_model_module_version": "1.2.0",
      "_model_name": "LayoutModel",
      "_view_count": null,
      "_view_module": "@jupyter-widgets/base",
      "_view_module_version": "1.2.0",
      "_view_name": "LayoutView",
      "align_content": null,
      "align_items": null,
      "align_self": null,
      "border": null,
      "bottom": null,
      "display": null,
      "flex": null,
      "flex_flow": null,
      "grid_area": null,
      "grid_auto_columns": null,
      "grid_auto_flow": null,
      "grid_auto_rows": null,
      "grid_column": null,
      "grid_gap": null,
      "grid_row": null,
      "grid_template_areas": null,
      "grid_template_columns": null,
      "grid_template_rows": null,
      "height": null,
      "justify_content": null,
      "justify_items": null,
      "left": null,
      "margin": null,
      "max_height": null,
      "max_width": null,
      "min_height": null,
      "min_width": null,
      "object_fit": null,
      "object_position": null,
      "order": null,
      "overflow": null,
      "overflow_x": null,
      "overflow_y": null,
      "padding": null,
      "right": null,
      "top": null,
      "visibility": null,
      "width": null
     }
    },
    "d564e5547fc941338d857d0007fc0f20": {
     "model_module": "@jupyter-widgets/base",
     "model_name": "LayoutModel",
     "state": {
      "_model_module": "@jupyter-widgets/base",
      "_model_module_version": "1.2.0",
      "_model_name": "LayoutModel",
      "_view_count": null,
      "_view_module": "@jupyter-widgets/base",
      "_view_module_version": "1.2.0",
      "_view_name": "LayoutView",
      "align_content": null,
      "align_items": null,
      "align_self": null,
      "border": null,
      "bottom": null,
      "display": null,
      "flex": null,
      "flex_flow": null,
      "grid_area": null,
      "grid_auto_columns": null,
      "grid_auto_flow": null,
      "grid_auto_rows": null,
      "grid_column": null,
      "grid_gap": null,
      "grid_row": null,
      "grid_template_areas": null,
      "grid_template_columns": null,
      "grid_template_rows": null,
      "height": null,
      "justify_content": null,
      "justify_items": null,
      "left": null,
      "margin": null,
      "max_height": null,
      "max_width": null,
      "min_height": null,
      "min_width": null,
      "object_fit": null,
      "object_position": null,
      "order": null,
      "overflow": null,
      "overflow_x": null,
      "overflow_y": null,
      "padding": null,
      "right": null,
      "top": null,
      "visibility": null,
      "width": null
     }
    },
    "dde0016a8b98416e85f870c043b00ce5": {
     "model_module": "@jupyter-widgets/controls",
     "model_name": "DescriptionStyleModel",
     "state": {
      "_model_module": "@jupyter-widgets/controls",
      "_model_module_version": "1.5.0",
      "_model_name": "DescriptionStyleModel",
      "_view_count": null,
      "_view_module": "@jupyter-widgets/base",
      "_view_module_version": "1.2.0",
      "_view_name": "StyleView",
      "description_width": ""
     }
    },
    "dfe146e60a2c49e7b386f05c415d394a": {
     "model_module": "@jupyter-widgets/base",
     "model_name": "LayoutModel",
     "state": {
      "_model_module": "@jupyter-widgets/base",
      "_model_module_version": "1.2.0",
      "_model_name": "LayoutModel",
      "_view_count": null,
      "_view_module": "@jupyter-widgets/base",
      "_view_module_version": "1.2.0",
      "_view_name": "LayoutView",
      "align_content": null,
      "align_items": null,
      "align_self": null,
      "border": null,
      "bottom": null,
      "display": null,
      "flex": null,
      "flex_flow": null,
      "grid_area": null,
      "grid_auto_columns": null,
      "grid_auto_flow": null,
      "grid_auto_rows": null,
      "grid_column": null,
      "grid_gap": null,
      "grid_row": null,
      "grid_template_areas": null,
      "grid_template_columns": null,
      "grid_template_rows": null,
      "height": null,
      "justify_content": null,
      "justify_items": null,
      "left": null,
      "margin": null,
      "max_height": null,
      "max_width": null,
      "min_height": null,
      "min_width": null,
      "object_fit": null,
      "object_position": null,
      "order": null,
      "overflow": null,
      "overflow_x": null,
      "overflow_y": null,
      "padding": null,
      "right": null,
      "top": null,
      "visibility": null,
      "width": null
     }
    },
    "e159c4e407824bdab9391d1fc1586754": {
     "model_module": "@jupyter-widgets/base",
     "model_name": "LayoutModel",
     "state": {
      "_model_module": "@jupyter-widgets/base",
      "_model_module_version": "1.2.0",
      "_model_name": "LayoutModel",
      "_view_count": null,
      "_view_module": "@jupyter-widgets/base",
      "_view_module_version": "1.2.0",
      "_view_name": "LayoutView",
      "align_content": null,
      "align_items": null,
      "align_self": null,
      "border": null,
      "bottom": null,
      "display": null,
      "flex": null,
      "flex_flow": null,
      "grid_area": null,
      "grid_auto_columns": null,
      "grid_auto_flow": null,
      "grid_auto_rows": null,
      "grid_column": null,
      "grid_gap": null,
      "grid_row": null,
      "grid_template_areas": null,
      "grid_template_columns": null,
      "grid_template_rows": null,
      "height": null,
      "justify_content": null,
      "justify_items": null,
      "left": null,
      "margin": null,
      "max_height": null,
      "max_width": null,
      "min_height": null,
      "min_width": null,
      "object_fit": null,
      "object_position": null,
      "order": null,
      "overflow": null,
      "overflow_x": null,
      "overflow_y": null,
      "padding": null,
      "right": null,
      "top": null,
      "visibility": null,
      "width": null
     }
    },
    "e319fde4ee924b31b0f53516d55f32a2": {
     "model_module": "@jupyter-widgets/base",
     "model_name": "LayoutModel",
     "state": {
      "_model_module": "@jupyter-widgets/base",
      "_model_module_version": "1.2.0",
      "_model_name": "LayoutModel",
      "_view_count": null,
      "_view_module": "@jupyter-widgets/base",
      "_view_module_version": "1.2.0",
      "_view_name": "LayoutView",
      "align_content": null,
      "align_items": null,
      "align_self": null,
      "border": null,
      "bottom": null,
      "display": null,
      "flex": null,
      "flex_flow": null,
      "grid_area": null,
      "grid_auto_columns": null,
      "grid_auto_flow": null,
      "grid_auto_rows": null,
      "grid_column": null,
      "grid_gap": null,
      "grid_row": null,
      "grid_template_areas": null,
      "grid_template_columns": null,
      "grid_template_rows": null,
      "height": null,
      "justify_content": null,
      "justify_items": null,
      "left": null,
      "margin": null,
      "max_height": null,
      "max_width": null,
      "min_height": null,
      "min_width": null,
      "object_fit": null,
      "object_position": null,
      "order": null,
      "overflow": null,
      "overflow_x": null,
      "overflow_y": null,
      "padding": null,
      "right": null,
      "top": null,
      "visibility": null,
      "width": null
     }
    },
    "e3df41fea2ee4c0582ed2fbf2e45fea5": {
     "model_module": "@jupyter-widgets/controls",
     "model_name": "FloatProgressModel",
     "state": {
      "_dom_classes": [],
      "_model_module": "@jupyter-widgets/controls",
      "_model_module_version": "1.5.0",
      "_model_name": "FloatProgressModel",
      "_view_count": null,
      "_view_module": "@jupyter-widgets/controls",
      "_view_module_version": "1.5.0",
      "_view_name": "ProgressView",
      "bar_style": "success",
      "description": "Downloading: 100%",
      "description_tooltip": null,
      "layout": "IPY_MODEL_c42260f41d9444e0a7c50b1e60d12a8a",
      "max": 231508,
      "min": 0,
      "orientation": "horizontal",
      "style": "IPY_MODEL_35ae960383e9451080cd87a5703b3757",
      "value": 231508
     }
    },
    "e9af364b0d254c0fa82159e996d85926": {
     "model_module": "@jupyter-widgets/controls",
     "model_name": "DescriptionStyleModel",
     "state": {
      "_model_module": "@jupyter-widgets/controls",
      "_model_module_version": "1.5.0",
      "_model_name": "DescriptionStyleModel",
      "_view_count": null,
      "_view_module": "@jupyter-widgets/base",
      "_view_module_version": "1.2.0",
      "_view_name": "StyleView",
      "description_width": ""
     }
    },
    "f243adabbf524215b36007577b8101a2": {
     "model_module": "@jupyter-widgets/controls",
     "model_name": "DescriptionStyleModel",
     "state": {
      "_model_module": "@jupyter-widgets/controls",
      "_model_module_version": "1.5.0",
      "_model_name": "DescriptionStyleModel",
      "_view_count": null,
      "_view_module": "@jupyter-widgets/base",
      "_view_module_version": "1.2.0",
      "_view_name": "StyleView",
      "description_width": ""
     }
    }
   }
  }
 },
 "nbformat": 4,
 "nbformat_minor": 1
}
