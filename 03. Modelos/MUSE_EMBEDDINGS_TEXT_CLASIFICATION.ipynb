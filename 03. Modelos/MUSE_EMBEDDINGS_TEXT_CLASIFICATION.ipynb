{
  "nbformat": 4,
  "nbformat_minor": 0,
  "metadata": {
    "accelerator": "GPU",
    "colab": {
      "name": "MUSE_EMBEDDINGS_TEXT_CLASIFICATION.ipynb",
      "provenance": [],
      "collapsed_sections": [
        "qNmaUJ8Bw6T-",
        "fcRk62tJTAtm",
        "gmxNxHBnw6UB",
        "G9ynH4-5-TAw",
        "C8HzT7fXujUT",
        "yWXfFBzoS29l",
        "vqrVSQUL4CBQ",
        "O6mfrEcYqJIv",
        "kxAyfLsxtoKG",
        "FFhSH2hztoKI",
        "QWVay_chtoKJ",
        "49UiZ5KhtoKL",
        "pER5wmu3qKEA",
        "Wn2M5AFeqKEH",
        "dn2V3wTiqKEI",
        "vYMfdYv2qKEK",
        "aGrF160Mrkxc",
        "gEHc6nvLrkxh",
        "LZyvjywqrkxj",
        "djwFKB5grkxl",
        "YxzdV-EM1jE5",
        "02hIcdbrd8WK",
        "Y2YM_66-1nOl",
        "_20b2DlN6Gve",
        "TpWdYkHu6V8H",
        "7IoDnXFOAOoc",
        "CZBXQgilASoN",
        "hRMjWPJmt_M8"
      ]
    },
    "kernelspec": {
      "display_name": "Python 3",
      "language": "python",
      "name": "python3"
    },
    "language_info": {
      "codemirror_mode": {
        "name": "ipython",
        "version": 3
      },
      "file_extension": ".py",
      "mimetype": "text/x-python",
      "name": "python",
      "nbconvert_exporter": "python",
      "pygments_lexer": "ipython3",
      "version": "3.8.5"
    },
    "widgets": {
      "application/vnd.jupyter.widget-state+json": {
        "5ea4421953fe46589f97b6ec199c9b1e": {
          "model_module": "@jupyter-widgets/controls",
          "model_name": "VBoxModel",
          "state": {
            "_view_name": "VBoxView",
            "_dom_classes": [],
            "_model_name": "VBoxModel",
            "_view_module": "@jupyter-widgets/controls",
            "_model_module_version": "1.5.0",
            "_view_count": null,
            "_view_module_version": "1.5.0",
            "box_style": "",
            "layout": "IPY_MODEL_6e2841b97a6d4be4a0093fe2f2a73d96",
            "_model_module": "@jupyter-widgets/controls",
            "children": [
              "IPY_MODEL_d3b38f709b42445c8cb9b6ed1a40d86e",
              "IPY_MODEL_6bdb32609e6642ce83139b4bc5f7033f"
            ]
          }
        },
        "6e2841b97a6d4be4a0093fe2f2a73d96": {
          "model_module": "@jupyter-widgets/base",
          "model_name": "LayoutModel",
          "state": {
            "_view_name": "LayoutView",
            "grid_template_rows": null,
            "right": null,
            "justify_content": null,
            "_view_module": "@jupyter-widgets/base",
            "overflow": null,
            "_model_module_version": "1.2.0",
            "_view_count": null,
            "flex_flow": null,
            "width": null,
            "min_width": null,
            "border": null,
            "align_items": null,
            "bottom": null,
            "_model_module": "@jupyter-widgets/base",
            "top": null,
            "grid_column": null,
            "overflow_y": null,
            "overflow_x": null,
            "grid_auto_flow": null,
            "grid_area": null,
            "grid_template_columns": null,
            "flex": null,
            "_model_name": "LayoutModel",
            "justify_items": null,
            "grid_row": null,
            "max_height": null,
            "align_content": null,
            "visibility": null,
            "align_self": null,
            "height": null,
            "min_height": null,
            "padding": null,
            "grid_auto_rows": null,
            "grid_gap": null,
            "max_width": null,
            "order": null,
            "_view_module_version": "1.2.0",
            "grid_template_areas": null,
            "object_position": null,
            "object_fit": null,
            "grid_auto_columns": null,
            "margin": null,
            "display": null,
            "left": null
          }
        },
        "d3b38f709b42445c8cb9b6ed1a40d86e": {
          "model_module": "@jupyter-widgets/controls",
          "model_name": "LabelModel",
          "state": {
            "_view_name": "LabelView",
            "style": "IPY_MODEL_194c07c51d9141ff9531a6c18bedc666",
            "_dom_classes": [],
            "description": "",
            "_model_name": "LabelModel",
            "placeholder": "​",
            "_view_module": "@jupyter-widgets/controls",
            "_model_module_version": "1.5.0",
            "value": " 61.96MB of 61.96MB uploaded (0.00MB deduped)\r",
            "_view_count": null,
            "_view_module_version": "1.5.0",
            "description_tooltip": null,
            "_model_module": "@jupyter-widgets/controls",
            "layout": "IPY_MODEL_833daa3b33e94ceca0aa0082004462b4"
          }
        },
        "6bdb32609e6642ce83139b4bc5f7033f": {
          "model_module": "@jupyter-widgets/controls",
          "model_name": "FloatProgressModel",
          "state": {
            "_view_name": "ProgressView",
            "style": "IPY_MODEL_030eb0d63b3c4138a9b10d86eaf11820",
            "_dom_classes": [],
            "description": "",
            "_model_name": "FloatProgressModel",
            "bar_style": "",
            "max": 1,
            "_view_module": "@jupyter-widgets/controls",
            "_model_module_version": "1.5.0",
            "value": 1,
            "_view_count": null,
            "_view_module_version": "1.5.0",
            "orientation": "horizontal",
            "min": 0,
            "description_tooltip": null,
            "_model_module": "@jupyter-widgets/controls",
            "layout": "IPY_MODEL_a4d2e74dfe4a4c9b8e4a2529c3b03a2e"
          }
        },
        "194c07c51d9141ff9531a6c18bedc666": {
          "model_module": "@jupyter-widgets/controls",
          "model_name": "DescriptionStyleModel",
          "state": {
            "_view_name": "StyleView",
            "_model_name": "DescriptionStyleModel",
            "description_width": "",
            "_view_module": "@jupyter-widgets/base",
            "_model_module_version": "1.5.0",
            "_view_count": null,
            "_view_module_version": "1.2.0",
            "_model_module": "@jupyter-widgets/controls"
          }
        },
        "833daa3b33e94ceca0aa0082004462b4": {
          "model_module": "@jupyter-widgets/base",
          "model_name": "LayoutModel",
          "state": {
            "_view_name": "LayoutView",
            "grid_template_rows": null,
            "right": null,
            "justify_content": null,
            "_view_module": "@jupyter-widgets/base",
            "overflow": null,
            "_model_module_version": "1.2.0",
            "_view_count": null,
            "flex_flow": null,
            "width": null,
            "min_width": null,
            "border": null,
            "align_items": null,
            "bottom": null,
            "_model_module": "@jupyter-widgets/base",
            "top": null,
            "grid_column": null,
            "overflow_y": null,
            "overflow_x": null,
            "grid_auto_flow": null,
            "grid_area": null,
            "grid_template_columns": null,
            "flex": null,
            "_model_name": "LayoutModel",
            "justify_items": null,
            "grid_row": null,
            "max_height": null,
            "align_content": null,
            "visibility": null,
            "align_self": null,
            "height": null,
            "min_height": null,
            "padding": null,
            "grid_auto_rows": null,
            "grid_gap": null,
            "max_width": null,
            "order": null,
            "_view_module_version": "1.2.0",
            "grid_template_areas": null,
            "object_position": null,
            "object_fit": null,
            "grid_auto_columns": null,
            "margin": null,
            "display": null,
            "left": null
          }
        },
        "030eb0d63b3c4138a9b10d86eaf11820": {
          "model_module": "@jupyter-widgets/controls",
          "model_name": "ProgressStyleModel",
          "state": {
            "_view_name": "StyleView",
            "_model_name": "ProgressStyleModel",
            "description_width": "",
            "_view_module": "@jupyter-widgets/base",
            "_model_module_version": "1.5.0",
            "_view_count": null,
            "_view_module_version": "1.2.0",
            "bar_color": null,
            "_model_module": "@jupyter-widgets/controls"
          }
        },
        "a4d2e74dfe4a4c9b8e4a2529c3b03a2e": {
          "model_module": "@jupyter-widgets/base",
          "model_name": "LayoutModel",
          "state": {
            "_view_name": "LayoutView",
            "grid_template_rows": null,
            "right": null,
            "justify_content": null,
            "_view_module": "@jupyter-widgets/base",
            "overflow": null,
            "_model_module_version": "1.2.0",
            "_view_count": null,
            "flex_flow": null,
            "width": null,
            "min_width": null,
            "border": null,
            "align_items": null,
            "bottom": null,
            "_model_module": "@jupyter-widgets/base",
            "top": null,
            "grid_column": null,
            "overflow_y": null,
            "overflow_x": null,
            "grid_auto_flow": null,
            "grid_area": null,
            "grid_template_columns": null,
            "flex": null,
            "_model_name": "LayoutModel",
            "justify_items": null,
            "grid_row": null,
            "max_height": null,
            "align_content": null,
            "visibility": null,
            "align_self": null,
            "height": null,
            "min_height": null,
            "padding": null,
            "grid_auto_rows": null,
            "grid_gap": null,
            "max_width": null,
            "order": null,
            "_view_module_version": "1.2.0",
            "grid_template_areas": null,
            "object_position": null,
            "object_fit": null,
            "grid_auto_columns": null,
            "margin": null,
            "display": null,
            "left": null
          }
        },
        "18e43b13a3304ab58310cdede5c28434": {
          "model_module": "@jupyter-widgets/controls",
          "model_name": "VBoxModel",
          "state": {
            "_view_name": "VBoxView",
            "_dom_classes": [],
            "_model_name": "VBoxModel",
            "_view_module": "@jupyter-widgets/controls",
            "_model_module_version": "1.5.0",
            "_view_count": null,
            "_view_module_version": "1.5.0",
            "box_style": "",
            "layout": "IPY_MODEL_a78f8c8955be47549713e28efe4c5bee",
            "_model_module": "@jupyter-widgets/controls",
            "children": [
              "IPY_MODEL_b4a261f889cb4124b7a47b74f111bb59",
              "IPY_MODEL_b503d65a836d424f8bf9a3e4bb574a22"
            ]
          }
        },
        "a78f8c8955be47549713e28efe4c5bee": {
          "model_module": "@jupyter-widgets/base",
          "model_name": "LayoutModel",
          "state": {
            "_view_name": "LayoutView",
            "grid_template_rows": null,
            "right": null,
            "justify_content": null,
            "_view_module": "@jupyter-widgets/base",
            "overflow": null,
            "_model_module_version": "1.2.0",
            "_view_count": null,
            "flex_flow": null,
            "width": null,
            "min_width": null,
            "border": null,
            "align_items": null,
            "bottom": null,
            "_model_module": "@jupyter-widgets/base",
            "top": null,
            "grid_column": null,
            "overflow_y": null,
            "overflow_x": null,
            "grid_auto_flow": null,
            "grid_area": null,
            "grid_template_columns": null,
            "flex": null,
            "_model_name": "LayoutModel",
            "justify_items": null,
            "grid_row": null,
            "max_height": null,
            "align_content": null,
            "visibility": null,
            "align_self": null,
            "height": null,
            "min_height": null,
            "padding": null,
            "grid_auto_rows": null,
            "grid_gap": null,
            "max_width": null,
            "order": null,
            "_view_module_version": "1.2.0",
            "grid_template_areas": null,
            "object_position": null,
            "object_fit": null,
            "grid_auto_columns": null,
            "margin": null,
            "display": null,
            "left": null
          }
        },
        "b4a261f889cb4124b7a47b74f111bb59": {
          "model_module": "@jupyter-widgets/controls",
          "model_name": "LabelModel",
          "state": {
            "_view_name": "LabelView",
            "style": "IPY_MODEL_23d5120d55d74f3c89c0fdc51e009c3a",
            "_dom_classes": [],
            "description": "",
            "_model_name": "LabelModel",
            "placeholder": "​",
            "_view_module": "@jupyter-widgets/controls",
            "_model_module_version": "1.5.0",
            "value": " 64.10MB of 64.10MB uploaded (0.00MB deduped)\r",
            "_view_count": null,
            "_view_module_version": "1.5.0",
            "description_tooltip": null,
            "_model_module": "@jupyter-widgets/controls",
            "layout": "IPY_MODEL_4513ea0e9bd44a98a1ffa0b798e0ec95"
          }
        },
        "b503d65a836d424f8bf9a3e4bb574a22": {
          "model_module": "@jupyter-widgets/controls",
          "model_name": "FloatProgressModel",
          "state": {
            "_view_name": "ProgressView",
            "style": "IPY_MODEL_19c031a8e47944c284301e297c3e1092",
            "_dom_classes": [],
            "description": "",
            "_model_name": "FloatProgressModel",
            "bar_style": "",
            "max": 1,
            "_view_module": "@jupyter-widgets/controls",
            "_model_module_version": "1.5.0",
            "value": 1,
            "_view_count": null,
            "_view_module_version": "1.5.0",
            "orientation": "horizontal",
            "min": 0,
            "description_tooltip": null,
            "_model_module": "@jupyter-widgets/controls",
            "layout": "IPY_MODEL_18b554a85ec4451695afe5e65230c28c"
          }
        },
        "23d5120d55d74f3c89c0fdc51e009c3a": {
          "model_module": "@jupyter-widgets/controls",
          "model_name": "DescriptionStyleModel",
          "state": {
            "_view_name": "StyleView",
            "_model_name": "DescriptionStyleModel",
            "description_width": "",
            "_view_module": "@jupyter-widgets/base",
            "_model_module_version": "1.5.0",
            "_view_count": null,
            "_view_module_version": "1.2.0",
            "_model_module": "@jupyter-widgets/controls"
          }
        },
        "4513ea0e9bd44a98a1ffa0b798e0ec95": {
          "model_module": "@jupyter-widgets/base",
          "model_name": "LayoutModel",
          "state": {
            "_view_name": "LayoutView",
            "grid_template_rows": null,
            "right": null,
            "justify_content": null,
            "_view_module": "@jupyter-widgets/base",
            "overflow": null,
            "_model_module_version": "1.2.0",
            "_view_count": null,
            "flex_flow": null,
            "width": null,
            "min_width": null,
            "border": null,
            "align_items": null,
            "bottom": null,
            "_model_module": "@jupyter-widgets/base",
            "top": null,
            "grid_column": null,
            "overflow_y": null,
            "overflow_x": null,
            "grid_auto_flow": null,
            "grid_area": null,
            "grid_template_columns": null,
            "flex": null,
            "_model_name": "LayoutModel",
            "justify_items": null,
            "grid_row": null,
            "max_height": null,
            "align_content": null,
            "visibility": null,
            "align_self": null,
            "height": null,
            "min_height": null,
            "padding": null,
            "grid_auto_rows": null,
            "grid_gap": null,
            "max_width": null,
            "order": null,
            "_view_module_version": "1.2.0",
            "grid_template_areas": null,
            "object_position": null,
            "object_fit": null,
            "grid_auto_columns": null,
            "margin": null,
            "display": null,
            "left": null
          }
        },
        "19c031a8e47944c284301e297c3e1092": {
          "model_module": "@jupyter-widgets/controls",
          "model_name": "ProgressStyleModel",
          "state": {
            "_view_name": "StyleView",
            "_model_name": "ProgressStyleModel",
            "description_width": "",
            "_view_module": "@jupyter-widgets/base",
            "_model_module_version": "1.5.0",
            "_view_count": null,
            "_view_module_version": "1.2.0",
            "bar_color": null,
            "_model_module": "@jupyter-widgets/controls"
          }
        },
        "18b554a85ec4451695afe5e65230c28c": {
          "model_module": "@jupyter-widgets/base",
          "model_name": "LayoutModel",
          "state": {
            "_view_name": "LayoutView",
            "grid_template_rows": null,
            "right": null,
            "justify_content": null,
            "_view_module": "@jupyter-widgets/base",
            "overflow": null,
            "_model_module_version": "1.2.0",
            "_view_count": null,
            "flex_flow": null,
            "width": null,
            "min_width": null,
            "border": null,
            "align_items": null,
            "bottom": null,
            "_model_module": "@jupyter-widgets/base",
            "top": null,
            "grid_column": null,
            "overflow_y": null,
            "overflow_x": null,
            "grid_auto_flow": null,
            "grid_area": null,
            "grid_template_columns": null,
            "flex": null,
            "_model_name": "LayoutModel",
            "justify_items": null,
            "grid_row": null,
            "max_height": null,
            "align_content": null,
            "visibility": null,
            "align_self": null,
            "height": null,
            "min_height": null,
            "padding": null,
            "grid_auto_rows": null,
            "grid_gap": null,
            "max_width": null,
            "order": null,
            "_view_module_version": "1.2.0",
            "grid_template_areas": null,
            "object_position": null,
            "object_fit": null,
            "grid_auto_columns": null,
            "margin": null,
            "display": null,
            "left": null
          }
        },
        "b69e3cdedb5b40d5a4c5c44939a18723": {
          "model_module": "@jupyter-widgets/controls",
          "model_name": "VBoxModel",
          "state": {
            "_view_name": "VBoxView",
            "_dom_classes": [],
            "_model_name": "VBoxModel",
            "_view_module": "@jupyter-widgets/controls",
            "_model_module_version": "1.5.0",
            "_view_count": null,
            "_view_module_version": "1.5.0",
            "box_style": "",
            "layout": "IPY_MODEL_a0d5f8d519a2481d8aaf0f876192b15a",
            "_model_module": "@jupyter-widgets/controls",
            "children": [
              "IPY_MODEL_82e8a41200b64b0f98d1cb09754de1b8",
              "IPY_MODEL_d49a392ab81f4fc7bae9251a10ece685"
            ]
          }
        },
        "a0d5f8d519a2481d8aaf0f876192b15a": {
          "model_module": "@jupyter-widgets/base",
          "model_name": "LayoutModel",
          "state": {
            "_view_name": "LayoutView",
            "grid_template_rows": null,
            "right": null,
            "justify_content": null,
            "_view_module": "@jupyter-widgets/base",
            "overflow": null,
            "_model_module_version": "1.2.0",
            "_view_count": null,
            "flex_flow": null,
            "width": null,
            "min_width": null,
            "border": null,
            "align_items": null,
            "bottom": null,
            "_model_module": "@jupyter-widgets/base",
            "top": null,
            "grid_column": null,
            "overflow_y": null,
            "overflow_x": null,
            "grid_auto_flow": null,
            "grid_area": null,
            "grid_template_columns": null,
            "flex": null,
            "_model_name": "LayoutModel",
            "justify_items": null,
            "grid_row": null,
            "max_height": null,
            "align_content": null,
            "visibility": null,
            "align_self": null,
            "height": null,
            "min_height": null,
            "padding": null,
            "grid_auto_rows": null,
            "grid_gap": null,
            "max_width": null,
            "order": null,
            "_view_module_version": "1.2.0",
            "grid_template_areas": null,
            "object_position": null,
            "object_fit": null,
            "grid_auto_columns": null,
            "margin": null,
            "display": null,
            "left": null
          }
        },
        "82e8a41200b64b0f98d1cb09754de1b8": {
          "model_module": "@jupyter-widgets/controls",
          "model_name": "LabelModel",
          "state": {
            "_view_name": "LabelView",
            "style": "IPY_MODEL_e1f2e166dfbf4524a5e6fa41566b9d2a",
            "_dom_classes": [],
            "description": "",
            "_model_name": "LabelModel",
            "placeholder": "​",
            "_view_module": "@jupyter-widgets/controls",
            "_model_module_version": "1.5.0",
            "value": " 63.56MB of 63.56MB uploaded (0.00MB deduped)\r",
            "_view_count": null,
            "_view_module_version": "1.5.0",
            "description_tooltip": null,
            "_model_module": "@jupyter-widgets/controls",
            "layout": "IPY_MODEL_7e99e5283760419dbb97fdd72d141d8d"
          }
        },
        "d49a392ab81f4fc7bae9251a10ece685": {
          "model_module": "@jupyter-widgets/controls",
          "model_name": "FloatProgressModel",
          "state": {
            "_view_name": "ProgressView",
            "style": "IPY_MODEL_95ac8920e1c64276ab619aef79905459",
            "_dom_classes": [],
            "description": "",
            "_model_name": "FloatProgressModel",
            "bar_style": "",
            "max": 1,
            "_view_module": "@jupyter-widgets/controls",
            "_model_module_version": "1.5.0",
            "value": 1,
            "_view_count": null,
            "_view_module_version": "1.5.0",
            "orientation": "horizontal",
            "min": 0,
            "description_tooltip": null,
            "_model_module": "@jupyter-widgets/controls",
            "layout": "IPY_MODEL_3e3e1d6c4000442ab423f869f8efbacf"
          }
        },
        "e1f2e166dfbf4524a5e6fa41566b9d2a": {
          "model_module": "@jupyter-widgets/controls",
          "model_name": "DescriptionStyleModel",
          "state": {
            "_view_name": "StyleView",
            "_model_name": "DescriptionStyleModel",
            "description_width": "",
            "_view_module": "@jupyter-widgets/base",
            "_model_module_version": "1.5.0",
            "_view_count": null,
            "_view_module_version": "1.2.0",
            "_model_module": "@jupyter-widgets/controls"
          }
        },
        "7e99e5283760419dbb97fdd72d141d8d": {
          "model_module": "@jupyter-widgets/base",
          "model_name": "LayoutModel",
          "state": {
            "_view_name": "LayoutView",
            "grid_template_rows": null,
            "right": null,
            "justify_content": null,
            "_view_module": "@jupyter-widgets/base",
            "overflow": null,
            "_model_module_version": "1.2.0",
            "_view_count": null,
            "flex_flow": null,
            "width": null,
            "min_width": null,
            "border": null,
            "align_items": null,
            "bottom": null,
            "_model_module": "@jupyter-widgets/base",
            "top": null,
            "grid_column": null,
            "overflow_y": null,
            "overflow_x": null,
            "grid_auto_flow": null,
            "grid_area": null,
            "grid_template_columns": null,
            "flex": null,
            "_model_name": "LayoutModel",
            "justify_items": null,
            "grid_row": null,
            "max_height": null,
            "align_content": null,
            "visibility": null,
            "align_self": null,
            "height": null,
            "min_height": null,
            "padding": null,
            "grid_auto_rows": null,
            "grid_gap": null,
            "max_width": null,
            "order": null,
            "_view_module_version": "1.2.0",
            "grid_template_areas": null,
            "object_position": null,
            "object_fit": null,
            "grid_auto_columns": null,
            "margin": null,
            "display": null,
            "left": null
          }
        },
        "95ac8920e1c64276ab619aef79905459": {
          "model_module": "@jupyter-widgets/controls",
          "model_name": "ProgressStyleModel",
          "state": {
            "_view_name": "StyleView",
            "_model_name": "ProgressStyleModel",
            "description_width": "",
            "_view_module": "@jupyter-widgets/base",
            "_model_module_version": "1.5.0",
            "_view_count": null,
            "_view_module_version": "1.2.0",
            "bar_color": null,
            "_model_module": "@jupyter-widgets/controls"
          }
        },
        "3e3e1d6c4000442ab423f869f8efbacf": {
          "model_module": "@jupyter-widgets/base",
          "model_name": "LayoutModel",
          "state": {
            "_view_name": "LayoutView",
            "grid_template_rows": null,
            "right": null,
            "justify_content": null,
            "_view_module": "@jupyter-widgets/base",
            "overflow": null,
            "_model_module_version": "1.2.0",
            "_view_count": null,
            "flex_flow": null,
            "width": null,
            "min_width": null,
            "border": null,
            "align_items": null,
            "bottom": null,
            "_model_module": "@jupyter-widgets/base",
            "top": null,
            "grid_column": null,
            "overflow_y": null,
            "overflow_x": null,
            "grid_auto_flow": null,
            "grid_area": null,
            "grid_template_columns": null,
            "flex": null,
            "_model_name": "LayoutModel",
            "justify_items": null,
            "grid_row": null,
            "max_height": null,
            "align_content": null,
            "visibility": null,
            "align_self": null,
            "height": null,
            "min_height": null,
            "padding": null,
            "grid_auto_rows": null,
            "grid_gap": null,
            "max_width": null,
            "order": null,
            "_view_module_version": "1.2.0",
            "grid_template_areas": null,
            "object_position": null,
            "object_fit": null,
            "grid_auto_columns": null,
            "margin": null,
            "display": null,
            "left": null
          }
        },
        "cdb5fdc52f1540e793343ab6d7ecc9e8": {
          "model_module": "@jupyter-widgets/controls",
          "model_name": "VBoxModel",
          "state": {
            "_view_name": "VBoxView",
            "_dom_classes": [],
            "_model_name": "VBoxModel",
            "_view_module": "@jupyter-widgets/controls",
            "_model_module_version": "1.5.0",
            "_view_count": null,
            "_view_module_version": "1.5.0",
            "box_style": "",
            "layout": "IPY_MODEL_aaaf19ab11e344a8a95c7a1450664de6",
            "_model_module": "@jupyter-widgets/controls",
            "children": [
              "IPY_MODEL_f976126d4270413bbba0e039b2789184",
              "IPY_MODEL_530411dbd7e04df982885062eecd2aeb"
            ]
          }
        },
        "aaaf19ab11e344a8a95c7a1450664de6": {
          "model_module": "@jupyter-widgets/base",
          "model_name": "LayoutModel",
          "state": {
            "_view_name": "LayoutView",
            "grid_template_rows": null,
            "right": null,
            "justify_content": null,
            "_view_module": "@jupyter-widgets/base",
            "overflow": null,
            "_model_module_version": "1.2.0",
            "_view_count": null,
            "flex_flow": null,
            "width": null,
            "min_width": null,
            "border": null,
            "align_items": null,
            "bottom": null,
            "_model_module": "@jupyter-widgets/base",
            "top": null,
            "grid_column": null,
            "overflow_y": null,
            "overflow_x": null,
            "grid_auto_flow": null,
            "grid_area": null,
            "grid_template_columns": null,
            "flex": null,
            "_model_name": "LayoutModel",
            "justify_items": null,
            "grid_row": null,
            "max_height": null,
            "align_content": null,
            "visibility": null,
            "align_self": null,
            "height": null,
            "min_height": null,
            "padding": null,
            "grid_auto_rows": null,
            "grid_gap": null,
            "max_width": null,
            "order": null,
            "_view_module_version": "1.2.0",
            "grid_template_areas": null,
            "object_position": null,
            "object_fit": null,
            "grid_auto_columns": null,
            "margin": null,
            "display": null,
            "left": null
          }
        },
        "f976126d4270413bbba0e039b2789184": {
          "model_module": "@jupyter-widgets/controls",
          "model_name": "LabelModel",
          "state": {
            "_view_name": "LabelView",
            "style": "IPY_MODEL_8a9f2939ae1f4ae796870ea2897dbb2c",
            "_dom_classes": [],
            "description": "",
            "_model_name": "LabelModel",
            "placeholder": "​",
            "_view_module": "@jupyter-widgets/controls",
            "_model_module_version": "1.5.0",
            "value": " 64.38MB of 64.38MB uploaded (0.00MB deduped)\r",
            "_view_count": null,
            "_view_module_version": "1.5.0",
            "description_tooltip": null,
            "_model_module": "@jupyter-widgets/controls",
            "layout": "IPY_MODEL_c881c941df9d4135a80099c1ace30558"
          }
        },
        "530411dbd7e04df982885062eecd2aeb": {
          "model_module": "@jupyter-widgets/controls",
          "model_name": "FloatProgressModel",
          "state": {
            "_view_name": "ProgressView",
            "style": "IPY_MODEL_d5995a64454d403cb9f27ce5ffc36517",
            "_dom_classes": [],
            "description": "",
            "_model_name": "FloatProgressModel",
            "bar_style": "",
            "max": 1,
            "_view_module": "@jupyter-widgets/controls",
            "_model_module_version": "1.5.0",
            "value": 1,
            "_view_count": null,
            "_view_module_version": "1.5.0",
            "orientation": "horizontal",
            "min": 0,
            "description_tooltip": null,
            "_model_module": "@jupyter-widgets/controls",
            "layout": "IPY_MODEL_ae9bed666bc749f08c3fe0b6e1a5b40d"
          }
        },
        "8a9f2939ae1f4ae796870ea2897dbb2c": {
          "model_module": "@jupyter-widgets/controls",
          "model_name": "DescriptionStyleModel",
          "state": {
            "_view_name": "StyleView",
            "_model_name": "DescriptionStyleModel",
            "description_width": "",
            "_view_module": "@jupyter-widgets/base",
            "_model_module_version": "1.5.0",
            "_view_count": null,
            "_view_module_version": "1.2.0",
            "_model_module": "@jupyter-widgets/controls"
          }
        },
        "c881c941df9d4135a80099c1ace30558": {
          "model_module": "@jupyter-widgets/base",
          "model_name": "LayoutModel",
          "state": {
            "_view_name": "LayoutView",
            "grid_template_rows": null,
            "right": null,
            "justify_content": null,
            "_view_module": "@jupyter-widgets/base",
            "overflow": null,
            "_model_module_version": "1.2.0",
            "_view_count": null,
            "flex_flow": null,
            "width": null,
            "min_width": null,
            "border": null,
            "align_items": null,
            "bottom": null,
            "_model_module": "@jupyter-widgets/base",
            "top": null,
            "grid_column": null,
            "overflow_y": null,
            "overflow_x": null,
            "grid_auto_flow": null,
            "grid_area": null,
            "grid_template_columns": null,
            "flex": null,
            "_model_name": "LayoutModel",
            "justify_items": null,
            "grid_row": null,
            "max_height": null,
            "align_content": null,
            "visibility": null,
            "align_self": null,
            "height": null,
            "min_height": null,
            "padding": null,
            "grid_auto_rows": null,
            "grid_gap": null,
            "max_width": null,
            "order": null,
            "_view_module_version": "1.2.0",
            "grid_template_areas": null,
            "object_position": null,
            "object_fit": null,
            "grid_auto_columns": null,
            "margin": null,
            "display": null,
            "left": null
          }
        },
        "d5995a64454d403cb9f27ce5ffc36517": {
          "model_module": "@jupyter-widgets/controls",
          "model_name": "ProgressStyleModel",
          "state": {
            "_view_name": "StyleView",
            "_model_name": "ProgressStyleModel",
            "description_width": "",
            "_view_module": "@jupyter-widgets/base",
            "_model_module_version": "1.5.0",
            "_view_count": null,
            "_view_module_version": "1.2.0",
            "bar_color": null,
            "_model_module": "@jupyter-widgets/controls"
          }
        },
        "ae9bed666bc749f08c3fe0b6e1a5b40d": {
          "model_module": "@jupyter-widgets/base",
          "model_name": "LayoutModel",
          "state": {
            "_view_name": "LayoutView",
            "grid_template_rows": null,
            "right": null,
            "justify_content": null,
            "_view_module": "@jupyter-widgets/base",
            "overflow": null,
            "_model_module_version": "1.2.0",
            "_view_count": null,
            "flex_flow": null,
            "width": null,
            "min_width": null,
            "border": null,
            "align_items": null,
            "bottom": null,
            "_model_module": "@jupyter-widgets/base",
            "top": null,
            "grid_column": null,
            "overflow_y": null,
            "overflow_x": null,
            "grid_auto_flow": null,
            "grid_area": null,
            "grid_template_columns": null,
            "flex": null,
            "_model_name": "LayoutModel",
            "justify_items": null,
            "grid_row": null,
            "max_height": null,
            "align_content": null,
            "visibility": null,
            "align_self": null,
            "height": null,
            "min_height": null,
            "padding": null,
            "grid_auto_rows": null,
            "grid_gap": null,
            "max_width": null,
            "order": null,
            "_view_module_version": "1.2.0",
            "grid_template_areas": null,
            "object_position": null,
            "object_fit": null,
            "grid_auto_columns": null,
            "margin": null,
            "display": null,
            "left": null
          }
        },
        "fcb79d11816f4c829f4d447ab59ba137": {
          "model_module": "@jupyter-widgets/controls",
          "model_name": "VBoxModel",
          "state": {
            "_view_name": "VBoxView",
            "_dom_classes": [],
            "_model_name": "VBoxModel",
            "_view_module": "@jupyter-widgets/controls",
            "_model_module_version": "1.5.0",
            "_view_count": null,
            "_view_module_version": "1.5.0",
            "box_style": "",
            "layout": "IPY_MODEL_f9c50ec541354a6ca034d8b824babfd3",
            "_model_module": "@jupyter-widgets/controls",
            "children": [
              "IPY_MODEL_c95334429a284b33bcced5e3c3b9168d",
              "IPY_MODEL_0a9dd9f777464669a79dd407c80b588d"
            ]
          }
        },
        "f9c50ec541354a6ca034d8b824babfd3": {
          "model_module": "@jupyter-widgets/base",
          "model_name": "LayoutModel",
          "state": {
            "_view_name": "LayoutView",
            "grid_template_rows": null,
            "right": null,
            "justify_content": null,
            "_view_module": "@jupyter-widgets/base",
            "overflow": null,
            "_model_module_version": "1.2.0",
            "_view_count": null,
            "flex_flow": null,
            "width": null,
            "min_width": null,
            "border": null,
            "align_items": null,
            "bottom": null,
            "_model_module": "@jupyter-widgets/base",
            "top": null,
            "grid_column": null,
            "overflow_y": null,
            "overflow_x": null,
            "grid_auto_flow": null,
            "grid_area": null,
            "grid_template_columns": null,
            "flex": null,
            "_model_name": "LayoutModel",
            "justify_items": null,
            "grid_row": null,
            "max_height": null,
            "align_content": null,
            "visibility": null,
            "align_self": null,
            "height": null,
            "min_height": null,
            "padding": null,
            "grid_auto_rows": null,
            "grid_gap": null,
            "max_width": null,
            "order": null,
            "_view_module_version": "1.2.0",
            "grid_template_areas": null,
            "object_position": null,
            "object_fit": null,
            "grid_auto_columns": null,
            "margin": null,
            "display": null,
            "left": null
          }
        },
        "c95334429a284b33bcced5e3c3b9168d": {
          "model_module": "@jupyter-widgets/controls",
          "model_name": "LabelModel",
          "state": {
            "_view_name": "LabelView",
            "style": "IPY_MODEL_214c58b036974ae2a6299bc4e01fa5fa",
            "_dom_classes": [],
            "description": "",
            "_model_name": "LabelModel",
            "placeholder": "​",
            "_view_module": "@jupyter-widgets/controls",
            "_model_module_version": "1.5.0",
            "value": " 63.56MB of 63.56MB uploaded (0.00MB deduped)\r",
            "_view_count": null,
            "_view_module_version": "1.5.0",
            "description_tooltip": null,
            "_model_module": "@jupyter-widgets/controls",
            "layout": "IPY_MODEL_ee906b9e177649faa3252ca3a8ebc1ea"
          }
        },
        "0a9dd9f777464669a79dd407c80b588d": {
          "model_module": "@jupyter-widgets/controls",
          "model_name": "FloatProgressModel",
          "state": {
            "_view_name": "ProgressView",
            "style": "IPY_MODEL_70d57915a8fa4897b05755645bfdda87",
            "_dom_classes": [],
            "description": "",
            "_model_name": "FloatProgressModel",
            "bar_style": "",
            "max": 1,
            "_view_module": "@jupyter-widgets/controls",
            "_model_module_version": "1.5.0",
            "value": 1,
            "_view_count": null,
            "_view_module_version": "1.5.0",
            "orientation": "horizontal",
            "min": 0,
            "description_tooltip": null,
            "_model_module": "@jupyter-widgets/controls",
            "layout": "IPY_MODEL_2baaa5761f464be59f1dfce0a56c2222"
          }
        },
        "214c58b036974ae2a6299bc4e01fa5fa": {
          "model_module": "@jupyter-widgets/controls",
          "model_name": "DescriptionStyleModel",
          "state": {
            "_view_name": "StyleView",
            "_model_name": "DescriptionStyleModel",
            "description_width": "",
            "_view_module": "@jupyter-widgets/base",
            "_model_module_version": "1.5.0",
            "_view_count": null,
            "_view_module_version": "1.2.0",
            "_model_module": "@jupyter-widgets/controls"
          }
        },
        "ee906b9e177649faa3252ca3a8ebc1ea": {
          "model_module": "@jupyter-widgets/base",
          "model_name": "LayoutModel",
          "state": {
            "_view_name": "LayoutView",
            "grid_template_rows": null,
            "right": null,
            "justify_content": null,
            "_view_module": "@jupyter-widgets/base",
            "overflow": null,
            "_model_module_version": "1.2.0",
            "_view_count": null,
            "flex_flow": null,
            "width": null,
            "min_width": null,
            "border": null,
            "align_items": null,
            "bottom": null,
            "_model_module": "@jupyter-widgets/base",
            "top": null,
            "grid_column": null,
            "overflow_y": null,
            "overflow_x": null,
            "grid_auto_flow": null,
            "grid_area": null,
            "grid_template_columns": null,
            "flex": null,
            "_model_name": "LayoutModel",
            "justify_items": null,
            "grid_row": null,
            "max_height": null,
            "align_content": null,
            "visibility": null,
            "align_self": null,
            "height": null,
            "min_height": null,
            "padding": null,
            "grid_auto_rows": null,
            "grid_gap": null,
            "max_width": null,
            "order": null,
            "_view_module_version": "1.2.0",
            "grid_template_areas": null,
            "object_position": null,
            "object_fit": null,
            "grid_auto_columns": null,
            "margin": null,
            "display": null,
            "left": null
          }
        },
        "70d57915a8fa4897b05755645bfdda87": {
          "model_module": "@jupyter-widgets/controls",
          "model_name": "ProgressStyleModel",
          "state": {
            "_view_name": "StyleView",
            "_model_name": "ProgressStyleModel",
            "description_width": "",
            "_view_module": "@jupyter-widgets/base",
            "_model_module_version": "1.5.0",
            "_view_count": null,
            "_view_module_version": "1.2.0",
            "bar_color": null,
            "_model_module": "@jupyter-widgets/controls"
          }
        },
        "2baaa5761f464be59f1dfce0a56c2222": {
          "model_module": "@jupyter-widgets/base",
          "model_name": "LayoutModel",
          "state": {
            "_view_name": "LayoutView",
            "grid_template_rows": null,
            "right": null,
            "justify_content": null,
            "_view_module": "@jupyter-widgets/base",
            "overflow": null,
            "_model_module_version": "1.2.0",
            "_view_count": null,
            "flex_flow": null,
            "width": null,
            "min_width": null,
            "border": null,
            "align_items": null,
            "bottom": null,
            "_model_module": "@jupyter-widgets/base",
            "top": null,
            "grid_column": null,
            "overflow_y": null,
            "overflow_x": null,
            "grid_auto_flow": null,
            "grid_area": null,
            "grid_template_columns": null,
            "flex": null,
            "_model_name": "LayoutModel",
            "justify_items": null,
            "grid_row": null,
            "max_height": null,
            "align_content": null,
            "visibility": null,
            "align_self": null,
            "height": null,
            "min_height": null,
            "padding": null,
            "grid_auto_rows": null,
            "grid_gap": null,
            "max_width": null,
            "order": null,
            "_view_module_version": "1.2.0",
            "grid_template_areas": null,
            "object_position": null,
            "object_fit": null,
            "grid_auto_columns": null,
            "margin": null,
            "display": null,
            "left": null
          }
        },
        "8f2d66e46a2b43b7a57df6eec405a07c": {
          "model_module": "@jupyter-widgets/controls",
          "model_name": "VBoxModel",
          "state": {
            "_view_name": "VBoxView",
            "_dom_classes": [],
            "_model_name": "VBoxModel",
            "_view_module": "@jupyter-widgets/controls",
            "_model_module_version": "1.5.0",
            "_view_count": null,
            "_view_module_version": "1.5.0",
            "box_style": "",
            "layout": "IPY_MODEL_ebafa916f4b24ea1ba836e6020365da6",
            "_model_module": "@jupyter-widgets/controls",
            "children": [
              "IPY_MODEL_01b366eb519444e9aa72556eed922579",
              "IPY_MODEL_293c2f1faa004e9ba7fdc69da946c4d6"
            ]
          }
        },
        "ebafa916f4b24ea1ba836e6020365da6": {
          "model_module": "@jupyter-widgets/base",
          "model_name": "LayoutModel",
          "state": {
            "_view_name": "LayoutView",
            "grid_template_rows": null,
            "right": null,
            "justify_content": null,
            "_view_module": "@jupyter-widgets/base",
            "overflow": null,
            "_model_module_version": "1.2.0",
            "_view_count": null,
            "flex_flow": null,
            "width": null,
            "min_width": null,
            "border": null,
            "align_items": null,
            "bottom": null,
            "_model_module": "@jupyter-widgets/base",
            "top": null,
            "grid_column": null,
            "overflow_y": null,
            "overflow_x": null,
            "grid_auto_flow": null,
            "grid_area": null,
            "grid_template_columns": null,
            "flex": null,
            "_model_name": "LayoutModel",
            "justify_items": null,
            "grid_row": null,
            "max_height": null,
            "align_content": null,
            "visibility": null,
            "align_self": null,
            "height": null,
            "min_height": null,
            "padding": null,
            "grid_auto_rows": null,
            "grid_gap": null,
            "max_width": null,
            "order": null,
            "_view_module_version": "1.2.0",
            "grid_template_areas": null,
            "object_position": null,
            "object_fit": null,
            "grid_auto_columns": null,
            "margin": null,
            "display": null,
            "left": null
          }
        },
        "01b366eb519444e9aa72556eed922579": {
          "model_module": "@jupyter-widgets/controls",
          "model_name": "LabelModel",
          "state": {
            "_view_name": "LabelView",
            "style": "IPY_MODEL_6a3de4d428fc475d8925bcf05b935808",
            "_dom_classes": [],
            "description": "",
            "_model_name": "LabelModel",
            "placeholder": "​",
            "_view_module": "@jupyter-widgets/controls",
            "_model_module_version": "1.5.0",
            "value": " 63.58MB of 63.58MB uploaded (0.00MB deduped)\r",
            "_view_count": null,
            "_view_module_version": "1.5.0",
            "description_tooltip": null,
            "_model_module": "@jupyter-widgets/controls",
            "layout": "IPY_MODEL_f71c88b0a38b4ec88f25483bc80000e0"
          }
        },
        "293c2f1faa004e9ba7fdc69da946c4d6": {
          "model_module": "@jupyter-widgets/controls",
          "model_name": "FloatProgressModel",
          "state": {
            "_view_name": "ProgressView",
            "style": "IPY_MODEL_2996c319340346df9006f0b7a323fa94",
            "_dom_classes": [],
            "description": "",
            "_model_name": "FloatProgressModel",
            "bar_style": "",
            "max": 1,
            "_view_module": "@jupyter-widgets/controls",
            "_model_module_version": "1.5.0",
            "value": 1,
            "_view_count": null,
            "_view_module_version": "1.5.0",
            "orientation": "horizontal",
            "min": 0,
            "description_tooltip": null,
            "_model_module": "@jupyter-widgets/controls",
            "layout": "IPY_MODEL_598aaf94ef81486682a8b34268ce509e"
          }
        },
        "6a3de4d428fc475d8925bcf05b935808": {
          "model_module": "@jupyter-widgets/controls",
          "model_name": "DescriptionStyleModel",
          "state": {
            "_view_name": "StyleView",
            "_model_name": "DescriptionStyleModel",
            "description_width": "",
            "_view_module": "@jupyter-widgets/base",
            "_model_module_version": "1.5.0",
            "_view_count": null,
            "_view_module_version": "1.2.0",
            "_model_module": "@jupyter-widgets/controls"
          }
        },
        "f71c88b0a38b4ec88f25483bc80000e0": {
          "model_module": "@jupyter-widgets/base",
          "model_name": "LayoutModel",
          "state": {
            "_view_name": "LayoutView",
            "grid_template_rows": null,
            "right": null,
            "justify_content": null,
            "_view_module": "@jupyter-widgets/base",
            "overflow": null,
            "_model_module_version": "1.2.0",
            "_view_count": null,
            "flex_flow": null,
            "width": null,
            "min_width": null,
            "border": null,
            "align_items": null,
            "bottom": null,
            "_model_module": "@jupyter-widgets/base",
            "top": null,
            "grid_column": null,
            "overflow_y": null,
            "overflow_x": null,
            "grid_auto_flow": null,
            "grid_area": null,
            "grid_template_columns": null,
            "flex": null,
            "_model_name": "LayoutModel",
            "justify_items": null,
            "grid_row": null,
            "max_height": null,
            "align_content": null,
            "visibility": null,
            "align_self": null,
            "height": null,
            "min_height": null,
            "padding": null,
            "grid_auto_rows": null,
            "grid_gap": null,
            "max_width": null,
            "order": null,
            "_view_module_version": "1.2.0",
            "grid_template_areas": null,
            "object_position": null,
            "object_fit": null,
            "grid_auto_columns": null,
            "margin": null,
            "display": null,
            "left": null
          }
        },
        "2996c319340346df9006f0b7a323fa94": {
          "model_module": "@jupyter-widgets/controls",
          "model_name": "ProgressStyleModel",
          "state": {
            "_view_name": "StyleView",
            "_model_name": "ProgressStyleModel",
            "description_width": "",
            "_view_module": "@jupyter-widgets/base",
            "_model_module_version": "1.5.0",
            "_view_count": null,
            "_view_module_version": "1.2.0",
            "bar_color": null,
            "_model_module": "@jupyter-widgets/controls"
          }
        },
        "598aaf94ef81486682a8b34268ce509e": {
          "model_module": "@jupyter-widgets/base",
          "model_name": "LayoutModel",
          "state": {
            "_view_name": "LayoutView",
            "grid_template_rows": null,
            "right": null,
            "justify_content": null,
            "_view_module": "@jupyter-widgets/base",
            "overflow": null,
            "_model_module_version": "1.2.0",
            "_view_count": null,
            "flex_flow": null,
            "width": null,
            "min_width": null,
            "border": null,
            "align_items": null,
            "bottom": null,
            "_model_module": "@jupyter-widgets/base",
            "top": null,
            "grid_column": null,
            "overflow_y": null,
            "overflow_x": null,
            "grid_auto_flow": null,
            "grid_area": null,
            "grid_template_columns": null,
            "flex": null,
            "_model_name": "LayoutModel",
            "justify_items": null,
            "grid_row": null,
            "max_height": null,
            "align_content": null,
            "visibility": null,
            "align_self": null,
            "height": null,
            "min_height": null,
            "padding": null,
            "grid_auto_rows": null,
            "grid_gap": null,
            "max_width": null,
            "order": null,
            "_view_module_version": "1.2.0",
            "grid_template_areas": null,
            "object_position": null,
            "object_fit": null,
            "grid_auto_columns": null,
            "margin": null,
            "display": null,
            "left": null
          }
        },
        "bce9a886ef3c4a2aa4b4ce888a50fd77": {
          "model_module": "@jupyter-widgets/controls",
          "model_name": "VBoxModel",
          "state": {
            "_view_name": "VBoxView",
            "_dom_classes": [],
            "_model_name": "VBoxModel",
            "_view_module": "@jupyter-widgets/controls",
            "_model_module_version": "1.5.0",
            "_view_count": null,
            "_view_module_version": "1.5.0",
            "box_style": "",
            "layout": "IPY_MODEL_00fa2b009ec24ea986bc8ce395cb3270",
            "_model_module": "@jupyter-widgets/controls",
            "children": [
              "IPY_MODEL_e634a5239f5443b989e45f40fa9ec47e",
              "IPY_MODEL_9d2f9f61bf2c4331aff7f8941ec00f2b"
            ]
          }
        },
        "00fa2b009ec24ea986bc8ce395cb3270": {
          "model_module": "@jupyter-widgets/base",
          "model_name": "LayoutModel",
          "state": {
            "_view_name": "LayoutView",
            "grid_template_rows": null,
            "right": null,
            "justify_content": null,
            "_view_module": "@jupyter-widgets/base",
            "overflow": null,
            "_model_module_version": "1.2.0",
            "_view_count": null,
            "flex_flow": null,
            "width": null,
            "min_width": null,
            "border": null,
            "align_items": null,
            "bottom": null,
            "_model_module": "@jupyter-widgets/base",
            "top": null,
            "grid_column": null,
            "overflow_y": null,
            "overflow_x": null,
            "grid_auto_flow": null,
            "grid_area": null,
            "grid_template_columns": null,
            "flex": null,
            "_model_name": "LayoutModel",
            "justify_items": null,
            "grid_row": null,
            "max_height": null,
            "align_content": null,
            "visibility": null,
            "align_self": null,
            "height": null,
            "min_height": null,
            "padding": null,
            "grid_auto_rows": null,
            "grid_gap": null,
            "max_width": null,
            "order": null,
            "_view_module_version": "1.2.0",
            "grid_template_areas": null,
            "object_position": null,
            "object_fit": null,
            "grid_auto_columns": null,
            "margin": null,
            "display": null,
            "left": null
          }
        },
        "e634a5239f5443b989e45f40fa9ec47e": {
          "model_module": "@jupyter-widgets/controls",
          "model_name": "LabelModel",
          "state": {
            "_view_name": "LabelView",
            "style": "IPY_MODEL_e15e73062c954f23b559bb8d92742fb5",
            "_dom_classes": [],
            "description": "",
            "_model_name": "LabelModel",
            "placeholder": "​",
            "_view_module": "@jupyter-widgets/controls",
            "_model_module_version": "1.5.0",
            "value": " 64.39MB of 64.39MB uploaded (0.00MB deduped)\r",
            "_view_count": null,
            "_view_module_version": "1.5.0",
            "description_tooltip": null,
            "_model_module": "@jupyter-widgets/controls",
            "layout": "IPY_MODEL_41e7d0690f1344dea35f33efb8a4b736"
          }
        },
        "9d2f9f61bf2c4331aff7f8941ec00f2b": {
          "model_module": "@jupyter-widgets/controls",
          "model_name": "FloatProgressModel",
          "state": {
            "_view_name": "ProgressView",
            "style": "IPY_MODEL_122079aaa11b4c97a57ea237f1a3462e",
            "_dom_classes": [],
            "description": "",
            "_model_name": "FloatProgressModel",
            "bar_style": "",
            "max": 1,
            "_view_module": "@jupyter-widgets/controls",
            "_model_module_version": "1.5.0",
            "value": 1,
            "_view_count": null,
            "_view_module_version": "1.5.0",
            "orientation": "horizontal",
            "min": 0,
            "description_tooltip": null,
            "_model_module": "@jupyter-widgets/controls",
            "layout": "IPY_MODEL_ca1601fb722447759df2cd0c55f58192"
          }
        },
        "e15e73062c954f23b559bb8d92742fb5": {
          "model_module": "@jupyter-widgets/controls",
          "model_name": "DescriptionStyleModel",
          "state": {
            "_view_name": "StyleView",
            "_model_name": "DescriptionStyleModel",
            "description_width": "",
            "_view_module": "@jupyter-widgets/base",
            "_model_module_version": "1.5.0",
            "_view_count": null,
            "_view_module_version": "1.2.0",
            "_model_module": "@jupyter-widgets/controls"
          }
        },
        "41e7d0690f1344dea35f33efb8a4b736": {
          "model_module": "@jupyter-widgets/base",
          "model_name": "LayoutModel",
          "state": {
            "_view_name": "LayoutView",
            "grid_template_rows": null,
            "right": null,
            "justify_content": null,
            "_view_module": "@jupyter-widgets/base",
            "overflow": null,
            "_model_module_version": "1.2.0",
            "_view_count": null,
            "flex_flow": null,
            "width": null,
            "min_width": null,
            "border": null,
            "align_items": null,
            "bottom": null,
            "_model_module": "@jupyter-widgets/base",
            "top": null,
            "grid_column": null,
            "overflow_y": null,
            "overflow_x": null,
            "grid_auto_flow": null,
            "grid_area": null,
            "grid_template_columns": null,
            "flex": null,
            "_model_name": "LayoutModel",
            "justify_items": null,
            "grid_row": null,
            "max_height": null,
            "align_content": null,
            "visibility": null,
            "align_self": null,
            "height": null,
            "min_height": null,
            "padding": null,
            "grid_auto_rows": null,
            "grid_gap": null,
            "max_width": null,
            "order": null,
            "_view_module_version": "1.2.0",
            "grid_template_areas": null,
            "object_position": null,
            "object_fit": null,
            "grid_auto_columns": null,
            "margin": null,
            "display": null,
            "left": null
          }
        },
        "122079aaa11b4c97a57ea237f1a3462e": {
          "model_module": "@jupyter-widgets/controls",
          "model_name": "ProgressStyleModel",
          "state": {
            "_view_name": "StyleView",
            "_model_name": "ProgressStyleModel",
            "description_width": "",
            "_view_module": "@jupyter-widgets/base",
            "_model_module_version": "1.5.0",
            "_view_count": null,
            "_view_module_version": "1.2.0",
            "bar_color": null,
            "_model_module": "@jupyter-widgets/controls"
          }
        },
        "ca1601fb722447759df2cd0c55f58192": {
          "model_module": "@jupyter-widgets/base",
          "model_name": "LayoutModel",
          "state": {
            "_view_name": "LayoutView",
            "grid_template_rows": null,
            "right": null,
            "justify_content": null,
            "_view_module": "@jupyter-widgets/base",
            "overflow": null,
            "_model_module_version": "1.2.0",
            "_view_count": null,
            "flex_flow": null,
            "width": null,
            "min_width": null,
            "border": null,
            "align_items": null,
            "bottom": null,
            "_model_module": "@jupyter-widgets/base",
            "top": null,
            "grid_column": null,
            "overflow_y": null,
            "overflow_x": null,
            "grid_auto_flow": null,
            "grid_area": null,
            "grid_template_columns": null,
            "flex": null,
            "_model_name": "LayoutModel",
            "justify_items": null,
            "grid_row": null,
            "max_height": null,
            "align_content": null,
            "visibility": null,
            "align_self": null,
            "height": null,
            "min_height": null,
            "padding": null,
            "grid_auto_rows": null,
            "grid_gap": null,
            "max_width": null,
            "order": null,
            "_view_module_version": "1.2.0",
            "grid_template_areas": null,
            "object_position": null,
            "object_fit": null,
            "grid_auto_columns": null,
            "margin": null,
            "display": null,
            "left": null
          }
        },
        "71e6a1f8a9834a26972c0804039d09ae": {
          "model_module": "@jupyter-widgets/controls",
          "model_name": "VBoxModel",
          "state": {
            "_view_name": "VBoxView",
            "_dom_classes": [],
            "_model_name": "VBoxModel",
            "_view_module": "@jupyter-widgets/controls",
            "_model_module_version": "1.5.0",
            "_view_count": null,
            "_view_module_version": "1.5.0",
            "box_style": "",
            "layout": "IPY_MODEL_c77c18643c60464b973d7e26df7169bc",
            "_model_module": "@jupyter-widgets/controls",
            "children": [
              "IPY_MODEL_d3855adc47f046a7a9c88e78c400cc1d",
              "IPY_MODEL_69cae8f76389415297239641e2444a90"
            ]
          }
        },
        "c77c18643c60464b973d7e26df7169bc": {
          "model_module": "@jupyter-widgets/base",
          "model_name": "LayoutModel",
          "state": {
            "_view_name": "LayoutView",
            "grid_template_rows": null,
            "right": null,
            "justify_content": null,
            "_view_module": "@jupyter-widgets/base",
            "overflow": null,
            "_model_module_version": "1.2.0",
            "_view_count": null,
            "flex_flow": null,
            "width": null,
            "min_width": null,
            "border": null,
            "align_items": null,
            "bottom": null,
            "_model_module": "@jupyter-widgets/base",
            "top": null,
            "grid_column": null,
            "overflow_y": null,
            "overflow_x": null,
            "grid_auto_flow": null,
            "grid_area": null,
            "grid_template_columns": null,
            "flex": null,
            "_model_name": "LayoutModel",
            "justify_items": null,
            "grid_row": null,
            "max_height": null,
            "align_content": null,
            "visibility": null,
            "align_self": null,
            "height": null,
            "min_height": null,
            "padding": null,
            "grid_auto_rows": null,
            "grid_gap": null,
            "max_width": null,
            "order": null,
            "_view_module_version": "1.2.0",
            "grid_template_areas": null,
            "object_position": null,
            "object_fit": null,
            "grid_auto_columns": null,
            "margin": null,
            "display": null,
            "left": null
          }
        },
        "d3855adc47f046a7a9c88e78c400cc1d": {
          "model_module": "@jupyter-widgets/controls",
          "model_name": "LabelModel",
          "state": {
            "_view_name": "LabelView",
            "style": "IPY_MODEL_3c6034c11b6b4282a900626afe042533",
            "_dom_classes": [],
            "description": "",
            "_model_name": "LabelModel",
            "placeholder": "​",
            "_view_module": "@jupyter-widgets/controls",
            "_model_module_version": "1.5.0",
            "value": " 63.59MB of 63.59MB uploaded (0.00MB deduped)\r",
            "_view_count": null,
            "_view_module_version": "1.5.0",
            "description_tooltip": null,
            "_model_module": "@jupyter-widgets/controls",
            "layout": "IPY_MODEL_004fcfc15fbb4b6997d2453a255943db"
          }
        },
        "69cae8f76389415297239641e2444a90": {
          "model_module": "@jupyter-widgets/controls",
          "model_name": "FloatProgressModel",
          "state": {
            "_view_name": "ProgressView",
            "style": "IPY_MODEL_766ce46692e9478ca1e52ff2ec226cbd",
            "_dom_classes": [],
            "description": "",
            "_model_name": "FloatProgressModel",
            "bar_style": "",
            "max": 1,
            "_view_module": "@jupyter-widgets/controls",
            "_model_module_version": "1.5.0",
            "value": 1,
            "_view_count": null,
            "_view_module_version": "1.5.0",
            "orientation": "horizontal",
            "min": 0,
            "description_tooltip": null,
            "_model_module": "@jupyter-widgets/controls",
            "layout": "IPY_MODEL_636001c967954556a8756aa6434036ba"
          }
        },
        "3c6034c11b6b4282a900626afe042533": {
          "model_module": "@jupyter-widgets/controls",
          "model_name": "DescriptionStyleModel",
          "state": {
            "_view_name": "StyleView",
            "_model_name": "DescriptionStyleModel",
            "description_width": "",
            "_view_module": "@jupyter-widgets/base",
            "_model_module_version": "1.5.0",
            "_view_count": null,
            "_view_module_version": "1.2.0",
            "_model_module": "@jupyter-widgets/controls"
          }
        },
        "004fcfc15fbb4b6997d2453a255943db": {
          "model_module": "@jupyter-widgets/base",
          "model_name": "LayoutModel",
          "state": {
            "_view_name": "LayoutView",
            "grid_template_rows": null,
            "right": null,
            "justify_content": null,
            "_view_module": "@jupyter-widgets/base",
            "overflow": null,
            "_model_module_version": "1.2.0",
            "_view_count": null,
            "flex_flow": null,
            "width": null,
            "min_width": null,
            "border": null,
            "align_items": null,
            "bottom": null,
            "_model_module": "@jupyter-widgets/base",
            "top": null,
            "grid_column": null,
            "overflow_y": null,
            "overflow_x": null,
            "grid_auto_flow": null,
            "grid_area": null,
            "grid_template_columns": null,
            "flex": null,
            "_model_name": "LayoutModel",
            "justify_items": null,
            "grid_row": null,
            "max_height": null,
            "align_content": null,
            "visibility": null,
            "align_self": null,
            "height": null,
            "min_height": null,
            "padding": null,
            "grid_auto_rows": null,
            "grid_gap": null,
            "max_width": null,
            "order": null,
            "_view_module_version": "1.2.0",
            "grid_template_areas": null,
            "object_position": null,
            "object_fit": null,
            "grid_auto_columns": null,
            "margin": null,
            "display": null,
            "left": null
          }
        },
        "766ce46692e9478ca1e52ff2ec226cbd": {
          "model_module": "@jupyter-widgets/controls",
          "model_name": "ProgressStyleModel",
          "state": {
            "_view_name": "StyleView",
            "_model_name": "ProgressStyleModel",
            "description_width": "",
            "_view_module": "@jupyter-widgets/base",
            "_model_module_version": "1.5.0",
            "_view_count": null,
            "_view_module_version": "1.2.0",
            "bar_color": null,
            "_model_module": "@jupyter-widgets/controls"
          }
        },
        "636001c967954556a8756aa6434036ba": {
          "model_module": "@jupyter-widgets/base",
          "model_name": "LayoutModel",
          "state": {
            "_view_name": "LayoutView",
            "grid_template_rows": null,
            "right": null,
            "justify_content": null,
            "_view_module": "@jupyter-widgets/base",
            "overflow": null,
            "_model_module_version": "1.2.0",
            "_view_count": null,
            "flex_flow": null,
            "width": null,
            "min_width": null,
            "border": null,
            "align_items": null,
            "bottom": null,
            "_model_module": "@jupyter-widgets/base",
            "top": null,
            "grid_column": null,
            "overflow_y": null,
            "overflow_x": null,
            "grid_auto_flow": null,
            "grid_area": null,
            "grid_template_columns": null,
            "flex": null,
            "_model_name": "LayoutModel",
            "justify_items": null,
            "grid_row": null,
            "max_height": null,
            "align_content": null,
            "visibility": null,
            "align_self": null,
            "height": null,
            "min_height": null,
            "padding": null,
            "grid_auto_rows": null,
            "grid_gap": null,
            "max_width": null,
            "order": null,
            "_view_module_version": "1.2.0",
            "grid_template_areas": null,
            "object_position": null,
            "object_fit": null,
            "grid_auto_columns": null,
            "margin": null,
            "display": null,
            "left": null
          }
        },
        "24387d8910264fee8f27fe2f97a39a37": {
          "model_module": "@jupyter-widgets/controls",
          "model_name": "VBoxModel",
          "state": {
            "_view_name": "VBoxView",
            "_dom_classes": [],
            "_model_name": "VBoxModel",
            "_view_module": "@jupyter-widgets/controls",
            "_model_module_version": "1.5.0",
            "_view_count": null,
            "_view_module_version": "1.5.0",
            "box_style": "",
            "layout": "IPY_MODEL_e6b141d106454eebb31a930bf2a66305",
            "_model_module": "@jupyter-widgets/controls",
            "children": [
              "IPY_MODEL_f95795a4a36a4dd4929786b100a265f3",
              "IPY_MODEL_eb0cc95e6b5248a1b16193f1b9e8828b"
            ]
          }
        },
        "e6b141d106454eebb31a930bf2a66305": {
          "model_module": "@jupyter-widgets/base",
          "model_name": "LayoutModel",
          "state": {
            "_view_name": "LayoutView",
            "grid_template_rows": null,
            "right": null,
            "justify_content": null,
            "_view_module": "@jupyter-widgets/base",
            "overflow": null,
            "_model_module_version": "1.2.0",
            "_view_count": null,
            "flex_flow": null,
            "width": null,
            "min_width": null,
            "border": null,
            "align_items": null,
            "bottom": null,
            "_model_module": "@jupyter-widgets/base",
            "top": null,
            "grid_column": null,
            "overflow_y": null,
            "overflow_x": null,
            "grid_auto_flow": null,
            "grid_area": null,
            "grid_template_columns": null,
            "flex": null,
            "_model_name": "LayoutModel",
            "justify_items": null,
            "grid_row": null,
            "max_height": null,
            "align_content": null,
            "visibility": null,
            "align_self": null,
            "height": null,
            "min_height": null,
            "padding": null,
            "grid_auto_rows": null,
            "grid_gap": null,
            "max_width": null,
            "order": null,
            "_view_module_version": "1.2.0",
            "grid_template_areas": null,
            "object_position": null,
            "object_fit": null,
            "grid_auto_columns": null,
            "margin": null,
            "display": null,
            "left": null
          }
        },
        "f95795a4a36a4dd4929786b100a265f3": {
          "model_module": "@jupyter-widgets/controls",
          "model_name": "LabelModel",
          "state": {
            "_view_name": "LabelView",
            "style": "IPY_MODEL_19a5eb2edacd4b6d9b68465fb9485fb9",
            "_dom_classes": [],
            "description": "",
            "_model_name": "LabelModel",
            "placeholder": "​",
            "_view_module": "@jupyter-widgets/controls",
            "_model_module_version": "1.5.0",
            "value": " 64.35MB of 64.35MB uploaded (0.00MB deduped)\r",
            "_view_count": null,
            "_view_module_version": "1.5.0",
            "description_tooltip": null,
            "_model_module": "@jupyter-widgets/controls",
            "layout": "IPY_MODEL_01f20499d5ed45d0a03968fca373cc67"
          }
        },
        "eb0cc95e6b5248a1b16193f1b9e8828b": {
          "model_module": "@jupyter-widgets/controls",
          "model_name": "FloatProgressModel",
          "state": {
            "_view_name": "ProgressView",
            "style": "IPY_MODEL_c61f5e5c21f74567acce716173dac6cf",
            "_dom_classes": [],
            "description": "",
            "_model_name": "FloatProgressModel",
            "bar_style": "",
            "max": 1,
            "_view_module": "@jupyter-widgets/controls",
            "_model_module_version": "1.5.0",
            "value": 1,
            "_view_count": null,
            "_view_module_version": "1.5.0",
            "orientation": "horizontal",
            "min": 0,
            "description_tooltip": null,
            "_model_module": "@jupyter-widgets/controls",
            "layout": "IPY_MODEL_07adbb7ef8844f5cb1f347b794d0fbcf"
          }
        },
        "19a5eb2edacd4b6d9b68465fb9485fb9": {
          "model_module": "@jupyter-widgets/controls",
          "model_name": "DescriptionStyleModel",
          "state": {
            "_view_name": "StyleView",
            "_model_name": "DescriptionStyleModel",
            "description_width": "",
            "_view_module": "@jupyter-widgets/base",
            "_model_module_version": "1.5.0",
            "_view_count": null,
            "_view_module_version": "1.2.0",
            "_model_module": "@jupyter-widgets/controls"
          }
        },
        "01f20499d5ed45d0a03968fca373cc67": {
          "model_module": "@jupyter-widgets/base",
          "model_name": "LayoutModel",
          "state": {
            "_view_name": "LayoutView",
            "grid_template_rows": null,
            "right": null,
            "justify_content": null,
            "_view_module": "@jupyter-widgets/base",
            "overflow": null,
            "_model_module_version": "1.2.0",
            "_view_count": null,
            "flex_flow": null,
            "width": null,
            "min_width": null,
            "border": null,
            "align_items": null,
            "bottom": null,
            "_model_module": "@jupyter-widgets/base",
            "top": null,
            "grid_column": null,
            "overflow_y": null,
            "overflow_x": null,
            "grid_auto_flow": null,
            "grid_area": null,
            "grid_template_columns": null,
            "flex": null,
            "_model_name": "LayoutModel",
            "justify_items": null,
            "grid_row": null,
            "max_height": null,
            "align_content": null,
            "visibility": null,
            "align_self": null,
            "height": null,
            "min_height": null,
            "padding": null,
            "grid_auto_rows": null,
            "grid_gap": null,
            "max_width": null,
            "order": null,
            "_view_module_version": "1.2.0",
            "grid_template_areas": null,
            "object_position": null,
            "object_fit": null,
            "grid_auto_columns": null,
            "margin": null,
            "display": null,
            "left": null
          }
        },
        "c61f5e5c21f74567acce716173dac6cf": {
          "model_module": "@jupyter-widgets/controls",
          "model_name": "ProgressStyleModel",
          "state": {
            "_view_name": "StyleView",
            "_model_name": "ProgressStyleModel",
            "description_width": "",
            "_view_module": "@jupyter-widgets/base",
            "_model_module_version": "1.5.0",
            "_view_count": null,
            "_view_module_version": "1.2.0",
            "bar_color": null,
            "_model_module": "@jupyter-widgets/controls"
          }
        },
        "07adbb7ef8844f5cb1f347b794d0fbcf": {
          "model_module": "@jupyter-widgets/base",
          "model_name": "LayoutModel",
          "state": {
            "_view_name": "LayoutView",
            "grid_template_rows": null,
            "right": null,
            "justify_content": null,
            "_view_module": "@jupyter-widgets/base",
            "overflow": null,
            "_model_module_version": "1.2.0",
            "_view_count": null,
            "flex_flow": null,
            "width": null,
            "min_width": null,
            "border": null,
            "align_items": null,
            "bottom": null,
            "_model_module": "@jupyter-widgets/base",
            "top": null,
            "grid_column": null,
            "overflow_y": null,
            "overflow_x": null,
            "grid_auto_flow": null,
            "grid_area": null,
            "grid_template_columns": null,
            "flex": null,
            "_model_name": "LayoutModel",
            "justify_items": null,
            "grid_row": null,
            "max_height": null,
            "align_content": null,
            "visibility": null,
            "align_self": null,
            "height": null,
            "min_height": null,
            "padding": null,
            "grid_auto_rows": null,
            "grid_gap": null,
            "max_width": null,
            "order": null,
            "_view_module_version": "1.2.0",
            "grid_template_areas": null,
            "object_position": null,
            "object_fit": null,
            "grid_auto_columns": null,
            "margin": null,
            "display": null,
            "left": null
          }
        },
        "f6bc6890a62f4c28ba630e7ec91d0355": {
          "model_module": "@jupyter-widgets/controls",
          "model_name": "VBoxModel",
          "state": {
            "_view_name": "VBoxView",
            "_dom_classes": [],
            "_model_name": "VBoxModel",
            "_view_module": "@jupyter-widgets/controls",
            "_model_module_version": "1.5.0",
            "_view_count": null,
            "_view_module_version": "1.5.0",
            "box_style": "",
            "layout": "IPY_MODEL_dcc7a02658604cb3a43caf35c571f726",
            "_model_module": "@jupyter-widgets/controls",
            "children": [
              "IPY_MODEL_81c5d63700ce425eb838865b0984e9ab",
              "IPY_MODEL_404985a9312142e49ab4b430c6086c66"
            ]
          }
        },
        "dcc7a02658604cb3a43caf35c571f726": {
          "model_module": "@jupyter-widgets/base",
          "model_name": "LayoutModel",
          "state": {
            "_view_name": "LayoutView",
            "grid_template_rows": null,
            "right": null,
            "justify_content": null,
            "_view_module": "@jupyter-widgets/base",
            "overflow": null,
            "_model_module_version": "1.2.0",
            "_view_count": null,
            "flex_flow": null,
            "width": null,
            "min_width": null,
            "border": null,
            "align_items": null,
            "bottom": null,
            "_model_module": "@jupyter-widgets/base",
            "top": null,
            "grid_column": null,
            "overflow_y": null,
            "overflow_x": null,
            "grid_auto_flow": null,
            "grid_area": null,
            "grid_template_columns": null,
            "flex": null,
            "_model_name": "LayoutModel",
            "justify_items": null,
            "grid_row": null,
            "max_height": null,
            "align_content": null,
            "visibility": null,
            "align_self": null,
            "height": null,
            "min_height": null,
            "padding": null,
            "grid_auto_rows": null,
            "grid_gap": null,
            "max_width": null,
            "order": null,
            "_view_module_version": "1.2.0",
            "grid_template_areas": null,
            "object_position": null,
            "object_fit": null,
            "grid_auto_columns": null,
            "margin": null,
            "display": null,
            "left": null
          }
        },
        "81c5d63700ce425eb838865b0984e9ab": {
          "model_module": "@jupyter-widgets/controls",
          "model_name": "LabelModel",
          "state": {
            "_view_name": "LabelView",
            "style": "IPY_MODEL_358b964faca64da39676b98e740cfd78",
            "_dom_classes": [],
            "description": "",
            "_model_name": "LabelModel",
            "placeholder": "​",
            "_view_module": "@jupyter-widgets/controls",
            "_model_module_version": "1.5.0",
            "value": " 64.35MB of 64.35MB uploaded (0.00MB deduped)\r",
            "_view_count": null,
            "_view_module_version": "1.5.0",
            "description_tooltip": null,
            "_model_module": "@jupyter-widgets/controls",
            "layout": "IPY_MODEL_c1676bb534bc4503a517fe2b2818d477"
          }
        },
        "404985a9312142e49ab4b430c6086c66": {
          "model_module": "@jupyter-widgets/controls",
          "model_name": "FloatProgressModel",
          "state": {
            "_view_name": "ProgressView",
            "style": "IPY_MODEL_3fafbacdd5ff492a8ed0acb8005b999d",
            "_dom_classes": [],
            "description": "",
            "_model_name": "FloatProgressModel",
            "bar_style": "",
            "max": 1,
            "_view_module": "@jupyter-widgets/controls",
            "_model_module_version": "1.5.0",
            "value": 1,
            "_view_count": null,
            "_view_module_version": "1.5.0",
            "orientation": "horizontal",
            "min": 0,
            "description_tooltip": null,
            "_model_module": "@jupyter-widgets/controls",
            "layout": "IPY_MODEL_303f969bdf524bd487f482319af14f68"
          }
        },
        "358b964faca64da39676b98e740cfd78": {
          "model_module": "@jupyter-widgets/controls",
          "model_name": "DescriptionStyleModel",
          "state": {
            "_view_name": "StyleView",
            "_model_name": "DescriptionStyleModel",
            "description_width": "",
            "_view_module": "@jupyter-widgets/base",
            "_model_module_version": "1.5.0",
            "_view_count": null,
            "_view_module_version": "1.2.0",
            "_model_module": "@jupyter-widgets/controls"
          }
        },
        "c1676bb534bc4503a517fe2b2818d477": {
          "model_module": "@jupyter-widgets/base",
          "model_name": "LayoutModel",
          "state": {
            "_view_name": "LayoutView",
            "grid_template_rows": null,
            "right": null,
            "justify_content": null,
            "_view_module": "@jupyter-widgets/base",
            "overflow": null,
            "_model_module_version": "1.2.0",
            "_view_count": null,
            "flex_flow": null,
            "width": null,
            "min_width": null,
            "border": null,
            "align_items": null,
            "bottom": null,
            "_model_module": "@jupyter-widgets/base",
            "top": null,
            "grid_column": null,
            "overflow_y": null,
            "overflow_x": null,
            "grid_auto_flow": null,
            "grid_area": null,
            "grid_template_columns": null,
            "flex": null,
            "_model_name": "LayoutModel",
            "justify_items": null,
            "grid_row": null,
            "max_height": null,
            "align_content": null,
            "visibility": null,
            "align_self": null,
            "height": null,
            "min_height": null,
            "padding": null,
            "grid_auto_rows": null,
            "grid_gap": null,
            "max_width": null,
            "order": null,
            "_view_module_version": "1.2.0",
            "grid_template_areas": null,
            "object_position": null,
            "object_fit": null,
            "grid_auto_columns": null,
            "margin": null,
            "display": null,
            "left": null
          }
        },
        "3fafbacdd5ff492a8ed0acb8005b999d": {
          "model_module": "@jupyter-widgets/controls",
          "model_name": "ProgressStyleModel",
          "state": {
            "_view_name": "StyleView",
            "_model_name": "ProgressStyleModel",
            "description_width": "",
            "_view_module": "@jupyter-widgets/base",
            "_model_module_version": "1.5.0",
            "_view_count": null,
            "_view_module_version": "1.2.0",
            "bar_color": null,
            "_model_module": "@jupyter-widgets/controls"
          }
        },
        "303f969bdf524bd487f482319af14f68": {
          "model_module": "@jupyter-widgets/base",
          "model_name": "LayoutModel",
          "state": {
            "_view_name": "LayoutView",
            "grid_template_rows": null,
            "right": null,
            "justify_content": null,
            "_view_module": "@jupyter-widgets/base",
            "overflow": null,
            "_model_module_version": "1.2.0",
            "_view_count": null,
            "flex_flow": null,
            "width": null,
            "min_width": null,
            "border": null,
            "align_items": null,
            "bottom": null,
            "_model_module": "@jupyter-widgets/base",
            "top": null,
            "grid_column": null,
            "overflow_y": null,
            "overflow_x": null,
            "grid_auto_flow": null,
            "grid_area": null,
            "grid_template_columns": null,
            "flex": null,
            "_model_name": "LayoutModel",
            "justify_items": null,
            "grid_row": null,
            "max_height": null,
            "align_content": null,
            "visibility": null,
            "align_self": null,
            "height": null,
            "min_height": null,
            "padding": null,
            "grid_auto_rows": null,
            "grid_gap": null,
            "max_width": null,
            "order": null,
            "_view_module_version": "1.2.0",
            "grid_template_areas": null,
            "object_position": null,
            "object_fit": null,
            "grid_auto_columns": null,
            "margin": null,
            "display": null,
            "left": null
          }
        },
        "5a4cf35572644172b359e5c218cb66cf": {
          "model_module": "@jupyter-widgets/controls",
          "model_name": "VBoxModel",
          "state": {
            "_view_name": "VBoxView",
            "_dom_classes": [],
            "_model_name": "VBoxModel",
            "_view_module": "@jupyter-widgets/controls",
            "_model_module_version": "1.5.0",
            "_view_count": null,
            "_view_module_version": "1.5.0",
            "box_style": "",
            "layout": "IPY_MODEL_d9d3e4ec0e4f419189d4368456d8fc11",
            "_model_module": "@jupyter-widgets/controls",
            "children": [
              "IPY_MODEL_a3ec8539d8c341a4a86af7d250d8b810",
              "IPY_MODEL_118daee4db55437ab731b3beba768e01"
            ]
          }
        },
        "d9d3e4ec0e4f419189d4368456d8fc11": {
          "model_module": "@jupyter-widgets/base",
          "model_name": "LayoutModel",
          "state": {
            "_view_name": "LayoutView",
            "grid_template_rows": null,
            "right": null,
            "justify_content": null,
            "_view_module": "@jupyter-widgets/base",
            "overflow": null,
            "_model_module_version": "1.2.0",
            "_view_count": null,
            "flex_flow": null,
            "width": null,
            "min_width": null,
            "border": null,
            "align_items": null,
            "bottom": null,
            "_model_module": "@jupyter-widgets/base",
            "top": null,
            "grid_column": null,
            "overflow_y": null,
            "overflow_x": null,
            "grid_auto_flow": null,
            "grid_area": null,
            "grid_template_columns": null,
            "flex": null,
            "_model_name": "LayoutModel",
            "justify_items": null,
            "grid_row": null,
            "max_height": null,
            "align_content": null,
            "visibility": null,
            "align_self": null,
            "height": null,
            "min_height": null,
            "padding": null,
            "grid_auto_rows": null,
            "grid_gap": null,
            "max_width": null,
            "order": null,
            "_view_module_version": "1.2.0",
            "grid_template_areas": null,
            "object_position": null,
            "object_fit": null,
            "grid_auto_columns": null,
            "margin": null,
            "display": null,
            "left": null
          }
        },
        "a3ec8539d8c341a4a86af7d250d8b810": {
          "model_module": "@jupyter-widgets/controls",
          "model_name": "LabelModel",
          "state": {
            "_view_name": "LabelView",
            "style": "IPY_MODEL_630efbf703034502925168eb459dbf40",
            "_dom_classes": [],
            "description": "",
            "_model_name": "LabelModel",
            "placeholder": "​",
            "_view_module": "@jupyter-widgets/controls",
            "_model_module_version": "1.5.0",
            "value": " 63.59MB of 63.59MB uploaded (0.00MB deduped)\r",
            "_view_count": null,
            "_view_module_version": "1.5.0",
            "description_tooltip": null,
            "_model_module": "@jupyter-widgets/controls",
            "layout": "IPY_MODEL_3622cea1e703424f94211f7e4e2c9825"
          }
        },
        "118daee4db55437ab731b3beba768e01": {
          "model_module": "@jupyter-widgets/controls",
          "model_name": "FloatProgressModel",
          "state": {
            "_view_name": "ProgressView",
            "style": "IPY_MODEL_f4796b3e74104adaa3bbfc1754c24802",
            "_dom_classes": [],
            "description": "",
            "_model_name": "FloatProgressModel",
            "bar_style": "",
            "max": 1,
            "_view_module": "@jupyter-widgets/controls",
            "_model_module_version": "1.5.0",
            "value": 1,
            "_view_count": null,
            "_view_module_version": "1.5.0",
            "orientation": "horizontal",
            "min": 0,
            "description_tooltip": null,
            "_model_module": "@jupyter-widgets/controls",
            "layout": "IPY_MODEL_480a95e4c7b74dce84b5b4bd770c11e6"
          }
        },
        "630efbf703034502925168eb459dbf40": {
          "model_module": "@jupyter-widgets/controls",
          "model_name": "DescriptionStyleModel",
          "state": {
            "_view_name": "StyleView",
            "_model_name": "DescriptionStyleModel",
            "description_width": "",
            "_view_module": "@jupyter-widgets/base",
            "_model_module_version": "1.5.0",
            "_view_count": null,
            "_view_module_version": "1.2.0",
            "_model_module": "@jupyter-widgets/controls"
          }
        },
        "3622cea1e703424f94211f7e4e2c9825": {
          "model_module": "@jupyter-widgets/base",
          "model_name": "LayoutModel",
          "state": {
            "_view_name": "LayoutView",
            "grid_template_rows": null,
            "right": null,
            "justify_content": null,
            "_view_module": "@jupyter-widgets/base",
            "overflow": null,
            "_model_module_version": "1.2.0",
            "_view_count": null,
            "flex_flow": null,
            "width": null,
            "min_width": null,
            "border": null,
            "align_items": null,
            "bottom": null,
            "_model_module": "@jupyter-widgets/base",
            "top": null,
            "grid_column": null,
            "overflow_y": null,
            "overflow_x": null,
            "grid_auto_flow": null,
            "grid_area": null,
            "grid_template_columns": null,
            "flex": null,
            "_model_name": "LayoutModel",
            "justify_items": null,
            "grid_row": null,
            "max_height": null,
            "align_content": null,
            "visibility": null,
            "align_self": null,
            "height": null,
            "min_height": null,
            "padding": null,
            "grid_auto_rows": null,
            "grid_gap": null,
            "max_width": null,
            "order": null,
            "_view_module_version": "1.2.0",
            "grid_template_areas": null,
            "object_position": null,
            "object_fit": null,
            "grid_auto_columns": null,
            "margin": null,
            "display": null,
            "left": null
          }
        },
        "f4796b3e74104adaa3bbfc1754c24802": {
          "model_module": "@jupyter-widgets/controls",
          "model_name": "ProgressStyleModel",
          "state": {
            "_view_name": "StyleView",
            "_model_name": "ProgressStyleModel",
            "description_width": "",
            "_view_module": "@jupyter-widgets/base",
            "_model_module_version": "1.5.0",
            "_view_count": null,
            "_view_module_version": "1.2.0",
            "bar_color": null,
            "_model_module": "@jupyter-widgets/controls"
          }
        },
        "480a95e4c7b74dce84b5b4bd770c11e6": {
          "model_module": "@jupyter-widgets/base",
          "model_name": "LayoutModel",
          "state": {
            "_view_name": "LayoutView",
            "grid_template_rows": null,
            "right": null,
            "justify_content": null,
            "_view_module": "@jupyter-widgets/base",
            "overflow": null,
            "_model_module_version": "1.2.0",
            "_view_count": null,
            "flex_flow": null,
            "width": null,
            "min_width": null,
            "border": null,
            "align_items": null,
            "bottom": null,
            "_model_module": "@jupyter-widgets/base",
            "top": null,
            "grid_column": null,
            "overflow_y": null,
            "overflow_x": null,
            "grid_auto_flow": null,
            "grid_area": null,
            "grid_template_columns": null,
            "flex": null,
            "_model_name": "LayoutModel",
            "justify_items": null,
            "grid_row": null,
            "max_height": null,
            "align_content": null,
            "visibility": null,
            "align_self": null,
            "height": null,
            "min_height": null,
            "padding": null,
            "grid_auto_rows": null,
            "grid_gap": null,
            "max_width": null,
            "order": null,
            "_view_module_version": "1.2.0",
            "grid_template_areas": null,
            "object_position": null,
            "object_fit": null,
            "grid_auto_columns": null,
            "margin": null,
            "display": null,
            "left": null
          }
        },
        "82629c26bf6a40cfb601bca3e18bca41": {
          "model_module": "@jupyter-widgets/controls",
          "model_name": "VBoxModel",
          "state": {
            "_view_name": "VBoxView",
            "_dom_classes": [],
            "_model_name": "VBoxModel",
            "_view_module": "@jupyter-widgets/controls",
            "_model_module_version": "1.5.0",
            "_view_count": null,
            "_view_module_version": "1.5.0",
            "box_style": "",
            "layout": "IPY_MODEL_297dd864b7ea43a39e199551529b20bc",
            "_model_module": "@jupyter-widgets/controls",
            "children": [
              "IPY_MODEL_6a1522cb515f4372920165f012f76d2f",
              "IPY_MODEL_d83aef22936d4e61a271d2c80423f1b3"
            ]
          }
        },
        "297dd864b7ea43a39e199551529b20bc": {
          "model_module": "@jupyter-widgets/base",
          "model_name": "LayoutModel",
          "state": {
            "_view_name": "LayoutView",
            "grid_template_rows": null,
            "right": null,
            "justify_content": null,
            "_view_module": "@jupyter-widgets/base",
            "overflow": null,
            "_model_module_version": "1.2.0",
            "_view_count": null,
            "flex_flow": null,
            "width": null,
            "min_width": null,
            "border": null,
            "align_items": null,
            "bottom": null,
            "_model_module": "@jupyter-widgets/base",
            "top": null,
            "grid_column": null,
            "overflow_y": null,
            "overflow_x": null,
            "grid_auto_flow": null,
            "grid_area": null,
            "grid_template_columns": null,
            "flex": null,
            "_model_name": "LayoutModel",
            "justify_items": null,
            "grid_row": null,
            "max_height": null,
            "align_content": null,
            "visibility": null,
            "align_self": null,
            "height": null,
            "min_height": null,
            "padding": null,
            "grid_auto_rows": null,
            "grid_gap": null,
            "max_width": null,
            "order": null,
            "_view_module_version": "1.2.0",
            "grid_template_areas": null,
            "object_position": null,
            "object_fit": null,
            "grid_auto_columns": null,
            "margin": null,
            "display": null,
            "left": null
          }
        },
        "6a1522cb515f4372920165f012f76d2f": {
          "model_module": "@jupyter-widgets/controls",
          "model_name": "LabelModel",
          "state": {
            "_view_name": "LabelView",
            "style": "IPY_MODEL_1ce2f40f276645a284b984bb1f3e7f5d",
            "_dom_classes": [],
            "description": "",
            "_model_name": "LabelModel",
            "placeholder": "​",
            "_view_module": "@jupyter-widgets/controls",
            "_model_module_version": "1.5.0",
            "value": " 64.40MB of 64.40MB uploaded (0.00MB deduped)\r",
            "_view_count": null,
            "_view_module_version": "1.5.0",
            "description_tooltip": null,
            "_model_module": "@jupyter-widgets/controls",
            "layout": "IPY_MODEL_a1d203c14f1640ffa954b2c7863d00e0"
          }
        },
        "d83aef22936d4e61a271d2c80423f1b3": {
          "model_module": "@jupyter-widgets/controls",
          "model_name": "FloatProgressModel",
          "state": {
            "_view_name": "ProgressView",
            "style": "IPY_MODEL_cb84c346ff9d40d3b7fc599f558eae0b",
            "_dom_classes": [],
            "description": "",
            "_model_name": "FloatProgressModel",
            "bar_style": "",
            "max": 1,
            "_view_module": "@jupyter-widgets/controls",
            "_model_module_version": "1.5.0",
            "value": 1,
            "_view_count": null,
            "_view_module_version": "1.5.0",
            "orientation": "horizontal",
            "min": 0,
            "description_tooltip": null,
            "_model_module": "@jupyter-widgets/controls",
            "layout": "IPY_MODEL_b452db5bc1b24db2adcef7271e8ffe23"
          }
        },
        "1ce2f40f276645a284b984bb1f3e7f5d": {
          "model_module": "@jupyter-widgets/controls",
          "model_name": "DescriptionStyleModel",
          "state": {
            "_view_name": "StyleView",
            "_model_name": "DescriptionStyleModel",
            "description_width": "",
            "_view_module": "@jupyter-widgets/base",
            "_model_module_version": "1.5.0",
            "_view_count": null,
            "_view_module_version": "1.2.0",
            "_model_module": "@jupyter-widgets/controls"
          }
        },
        "a1d203c14f1640ffa954b2c7863d00e0": {
          "model_module": "@jupyter-widgets/base",
          "model_name": "LayoutModel",
          "state": {
            "_view_name": "LayoutView",
            "grid_template_rows": null,
            "right": null,
            "justify_content": null,
            "_view_module": "@jupyter-widgets/base",
            "overflow": null,
            "_model_module_version": "1.2.0",
            "_view_count": null,
            "flex_flow": null,
            "width": null,
            "min_width": null,
            "border": null,
            "align_items": null,
            "bottom": null,
            "_model_module": "@jupyter-widgets/base",
            "top": null,
            "grid_column": null,
            "overflow_y": null,
            "overflow_x": null,
            "grid_auto_flow": null,
            "grid_area": null,
            "grid_template_columns": null,
            "flex": null,
            "_model_name": "LayoutModel",
            "justify_items": null,
            "grid_row": null,
            "max_height": null,
            "align_content": null,
            "visibility": null,
            "align_self": null,
            "height": null,
            "min_height": null,
            "padding": null,
            "grid_auto_rows": null,
            "grid_gap": null,
            "max_width": null,
            "order": null,
            "_view_module_version": "1.2.0",
            "grid_template_areas": null,
            "object_position": null,
            "object_fit": null,
            "grid_auto_columns": null,
            "margin": null,
            "display": null,
            "left": null
          }
        },
        "cb84c346ff9d40d3b7fc599f558eae0b": {
          "model_module": "@jupyter-widgets/controls",
          "model_name": "ProgressStyleModel",
          "state": {
            "_view_name": "StyleView",
            "_model_name": "ProgressStyleModel",
            "description_width": "",
            "_view_module": "@jupyter-widgets/base",
            "_model_module_version": "1.5.0",
            "_view_count": null,
            "_view_module_version": "1.2.0",
            "bar_color": null,
            "_model_module": "@jupyter-widgets/controls"
          }
        },
        "b452db5bc1b24db2adcef7271e8ffe23": {
          "model_module": "@jupyter-widgets/base",
          "model_name": "LayoutModel",
          "state": {
            "_view_name": "LayoutView",
            "grid_template_rows": null,
            "right": null,
            "justify_content": null,
            "_view_module": "@jupyter-widgets/base",
            "overflow": null,
            "_model_module_version": "1.2.0",
            "_view_count": null,
            "flex_flow": null,
            "width": null,
            "min_width": null,
            "border": null,
            "align_items": null,
            "bottom": null,
            "_model_module": "@jupyter-widgets/base",
            "top": null,
            "grid_column": null,
            "overflow_y": null,
            "overflow_x": null,
            "grid_auto_flow": null,
            "grid_area": null,
            "grid_template_columns": null,
            "flex": null,
            "_model_name": "LayoutModel",
            "justify_items": null,
            "grid_row": null,
            "max_height": null,
            "align_content": null,
            "visibility": null,
            "align_self": null,
            "height": null,
            "min_height": null,
            "padding": null,
            "grid_auto_rows": null,
            "grid_gap": null,
            "max_width": null,
            "order": null,
            "_view_module_version": "1.2.0",
            "grid_template_areas": null,
            "object_position": null,
            "object_fit": null,
            "grid_auto_columns": null,
            "margin": null,
            "display": null,
            "left": null
          }
        },
        "816de2c55e4c4bab8e544fbfbdffd5f1": {
          "model_module": "@jupyter-widgets/controls",
          "model_name": "VBoxModel",
          "state": {
            "_view_name": "VBoxView",
            "_dom_classes": [],
            "_model_name": "VBoxModel",
            "_view_module": "@jupyter-widgets/controls",
            "_model_module_version": "1.5.0",
            "_view_count": null,
            "_view_module_version": "1.5.0",
            "box_style": "",
            "layout": "IPY_MODEL_bbe27bac7aa14316a8839719d482ab3e",
            "_model_module": "@jupyter-widgets/controls",
            "children": [
              "IPY_MODEL_230cd0362f7c46fe8999b862dafaa633",
              "IPY_MODEL_7bf991757a044d5480389488071beef2"
            ]
          }
        },
        "bbe27bac7aa14316a8839719d482ab3e": {
          "model_module": "@jupyter-widgets/base",
          "model_name": "LayoutModel",
          "state": {
            "_view_name": "LayoutView",
            "grid_template_rows": null,
            "right": null,
            "justify_content": null,
            "_view_module": "@jupyter-widgets/base",
            "overflow": null,
            "_model_module_version": "1.2.0",
            "_view_count": null,
            "flex_flow": null,
            "width": null,
            "min_width": null,
            "border": null,
            "align_items": null,
            "bottom": null,
            "_model_module": "@jupyter-widgets/base",
            "top": null,
            "grid_column": null,
            "overflow_y": null,
            "overflow_x": null,
            "grid_auto_flow": null,
            "grid_area": null,
            "grid_template_columns": null,
            "flex": null,
            "_model_name": "LayoutModel",
            "justify_items": null,
            "grid_row": null,
            "max_height": null,
            "align_content": null,
            "visibility": null,
            "align_self": null,
            "height": null,
            "min_height": null,
            "padding": null,
            "grid_auto_rows": null,
            "grid_gap": null,
            "max_width": null,
            "order": null,
            "_view_module_version": "1.2.0",
            "grid_template_areas": null,
            "object_position": null,
            "object_fit": null,
            "grid_auto_columns": null,
            "margin": null,
            "display": null,
            "left": null
          }
        },
        "230cd0362f7c46fe8999b862dafaa633": {
          "model_module": "@jupyter-widgets/controls",
          "model_name": "LabelModel",
          "state": {
            "_view_name": "LabelView",
            "style": "IPY_MODEL_70aaee6a851f48bd918fa918862585fe",
            "_dom_classes": [],
            "description": "",
            "_model_name": "LabelModel",
            "placeholder": "​",
            "_view_module": "@jupyter-widgets/controls",
            "_model_module_version": "1.5.0",
            "value": " 64.35MB of 64.35MB uploaded (0.00MB deduped)\r",
            "_view_count": null,
            "_view_module_version": "1.5.0",
            "description_tooltip": null,
            "_model_module": "@jupyter-widgets/controls",
            "layout": "IPY_MODEL_04f04f91653d4c65b2e0d1a66fbd3c4b"
          }
        },
        "7bf991757a044d5480389488071beef2": {
          "model_module": "@jupyter-widgets/controls",
          "model_name": "FloatProgressModel",
          "state": {
            "_view_name": "ProgressView",
            "style": "IPY_MODEL_af7def71f54c4c47baca07480656befc",
            "_dom_classes": [],
            "description": "",
            "_model_name": "FloatProgressModel",
            "bar_style": "",
            "max": 1,
            "_view_module": "@jupyter-widgets/controls",
            "_model_module_version": "1.5.0",
            "value": 1,
            "_view_count": null,
            "_view_module_version": "1.5.0",
            "orientation": "horizontal",
            "min": 0,
            "description_tooltip": null,
            "_model_module": "@jupyter-widgets/controls",
            "layout": "IPY_MODEL_01ef3ef3d3db4ef39d954229e9297cdf"
          }
        },
        "70aaee6a851f48bd918fa918862585fe": {
          "model_module": "@jupyter-widgets/controls",
          "model_name": "DescriptionStyleModel",
          "state": {
            "_view_name": "StyleView",
            "_model_name": "DescriptionStyleModel",
            "description_width": "",
            "_view_module": "@jupyter-widgets/base",
            "_model_module_version": "1.5.0",
            "_view_count": null,
            "_view_module_version": "1.2.0",
            "_model_module": "@jupyter-widgets/controls"
          }
        },
        "04f04f91653d4c65b2e0d1a66fbd3c4b": {
          "model_module": "@jupyter-widgets/base",
          "model_name": "LayoutModel",
          "state": {
            "_view_name": "LayoutView",
            "grid_template_rows": null,
            "right": null,
            "justify_content": null,
            "_view_module": "@jupyter-widgets/base",
            "overflow": null,
            "_model_module_version": "1.2.0",
            "_view_count": null,
            "flex_flow": null,
            "width": null,
            "min_width": null,
            "border": null,
            "align_items": null,
            "bottom": null,
            "_model_module": "@jupyter-widgets/base",
            "top": null,
            "grid_column": null,
            "overflow_y": null,
            "overflow_x": null,
            "grid_auto_flow": null,
            "grid_area": null,
            "grid_template_columns": null,
            "flex": null,
            "_model_name": "LayoutModel",
            "justify_items": null,
            "grid_row": null,
            "max_height": null,
            "align_content": null,
            "visibility": null,
            "align_self": null,
            "height": null,
            "min_height": null,
            "padding": null,
            "grid_auto_rows": null,
            "grid_gap": null,
            "max_width": null,
            "order": null,
            "_view_module_version": "1.2.0",
            "grid_template_areas": null,
            "object_position": null,
            "object_fit": null,
            "grid_auto_columns": null,
            "margin": null,
            "display": null,
            "left": null
          }
        },
        "af7def71f54c4c47baca07480656befc": {
          "model_module": "@jupyter-widgets/controls",
          "model_name": "ProgressStyleModel",
          "state": {
            "_view_name": "StyleView",
            "_model_name": "ProgressStyleModel",
            "description_width": "",
            "_view_module": "@jupyter-widgets/base",
            "_model_module_version": "1.5.0",
            "_view_count": null,
            "_view_module_version": "1.2.0",
            "bar_color": null,
            "_model_module": "@jupyter-widgets/controls"
          }
        },
        "01ef3ef3d3db4ef39d954229e9297cdf": {
          "model_module": "@jupyter-widgets/base",
          "model_name": "LayoutModel",
          "state": {
            "_view_name": "LayoutView",
            "grid_template_rows": null,
            "right": null,
            "justify_content": null,
            "_view_module": "@jupyter-widgets/base",
            "overflow": null,
            "_model_module_version": "1.2.0",
            "_view_count": null,
            "flex_flow": null,
            "width": null,
            "min_width": null,
            "border": null,
            "align_items": null,
            "bottom": null,
            "_model_module": "@jupyter-widgets/base",
            "top": null,
            "grid_column": null,
            "overflow_y": null,
            "overflow_x": null,
            "grid_auto_flow": null,
            "grid_area": null,
            "grid_template_columns": null,
            "flex": null,
            "_model_name": "LayoutModel",
            "justify_items": null,
            "grid_row": null,
            "max_height": null,
            "align_content": null,
            "visibility": null,
            "align_self": null,
            "height": null,
            "min_height": null,
            "padding": null,
            "grid_auto_rows": null,
            "grid_gap": null,
            "max_width": null,
            "order": null,
            "_view_module_version": "1.2.0",
            "grid_template_areas": null,
            "object_position": null,
            "object_fit": null,
            "grid_auto_columns": null,
            "margin": null,
            "display": null,
            "left": null
          }
        },
        "3aad917e902d43279e5a8b685e17787f": {
          "model_module": "@jupyter-widgets/controls",
          "model_name": "VBoxModel",
          "state": {
            "_view_name": "VBoxView",
            "_dom_classes": [],
            "_model_name": "VBoxModel",
            "_view_module": "@jupyter-widgets/controls",
            "_model_module_version": "1.5.0",
            "_view_count": null,
            "_view_module_version": "1.5.0",
            "box_style": "",
            "layout": "IPY_MODEL_dfdb5d69e70e43408e7a4dc42cfbf7fd",
            "_model_module": "@jupyter-widgets/controls",
            "children": [
              "IPY_MODEL_3463641a2651497a9ba5bff3d8aa6e14",
              "IPY_MODEL_f4aac87b3c9c4ae590bcbe407487b36f"
            ]
          }
        },
        "dfdb5d69e70e43408e7a4dc42cfbf7fd": {
          "model_module": "@jupyter-widgets/base",
          "model_name": "LayoutModel",
          "state": {
            "_view_name": "LayoutView",
            "grid_template_rows": null,
            "right": null,
            "justify_content": null,
            "_view_module": "@jupyter-widgets/base",
            "overflow": null,
            "_model_module_version": "1.2.0",
            "_view_count": null,
            "flex_flow": null,
            "width": null,
            "min_width": null,
            "border": null,
            "align_items": null,
            "bottom": null,
            "_model_module": "@jupyter-widgets/base",
            "top": null,
            "grid_column": null,
            "overflow_y": null,
            "overflow_x": null,
            "grid_auto_flow": null,
            "grid_area": null,
            "grid_template_columns": null,
            "flex": null,
            "_model_name": "LayoutModel",
            "justify_items": null,
            "grid_row": null,
            "max_height": null,
            "align_content": null,
            "visibility": null,
            "align_self": null,
            "height": null,
            "min_height": null,
            "padding": null,
            "grid_auto_rows": null,
            "grid_gap": null,
            "max_width": null,
            "order": null,
            "_view_module_version": "1.2.0",
            "grid_template_areas": null,
            "object_position": null,
            "object_fit": null,
            "grid_auto_columns": null,
            "margin": null,
            "display": null,
            "left": null
          }
        },
        "3463641a2651497a9ba5bff3d8aa6e14": {
          "model_module": "@jupyter-widgets/controls",
          "model_name": "LabelModel",
          "state": {
            "_view_name": "LabelView",
            "style": "IPY_MODEL_57313c63b75f4f2f8d00a68259910c98",
            "_dom_classes": [],
            "description": "",
            "_model_name": "LabelModel",
            "placeholder": "​",
            "_view_module": "@jupyter-widgets/controls",
            "_model_module_version": "1.5.0",
            "value": " 58.21MB of 58.21MB uploaded (0.00MB deduped)\r",
            "_view_count": null,
            "_view_module_version": "1.5.0",
            "description_tooltip": null,
            "_model_module": "@jupyter-widgets/controls",
            "layout": "IPY_MODEL_1dd43d97b1e341c3bf26a2dc97a8bfae"
          }
        },
        "f4aac87b3c9c4ae590bcbe407487b36f": {
          "model_module": "@jupyter-widgets/controls",
          "model_name": "FloatProgressModel",
          "state": {
            "_view_name": "ProgressView",
            "style": "IPY_MODEL_fc2c24f98975440c83b5131950b948b4",
            "_dom_classes": [],
            "description": "",
            "_model_name": "FloatProgressModel",
            "bar_style": "",
            "max": 1,
            "_view_module": "@jupyter-widgets/controls",
            "_model_module_version": "1.5.0",
            "value": 1,
            "_view_count": null,
            "_view_module_version": "1.5.0",
            "orientation": "horizontal",
            "min": 0,
            "description_tooltip": null,
            "_model_module": "@jupyter-widgets/controls",
            "layout": "IPY_MODEL_8e4c7788666f4968b398b789614e5ebf"
          }
        },
        "57313c63b75f4f2f8d00a68259910c98": {
          "model_module": "@jupyter-widgets/controls",
          "model_name": "DescriptionStyleModel",
          "state": {
            "_view_name": "StyleView",
            "_model_name": "DescriptionStyleModel",
            "description_width": "",
            "_view_module": "@jupyter-widgets/base",
            "_model_module_version": "1.5.0",
            "_view_count": null,
            "_view_module_version": "1.2.0",
            "_model_module": "@jupyter-widgets/controls"
          }
        },
        "1dd43d97b1e341c3bf26a2dc97a8bfae": {
          "model_module": "@jupyter-widgets/base",
          "model_name": "LayoutModel",
          "state": {
            "_view_name": "LayoutView",
            "grid_template_rows": null,
            "right": null,
            "justify_content": null,
            "_view_module": "@jupyter-widgets/base",
            "overflow": null,
            "_model_module_version": "1.2.0",
            "_view_count": null,
            "flex_flow": null,
            "width": null,
            "min_width": null,
            "border": null,
            "align_items": null,
            "bottom": null,
            "_model_module": "@jupyter-widgets/base",
            "top": null,
            "grid_column": null,
            "overflow_y": null,
            "overflow_x": null,
            "grid_auto_flow": null,
            "grid_area": null,
            "grid_template_columns": null,
            "flex": null,
            "_model_name": "LayoutModel",
            "justify_items": null,
            "grid_row": null,
            "max_height": null,
            "align_content": null,
            "visibility": null,
            "align_self": null,
            "height": null,
            "min_height": null,
            "padding": null,
            "grid_auto_rows": null,
            "grid_gap": null,
            "max_width": null,
            "order": null,
            "_view_module_version": "1.2.0",
            "grid_template_areas": null,
            "object_position": null,
            "object_fit": null,
            "grid_auto_columns": null,
            "margin": null,
            "display": null,
            "left": null
          }
        },
        "fc2c24f98975440c83b5131950b948b4": {
          "model_module": "@jupyter-widgets/controls",
          "model_name": "ProgressStyleModel",
          "state": {
            "_view_name": "StyleView",
            "_model_name": "ProgressStyleModel",
            "description_width": "",
            "_view_module": "@jupyter-widgets/base",
            "_model_module_version": "1.5.0",
            "_view_count": null,
            "_view_module_version": "1.2.0",
            "bar_color": null,
            "_model_module": "@jupyter-widgets/controls"
          }
        },
        "8e4c7788666f4968b398b789614e5ebf": {
          "model_module": "@jupyter-widgets/base",
          "model_name": "LayoutModel",
          "state": {
            "_view_name": "LayoutView",
            "grid_template_rows": null,
            "right": null,
            "justify_content": null,
            "_view_module": "@jupyter-widgets/base",
            "overflow": null,
            "_model_module_version": "1.2.0",
            "_view_count": null,
            "flex_flow": null,
            "width": null,
            "min_width": null,
            "border": null,
            "align_items": null,
            "bottom": null,
            "_model_module": "@jupyter-widgets/base",
            "top": null,
            "grid_column": null,
            "overflow_y": null,
            "overflow_x": null,
            "grid_auto_flow": null,
            "grid_area": null,
            "grid_template_columns": null,
            "flex": null,
            "_model_name": "LayoutModel",
            "justify_items": null,
            "grid_row": null,
            "max_height": null,
            "align_content": null,
            "visibility": null,
            "align_self": null,
            "height": null,
            "min_height": null,
            "padding": null,
            "grid_auto_rows": null,
            "grid_gap": null,
            "max_width": null,
            "order": null,
            "_view_module_version": "1.2.0",
            "grid_template_areas": null,
            "object_position": null,
            "object_fit": null,
            "grid_auto_columns": null,
            "margin": null,
            "display": null,
            "left": null
          }
        }
      }
    }
  },
  "cells": [
    {
      "cell_type": "markdown",
      "metadata": {
        "id": "fGbYRRv2_1r6"
      },
      "source": [
        "# Text Classification with **MUSE Embeddings** and ***Bi-LSTM Network*** Keras\n",
        "En este notebook se descargan los muse embeddings y se implementa el modelo biLSTM para la clasificación de texto con su consecuente evaluación en otros idiomas.\n",
        "\n",
        "Se realizan 2 pruebas: \n",
        "1. Entrenamiento y evaluación del modelo con dato en inglés y posterior TEST con dato en otros idiomas (Zero-Shot básico)\n",
        "2. Entrenamiento con dato en ingles + idioma objetivo ( añadidos 1000 ejemplos del idioma objetivo para el entrenamiento), evaluación en inglés y TEST sobre el idioma objetivo. (Few-Shot)\n"
      ]
    },
    {
      "cell_type": "markdown",
      "metadata": {
        "id": "pD05MSravhM1"
      },
      "source": [
        "# Librerias"
      ]
    },
    {
      "cell_type": "code",
      "metadata": {
        "id": "-bhKsf46w6T4"
      },
      "source": [
        "import numpy as np\n",
        "import pandas as pd\n",
        "np.random.seed(0)\n",
        "import io\n",
        "import numpy as np\n",
        "from sklearn.decomposition import PCA\n",
        "import matplotlib.pyplot as plt"
      ],
      "execution_count": null,
      "outputs": []
    },
    {
      "cell_type": "code",
      "metadata": {
        "id": "qYke7UTPu9xf"
      },
      "source": [
        "%%capture\n",
        "!pip install keras\n",
        "np.random.seed(0)\n",
        "from keras.models import Model\n",
        "from keras.layers import Dense, Input, Dropout, LSTM, Activation\n",
        "from keras.layers.embeddings import Embedding\n",
        "from keras.preprocessing import sequence\n",
        "from keras.initializers import glorot_uniform\n",
        "import os\n",
        "import tensorflow as tf\n",
        "from tensorflow import keras\n",
        "from keras.optimizers import RMSprop, SGD, Adam, Nadam\n"
      ],
      "execution_count": null,
      "outputs": []
    },
    {
      "cell_type": "code",
      "metadata": {
        "id": "IBi4gWo7vPNH"
      },
      "source": [
        "from sklearn.metrics import confusion_matrix\n",
        "import seaborn as sns\n",
        "import pandas as pd\n",
        "import matplotlib.pyplot as plt\n",
        "from sklearn.metrics import classification_report\n",
        "# Need\n",
        "from keras.preprocessing.text import Tokenizer\n",
        "from keras.preprocessing.sequence import pad_sequences"
      ],
      "execution_count": null,
      "outputs": []
    },
    {
      "cell_type": "code",
      "metadata": {
        "id": "pDApcninvDYJ"
      },
      "source": [
        "%%capture\n",
        "!pip install wandb \n",
        "import wandb\n",
        "from wandb.keras import WandbCallback"
      ],
      "execution_count": null,
      "outputs": []
    },
    {
      "cell_type": "code",
      "metadata": {
        "colab": {
          "base_uri": "https://localhost:8080/"
        },
        "id": "7De9OL7RxBbA",
        "outputId": "b51b940f-8d4a-4121-9773-dc4659c543b8"
      },
      "source": [
        "from google.colab import drive\n",
        "drive.mount('/content/drive')"
      ],
      "execution_count": null,
      "outputs": [
        {
          "output_type": "stream",
          "text": [
            "Mounted at /content/drive\n"
          ],
          "name": "stdout"
        }
      ]
    },
    {
      "cell_type": "markdown",
      "metadata": {
        "id": "qNmaUJ8Bw6T-"
      },
      "source": [
        "# Carga Muse Embeddings English"
      ]
    },
    {
      "cell_type": "code",
      "metadata": {
        "id": "iLEhYY6Yw6T_"
      },
      "source": [
        "def read_muse_vecs(muse_file):\n",
        "        with open(muse_file, 'r',  errors='ignore', encoding=\"utf-8\") as f:\n",
        "            words = set()\n",
        "            word_to_vec_map = {}\n",
        "            for line in f:\n",
        "                line = line.strip().split()\n",
        "                curr_word_list = line[0: len(line) - 300]\n",
        "                curr_word = \"\"\n",
        "                for t in curr_word_list:\n",
        "                    curr_word = curr_word + str(t) + \" \"\n",
        "                curr_word = curr_word.strip()\n",
        "                words.add(curr_word)\n",
        "                try:\n",
        "                    word_to_vec_map[curr_word] = np.array(line[-300:], dtype=np.float64)\n",
        "                except:\n",
        "                    print(line, len(line))\n",
        "\n",
        "            i = 1\n",
        "            words_to_index = {}\n",
        "            index_to_words = {}\n",
        "\n",
        "            words.add(\"nokey\")\n",
        "            word_to_vec_map[\"nokey\"] = np.zeros((300,), dtype=np.float64)\n",
        "\n",
        "            for w in sorted(words):\n",
        "                words_to_index[w] = i\n",
        "                index_to_words[i] = w\n",
        "                i = i + 1\n",
        "        return words_to_index, index_to_words, word_to_vec_map"
      ],
      "execution_count": null,
      "outputs": []
    },
    {
      "cell_type": "code",
      "metadata": {
        "id": "YxHJEuj1w6T_"
      },
      "source": [
        "%%capture\n",
        "Pathjup = \"muse/data/wiki.en.vec\"\n",
        "Pathdrive = \"/content/drive/MyDrive/muse/data/wiki.multi.en.vec\"\n",
        "\n",
        "words_to_index, index_to_words, word_to_vec_map = read_muse_vecs(Pathdrive)"
      ],
      "execution_count": null,
      "outputs": []
    },
    {
      "cell_type": "code",
      "metadata": {
        "id": "L1Sy1s2Hw6UA"
      },
      "source": [
        "## Diccionario con word-embeddings(300)\n",
        "%%capture\n",
        "word_to_vec_map.keys()"
      ],
      "execution_count": null,
      "outputs": []
    },
    {
      "cell_type": "code",
      "metadata": {
        "colab": {
          "base_uri": "https://localhost:8080/"
        },
        "id": "70KybO03w6UB",
        "outputId": "d37acdcf-e383-4c93-df4f-d63c24cf52ed"
      },
      "source": [
        "# Tamaño del vocabulario de ingles\n",
        "len(words_to_index)"
      ],
      "execution_count": null,
      "outputs": [
        {
          "output_type": "execute_result",
          "data": {
            "text/plain": [
              "199989"
            ]
          },
          "metadata": {
            "tags": []
          },
          "execution_count": 9
        }
      ]
    },
    {
      "cell_type": "code",
      "metadata": {
        "id": "pqEo5qaKw6UB",
        "colab": {
          "base_uri": "https://localhost:8080/"
        },
        "outputId": "a92dac30-0159-4af6-9347-706f8a5c4d8e"
      },
      "source": [
        "# Embeddings palabra \"no\"\n",
        "len(word_to_vec_map[\"no\"]) "
      ],
      "execution_count": null,
      "outputs": [
        {
          "output_type": "execute_result",
          "data": {
            "text/plain": [
              "300"
            ]
          },
          "metadata": {
            "tags": []
          },
          "execution_count": 10
        }
      ]
    },
    {
      "cell_type": "markdown",
      "metadata": {
        "id": "gPZufZFTSY47"
      },
      "source": [
        "####Visualize MUSE"
      ]
    },
    {
      "cell_type": "code",
      "metadata": {
        "id": "JaY7GQ6dQ9Ji"
      },
      "source": [
        "def load_vec(emb_path, nmax=50000):\n",
        "    vectors = []\n",
        "    word2id = {}\n",
        "    with io.open(emb_path, 'r', encoding='utf-8', newline='\\n', errors='ignore') as f:\n",
        "        next(f)\n",
        "        for i, line in enumerate(f):\n",
        "            word, vect = line.rstrip().split(' ', 1)\n",
        "            vect = np.fromstring(vect, sep=' ')\n",
        "            assert word not in word2id, 'word found twice'\n",
        "            vectors.append(vect)\n",
        "            word2id[word] = len(word2id)\n",
        "            if len(word2id) == nmax:\n",
        "                break\n",
        "    id2word = {v: k for k, v in word2id.items()}\n",
        "    embeddings = np.vstack(vectors)\n",
        "    return embeddings, id2word, word2id"
      ],
      "execution_count": null,
      "outputs": []
    },
    {
      "cell_type": "code",
      "metadata": {
        "id": "nLIgCfQCRCfi"
      },
      "source": [
        "src_path = \"/content/drive/MyDrive/muse/data/wiki.multi.en.vec\"\n",
        "tgt_path = \"/content/drive/MyDrive/muse/data/wiki.multi.de.vec\"\n",
        "nmax = 50000  # maximum number of word embeddings to load\n",
        "\n",
        "src_embeddings, src_id2word, src_word2id = load_vec(src_path, nmax)\n",
        "tgt_embeddings, tgt_id2word, tgt_word2id = load_vec(tgt_path, nmax)"
      ],
      "execution_count": null,
      "outputs": []
    },
    {
      "cell_type": "code",
      "metadata": {
        "id": "bdDIxhbIRFB2"
      },
      "source": [
        "def get_nn(word, src_emb, src_id2word, tgt_emb, tgt_id2word, K=5):\n",
        "    print(\"Nearest neighbors of \\\"%s\\\":\" % word)\n",
        "    word2id = {v: k for k, v in src_id2word.items()}\n",
        "    word_emb = src_emb[word2id[word]]\n",
        "    scores = (tgt_emb / np.linalg.norm(tgt_emb, 2, 1)[:, None]).dot(word_emb / np.linalg.norm(word_emb))\n",
        "    k_best = scores.argsort()[-K:][::-1]\n",
        "    for i, idx in enumerate(k_best):\n",
        "        print('%.4f - %s' % (scores[idx], tgt_id2word[idx]))"
      ],
      "execution_count": null,
      "outputs": []
    },
    {
      "cell_type": "code",
      "metadata": {
        "colab": {
          "base_uri": "https://localhost:8080/"
        },
        "id": "Lsy7vK9PRFsL",
        "outputId": "faab67b6-d729-4356-ace7-ac3239f1e501"
      },
      "source": [
        "# printing nearest neighbors in the source space\n",
        "src_word = 'cat'\n",
        "get_nn(src_word, src_embeddings, src_id2word, src_embeddings, src_id2word, K=5)"
      ],
      "execution_count": null,
      "outputs": [
        {
          "output_type": "stream",
          "text": [
            "Nearest neighbors of \"cat\":\n",
            "1.0000 - cat\n",
            "0.7322 - cats\n",
            "0.6453 - kitten\n",
            "0.6381 - dog\n",
            "0.6218 - kittens\n"
          ],
          "name": "stdout"
        }
      ]
    },
    {
      "cell_type": "code",
      "metadata": {
        "colab": {
          "base_uri": "https://localhost:8080/"
        },
        "id": "MVxRAbrZRZEw",
        "outputId": "4fab6c74-a11f-42a0-829a-1ca565143014"
      },
      "source": [
        "# printing nearest neighbors in the target space\n",
        "src_word = 'cat'\n",
        "get_nn(src_word, src_embeddings, src_id2word, tgt_embeddings, tgt_id2word, K=5)"
      ],
      "execution_count": null,
      "outputs": [
        {
          "output_type": "stream",
          "text": [
            "Nearest neighbors of \"cat\":\n",
            "0.6035 - katze\n",
            "0.5583 - hund\n",
            "0.5309 - cat\n",
            "0.5161 - haustier\n",
            "0.5131 - katzen\n"
          ],
          "name": "stdout"
        }
      ]
    },
    {
      "cell_type": "code",
      "metadata": {
        "colab": {
          "base_uri": "https://localhost:8080/"
        },
        "id": "OYy-gu3NRfRO",
        "outputId": "c499a43e-b5e4-4480-ac49-0c376ccc6f7d"
      },
      "source": [
        "from sklearn.decomposition import PCA\n",
        "pca = PCA(n_components=2, whiten=True)  # TSNE(n_components=2, n_iter=3000, verbose=2)\n",
        "pca.fit(np.vstack([src_embeddings, tgt_embeddings]))\n",
        "print('Variance explained: %.2f' % pca.explained_variance_ratio_.sum())"
      ],
      "execution_count": null,
      "outputs": [
        {
          "output_type": "stream",
          "text": [
            "Variance explained: 0.06\n"
          ],
          "name": "stdout"
        }
      ]
    },
    {
      "cell_type": "code",
      "metadata": {
        "id": "hUyeKopYRfsu"
      },
      "source": [
        "import matplotlib.pyplot as plt\n",
        "\n",
        "\n",
        "def plot_similar_word(src_words, src_word2id, src_emb, tgt_words, tgt_word2id, tgt_emb, pca):\n",
        "\n",
        "    Y = []\n",
        "    word_labels = []\n",
        "    for sw in src_words:\n",
        "        Y.append(src_emb[src_word2id[sw]])\n",
        "        word_labels.append(sw)\n",
        "    for tw in tgt_words:\n",
        "        Y.append(tgt_emb[tgt_word2id[tw]])\n",
        "        word_labels.append(tw)\n",
        "\n",
        "    # find tsne coords for 2 dimensions\n",
        "    Y = pca.transform(Y)\n",
        "    x_coords = Y[:, 0]\n",
        "    y_coords = Y[:, 1]\n",
        "\n",
        "    # display scatter plot\n",
        "    plt.figure(figsize=(10, 8), dpi=80)\n",
        "    plt.scatter(x_coords, y_coords, marker='x')\n",
        "\n",
        "    for k, (label, x, y) in enumerate(zip(word_labels, x_coords, y_coords)):\n",
        "        color = 'blue' if k < len(src_words) else 'red'  # src words in blue / tgt words in red\n",
        "        plt.annotate(label, xy=(x, y), xytext=(0, 0), textcoords='offset points', fontsize=19,\n",
        "                     color=color, weight='bold')\n",
        "\n",
        "    plt.xlim(x_coords.min() - 0.2, x_coords.max() + 0.2)\n",
        "    plt.ylim(y_coords.min() - 0.2, y_coords.max() + 0.2)\n",
        "    plt.title('Visualization of the multilingual word embedding space')\n",
        "\n",
        "    plt.show()"
      ],
      "execution_count": null,
      "outputs": []
    },
    {
      "cell_type": "code",
      "metadata": {
        "colab": {
          "base_uri": "https://localhost:8080/"
        },
        "id": "Sjpl4Zu3Rnii",
        "outputId": "5918058f-9b5d-4f34-ca06-18e7594427be"
      },
      "source": [
        "# get 5 random input words\n",
        "src_words = ['university', 'love', 'history', 'tennis', 'research', 'conference']\n",
        "#src_words = ['université', 'amour', 'histoire', 'tennis', 'rechercher', 'conférence']\n",
        "tgt_words = ['universität', 'liebe', 'geschichte', u'tennis',  u'forschung', 'konferenz']\n",
        "#tgt_words = ['universidad', 'amor', 'historia', u'tenis',  u'investigación', 'conferencia']\n",
        "\n",
        "# assert words in dictionaries\n",
        "for sw in src_words:\n",
        "    assert sw in src_word2id, '\"%s\" not in source dictionary' % sw\n",
        "for tw in tgt_words:\n",
        "    assert tw in tgt_word2id, '\"%s\" not in target dictionary' % sw\n",
        "\n",
        "plot_similar_word(src_words, src_word2id, src_embeddings, tgt_words, tgt_word2id, tgt_embeddings, pca)"
      ],
      "execution_count": null,
      "outputs": [
        {
          "output_type": "display_data",
          "data": {
            "image/png": "[encoded data removed]",
            "text/plain": [
              "<Figure size 800x640 with 1 Axes>"
            ]
          },
          "metadata": {
            "tags": [],
            "needs_background": "light"
          }
        }
      ]
    },
    {
      "cell_type": "code",
      "metadata": {
        "id": "iugYuv9RRyxp"
      },
      "source": [
        ""
      ],
      "execution_count": null,
      "outputs": []
    },
    {
      "cell_type": "markdown",
      "metadata": {
        "id": "fcRk62tJTAtm"
      },
      "source": [
        "# Carga del dato textual"
      ]
    },
    {
      "cell_type": "markdown",
      "metadata": {
        "id": "gmxNxHBnw6UB"
      },
      "source": [
        "## Load Amazon Dataset English"
      ]
    },
    {
      "cell_type": "code",
      "metadata": {
        "id": "z9IcVHdQw6UC"
      },
      "source": [
        "path1 = \"/content/drive/MyDrive/TFG/Datasets_procesados_2/train/amazonEN_train.csv\"\n",
        "path2 = \"/content/drive/MyDrive/TFG/Datasets_procesados_2/valid/amazonEN_valid.csv\"\n",
        "path3 = \"/content/drive/MyDrive/TFG/Datasets_procesados_2/test/amazonEN_test.csv\""
      ],
      "execution_count": null,
      "outputs": []
    },
    {
      "cell_type": "code",
      "metadata": {
        "id": "XOr7NrLDw6UC"
      },
      "source": [
        "df_train = pd.read_csv(path1)\n",
        "df_valid = pd.read_csv(path2)\n",
        "df_test = pd.read_csv(path3)"
      ],
      "execution_count": null,
      "outputs": []
    },
    {
      "cell_type": "code",
      "metadata": {
        "colab": {
          "base_uri": "https://localhost:8080/"
        },
        "id": "9ji0lk9aqmF2",
        "outputId": "bb6d7643-49e1-4cfd-ffc9-5b769fb746d8"
      },
      "source": [
        "df_train.head(1)"
      ],
      "execution_count": null,
      "outputs": [
        {
          "output_type": "execute_result",
          "data": {
            "text/html": [
              "<div>\n",
              "<style scoped>\n",
              "    .dataframe tbody tr th:only-of-type {\n",
              "        vertical-align: middle;\n",
              "    }\n",
              "\n",
              "    .dataframe tbody tr th {\n",
              "        vertical-align: top;\n",
              "    }\n",
              "\n",
              "    .dataframe thead th {\n",
              "        text-align: right;\n",
              "    }\n",
              "</style>\n",
              "<table border=\"1\" class=\"dataframe\">\n",
              "  <thead>\n",
              "    <tr style=\"text-align: right;\">\n",
              "      <th></th>\n",
              "      <th>review_id</th>\n",
              "      <th>product_id</th>\n",
              "      <th>reviewer_id</th>\n",
              "      <th>star_rating</th>\n",
              "      <th>review_body</th>\n",
              "      <th>review_title</th>\n",
              "      <th>language</th>\n",
              "      <th>product_category</th>\n",
              "      <th>text_title</th>\n",
              "      <th>text_title_cat</th>\n",
              "      <th>text_cat</th>\n",
              "      <th>product_category_cod</th>\n",
              "    </tr>\n",
              "  </thead>\n",
              "  <tbody>\n",
              "    <tr>\n",
              "      <th>0</th>\n",
              "      <td>en_0522546</td>\n",
              "      <td>product_en_0681589</td>\n",
              "      <td>reviewer_en_0687817</td>\n",
              "      <td>2</td>\n",
              "      <td>Not strong enough to run a small 120v vacuum c...</td>\n",
              "      <td>Not strong enough to run a small 120v vacuum c...</td>\n",
              "      <td>en</td>\n",
              "      <td>lawn_and_garden</td>\n",
              "      <td>Not strong enough to run a small 120v vacuum c...</td>\n",
              "      <td>Not strong enough to run a small 120v vacuum c...</td>\n",
              "      <td>Not strong enough to run a small 120v vacuum c...</td>\n",
              "      <td>17</td>\n",
              "    </tr>\n",
              "  </tbody>\n",
              "</table>\n",
              "</div>"
            ],
            "text/plain": [
              "    review_id  ... product_category_cod\n",
              "0  en_0522546  ...                   17\n",
              "\n",
              "[1 rows x 12 columns]"
            ]
          },
          "metadata": {
            "tags": []
          },
          "execution_count": 21
        }
      ]
    },
    {
      "cell_type": "markdown",
      "metadata": {
        "id": "G9ynH4-5-TAw"
      },
      "source": [
        "## Load FEW-ONE Shot Training Dataset"
      ]
    },
    {
      "cell_type": "code",
      "metadata": {
        "id": "1HDzeULM-RFj"
      },
      "source": [
        "path11 = \"/content/drive/MyDrive/TFG/Datasets_procesados_2/few_shot/few_shot_ES.csv\" ## incluye 1000 ejemplos en español dentro del training data\n",
        "path22 = \"/content/drive/MyDrive/TFG/Datasets_procesados_2/valid/amazonEN_valid.csv\"\n",
        "path33 = \"/content/drive/MyDrive/TFG/Datasets_procesados_2/test/amazonEN_test.csv\""
      ],
      "execution_count": null,
      "outputs": []
    },
    {
      "cell_type": "code",
      "metadata": {
        "id": "DZEz6S_k-18L"
      },
      "source": [
        "df_train = pd.read_csv(path11)\n",
        "df_valid = pd.read_csv(path22)\n",
        "df_test = pd.read_csv(path33)"
      ],
      "execution_count": null,
      "outputs": []
    },
    {
      "cell_type": "code",
      "metadata": {
        "id": "D46Fndfw-5_O",
        "colab": {
          "base_uri": "https://localhost:8080/"
        },
        "outputId": "3d5a2adc-5598-4819-edc2-968d0daad277"
      },
      "source": [
        "df_train.head(-10)"
      ],
      "execution_count": null,
      "outputs": [
        {
          "output_type": "execute_result",
          "data": {
            "text/html": [
              "<div>\n",
              "<style scoped>\n",
              "    .dataframe tbody tr th:only-of-type {\n",
              "        vertical-align: middle;\n",
              "    }\n",
              "\n",
              "    .dataframe tbody tr th {\n",
              "        vertical-align: top;\n",
              "    }\n",
              "\n",
              "    .dataframe thead th {\n",
              "        text-align: right;\n",
              "    }\n",
              "</style>\n",
              "<table border=\"1\" class=\"dataframe\">\n",
              "  <thead>\n",
              "    <tr style=\"text-align: right;\">\n",
              "      <th></th>\n",
              "      <th>review_id</th>\n",
              "      <th>product_id</th>\n",
              "      <th>reviewer_id</th>\n",
              "      <th>star_rating</th>\n",
              "      <th>review_body</th>\n",
              "      <th>review_title</th>\n",
              "      <th>language</th>\n",
              "      <th>product_category</th>\n",
              "      <th>text_title</th>\n",
              "      <th>text_title_cat</th>\n",
              "      <th>text_cat</th>\n",
              "      <th>product_category_cod</th>\n",
              "    </tr>\n",
              "  </thead>\n",
              "  <tbody>\n",
              "    <tr>\n",
              "      <th>0</th>\n",
              "      <td>en_0522546</td>\n",
              "      <td>product_en_0681589</td>\n",
              "      <td>reviewer_en_0687817</td>\n",
              "      <td>2</td>\n",
              "      <td>Not strong enough to run a small 120v vacuum c...</td>\n",
              "      <td>Not strong enough to run a small 120v vacuum c...</td>\n",
              "      <td>en</td>\n",
              "      <td>lawn_and_garden</td>\n",
              "      <td>Not strong enough to run a small 120v vacuum c...</td>\n",
              "      <td>Not strong enough to run a small 120v vacuum c...</td>\n",
              "      <td>Not strong enough to run a small 120v vacuum c...</td>\n",
              "      <td>17</td>\n",
              "    </tr>\n",
              "    <tr>\n",
              "      <th>1</th>\n",
              "      <td>en_0612910</td>\n",
              "      <td>product_en_0295449</td>\n",
              "      <td>reviewer_en_0312138</td>\n",
              "      <td>1</td>\n",
              "      <td>The leg openings are a little small, but other...</td>\n",
              "      <td>Crap</td>\n",
              "      <td>en</td>\n",
              "      <td>apparel</td>\n",
              "      <td>Crap The leg openings are a little small, but ...</td>\n",
              "      <td>Crap The leg openings are a little small, but ...</td>\n",
              "      <td>The leg openings are a little small, but other...</td>\n",
              "      <td>0</td>\n",
              "    </tr>\n",
              "    <tr>\n",
              "      <th>2</th>\n",
              "      <td>en_0983065</td>\n",
              "      <td>product_en_0295095</td>\n",
              "      <td>reviewer_en_0927618</td>\n",
              "      <td>3</td>\n",
              "      <td>Really cute mug. I would have given 5 stars if...</td>\n",
              "      <td>Four Stars</td>\n",
              "      <td>en</td>\n",
              "      <td>kitchen</td>\n",
              "      <td>Four Stars Really cute mug. I would have given...</td>\n",
              "      <td>Four Stars Really cute mug. I would have given...</td>\n",
              "      <td>Really cute mug. I would have given 5 stars if...</td>\n",
              "      <td>16</td>\n",
              "    </tr>\n",
              "    <tr>\n",
              "      <th>3</th>\n",
              "      <td>en_0206761</td>\n",
              "      <td>product_en_0563487</td>\n",
              "      <td>reviewer_en_0936741</td>\n",
              "      <td>1</td>\n",
              "      <td>Well it’s looks and feels okay but it most cer...</td>\n",
              "      <td>Lies!!</td>\n",
              "      <td>en</td>\n",
              "      <td>industrial_supplies</td>\n",
              "      <td>Lies!! Well it’s looks and feels okay but it m...</td>\n",
              "      <td>Lies!! Well it’s looks and feels okay but it m...</td>\n",
              "      <td>Well it’s looks and feels okay but it most cer...</td>\n",
              "      <td>14</td>\n",
              "    </tr>\n",
              "    <tr>\n",
              "      <th>4</th>\n",
              "      <td>en_0510474</td>\n",
              "      <td>product_en_0704805</td>\n",
              "      <td>reviewer_en_0417600</td>\n",
              "      <td>0</td>\n",
              "      <td>Very, very thin, you can bend them with you fi...</td>\n",
              "      <td>Thin and bendable :(</td>\n",
              "      <td>en</td>\n",
              "      <td>pet_products</td>\n",
              "      <td>Thin and bendable :( Very, very thin, you can ...</td>\n",
              "      <td>Thin and bendable :( Very, very thin, you can ...</td>\n",
              "      <td>Very, very thin, you can bend them with you fi...</td>\n",
              "      <td>24</td>\n",
              "    </tr>\n",
              "    <tr>\n",
              "      <th>...</th>\n",
              "      <td>...</td>\n",
              "      <td>...</td>\n",
              "      <td>...</td>\n",
              "      <td>...</td>\n",
              "      <td>...</td>\n",
              "      <td>...</td>\n",
              "      <td>...</td>\n",
              "      <td>...</td>\n",
              "      <td>...</td>\n",
              "      <td>...</td>\n",
              "      <td>...</td>\n",
              "      <td>...</td>\n",
              "    </tr>\n",
              "    <tr>\n",
              "      <th>200985</th>\n",
              "      <td>es_0210704</td>\n",
              "      <td>product_es_0624579</td>\n",
              "      <td>reviewer_es_0666394</td>\n",
              "      <td>3</td>\n",
              "      <td>Bastante bueno, se acopla bien.</td>\n",
              "      <td>La movilidad</td>\n",
              "      <td>es</td>\n",
              "      <td>sports</td>\n",
              "      <td>La movilidad Bastante bueno, se acopla bien.</td>\n",
              "      <td>La movilidad Bastante bueno, se acopla bien. s...</td>\n",
              "      <td>Bastante bueno, se acopla bien. sports</td>\n",
              "      <td>25</td>\n",
              "    </tr>\n",
              "    <tr>\n",
              "      <th>200986</th>\n",
              "      <td>es_0197898</td>\n",
              "      <td>product_es_0236309</td>\n",
              "      <td>reviewer_es_0227148</td>\n",
              "      <td>3</td>\n",
              "      <td>Justo lo que esperaba. Lo quería para mi hija ...</td>\n",
              "      <td>Muy buena compra</td>\n",
              "      <td>es</td>\n",
              "      <td>book</td>\n",
              "      <td>Muy buena compra Justo lo que esperaba. Lo que...</td>\n",
              "      <td>Muy buena compra Justo lo que esperaba. Lo que...</td>\n",
              "      <td>Justo lo que esperaba. Lo quería para mi hija ...</td>\n",
              "      <td>4</td>\n",
              "    </tr>\n",
              "    <tr>\n",
              "      <th>200987</th>\n",
              "      <td>es_0458856</td>\n",
              "      <td>product_es_0988450</td>\n",
              "      <td>reviewer_es_0225536</td>\n",
              "      <td>1</td>\n",
              "      <td>Se escuchan muy bien pero tienen un problema g...</td>\n",
              "      <td>Mal diseñados</td>\n",
              "      <td>es</td>\n",
              "      <td>wireless</td>\n",
              "      <td>Mal diseñados Se escuchan muy bien pero tienen...</td>\n",
              "      <td>Mal diseñados Se escuchan muy bien pero tienen...</td>\n",
              "      <td>Se escuchan muy bien pero tienen un problema g...</td>\n",
              "      <td>29</td>\n",
              "    </tr>\n",
              "    <tr>\n",
              "      <th>200988</th>\n",
              "      <td>es_0096701</td>\n",
              "      <td>product_es_0054928</td>\n",
              "      <td>reviewer_es_0976333</td>\n",
              "      <td>2</td>\n",
              "      <td>Las instrucciones no estan bien detalladas, pe...</td>\n",
              "      <td>Mansión Gatuna</td>\n",
              "      <td>es</td>\n",
              "      <td>pet_products</td>\n",
              "      <td>Mansión Gatuna Las instrucciones no estan bien...</td>\n",
              "      <td>Mansión Gatuna Las instrucciones no estan bien...</td>\n",
              "      <td>Las instrucciones no estan bien detalladas, pe...</td>\n",
              "      <td>23</td>\n",
              "    </tr>\n",
              "    <tr>\n",
              "      <th>200989</th>\n",
              "      <td>es_0667777</td>\n",
              "      <td>product_es_0249162</td>\n",
              "      <td>reviewer_es_0772594</td>\n",
              "      <td>2</td>\n",
              "      <td>Los que he comprado no me aguantan demasiado t...</td>\n",
              "      <td>Se despegan</td>\n",
              "      <td>es</td>\n",
              "      <td>wireless</td>\n",
              "      <td>Se despegan Los que he comprado no me aguantan...</td>\n",
              "      <td>Se despegan Los que he comprado no me aguantan...</td>\n",
              "      <td>Los que he comprado no me aguantan demasiado t...</td>\n",
              "      <td>29</td>\n",
              "    </tr>\n",
              "  </tbody>\n",
              "</table>\n",
              "<p>200990 rows × 12 columns</p>\n",
              "</div>"
            ],
            "text/plain": [
              "         review_id  ... product_category_cod\n",
              "0       en_0522546  ...                   17\n",
              "1       en_0612910  ...                    0\n",
              "2       en_0983065  ...                   16\n",
              "3       en_0206761  ...                   14\n",
              "4       en_0510474  ...                   24\n",
              "...            ...  ...                  ...\n",
              "200985  es_0210704  ...                   25\n",
              "200986  es_0197898  ...                    4\n",
              "200987  es_0458856  ...                   29\n",
              "200988  es_0096701  ...                   23\n",
              "200989  es_0667777  ...                   29\n",
              "\n",
              "[200990 rows x 12 columns]"
            ]
          },
          "metadata": {
            "tags": []
          },
          "execution_count": 24
        }
      ]
    },
    {
      "cell_type": "markdown",
      "metadata": {
        "id": "C8HzT7fXujUT"
      },
      "source": [
        "# Pre - procesado del dato textual"
      ]
    },
    {
      "cell_type": "code",
      "metadata": {
        "id": "ozyoZNrHq9fP"
      },
      "source": [
        "## Función para tokenizar, codificar y realizar el padding sobre las reviews \n",
        "\n",
        "def preprocess(X_train,X_val,X_test,y_train,y_val,y_test):\n",
        " \n",
        "  ## Tokenize reviews\n",
        "  X_data_full = pd.concat([X_train, X_val, X_test],ignore_index=True)\n",
        "  t= Tokenizer()\n",
        "  t.fit_on_texts(X_data_full)\n",
        "  vocab_size = len(t.word_index)+1\n",
        "  max_length = 260\n",
        "\n",
        "  # Cod and pad reviews\n",
        "  encoded_rev = t.texts_to_sequences(X_train)\n",
        "  padded_rev = pad_sequences(encoded_rev,maxlen=max_length,padding= 'post')\n",
        "\n",
        "  encoded_rev_val = t.texts_to_sequences(X_val)\n",
        "  padded_rev_val = pad_sequences(encoded_rev_val,maxlen=max_length,padding= 'post')\n",
        "\n",
        "  encoded_rev_test = t.texts_to_sequences(X_test)\n",
        "  padded_rev_test = pad_sequences(encoded_rev_test,maxlen=max_length,padding= 'post')\n",
        "\n",
        "  return t, vocab_size, padded_rev, padded_rev_val, padded_rev_test"
      ],
      "execution_count": null,
      "outputs": []
    },
    {
      "cell_type": "markdown",
      "metadata": {
        "id": "yWXfFBzoS29l"
      },
      "source": [
        "# Modelos de clasificación"
      ]
    },
    {
      "cell_type": "markdown",
      "metadata": {
        "id": "rm_3selGPYa1"
      },
      "source": [
        "## Rating Classification "
      ]
    },
    {
      "cell_type": "code",
      "metadata": {
        "id": "i-_Y3ZwsPWYJ"
      },
      "source": [
        "X_train = df_train['review_body']\n",
        "X_val= df_valid['review_body']\n",
        "X_test= df_test['review_body']\n",
        "\n",
        "#X_train = df_train['text_title']\n",
        "#X_val= df_valid['text_title']\n",
        "#X_test= df_test['text_title']\n",
        "\n",
        "#X_train = df_train['text_title_cat']\n",
        "#X_val= df_valid['text_title_cat']\n",
        "#X_test= df_test['text_title_cat']\n",
        "\n",
        "\n",
        "\n",
        "y_train = df_train['star_rating']\n",
        "y_val = df_valid['star_rating']\n",
        "y_test= df_test['star_rating']\n",
        "\n",
        "# Aplicamos pre-procesado \n",
        "t,vocab_size, padded_rev, padded_rev_val, padded_rev_test = preprocess(X_train,X_val,X_test,y_train,y_val,y_test)"
      ],
      "execution_count": null,
      "outputs": []
    },
    {
      "cell_type": "code",
      "metadata": {
        "id": "j236275qPrbJ"
      },
      "source": [
        "# Creamos matriz de embeddings a partir del vocab de las review_body y los embeddings MUSE,  FULL\n",
        "from numpy import zeros\n",
        "embedding_matrix = zeros((vocab_size,300))\n",
        "for word, i in t.word_index.items():\n",
        "  embedding_vector = word_to_vec_map.get(word)\n",
        "  if embedding_vector is not None:\n",
        "    embedding_matrix[i] = embedding_vector"
      ],
      "execution_count": null,
      "outputs": []
    },
    {
      "cell_type": "code",
      "metadata": {
        "id": "e3ywTIlNPvPJ",
        "colab": {
          "base_uri": "https://localhost:8080/"
        },
        "outputId": "b752afe2-5dab-4bf0-fee4-3a0525b45779"
      },
      "source": [
        "embedding_matrix.shape"
      ],
      "execution_count": null,
      "outputs": [
        {
          "output_type": "execute_result",
          "data": {
            "text/plain": [
              "(47071, 300)"
            ]
          },
          "metadata": {
            "tags": []
          },
          "execution_count": 25
        }
      ]
    },
    {
      "cell_type": "code",
      "metadata": {
        "id": "1no5UAl9Pwzh",
        "colab": {
          "base_uri": "https://localhost:8080/",
          "height": 115
        },
        "outputId": "650f06af-f622-4540-c131-45c9560788bb"
      },
      "source": [
        "# Initialize wandb with your project name \n",
        "run = wandb.init(project='MUSE',\n",
        "                 group = 'Rating classification', #para agrupar los runs dentro del frontend\n",
        "                 config={  # and include hyperparameters and metadata\n",
        "                     \"learning_rate\": 0.001,\n",
        "                     \"epochs\": 5,\n",
        "                     \"batch_size\": 64,\n",
        "                     \"loss_function\": \"sparse_categorical_crossentropy\",\n",
        "                     \"architecture\": \"BiLSTM\"\n",
        "                 })\n",
        "config = wandb.config  # We'll use this to configure our experiment"
      ],
      "execution_count": null,
      "outputs": [
        {
          "output_type": "display_data",
          "data": {
            "text/html": [
              "\n",
              "                Tracking run with wandb version 0.10.24<br/>\n",
              "                Syncing run <strong style=\"color:#cdcd00\">curious-dream-9</strong> to <a href=\"https://wandb.ai\" target=\"_blank\">Weights & Biases</a> <a href=\"https://docs.wandb.com/integrations/jupyter.html\" target=\"_blank\">(Documentation)</a>.<br/>\n",
              "                Project page: <a href=\"https://wandb.ai/lucialarraona/MUSE\" target=\"_blank\">https://wandb.ai/lucialarraona/MUSE</a><br/>\n",
              "                Run page: <a href=\"https://wandb.ai/lucialarraona/MUSE/runs/1y0sxsqs\" target=\"_blank\">https://wandb.ai/lucialarraona/MUSE/runs/1y0sxsqs</a><br/>\n",
              "                Run data is saved locally in <code>/content/wandb/run-20210401_104931-1y0sxsqs</code><br/><br/>\n",
              "            "
            ],
            "text/plain": [
              "<IPython.core.display.HTML object>"
            ]
          },
          "metadata": {
            "tags": []
          }
        }
      ]
    },
    {
      "cell_type": "code",
      "metadata": {
        "id": "ibex0HAeQQ0U"
      },
      "source": [
        "#Modelo mejorado bi-lstm\n",
        "from keras.models import Sequential\n",
        "from tensorflow.keras import layers\n",
        "from tensorflow.keras.layers import Embedding\n",
        "from keras.layers import Bidirectional\n",
        "from keras.layers import Flatten\n",
        "from keras.layers import Dense\n",
        "from keras.layers import GlobalMaxPool1D\n",
        "from keras.layers import GRU\n",
        "#from attention import Attention\n",
        "\n",
        "# MODEL ARCHITECTURE\n",
        "modelbi = Sequential()\n",
        "embed = Embedding(vocab_size,300,weights = [embedding_matrix], input_length=260,trainable=False)\n",
        "modelbi.add(embed)\n",
        "modelbi.add(Bidirectional(LSTM(128,return_sequences=True)))\n",
        "modelbi.add(GlobalMaxPool1D())\n",
        "modelbi.add(Dropout(0.4))\n",
        "modelbi.add(Dense(1000,activation='relu'))\n",
        "modelbi.add(Dense(5,activation='softmax'))"
      ],
      "execution_count": null,
      "outputs": []
    },
    {
      "cell_type": "code",
      "metadata": {
        "id": "aZBpU9YfQwZa",
        "colab": {
          "base_uri": "https://localhost:8080/",
          "height": 753
        },
        "outputId": "d7d885e3-42f0-4f2e-f0f6-7bf53bf257cb"
      },
      "source": [
        "from keras.utils import plot_model\n",
        "plot_model(modelbi, '/content/drive/MyDrive/TFG/model_arq/MUSE.png', show_shapes=True)"
      ],
      "execution_count": null,
      "outputs": [
        {
          "output_type": "execute_result",
          "data": {
            "image/png": "[encoded data removed]",
            "text/plain": [
              "<IPython.core.display.Image object>"
            ]
          },
          "metadata": {
            "tags": []
          },
          "execution_count": 68
        }
      ]
    },
    {
      "cell_type": "code",
      "metadata": {
        "id": "Elz1ydbfQZIw",
        "colab": {
          "base_uri": "https://localhost:8080/"
        },
        "outputId": "34dcdfea-8d39-4e6f-ee07-a657f64c94e6"
      },
      "source": [
        "modelbi.summary()\n",
        "modelbi.compile(loss=config.loss_function, optimizer=Adam(lr=config.learning_rate), metrics=['accuracy'])"
      ],
      "execution_count": null,
      "outputs": [
        {
          "output_type": "stream",
          "text": [
            "Model: \"sequential_2\"\n",
            "_________________________________________________________________\n",
            "Layer (type)                 Output Shape              Param #   \n",
            "=================================================================\n",
            "embedding_2 (Embedding)      (None, 260, 300)          14604300  \n",
            "_________________________________________________________________\n",
            "bidirectional_2 (Bidirection (None, 260, 256)          439296    \n",
            "_________________________________________________________________\n",
            "global_max_pooling1d_2 (Glob (None, 256)               0         \n",
            "_________________________________________________________________\n",
            "dropout_2 (Dropout)          (None, 256)               0         \n",
            "_________________________________________________________________\n",
            "dense_4 (Dense)              (None, 1000)              257000    \n",
            "_________________________________________________________________\n",
            "dense_5 (Dense)              (None, 5)                 5005      \n",
            "=================================================================\n",
            "Total params: 15,305,601\n",
            "Trainable params: 701,301\n",
            "Non-trainable params: 14,604,300\n",
            "_________________________________________________________________\n"
          ],
          "name": "stdout"
        }
      ]
    },
    {
      "cell_type": "code",
      "metadata": {
        "id": "NTc8HnHN5fQI"
      },
      "source": [
        "## Model with Learning Rate Scheduler \n",
        "\n",
        "#1st approach (Time based (ya implementado por keras en los optimizadores))\n",
        "decay_rate = config.learning_rate / config.epochs\n",
        "momentum = 0.8\n",
        "modelbi.compile(loss=config.loss_function, optimizer=Adam(lr=config.learning_rate, decay=decay_rate), metrics=['accuracy'])"
      ],
      "execution_count": null,
      "outputs": []
    },
    {
      "cell_type": "code",
      "metadata": {
        "id": "fXEY9Ivz_mk7"
      },
      "source": [
        "#2nd approach (Drop based Learning Rate) systematically drop the learning rate at specific times during training.\n",
        "# Utilizamos un callback llamado LearningRate Scheduler y lo introducimos en el model fit. Mediante la función step_decay definimos como queremos que se realice esa logica de descenso\n",
        "\n",
        "from keras.callbacks import LearningRateScheduler\n",
        "import math\n",
        "# learning rate schedule\n",
        "def step_decay(epoch):\n",
        "\tinitial_lrate = 0.001\n",
        "\tdrop = 0.05\n",
        "\tepochs_drop = 2.0\n",
        "\tlrate = initial_lrate * math.pow(drop, math.floor((1+epoch)/epochs_drop))\n",
        "\treturn lrate\n",
        "\n",
        "# callback a introducir en fit\n",
        "lrate = LearningRateScheduler(step_decay)\n",
        "\n",
        "modelbi.compile(loss=config.loss_function, optimizer=Adam(lr=0.0), metrics=['accuracy'])\n"
      ],
      "execution_count": null,
      "outputs": []
    },
    {
      "cell_type": "code",
      "metadata": {
        "id": "2Kk9W7IbQclG",
        "colab": {
          "base_uri": "https://localhost:8080/",
          "height": 756,
          "referenced_widgets": [
            "5ea4421953fe46589f97b6ec199c9b1e",
            "6e2841b97a6d4be4a0093fe2f2a73d96",
            "d3b38f709b42445c8cb9b6ed1a40d86e",
            "6bdb32609e6642ce83139b4bc5f7033f",
            "194c07c51d9141ff9531a6c18bedc666",
            "833daa3b33e94ceca0aa0082004462b4",
            "030eb0d63b3c4138a9b10d86eaf11820",
            "a4d2e74dfe4a4c9b8e4a2529c3b03a2e"
          ]
        },
        "outputId": "66e259d7-42ba-444f-c6ba-7620e5a822a2"
      },
      "source": [
        "modelbi.fit(padded_rev, y_train, epochs=config.epochs, \n",
        "          batch_size=config.batch_size, shuffle=True, \n",
        "              validation_data=(padded_rev_val, y_val), callbacks=[WandbCallback(),lrate])\n",
        "\n",
        "wandb.finish()"
      ],
      "execution_count": null,
      "outputs": [
        {
          "output_type": "stream",
          "text": [
            "Epoch 1/5\n",
            "3125/3125 [==============================] - 119s 37ms/step - loss: 1.2671 - accuracy: 0.4380 - val_loss: 1.0728 - val_accuracy: 0.5152\n",
            "Epoch 2/5\n",
            "3125/3125 [==============================] - 115s 37ms/step - loss: 1.0705 - accuracy: 0.5320 - val_loss: 1.0682 - val_accuracy: 0.5216\n",
            "Epoch 3/5\n",
            "3125/3125 [==============================] - 115s 37ms/step - loss: 1.0602 - accuracy: 0.5357 - val_loss: 1.0662 - val_accuracy: 0.5240\n",
            "Epoch 4/5\n",
            "3125/3125 [==============================] - 114s 37ms/step - loss: 1.0631 - accuracy: 0.5328 - val_loss: 1.0662 - val_accuracy: 0.5232\n",
            "Epoch 5/5\n",
            "3125/3125 [==============================] - 115s 37ms/step - loss: 1.0608 - accuracy: 0.5359 - val_loss: 1.0662 - val_accuracy: 0.5236\n"
          ],
          "name": "stdout"
        },
        {
          "output_type": "display_data",
          "data": {
            "text/html": [
              "<br/>Waiting for W&B process to finish, PID 623<br/>Program ended successfully."
            ],
            "text/plain": [
              "<IPython.core.display.HTML object>"
            ]
          },
          "metadata": {
            "tags": []
          }
        },
        {
          "output_type": "display_data",
          "data": {
            "application/vnd.jupyter.widget-view+json": {
              "model_id": "5ea4421953fe46589f97b6ec199c9b1e",
              "version_minor": 0,
              "version_major": 2
            },
            "text/plain": [
              "VBox(children=(Label(value=' 61.95MB of 61.95MB uploaded (0.00MB deduped)\\r'), FloatProgress(value=1.0, max=1.…"
            ]
          },
          "metadata": {
            "tags": []
          }
        },
        {
          "output_type": "display_data",
          "data": {
            "text/html": [
              "Find user logs for this run at: <code>/content/wandb/run-20210401_104931-1y0sxsqs/logs/debug.log</code>"
            ],
            "text/plain": [
              "<IPython.core.display.HTML object>"
            ]
          },
          "metadata": {
            "tags": []
          }
        },
        {
          "output_type": "display_data",
          "data": {
            "text/html": [
              "Find internal logs for this run at: <code>/content/wandb/run-20210401_104931-1y0sxsqs/logs/debug-internal.log</code>"
            ],
            "text/plain": [
              "<IPython.core.display.HTML object>"
            ]
          },
          "metadata": {
            "tags": []
          }
        },
        {
          "output_type": "display_data",
          "data": {
            "text/html": [
              "<h3>Run summary:</h3><br/><style>\n",
              "    table.wandb td:nth-child(1) { padding: 0 10px; text-align: right }\n",
              "    </style><table class=\"wandb\">\n",
              "<tr><td>epoch</td><td>4</td></tr><tr><td>loss</td><td>1.06124</td></tr><tr><td>accuracy</td><td>0.53566</td></tr><tr><td>val_loss</td><td>1.06617</td></tr><tr><td>val_accuracy</td><td>0.5236</td></tr><tr><td>_runtime</td><td>627</td></tr><tr><td>_timestamp</td><td>1617274798</td></tr><tr><td>_step</td><td>4</td></tr><tr><td>best_val_loss</td><td>1.06617</td></tr><tr><td>best_epoch</td><td>4</td></tr></table>"
            ],
            "text/plain": [
              "<IPython.core.display.HTML object>"
            ]
          },
          "metadata": {
            "tags": []
          }
        },
        {
          "output_type": "display_data",
          "data": {
            "text/html": [
              "<h3>Run history:</h3><br/><style>\n",
              "    table.wandb td:nth-child(1) { padding: 0 10px; text-align: right }\n",
              "    </style><table class=\"wandb\">\n",
              "<tr><td>epoch</td><td>▁▃▅▆█</td></tr><tr><td>loss</td><td>█▂▁▁▁</td></tr><tr><td>accuracy</td><td>▁████</td></tr><tr><td>val_loss</td><td>█▃▁▁▁</td></tr><tr><td>val_accuracy</td><td>▁▆█▇█</td></tr><tr><td>_runtime</td><td>▁▃▅▆█</td></tr><tr><td>_timestamp</td><td>▁▃▅▆█</td></tr><tr><td>_step</td><td>▁▃▅▆█</td></tr></table><br/>"
            ],
            "text/plain": [
              "<IPython.core.display.HTML object>"
            ]
          },
          "metadata": {
            "tags": []
          }
        },
        {
          "output_type": "display_data",
          "data": {
            "text/html": [
              "Synced 5 W&B file(s), 1 media file(s), 0 artifact file(s) and 1 other file(s)"
            ],
            "text/plain": [
              "<IPython.core.display.HTML object>"
            ]
          },
          "metadata": {
            "tags": []
          }
        },
        {
          "output_type": "display_data",
          "data": {
            "text/html": [
              "\n",
              "                    <br/>Synced <strong style=\"color:#cdcd00\">curious-dream-9</strong>: <a href=\"https://wandb.ai/lucialarraona/MUSE/runs/1y0sxsqs\" target=\"_blank\">https://wandb.ai/lucialarraona/MUSE/runs/1y0sxsqs</a><br/>\n",
              "                "
            ],
            "text/plain": [
              "<IPython.core.display.HTML object>"
            ]
          },
          "metadata": {
            "tags": []
          }
        }
      ]
    },
    {
      "cell_type": "code",
      "metadata": {
        "id": "zxSHxgoDsI_0"
      },
      "source": [
        "#SAVE MODEL AND LOAD TO TEST"
      ],
      "execution_count": null,
      "outputs": []
    },
    {
      "cell_type": "code",
      "metadata": {
        "id": "MU0gWQRSQhfu"
      },
      "source": [
        "modelbi.save('/content/drive/MyDrive/TFG/Modelos_entrenados_keras/Rating_text.h5')"
      ],
      "execution_count": null,
      "outputs": []
    },
    {
      "cell_type": "code",
      "metadata": {
        "id": "zdBSuNs6QmJq"
      },
      "source": [
        "model_rating_body = keras.models.load_model('/content/drive/MyDrive/TFG/Modelos_entrenados_keras/Rating_text.h5')"
      ],
      "execution_count": null,
      "outputs": []
    },
    {
      "cell_type": "code",
      "metadata": {
        "id": "OUN5SkqTQqwk"
      },
      "source": [
        "loss,acc = model_rating_body.evaluate(x=padded_rev_test, y=y_test, batch_size=64, verbose=1)"
      ],
      "execution_count": null,
      "outputs": []
    },
    {
      "cell_type": "markdown",
      "metadata": {
        "id": "vTwXO8eHyNrt"
      },
      "source": [
        "## Category Classification"
      ]
    },
    {
      "cell_type": "code",
      "metadata": {
        "id": "NpBfcwZHyMlE"
      },
      "source": [
        "#X_train = df_train['review_body']\n",
        "#X_val= df_valid['review_body']\n",
        "#X_test= df_test['review_body']\n",
        "\n",
        "X_train = df_train['text_title']\n",
        "X_val= df_valid['text_title']\n",
        "X_test= df_test['text_title']\n",
        "\n",
        "\n",
        "\n",
        "y_train = df_train['product_category_cod']\n",
        "y_val = df_valid['product_category_cod']\n",
        "y_test= df_test['product_category_cod']\n",
        "\n",
        "\n",
        "# Aplicamos pre-procesado \n",
        "t,vocab_size, padded_rev, padded_rev_val, padded_rev_test = preprocess(X_train,X_val,X_test,y_train,y_val,y_test)\n"
      ],
      "execution_count": null,
      "outputs": []
    },
    {
      "cell_type": "code",
      "metadata": {
        "id": "i7mKE_m_yacp"
      },
      "source": [
        "#Creamos matriz de embeddings a partir del vocab de las text_title_cat FULL\n",
        "from numpy import zeros\n",
        "embedding_matrix = zeros((vocab_size,300))\n",
        "for word, i in t.word_index.items():\n",
        "  embedding_vector = word_to_vec_map.get(word)\n",
        "  if embedding_vector is not None:\n",
        "    embedding_matrix[i] = embedding_vector"
      ],
      "execution_count": null,
      "outputs": []
    },
    {
      "cell_type": "code",
      "metadata": {
        "colab": {
          "base_uri": "https://localhost:8080/",
          "height": 115
        },
        "id": "8UWgj-cEyews",
        "outputId": "2202ccd2-50fd-4288-fe2b-1f386cfc3bd9"
      },
      "source": [
        "# Initialize wandb with your project name \n",
        "run = wandb.init(project='MUSE',\n",
        "                 group = 'Category classification', #para agrupar los runs dentro del frontend\n",
        "                 config={  # and include hyperparameters and metadata\n",
        "                     \"learning_rate\": 0.001,\n",
        "                     \"epochs\": 5,\n",
        "                     \"batch_size\": 64,\n",
        "                     \"loss_function\": \"sparse_categorical_crossentropy\",\n",
        "                     \"architecture\": \"BiLSTM\"\n",
        "                 })\n",
        "config = wandb.config  # We'll use this to configure our experiment"
      ],
      "execution_count": null,
      "outputs": [
        {
          "output_type": "display_data",
          "data": {
            "text/html": [
              "\n",
              "                Tracking run with wandb version 0.10.24<br/>\n",
              "                Syncing run <strong style=\"color:#cdcd00\">dulcet-field-6</strong> to <a href=\"https://wandb.ai\" target=\"_blank\">Weights & Biases</a> <a href=\"https://docs.wandb.com/integrations/jupyter.html\" target=\"_blank\">(Documentation)</a>.<br/>\n",
              "                Project page: <a href=\"https://wandb.ai/lucialarraona/MUSE\" target=\"_blank\">https://wandb.ai/lucialarraona/MUSE</a><br/>\n",
              "                Run page: <a href=\"https://wandb.ai/lucialarraona/MUSE/runs/3geplnsv\" target=\"_blank\">https://wandb.ai/lucialarraona/MUSE/runs/3geplnsv</a><br/>\n",
              "                Run data is saved locally in <code>/content/wandb/run-20210331_113630-3geplnsv</code><br/><br/>\n",
              "            "
            ],
            "text/plain": [
              "<IPython.core.display.HTML object>"
            ]
          },
          "metadata": {
            "tags": []
          }
        }
      ]
    },
    {
      "cell_type": "code",
      "metadata": {
        "id": "-X-2JVb3ypsi"
      },
      "source": [
        "#Modelo mejorado bi-lstm\n",
        "from keras.models import Sequential\n",
        "from tensorflow.keras import layers\n",
        "from keras.layers import Bidirectional\n",
        "\n",
        "# MODEL ARCHITECTURE\n",
        "modelbi = Sequential()\n",
        "embed = Embedding(vocab_size,300,weights = [embedding_matrix], input_length=260,trainable=False)\n",
        "modelbi.add(embed)\n",
        "modelbi.add(Bidirectional(LSTM(128,return_sequences=True)))\n",
        "modelbi.add(GlobalMaxPool1D())\n",
        "modelbi.add(Dropout(0.4))\n",
        "modelbi.add(Dense(1000,activation='relu'))\n",
        "modelbi.add(Dense(31,activation='softmax'))"
      ],
      "execution_count": null,
      "outputs": []
    },
    {
      "cell_type": "code",
      "metadata": {
        "colab": {
          "base_uri": "https://localhost:8080/"
        },
        "id": "vsSzBPVUyuoI",
        "outputId": "57c5941f-881f-4fda-91b7-980f19f20d58"
      },
      "source": [
        "modelbi.summary()\n",
        "modelbi.compile(loss=config.loss_function, optimizer='adam', metrics=['accuracy'])"
      ],
      "execution_count": null,
      "outputs": [
        {
          "output_type": "stream",
          "text": [
            "Model: \"sequential_5\"\n",
            "_________________________________________________________________\n",
            "Layer (type)                 Output Shape              Param #   \n",
            "=================================================================\n",
            "embedding_5 (Embedding)      (None, 260, 300)          14604300  \n",
            "_________________________________________________________________\n",
            "bidirectional_5 (Bidirection (None, 260, 256)          439296    \n",
            "_________________________________________________________________\n",
            "global_max_pooling1d_5 (Glob (None, 256)               0         \n",
            "_________________________________________________________________\n",
            "dropout_5 (Dropout)          (None, 256)               0         \n",
            "_________________________________________________________________\n",
            "dense_10 (Dense)             (None, 1000)              257000    \n",
            "_________________________________________________________________\n",
            "dense_11 (Dense)             (None, 31)                31031     \n",
            "=================================================================\n",
            "Total params: 15,331,627\n",
            "Trainable params: 727,327\n",
            "Non-trainable params: 14,604,300\n",
            "_________________________________________________________________\n"
          ],
          "name": "stdout"
        }
      ]
    },
    {
      "cell_type": "code",
      "metadata": {
        "colab": {
          "base_uri": "https://localhost:8080/",
          "height": 756,
          "referenced_widgets": [
            "18e43b13a3304ab58310cdede5c28434",
            "a78f8c8955be47549713e28efe4c5bee",
            "b4a261f889cb4124b7a47b74f111bb59",
            "b503d65a836d424f8bf9a3e4bb574a22",
            "23d5120d55d74f3c89c0fdc51e009c3a",
            "4513ea0e9bd44a98a1ffa0b798e0ec95",
            "19c031a8e47944c284301e297c3e1092",
            "18b554a85ec4451695afe5e65230c28c"
          ]
        },
        "id": "rsBJMZcFy0Pz",
        "outputId": "f5e1d67b-4def-44d4-b0f2-c2aaaf75fe3b"
      },
      "source": [
        "modelbi.fit(padded_rev, y_train, epochs=config.epochs, \n",
        "          batch_size=config.batch_size, shuffle=True, \n",
        "              validation_data=(padded_rev_val, y_val), callbacks=[WandbCallback()])\n",
        "wandb.finish()"
      ],
      "execution_count": null,
      "outputs": [
        {
          "output_type": "stream",
          "text": [
            "Epoch 1/5\n",
            "3125/3125 [==============================] - 120s 38ms/step - loss: 2.4789 - accuracy: 0.2894 - val_loss: 1.9254 - val_accuracy: 0.4440\n",
            "Epoch 2/5\n",
            "3125/3125 [==============================] - 118s 38ms/step - loss: 1.9166 - accuracy: 0.4486 - val_loss: 1.8265 - val_accuracy: 0.4696\n",
            "Epoch 3/5\n",
            "3125/3125 [==============================] - 117s 37ms/step - loss: 1.8296 - accuracy: 0.4739 - val_loss: 1.7746 - val_accuracy: 0.4756\n",
            "Epoch 4/5\n",
            "3125/3125 [==============================] - 117s 37ms/step - loss: 1.7778 - accuracy: 0.4866 - val_loss: 1.7405 - val_accuracy: 0.4912\n",
            "Epoch 5/5\n",
            "3125/3125 [==============================] - 118s 38ms/step - loss: 1.7433 - accuracy: 0.4951 - val_loss: 1.7235 - val_accuracy: 0.4960\n"
          ],
          "name": "stdout"
        },
        {
          "output_type": "display_data",
          "data": {
            "text/html": [
              "<br/>Waiting for W&B process to finish, PID 1068<br/>Program ended successfully."
            ],
            "text/plain": [
              "<IPython.core.display.HTML object>"
            ]
          },
          "metadata": {
            "tags": []
          }
        },
        {
          "output_type": "display_data",
          "data": {
            "application/vnd.jupyter.widget-view+json": {
              "model_id": "18e43b13a3304ab58310cdede5c28434",
              "version_minor": 0,
              "version_major": 2
            },
            "text/plain": [
              "VBox(children=(Label(value=' 64.09MB of 64.09MB uploaded (0.00MB deduped)\\r'), FloatProgress(value=1.0, max=1.…"
            ]
          },
          "metadata": {
            "tags": []
          }
        },
        {
          "output_type": "display_data",
          "data": {
            "text/html": [
              "Find user logs for this run at: <code>/content/wandb/run-20210331_113630-3geplnsv/logs/debug.log</code>"
            ],
            "text/plain": [
              "<IPython.core.display.HTML object>"
            ]
          },
          "metadata": {
            "tags": []
          }
        },
        {
          "output_type": "display_data",
          "data": {
            "text/html": [
              "Find internal logs for this run at: <code>/content/wandb/run-20210331_113630-3geplnsv/logs/debug-internal.log</code>"
            ],
            "text/plain": [
              "<IPython.core.display.HTML object>"
            ]
          },
          "metadata": {
            "tags": []
          }
        },
        {
          "output_type": "display_data",
          "data": {
            "text/html": [
              "<h3>Run summary:</h3><br/><style>\n",
              "    table.wandb td:nth-child(1) { padding: 0 10px; text-align: right }\n",
              "    </style><table class=\"wandb\">\n",
              "<tr><td>epoch</td><td>4</td></tr><tr><td>loss</td><td>1.7444</td></tr><tr><td>accuracy</td><td>0.49476</td></tr><tr><td>val_loss</td><td>1.72348</td></tr><tr><td>val_accuracy</td><td>0.496</td></tr><tr><td>_runtime</td><td>593</td></tr><tr><td>_timestamp</td><td>1617191183</td></tr><tr><td>_step</td><td>4</td></tr><tr><td>best_val_loss</td><td>1.72348</td></tr><tr><td>best_epoch</td><td>4</td></tr></table>"
            ],
            "text/plain": [
              "<IPython.core.display.HTML object>"
            ]
          },
          "metadata": {
            "tags": []
          }
        },
        {
          "output_type": "display_data",
          "data": {
            "text/html": [
              "<h3>Run history:</h3><br/><style>\n",
              "    table.wandb td:nth-child(1) { padding: 0 10px; text-align: right }\n",
              "    </style><table class=\"wandb\">\n",
              "<tr><td>epoch</td><td>▁▃▅▆█</td></tr><tr><td>loss</td><td>█▃▂▁▁</td></tr><tr><td>accuracy</td><td>▁▆▇██</td></tr><tr><td>val_loss</td><td>█▅▃▂▁</td></tr><tr><td>val_accuracy</td><td>▁▄▅▇█</td></tr><tr><td>_runtime</td><td>▁▃▅▆█</td></tr><tr><td>_timestamp</td><td>▁▃▅▆█</td></tr><tr><td>_step</td><td>▁▃▅▆█</td></tr></table><br/>"
            ],
            "text/plain": [
              "<IPython.core.display.HTML object>"
            ]
          },
          "metadata": {
            "tags": []
          }
        },
        {
          "output_type": "display_data",
          "data": {
            "text/html": [
              "Synced 5 W&B file(s), 1 media file(s), 0 artifact file(s) and 1 other file(s)"
            ],
            "text/plain": [
              "<IPython.core.display.HTML object>"
            ]
          },
          "metadata": {
            "tags": []
          }
        },
        {
          "output_type": "display_data",
          "data": {
            "text/html": [
              "\n",
              "                    <br/>Synced <strong style=\"color:#cdcd00\">dulcet-field-6</strong>: <a href=\"https://wandb.ai/lucialarraona/MUSE/runs/3geplnsv\" target=\"_blank\">https://wandb.ai/lucialarraona/MUSE/runs/3geplnsv</a><br/>\n",
              "                "
            ],
            "text/plain": [
              "<IPython.core.display.HTML object>"
            ]
          },
          "metadata": {
            "tags": []
          }
        }
      ]
    },
    {
      "cell_type": "code",
      "metadata": {
        "id": "Q1UWDZR0y2MU"
      },
      "source": [
        "#Guardamos el modelo\n",
        "modelbi.save('/content/drive/MyDrive/TFG/Modelos_entrenados_keras/Category_text.h5')"
      ],
      "execution_count": null,
      "outputs": []
    },
    {
      "cell_type": "code",
      "metadata": {
        "id": "ZaArECIHy89L"
      },
      "source": [
        "model_cat_body = keras.models.load_model('/content/drive/MyDrive/TFG/Modelos_entrenados_keras/Category_text.h5')"
      ],
      "execution_count": null,
      "outputs": []
    },
    {
      "cell_type": "code",
      "metadata": {
        "id": "0HkRRJ6ozBM5"
      },
      "source": [
        "loss,acc = model_cat_body.evaluate(x=padded_rev_test, y=y_test, batch_size=64, verbose=1)"
      ],
      "execution_count": null,
      "outputs": []
    },
    {
      "cell_type": "markdown",
      "metadata": {
        "id": "YxzdV-EM1jE5"
      },
      "source": [
        "# Carga de modelos entrenados"
      ]
    },
    {
      "cell_type": "code",
      "metadata": {
        "id": "T5zer6IPE5m3"
      },
      "source": [
        "# Monolingual INGLES \n",
        "\n",
        "# Rating classification review_body\n",
        "model_rating_body = keras.models.load_model('/content/drive/MyDrive/TFG/Modelos_entrenados_keras/Rating_text.h5')\n",
        "\n",
        "# Rating classification review_body + title \n",
        "model_rating_body_title = keras.models.load_model('/content/drive/MyDrive/TFG/Modelos_entrenados_keras/Rating_text_title.h5')\n",
        "\n",
        "# Rating classification review_body + title + cat\n",
        "model_rating_body_title_cat = keras.models.load_model('/content/drive/MyDrive/TFG/Modelos_entrenados_keras/Rating_text_title_cat.h5')\n",
        "\n",
        "# Category classification review_body\n",
        "model_cat_body = keras.models.load_model('/content/drive/MyDrive/TFG/Modelos_entrenados_keras/Category_text.h5')\n",
        "\n",
        "# Category classification review_body + title\n",
        "model_cat_body_title = keras.models.load_model('/content/drive/MyDrive/TFG/Modelos_entrenados_keras/Category_text_title.h5')\n"
      ],
      "execution_count": null,
      "outputs": []
    },
    {
      "cell_type": "code",
      "metadata": {
        "id": "5cRmQjvpFFcE"
      },
      "source": [
        "# Few Shot ESpañol\n",
        "model_rating_body_fewshotes = keras.models.load_model('/content/drive/MyDrive/TFG/Modelos_entrenados_keras/Few_shotES/Rating_text_few_shotES.h5')\n",
        "model_rating_body_title_fewshotes = keras.models.load_model('/content/drive/MyDrive/TFG/Modelos_entrenados_keras/Few_shotES/Rating_text_title_few_shotES.h5')\n",
        "model_rating_body_title_cat_fewshotes = keras.models.load_model('/content/drive/MyDrive/TFG/Modelos_entrenados_keras/Few_shotES/Rating_text_title_cat_few_shotES.h5')\n",
        "model_cat_body_fewshotes = keras.models.load_model('/content/drive/MyDrive/TFG/Modelos_entrenados_keras/Few_shotES/Category_text_few_shotES.h5')\n",
        "model_cat_body_title_fewshotes = keras.models.load_model('/content/drive/MyDrive/TFG/Modelos_entrenados_keras/Few_shotES/Category_text_title_few_shotES.h5')\n",
        "\n",
        "# One Shot Español\n"
      ],
      "execution_count": null,
      "outputs": []
    },
    {
      "cell_type": "code",
      "metadata": {
        "id": "CKr0A6JPFODC"
      },
      "source": [
        "#Few Shot Frances\n",
        "\n",
        "#One Shot Franes"
      ],
      "execution_count": null,
      "outputs": []
    },
    {
      "cell_type": "code",
      "metadata": {
        "id": "p-YXp-ElFTKN"
      },
      "source": [
        "#Few Shot aleman \n",
        "\n",
        "#One Shot aleman\n"
      ],
      "execution_count": null,
      "outputs": []
    },
    {
      "cell_type": "markdown",
      "metadata": {
        "id": "02hIcdbrd8WK"
      },
      "source": [
        "# Test del modelo con dato en idioma de entrenamiento (Inglés)"
      ]
    },
    {
      "cell_type": "code",
      "metadata": {
        "id": "CT1nONvu7LFC"
      },
      "source": [
        "## Función evaluación dato  \n",
        "from sklearn.metrics import confusion_matrix\n",
        "import seaborn as sns\n",
        "import pandas as pd\n",
        "import matplotlib.pyplot as plt\n",
        "from sklearn.metrics import classification_report\n",
        "\n",
        "def eval_model(model,test_data,test_labels):\n",
        "\n",
        "  \"\"\"\n",
        "  Recibe el modelo, el dato de test ya procesado (x idioma) y las true labels\n",
        "  \"\"\"\n",
        "  loss,acc = model.evaluate(x=test_data, \n",
        "                            y=test_labels, \n",
        "                            batch_size=64, \n",
        "                            verbose=1)\n",
        "  \n",
        "  \n",
        "  predictions = model.predict(test_data)\n",
        "  matrix = confusion_matrix(test_labels, predictions.argmax(axis=1))\n",
        "  plt.figure(figsize = (10,7))\n",
        "  \n",
        "  ## Confusion matrix with counts\n",
        "  sns.heatmap(matrix, annot=True,cmap='Purples',fmt='g')\n",
        "\n",
        "  ## Confusion matrix with percentages\n",
        "  #sns.heatmap(matrix/np.sum(matrix), annot=True, \n",
        "              #fmt='.2%', cmap='Purples')\n",
        "\n",
        "  plt.xlabel(\"Predicted class\")\n",
        "  plt.ylabel(\"True class\") \n",
        "\n",
        "  clas_report = classification_report(test_labels, predictions.argmax(axis=1))\n",
        "\n",
        "  return print(clas_report)"
      ],
      "execution_count": null,
      "outputs": []
    },
    {
      "cell_type": "code",
      "metadata": {
        "colab": {
          "base_uri": "https://localhost:8080/",
          "height": 653
        },
        "id": "9Pkcbh-27MAd",
        "outputId": "b317cf3f-c9ca-4769-c43a-06cf2aca9163"
      },
      "source": [
        "## CUIDADO CON EL DATO DE TEST QUE METES, DISTINTO PARA CADA MODELO\n",
        "eval_model(model_rating_body,padded_rev_test,y_test)"
      ],
      "execution_count": null,
      "outputs": [
        {
          "output_type": "stream",
          "text": [
            "40/40 [==============================] - 1s 22ms/step - loss: 1.0111 - accuracy: 0.5548\n",
            "              precision    recall  f1-score   support\n",
            "\n",
            "           0       0.64      0.63      0.63       480\n",
            "           1       0.46      0.55      0.50       530\n",
            "           2       0.45      0.38      0.41       501\n",
            "           3       0.52      0.49      0.50       479\n",
            "           4       0.71      0.73      0.72       510\n",
            "\n",
            "    accuracy                           0.55      2500\n",
            "   macro avg       0.56      0.55      0.55      2500\n",
            "weighted avg       0.55      0.55      0.55      2500\n",
            "\n"
          ],
          "name": "stdout"
        },
        {
          "output_type": "display_data",
          "data": {
            "image/png": "[encoded data removed]",
            "text/plain": [
              "<Figure size 720x504 with 2 Axes>"
            ]
          },
          "metadata": {
            "tags": [],
            "needs_background": "light"
          }
        }
      ]
    },
    {
      "cell_type": "markdown",
      "metadata": {
        "id": "_20b2DlN6Gve"
      },
      "source": [
        "# Test del modelo con dato en otros idiomas"
      ]
    },
    {
      "cell_type": "markdown",
      "metadata": {
        "id": "TpWdYkHu6V8H"
      },
      "source": [
        "### Test sobre dato Español"
      ]
    },
    {
      "cell_type": "code",
      "metadata": {
        "id": "ngXLl0AoK2Kp"
      },
      "source": [
        "# MUSE embeddings Español\n",
        "%%capture\n",
        "Pathdrive = \"/content/drive/MyDrive/muse/data/wiki.multi.es.vec\"\n",
        "words_to_index_es, index_to_words_es, word_to_vec_map_es = read_muse_vecs(Pathdrive)"
      ],
      "execution_count": null,
      "outputs": []
    },
    {
      "cell_type": "code",
      "metadata": {
        "id": "mz8Uj0C7K8vJ"
      },
      "source": [
        "path33 = \"/content/drive/MyDrive/TFG/Datasets_procesados_2/test/amazonES_test.csv\"\n",
        "df_test_es = pd.read_csv(path33)"
      ],
      "execution_count": null,
      "outputs": []
    },
    {
      "cell_type": "code",
      "metadata": {
        "id": "siClXUJJNmEl"
      },
      "source": [
        "X_test_es = df_test_es['review_body']\n",
        "#_test_es = df_test_es['text_title']\n",
        "#X_test_es = df_test_es['text_title_cat']\n",
        "\n",
        "Y_test_es = df_test_es['star_rating']\n",
        "#Y_test_es = df_test_es['product_category_cod']"
      ],
      "execution_count": null,
      "outputs": []
    },
    {
      "cell_type": "code",
      "metadata": {
        "id": "UAWppzWdNemP"
      },
      "source": [
        "t3= Tokenizer()\n",
        "t3.fit_on_texts(X_test_es)\n",
        "vocab_size = len(t3.word_index)+1\n",
        "encoded_rev_test = t3.texts_to_sequences(X_test_es)\n",
        "max_length = 260\n",
        "padded_rev_test_es = pad_sequences(encoded_rev_test,maxlen=max_length,padding= 'post')\n"
      ],
      "execution_count": null,
      "outputs": []
    },
    {
      "cell_type": "code",
      "metadata": {
        "id": "5dZByMUedtwR"
      },
      "source": [
        "## Función evaluación dato  \n",
        "from sklearn.metrics import confusion_matrix\n",
        "import seaborn as sns\n",
        "import pandas as pd\n",
        "import matplotlib.pyplot as plt\n",
        "from sklearn.metrics import classification_report\n",
        "\n",
        "def eval_spanish(model,test_data,test_labels):\n",
        "\n",
        "  \"\"\"\n",
        "  Recibe el modelo, el dato de test ya procesado (x idioma) y las true labels\n",
        "  \"\"\"\n",
        "  loss,acc = model.evaluate(x=test_data, \n",
        "                                        y=test_labels, \n",
        "                                        batch_size=64, \n",
        "                                        verbose=1)\n",
        "  \n",
        "  \n",
        "  predictions = model.predict(test_data)\n",
        "  matrix = confusion_matrix(test_labels, predictions.argmax(axis=1))\n",
        "  plt.figure(figsize = (10,7))\n",
        "  ## Confusion matrix with counts\n",
        "  sns.heatmap(matrix, annot=True,cmap='Oranges',fmt='g')\n",
        "\n",
        "  #sns.heatmap(matrix/np.sum(matrix), annot=True, \n",
        "   #          fmt='.2%', cmap='Oranges')\n",
        "  plt.xlabel(\"Predicted class\")\n",
        "  plt.ylabel(\"True class\") \n",
        "\n",
        "  clas_report = classification_report(test_labels, predictions.argmax(axis=1))\n",
        "\n",
        "  return print(clas_report)"
      ],
      "execution_count": null,
      "outputs": []
    },
    {
      "cell_type": "code",
      "metadata": {
        "colab": {
          "base_uri": "https://localhost:8080/",
          "height": 653
        },
        "id": "qy1UMjna40T_",
        "outputId": "affab0c9-f3f2-4b5a-8ee7-87b39f798b0b"
      },
      "source": [
        "eval_spanish(model_rating_body,padded_rev_test_es,Y_test_es)"
      ],
      "execution_count": null,
      "outputs": [
        {
          "output_type": "stream",
          "text": [
            "40/40 [==============================] - 1s 21ms/step - loss: 2.1136 - accuracy: 0.2064\n",
            "              precision    recall  f1-score   support\n",
            "\n",
            "           0       0.19      0.08      0.11       498\n",
            "           1       0.22      0.31      0.26       497\n",
            "           2       0.20      0.32      0.25       503\n",
            "           3       0.21      0.20      0.20       497\n",
            "           4       0.18      0.13      0.15       505\n",
            "\n",
            "    accuracy                           0.21      2500\n",
            "   macro avg       0.20      0.21      0.19      2500\n",
            "weighted avg       0.20      0.21      0.19      2500\n",
            "\n"
          ],
          "name": "stdout"
        },
        {
          "output_type": "display_data",
          "data": {
            "image/png": "[encoded data removed]",
            "text/plain": [
              "<Figure size 720x504 with 2 Axes>"
            ]
          },
          "metadata": {
            "tags": [],
            "needs_background": "light"
          }
        }
      ]
    },
    {
      "cell_type": "markdown",
      "metadata": {
        "id": "7IoDnXFOAOoc"
      },
      "source": [
        "### Test sobre dato Frances"
      ]
    },
    {
      "cell_type": "code",
      "metadata": {
        "id": "tyzblUV4AOod"
      },
      "source": [
        "# MUSE embeddings Español\n",
        "%%capture\n",
        "Pathdrive = \"/content/drive/MyDrive/muse/data/wiki.multi.fr.vec\"\n",
        "words_to_index_fr, index_to_words_fr, word_to_vec_map_fr = read_muse_vecs(Pathdrive)"
      ],
      "execution_count": null,
      "outputs": []
    },
    {
      "cell_type": "code",
      "metadata": {
        "id": "SE4G65FEAOod"
      },
      "source": [
        "path33 = \"/content/drive/MyDrive/TFG/Datasets_procesados_2/test/amazonFR_test.csv\"\n",
        "df_test_fr = pd.read_csv(path33)"
      ],
      "execution_count": null,
      "outputs": []
    },
    {
      "cell_type": "code",
      "metadata": {
        "id": "mGJgj16FAOoe"
      },
      "source": [
        "X_test_fr = df_test_fr['review_body']\n",
        "Y_test_fr = df_test_fr['star_rating']"
      ],
      "execution_count": null,
      "outputs": []
    },
    {
      "cell_type": "code",
      "metadata": {
        "id": "Sc9RE1V5AOoe"
      },
      "source": [
        "t3= Tokenizer()\n",
        "t3.fit_on_texts(X_test_fr)\n",
        "vocab_size = len(t3.word_index)+1\n",
        "encoded_rev_test = t3.texts_to_sequences(X_test_fr)\n",
        "max_length = 260\n",
        "padded_rev_test_fr = pad_sequences(encoded_rev_test,maxlen=max_length,padding= 'post')\n"
      ],
      "execution_count": null,
      "outputs": []
    },
    {
      "cell_type": "code",
      "metadata": {
        "id": "KErMZfV--uLK"
      },
      "source": [
        "## Función evaluación dato  \n",
        "from sklearn.metrics import confusion_matrix\n",
        "import seaborn as sns\n",
        "import pandas as pd\n",
        "import matplotlib.pyplot as plt\n",
        "from sklearn.metrics import classification_report\n",
        "def eval_french(model,test_data,test_labels):\n",
        "\n",
        "  \"\"\"\n",
        "  Recibe el modelo, el dato de test ya procesado (x idioma) y las true labels\n",
        "  \"\"\"\n",
        "  loss,acc = model.evaluate(x=test_data, \n",
        "                                        y=test_labels, \n",
        "                                        batch_size=64, \n",
        "                                        verbose=1)\n",
        "  \n",
        "  \n",
        "  predictions = model.predict(test_data)\n",
        "  matrix = confusion_matrix(test_labels, predictions.argmax(axis=1))\n",
        "  plt.figure(figsize = (10,7))\n",
        "  ## Confusion matrix with counts\n",
        "  #sns.heatmap(matrix, annot=True,cmap='Purples',fmt='g')\n",
        "\n",
        "  sns.heatmap(matrix/np.sum(matrix), annot=True, \n",
        "              fmt='.2%', cmap='Greens')\n",
        "  plt.xlabel(\"Predicted class\")\n",
        "  plt.ylabel(\"True class\") \n",
        "\n",
        "  clas_report = classification_report(test_labels, predictions.argmax(axis=1))\n",
        "\n",
        "  return print(clas_report)"
      ],
      "execution_count": null,
      "outputs": []
    },
    {
      "cell_type": "code",
      "metadata": {
        "colab": {
          "base_uri": "https://localhost:8080/",
          "height": 1000
        },
        "id": "Dl25SIDW-ypL",
        "outputId": "1528a861-6337-41da-f68e-c6f87e7413fe"
      },
      "source": [
        "eval_french(model_cat_body, padded_rev_test_fr,Y_test_fr)"
      ],
      "execution_count": null,
      "outputs": [
        {
          "output_type": "stream",
          "text": [
            "40/40 [==============================] - 1s 20ms/step - loss: 4.5900 - accuracy: 0.0448\n"
          ],
          "name": "stdout"
        },
        {
          "output_type": "stream",
          "text": [
            "/usr/local/lib/python3.7/dist-packages/sklearn/metrics/_classification.py:1272: UndefinedMetricWarning: Recall and F-score are ill-defined and being set to 0.0 in labels with no true samples. Use `zero_division` parameter to control this behavior.\n",
            "  _warn_prf(average, modifier, msg_start, len(result))\n"
          ],
          "name": "stderr"
        },
        {
          "output_type": "stream",
          "text": [
            "              precision    recall  f1-score   support\n",
            "\n",
            "           0       0.21      0.12      0.15       497\n",
            "           1       0.14      0.02      0.04       510\n",
            "           2       0.27      0.01      0.02       507\n",
            "           3       0.21      0.06      0.09       488\n",
            "           4       0.16      0.02      0.03       498\n",
            "           5       0.00      0.00      0.00         0\n",
            "           6       0.00      0.00      0.00         0\n",
            "           7       0.00      0.00      0.00         0\n",
            "           8       0.00      0.00      0.00         0\n",
            "           9       0.00      0.00      0.00         0\n",
            "          10       0.00      0.00      0.00         0\n",
            "          11       0.00      0.00      0.00         0\n",
            "          12       0.00      0.00      0.00         0\n",
            "          13       0.00      0.00      0.00         0\n",
            "          15       0.00      0.00      0.00         0\n",
            "          16       0.00      0.00      0.00         0\n",
            "          17       0.00      0.00      0.00         0\n",
            "          18       0.00      0.00      0.00         0\n",
            "          19       0.00      0.00      0.00         0\n",
            "          20       0.00      0.00      0.00         0\n",
            "          21       0.00      0.00      0.00         0\n",
            "          22       0.00      0.00      0.00         0\n",
            "          24       0.00      0.00      0.00         0\n",
            "          25       0.00      0.00      0.00         0\n",
            "          26       0.00      0.00      0.00         0\n",
            "          27       0.00      0.00      0.00         0\n",
            "          28       0.00      0.00      0.00         0\n",
            "          29       0.00      0.00      0.00         0\n",
            "          30       0.00      0.00      0.00         0\n",
            "\n",
            "    accuracy                           0.04      2500\n",
            "   macro avg       0.03      0.01      0.01      2500\n",
            "weighted avg       0.20      0.04      0.07      2500\n",
            "\n"
          ],
          "name": "stdout"
        },
        {
          "output_type": "display_data",
          "data": {
            "image/png": "[encoded data removed]",
            "text/plain": [
              "<Figure size 720x504 with 2 Axes>"
            ]
          },
          "metadata": {
            "tags": [],
            "needs_background": "light"
          }
        }
      ]
    },
    {
      "cell_type": "markdown",
      "metadata": {
        "id": "CZBXQgilASoN"
      },
      "source": [
        "### Test sobre dato Aleman"
      ]
    },
    {
      "cell_type": "code",
      "metadata": {
        "id": "sg4eVRzXASoO"
      },
      "source": [
        "# MUSE embeddings Español\n",
        "%%capture\n",
        "Pathdrive = \"/content/drive/MyDrive/muse/data/wiki.multi.de.vec\"\n",
        "words_to_index_es, index_to_words_es, word_to_vec_map_es = read_muse_vecs(Pathdrive)"
      ],
      "execution_count": null,
      "outputs": []
    },
    {
      "cell_type": "code",
      "metadata": {
        "id": "4gS5_1JSASoO"
      },
      "source": [
        "path33 = \"/content/drive/MyDrive/TFG/Datasets_procesados_2/test/amazonDE_test.csv\"\n",
        "df_test_de = pd.read_csv(path33)"
      ],
      "execution_count": null,
      "outputs": []
    },
    {
      "cell_type": "code",
      "metadata": {
        "id": "IMCkB1WuASoP"
      },
      "source": [
        "X_test_de = df_test_de['review_body']\n",
        "Y_test_de = df_test_de['star_rating']"
      ],
      "execution_count": null,
      "outputs": []
    },
    {
      "cell_type": "code",
      "metadata": {
        "id": "uspycLjMASoP"
      },
      "source": [
        "from keras.preprocessing.text import Tokenizer\n",
        "from keras.preprocessing.sequence import pad_sequences\n",
        "\n",
        "t3= Tokenizer()\n",
        "t3.fit_on_texts(X_test_de)\n",
        "vocab_size = len(t3.word_index)+1\n",
        "encoded_rev_test = t3.texts_to_sequences(X_test_de)\n",
        "max_length = 260\n",
        "padded_rev_test_de = pad_sequences(encoded_rev_test,maxlen=max_length,padding= 'post')\n"
      ],
      "execution_count": null,
      "outputs": []
    },
    {
      "cell_type": "code",
      "metadata": {
        "id": "lsrln8uTAwea"
      },
      "source": [
        "## Función evaluación dato  \n",
        "from sklearn.metrics import confusion_matrix\n",
        "import seaborn as sns\n",
        "import pandas as pd\n",
        "import matplotlib.pyplot as plt\n",
        "from sklearn.metrics import classification_report\n",
        "\n",
        "def eval_german(model,test_data,test_labels):\n",
        "\n",
        "  \"\"\"\n",
        "  Recibe el modelo, el dato de test ya procesado (x idioma) y las true labels\n",
        "  \"\"\"\n",
        "  loss,acc = model.evaluate(x=test_data, \n",
        "                                        y=test_labels, \n",
        "                                        batch_size=64, \n",
        "                                        verbose=1)\n",
        "  \n",
        "  \n",
        "  predictions = model.predict(test_data)\n",
        "  matrix = confusion_matrix(test_labels, predictions.argmax(axis=1))\n",
        "  plt.figure(figsize = (30,10))\n",
        "   ## Confusion matrix with counts\n",
        "  #sns.heatmap(matrix, annot=True,cmap='Purples',fmt='g')\n",
        "  sns.heatmap(matrix/np.sum(matrix), annot=True, \n",
        "              fmt='.2%', cmap='Greys')\n",
        "  plt.xlabel(\"Predicted class\")\n",
        "  plt.ylabel(\"True class\") \n",
        "\n",
        "  clas_report = classification_report(test_labels, predictions.argmax(axis=1))\n",
        "\n",
        "  return print(clas_report)"
      ],
      "execution_count": null,
      "outputs": []
    },
    {
      "cell_type": "code",
      "metadata": {
        "colab": {
          "base_uri": "https://localhost:8080/",
          "height": 1000
        },
        "id": "OkarOh2HBUWn",
        "outputId": "37498178-dd98-4618-8741-35f0a32b8969"
      },
      "source": [
        "eval_german(model_cat_body_title, padded_rev_test_de,Y_test_de)"
      ],
      "execution_count": null,
      "outputs": [
        {
          "output_type": "stream",
          "text": [
            "40/40 [==============================] - 1s 20ms/step - loss: 4.8126 - accuracy: 0.0484\n"
          ],
          "name": "stdout"
        },
        {
          "output_type": "stream",
          "text": [
            "/usr/local/lib/python3.7/dist-packages/sklearn/metrics/_classification.py:1272: UndefinedMetricWarning: Recall and F-score are ill-defined and being set to 0.0 in labels with no true samples. Use `zero_division` parameter to control this behavior.\n",
            "  _warn_prf(average, modifier, msg_start, len(result))\n"
          ],
          "name": "stderr"
        },
        {
          "output_type": "stream",
          "text": [
            "              precision    recall  f1-score   support\n",
            "\n",
            "           0       0.20      0.07      0.10       521\n",
            "           1       0.20      0.03      0.05       487\n",
            "           2       0.27      0.01      0.03       488\n",
            "           3       0.22      0.12      0.16       507\n",
            "           4       0.10      0.01      0.01       497\n",
            "           5       0.00      0.00      0.00         0\n",
            "           6       0.00      0.00      0.00         0\n",
            "           7       0.00      0.00      0.00         0\n",
            "           8       0.00      0.00      0.00         0\n",
            "           9       0.00      0.00      0.00         0\n",
            "          10       0.00      0.00      0.00         0\n",
            "          11       0.00      0.00      0.00         0\n",
            "          12       0.00      0.00      0.00         0\n",
            "          13       0.00      0.00      0.00         0\n",
            "          15       0.00      0.00      0.00         0\n",
            "          16       0.00      0.00      0.00         0\n",
            "          17       0.00      0.00      0.00         0\n",
            "          18       0.00      0.00      0.00         0\n",
            "          19       0.00      0.00      0.00         0\n",
            "          20       0.00      0.00      0.00         0\n",
            "          21       0.00      0.00      0.00         0\n",
            "          22       0.00      0.00      0.00         0\n",
            "          24       0.00      0.00      0.00         0\n",
            "          25       0.00      0.00      0.00         0\n",
            "          26       0.00      0.00      0.00         0\n",
            "          27       0.00      0.00      0.00         0\n",
            "          28       0.00      0.00      0.00         0\n",
            "          29       0.00      0.00      0.00         0\n",
            "          30       0.00      0.00      0.00         0\n",
            "\n",
            "    accuracy                           0.05      2500\n",
            "   macro avg       0.03      0.01      0.01      2500\n",
            "weighted avg       0.20      0.05      0.07      2500\n",
            "\n"
          ],
          "name": "stdout"
        },
        {
          "output_type": "display_data",
          "data": {
            "image/png": "[encoded data removed]",
            "text/plain": [
              "<Figure size 2160x720 with 2 Axes>"
            ]
          },
          "metadata": {
            "tags": [],
            "needs_background": "light"
          }
        }
      ]
    },
    {
      "cell_type": "markdown",
      "metadata": {
        "id": "nkYkjEiSt8kc"
      },
      "source": [
        "# Sweep PARAMETROS "
      ]
    },
    {
      "cell_type": "markdown",
      "metadata": {
        "id": "jqYoR40ps1qt"
      },
      "source": [
        "#### Sweep bilstm "
      ]
    },
    {
      "cell_type": "code",
      "metadata": {
        "id": "uL617wdbOfl-"
      },
      "source": [
        ""
      ],
      "execution_count": null,
      "outputs": []
    },
    {
      "cell_type": "code",
      "metadata": {
        "id": "Neo-mCh5s1qu"
      },
      "source": [
        "# Configure the sweep – specify the parameters to search through, the search strategy, the optimization metric et all.\n",
        "sweep_config = {\n",
        "    'method': 'random', #grid, random\n",
        "    'metric': {\n",
        "      'name': 'accuracy',\n",
        "      'goal': 'maximize'   \n",
        "    },\n",
        "    'parameters': {\n",
        "        'epochs': {\n",
        "            'values': [5,8]\n",
        "        },\n",
        "        'batch_size': {\n",
        "            'values': [128, 64]\n",
        "        },\n",
        "        'dropout': {\n",
        "            'values': [0.3, 0.4]\n",
        "        },\n",
        "\n",
        "        'learning_rate': {\n",
        "            'values': [ 1e-3,3e-3, 3e-4,1e-5]\n",
        "        },\n",
        "        'optimizer': {\n",
        "            'values': ['adam']\n",
        "        },\n",
        "        'activation': {\n",
        "            'values': ['softmax']\n",
        "        }\n",
        "    }\n",
        "}"
      ],
      "execution_count": null,
      "outputs": []
    },
    {
      "cell_type": "code",
      "metadata": {
        "colab": {
          "base_uri": "https://localhost:8080/"
        },
        "id": "BPF_SH5as1qu",
        "outputId": "cc870e42-884b-48a5-c3ed-86eb0837011e"
      },
      "source": [
        "# Initialize a new sweep\n",
        "# Arguments:\n",
        "#     – sweep_config: the sweep config dictionary defined above\n",
        "#     – entity: Set the username for the sweep\n",
        "#     – project: Set the project name for the sweep\n",
        "sweep_id = wandb.sweep(sweep_config, entity=\"lucialarraona\", project=\"Sweepslucia\")"
      ],
      "execution_count": null,
      "outputs": [
        {
          "output_type": "stream",
          "text": [
            "Create sweep with ID: gkevt11s\n",
            "Sweep URL: https://wandb.ai/lucialarraona/Sweepslucia/sweeps/gkevt11s\n"
          ],
          "name": "stdout"
        }
      ]
    },
    {
      "cell_type": "code",
      "metadata": {
        "id": "VdAH4Qtfs1qv"
      },
      "source": [
        "from keras.models import Sequential\n",
        "from tensorflow.keras.layers import Embedding\n",
        "from keras.models import Sequential\n",
        "from tensorflow.keras import layers\n",
        "from keras.layers import Bidirectional\n",
        "from keras.layers import GlobalMaxPool1D\n",
        "# The sweep calls this function with each set of hyperparameters\n",
        "def train():\n",
        "    # Default values for hyper-parameters we're going to sweep over\n",
        "    config_defaults = {\n",
        "        'epochs': 5,\n",
        "        'batch_size': 128,\n",
        "        'learning_rate': 1e-3,\n",
        "        'activation': 'softmax',\n",
        "        'optimizer': 'adam',\n",
        "        'dropout': 0.4,\n",
        "        'seed': 42\n",
        "    }\n",
        "\n",
        "    # Initialize a new wandb run\n",
        "    wandb.init(config=config_defaults)\n",
        "    \n",
        "    # Config is a variable that holds and saves hyperparameters and inputs\n",
        "    config = wandb.config\n",
        "    \n",
        "    # Define the model architecture \n",
        "\n",
        "    modelbi = Sequential()\n",
        "    embed = Embedding(vocab_size,300,weights = [embedding_matrix], input_length=260,trainable=False)\n",
        "    modelbi.add(embed)\n",
        "    modelbi.add(Bidirectional(LSTM(128,return_sequences=True)))\n",
        "    modelbi.add(GlobalMaxPool1D())\n",
        "    modelbi.add(Dropout(0.4))\n",
        "    modelbi.add(Dense(1000,activation='relu'))\n",
        "    modelbi.add(Dense(31,activation='softmax'))\n",
        "\n",
        "    # Define the optimizer\n",
        " \n",
        "    if config.optimizer=='adam':\n",
        "      optimizer = Adam(lr=config.learning_rate, beta_1=0.9, beta_2=0.999, clipnorm=1.0)\n",
        "\n",
        "    modelbi.compile(loss = \"sparse_categorical_crossentropy\", optimizer = optimizer, metrics=['accuracy'])\n",
        "\n",
        "    modelbi.fit(padded_rev, y_train, batch_size=config.batch_size,\n",
        "              epochs=config.epochs,\n",
        "              validation_data=(padded_rev_val, y_val),\n",
        "              callbacks=[WandbCallback(validation_data=(padded_rev_val, y_val))])"
      ],
      "execution_count": null,
      "outputs": []
    },
    {
      "cell_type": "code",
      "metadata": {
        "colab": {
          "base_uri": "https://localhost:8080/",
          "height": 1000,
          "referenced_widgets": [
            "12d6d7211dce40ceb428f2d4d8bab2ad",
            "b69e3cdedb5b40d5a4c5c44939a18723",
            "a0d5f8d519a2481d8aaf0f876192b15a",
            "82e8a41200b64b0f98d1cb09754de1b8",
            "d49a392ab81f4fc7bae9251a10ece685",
            "e1f2e166dfbf4524a5e6fa41566b9d2a",
            "7e99e5283760419dbb97fdd72d141d8d",
            "95ac8920e1c64276ab619aef79905459",
            "3e3e1d6c4000442ab423f869f8efbacf",
            "cdb5fdc52f1540e793343ab6d7ecc9e8",
            "aaaf19ab11e344a8a95c7a1450664de6",
            "f976126d4270413bbba0e039b2789184",
            "530411dbd7e04df982885062eecd2aeb",
            "8a9f2939ae1f4ae796870ea2897dbb2c",
            "c881c941df9d4135a80099c1ace30558",
            "d5995a64454d403cb9f27ce5ffc36517",
            "ae9bed666bc749f08c3fe0b6e1a5b40d",
            "fcb79d11816f4c829f4d447ab59ba137",
            "f9c50ec541354a6ca034d8b824babfd3",
            "c95334429a284b33bcced5e3c3b9168d",
            "0a9dd9f777464669a79dd407c80b588d",
            "214c58b036974ae2a6299bc4e01fa5fa",
            "ee906b9e177649faa3252ca3a8ebc1ea",
            "70d57915a8fa4897b05755645bfdda87",
            "2baaa5761f464be59f1dfce0a56c2222",
            "8f2d66e46a2b43b7a57df6eec405a07c",
            "ebafa916f4b24ea1ba836e6020365da6",
            "01b366eb519444e9aa72556eed922579",
            "293c2f1faa004e9ba7fdc69da946c4d6",
            "6a3de4d428fc475d8925bcf05b935808",
            "f71c88b0a38b4ec88f25483bc80000e0",
            "2996c319340346df9006f0b7a323fa94",
            "598aaf94ef81486682a8b34268ce509e",
            "bce9a886ef3c4a2aa4b4ce888a50fd77",
            "00fa2b009ec24ea986bc8ce395cb3270",
            "e634a5239f5443b989e45f40fa9ec47e",
            "9d2f9f61bf2c4331aff7f8941ec00f2b",
            "e15e73062c954f23b559bb8d92742fb5",
            "41e7d0690f1344dea35f33efb8a4b736",
            "122079aaa11b4c97a57ea237f1a3462e",
            "ca1601fb722447759df2cd0c55f58192",
            "71e6a1f8a9834a26972c0804039d09ae",
            "c77c18643c60464b973d7e26df7169bc",
            "d3855adc47f046a7a9c88e78c400cc1d",
            "69cae8f76389415297239641e2444a90",
            "3c6034c11b6b4282a900626afe042533",
            "004fcfc15fbb4b6997d2453a255943db",
            "766ce46692e9478ca1e52ff2ec226cbd",
            "636001c967954556a8756aa6434036ba",
            "24387d8910264fee8f27fe2f97a39a37",
            "e6b141d106454eebb31a930bf2a66305",
            "f95795a4a36a4dd4929786b100a265f3",
            "eb0cc95e6b5248a1b16193f1b9e8828b",
            "19a5eb2edacd4b6d9b68465fb9485fb9",
            "01f20499d5ed45d0a03968fca373cc67",
            "c61f5e5c21f74567acce716173dac6cf",
            "07adbb7ef8844f5cb1f347b794d0fbcf",
            "f6bc6890a62f4c28ba630e7ec91d0355",
            "dcc7a02658604cb3a43caf35c571f726",
            "81c5d63700ce425eb838865b0984e9ab",
            "404985a9312142e49ab4b430c6086c66",
            "358b964faca64da39676b98e740cfd78",
            "c1676bb534bc4503a517fe2b2818d477",
            "3fafbacdd5ff492a8ed0acb8005b999d",
            "303f969bdf524bd487f482319af14f68",
            "5a4cf35572644172b359e5c218cb66cf",
            "d9d3e4ec0e4f419189d4368456d8fc11",
            "a3ec8539d8c341a4a86af7d250d8b810",
            "118daee4db55437ab731b3beba768e01",
            "630efbf703034502925168eb459dbf40",
            "3622cea1e703424f94211f7e4e2c9825",
            "f4796b3e74104adaa3bbfc1754c24802",
            "480a95e4c7b74dce84b5b4bd770c11e6",
            "82629c26bf6a40cfb601bca3e18bca41",
            "297dd864b7ea43a39e199551529b20bc",
            "6a1522cb515f4372920165f012f76d2f",
            "d83aef22936d4e61a271d2c80423f1b3",
            "1ce2f40f276645a284b984bb1f3e7f5d",
            "a1d203c14f1640ffa954b2c7863d00e0",
            "cb84c346ff9d40d3b7fc599f558eae0b",
            "b452db5bc1b24db2adcef7271e8ffe23",
            "816de2c55e4c4bab8e544fbfbdffd5f1",
            "bbe27bac7aa14316a8839719d482ab3e",
            "230cd0362f7c46fe8999b862dafaa633",
            "7bf991757a044d5480389488071beef2",
            "70aaee6a851f48bd918fa918862585fe",
            "04f04f91653d4c65b2e0d1a66fbd3c4b",
            "af7def71f54c4c47baca07480656befc",
            "01ef3ef3d3db4ef39d954229e9297cdf"
          ]
        },
        "id": "36HnKdd3s1qv",
        "outputId": "7b37666e-d959-4d42-b686-144ab53cc1ce"
      },
      "source": [
        "wandb.agent(sweep_id, train)"
      ],
      "execution_count": null,
      "outputs": [
        {
          "output_type": "stream",
          "text": [
            "\u001b[34m\u001b[1mwandb\u001b[0m: Agent Starting Run: f4jg9bd6 with config:\n",
            "\u001b[34m\u001b[1mwandb\u001b[0m: \tactivation: softmax\n",
            "\u001b[34m\u001b[1mwandb\u001b[0m: \tbatch_size: 128\n",
            "\u001b[34m\u001b[1mwandb\u001b[0m: \tdropout: 0.3\n",
            "\u001b[34m\u001b[1mwandb\u001b[0m: \tepochs: 5\n",
            "\u001b[34m\u001b[1mwandb\u001b[0m: \tlearning_rate: 0.001\n",
            "\u001b[34m\u001b[1mwandb\u001b[0m: \toptimizer: adam\n"
          ],
          "name": "stderr"
        },
        {
          "output_type": "display_data",
          "data": {
            "text/html": [
              "\n",
              "                Tracking run with wandb version 0.10.23<br/>\n",
              "                Syncing run <strong style=\"color:#cdcd00\">effortless-sweep-1</strong> to <a href=\"https://wandb.ai\" target=\"_blank\">Weights & Biases</a> <a href=\"https://docs.wandb.com/integrations/jupyter.html\" target=\"_blank\">(Documentation)</a>.<br/>\n",
              "                Project page: <a href=\"https://wandb.ai/lucialarraona/Sweepslucia\" target=\"_blank\">https://wandb.ai/lucialarraona/Sweepslucia</a><br/>\n",
              "                Sweep page: <a href=\"https://wandb.ai/lucialarraona/Sweepslucia/sweeps/gkevt11s\" target=\"_blank\">https://wandb.ai/lucialarraona/Sweepslucia/sweeps/gkevt11s</a><br/>\n",
              "Run page: <a href=\"https://wandb.ai/lucialarraona/Sweepslucia/runs/f4jg9bd6\" target=\"_blank\">https://wandb.ai/lucialarraona/Sweepslucia/runs/f4jg9bd6</a><br/>\n",
              "                Run data is saved locally in <code>/content/wandb/run-20210325_113030-f4jg9bd6</code><br/><br/>\n",
              "            "
            ],
            "text/plain": [
              "<IPython.core.display.HTML object>"
            ]
          },
          "metadata": {
            "tags": []
          }
        },
        {
          "output_type": "stream",
          "text": [
            "Epoch 1/5\n",
            "1563/1563 [==============================] - 131s 62ms/step - loss: 2.6088 - accuracy: 0.2529 - val_loss: 1.9999 - val_accuracy: 0.4232\n",
            "Epoch 2/5\n",
            "1563/1563 [==============================] - 96s 61ms/step - loss: 2.0063 - accuracy: 0.4237 - val_loss: 1.8877 - val_accuracy: 0.4520\n",
            "Epoch 3/5\n",
            "1563/1563 [==============================] - 95s 61ms/step - loss: 1.9069 - accuracy: 0.4483 - val_loss: 1.8317 - val_accuracy: 0.4640\n",
            "Epoch 4/5\n",
            "1563/1563 [==============================] - 95s 61ms/step - loss: 1.8499 - accuracy: 0.4671 - val_loss: 1.8062 - val_accuracy: 0.4676\n",
            "Epoch 5/5\n",
            "1563/1563 [==============================] - 96s 61ms/step - loss: 1.8164 - accuracy: 0.4744 - val_loss: 1.7818 - val_accuracy: 0.4728\n"
          ],
          "name": "stdout"
        },
        {
          "output_type": "display_data",
          "data": {
            "text/html": [
              "<br/>Waiting for W&B process to finish, PID 622<br/>Program ended successfully."
            ],
            "text/plain": [
              "<IPython.core.display.HTML object>"
            ]
          },
          "metadata": {
            "tags": []
          }
        },
        {
          "output_type": "display_data",
          "data": {
            "application/vnd.jupyter.widget-view+json": {
              "model_id": "12d6d7211dce40ceb428f2d4d8bab2ad",
              "version_major": 2,
              "version_minor": 0
            },
            "text/plain": [
              "VBox(children=(Label(value=' 62.25MB of 62.25MB uploaded (0.00MB deduped)\\r'), FloatProgress(value=1.0, max=1.…"
            ]
          },
          "metadata": {
            "tags": []
          }
        },
        {
          "output_type": "display_data",
          "data": {
            "text/html": [
              "Find user logs for this run at: <code>/content/wandb/run-20210325_113030-f4jg9bd6/logs/debug.log</code>"
            ],
            "text/plain": [
              "<IPython.core.display.HTML object>"
            ]
          },
          "metadata": {
            "tags": []
          }
        },
        {
          "output_type": "display_data",
          "data": {
            "text/html": [
              "Find internal logs for this run at: <code>/content/wandb/run-20210325_113030-f4jg9bd6/logs/debug-internal.log</code>"
            ],
            "text/plain": [
              "<IPython.core.display.HTML object>"
            ]
          },
          "metadata": {
            "tags": []
          }
        },
        {
          "output_type": "display_data",
          "data": {
            "text/html": [
              "<h3>Run summary:</h3><br/><style>\n",
              "    table.wandb td:nth-child(1) { padding: 0 10px; text-align: right }\n",
              "    </style><table class=\"wandb\">\n",
              "<tr><td>epoch</td><td>4</td></tr><tr><td>loss</td><td>1.81247</td></tr><tr><td>accuracy</td><td>0.47542</td></tr><tr><td>val_loss</td><td>1.78178</td></tr><tr><td>val_accuracy</td><td>0.4728</td></tr><tr><td>_runtime</td><td>517</td></tr><tr><td>_timestamp</td><td>1616672347</td></tr><tr><td>_step</td><td>4</td></tr><tr><td>best_val_loss</td><td>1.78178</td></tr><tr><td>best_epoch</td><td>4</td></tr></table>"
            ],
            "text/plain": [
              "<IPython.core.display.HTML object>"
            ]
          },
          "metadata": {
            "tags": []
          }
        },
        {
          "output_type": "display_data",
          "data": {
            "text/html": [
              "<h3>Run history:</h3><br/><style>\n",
              "    table.wandb td:nth-child(1) { padding: 0 10px; text-align: right }\n",
              "    </style><table class=\"wandb\">\n",
              "<tr><td>epoch</td><td>▁▃▅▆█</td></tr><tr><td>loss</td><td>█▃▂▁▁</td></tr><tr><td>accuracy</td><td>▁▆▇██</td></tr><tr><td>val_loss</td><td>█▄▃▂▁</td></tr><tr><td>val_accuracy</td><td>▁▅▇▇█</td></tr><tr><td>_runtime</td><td>▁▃▅▆█</td></tr><tr><td>_timestamp</td><td>▁▃▅▆█</td></tr><tr><td>_step</td><td>▁▃▅▆█</td></tr></table><br/>"
            ],
            "text/plain": [
              "<IPython.core.display.HTML object>"
            ]
          },
          "metadata": {
            "tags": []
          }
        },
        {
          "output_type": "display_data",
          "data": {
            "text/html": [
              "Synced 5 W&B file(s), 1 media file(s), 0 artifact file(s) and 1 other file(s)"
            ],
            "text/plain": [
              "<IPython.core.display.HTML object>"
            ]
          },
          "metadata": {
            "tags": []
          }
        },
        {
          "output_type": "display_data",
          "data": {
            "text/html": [
              "\n",
              "                    <br/>Synced <strong style=\"color:#cdcd00\">effortless-sweep-1</strong>: <a href=\"https://wandb.ai/lucialarraona/Sweepslucia/runs/f4jg9bd6\" target=\"_blank\">https://wandb.ai/lucialarraona/Sweepslucia/runs/f4jg9bd6</a><br/>\n",
              "                "
            ],
            "text/plain": [
              "<IPython.core.display.HTML object>"
            ]
          },
          "metadata": {
            "tags": []
          }
        },
        {
          "output_type": "stream",
          "text": [
            "\u001b[34m\u001b[1mwandb\u001b[0m: Agent Starting Run: 714vje6f with config:\n",
            "\u001b[34m\u001b[1mwandb\u001b[0m: \tactivation: softmax\n",
            "\u001b[34m\u001b[1mwandb\u001b[0m: \tbatch_size: 128\n",
            "\u001b[34m\u001b[1mwandb\u001b[0m: \tdropout: 0.4\n",
            "\u001b[34m\u001b[1mwandb\u001b[0m: \tepochs: 5\n",
            "\u001b[34m\u001b[1mwandb\u001b[0m: \tlearning_rate: 0.003\n",
            "\u001b[34m\u001b[1mwandb\u001b[0m: \toptimizer: adam\n"
          ],
          "name": "stderr"
        },
        {
          "output_type": "display_data",
          "data": {
            "text/html": [
              "\n",
              "                Tracking run with wandb version 0.10.23<br/>\n",
              "                Syncing run <strong style=\"color:#cdcd00\">major-sweep-2</strong> to <a href=\"https://wandb.ai\" target=\"_blank\">Weights & Biases</a> <a href=\"https://docs.wandb.com/integrations/jupyter.html\" target=\"_blank\">(Documentation)</a>.<br/>\n",
              "                Project page: <a href=\"https://wandb.ai/lucialarraona/Sweepslucia\" target=\"_blank\">https://wandb.ai/lucialarraona/Sweepslucia</a><br/>\n",
              "                Sweep page: <a href=\"https://wandb.ai/lucialarraona/Sweepslucia/sweeps/gkevt11s\" target=\"_blank\">https://wandb.ai/lucialarraona/Sweepslucia/sweeps/gkevt11s</a><br/>\n",
              "Run page: <a href=\"https://wandb.ai/lucialarraona/Sweepslucia/runs/714vje6f\" target=\"_blank\">https://wandb.ai/lucialarraona/Sweepslucia/runs/714vje6f</a><br/>\n",
              "                Run data is saved locally in <code>/content/wandb/run-20210325_113914-714vje6f</code><br/><br/>\n",
              "            "
            ],
            "text/plain": [
              "<IPython.core.display.HTML object>"
            ]
          },
          "metadata": {
            "tags": []
          }
        },
        {
          "output_type": "stream",
          "text": [
            "Epoch 1/5\n",
            "1563/1563 [==============================] - 101s 63ms/step - loss: 2.4209 - accuracy: 0.3054 - val_loss: 1.8865 - val_accuracy: 0.4584\n",
            "Epoch 2/5\n",
            "1563/1563 [==============================] - 96s 62ms/step - loss: 1.9244 - accuracy: 0.4481 - val_loss: 1.8217 - val_accuracy: 0.4696\n",
            "Epoch 3/5\n",
            "1563/1563 [==============================] - 96s 61ms/step - loss: 1.8460 - accuracy: 0.4676 - val_loss: 1.8006 - val_accuracy: 0.4716\n",
            "Epoch 4/5\n",
            "1563/1563 [==============================] - 97s 62ms/step - loss: 1.8081 - accuracy: 0.4748 - val_loss: 1.7714 - val_accuracy: 0.4876\n",
            "Epoch 5/5\n",
            "1563/1563 [==============================] - 97s 62ms/step - loss: 1.7622 - accuracy: 0.4887 - val_loss: 1.7484 - val_accuracy: 0.4972\n"
          ],
          "name": "stdout"
        },
        {
          "output_type": "display_data",
          "data": {
            "text/html": [
              "<br/>Waiting for W&B process to finish, PID 714<br/>Program ended successfully."
            ],
            "text/plain": [
              "<IPython.core.display.HTML object>"
            ]
          },
          "metadata": {
            "tags": []
          }
        },
        {
          "output_type": "display_data",
          "data": {
            "application/vnd.jupyter.widget-view+json": {
              "model_id": "b69e3cdedb5b40d5a4c5c44939a18723",
              "version_major": 2,
              "version_minor": 0
            },
            "text/plain": [
              "VBox(children=(Label(value=' 62.25MB of 62.25MB uploaded (0.00MB deduped)\\r'), FloatProgress(value=1.0, max=1.…"
            ]
          },
          "metadata": {
            "tags": []
          }
        },
        {
          "output_type": "display_data",
          "data": {
            "text/html": [
              "Find user logs for this run at: <code>/content/wandb/run-20210325_113914-714vje6f/logs/debug.log</code>"
            ],
            "text/plain": [
              "<IPython.core.display.HTML object>"
            ]
          },
          "metadata": {
            "tags": []
          }
        },
        {
          "output_type": "display_data",
          "data": {
            "text/html": [
              "Find internal logs for this run at: <code>/content/wandb/run-20210325_113914-714vje6f/logs/debug-internal.log</code>"
            ],
            "text/plain": [
              "<IPython.core.display.HTML object>"
            ]
          },
          "metadata": {
            "tags": []
          }
        },
        {
          "output_type": "display_data",
          "data": {
            "text/html": [
              "<h3>Run summary:</h3><br/><style>\n",
              "    table.wandb td:nth-child(1) { padding: 0 10px; text-align: right }\n",
              "    </style><table class=\"wandb\">\n",
              "<tr><td>epoch</td><td>4</td></tr><tr><td>loss</td><td>1.77237</td></tr><tr><td>accuracy</td><td>0.48633</td></tr><tr><td>val_loss</td><td>1.74842</td></tr><tr><td>val_accuracy</td><td>0.4972</td></tr><tr><td>_runtime</td><td>491</td></tr><tr><td>_timestamp</td><td>1616672845</td></tr><tr><td>_step</td><td>4</td></tr><tr><td>best_val_loss</td><td>1.74842</td></tr><tr><td>best_epoch</td><td>4</td></tr></table>"
            ],
            "text/plain": [
              "<IPython.core.display.HTML object>"
            ]
          },
          "metadata": {
            "tags": []
          }
        },
        {
          "output_type": "display_data",
          "data": {
            "text/html": [
              "<h3>Run history:</h3><br/><style>\n",
              "    table.wandb td:nth-child(1) { padding: 0 10px; text-align: right }\n",
              "    </style><table class=\"wandb\">\n",
              "<tr><td>epoch</td><td>▁▃▅▆█</td></tr><tr><td>loss</td><td>█▃▂▂▁</td></tr><tr><td>accuracy</td><td>▁▆▇▇█</td></tr><tr><td>val_loss</td><td>█▅▄▂▁</td></tr><tr><td>val_accuracy</td><td>▁▃▃▆█</td></tr><tr><td>_runtime</td><td>▁▃▄▆█</td></tr><tr><td>_timestamp</td><td>▁▃▄▆█</td></tr><tr><td>_step</td><td>▁▃▅▆█</td></tr></table><br/>"
            ],
            "text/plain": [
              "<IPython.core.display.HTML object>"
            ]
          },
          "metadata": {
            "tags": []
          }
        },
        {
          "output_type": "display_data",
          "data": {
            "text/html": [
              "Synced 5 W&B file(s), 1 media file(s), 0 artifact file(s) and 1 other file(s)"
            ],
            "text/plain": [
              "<IPython.core.display.HTML object>"
            ]
          },
          "metadata": {
            "tags": []
          }
        },
        {
          "output_type": "display_data",
          "data": {
            "text/html": [
              "\n",
              "                    <br/>Synced <strong style=\"color:#cdcd00\">major-sweep-2</strong>: <a href=\"https://wandb.ai/lucialarraona/Sweepslucia/runs/714vje6f\" target=\"_blank\">https://wandb.ai/lucialarraona/Sweepslucia/runs/714vje6f</a><br/>\n",
              "                "
            ],
            "text/plain": [
              "<IPython.core.display.HTML object>"
            ]
          },
          "metadata": {
            "tags": []
          }
        },
        {
          "output_type": "stream",
          "text": [
            "\u001b[34m\u001b[1mwandb\u001b[0m: Agent Starting Run: 09khtbp8 with config:\n",
            "\u001b[34m\u001b[1mwandb\u001b[0m: \tactivation: softmax\n",
            "\u001b[34m\u001b[1mwandb\u001b[0m: \tbatch_size: 64\n",
            "\u001b[34m\u001b[1mwandb\u001b[0m: \tdropout: 0.4\n",
            "\u001b[34m\u001b[1mwandb\u001b[0m: \tepochs: 8\n",
            "\u001b[34m\u001b[1mwandb\u001b[0m: \tlearning_rate: 0.001\n",
            "\u001b[34m\u001b[1mwandb\u001b[0m: \toptimizer: adam\n"
          ],
          "name": "stderr"
        },
        {
          "output_type": "display_data",
          "data": {
            "text/html": [
              "\n",
              "                Tracking run with wandb version 0.10.23<br/>\n",
              "                Syncing run <strong style=\"color:#cdcd00\">rich-sweep-3</strong> to <a href=\"https://wandb.ai\" target=\"_blank\">Weights & Biases</a> <a href=\"https://docs.wandb.com/integrations/jupyter.html\" target=\"_blank\">(Documentation)</a>.<br/>\n",
              "                Project page: <a href=\"https://wandb.ai/lucialarraona/Sweepslucia\" target=\"_blank\">https://wandb.ai/lucialarraona/Sweepslucia</a><br/>\n",
              "                Sweep page: <a href=\"https://wandb.ai/lucialarraona/Sweepslucia/sweeps/gkevt11s\" target=\"_blank\">https://wandb.ai/lucialarraona/Sweepslucia/sweeps/gkevt11s</a><br/>\n",
              "Run page: <a href=\"https://wandb.ai/lucialarraona/Sweepslucia/runs/09khtbp8\" target=\"_blank\">https://wandb.ai/lucialarraona/Sweepslucia/runs/09khtbp8</a><br/>\n",
              "                Run data is saved locally in <code>/content/wandb/run-20210325_114732-09khtbp8</code><br/><br/>\n",
              "            "
            ],
            "text/plain": [
              "<IPython.core.display.HTML object>"
            ]
          },
          "metadata": {
            "tags": []
          }
        },
        {
          "output_type": "stream",
          "text": [
            "Epoch 1/8\n",
            "3125/3125 [==============================] - 127s 40ms/step - loss: 2.5052 - accuracy: 0.2825 - val_loss: 1.9345 - val_accuracy: 0.4416\n",
            "Epoch 2/8\n",
            "3125/3125 [==============================] - 124s 40ms/step - loss: 1.9568 - accuracy: 0.4373 - val_loss: 1.8546 - val_accuracy: 0.4588\n",
            "Epoch 3/8\n",
            "3125/3125 [==============================] - 123s 40ms/step - loss: 1.8698 - accuracy: 0.4587 - val_loss: 1.7970 - val_accuracy: 0.4732\n",
            "Epoch 4/8\n",
            "3125/3125 [==============================] - 123s 39ms/step - loss: 1.8172 - accuracy: 0.4731 - val_loss: 1.7840 - val_accuracy: 0.4840\n",
            "Epoch 5/8\n",
            "3125/3125 [==============================] - 123s 39ms/step - loss: 1.7807 - accuracy: 0.4831 - val_loss: 1.7733 - val_accuracy: 0.4876\n",
            "Epoch 6/8\n",
            "3125/3125 [==============================] - 123s 39ms/step - loss: 1.7556 - accuracy: 0.4896 - val_loss: 1.7575 - val_accuracy: 0.4968\n",
            "Epoch 7/8\n",
            "3125/3125 [==============================] - 123s 39ms/step - loss: 1.7329 - accuracy: 0.4966 - val_loss: 1.7445 - val_accuracy: 0.4888\n",
            "Epoch 8/8\n",
            "3125/3125 [==============================] - 123s 39ms/step - loss: 1.7070 - accuracy: 0.5005 - val_loss: 1.7374 - val_accuracy: 0.4964\n"
          ],
          "name": "stdout"
        },
        {
          "output_type": "display_data",
          "data": {
            "text/html": [
              "<br/>Waiting for W&B process to finish, PID 787<br/>Program ended successfully."
            ],
            "text/plain": [
              "<IPython.core.display.HTML object>"
            ]
          },
          "metadata": {
            "tags": []
          }
        },
        {
          "output_type": "display_data",
          "data": {
            "application/vnd.jupyter.widget-view+json": {
              "model_id": "cdb5fdc52f1540e793343ab6d7ecc9e8",
              "version_major": 2,
              "version_minor": 0
            },
            "text/plain": [
              "VBox(children=(Label(value=' 62.25MB of 62.25MB uploaded (0.00MB deduped)\\r'), FloatProgress(value=1.0, max=1.…"
            ]
          },
          "metadata": {
            "tags": []
          }
        },
        {
          "output_type": "display_data",
          "data": {
            "text/html": [
              "Find user logs for this run at: <code>/content/wandb/run-20210325_114732-09khtbp8/logs/debug.log</code>"
            ],
            "text/plain": [
              "<IPython.core.display.HTML object>"
            ]
          },
          "metadata": {
            "tags": []
          }
        },
        {
          "output_type": "display_data",
          "data": {
            "text/html": [
              "Find internal logs for this run at: <code>/content/wandb/run-20210325_114732-09khtbp8/logs/debug-internal.log</code>"
            ],
            "text/plain": [
              "<IPython.core.display.HTML object>"
            ]
          },
          "metadata": {
            "tags": []
          }
        },
        {
          "output_type": "display_data",
          "data": {
            "text/html": [
              "<h3>Run summary:</h3><br/><style>\n",
              "    table.wandb td:nth-child(1) { padding: 0 10px; text-align: right }\n",
              "    </style><table class=\"wandb\">\n",
              "<tr><td>epoch</td><td>7</td></tr><tr><td>loss</td><td>1.71778</td></tr><tr><td>accuracy</td><td>0.49854</td></tr><tr><td>val_loss</td><td>1.73745</td></tr><tr><td>val_accuracy</td><td>0.4964</td></tr><tr><td>_runtime</td><td>994</td></tr><tr><td>_timestamp</td><td>1616673846</td></tr><tr><td>_step</td><td>7</td></tr><tr><td>best_val_loss</td><td>1.73745</td></tr><tr><td>best_epoch</td><td>7</td></tr></table>"
            ],
            "text/plain": [
              "<IPython.core.display.HTML object>"
            ]
          },
          "metadata": {
            "tags": []
          }
        },
        {
          "output_type": "display_data",
          "data": {
            "text/html": [
              "<h3>Run history:</h3><br/><style>\n",
              "    table.wandb td:nth-child(1) { padding: 0 10px; text-align: right }\n",
              "    </style><table class=\"wandb\">\n",
              "<tr><td>epoch</td><td>▁▂▃▄▅▆▇█</td></tr><tr><td>loss</td><td>█▄▃▂▂▂▁▁</td></tr><tr><td>accuracy</td><td>▁▅▆▇▇▇██</td></tr><tr><td>val_loss</td><td>█▅▃▃▂▂▁▁</td></tr><tr><td>val_accuracy</td><td>▁▃▅▆▇█▇█</td></tr><tr><td>_runtime</td><td>▁▂▃▄▅▆▇█</td></tr><tr><td>_timestamp</td><td>▁▂▃▄▅▆▇█</td></tr><tr><td>_step</td><td>▁▂▃▄▅▆▇█</td></tr></table><br/>"
            ],
            "text/plain": [
              "<IPython.core.display.HTML object>"
            ]
          },
          "metadata": {
            "tags": []
          }
        },
        {
          "output_type": "display_data",
          "data": {
            "text/html": [
              "Synced 5 W&B file(s), 1 media file(s), 0 artifact file(s) and 1 other file(s)"
            ],
            "text/plain": [
              "<IPython.core.display.HTML object>"
            ]
          },
          "metadata": {
            "tags": []
          }
        },
        {
          "output_type": "display_data",
          "data": {
            "text/html": [
              "\n",
              "                    <br/>Synced <strong style=\"color:#cdcd00\">rich-sweep-3</strong>: <a href=\"https://wandb.ai/lucialarraona/Sweepslucia/runs/09khtbp8\" target=\"_blank\">https://wandb.ai/lucialarraona/Sweepslucia/runs/09khtbp8</a><br/>\n",
              "                "
            ],
            "text/plain": [
              "<IPython.core.display.HTML object>"
            ]
          },
          "metadata": {
            "tags": []
          }
        },
        {
          "output_type": "stream",
          "text": [
            "\u001b[34m\u001b[1mwandb\u001b[0m: Agent Starting Run: a9qjjpbf with config:\n",
            "\u001b[34m\u001b[1mwandb\u001b[0m: \tactivation: softmax\n",
            "\u001b[34m\u001b[1mwandb\u001b[0m: \tbatch_size: 128\n",
            "\u001b[34m\u001b[1mwandb\u001b[0m: \tdropout: 0.3\n",
            "\u001b[34m\u001b[1mwandb\u001b[0m: \tepochs: 5\n",
            "\u001b[34m\u001b[1mwandb\u001b[0m: \tlearning_rate: 0.003\n",
            "\u001b[34m\u001b[1mwandb\u001b[0m: \toptimizer: adam\n"
          ],
          "name": "stderr"
        },
        {
          "output_type": "display_data",
          "data": {
            "text/html": [
              "\n",
              "                Tracking run with wandb version 0.10.23<br/>\n",
              "                Syncing run <strong style=\"color:#cdcd00\">eager-sweep-4</strong> to <a href=\"https://wandb.ai\" target=\"_blank\">Weights & Biases</a> <a href=\"https://docs.wandb.com/integrations/jupyter.html\" target=\"_blank\">(Documentation)</a>.<br/>\n",
              "                Project page: <a href=\"https://wandb.ai/lucialarraona/Sweepslucia\" target=\"_blank\">https://wandb.ai/lucialarraona/Sweepslucia</a><br/>\n",
              "                Sweep page: <a href=\"https://wandb.ai/lucialarraona/Sweepslucia/sweeps/gkevt11s\" target=\"_blank\">https://wandb.ai/lucialarraona/Sweepslucia/sweeps/gkevt11s</a><br/>\n",
              "Run page: <a href=\"https://wandb.ai/lucialarraona/Sweepslucia/runs/a9qjjpbf\" target=\"_blank\">https://wandb.ai/lucialarraona/Sweepslucia/runs/a9qjjpbf</a><br/>\n",
              "                Run data is saved locally in <code>/content/wandb/run-20210325_120414-a9qjjpbf</code><br/><br/>\n",
              "            "
            ],
            "text/plain": [
              "<IPython.core.display.HTML object>"
            ]
          },
          "metadata": {
            "tags": []
          }
        },
        {
          "output_type": "stream",
          "text": [
            "Epoch 1/5\n",
            "1563/1563 [==============================] - 103s 64ms/step - loss: 2.4156 - accuracy: 0.3069 - val_loss: 1.8771 - val_accuracy: 0.4624\n",
            "Epoch 2/5\n",
            "1563/1563 [==============================] - 99s 63ms/step - loss: 1.9181 - accuracy: 0.4474 - val_loss: 1.8403 - val_accuracy: 0.4640\n",
            "Epoch 3/5\n",
            "1563/1563 [==============================] - 99s 64ms/step - loss: 1.8462 - accuracy: 0.4660 - val_loss: 1.8002 - val_accuracy: 0.4756\n",
            "Epoch 4/5\n",
            "1563/1563 [==============================] - 98s 63ms/step - loss: 1.8042 - accuracy: 0.4771 - val_loss: 1.7871 - val_accuracy: 0.4940\n",
            "Epoch 5/5\n",
            "1563/1563 [==============================] - 99s 63ms/step - loss: 1.7718 - accuracy: 0.4847 - val_loss: 1.7567 - val_accuracy: 0.4944\n"
          ],
          "name": "stdout"
        },
        {
          "output_type": "display_data",
          "data": {
            "text/html": [
              "<br/>Waiting for W&B process to finish, PID 889<br/>Program ended successfully."
            ],
            "text/plain": [
              "<IPython.core.display.HTML object>"
            ]
          },
          "metadata": {
            "tags": []
          }
        },
        {
          "output_type": "display_data",
          "data": {
            "application/vnd.jupyter.widget-view+json": {
              "model_id": "fcb79d11816f4c829f4d447ab59ba137",
              "version_minor": 0,
              "version_major": 2
            },
            "text/plain": [
              "VBox(children=(Label(value=' 62.25MB of 62.25MB uploaded (0.00MB deduped)\\r'), FloatProgress(value=1.0, max=1.…"
            ]
          },
          "metadata": {
            "tags": []
          }
        },
        {
          "output_type": "display_data",
          "data": {
            "text/html": [
              "Find user logs for this run at: <code>/content/wandb/run-20210325_120414-a9qjjpbf/logs/debug.log</code>"
            ],
            "text/plain": [
              "<IPython.core.display.HTML object>"
            ]
          },
          "metadata": {
            "tags": []
          }
        },
        {
          "output_type": "display_data",
          "data": {
            "text/html": [
              "Find internal logs for this run at: <code>/content/wandb/run-20210325_120414-a9qjjpbf/logs/debug-internal.log</code>"
            ],
            "text/plain": [
              "<IPython.core.display.HTML object>"
            ]
          },
          "metadata": {
            "tags": []
          }
        },
        {
          "output_type": "display_data",
          "data": {
            "text/html": [
              "<h3>Run summary:</h3><br/><style>\n",
              "    table.wandb td:nth-child(1) { padding: 0 10px; text-align: right }\n",
              "    </style><table class=\"wandb\">\n",
              "<tr><td>epoch</td><td>4</td></tr><tr><td>loss</td><td>1.77782</td></tr><tr><td>accuracy</td><td>0.48382</td></tr><tr><td>val_loss</td><td>1.75668</td></tr><tr><td>val_accuracy</td><td>0.4944</td></tr><tr><td>_runtime</td><td>502</td></tr><tr><td>_timestamp</td><td>1616674356</td></tr><tr><td>_step</td><td>4</td></tr><tr><td>best_val_loss</td><td>1.75668</td></tr><tr><td>best_epoch</td><td>4</td></tr></table>"
            ],
            "text/plain": [
              "<IPython.core.display.HTML object>"
            ]
          },
          "metadata": {
            "tags": []
          }
        },
        {
          "output_type": "display_data",
          "data": {
            "text/html": [
              "<h3>Run history:</h3><br/><style>\n",
              "    table.wandb td:nth-child(1) { padding: 0 10px; text-align: right }\n",
              "    </style><table class=\"wandb\">\n",
              "<tr><td>epoch</td><td>▁▃▅▆█</td></tr><tr><td>loss</td><td>█▃▂▂▁</td></tr><tr><td>accuracy</td><td>▁▆▇██</td></tr><tr><td>val_loss</td><td>█▆▄▃▁</td></tr><tr><td>val_accuracy</td><td>▁▁▄██</td></tr><tr><td>_runtime</td><td>▁▃▅▆█</td></tr><tr><td>_timestamp</td><td>▁▃▅▆█</td></tr><tr><td>_step</td><td>▁▃▅▆█</td></tr></table><br/>"
            ],
            "text/plain": [
              "<IPython.core.display.HTML object>"
            ]
          },
          "metadata": {
            "tags": []
          }
        },
        {
          "output_type": "display_data",
          "data": {
            "text/html": [
              "Synced 5 W&B file(s), 1 media file(s), 0 artifact file(s) and 1 other file(s)"
            ],
            "text/plain": [
              "<IPython.core.display.HTML object>"
            ]
          },
          "metadata": {
            "tags": []
          }
        },
        {
          "output_type": "display_data",
          "data": {
            "text/html": [
              "\n",
              "                    <br/>Synced <strong style=\"color:#cdcd00\">eager-sweep-4</strong>: <a href=\"https://wandb.ai/lucialarraona/Sweepslucia/runs/a9qjjpbf\" target=\"_blank\">https://wandb.ai/lucialarraona/Sweepslucia/runs/a9qjjpbf</a><br/>\n",
              "                "
            ],
            "text/plain": [
              "<IPython.core.display.HTML object>"
            ]
          },
          "metadata": {
            "tags": []
          }
        },
        {
          "output_type": "stream",
          "text": [
            "\u001b[34m\u001b[1mwandb\u001b[0m: Agent Starting Run: 0ehlfvcd with config:\n",
            "\u001b[34m\u001b[1mwandb\u001b[0m: \tactivation: softmax\n",
            "\u001b[34m\u001b[1mwandb\u001b[0m: \tbatch_size: 64\n",
            "\u001b[34m\u001b[1mwandb\u001b[0m: \tdropout: 0.4\n",
            "\u001b[34m\u001b[1mwandb\u001b[0m: \tepochs: 5\n",
            "\u001b[34m\u001b[1mwandb\u001b[0m: \tlearning_rate: 0.003\n",
            "\u001b[34m\u001b[1mwandb\u001b[0m: \toptimizer: adam\n"
          ],
          "name": "stderr"
        },
        {
          "output_type": "display_data",
          "data": {
            "text/html": [
              "\n",
              "                Tracking run with wandb version 0.10.23<br/>\n",
              "                Syncing run <strong style=\"color:#cdcd00\">glad-sweep-5</strong> to <a href=\"https://wandb.ai\" target=\"_blank\">Weights & Biases</a> <a href=\"https://docs.wandb.com/integrations/jupyter.html\" target=\"_blank\">(Documentation)</a>.<br/>\n",
              "                Project page: <a href=\"https://wandb.ai/lucialarraona/Sweepslucia\" target=\"_blank\">https://wandb.ai/lucialarraona/Sweepslucia</a><br/>\n",
              "                Sweep page: <a href=\"https://wandb.ai/lucialarraona/Sweepslucia/sweeps/gkevt11s\" target=\"_blank\">https://wandb.ai/lucialarraona/Sweepslucia/sweeps/gkevt11s</a><br/>\n",
              "Run page: <a href=\"https://wandb.ai/lucialarraona/Sweepslucia/runs/0ehlfvcd\" target=\"_blank\">https://wandb.ai/lucialarraona/Sweepslucia/runs/0ehlfvcd</a><br/>\n",
              "                Run data is saved locally in <code>/content/wandb/run-20210325_121245-0ehlfvcd</code><br/><br/>\n",
              "            "
            ],
            "text/plain": [
              "<IPython.core.display.HTML object>"
            ]
          },
          "metadata": {
            "tags": []
          }
        },
        {
          "output_type": "stream",
          "text": [
            "Epoch 1/5\n",
            "3125/3125 [==============================] - 126s 39ms/step - loss: 2.3695 - accuracy: 0.3199 - val_loss: 1.8809 - val_accuracy: 0.4636\n",
            "Epoch 2/5\n",
            "3125/3125 [==============================] - 122s 39ms/step - loss: 1.9188 - accuracy: 0.4482 - val_loss: 1.8133 - val_accuracy: 0.4748\n",
            "Epoch 3/5\n",
            "3125/3125 [==============================] - 122s 39ms/step - loss: 1.8492 - accuracy: 0.4662 - val_loss: 1.7921 - val_accuracy: 0.4784\n",
            "Epoch 4/5\n",
            "3125/3125 [==============================] - 122s 39ms/step - loss: 1.8096 - accuracy: 0.4750 - val_loss: 1.7610 - val_accuracy: 0.4916\n",
            "Epoch 5/5\n",
            "3125/3125 [==============================] - 123s 39ms/step - loss: 1.7636 - accuracy: 0.4863 - val_loss: 1.7497 - val_accuracy: 0.4948\n"
          ],
          "name": "stdout"
        },
        {
          "output_type": "display_data",
          "data": {
            "text/html": [
              "<br/>Waiting for W&B process to finish, PID 962<br/>Program ended successfully."
            ],
            "text/plain": [
              "<IPython.core.display.HTML object>"
            ]
          },
          "metadata": {
            "tags": []
          }
        },
        {
          "output_type": "display_data",
          "data": {
            "application/vnd.jupyter.widget-view+json": {
              "model_id": "8f2d66e46a2b43b7a57df6eec405a07c",
              "version_minor": 0,
              "version_major": 2
            },
            "text/plain": [
              "VBox(children=(Label(value=' 62.25MB of 62.25MB uploaded (0.00MB deduped)\\r'), FloatProgress(value=1.0, max=1.…"
            ]
          },
          "metadata": {
            "tags": []
          }
        },
        {
          "output_type": "display_data",
          "data": {
            "text/html": [
              "Find user logs for this run at: <code>/content/wandb/run-20210325_121245-0ehlfvcd/logs/debug.log</code>"
            ],
            "text/plain": [
              "<IPython.core.display.HTML object>"
            ]
          },
          "metadata": {
            "tags": []
          }
        },
        {
          "output_type": "display_data",
          "data": {
            "text/html": [
              "Find internal logs for this run at: <code>/content/wandb/run-20210325_121245-0ehlfvcd/logs/debug-internal.log</code>"
            ],
            "text/plain": [
              "<IPython.core.display.HTML object>"
            ]
          },
          "metadata": {
            "tags": []
          }
        },
        {
          "output_type": "display_data",
          "data": {
            "text/html": [
              "<h3>Run summary:</h3><br/><style>\n",
              "    table.wandb td:nth-child(1) { padding: 0 10px; text-align: right }\n",
              "    </style><table class=\"wandb\">\n",
              "<tr><td>epoch</td><td>4</td></tr><tr><td>loss</td><td>1.77753</td></tr><tr><td>accuracy</td><td>0.48298</td></tr><tr><td>val_loss</td><td>1.7497</td></tr><tr><td>val_accuracy</td><td>0.4948</td></tr><tr><td>_runtime</td><td>619</td></tr><tr><td>_timestamp</td><td>1616674984</td></tr><tr><td>_step</td><td>4</td></tr><tr><td>best_val_loss</td><td>1.7497</td></tr><tr><td>best_epoch</td><td>4</td></tr></table>"
            ],
            "text/plain": [
              "<IPython.core.display.HTML object>"
            ]
          },
          "metadata": {
            "tags": []
          }
        },
        {
          "output_type": "display_data",
          "data": {
            "text/html": [
              "<h3>Run history:</h3><br/><style>\n",
              "    table.wandb td:nth-child(1) { padding: 0 10px; text-align: right }\n",
              "    </style><table class=\"wandb\">\n",
              "<tr><td>epoch</td><td>▁▃▅▆█</td></tr><tr><td>loss</td><td>█▄▂▂▁</td></tr><tr><td>accuracy</td><td>▁▆▇▇█</td></tr><tr><td>val_loss</td><td>█▄▃▂▁</td></tr><tr><td>val_accuracy</td><td>▁▄▄▇█</td></tr><tr><td>_runtime</td><td>▁▃▅▆█</td></tr><tr><td>_timestamp</td><td>▁▃▅▆█</td></tr><tr><td>_step</td><td>▁▃▅▆█</td></tr></table><br/>"
            ],
            "text/plain": [
              "<IPython.core.display.HTML object>"
            ]
          },
          "metadata": {
            "tags": []
          }
        },
        {
          "output_type": "display_data",
          "data": {
            "text/html": [
              "Synced 5 W&B file(s), 1 media file(s), 0 artifact file(s) and 1 other file(s)"
            ],
            "text/plain": [
              "<IPython.core.display.HTML object>"
            ]
          },
          "metadata": {
            "tags": []
          }
        },
        {
          "output_type": "display_data",
          "data": {
            "text/html": [
              "\n",
              "                    <br/>Synced <strong style=\"color:#cdcd00\">glad-sweep-5</strong>: <a href=\"https://wandb.ai/lucialarraona/Sweepslucia/runs/0ehlfvcd\" target=\"_blank\">https://wandb.ai/lucialarraona/Sweepslucia/runs/0ehlfvcd</a><br/>\n",
              "                "
            ],
            "text/plain": [
              "<IPython.core.display.HTML object>"
            ]
          },
          "metadata": {
            "tags": []
          }
        },
        {
          "output_type": "stream",
          "text": [
            "\u001b[34m\u001b[1mwandb\u001b[0m: Agent Starting Run: zfo1426j with config:\n",
            "\u001b[34m\u001b[1mwandb\u001b[0m: \tactivation: softmax\n",
            "\u001b[34m\u001b[1mwandb\u001b[0m: \tbatch_size: 64\n",
            "\u001b[34m\u001b[1mwandb\u001b[0m: \tdropout: 0.3\n",
            "\u001b[34m\u001b[1mwandb\u001b[0m: \tepochs: 8\n",
            "\u001b[34m\u001b[1mwandb\u001b[0m: \tlearning_rate: 1e-05\n",
            "\u001b[34m\u001b[1mwandb\u001b[0m: \toptimizer: adam\n"
          ],
          "name": "stderr"
        },
        {
          "output_type": "display_data",
          "data": {
            "text/html": [
              "\n",
              "                Tracking run with wandb version 0.10.23<br/>\n",
              "                Syncing run <strong style=\"color:#cdcd00\">pleasant-sweep-6</strong> to <a href=\"https://wandb.ai\" target=\"_blank\">Weights & Biases</a> <a href=\"https://docs.wandb.com/integrations/jupyter.html\" target=\"_blank\">(Documentation)</a>.<br/>\n",
              "                Project page: <a href=\"https://wandb.ai/lucialarraona/Sweepslucia\" target=\"_blank\">https://wandb.ai/lucialarraona/Sweepslucia</a><br/>\n",
              "                Sweep page: <a href=\"https://wandb.ai/lucialarraona/Sweepslucia/sweeps/gkevt11s\" target=\"_blank\">https://wandb.ai/lucialarraona/Sweepslucia/sweeps/gkevt11s</a><br/>\n",
              "Run page: <a href=\"https://wandb.ai/lucialarraona/Sweepslucia/runs/zfo1426j\" target=\"_blank\">https://wandb.ai/lucialarraona/Sweepslucia/runs/zfo1426j</a><br/>\n",
              "                Run data is saved locally in <code>/content/wandb/run-20210325_122313-zfo1426j</code><br/><br/>\n",
              "            "
            ],
            "text/plain": [
              "<IPython.core.display.HTML object>"
            ]
          },
          "metadata": {
            "tags": []
          }
        },
        {
          "output_type": "stream",
          "text": [
            "Epoch 1/8\n",
            "3125/3125 [==============================] - 128s 40ms/step - loss: 3.2603 - accuracy: 0.0835 - val_loss: 3.1589 - val_accuracy: 0.0932\n",
            "Epoch 2/8\n",
            "3125/3125 [==============================] - 124s 40ms/step - loss: 3.1294 - accuracy: 0.1049 - val_loss: 3.0107 - val_accuracy: 0.1408\n",
            "Epoch 3/8\n",
            "3125/3125 [==============================] - 125s 40ms/step - loss: 2.9750 - accuracy: 0.1573 - val_loss: 2.8935 - val_accuracy: 0.1684\n",
            "Epoch 4/8\n",
            "3125/3125 [==============================] - 124s 40ms/step - loss: 2.8898 - accuracy: 0.1753 - val_loss: 2.8073 - val_accuracy: 0.1912\n",
            "Epoch 5/8\n",
            "3125/3125 [==============================] - 124s 40ms/step - loss: 2.8100 - accuracy: 0.1957 - val_loss: 2.7333 - val_accuracy: 0.2148\n",
            "Epoch 6/8\n",
            "3125/3125 [==============================] - 124s 40ms/step - loss: 2.7562 - accuracy: 0.2061 - val_loss: 2.6888 - val_accuracy: 0.2296\n",
            "Epoch 7/8\n",
            "3125/3125 [==============================] - 124s 40ms/step - loss: 2.7149 - accuracy: 0.2140 - val_loss: 2.6562 - val_accuracy: 0.2292\n",
            "Epoch 8/8\n",
            "3125/3125 [==============================] - 123s 39ms/step - loss: 2.6833 - accuracy: 0.2228 - val_loss: 2.6195 - val_accuracy: 0.2404\n"
          ],
          "name": "stdout"
        },
        {
          "output_type": "display_data",
          "data": {
            "text/html": [
              "<br/>Waiting for W&B process to finish, PID 1040<br/>Program ended successfully."
            ],
            "text/plain": [
              "<IPython.core.display.HTML object>"
            ]
          },
          "metadata": {
            "tags": []
          }
        },
        {
          "output_type": "display_data",
          "data": {
            "application/vnd.jupyter.widget-view+json": {
              "model_id": "bce9a886ef3c4a2aa4b4ce888a50fd77",
              "version_minor": 0,
              "version_major": 2
            },
            "text/plain": [
              "VBox(children=(Label(value=' 62.25MB of 62.25MB uploaded (0.00MB deduped)\\r'), FloatProgress(value=1.0, max=1.…"
            ]
          },
          "metadata": {
            "tags": []
          }
        },
        {
          "output_type": "display_data",
          "data": {
            "text/html": [
              "Find user logs for this run at: <code>/content/wandb/run-20210325_122313-zfo1426j/logs/debug.log</code>"
            ],
            "text/plain": [
              "<IPython.core.display.HTML object>"
            ]
          },
          "metadata": {
            "tags": []
          }
        },
        {
          "output_type": "display_data",
          "data": {
            "text/html": [
              "Find internal logs for this run at: <code>/content/wandb/run-20210325_122313-zfo1426j/logs/debug-internal.log</code>"
            ],
            "text/plain": [
              "<IPython.core.display.HTML object>"
            ]
          },
          "metadata": {
            "tags": []
          }
        },
        {
          "output_type": "display_data",
          "data": {
            "text/html": [
              "<h3>Run summary:</h3><br/><style>\n",
              "    table.wandb td:nth-child(1) { padding: 0 10px; text-align: right }\n",
              "    </style><table class=\"wandb\">\n",
              "<tr><td>epoch</td><td>7</td></tr><tr><td>loss</td><td>2.67938</td></tr><tr><td>accuracy</td><td>0.22471</td></tr><tr><td>val_loss</td><td>2.61949</td></tr><tr><td>val_accuracy</td><td>0.2404</td></tr><tr><td>_runtime</td><td>1001</td></tr><tr><td>_timestamp</td><td>1616675994</td></tr><tr><td>_step</td><td>7</td></tr><tr><td>best_val_loss</td><td>2.61949</td></tr><tr><td>best_epoch</td><td>7</td></tr></table>"
            ],
            "text/plain": [
              "<IPython.core.display.HTML object>"
            ]
          },
          "metadata": {
            "tags": []
          }
        },
        {
          "output_type": "display_data",
          "data": {
            "text/html": [
              "<h3>Run history:</h3><br/><style>\n",
              "    table.wandb td:nth-child(1) { padding: 0 10px; text-align: right }\n",
              "    </style><table class=\"wandb\">\n",
              "<tr><td>epoch</td><td>▁▂▃▄▅▆▇█</td></tr><tr><td>loss</td><td>█▇▅▄▃▂▁▁</td></tr><tr><td>accuracy</td><td>▁▃▅▆▇▇██</td></tr><tr><td>val_loss</td><td>█▆▅▃▂▂▁▁</td></tr><tr><td>val_accuracy</td><td>▁▃▅▆▇▇▇█</td></tr><tr><td>_runtime</td><td>▁▂▃▄▅▆▇█</td></tr><tr><td>_timestamp</td><td>▁▂▃▄▅▆▇█</td></tr><tr><td>_step</td><td>▁▂▃▄▅▆▇█</td></tr></table><br/>"
            ],
            "text/plain": [
              "<IPython.core.display.HTML object>"
            ]
          },
          "metadata": {
            "tags": []
          }
        },
        {
          "output_type": "display_data",
          "data": {
            "text/html": [
              "Synced 5 W&B file(s), 1 media file(s), 0 artifact file(s) and 1 other file(s)"
            ],
            "text/plain": [
              "<IPython.core.display.HTML object>"
            ]
          },
          "metadata": {
            "tags": []
          }
        },
        {
          "output_type": "display_data",
          "data": {
            "text/html": [
              "\n",
              "                    <br/>Synced <strong style=\"color:#cdcd00\">pleasant-sweep-6</strong>: <a href=\"https://wandb.ai/lucialarraona/Sweepslucia/runs/zfo1426j\" target=\"_blank\">https://wandb.ai/lucialarraona/Sweepslucia/runs/zfo1426j</a><br/>\n",
              "                "
            ],
            "text/plain": [
              "<IPython.core.display.HTML object>"
            ]
          },
          "metadata": {
            "tags": []
          }
        },
        {
          "output_type": "stream",
          "text": [
            "\u001b[34m\u001b[1mwandb\u001b[0m: Agent Starting Run: q2lcvmmp with config:\n",
            "\u001b[34m\u001b[1mwandb\u001b[0m: \tactivation: softmax\n",
            "\u001b[34m\u001b[1mwandb\u001b[0m: \tbatch_size: 64\n",
            "\u001b[34m\u001b[1mwandb\u001b[0m: \tdropout: 0.3\n",
            "\u001b[34m\u001b[1mwandb\u001b[0m: \tepochs: 5\n",
            "\u001b[34m\u001b[1mwandb\u001b[0m: \tlearning_rate: 0.003\n",
            "\u001b[34m\u001b[1mwandb\u001b[0m: \toptimizer: adam\n"
          ],
          "name": "stderr"
        },
        {
          "output_type": "display_data",
          "data": {
            "text/html": [
              "\n",
              "                Tracking run with wandb version 0.10.23<br/>\n",
              "                Syncing run <strong style=\"color:#cdcd00\">northern-sweep-7</strong> to <a href=\"https://wandb.ai\" target=\"_blank\">Weights & Biases</a> <a href=\"https://docs.wandb.com/integrations/jupyter.html\" target=\"_blank\">(Documentation)</a>.<br/>\n",
              "                Project page: <a href=\"https://wandb.ai/lucialarraona/Sweepslucia\" target=\"_blank\">https://wandb.ai/lucialarraona/Sweepslucia</a><br/>\n",
              "                Sweep page: <a href=\"https://wandb.ai/lucialarraona/Sweepslucia/sweeps/gkevt11s\" target=\"_blank\">https://wandb.ai/lucialarraona/Sweepslucia/sweeps/gkevt11s</a><br/>\n",
              "Run page: <a href=\"https://wandb.ai/lucialarraona/Sweepslucia/runs/q2lcvmmp\" target=\"_blank\">https://wandb.ai/lucialarraona/Sweepslucia/runs/q2lcvmmp</a><br/>\n",
              "                Run data is saved locally in <code>/content/wandb/run-20210325_124003-q2lcvmmp</code><br/><br/>\n",
              "            "
            ],
            "text/plain": [
              "<IPython.core.display.HTML object>"
            ]
          },
          "metadata": {
            "tags": []
          }
        },
        {
          "output_type": "stream",
          "text": [
            "Epoch 1/5\n",
            "3125/3125 [==============================] - 127s 40ms/step - loss: 2.3544 - accuracy: 0.3258 - val_loss: 1.8830 - val_accuracy: 0.4560\n",
            "Epoch 2/5\n",
            "3125/3125 [==============================] - 125s 40ms/step - loss: 1.9223 - accuracy: 0.4478 - val_loss: 1.8209 - val_accuracy: 0.4708\n",
            "Epoch 3/5\n",
            "3125/3125 [==============================] - 125s 40ms/step - loss: 1.8453 - accuracy: 0.4665 - val_loss: 1.7900 - val_accuracy: 0.4776\n",
            "Epoch 4/5\n",
            "3125/3125 [==============================] - 125s 40ms/step - loss: 1.8068 - accuracy: 0.4749 - val_loss: 1.7738 - val_accuracy: 0.4884\n",
            "Epoch 5/5\n",
            "3125/3125 [==============================] - 125s 40ms/step - loss: 1.7715 - accuracy: 0.4860 - val_loss: 1.7767 - val_accuracy: 0.4884\n"
          ],
          "name": "stdout"
        },
        {
          "output_type": "display_data",
          "data": {
            "text/html": [
              "<br/>Waiting for W&B process to finish, PID 1144<br/>Program ended successfully."
            ],
            "text/plain": [
              "<IPython.core.display.HTML object>"
            ]
          },
          "metadata": {
            "tags": []
          }
        },
        {
          "output_type": "display_data",
          "data": {
            "application/vnd.jupyter.widget-view+json": {
              "model_id": "71e6a1f8a9834a26972c0804039d09ae",
              "version_minor": 0,
              "version_major": 2
            },
            "text/plain": [
              "VBox(children=(Label(value=' 62.25MB of 62.25MB uploaded (0.00MB deduped)\\r'), FloatProgress(value=1.0, max=1.…"
            ]
          },
          "metadata": {
            "tags": []
          }
        },
        {
          "output_type": "display_data",
          "data": {
            "text/html": [
              "Find user logs for this run at: <code>/content/wandb/run-20210325_124003-q2lcvmmp/logs/debug.log</code>"
            ],
            "text/plain": [
              "<IPython.core.display.HTML object>"
            ]
          },
          "metadata": {
            "tags": []
          }
        },
        {
          "output_type": "display_data",
          "data": {
            "text/html": [
              "Find internal logs for this run at: <code>/content/wandb/run-20210325_124003-q2lcvmmp/logs/debug-internal.log</code>"
            ],
            "text/plain": [
              "<IPython.core.display.HTML object>"
            ]
          },
          "metadata": {
            "tags": []
          }
        },
        {
          "output_type": "display_data",
          "data": {
            "text/html": [
              "<h3>Run summary:</h3><br/><style>\n",
              "    table.wandb td:nth-child(1) { padding: 0 10px; text-align: right }\n",
              "    </style><table class=\"wandb\">\n",
              "<tr><td>epoch</td><td>4</td></tr><tr><td>loss</td><td>1.77842</td></tr><tr><td>accuracy</td><td>0.48364</td></tr><tr><td>val_loss</td><td>1.77669</td></tr><tr><td>val_accuracy</td><td>0.4884</td></tr><tr><td>_runtime</td><td>630</td></tr><tr><td>_timestamp</td><td>1616676633</td></tr><tr><td>_step</td><td>4</td></tr><tr><td>best_val_loss</td><td>1.77379</td></tr><tr><td>best_epoch</td><td>3</td></tr></table>"
            ],
            "text/plain": [
              "<IPython.core.display.HTML object>"
            ]
          },
          "metadata": {
            "tags": []
          }
        },
        {
          "output_type": "display_data",
          "data": {
            "text/html": [
              "<h3>Run history:</h3><br/><style>\n",
              "    table.wandb td:nth-child(1) { padding: 0 10px; text-align: right }\n",
              "    </style><table class=\"wandb\">\n",
              "<tr><td>epoch</td><td>▁▃▅▆█</td></tr><tr><td>loss</td><td>█▄▂▂▁</td></tr><tr><td>accuracy</td><td>▁▆▇▇█</td></tr><tr><td>val_loss</td><td>█▄▂▁▁</td></tr><tr><td>val_accuracy</td><td>▁▄▆██</td></tr><tr><td>_runtime</td><td>▁▃▅▆█</td></tr><tr><td>_timestamp</td><td>▁▃▅▆█</td></tr><tr><td>_step</td><td>▁▃▅▆█</td></tr></table><br/>"
            ],
            "text/plain": [
              "<IPython.core.display.HTML object>"
            ]
          },
          "metadata": {
            "tags": []
          }
        },
        {
          "output_type": "display_data",
          "data": {
            "text/html": [
              "Synced 5 W&B file(s), 1 media file(s), 0 artifact file(s) and 1 other file(s)"
            ],
            "text/plain": [
              "<IPython.core.display.HTML object>"
            ]
          },
          "metadata": {
            "tags": []
          }
        },
        {
          "output_type": "display_data",
          "data": {
            "text/html": [
              "\n",
              "                    <br/>Synced <strong style=\"color:#cdcd00\">northern-sweep-7</strong>: <a href=\"https://wandb.ai/lucialarraona/Sweepslucia/runs/q2lcvmmp\" target=\"_blank\">https://wandb.ai/lucialarraona/Sweepslucia/runs/q2lcvmmp</a><br/>\n",
              "                "
            ],
            "text/plain": [
              "<IPython.core.display.HTML object>"
            ]
          },
          "metadata": {
            "tags": []
          }
        },
        {
          "output_type": "stream",
          "text": [
            "\u001b[34m\u001b[1mwandb\u001b[0m: Agent Starting Run: l36yt8jw with config:\n",
            "\u001b[34m\u001b[1mwandb\u001b[0m: \tactivation: softmax\n",
            "\u001b[34m\u001b[1mwandb\u001b[0m: \tbatch_size: 128\n",
            "\u001b[34m\u001b[1mwandb\u001b[0m: \tdropout: 0.3\n",
            "\u001b[34m\u001b[1mwandb\u001b[0m: \tepochs: 8\n",
            "\u001b[34m\u001b[1mwandb\u001b[0m: \tlearning_rate: 0.0003\n",
            "\u001b[34m\u001b[1mwandb\u001b[0m: \toptimizer: adam\n"
          ],
          "name": "stderr"
        },
        {
          "output_type": "display_data",
          "data": {
            "text/html": [
              "\n",
              "                Tracking run with wandb version 0.10.23<br/>\n",
              "                Syncing run <strong style=\"color:#cdcd00\">crisp-sweep-8</strong> to <a href=\"https://wandb.ai\" target=\"_blank\">Weights & Biases</a> <a href=\"https://docs.wandb.com/integrations/jupyter.html\" target=\"_blank\">(Documentation)</a>.<br/>\n",
              "                Project page: <a href=\"https://wandb.ai/lucialarraona/Sweepslucia\" target=\"_blank\">https://wandb.ai/lucialarraona/Sweepslucia</a><br/>\n",
              "                Sweep page: <a href=\"https://wandb.ai/lucialarraona/Sweepslucia/sweeps/gkevt11s\" target=\"_blank\">https://wandb.ai/lucialarraona/Sweepslucia/sweeps/gkevt11s</a><br/>\n",
              "Run page: <a href=\"https://wandb.ai/lucialarraona/Sweepslucia/runs/l36yt8jw\" target=\"_blank\">https://wandb.ai/lucialarraona/Sweepslucia/runs/l36yt8jw</a><br/>\n",
              "                Run data is saved locally in <code>/content/wandb/run-20210325_125043-l36yt8jw</code><br/><br/>\n",
              "            "
            ],
            "text/plain": [
              "<IPython.core.display.HTML object>"
            ]
          },
          "metadata": {
            "tags": []
          }
        },
        {
          "output_type": "stream",
          "text": [
            "Epoch 1/8\n",
            "1563/1563 [==============================] - 104s 65ms/step - loss: 2.8842 - accuracy: 0.1744 - val_loss: 2.3274 - val_accuracy: 0.3236\n",
            "Epoch 2/8\n",
            "1563/1563 [==============================] - 101s 64ms/step - loss: 2.3142 - accuracy: 0.3300 - val_loss: 2.1299 - val_accuracy: 0.3900\n",
            "Epoch 3/8\n",
            "1563/1563 [==============================] - 100s 64ms/step - loss: 2.1658 - accuracy: 0.3752 - val_loss: 2.0480 - val_accuracy: 0.4092\n",
            "Epoch 4/8\n",
            "1563/1563 [==============================] - 100s 64ms/step - loss: 2.0855 - accuracy: 0.3981 - val_loss: 1.9884 - val_accuracy: 0.4196\n",
            "Epoch 5/8\n",
            "1563/1563 [==============================] - 101s 65ms/step - loss: 2.0235 - accuracy: 0.4147 - val_loss: 1.9514 - val_accuracy: 0.4316\n",
            "Epoch 6/8\n",
            "1563/1563 [==============================] - 101s 65ms/step - loss: 1.9822 - accuracy: 0.4261 - val_loss: 1.9297 - val_accuracy: 0.4412\n",
            "Epoch 7/8\n",
            "1563/1563 [==============================] - 100s 64ms/step - loss: 1.9428 - accuracy: 0.4393 - val_loss: 1.9022 - val_accuracy: 0.4508\n",
            "Epoch 8/8\n",
            "1563/1563 [==============================] - 101s 64ms/step - loss: 1.9171 - accuracy: 0.4457 - val_loss: 1.8717 - val_accuracy: 0.4556\n"
          ],
          "name": "stdout"
        },
        {
          "output_type": "display_data",
          "data": {
            "text/html": [
              "<br/>Waiting for W&B process to finish, PID 1222<br/>Program ended successfully."
            ],
            "text/plain": [
              "<IPython.core.display.HTML object>"
            ]
          },
          "metadata": {
            "tags": []
          }
        },
        {
          "output_type": "display_data",
          "data": {
            "application/vnd.jupyter.widget-view+json": {
              "model_id": "24387d8910264fee8f27fe2f97a39a37",
              "version_minor": 0,
              "version_major": 2
            },
            "text/plain": [
              "VBox(children=(Label(value=' 62.25MB of 62.25MB uploaded (0.00MB deduped)\\r'), FloatProgress(value=1.0, max=1.…"
            ]
          },
          "metadata": {
            "tags": []
          }
        },
        {
          "output_type": "display_data",
          "data": {
            "text/html": [
              "Find user logs for this run at: <code>/content/wandb/run-20210325_125043-l36yt8jw/logs/debug.log</code>"
            ],
            "text/plain": [
              "<IPython.core.display.HTML object>"
            ]
          },
          "metadata": {
            "tags": []
          }
        },
        {
          "output_type": "display_data",
          "data": {
            "text/html": [
              "Find internal logs for this run at: <code>/content/wandb/run-20210325_125043-l36yt8jw/logs/debug-internal.log</code>"
            ],
            "text/plain": [
              "<IPython.core.display.HTML object>"
            ]
          },
          "metadata": {
            "tags": []
          }
        },
        {
          "output_type": "display_data",
          "data": {
            "text/html": [
              "<h3>Run summary:</h3><br/><style>\n",
              "    table.wandb td:nth-child(1) { padding: 0 10px; text-align: right }\n",
              "    </style><table class=\"wandb\">\n",
              "<tr><td>epoch</td><td>7</td></tr><tr><td>loss</td><td>1.91423</td></tr><tr><td>accuracy</td><td>0.44602</td></tr><tr><td>val_loss</td><td>1.8717</td></tr><tr><td>val_accuracy</td><td>0.4556</td></tr><tr><td>_runtime</td><td>812</td></tr><tr><td>_timestamp</td><td>1616677455</td></tr><tr><td>_step</td><td>7</td></tr><tr><td>best_val_loss</td><td>1.8717</td></tr><tr><td>best_epoch</td><td>7</td></tr></table>"
            ],
            "text/plain": [
              "<IPython.core.display.HTML object>"
            ]
          },
          "metadata": {
            "tags": []
          }
        },
        {
          "output_type": "display_data",
          "data": {
            "text/html": [
              "<h3>Run history:</h3><br/><style>\n",
              "    table.wandb td:nth-child(1) { padding: 0 10px; text-align: right }\n",
              "    </style><table class=\"wandb\">\n",
              "<tr><td>epoch</td><td>▁▂▃▄▅▆▇█</td></tr><tr><td>loss</td><td>█▄▃▃▂▂▁▁</td></tr><tr><td>accuracy</td><td>▁▄▆▇▇▇██</td></tr><tr><td>val_loss</td><td>█▅▄▃▂▂▁▁</td></tr><tr><td>val_accuracy</td><td>▁▅▆▆▇▇██</td></tr><tr><td>_runtime</td><td>▁▂▃▄▅▆▇█</td></tr><tr><td>_timestamp</td><td>▁▂▃▄▅▆▇█</td></tr><tr><td>_step</td><td>▁▂▃▄▅▆▇█</td></tr></table><br/>"
            ],
            "text/plain": [
              "<IPython.core.display.HTML object>"
            ]
          },
          "metadata": {
            "tags": []
          }
        },
        {
          "output_type": "display_data",
          "data": {
            "text/html": [
              "Synced 5 W&B file(s), 1 media file(s), 0 artifact file(s) and 1 other file(s)"
            ],
            "text/plain": [
              "<IPython.core.display.HTML object>"
            ]
          },
          "metadata": {
            "tags": []
          }
        },
        {
          "output_type": "display_data",
          "data": {
            "text/html": [
              "\n",
              "                    <br/>Synced <strong style=\"color:#cdcd00\">crisp-sweep-8</strong>: <a href=\"https://wandb.ai/lucialarraona/Sweepslucia/runs/l36yt8jw\" target=\"_blank\">https://wandb.ai/lucialarraona/Sweepslucia/runs/l36yt8jw</a><br/>\n",
              "                "
            ],
            "text/plain": [
              "<IPython.core.display.HTML object>"
            ]
          },
          "metadata": {
            "tags": []
          }
        },
        {
          "output_type": "stream",
          "text": [
            "\u001b[34m\u001b[1mwandb\u001b[0m: Agent Starting Run: mnwqxpu3 with config:\n",
            "\u001b[34m\u001b[1mwandb\u001b[0m: \tactivation: softmax\n",
            "\u001b[34m\u001b[1mwandb\u001b[0m: \tbatch_size: 128\n",
            "\u001b[34m\u001b[1mwandb\u001b[0m: \tdropout: 0.3\n",
            "\u001b[34m\u001b[1mwandb\u001b[0m: \tepochs: 8\n",
            "\u001b[34m\u001b[1mwandb\u001b[0m: \tlearning_rate: 1e-05\n",
            "\u001b[34m\u001b[1mwandb\u001b[0m: \toptimizer: adam\n"
          ],
          "name": "stderr"
        },
        {
          "output_type": "display_data",
          "data": {
            "text/html": [
              "\n",
              "                Tracking run with wandb version 0.10.23<br/>\n",
              "                Syncing run <strong style=\"color:#cdcd00\">wild-sweep-9</strong> to <a href=\"https://wandb.ai\" target=\"_blank\">Weights & Biases</a> <a href=\"https://docs.wandb.com/integrations/jupyter.html\" target=\"_blank\">(Documentation)</a>.<br/>\n",
              "                Project page: <a href=\"https://wandb.ai/lucialarraona/Sweepslucia\" target=\"_blank\">https://wandb.ai/lucialarraona/Sweepslucia</a><br/>\n",
              "                Sweep page: <a href=\"https://wandb.ai/lucialarraona/Sweepslucia/sweeps/gkevt11s\" target=\"_blank\">https://wandb.ai/lucialarraona/Sweepslucia/sweeps/gkevt11s</a><br/>\n",
              "Run page: <a href=\"https://wandb.ai/lucialarraona/Sweepslucia/runs/mnwqxpu3\" target=\"_blank\">https://wandb.ai/lucialarraona/Sweepslucia/runs/mnwqxpu3</a><br/>\n",
              "                Run data is saved locally in <code>/content/wandb/run-20210325_130424-mnwqxpu3</code><br/><br/>\n",
              "            "
            ],
            "text/plain": [
              "<IPython.core.display.HTML object>"
            ]
          },
          "metadata": {
            "tags": []
          }
        },
        {
          "output_type": "stream",
          "text": [
            "Epoch 1/8\n",
            "1563/1563 [==============================] - 105s 65ms/step - loss: 3.2986 - accuracy: 0.0783 - val_loss: 3.1712 - val_accuracy: 0.0928\n",
            "Epoch 2/8\n",
            "1563/1563 [==============================] - 100s 64ms/step - loss: 3.1558 - accuracy: 0.0916 - val_loss: 3.1351 - val_accuracy: 0.1152\n",
            "Epoch 3/8\n",
            "1563/1563 [==============================] - 100s 64ms/step - loss: 3.1149 - accuracy: 0.1107 - val_loss: 3.0859 - val_accuracy: 0.1300\n",
            "Epoch 4/8\n",
            "1563/1563 [==============================] - 101s 64ms/step - loss: 3.0563 - accuracy: 0.1338 - val_loss: 2.9777 - val_accuracy: 0.1520\n",
            "Epoch 5/8\n",
            "1563/1563 [==============================] - 101s 64ms/step - loss: 2.9702 - accuracy: 0.1592 - val_loss: 2.9045 - val_accuracy: 0.1688\n",
            "Epoch 6/8\n",
            "1563/1563 [==============================] - 100s 64ms/step - loss: 2.9068 - accuracy: 0.1727 - val_loss: 2.8440 - val_accuracy: 0.1812\n",
            "Epoch 7/8\n",
            "1563/1563 [==============================] - 100s 64ms/step - loss: 2.8485 - accuracy: 0.1862 - val_loss: 2.7920 - val_accuracy: 0.1932\n",
            "Epoch 8/8\n",
            "1563/1563 [==============================] - 100s 64ms/step - loss: 2.8030 - accuracy: 0.1964 - val_loss: 2.7532 - val_accuracy: 0.2112\n"
          ],
          "name": "stdout"
        },
        {
          "output_type": "display_data",
          "data": {
            "text/html": [
              "<br/>Waiting for W&B process to finish, PID 1318<br/>Program ended successfully."
            ],
            "text/plain": [
              "<IPython.core.display.HTML object>"
            ]
          },
          "metadata": {
            "tags": []
          }
        },
        {
          "output_type": "display_data",
          "data": {
            "application/vnd.jupyter.widget-view+json": {
              "model_id": "f6bc6890a62f4c28ba630e7ec91d0355",
              "version_minor": 0,
              "version_major": 2
            },
            "text/plain": [
              "VBox(children=(Label(value=' 62.25MB of 62.25MB uploaded (0.00MB deduped)\\r'), FloatProgress(value=1.0, max=1.…"
            ]
          },
          "metadata": {
            "tags": []
          }
        },
        {
          "output_type": "display_data",
          "data": {
            "text/html": [
              "Find user logs for this run at: <code>/content/wandb/run-20210325_130424-mnwqxpu3/logs/debug.log</code>"
            ],
            "text/plain": [
              "<IPython.core.display.HTML object>"
            ]
          },
          "metadata": {
            "tags": []
          }
        },
        {
          "output_type": "display_data",
          "data": {
            "text/html": [
              "Find internal logs for this run at: <code>/content/wandb/run-20210325_130424-mnwqxpu3/logs/debug-internal.log</code>"
            ],
            "text/plain": [
              "<IPython.core.display.HTML object>"
            ]
          },
          "metadata": {
            "tags": []
          }
        },
        {
          "output_type": "display_data",
          "data": {
            "text/html": [
              "<h3>Run summary:</h3><br/><style>\n",
              "    table.wandb td:nth-child(1) { padding: 0 10px; text-align: right }\n",
              "    </style><table class=\"wandb\">\n",
              "<tr><td>epoch</td><td>7</td></tr><tr><td>loss</td><td>2.79508</td></tr><tr><td>accuracy</td><td>0.19749</td></tr><tr><td>val_loss</td><td>2.75322</td></tr><tr><td>val_accuracy</td><td>0.2112</td></tr><tr><td>_runtime</td><td>811</td></tr><tr><td>_timestamp</td><td>1616678275</td></tr><tr><td>_step</td><td>7</td></tr><tr><td>best_val_loss</td><td>2.75322</td></tr><tr><td>best_epoch</td><td>7</td></tr></table>"
            ],
            "text/plain": [
              "<IPython.core.display.HTML object>"
            ]
          },
          "metadata": {
            "tags": []
          }
        },
        {
          "output_type": "display_data",
          "data": {
            "text/html": [
              "<h3>Run history:</h3><br/><style>\n",
              "    table.wandb td:nth-child(1) { padding: 0 10px; text-align: right }\n",
              "    </style><table class=\"wandb\">\n",
              "<tr><td>epoch</td><td>▁▂▃▄▅▆▇█</td></tr><tr><td>loss</td><td>█▇▆▅▄▃▂▁</td></tr><tr><td>accuracy</td><td>▁▂▃▅▆▇▇█</td></tr><tr><td>val_loss</td><td>█▇▇▅▄▃▂▁</td></tr><tr><td>val_accuracy</td><td>▁▂▃▄▅▆▇█</td></tr><tr><td>_runtime</td><td>▁▂▃▄▅▆▇█</td></tr><tr><td>_timestamp</td><td>▁▂▃▄▅▆▇█</td></tr><tr><td>_step</td><td>▁▂▃▄▅▆▇█</td></tr></table><br/>"
            ],
            "text/plain": [
              "<IPython.core.display.HTML object>"
            ]
          },
          "metadata": {
            "tags": []
          }
        },
        {
          "output_type": "display_data",
          "data": {
            "text/html": [
              "Synced 5 W&B file(s), 1 media file(s), 0 artifact file(s) and 1 other file(s)"
            ],
            "text/plain": [
              "<IPython.core.display.HTML object>"
            ]
          },
          "metadata": {
            "tags": []
          }
        },
        {
          "output_type": "display_data",
          "data": {
            "text/html": [
              "\n",
              "                    <br/>Synced <strong style=\"color:#cdcd00\">wild-sweep-9</strong>: <a href=\"https://wandb.ai/lucialarraona/Sweepslucia/runs/mnwqxpu3\" target=\"_blank\">https://wandb.ai/lucialarraona/Sweepslucia/runs/mnwqxpu3</a><br/>\n",
              "                "
            ],
            "text/plain": [
              "<IPython.core.display.HTML object>"
            ]
          },
          "metadata": {
            "tags": []
          }
        },
        {
          "output_type": "stream",
          "text": [
            "\u001b[34m\u001b[1mwandb\u001b[0m: Agent Starting Run: hqs4fqvx with config:\n",
            "\u001b[34m\u001b[1mwandb\u001b[0m: \tactivation: softmax\n",
            "\u001b[34m\u001b[1mwandb\u001b[0m: \tbatch_size: 64\n",
            "\u001b[34m\u001b[1mwandb\u001b[0m: \tdropout: 0.4\n",
            "\u001b[34m\u001b[1mwandb\u001b[0m: \tepochs: 5\n",
            "\u001b[34m\u001b[1mwandb\u001b[0m: \tlearning_rate: 0.0003\n",
            "\u001b[34m\u001b[1mwandb\u001b[0m: \toptimizer: adam\n"
          ],
          "name": "stderr"
        },
        {
          "output_type": "display_data",
          "data": {
            "text/html": [
              "\n",
              "                Tracking run with wandb version 0.10.23<br/>\n",
              "                Syncing run <strong style=\"color:#cdcd00\">smart-sweep-10</strong> to <a href=\"https://wandb.ai\" target=\"_blank\">Weights & Biases</a> <a href=\"https://docs.wandb.com/integrations/jupyter.html\" target=\"_blank\">(Documentation)</a>.<br/>\n",
              "                Project page: <a href=\"https://wandb.ai/lucialarraona/Sweepslucia\" target=\"_blank\">https://wandb.ai/lucialarraona/Sweepslucia</a><br/>\n",
              "                Sweep page: <a href=\"https://wandb.ai/lucialarraona/Sweepslucia/sweeps/gkevt11s\" target=\"_blank\">https://wandb.ai/lucialarraona/Sweepslucia/sweeps/gkevt11s</a><br/>\n",
              "Run page: <a href=\"https://wandb.ai/lucialarraona/Sweepslucia/runs/hqs4fqvx\" target=\"_blank\">https://wandb.ai/lucialarraona/Sweepslucia/runs/hqs4fqvx</a><br/>\n",
              "                Run data is saved locally in <code>/content/wandb/run-20210325_131804-hqs4fqvx</code><br/><br/>\n",
              "            "
            ],
            "text/plain": [
              "<IPython.core.display.HTML object>"
            ]
          },
          "metadata": {
            "tags": []
          }
        },
        {
          "output_type": "stream",
          "text": [
            "Epoch 1/5\n",
            "3125/3125 [==============================] - 128s 40ms/step - loss: 2.7788 - accuracy: 0.2014 - val_loss: 2.2097 - val_accuracy: 0.3632\n",
            "Epoch 2/5\n",
            "3125/3125 [==============================] - 124s 40ms/step - loss: 2.2045 - accuracy: 0.3647 - val_loss: 2.0580 - val_accuracy: 0.4068\n",
            "Epoch 3/5\n",
            "3125/3125 [==============================] - 124s 40ms/step - loss: 2.0686 - accuracy: 0.4045 - val_loss: 1.9537 - val_accuracy: 0.4340\n",
            "Epoch 4/5\n",
            "3125/3125 [==============================] - 124s 40ms/step - loss: 1.9917 - accuracy: 0.4244 - val_loss: 1.9177 - val_accuracy: 0.4396\n",
            "Epoch 5/5\n",
            "3125/3125 [==============================] - 124s 40ms/step - loss: 1.9294 - accuracy: 0.4425 - val_loss: 1.8848 - val_accuracy: 0.4556\n"
          ],
          "name": "stdout"
        },
        {
          "output_type": "display_data",
          "data": {
            "text/html": [
              "<br/>Waiting for W&B process to finish, PID 1414<br/>Program ended successfully."
            ],
            "text/plain": [
              "<IPython.core.display.HTML object>"
            ]
          },
          "metadata": {
            "tags": []
          }
        },
        {
          "output_type": "display_data",
          "data": {
            "application/vnd.jupyter.widget-view+json": {
              "model_id": "5a4cf35572644172b359e5c218cb66cf",
              "version_minor": 0,
              "version_major": 2
            },
            "text/plain": [
              "VBox(children=(Label(value=' 0.85MB of 0.85MB uploaded (0.00MB deduped)\\r'), FloatProgress(value=1.0, max=1.0)…"
            ]
          },
          "metadata": {
            "tags": []
          }
        },
        {
          "output_type": "display_data",
          "data": {
            "text/html": [
              "Find user logs for this run at: <code>/content/wandb/run-20210325_131804-hqs4fqvx/logs/debug.log</code>"
            ],
            "text/plain": [
              "<IPython.core.display.HTML object>"
            ]
          },
          "metadata": {
            "tags": []
          }
        },
        {
          "output_type": "display_data",
          "data": {
            "text/html": [
              "Find internal logs for this run at: <code>/content/wandb/run-20210325_131804-hqs4fqvx/logs/debug-internal.log</code>"
            ],
            "text/plain": [
              "<IPython.core.display.HTML object>"
            ]
          },
          "metadata": {
            "tags": []
          }
        },
        {
          "output_type": "display_data",
          "data": {
            "text/html": [
              "<h3>Run summary:</h3><br/><style>\n",
              "    table.wandb td:nth-child(1) { padding: 0 10px; text-align: right }\n",
              "    </style><table class=\"wandb\">\n",
              "<tr><td>epoch</td><td>4</td></tr><tr><td>loss</td><td>1.9314</td></tr><tr><td>accuracy</td><td>0.44172</td></tr><tr><td>val_loss</td><td>1.88478</td></tr><tr><td>val_accuracy</td><td>0.4556</td></tr><tr><td>_runtime</td><td>627</td></tr><tr><td>_timestamp</td><td>1616678911</td></tr><tr><td>_step</td><td>4</td></tr><tr><td>best_val_loss</td><td>1.88478</td></tr><tr><td>best_epoch</td><td>4</td></tr></table>"
            ],
            "text/plain": [
              "<IPython.core.display.HTML object>"
            ]
          },
          "metadata": {
            "tags": []
          }
        },
        {
          "output_type": "display_data",
          "data": {
            "text/html": [
              "<h3>Run history:</h3><br/><style>\n",
              "    table.wandb td:nth-child(1) { padding: 0 10px; text-align: right }\n",
              "    </style><table class=\"wandb\">\n",
              "<tr><td>epoch</td><td>▁▃▅▆█</td></tr><tr><td>loss</td><td>█▄▂▂▁</td></tr><tr><td>accuracy</td><td>▁▅▇▇█</td></tr><tr><td>val_loss</td><td>█▅▂▂▁</td></tr><tr><td>val_accuracy</td><td>▁▄▆▇█</td></tr><tr><td>_runtime</td><td>▁▃▅▆█</td></tr><tr><td>_timestamp</td><td>▁▃▅▆█</td></tr><tr><td>_step</td><td>▁▃▅▆█</td></tr></table><br/>"
            ],
            "text/plain": [
              "<IPython.core.display.HTML object>"
            ]
          },
          "metadata": {
            "tags": []
          }
        },
        {
          "output_type": "display_data",
          "data": {
            "text/html": [
              "Synced 5 W&B file(s), 1 media file(s), 0 artifact file(s) and 1 other file(s)"
            ],
            "text/plain": [
              "<IPython.core.display.HTML object>"
            ]
          },
          "metadata": {
            "tags": []
          }
        },
        {
          "output_type": "display_data",
          "data": {
            "text/html": [
              "\n",
              "                    <br/>Synced <strong style=\"color:#cdcd00\">smart-sweep-10</strong>: <a href=\"https://wandb.ai/lucialarraona/Sweepslucia/runs/hqs4fqvx\" target=\"_blank\">https://wandb.ai/lucialarraona/Sweepslucia/runs/hqs4fqvx</a><br/>\n",
              "                "
            ],
            "text/plain": [
              "<IPython.core.display.HTML object>"
            ]
          },
          "metadata": {
            "tags": []
          }
        },
        {
          "output_type": "stream",
          "text": [
            "\u001b[34m\u001b[1mwandb\u001b[0m: Agent Starting Run: k9wd6q46 with config:\n",
            "\u001b[34m\u001b[1mwandb\u001b[0m: \tactivation: softmax\n",
            "\u001b[34m\u001b[1mwandb\u001b[0m: \tbatch_size: 64\n",
            "\u001b[34m\u001b[1mwandb\u001b[0m: \tdropout: 0.3\n",
            "\u001b[34m\u001b[1mwandb\u001b[0m: \tepochs: 8\n",
            "\u001b[34m\u001b[1mwandb\u001b[0m: \tlearning_rate: 0.0003\n",
            "\u001b[34m\u001b[1mwandb\u001b[0m: \toptimizer: adam\n"
          ],
          "name": "stderr"
        },
        {
          "output_type": "display_data",
          "data": {
            "text/html": [
              "\n",
              "                Tracking run with wandb version 0.10.23<br/>\n",
              "                Syncing run <strong style=\"color:#cdcd00\">bright-sweep-11</strong> to <a href=\"https://wandb.ai\" target=\"_blank\">Weights & Biases</a> <a href=\"https://docs.wandb.com/integrations/jupyter.html\" target=\"_blank\">(Documentation)</a>.<br/>\n",
              "                Project page: <a href=\"https://wandb.ai/lucialarraona/Sweepslucia\" target=\"_blank\">https://wandb.ai/lucialarraona/Sweepslucia</a><br/>\n",
              "                Sweep page: <a href=\"https://wandb.ai/lucialarraona/Sweepslucia/sweeps/gkevt11s\" target=\"_blank\">https://wandb.ai/lucialarraona/Sweepslucia/sweeps/gkevt11s</a><br/>\n",
              "Run page: <a href=\"https://wandb.ai/lucialarraona/Sweepslucia/runs/k9wd6q46\" target=\"_blank\">https://wandb.ai/lucialarraona/Sweepslucia/runs/k9wd6q46</a><br/>\n",
              "                Run data is saved locally in <code>/content/wandb/run-20210325_132842-k9wd6q46</code><br/><br/>\n",
              "            "
            ],
            "text/plain": [
              "<IPython.core.display.HTML object>"
            ]
          },
          "metadata": {
            "tags": []
          }
        },
        {
          "output_type": "stream",
          "text": [
            "Epoch 1/8\n",
            "3125/3125 [==============================] - 127s 40ms/step - loss: 2.7843 - accuracy: 0.2007 - val_loss: 2.2232 - val_accuracy: 0.3544\n",
            "Epoch 2/8\n",
            "3125/3125 [==============================] - 125s 40ms/step - loss: 2.2138 - accuracy: 0.3604 - val_loss: 2.0694 - val_accuracy: 0.4020\n",
            "Epoch 3/8\n",
            "3125/3125 [==============================] - 124s 40ms/step - loss: 2.0734 - accuracy: 0.4015 - val_loss: 1.9715 - val_accuracy: 0.4312\n",
            "Epoch 4/8\n",
            "3125/3125 [==============================] - 125s 40ms/step - loss: 1.9957 - accuracy: 0.4235 - val_loss: 1.9204 - val_accuracy: 0.4476\n",
            "Epoch 5/8\n",
            "3125/3125 [==============================] - 125s 40ms/step - loss: 1.9328 - accuracy: 0.4428 - val_loss: 1.8899 - val_accuracy: 0.4572\n",
            "Epoch 6/8\n",
            "3125/3125 [==============================] - 126s 40ms/step - loss: 1.8982 - accuracy: 0.4514 - val_loss: 1.8589 - val_accuracy: 0.4580\n",
            "Epoch 7/8\n",
            "3125/3125 [==============================] - 126s 40ms/step - loss: 1.8689 - accuracy: 0.4581 - val_loss: 1.8325 - val_accuracy: 0.4640\n",
            "Epoch 8/8\n",
            "3125/3125 [==============================] - 125s 40ms/step - loss: 1.8439 - accuracy: 0.4666 - val_loss: 1.8198 - val_accuracy: 0.4664\n"
          ],
          "name": "stdout"
        },
        {
          "output_type": "display_data",
          "data": {
            "text/html": [
              "<br/>Waiting for W&B process to finish, PID 1497<br/>Program ended successfully."
            ],
            "text/plain": [
              "<IPython.core.display.HTML object>"
            ]
          },
          "metadata": {
            "tags": []
          }
        },
        {
          "output_type": "display_data",
          "data": {
            "application/vnd.jupyter.widget-view+json": {
              "model_id": "82629c26bf6a40cfb601bca3e18bca41",
              "version_minor": 0,
              "version_major": 2
            },
            "text/plain": [
              "VBox(children=(Label(value=' 0.00MB of 62.25MB uploaded (0.00MB deduped)\\r'), FloatProgress(value=2.6719677853…"
            ]
          },
          "metadata": {
            "tags": []
          }
        },
        {
          "output_type": "display_data",
          "data": {
            "text/html": [
              "Find user logs for this run at: <code>/content/wandb/run-20210325_132842-k9wd6q46/logs/debug.log</code>"
            ],
            "text/plain": [
              "<IPython.core.display.HTML object>"
            ]
          },
          "metadata": {
            "tags": []
          }
        },
        {
          "output_type": "display_data",
          "data": {
            "text/html": [
              "Find internal logs for this run at: <code>/content/wandb/run-20210325_132842-k9wd6q46/logs/debug-internal.log</code>"
            ],
            "text/plain": [
              "<IPython.core.display.HTML object>"
            ]
          },
          "metadata": {
            "tags": []
          }
        },
        {
          "output_type": "display_data",
          "data": {
            "text/html": [
              "<h3>Run summary:</h3><br/><style>\n",
              "    table.wandb td:nth-child(1) { padding: 0 10px; text-align: right }\n",
              "    </style><table class=\"wandb\">\n",
              "<tr><td>epoch</td><td>7</td></tr><tr><td>loss</td><td>1.84401</td></tr><tr><td>accuracy</td><td>0.46698</td></tr><tr><td>val_loss</td><td>1.81985</td></tr><tr><td>val_accuracy</td><td>0.4664</td></tr><tr><td>_runtime</td><td>1007</td></tr><tr><td>_timestamp</td><td>1616679929</td></tr><tr><td>_step</td><td>7</td></tr><tr><td>best_val_loss</td><td>1.81985</td></tr><tr><td>best_epoch</td><td>7</td></tr></table>"
            ],
            "text/plain": [
              "<IPython.core.display.HTML object>"
            ]
          },
          "metadata": {
            "tags": []
          }
        },
        {
          "output_type": "display_data",
          "data": {
            "text/html": [
              "<h3>Run history:</h3><br/><style>\n",
              "    table.wandb td:nth-child(1) { padding: 0 10px; text-align: right }\n",
              "    </style><table class=\"wandb\">\n",
              "<tr><td>epoch</td><td>▁▂▃▄▅▆▇█</td></tr><tr><td>loss</td><td>█▄▃▂▂▂▁▁</td></tr><tr><td>accuracy</td><td>▁▅▆▇▇▇██</td></tr><tr><td>val_loss</td><td>█▅▄▃▂▂▁▁</td></tr><tr><td>val_accuracy</td><td>▁▄▆▇▇▇██</td></tr><tr><td>_runtime</td><td>▁▂▃▄▅▆▇█</td></tr><tr><td>_timestamp</td><td>▁▂▃▄▅▆▇█</td></tr><tr><td>_step</td><td>▁▂▃▄▅▆▇█</td></tr></table><br/>"
            ],
            "text/plain": [
              "<IPython.core.display.HTML object>"
            ]
          },
          "metadata": {
            "tags": []
          }
        },
        {
          "output_type": "display_data",
          "data": {
            "text/html": [
              "Synced 5 W&B file(s), 1 media file(s), 0 artifact file(s) and 1 other file(s)"
            ],
            "text/plain": [
              "<IPython.core.display.HTML object>"
            ]
          },
          "metadata": {
            "tags": []
          }
        },
        {
          "output_type": "display_data",
          "data": {
            "text/html": [
              "\n",
              "                    <br/>Synced <strong style=\"color:#cdcd00\">bright-sweep-11</strong>: <a href=\"https://wandb.ai/lucialarraona/Sweepslucia/runs/k9wd6q46\" target=\"_blank\">https://wandb.ai/lucialarraona/Sweepslucia/runs/k9wd6q46</a><br/>\n",
              "                "
            ],
            "text/plain": [
              "<IPython.core.display.HTML object>"
            ]
          },
          "metadata": {
            "tags": []
          }
        },
        {
          "output_type": "stream",
          "text": [
            "\u001b[34m\u001b[1mwandb\u001b[0m: Agent Starting Run: 4uyrtttb with config:\n",
            "\u001b[34m\u001b[1mwandb\u001b[0m: \tactivation: softmax\n",
            "\u001b[34m\u001b[1mwandb\u001b[0m: \tbatch_size: 128\n",
            "\u001b[34m\u001b[1mwandb\u001b[0m: \tdropout: 0.3\n",
            "\u001b[34m\u001b[1mwandb\u001b[0m: \tepochs: 8\n",
            "\u001b[34m\u001b[1mwandb\u001b[0m: \tlearning_rate: 1e-05\n",
            "\u001b[34m\u001b[1mwandb\u001b[0m: \toptimizer: adam\n"
          ],
          "name": "stderr"
        },
        {
          "output_type": "display_data",
          "data": {
            "text/html": [
              "\n",
              "                Tracking run with wandb version 0.10.23<br/>\n",
              "                Syncing run <strong style=\"color:#cdcd00\">smart-sweep-12</strong> to <a href=\"https://wandb.ai\" target=\"_blank\">Weights & Biases</a> <a href=\"https://docs.wandb.com/integrations/jupyter.html\" target=\"_blank\">(Documentation)</a>.<br/>\n",
              "                Project page: <a href=\"https://wandb.ai/lucialarraona/Sweepslucia\" target=\"_blank\">https://wandb.ai/lucialarraona/Sweepslucia</a><br/>\n",
              "                Sweep page: <a href=\"https://wandb.ai/lucialarraona/Sweepslucia/sweeps/gkevt11s\" target=\"_blank\">https://wandb.ai/lucialarraona/Sweepslucia/sweeps/gkevt11s</a><br/>\n",
              "Run page: <a href=\"https://wandb.ai/lucialarraona/Sweepslucia/runs/4uyrtttb\" target=\"_blank\">https://wandb.ai/lucialarraona/Sweepslucia/runs/4uyrtttb</a><br/>\n",
              "                Run data is saved locally in <code>/content/wandb/run-20210325_134540-4uyrtttb</code><br/><br/>\n",
              "            "
            ],
            "text/plain": [
              "<IPython.core.display.HTML object>"
            ]
          },
          "metadata": {
            "tags": []
          }
        },
        {
          "output_type": "stream",
          "text": [
            "Epoch 1/8\n",
            "1563/1563 [==============================] - 107s 66ms/step - loss: 3.3035 - accuracy: 0.0745 - val_loss: 3.1653 - val_accuracy: 0.0928\n",
            "Epoch 2/8\n",
            "1563/1563 [==============================] - 103s 66ms/step - loss: 3.1521 - accuracy: 0.0889 - val_loss: 3.1553 - val_accuracy: 0.0928\n",
            "Epoch 3/8\n",
            "1563/1563 [==============================] - 102s 65ms/step - loss: 3.1175 - accuracy: 0.1110 - val_loss: 2.9769 - val_accuracy: 0.1644\n",
            "Epoch 4/8\n",
            "1563/1563 [==============================] - 102s 65ms/step - loss: 2.9695 - accuracy: 0.1603 - val_loss: 2.8829 - val_accuracy: 0.1812\n",
            "Epoch 5/8\n",
            "1563/1563 [==============================] - 102s 65ms/step - loss: 2.8923 - accuracy: 0.1770 - val_loss: 2.8198 - val_accuracy: 0.1832\n",
            "Epoch 6/8\n",
            "1563/1563 [==============================] - 102s 65ms/step - loss: 2.8292 - accuracy: 0.1878 - val_loss: 2.7705 - val_accuracy: 0.1996\n",
            "Epoch 7/8\n",
            "1563/1563 [==============================] - 102s 65ms/step - loss: 2.7759 - accuracy: 0.1989 - val_loss: 2.7198 - val_accuracy: 0.2088\n",
            "Epoch 8/8\n",
            "1563/1563 [==============================] - 102s 65ms/step - loss: 2.7392 - accuracy: 0.2068 - val_loss: 2.6857 - val_accuracy: 0.2184\n"
          ],
          "name": "stdout"
        },
        {
          "output_type": "display_data",
          "data": {
            "text/html": [
              "<br/>Waiting for W&B process to finish, PID 1600<br/>Program ended successfully."
            ],
            "text/plain": [
              "<IPython.core.display.HTML object>"
            ]
          },
          "metadata": {
            "tags": []
          }
        },
        {
          "output_type": "display_data",
          "data": {
            "application/vnd.jupyter.widget-view+json": {
              "model_id": "816de2c55e4c4bab8e544fbfbdffd5f1",
              "version_minor": 0,
              "version_major": 2
            },
            "text/plain": [
              "VBox(children=(Label(value=' 62.25MB of 62.25MB uploaded (0.00MB deduped)\\r'), FloatProgress(value=1.0, max=1.…"
            ]
          },
          "metadata": {
            "tags": []
          }
        },
        {
          "output_type": "display_data",
          "data": {
            "text/html": [
              "Find user logs for this run at: <code>/content/wandb/run-20210325_134540-4uyrtttb/logs/debug.log</code>"
            ],
            "text/plain": [
              "<IPython.core.display.HTML object>"
            ]
          },
          "metadata": {
            "tags": []
          }
        },
        {
          "output_type": "display_data",
          "data": {
            "text/html": [
              "Find internal logs for this run at: <code>/content/wandb/run-20210325_134540-4uyrtttb/logs/debug-internal.log</code>"
            ],
            "text/plain": [
              "<IPython.core.display.HTML object>"
            ]
          },
          "metadata": {
            "tags": []
          }
        },
        {
          "output_type": "display_data",
          "data": {
            "text/html": [
              "<h3>Run summary:</h3><br/><style>\n",
              "    table.wandb td:nth-child(1) { padding: 0 10px; text-align: right }\n",
              "    </style><table class=\"wandb\">\n",
              "<tr><td>epoch</td><td>7</td></tr><tr><td>loss</td><td>2.72795</td></tr><tr><td>accuracy</td><td>0.20997</td></tr><tr><td>val_loss</td><td>2.68574</td></tr><tr><td>val_accuracy</td><td>0.2184</td></tr><tr><td>_runtime</td><td>826</td></tr><tr><td>_timestamp</td><td>1616680766</td></tr><tr><td>_step</td><td>7</td></tr><tr><td>best_val_loss</td><td>2.68574</td></tr><tr><td>best_epoch</td><td>7</td></tr></table>"
            ],
            "text/plain": [
              "<IPython.core.display.HTML object>"
            ]
          },
          "metadata": {
            "tags": []
          }
        },
        {
          "output_type": "display_data",
          "data": {
            "text/html": [
              "<h3>Run history:</h3><br/><style>\n",
              "    table.wandb td:nth-child(1) { padding: 0 10px; text-align: right }\n",
              "    </style><table class=\"wandb\">\n",
              "<tr><td>epoch</td><td>▁▂▃▄▅▆▇█</td></tr><tr><td>loss</td><td>█▇▆▄▃▂▂▁</td></tr><tr><td>accuracy</td><td>▁▁▄▆▆▇██</td></tr><tr><td>val_loss</td><td>██▅▄▃▂▁▁</td></tr><tr><td>val_accuracy</td><td>▁▁▅▆▆▇▇█</td></tr><tr><td>_runtime</td><td>▁▂▃▄▅▆▇█</td></tr><tr><td>_timestamp</td><td>▁▂▃▄▅▆▇█</td></tr><tr><td>_step</td><td>▁▂▃▄▅▆▇█</td></tr></table><br/>"
            ],
            "text/plain": [
              "<IPython.core.display.HTML object>"
            ]
          },
          "metadata": {
            "tags": []
          }
        },
        {
          "output_type": "display_data",
          "data": {
            "text/html": [
              "Synced 5 W&B file(s), 1 media file(s), 0 artifact file(s) and 1 other file(s)"
            ],
            "text/plain": [
              "<IPython.core.display.HTML object>"
            ]
          },
          "metadata": {
            "tags": []
          }
        },
        {
          "output_type": "display_data",
          "data": {
            "text/html": [
              "\n",
              "                    <br/>Synced <strong style=\"color:#cdcd00\">smart-sweep-12</strong>: <a href=\"https://wandb.ai/lucialarraona/Sweepslucia/runs/4uyrtttb\" target=\"_blank\">https://wandb.ai/lucialarraona/Sweepslucia/runs/4uyrtttb</a><br/>\n",
              "                "
            ],
            "text/plain": [
              "<IPython.core.display.HTML object>"
            ]
          },
          "metadata": {
            "tags": []
          }
        },
        {
          "output_type": "stream",
          "text": [
            "\u001b[34m\u001b[1mwandb\u001b[0m: Agent Starting Run: rlj7cusa with config:\n",
            "\u001b[34m\u001b[1mwandb\u001b[0m: \tactivation: softmax\n",
            "\u001b[34m\u001b[1mwandb\u001b[0m: \tbatch_size: 64\n",
            "\u001b[34m\u001b[1mwandb\u001b[0m: \tdropout: 0.4\n",
            "\u001b[34m\u001b[1mwandb\u001b[0m: \tepochs: 5\n",
            "\u001b[34m\u001b[1mwandb\u001b[0m: \tlearning_rate: 1e-05\n",
            "\u001b[34m\u001b[1mwandb\u001b[0m: \toptimizer: adam\n"
          ],
          "name": "stderr"
        },
        {
          "output_type": "display_data",
          "data": {
            "text/html": [
              "\n",
              "                Tracking run with wandb version 0.10.23<br/>\n",
              "                Syncing run <strong style=\"color:#cdcd00\">stellar-sweep-13</strong> to <a href=\"https://wandb.ai\" target=\"_blank\">Weights & Biases</a> <a href=\"https://docs.wandb.com/integrations/jupyter.html\" target=\"_blank\">(Documentation)</a>.<br/>\n",
              "                Project page: <a href=\"https://wandb.ai/lucialarraona/Sweepslucia\" target=\"_blank\">https://wandb.ai/lucialarraona/Sweepslucia</a><br/>\n",
              "                Sweep page: <a href=\"https://wandb.ai/lucialarraona/Sweepslucia/sweeps/gkevt11s\" target=\"_blank\">https://wandb.ai/lucialarraona/Sweepslucia/sweeps/gkevt11s</a><br/>\n",
              "Run page: <a href=\"https://wandb.ai/lucialarraona/Sweepslucia/runs/rlj7cusa\" target=\"_blank\">https://wandb.ai/lucialarraona/Sweepslucia/runs/rlj7cusa</a><br/>\n",
              "                Run data is saved locally in <code>/content/wandb/run-20210325_135937-rlj7cusa</code><br/><br/>\n",
              "            "
            ],
            "text/plain": [
              "<IPython.core.display.HTML object>"
            ]
          },
          "metadata": {
            "tags": []
          }
        },
        {
          "output_type": "stream",
          "text": [
            "Epoch 1/5\n",
            "2169/3125 [===================>..........] - ETA: 38s - loss: 3.2939 - accuracy: 0.0822"
          ],
          "name": "stdout"
        }
      ]
    },
    {
      "cell_type": "code",
      "metadata": {
        "id": "avk1ZKNws1qz"
      },
      "source": [
        ""
      ],
      "execution_count": null,
      "outputs": []
    },
    {
      "cell_type": "code",
      "metadata": {
        "id": "7KN-C6e3Oef9"
      },
      "source": [
        ""
      ],
      "execution_count": null,
      "outputs": []
    },
    {
      "cell_type": "code",
      "metadata": {
        "id": "dizOgmNCtF6K"
      },
      "source": [
        ""
      ],
      "execution_count": null,
      "outputs": []
    },
    {
      "cell_type": "code",
      "metadata": {
        "id": "GV7BKnSslWxd"
      },
      "source": [
        ""
      ],
      "execution_count": null,
      "outputs": []
    },
    {
      "cell_type": "code",
      "metadata": {
        "id": "pjz3ZYgmnjd7"
      },
      "source": [
        ""
      ],
      "execution_count": null,
      "outputs": []
    },
    {
      "cell_type": "code",
      "metadata": {
        "id": "iQgBs1d1jAPY"
      },
      "source": [
        ""
      ],
      "execution_count": null,
      "outputs": []
    },
    {
      "cell_type": "code",
      "metadata": {
        "id": "Urn1GoAet-rj"
      },
      "source": [
        ""
      ],
      "execution_count": null,
      "outputs": []
    },
    {
      "cell_type": "markdown",
      "metadata": {
        "id": "hRMjWPJmt_M8"
      },
      "source": [
        "#PRUEBA DE LOS DISTINTAS ARQUITECTURAS PARA VER CUAL ES LA MÁS IDONEA\n"
      ]
    },
    {
      "cell_type": "code",
      "metadata": {
        "id": "jslQmZGYt_M9"
      },
      "source": [
        "X_train = df_train['review_body']\n",
        "X_val= df_valid['review_body']\n",
        "X_test= df_test['review_body']\n",
        "\n",
        "y_train = df_train['star_rating']\n",
        "y_val = df_valid['star_rating']\n",
        "y_test= df_test['star_rating']\n",
        "\n",
        "# Aplicamos pre-procesado \n",
        "vocab_size, encoded_rev, encoded_rev_val, encoded_rev_test = preprocess(X_train,X_val,X_test,y_train,y_val,y_test)"
      ],
      "execution_count": null,
      "outputs": []
    },
    {
      "cell_type": "code",
      "metadata": {
        "id": "62zLFFTet_M9"
      },
      "source": [
        "#Creamos matriz de embeddings a partir del vocab de las text_title_cat FULL\n",
        "from numpy import zeros\n",
        "embedding_matrix = zeros((vocab_size,300))\n",
        "for word, i in t.word_index.items():\n",
        "  embedding_vector = word_to_vec_map.get(word)\n",
        "  if embedding_vector is not None:\n",
        "    embedding_matrix[i] = embedding_vector"
      ],
      "execution_count": null,
      "outputs": []
    },
    {
      "cell_type": "code",
      "metadata": {
        "colab": {
          "base_uri": "https://localhost:8080/",
          "height": 740,
          "referenced_widgets": [
            "3aad917e902d43279e5a8b685e17787f",
            "dfdb5d69e70e43408e7a4dc42cfbf7fd",
            "3463641a2651497a9ba5bff3d8aa6e14",
            "f4aac87b3c9c4ae590bcbe407487b36f",
            "57313c63b75f4f2f8d00a68259910c98",
            "1dd43d97b1e341c3bf26a2dc97a8bfae",
            "fc2c24f98975440c83b5131950b948b4",
            "8e4c7788666f4968b398b789614e5ebf"
          ]
        },
        "id": "oBznglJ9t_M-",
        "outputId": "2f9e2333-1a47-4a70-d7b8-f7577f0ccb1f"
      },
      "source": [
        "# Initialize wandb with your project name\n",
        "run = wandb.init(project='MUSE_nn_arquitecture',\n",
        "                 config={  # and include hyperparameters and metadata\n",
        "                     \"learning_rate\": 0.001,\n",
        "                     \"epochs\": 10,\n",
        "                     \"batch_size\": 64,\n",
        "                     \"loss_function\": \"sparse_categorical_crossentropy\",\n",
        "                     \"architecture\": \"BiGRU\"\n",
        "                 })\n",
        "config = wandb.config  # We'll use this to configure our experiment\n"
      ],
      "execution_count": null,
      "outputs": [
        {
          "output_type": "display_data",
          "data": {
            "text/html": [
              "Finishing last run (ID:1aerf5dv) before initializing another..."
            ],
            "text/plain": [
              "<IPython.core.display.HTML object>"
            ]
          },
          "metadata": {
            "tags": []
          }
        },
        {
          "output_type": "display_data",
          "data": {
            "text/html": [
              "<br/>Waiting for W&B process to finish, PID 1129<br/>Program ended successfully."
            ],
            "text/plain": [
              "<IPython.core.display.HTML object>"
            ]
          },
          "metadata": {
            "tags": []
          }
        },
        {
          "output_type": "display_data",
          "data": {
            "application/vnd.jupyter.widget-view+json": {
              "model_id": "3aad917e902d43279e5a8b685e17787f",
              "version_minor": 0,
              "version_major": 2
            },
            "text/plain": [
              "VBox(children=(Label(value=' 57.33MB of 57.33MB uploaded (0.00MB deduped)\\r'), FloatProgress(value=1.0, max=1.…"
            ]
          },
          "metadata": {
            "tags": []
          }
        },
        {
          "output_type": "display_data",
          "data": {
            "text/html": [
              "Find user logs for this run at: <code>/content/wandb/run-20210324_105821-1aerf5dv/logs/debug.log</code>"
            ],
            "text/plain": [
              "<IPython.core.display.HTML object>"
            ]
          },
          "metadata": {
            "tags": []
          }
        },
        {
          "output_type": "display_data",
          "data": {
            "text/html": [
              "Find internal logs for this run at: <code>/content/wandb/run-20210324_105821-1aerf5dv/logs/debug-internal.log</code>"
            ],
            "text/plain": [
              "<IPython.core.display.HTML object>"
            ]
          },
          "metadata": {
            "tags": []
          }
        },
        {
          "output_type": "display_data",
          "data": {
            "text/html": [
              "<h3>Run summary:</h3><br/><style>\n",
              "    table.wandb td:nth-child(1) { padding: 0 10px; text-align: right }\n",
              "    </style><table class=\"wandb\">\n",
              "<tr><td>epoch</td><td>4</td></tr><tr><td>loss</td><td>0.9819</td></tr><tr><td>accuracy</td><td>0.56771</td></tr><tr><td>val_loss</td><td>1.00054</td></tr><tr><td>val_accuracy</td><td>0.564</td></tr><tr><td>_runtime</td><td>315</td></tr><tr><td>_timestamp</td><td>1616583820</td></tr><tr><td>_step</td><td>4</td></tr><tr><td>best_val_loss</td><td>1.00054</td></tr><tr><td>best_epoch</td><td>4</td></tr></table>"
            ],
            "text/plain": [
              "<IPython.core.display.HTML object>"
            ]
          },
          "metadata": {
            "tags": []
          }
        },
        {
          "output_type": "display_data",
          "data": {
            "text/html": [
              "<h3>Run history:</h3><br/><style>\n",
              "    table.wandb td:nth-child(1) { padding: 0 10px; text-align: right }\n",
              "    </style><table class=\"wandb\">\n",
              "<tr><td>epoch</td><td>▁▃▅▆█</td></tr><tr><td>loss</td><td>█▆▄▃▁</td></tr><tr><td>accuracy</td><td>▁▃▄▇█</td></tr><tr><td>val_loss</td><td>▄█▄▇▁</td></tr><tr><td>val_accuracy</td><td>▇▁▅▅█</td></tr><tr><td>_runtime</td><td>▁▃▄▆█</td></tr><tr><td>_timestamp</td><td>▁▃▄▆█</td></tr><tr><td>_step</td><td>▁▃▅▆█</td></tr></table><br/>"
            ],
            "text/plain": [
              "<IPython.core.display.HTML object>"
            ]
          },
          "metadata": {
            "tags": []
          }
        },
        {
          "output_type": "display_data",
          "data": {
            "text/html": [
              "Synced 5 W&B file(s), 1 media file(s), 0 artifact file(s) and 1 other file(s)"
            ],
            "text/plain": [
              "<IPython.core.display.HTML object>"
            ]
          },
          "metadata": {
            "tags": []
          }
        },
        {
          "output_type": "display_data",
          "data": {
            "text/html": [
              "\n",
              "                    <br/>Synced <strong style=\"color:#cdcd00\">swept-cloud-5</strong>: <a href=\"https://wandb.ai/lucialarraona/MUSE_nn_arquitecture/runs/1aerf5dv\" target=\"_blank\">https://wandb.ai/lucialarraona/MUSE_nn_arquitecture/runs/1aerf5dv</a><br/>\n",
              "                "
            ],
            "text/plain": [
              "<IPython.core.display.HTML object>"
            ]
          },
          "metadata": {
            "tags": []
          }
        },
        {
          "output_type": "display_data",
          "data": {
            "text/html": [
              "...Successfully finished last run (ID:1aerf5dv). Initializing new run:<br/><br/>"
            ],
            "text/plain": [
              "<IPython.core.display.HTML object>"
            ]
          },
          "metadata": {
            "tags": []
          }
        },
        {
          "output_type": "display_data",
          "data": {
            "text/html": [
              "\n",
              "                Tracking run with wandb version 0.10.23<br/>\n",
              "                Syncing run <strong style=\"color:#cdcd00\">ethereal-tree-6</strong> to <a href=\"https://wandb.ai\" target=\"_blank\">Weights & Biases</a> <a href=\"https://docs.wandb.com/integrations/jupyter.html\" target=\"_blank\">(Documentation)</a>.<br/>\n",
              "                Project page: <a href=\"https://wandb.ai/lucialarraona/MUSE_nn_arquitecture\" target=\"_blank\">https://wandb.ai/lucialarraona/MUSE_nn_arquitecture</a><br/>\n",
              "                Run page: <a href=\"https://wandb.ai/lucialarraona/MUSE_nn_arquitecture/runs/2yzrhbpr\" target=\"_blank\">https://wandb.ai/lucialarraona/MUSE_nn_arquitecture/runs/2yzrhbpr</a><br/>\n",
              "                Run data is saved locally in <code>/content/wandb/run-20210324_110508-2yzrhbpr</code><br/><br/>\n",
              "            "
            ],
            "text/plain": [
              "<IPython.core.display.HTML object>"
            ]
          },
          "metadata": {
            "tags": []
          }
        }
      ]
    },
    {
      "cell_type": "markdown",
      "metadata": {
        "id": "s6pVfUF8t_NA"
      },
      "source": [
        "### Modelo"
      ]
    },
    {
      "cell_type": "markdown",
      "metadata": {
        "id": "-y83nXu1t_NA"
      },
      "source": [
        "### Clasificador simple"
      ]
    },
    {
      "cell_type": "code",
      "metadata": {
        "id": "bqQs3xe-t_NA"
      },
      "source": [
        "from keras.models import Sequential\n",
        "from keras.layers import Flatten\n",
        "from keras.layers import Dense\n",
        "from keras.regularizers import l2\n",
        "\n",
        "model = Sequential()\n",
        "embed = Embedding(vocab_size,300,weights = [embedding_matrix], input_length=260,trainable=False)\n",
        "model.add(embed)\n",
        "model.add(Flatten())\n",
        "model.add(Dense(256,activation='relu'))\n",
        "model.add(Dense(5,activation='softmax'))"
      ],
      "execution_count": null,
      "outputs": []
    },
    {
      "cell_type": "code",
      "metadata": {
        "colab": {
          "base_uri": "https://localhost:8080/"
        },
        "id": "nvEYdwp_t_NB",
        "outputId": "0c68cc42-bd06-4b5a-baca-fb652adea6a4"
      },
      "source": [
        "model.summary()\n",
        "model.compile(loss=config.loss_function, optimizer='adam', metrics=['accuracy'])"
      ],
      "execution_count": null,
      "outputs": [
        {
          "output_type": "stream",
          "text": [
            "Model: \"sequential_2\"\n",
            "_________________________________________________________________\n",
            "Layer (type)                 Output Shape              Param #   \n",
            "=================================================================\n",
            "embedding_2 (Embedding)      (None, 260, 300)          14121300  \n",
            "_________________________________________________________________\n",
            "flatten_1 (Flatten)          (None, 78000)             0         \n",
            "_________________________________________________________________\n",
            "dense_4 (Dense)              (None, 256)               19968256  \n",
            "_________________________________________________________________\n",
            "dense_5 (Dense)              (None, 5)                 1285      \n",
            "=================================================================\n",
            "Total params: 34,090,841\n",
            "Trainable params: 19,969,541\n",
            "Non-trainable params: 14,121,300\n",
            "_________________________________________________________________\n"
          ],
          "name": "stdout"
        }
      ]
    },
    {
      "cell_type": "code",
      "metadata": {
        "colab": {
          "base_uri": "https://localhost:8080/"
        },
        "id": "YHPs8djXt_NB",
        "outputId": "0ce5fcbe-76b1-4c5f-fccf-ab2424b86e98"
      },
      "source": [
        "model.fit(padded_rev, y_train, epochs=config.epochs, \n",
        "          batch_size=config.batch_size, shuffle=True, \n",
        "              validation_data=(padded_rev_val, y_val), callbacks=[WandbCallback()])"
      ],
      "execution_count": null,
      "outputs": [
        {
          "output_type": "stream",
          "text": [
            "Epoch 1/5\n",
            "3125/3125 [==============================] - 31s 10ms/step - loss: 1.3422 - accuracy: 0.4058 - val_loss: 1.2494 - val_accuracy: 0.4404\n",
            "Epoch 2/5\n",
            "3125/3125 [==============================] - 31s 10ms/step - loss: 1.1487 - accuracy: 0.5028 - val_loss: 1.2258 - val_accuracy: 0.4588\n",
            "Epoch 3/5\n",
            "3125/3125 [==============================] - 32s 10ms/step - loss: 1.0303 - accuracy: 0.5602 - val_loss: 1.2888 - val_accuracy: 0.4532\n",
            "Epoch 4/5\n",
            "3125/3125 [==============================] - 30s 10ms/step - loss: 0.8815 - accuracy: 0.6354 - val_loss: 1.3871 - val_accuracy: 0.4424\n",
            "Epoch 5/5\n",
            "3125/3125 [==============================] - 30s 10ms/step - loss: 0.7171 - accuracy: 0.7145 - val_loss: 1.6265 - val_accuracy: 0.4236\n"
          ],
          "name": "stdout"
        },
        {
          "output_type": "execute_result",
          "data": {
            "text/plain": [
              "<tensorflow.python.keras.callbacks.History at 0x7f52ccdcf4d0>"
            ]
          },
          "metadata": {
            "tags": []
          },
          "execution_count": 47
        }
      ]
    },
    {
      "cell_type": "markdown",
      "metadata": {
        "id": "mtfPgi7gt_NC"
      },
      "source": [
        "###  LSTMs"
      ]
    },
    {
      "cell_type": "code",
      "metadata": {
        "id": "TMO74lqct_NC"
      },
      "source": [
        "#Modelo baseline\n",
        "from keras.layers import LSTM\n",
        "from keras.layers import GlobalMaxPool1D\n",
        "from keras.models import Sequential\n",
        "\n",
        "model = Sequential()\n",
        "embed = Embedding(vocab_size,300,weights = [embedding_matrix], input_length=260,trainable=False)\n",
        "model.add(embed)\n",
        "model.add(LSTM(128,return_sequences=True))\n",
        "model.add(GlobalMaxPool1D())\n",
        "model.add(Dropout(0.4))\n",
        "model.add(Dense(1000,activation='relu'))\n",
        "model.add(Dense(5,activation='softmax'))"
      ],
      "execution_count": null,
      "outputs": []
    },
    {
      "cell_type": "code",
      "metadata": {
        "colab": {
          "base_uri": "https://localhost:8080/"
        },
        "id": "qa2YLfWlt_NC",
        "outputId": "c0980a59-b85f-46ee-9b14-f2b98466610f"
      },
      "source": [
        "model.summary()\n",
        "model.compile(loss=config.loss_function, optimizer='adam', metrics=['accuracy'])"
      ],
      "execution_count": null,
      "outputs": [
        {
          "output_type": "stream",
          "text": [
            "Model: \"sequential_12\"\n",
            "_________________________________________________________________\n",
            "Layer (type)                 Output Shape              Param #   \n",
            "=================================================================\n",
            "embedding_12 (Embedding)     (None, 260, 300)          14121300  \n",
            "_________________________________________________________________\n",
            "lstm_9 (LSTM)                (None, 260, 128)          219648    \n",
            "_________________________________________________________________\n",
            "global_max_pooling1d_6 (Glob (None, 128)               0         \n",
            "_________________________________________________________________\n",
            "dropout_5 (Dropout)          (None, 128)               0         \n",
            "_________________________________________________________________\n",
            "dense_14 (Dense)             (None, 1000)              129000    \n",
            "_________________________________________________________________\n",
            "dense_15 (Dense)             (None, 5)                 5005      \n",
            "=================================================================\n",
            "Total params: 14,474,953\n",
            "Trainable params: 353,653\n",
            "Non-trainable params: 14,121,300\n",
            "_________________________________________________________________\n"
          ],
          "name": "stdout"
        }
      ]
    },
    {
      "cell_type": "code",
      "metadata": {
        "colab": {
          "base_uri": "https://localhost:8080/"
        },
        "id": "9gN6a_Wft_NC",
        "outputId": "483a0692-89e7-4979-ac4a-e5b187d1ab2b"
      },
      "source": [
        "model.fit(padded_rev, y_train, epochs=config.epochs, \n",
        "          batch_size=config.batch_size, shuffle=True, \n",
        "              validation_data=(padded_rev_val, y_val), callbacks=[WandbCallback()])"
      ],
      "execution_count": null,
      "outputs": [
        {
          "output_type": "stream",
          "text": [
            "Epoch 1/5\n",
            "3125/3125 [==============================] - 65s 21ms/step - loss: 1.2592 - accuracy: 0.4424 - val_loss: 1.0832 - val_accuracy: 0.5244\n",
            "Epoch 2/5\n",
            "3125/3125 [==============================] - 64s 20ms/step - loss: 1.0988 - accuracy: 0.5169 - val_loss: 1.0911 - val_accuracy: 0.5284\n",
            "Epoch 3/5\n",
            "3125/3125 [==============================] - 64s 21ms/step - loss: 1.0603 - accuracy: 0.5352 - val_loss: 1.0426 - val_accuracy: 0.5416\n",
            "Epoch 4/5\n",
            "3125/3125 [==============================] - 65s 21ms/step - loss: 1.0398 - accuracy: 0.5415 - val_loss: 1.0338 - val_accuracy: 0.5388\n",
            "Epoch 5/5\n",
            "3125/3125 [==============================] - 65s 21ms/step - loss: 1.0269 - accuracy: 0.5487 - val_loss: 1.0201 - val_accuracy: 0.5524\n"
          ],
          "name": "stdout"
        },
        {
          "output_type": "execute_result",
          "data": {
            "text/plain": [
              "<tensorflow.python.keras.callbacks.History at 0x7f52ce15e5d0>"
            ]
          },
          "metadata": {
            "tags": []
          },
          "execution_count": 72
        }
      ]
    },
    {
      "cell_type": "markdown",
      "metadata": {
        "id": "D3WiH77ft_ND"
      },
      "source": [
        "###  Bi-LSTM "
      ]
    },
    {
      "cell_type": "code",
      "metadata": {
        "id": "XH8rdiSzt_ND"
      },
      "source": [
        "#Modelo mejorado bi-lstm\n",
        "from keras.models import Sequential\n",
        "from tensorflow.keras import layers\n",
        "from keras.layers import Bidirectional\n",
        "\n",
        "modelbi = Sequential()\n",
        "embed = Embedding(vocab_size,300,weights = [embedding_matrix], input_length=260,trainable=False)\n",
        "modelbi.add(embed)\n",
        "modelbi.add(Bidirectional(LSTM(128,return_sequences=True)))\n",
        "modelbi.add(GlobalMaxPool1D())\n",
        "modelbi.add(Dropout(0.4))\n",
        "modelbi.add(Dense(1000,activation='relu'))\n",
        "modelbi.add(Dense(5,activation='softmax'))"
      ],
      "execution_count": null,
      "outputs": []
    },
    {
      "cell_type": "code",
      "metadata": {
        "colab": {
          "base_uri": "https://localhost:8080/"
        },
        "id": "uviLJw0Kt_ND",
        "outputId": "9bb36617-7f56-44bf-8138-7d3eb9dca644"
      },
      "source": [
        "modelbi.summary()\n",
        "modelbi.compile(loss=config.loss_function, optimizer='adam', metrics=['accuracy'])"
      ],
      "execution_count": null,
      "outputs": [
        {
          "output_type": "stream",
          "text": [
            "Model: \"sequential_15\"\n",
            "_________________________________________________________________\n",
            "Layer (type)                 Output Shape              Param #   \n",
            "=================================================================\n",
            "embedding_15 (Embedding)     (None, 260, 300)          14121300  \n",
            "_________________________________________________________________\n",
            "bidirectional_2 (Bidirection (None, 260, 256)          439296    \n",
            "_________________________________________________________________\n",
            "global_max_pooling1d_9 (Glob (None, 256)               0         \n",
            "_________________________________________________________________\n",
            "dropout_8 (Dropout)          (None, 256)               0         \n",
            "_________________________________________________________________\n",
            "dense_20 (Dense)             (None, 1000)              257000    \n",
            "_________________________________________________________________\n",
            "dense_21 (Dense)             (None, 5)                 5005      \n",
            "=================================================================\n",
            "Total params: 14,822,601\n",
            "Trainable params: 701,301\n",
            "Non-trainable params: 14,121,300\n",
            "_________________________________________________________________\n"
          ],
          "name": "stdout"
        }
      ]
    },
    {
      "cell_type": "code",
      "metadata": {
        "colab": {
          "base_uri": "https://localhost:8080/"
        },
        "id": "xlMQ_WsYt_ND",
        "outputId": "752381df-3c4a-4956-c9c4-cdfc10915e9b"
      },
      "source": [
        "modelbi.fit(padded_rev, y_train, epochs=config.epochs, \n",
        "          batch_size=config.batch_size, shuffle=True, \n",
        "              validation_data=(padded_rev_val, y_val), callbacks=[WandbCallback()])"
      ],
      "execution_count": null,
      "outputs": [
        {
          "output_type": "stream",
          "text": [
            "Epoch 1/5\n",
            "3125/3125 [==============================] - 119s 37ms/step - loss: 1.2376 - accuracy: 0.4505 - val_loss: 1.0650 - val_accuracy: 0.5312\n",
            "Epoch 2/5\n",
            "3125/3125 [==============================] - 117s 38ms/step - loss: 1.0716 - accuracy: 0.5296 - val_loss: 1.0462 - val_accuracy: 0.5316\n",
            "Epoch 3/5\n",
            "3125/3125 [==============================] - 118s 38ms/step - loss: 1.0354 - accuracy: 0.5457 - val_loss: 1.0287 - val_accuracy: 0.5476\n",
            "Epoch 4/5\n",
            "3125/3125 [==============================] - 119s 38ms/step - loss: 1.0210 - accuracy: 0.5524 - val_loss: 1.0145 - val_accuracy: 0.5488\n",
            "Epoch 5/5\n",
            "3125/3125 [==============================] - 118s 38ms/step - loss: 1.0048 - accuracy: 0.5572 - val_loss: 1.0042 - val_accuracy: 0.5484\n"
          ],
          "name": "stdout"
        },
        {
          "output_type": "execute_result",
          "data": {
            "text/plain": [
              "<tensorflow.python.keras.callbacks.History at 0x7f52cdec4610>"
            ]
          },
          "metadata": {
            "tags": []
          },
          "execution_count": 84
        }
      ]
    },
    {
      "cell_type": "code",
      "metadata": {
        "id": "GXlSEwsrt_NE"
      },
      "source": [
        "#Guardamos el modelo\n",
        "modelbi.save('/content/drive/MyDrive/TFG/Modelos_entrenados_keras/Category_text.h5')"
      ],
      "execution_count": null,
      "outputs": []
    },
    {
      "cell_type": "code",
      "metadata": {
        "id": "bVmBKUcxt_NE"
      },
      "source": [
        "model_cat_body = keras.models.load_model('/content/drive/MyDrive/TFG/Modelos_entrenados_keras/Category_text.h5')"
      ],
      "execution_count": null,
      "outputs": []
    },
    {
      "cell_type": "code",
      "metadata": {
        "id": "qgEH6TQjxfU0"
      },
      "source": [
        "#FewShot\n",
        "modelbi.save('/content/drive/MyDrive/TFG/Modelos_entrenados_keras/Few_shotES/Cat_text_few_shotES.h5')\n",
        "model_cat_body_fewshot = keras.models.load_model('/content/drive/MyDrive/TFG/Modelos_entrenados_keras/Few_shotES/Cat_text_few_shotES.h5')\n",
        "loss,acc = model_cat_body_fewshot.evaluate(x=padded_rev_test, y=y_test, batch_size=64, verbose=1)"
      ],
      "execution_count": null,
      "outputs": []
    },
    {
      "cell_type": "code",
      "metadata": {
        "id": "uoS5X75fxit1"
      },
      "source": [
        "loss,acc = model_cat_body.evaluate(x=padded_rev_test, y=y_test, batch_size=64, verbose=1)"
      ],
      "execution_count": null,
      "outputs": []
    },
    {
      "cell_type": "markdown",
      "metadata": {
        "id": "zATRU7gKt_NE"
      },
      "source": [
        "###  GRUs"
      ]
    },
    {
      "cell_type": "code",
      "metadata": {
        "id": "uEnyiUmvt_NF"
      },
      "source": [
        "#Modelo mejorado GRU\n",
        "from keras.models import Sequential\n",
        "from tensorflow.keras import layers\n",
        "from keras.layers import Bidirectional\n",
        "from keras.layers import GRU\n",
        "\n",
        "model = Sequential()\n",
        "embed = Embedding(vocab_size,300,weights = [embedding_matrix], input_length=260,trainable=False)\n",
        "model.add(embed)\n",
        "model.add(GRU(128,return_sequences=True))\n",
        "model.add(GlobalMaxPool1D())\n",
        "model.add(Dropout(0.4))\n",
        "model.add(Dense(1000,activation='relu'))\n",
        "model.add(Dense(5,activation='softmax'))"
      ],
      "execution_count": null,
      "outputs": []
    },
    {
      "cell_type": "code",
      "metadata": {
        "colab": {
          "base_uri": "https://localhost:8080/"
        },
        "id": "_X76KuAJt_NF",
        "outputId": "bb5dda5f-e7aa-482f-f15f-962768aa3809"
      },
      "source": [
        "model.summary()\n",
        "model.compile(loss=config.loss_function, optimizer='adam', metrics=['accuracy'])"
      ],
      "execution_count": null,
      "outputs": [
        {
          "output_type": "stream",
          "text": [
            "Model: \"sequential_13\"\n",
            "_________________________________________________________________\n",
            "Layer (type)                 Output Shape              Param #   \n",
            "=================================================================\n",
            "embedding_13 (Embedding)     (None, 260, 300)          14121300  \n",
            "_________________________________________________________________\n",
            "gru (GRU)                    (None, 260, 128)          165120    \n",
            "_________________________________________________________________\n",
            "global_max_pooling1d_7 (Glob (None, 128)               0         \n",
            "_________________________________________________________________\n",
            "dropout_6 (Dropout)          (None, 128)               0         \n",
            "_________________________________________________________________\n",
            "dense_16 (Dense)             (None, 1000)              129000    \n",
            "_________________________________________________________________\n",
            "dense_17 (Dense)             (None, 5)                 5005      \n",
            "=================================================================\n",
            "Total params: 14,420,425\n",
            "Trainable params: 299,125\n",
            "Non-trainable params: 14,121,300\n",
            "_________________________________________________________________\n"
          ],
          "name": "stdout"
        }
      ]
    },
    {
      "cell_type": "code",
      "metadata": {
        "colab": {
          "base_uri": "https://localhost:8080/"
        },
        "id": "eXOGeRD2t_NF",
        "outputId": "44ed4ee8-5e27-4d1a-884a-98c0149b61de"
      },
      "source": [
        "model.fit(padded_rev, y_train, epochs=config.epochs, \n",
        "          batch_size=config.batch_size, shuffle=True, \n",
        "              validation_data=(padded_rev_val, y_val), callbacks=[WandbCallback()])"
      ],
      "execution_count": null,
      "outputs": [
        {
          "output_type": "stream",
          "text": [
            "Epoch 1/5\n",
            "3125/3125 [==============================] - 60s 19ms/step - loss: 1.2389 - accuracy: 0.4478 - val_loss: 1.0938 - val_accuracy: 0.5168\n",
            "Epoch 2/5\n",
            "3125/3125 [==============================] - 59s 19ms/step - loss: 1.0907 - accuracy: 0.5219 - val_loss: 1.0609 - val_accuracy: 0.5292\n",
            "Epoch 3/5\n",
            "3125/3125 [==============================] - 59s 19ms/step - loss: 1.0595 - accuracy: 0.5358 - val_loss: 1.0345 - val_accuracy: 0.5412\n",
            "Epoch 4/5\n",
            "3125/3125 [==============================] - 60s 19ms/step - loss: 1.0414 - accuracy: 0.5432 - val_loss: 1.0353 - val_accuracy: 0.5452\n",
            "Epoch 5/5\n",
            "3125/3125 [==============================] - 59s 19ms/step - loss: 1.0255 - accuracy: 0.5488 - val_loss: 1.0206 - val_accuracy: 0.5500\n"
          ],
          "name": "stdout"
        },
        {
          "output_type": "execute_result",
          "data": {
            "text/plain": [
              "<tensorflow.python.keras.callbacks.History at 0x7f52ce826210>"
            ]
          },
          "metadata": {
            "tags": []
          },
          "execution_count": 78
        }
      ]
    },
    {
      "cell_type": "code",
      "metadata": {
        "id": "VJE4y69byShK"
      },
      "source": [
        ""
      ],
      "execution_count": null,
      "outputs": []
    },
    {
      "cell_type": "markdown",
      "metadata": {
        "id": "Ln2J84OF4gAv"
      },
      "source": [
        "## Bi-GRU"
      ]
    },
    {
      "cell_type": "code",
      "metadata": {
        "id": "_g9RWcY64e8E"
      },
      "source": [
        "#Modelo mejorado bi-lstm\n",
        "from keras.models import Sequential\n",
        "from tensorflow.keras import layers\n",
        "from keras.layers import Bidirectional\n",
        "\n",
        "modelbi = Sequential()\n",
        "embed = Embedding(vocab_size,300,weights = [embedding_matrix], input_length=260,trainable=False)\n",
        "modelbi.add(embed)\n",
        "modelbi.add(Bidirectional(GRU(128,return_sequences=True)))\n",
        "modelbi.add(GlobalMaxPool1D())\n",
        "modelbi.add(Dropout(0.4))\n",
        "modelbi.add(Dense(1000,activation='relu'))\n",
        "modelbi.add(Dense(5,activation='softmax'))"
      ],
      "execution_count": null,
      "outputs": []
    },
    {
      "cell_type": "code",
      "metadata": {
        "colab": {
          "base_uri": "https://localhost:8080/"
        },
        "id": "5xzVL47v4jxU",
        "outputId": "2f219903-50db-43b8-ba3c-3da1f5a5d44a"
      },
      "source": [
        "model.summary()\n",
        "model.compile(loss=config.loss_function, optimizer='adam', metrics=['accuracy'])"
      ],
      "execution_count": null,
      "outputs": [
        {
          "output_type": "stream",
          "text": [
            "Model: \"sequential_13\"\n",
            "_________________________________________________________________\n",
            "Layer (type)                 Output Shape              Param #   \n",
            "=================================================================\n",
            "embedding_13 (Embedding)     (None, 260, 300)          14121300  \n",
            "_________________________________________________________________\n",
            "gru (GRU)                    (None, 260, 128)          165120    \n",
            "_________________________________________________________________\n",
            "global_max_pooling1d_7 (Glob (None, 128)               0         \n",
            "_________________________________________________________________\n",
            "dropout_6 (Dropout)          (None, 128)               0         \n",
            "_________________________________________________________________\n",
            "dense_16 (Dense)             (None, 1000)              129000    \n",
            "_________________________________________________________________\n",
            "dense_17 (Dense)             (None, 5)                 5005      \n",
            "=================================================================\n",
            "Total params: 14,420,425\n",
            "Trainable params: 299,125\n",
            "Non-trainable params: 14,121,300\n",
            "_________________________________________________________________\n"
          ],
          "name": "stdout"
        }
      ]
    },
    {
      "cell_type": "code",
      "metadata": {
        "colab": {
          "base_uri": "https://localhost:8080/"
        },
        "id": "Aw4B69yC4mnt",
        "outputId": "bb0d2898-bd5f-43b4-c651-b8b86af431d3"
      },
      "source": [
        "model.fit(padded_rev, y_train, epochs=config.epochs, \n",
        "          batch_size=config.batch_size, shuffle=True, \n",
        "              validation_data=(padded_rev_val, y_val), callbacks=[WandbCallback()])"
      ],
      "execution_count": null,
      "outputs": [
        {
          "output_type": "stream",
          "text": [
            "Epoch 1/10\n",
            "3125/3125 [==============================] - 60s 19ms/step - loss: 0.9755 - accuracy: 0.5710 - val_loss: 1.0069 - val_accuracy: 0.5496\n",
            "Epoch 2/10\n",
            "3125/3125 [==============================] - 59s 19ms/step - loss: 0.9639 - accuracy: 0.5750 - val_loss: 0.9979 - val_accuracy: 0.5612\n",
            "Epoch 3/10\n",
            "3125/3125 [==============================] - 59s 19ms/step - loss: 0.9585 - accuracy: 0.5791 - val_loss: 0.9930 - val_accuracy: 0.5616\n",
            "Epoch 4/10\n",
            "3125/3125 [==============================] - 59s 19ms/step - loss: 0.9556 - accuracy: 0.5795 - val_loss: 0.9961 - val_accuracy: 0.5640\n",
            "Epoch 5/10\n",
            "3125/3125 [==============================] - 59s 19ms/step - loss: 0.9475 - accuracy: 0.5826 - val_loss: 1.0028 - val_accuracy: 0.5556\n",
            "Epoch 6/10\n",
            "3125/3125 [==============================] - 60s 19ms/step - loss: 0.9400 - accuracy: 0.5876 - val_loss: 0.9999 - val_accuracy: 0.5612\n",
            "Epoch 7/10\n",
            "3125/3125 [==============================] - 59s 19ms/step - loss: 0.9370 - accuracy: 0.5876 - val_loss: 1.0119 - val_accuracy: 0.5424\n",
            "Epoch 8/10\n",
            "3125/3125 [==============================] - 59s 19ms/step - loss: 0.9322 - accuracy: 0.5897 - val_loss: 0.9986 - val_accuracy: 0.5544\n",
            "Epoch 9/10\n",
            "3125/3125 [==============================] - 59s 19ms/step - loss: 0.9244 - accuracy: 0.5958 - val_loss: 0.9948 - val_accuracy: 0.5628\n",
            "Epoch 10/10\n",
            "3125/3125 [==============================] - 59s 19ms/step - loss: 0.9203 - accuracy: 0.5954 - val_loss: 0.9915 - val_accuracy: 0.5580\n"
          ],
          "name": "stdout"
        },
        {
          "output_type": "execute_result",
          "data": {
            "text/plain": [
              "<tensorflow.python.keras.callbacks.History at 0x7f52ce89e8d0>"
            ]
          },
          "metadata": {
            "tags": []
          },
          "execution_count": 93
        }
      ]
    },
    {
      "cell_type": "code",
      "metadata": {
        "id": "yzJ-0I3_4v_y"
      },
      "source": [
        ""
      ],
      "execution_count": null,
      "outputs": []
    },
    {
      "cell_type": "code",
      "metadata": {
        "id": "tKYOsDdtxoYX"
      },
      "source": [
        ""
      ],
      "execution_count": null,
      "outputs": []
    }
  ]
}