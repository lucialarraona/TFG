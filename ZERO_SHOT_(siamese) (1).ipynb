{
  "nbformat": 4,
  "nbformat_minor": 0,
  "metadata": {
    "colab": {
      "name": "ZERO-SHOT (siamese).ipynb",
      "provenance": [],
      "collapsed_sections": [
        "gmxNxHBnw6UB",
        "CyaAOL0FxbuG",
        "r8w9KOspwE30",
        "qNmaUJ8Bw6T-",
        "jqz-RMkQyc7U"
      ]
    },
    "kernelspec": {
      "display_name": "Python 3",
      "name": "python3"
    }
  },
  "cells": [
    {
      "cell_type": "code",
      "metadata": {
        "id": "8CB111K5aure"
      },
      "source": [
        "import pandas as pd\n",
        "import numpy as np\n",
        "import seaborn as sns"
      ],
      "execution_count": 7,
      "outputs": []
    },
    {
      "cell_type": "code",
      "metadata": {
        "id": "jBfycpGw98ku"
      },
      "source": [
        "%%capture\n",
        "!pip install livelossplot ## track del entrenamiento"
      ],
      "execution_count": 11,
      "outputs": []
    },
    {
      "cell_type": "code",
      "metadata": {
        "id": "_WQFnOtv-Flm"
      },
      "source": [
        "from livelossplot import PlotLossesKeras"
      ],
      "execution_count": null,
      "outputs": []
    },
    {
      "cell_type": "markdown",
      "metadata": {
        "id": "F4LQLT8giEXM"
      },
      "source": [
        "# Preparación del dataset\n",
        "- Necesario crear pares de datos de entrada: \n",
        "  - 2 frases \n",
        "  - is_equal = 0 o 1 dependiendo de si las frases tienen significado similar o no \n"
      ]
    },
    {
      "cell_type": "markdown",
      "metadata": {
        "id": "gmxNxHBnw6UB"
      },
      "source": [
        "##Load Amazon Dataset English & create pairs \n"
      ]
    },
    {
      "cell_type": "code",
      "metadata": {
        "id": "z9IcVHdQw6UC"
      },
      "source": [
        "path1 = \"/content/drive/MyDrive/TFG/Datasets_procesados_2/train/amazonEN_train.csv\"\n",
        "path2 = \"/content/drive/MyDrive/TFG/Datasets_procesados_2/valid/amazonEN_valid.csv\"\n",
        "path3 = \"/content/drive/MyDrive/TFG/Datasets_procesados_2/test/amazonEN_test.csv\""
      ],
      "execution_count": null,
      "outputs": []
    },
    {
      "cell_type": "code",
      "metadata": {
        "id": "XOr7NrLDw6UC"
      },
      "source": [
        "df_train = pd.read_csv(path1)\n",
        "df_valid = pd.read_csv(path2)\n",
        "df_test = pd.read_csv(path3)"
      ],
      "execution_count": null,
      "outputs": []
    },
    {
      "cell_type": "code",
      "metadata": {
        "colab": {
          "base_uri": "https://localhost:8080/",
          "height": 284
        },
        "id": "wXvInorVk5U4",
        "outputId": "3cc247d0-ea62-462c-8559-d2afaf8df40f"
      },
      "source": [
        "df_train.head(2)"
      ],
      "execution_count": null,
      "outputs": [
        {
          "output_type": "execute_result",
          "data": {
            "text/html": [
              "<div>\n",
              "<style scoped>\n",
              "    .dataframe tbody tr th:only-of-type {\n",
              "        vertical-align: middle;\n",
              "    }\n",
              "\n",
              "    .dataframe tbody tr th {\n",
              "        vertical-align: top;\n",
              "    }\n",
              "\n",
              "    .dataframe thead th {\n",
              "        text-align: right;\n",
              "    }\n",
              "</style>\n",
              "<table border=\"1\" class=\"dataframe\">\n",
              "  <thead>\n",
              "    <tr style=\"text-align: right;\">\n",
              "      <th></th>\n",
              "      <th>review_id</th>\n",
              "      <th>product_id</th>\n",
              "      <th>reviewer_id</th>\n",
              "      <th>star_rating</th>\n",
              "      <th>review_body</th>\n",
              "      <th>review_title</th>\n",
              "      <th>language</th>\n",
              "      <th>product_category</th>\n",
              "      <th>text_title</th>\n",
              "      <th>text_title_cat</th>\n",
              "      <th>text_cat</th>\n",
              "      <th>product_category_cod</th>\n",
              "    </tr>\n",
              "  </thead>\n",
              "  <tbody>\n",
              "    <tr>\n",
              "      <th>0</th>\n",
              "      <td>en_0522546</td>\n",
              "      <td>product_en_0681589</td>\n",
              "      <td>reviewer_en_0687817</td>\n",
              "      <td>2</td>\n",
              "      <td>Not strong enough to run a small 120v vacuum c...</td>\n",
              "      <td>Not strong enough to run a small 120v vacuum c...</td>\n",
              "      <td>en</td>\n",
              "      <td>lawn_and_garden</td>\n",
              "      <td>Not strong enough to run a small 120v vacuum c...</td>\n",
              "      <td>Not strong enough to run a small 120v vacuum c...</td>\n",
              "      <td>Not strong enough to run a small 120v vacuum c...</td>\n",
              "      <td>17</td>\n",
              "    </tr>\n",
              "    <tr>\n",
              "      <th>1</th>\n",
              "      <td>en_0612910</td>\n",
              "      <td>product_en_0295449</td>\n",
              "      <td>reviewer_en_0312138</td>\n",
              "      <td>1</td>\n",
              "      <td>The leg openings are a little small, but other...</td>\n",
              "      <td>Crap</td>\n",
              "      <td>en</td>\n",
              "      <td>apparel</td>\n",
              "      <td>Crap The leg openings are a little small, but ...</td>\n",
              "      <td>Crap The leg openings are a little small, but ...</td>\n",
              "      <td>The leg openings are a little small, but other...</td>\n",
              "      <td>0</td>\n",
              "    </tr>\n",
              "  </tbody>\n",
              "</table>\n",
              "</div>"
            ],
            "text/plain": [
              "    review_id  ... product_category_cod\n",
              "0  en_0522546  ...                   17\n",
              "1  en_0612910  ...                    0\n",
              "\n",
              "[2 rows x 12 columns]"
            ]
          },
          "metadata": {
            "tags": []
          },
          "execution_count": 6
        }
      ]
    },
    {
      "cell_type": "markdown",
      "metadata": {
        "id": "CyaAOL0FxbuG"
      },
      "source": [
        "### Create pairs"
      ]
    },
    {
      "cell_type": "code",
      "metadata": {
        "id": "NQsHQVGftOtO"
      },
      "source": [
        "# Agrupamos por puntuaciones \n",
        "star0 = df_train[df_train[\"star_rating\"] == 0]\n",
        "star1 = df_train[df_train[\"star_rating\"] == 1]\n",
        "star2 = df_train[df_train[\"star_rating\"] == 2]\n",
        "star3 = df_train[df_train[\"star_rating\"] == 3]\n",
        "star4 = df_train[df_train[\"star_rating\"] == 4]"
      ],
      "execution_count": null,
      "outputs": []
    },
    {
      "cell_type": "code",
      "metadata": {
        "colab": {
          "base_uri": "https://localhost:8080/"
        },
        "id": "RnU4MGLNfxt2",
        "outputId": "806cdc08-4e41-4b28-f2ae-03adb02dd077"
      },
      "source": [
        "star4.shape"
      ],
      "execution_count": null,
      "outputs": [
        {
          "output_type": "execute_result",
          "data": {
            "text/plain": [
              "(40000, 12)"
            ]
          },
          "metadata": {
            "tags": []
          },
          "execution_count": 8
        }
      ]
    },
    {
      "cell_type": "code",
      "metadata": {
        "id": "wHP0nRfrsEvW"
      },
      "source": [
        "#Creamos funcion para hacer pares de cada grupo de puntuaciones \n",
        "def create_pairs(df):\n",
        "  partitions = 2\n",
        "  star0s = np.array_split(df, partitions)\n",
        "\n",
        "  star01 = star0s[0]['review_body']\n",
        "  star01 = star01.reset_index()\n",
        "  star01.rename(columns={'review_body': 'sent1'}, inplace=True)\n",
        "\n",
        "\n",
        "  star02 = star0s[1]['review_body']\n",
        "  star02 = star02.reset_index()\n",
        "  star02.rename(columns={'review_body': 'sent2'}, inplace=True)\n",
        "\n",
        "  final1s = pd.DataFrame()\n",
        "  final1s = pd.concat([star01,star02],axis=1)\n",
        "  final1s = final1s.drop('index',axis=1)\n",
        "  final1s['is_duplicate'] = 1\n",
        "  return final1s"
      ],
      "execution_count": null,
      "outputs": []
    },
    {
      "cell_type": "code",
      "metadata": {
        "colab": {
          "base_uri": "https://localhost:8080/",
          "height": 173
        },
        "id": "djpia-BOsEsy",
        "outputId": "952881cd-4f0c-4910-9ff2-9e66fe9446c2"
      },
      "source": [
        "# Cada grupo de puntuaciones dividido en dos y puesto en dos columnas sent1 y sent2  + is_duplicate = 1 porque son del mismo grupo == aprox mismo significado\n",
        "pair_0s = create_pairs(star0)[:5000].reset_index(drop=True)\n",
        "pair_1s = create_pairs(star1)[:5000].reset_index(drop=True)\n",
        "pair_2s = create_pairs(star2)[:5000].reset_index(drop=True)\n",
        "pair_3s = create_pairs(star3)[:5000].reset_index(drop = True)\n",
        "pair_4s = create_pairs(star4)[:5000].reset_index(drop=True)\n",
        "\n",
        "#Ejemplo del resultado\n",
        "pair_0s.head(4)"
      ],
      "execution_count": null,
      "outputs": [
        {
          "output_type": "execute_result",
          "data": {
            "text/html": [
              "<div>\n",
              "<style scoped>\n",
              "    .dataframe tbody tr th:only-of-type {\n",
              "        vertical-align: middle;\n",
              "    }\n",
              "\n",
              "    .dataframe tbody tr th {\n",
              "        vertical-align: top;\n",
              "    }\n",
              "\n",
              "    .dataframe thead th {\n",
              "        text-align: right;\n",
              "    }\n",
              "</style>\n",
              "<table border=\"1\" class=\"dataframe\">\n",
              "  <thead>\n",
              "    <tr style=\"text-align: right;\">\n",
              "      <th></th>\n",
              "      <th>sent1</th>\n",
              "      <th>sent2</th>\n",
              "      <th>is_duplicate</th>\n",
              "    </tr>\n",
              "  </thead>\n",
              "  <tbody>\n",
              "    <tr>\n",
              "      <th>0</th>\n",
              "      <td>Very, very thin, you can bend them with you fi...</td>\n",
              "      <td>I am EXTREMELY unhappy and wish I could give i...</td>\n",
              "      <td>1</td>\n",
              "    </tr>\n",
              "    <tr>\n",
              "      <th>1</th>\n",
              "      <td>Super cute! Loved it until I noticed that the ...</td>\n",
              "      <td>I did not receive this item even though Amazon...</td>\n",
              "      <td>1</td>\n",
              "    </tr>\n",
              "    <tr>\n",
              "      <th>2</th>\n",
              "      <td>Broke down after a month's use!!</td>\n",
              "      <td>Ordered 2. Both were broke when they arrived. ...</td>\n",
              "      <td>1</td>\n",
              "    </tr>\n",
              "    <tr>\n",
              "      <th>3</th>\n",
              "      <td>It's hard to be critical of something so inexp...</td>\n",
              "      <td>Remote stopped working one month after purchase</td>\n",
              "      <td>1</td>\n",
              "    </tr>\n",
              "  </tbody>\n",
              "</table>\n",
              "</div>"
            ],
            "text/plain": [
              "                                               sent1  ... is_duplicate\n",
              "0  Very, very thin, you can bend them with you fi...  ...            1\n",
              "1  Super cute! Loved it until I noticed that the ...  ...            1\n",
              "2                   Broke down after a month's use!!  ...            1\n",
              "3  It's hard to be critical of something so inexp...  ...            1\n",
              "\n",
              "[4 rows x 3 columns]"
            ]
          },
          "metadata": {
            "tags": []
          },
          "execution_count": 10
        }
      ]
    },
    {
      "cell_type": "code",
      "metadata": {
        "id": "6UYyb0nH6ual"
      },
      "source": [
        "#Descartamos el 2 , pares entre 0-1 y 3-4 \n",
        "result_pairs = pd.DataFrame()\n",
        "result_pairs = pd.concat([pair_0s,pair_1s,pair_3s,pair_4s],ignore_index=True)\n"
      ],
      "execution_count": null,
      "outputs": []
    },
    {
      "cell_type": "code",
      "metadata": {
        "id": "ZMQGOWi5fl0B"
      },
      "source": [
        "result_pairs = result_pairs.sample(frac=1).reset_index(drop=True)"
      ],
      "execution_count": null,
      "outputs": []
    },
    {
      "cell_type": "code",
      "metadata": {
        "colab": {
          "base_uri": "https://localhost:8080/",
          "height": 419
        },
        "id": "Dv5BUG83jA3F",
        "outputId": "a960b333-2bd9-4497-c722-009ffcc4c93b"
      },
      "source": [
        "result_pairs"
      ],
      "execution_count": null,
      "outputs": [
        {
          "output_type": "execute_result",
          "data": {
            "text/html": [
              "<div>\n",
              "<style scoped>\n",
              "    .dataframe tbody tr th:only-of-type {\n",
              "        vertical-align: middle;\n",
              "    }\n",
              "\n",
              "    .dataframe tbody tr th {\n",
              "        vertical-align: top;\n",
              "    }\n",
              "\n",
              "    .dataframe thead th {\n",
              "        text-align: right;\n",
              "    }\n",
              "</style>\n",
              "<table border=\"1\" class=\"dataframe\">\n",
              "  <thead>\n",
              "    <tr style=\"text-align: right;\">\n",
              "      <th></th>\n",
              "      <th>sent1</th>\n",
              "      <th>sent2</th>\n",
              "      <th>is_duplicate</th>\n",
              "    </tr>\n",
              "  </thead>\n",
              "  <tbody>\n",
              "    <tr>\n",
              "      <th>0</th>\n",
              "      <td>Doesn't really turn well at all</td>\n",
              "      <td>Everything about this light shows good design....</td>\n",
              "      <td>1</td>\n",
              "    </tr>\n",
              "    <tr>\n",
              "      <th>1</th>\n",
              "      <td>These were cheep, not well made, hard to work ...</td>\n",
              "      <td>This design is exactly what I want. I read the...</td>\n",
              "      <td>1</td>\n",
              "    </tr>\n",
              "    <tr>\n",
              "      <th>2</th>\n",
              "      <td>I wish the grommet pieces were better sorted, ...</td>\n",
              "      <td>...this was a really good art house film. I li...</td>\n",
              "      <td>1</td>\n",
              "    </tr>\n",
              "    <tr>\n",
              "      <th>3</th>\n",
              "      <td>Came really wrinkled but it’s cute</td>\n",
              "      <td>One of my favorite/smooth flavors of Nespresso...</td>\n",
              "      <td>1</td>\n",
              "    </tr>\n",
              "    <tr>\n",
              "      <th>4</th>\n",
              "      <td>I bought the two-pack of these seat belt retai...</td>\n",
              "      <td>Good quality and good design.</td>\n",
              "      <td>1</td>\n",
              "    </tr>\n",
              "    <tr>\n",
              "      <th>...</th>\n",
              "      <td>...</td>\n",
              "      <td>...</td>\n",
              "      <td>...</td>\n",
              "    </tr>\n",
              "    <tr>\n",
              "      <th>19995</th>\n",
              "      <td>Very flimsy and the balls don’t really swing c...</td>\n",
              "      <td>halfway through my can and I see minimal results.</td>\n",
              "      <td>1</td>\n",
              "    </tr>\n",
              "    <tr>\n",
              "      <th>19996</th>\n",
              "      <td>This suit fits as expected and the color is tr...</td>\n",
              "      <td>I finished reading Born to Run and quickly ste...</td>\n",
              "      <td>1</td>\n",
              "    </tr>\n",
              "    <tr>\n",
              "      <th>19997</th>\n",
              "      <td>I ordered this knowing what I am getting mysel...</td>\n",
              "      <td>They are a good quality headphones. Sound is g...</td>\n",
              "      <td>1</td>\n",
              "    </tr>\n",
              "    <tr>\n",
              "      <th>19998</th>\n",
              "      <td>I was told not to worry that the tracking # I ...</td>\n",
              "      <td>Just received this product. It came in a very ...</td>\n",
              "      <td>1</td>\n",
              "    </tr>\n",
              "    <tr>\n",
              "      <th>19999</th>\n",
              "      <td>Very bad product. I have order 1 of this last ...</td>\n",
              "      <td>I haven't received this product yet. But it sa...</td>\n",
              "      <td>1</td>\n",
              "    </tr>\n",
              "  </tbody>\n",
              "</table>\n",
              "<p>20000 rows × 3 columns</p>\n",
              "</div>"
            ],
            "text/plain": [
              "                                                   sent1  ... is_duplicate\n",
              "0                        Doesn't really turn well at all  ...            1\n",
              "1      These were cheep, not well made, hard to work ...  ...            1\n",
              "2      I wish the grommet pieces were better sorted, ...  ...            1\n",
              "3                     Came really wrinkled but it’s cute  ...            1\n",
              "4      I bought the two-pack of these seat belt retai...  ...            1\n",
              "...                                                  ...  ...          ...\n",
              "19995  Very flimsy and the balls don’t really swing c...  ...            1\n",
              "19996  This suit fits as expected and the color is tr...  ...            1\n",
              "19997  I ordered this knowing what I am getting mysel...  ...            1\n",
              "19998  I was told not to worry that the tracking # I ...  ...            1\n",
              "19999  Very bad product. I have order 1 of this last ...  ...            1\n",
              "\n",
              "[20000 rows x 3 columns]"
            ]
          },
          "metadata": {
            "tags": []
          },
          "execution_count": 13
        }
      ]
    },
    {
      "cell_type": "code",
      "metadata": {
        "colab": {
          "base_uri": "https://localhost:8080/"
        },
        "id": "In0qa8_PcqKR",
        "outputId": "b4ed61fe-7cfc-49c1-c8b8-cede106032ae"
      },
      "source": [
        "print(result_pairs.iloc[-1]['sent1'])\n",
        "print(result_pairs.iloc[-1]['sent2'])"
      ],
      "execution_count": null,
      "outputs": [
        {
          "output_type": "stream",
          "text": [
            "Very bad product. I have order 1 of this last year. It last only a few month. I didn't return it because due to return policy you need to pay to shipping which cost the same as the product or similar. I order a new one. This one was worst than the previous one. Please see other products this is clearly a very bad deal\n",
            "I haven't received this product yet. But it says that it was delivered yesterday. Please track and let me know where the product is exactly. There was nothing left in the porch as they claim.\n"
          ],
          "name": "stdout"
        }
      ]
    },
    {
      "cell_type": "code",
      "metadata": {
        "id": "qZEfma3lsEqc"
      },
      "source": [
        "# Hacemos combinaciones entre grupos de puntuaciones para añadir ejemplos que no tengan el mismo significado == is_duplicate = 0\n",
        "from itertools import product\n",
        "def create_dispairs(dfa,dfb):\n",
        "  \n",
        "  a = dfa['sent1']\n",
        "  a1 = dfb['sent1']\n",
        "\n",
        "  b = dfa['sent2']\n",
        "  b1 = dfb['sent2']\n",
        "\n",
        "  dispairs_1 = pd.DataFrame(list(product(a, a1)), columns=['l1', 'l2'])\n",
        "  dispairs_2 = pd.DataFrame(list(product(b, b1)), columns=['l1', 'l2'])\n",
        "\n",
        "  dispairs_1['l1'] = dispairs_1['l1'].astype(str)\n",
        "  dispairs_1['l2'] = dispairs_1['l2'].astype(str)\n",
        "\n",
        "  dispairs_2['l1'] = dispairs_2['l1'].astype(str)\n",
        "  dispairs_2['l2'] = dispairs_2['l2'].astype(str)\n",
        "\n",
        "\n",
        "  dispairs_1['is_duplicate'] = np.where(dispairs_1['l1']== dispairs_1['l2'], 1, 0)\n",
        "  dispairs_2['is_duplicate'] = np.where(dispairs_2['l1']== dispairs_2['l2'], 1, 0)\n",
        "\n",
        "  dispairs_1 = dispairs_1.sample(frac = 0.2)\n",
        "  dispairs_2 = dispairs_2.sample(frac = 0.2)\n",
        "  \n",
        "  result = pd.DataFrame()\n",
        "  result = pd.concat([dispairs_1,dispairs_2])\n",
        "  return result"
      ],
      "execution_count": null,
      "outputs": []
    },
    {
      "cell_type": "code",
      "metadata": {
        "id": "J_hR2i3gDrKi"
      },
      "source": [
        "dispairs_03 = create_dispairs(pair_0s,pair_3s)\n",
        "dispairs_04 = create_dispairs(pair_0s,pair_4s)\n",
        "result_dispairs0 = pd.concat([dispairs_03,dispairs_04],ignore_index=True)\n",
        "result_dispairs0 = result_dispairs0.sample(frac=0.1)"
      ],
      "execution_count": null,
      "outputs": []
    },
    {
      "cell_type": "code",
      "metadata": {
        "id": "N2U1oxzwe9SG"
      },
      "source": [
        "result_dispairs0 = result_dispairs0.reset_index(drop=True)"
      ],
      "execution_count": null,
      "outputs": []
    },
    {
      "cell_type": "code",
      "metadata": {
        "colab": {
          "base_uri": "https://localhost:8080/",
          "height": 419
        },
        "id": "v03Niq7kksSe",
        "outputId": "03ac4956-2ff4-4718-c0cf-a9e95800f732"
      },
      "source": [
        "result_dispairs0"
      ],
      "execution_count": null,
      "outputs": [
        {
          "output_type": "execute_result",
          "data": {
            "text/html": [
              "<div>\n",
              "<style scoped>\n",
              "    .dataframe tbody tr th:only-of-type {\n",
              "        vertical-align: middle;\n",
              "    }\n",
              "\n",
              "    .dataframe tbody tr th {\n",
              "        vertical-align: top;\n",
              "    }\n",
              "\n",
              "    .dataframe thead th {\n",
              "        text-align: right;\n",
              "    }\n",
              "</style>\n",
              "<table border=\"1\" class=\"dataframe\">\n",
              "  <thead>\n",
              "    <tr style=\"text-align: right;\">\n",
              "      <th></th>\n",
              "      <th>l1</th>\n",
              "      <th>l2</th>\n",
              "      <th>is_duplicate</th>\n",
              "    </tr>\n",
              "  </thead>\n",
              "  <tbody>\n",
              "    <tr>\n",
              "      <th>0</th>\n",
              "      <td>I bought this container to store my sweaters. ...</td>\n",
              "      <td>I love the color selection but it's challengin...</td>\n",
              "      <td>0</td>\n",
              "    </tr>\n",
              "    <tr>\n",
              "      <th>1</th>\n",
              "      <td>Didnt come with all the tools. Also didnt come...</td>\n",
              "      <td>I got this solar ground light to put in my gar...</td>\n",
              "      <td>0</td>\n",
              "    </tr>\n",
              "    <tr>\n",
              "      <th>2</th>\n",
              "      <td>Haven't been able to use it because I received...</td>\n",
              "      <td>Very well made and durable. Does make me sweat...</td>\n",
              "      <td>0</td>\n",
              "    </tr>\n",
              "    <tr>\n",
              "      <th>3</th>\n",
              "      <td>Items arrived all broken. Horrible packaging. ...</td>\n",
              "      <td>Bought these for my husband, he says they fit ...</td>\n",
              "      <td>0</td>\n",
              "    </tr>\n",
              "    <tr>\n",
              "      <th>4</th>\n",
              "      <td>look for who ever looking for a waterproof cas...</td>\n",
              "      <td>I absolutely love this pad. I can do hip thrus...</td>\n",
              "      <td>0</td>\n",
              "    </tr>\n",
              "    <tr>\n",
              "      <th>...</th>\n",
              "      <td>...</td>\n",
              "      <td>...</td>\n",
              "      <td>...</td>\n",
              "    </tr>\n",
              "    <tr>\n",
              "      <th>1999995</th>\n",
              "      <td>Not stretchy at all, if you have any kind of c...</td>\n",
              "      <td>Durable, does its job although the white doesn...</td>\n",
              "      <td>0</td>\n",
              "    </tr>\n",
              "    <tr>\n",
              "      <th>1999996</th>\n",
              "      <td>Product locked 1 x then would NOT repeat the p...</td>\n",
              "      <td>Love this shower curtain was everything I was ...</td>\n",
              "      <td>0</td>\n",
              "    </tr>\n",
              "    <tr>\n",
              "      <th>1999997</th>\n",
              "      <td>overtime it starts to shade coming apart man i...</td>\n",
              "      <td>I really liked this book. Sweet not too over t...</td>\n",
              "      <td>0</td>\n",
              "    </tr>\n",
              "    <tr>\n",
              "      <th>1999998</th>\n",
              "      <td>This thing doesn't hold a charge for more than...</td>\n",
              "      <td>Have gone through several similar collars that...</td>\n",
              "      <td>0</td>\n",
              "    </tr>\n",
              "    <tr>\n",
              "      <th>1999999</th>\n",
              "      <td>This is not what I wanted and will not pay for...</td>\n",
              "      <td>Love it so far. Not bulky and very nice colors.</td>\n",
              "      <td>0</td>\n",
              "    </tr>\n",
              "  </tbody>\n",
              "</table>\n",
              "<p>2000000 rows × 3 columns</p>\n",
              "</div>"
            ],
            "text/plain": [
              "                                                        l1  ... is_duplicate\n",
              "0        I bought this container to store my sweaters. ...  ...            0\n",
              "1        Didnt come with all the tools. Also didnt come...  ...            0\n",
              "2        Haven't been able to use it because I received...  ...            0\n",
              "3        Items arrived all broken. Horrible packaging. ...  ...            0\n",
              "4        look for who ever looking for a waterproof cas...  ...            0\n",
              "...                                                    ...  ...          ...\n",
              "1999995  Not stretchy at all, if you have any kind of c...  ...            0\n",
              "1999996  Product locked 1 x then would NOT repeat the p...  ...            0\n",
              "1999997  overtime it starts to shade coming apart man i...  ...            0\n",
              "1999998  This thing doesn't hold a charge for more than...  ...            0\n",
              "1999999  This is not what I wanted and will not pay for...  ...            0\n",
              "\n",
              "[2000000 rows x 3 columns]"
            ]
          },
          "metadata": {
            "tags": []
          },
          "execution_count": 18
        }
      ]
    },
    {
      "cell_type": "code",
      "metadata": {
        "id": "tmdQgJIIDrzz"
      },
      "source": [
        "dispairs_13 = create_dispairs(pair_1s,pair_3s)\n",
        "dispairs_14 = create_dispairs(pair_1s,pair_4s)\n",
        "result_dispairs1 = pd.concat([dispairs_13,dispairs_14],ignore_index=True)\n",
        "result_dispairs1 = result_dispairs1.sample(frac=0.1)\n",
        "result_dispairs1 = result_dispairs1.reset_index(drop=True)"
      ],
      "execution_count": null,
      "outputs": []
    },
    {
      "cell_type": "code",
      "metadata": {
        "id": "JVSd-danDsG4"
      },
      "source": [
        "dispairs_31 = create_dispairs(pair_3s,pair_1s)\n",
        "dispairs_30 = create_dispairs(pair_0s,pair_3s)\n",
        "result_dispairs3 = pd.concat([dispairs_31,dispairs_30],ignore_index=True)\n",
        "result_dispairs3 = result_dispairs3.sample(frac=0.1)\n",
        "result_dispairs3 = result_dispairs3.reset_index(drop=True)"
      ],
      "execution_count": null,
      "outputs": []
    },
    {
      "cell_type": "code",
      "metadata": {
        "id": "pRNgDfwiDwrP"
      },
      "source": [
        "dispairs_41 = create_dispairs(pair_4s,pair_1s)\n",
        "dispairs_40 = create_dispairs(pair_0s,pair_4s)\n",
        "result_dispairs4 = pd.concat([dispairs_41,dispairs_40],ignore_index=True)\n",
        "result_dispairs4 = result_dispairs4.sample(frac=0.1)\n",
        "result_dispairs4 = result_dispairs4.reset_index(drop=True)"
      ],
      "execution_count": null,
      "outputs": []
    },
    {
      "cell_type": "code",
      "metadata": {
        "colab": {
          "base_uri": "https://localhost:8080/",
          "height": 419
        },
        "id": "To_aDwSqeqTf",
        "outputId": "2096d086-1a14-4cb2-abc9-63df618b5b32"
      },
      "source": [
        "result_dispairs4"
      ],
      "execution_count": null,
      "outputs": [
        {
          "output_type": "execute_result",
          "data": {
            "text/html": [
              "<div>\n",
              "<style scoped>\n",
              "    .dataframe tbody tr th:only-of-type {\n",
              "        vertical-align: middle;\n",
              "    }\n",
              "\n",
              "    .dataframe tbody tr th {\n",
              "        vertical-align: top;\n",
              "    }\n",
              "\n",
              "    .dataframe thead th {\n",
              "        text-align: right;\n",
              "    }\n",
              "</style>\n",
              "<table border=\"1\" class=\"dataframe\">\n",
              "  <thead>\n",
              "    <tr style=\"text-align: right;\">\n",
              "      <th></th>\n",
              "      <th>l1</th>\n",
              "      <th>l2</th>\n",
              "      <th>is_duplicate</th>\n",
              "    </tr>\n",
              "  </thead>\n",
              "  <tbody>\n",
              "    <tr>\n",
              "      <th>0</th>\n",
              "      <td>doesn't work very good... it blinks alot</td>\n",
              "      <td>I have another, similar holder, but I find tha...</td>\n",
              "      <td>0</td>\n",
              "    </tr>\n",
              "    <tr>\n",
              "      <th>1</th>\n",
              "      <td>AS described arrived in excellent condition</td>\n",
              "      <td>One of these did not seem to have a Carmel lay...</td>\n",
              "      <td>0</td>\n",
              "    </tr>\n",
              "    <tr>\n",
              "      <th>2</th>\n",
              "      <td>This item, as it turns out, does NOT kill the ...</td>\n",
              "      <td>Thanks and great item</td>\n",
              "      <td>0</td>\n",
              "    </tr>\n",
              "    <tr>\n",
              "      <th>3</th>\n",
              "      <td>Advertised as two bottles but only received on...</td>\n",
              "      <td>I bought these as a gift for a friend's birthd...</td>\n",
              "      <td>0</td>\n",
              "    </tr>\n",
              "    <tr>\n",
              "      <th>4</th>\n",
              "      <td>Prior to purchasing this product I read some r...</td>\n",
              "      <td>Works pretty well. All ports work great. Don't...</td>\n",
              "      <td>0</td>\n",
              "    </tr>\n",
              "    <tr>\n",
              "      <th>...</th>\n",
              "      <td>...</td>\n",
              "      <td>...</td>\n",
              "      <td>...</td>\n",
              "    </tr>\n",
              "    <tr>\n",
              "      <th>1999995</th>\n",
              "      <td>I never got these :(</td>\n",
              "      <td>Very quick delivery, excellent item, They are ...</td>\n",
              "      <td>0</td>\n",
              "    </tr>\n",
              "    <tr>\n",
              "      <th>1999996</th>\n",
              "      <td>Exactly what I need for keeping my \"veggie\" gr...</td>\n",
              "      <td>One of the slots was made too big so the capsu...</td>\n",
              "      <td>0</td>\n",
              "    </tr>\n",
              "    <tr>\n",
              "      <th>1999997</th>\n",
              "      <td>Easy to use and install Works well in diffusin...</td>\n",
              "      <td>These SMELL. It's a very odd smell. I've no id...</td>\n",
              "      <td>0</td>\n",
              "    </tr>\n",
              "    <tr>\n",
              "      <th>1999998</th>\n",
              "      <td>I just received this item today and, to my sur...</td>\n",
              "      <td>Excellent and up to date. We had several trave...</td>\n",
              "      <td>0</td>\n",
              "    </tr>\n",
              "    <tr>\n",
              "      <th>1999999</th>\n",
              "      <td>Clip broke when putting on pants for the first...</td>\n",
              "      <td>The cord works well with my new MacBook Pro.</td>\n",
              "      <td>0</td>\n",
              "    </tr>\n",
              "  </tbody>\n",
              "</table>\n",
              "<p>2000000 rows × 3 columns</p>\n",
              "</div>"
            ],
            "text/plain": [
              "                                                        l1  ... is_duplicate\n",
              "0                 doesn't work very good... it blinks alot  ...            0\n",
              "1              AS described arrived in excellent condition  ...            0\n",
              "2        This item, as it turns out, does NOT kill the ...  ...            0\n",
              "3        Advertised as two bottles but only received on...  ...            0\n",
              "4        Prior to purchasing this product I read some r...  ...            0\n",
              "...                                                    ...  ...          ...\n",
              "1999995                               I never got these :(  ...            0\n",
              "1999996  Exactly what I need for keeping my \"veggie\" gr...  ...            0\n",
              "1999997  Easy to use and install Works well in diffusin...  ...            0\n",
              "1999998  I just received this item today and, to my sur...  ...            0\n",
              "1999999  Clip broke when putting on pants for the first...  ...            0\n",
              "\n",
              "[2000000 rows x 3 columns]"
            ]
          },
          "metadata": {
            "tags": []
          },
          "execution_count": 23
        }
      ]
    },
    {
      "cell_type": "code",
      "metadata": {
        "colab": {
          "base_uri": "https://localhost:8080/"
        },
        "id": "4ilKmGLbcKlf",
        "outputId": "7f52d712-9318-4bf1-872d-8a9571077010"
      },
      "source": [
        "result_dispairs4.reset_index(drop=True)\n",
        "print(result_dispairs4['l1'][10])\n",
        "print(result_dispairs4['l2'][10])"
      ],
      "execution_count": null,
      "outputs": [
        {
          "output_type": "stream",
          "text": [
            "It’s heavy, and sturdy. Will get the job done. The blade is very sharp.\n",
            "I don't like it, my boyfriend use it not me\n"
          ],
          "name": "stdout"
        }
      ]
    },
    {
      "cell_type": "code",
      "metadata": {
        "id": "M3OXd_Vf8qW5"
      },
      "source": [
        "result_dispairs = pd.concat([result_dispairs1,result_dispairs0,result_dispairs3,result_dispairs4],ignore_index=True)\n",
        "#result_dispairs = result_dispairs.sample(frac=0.1)\n",
        "result_dispairs = result_dispairs.reset_index(drop=True)\n"
      ],
      "execution_count": null,
      "outputs": []
    },
    {
      "cell_type": "code",
      "metadata": {
        "colab": {
          "base_uri": "https://localhost:8080/"
        },
        "id": "jWtuGNQWbANk",
        "outputId": "db5f0d9a-f998-4107-88b1-5452154f4900"
      },
      "source": [
        "print(result_dispairs['l1'][77888])\n",
        "print(result_dispairs['l2'][77888])"
      ],
      "execution_count": null,
      "outputs": [
        {
          "output_type": "stream",
          "text": [
            "I love dog movies and I love even more dog-police-comedy movies. But this one was a little too slap-stick for me. The comedy was more for a young person, probably pre-teen. I didn't finish the movie.\n",
            "Love that it keeps pill cases secure. No opening and spilling in my purse. I take many pills several times a day and these are easy to fill and to keep medicine organized.\n"
          ],
          "name": "stdout"
        }
      ]
    },
    {
      "cell_type": "code",
      "metadata": {
        "id": "zicKiOMhBqa0"
      },
      "source": [
        "result_dispairs =result_dispairs.rename(columns={'l1':'sent1','l2':'sent2'})"
      ],
      "execution_count": null,
      "outputs": []
    },
    {
      "cell_type": "code",
      "metadata": {
        "id": "T1zYLSECBb50"
      },
      "source": [
        "result_final_data = pd.concat([result_pairs,result_dispairs],ignore_index=True)\n",
        "#hello =result_final_data[result_final_data[\"is_duplicate\"] == 0].count()"
      ],
      "execution_count": null,
      "outputs": []
    },
    {
      "cell_type": "code",
      "metadata": {
        "colab": {
          "base_uri": "https://localhost:8080/"
        },
        "id": "aH-5TQnEn9In",
        "outputId": "06d6ef03-8fc9-4ae8-82c9-1bb7837d40e7"
      },
      "source": [
        "result_final_data.shape"
      ],
      "execution_count": null,
      "outputs": [
        {
          "output_type": "execute_result",
          "data": {
            "text/plain": [
              "(8020000, 3)"
            ]
          },
          "metadata": {
            "tags": []
          },
          "execution_count": 29
        }
      ]
    },
    {
      "cell_type": "code",
      "metadata": {
        "colab": {
          "base_uri": "https://localhost:8080/",
          "height": 419
        },
        "id": "oTrl-ch9ms2z",
        "outputId": "2b465b30-a498-4801-9358-091e4eaed497"
      },
      "source": [
        "#result_final_data1 = result_final_data.sample(frac=0.3)\n",
        "result_final_data1 = result_final_data.reset_index(drop=True)\n",
        "result_final_data1"
      ],
      "execution_count": null,
      "outputs": [
        {
          "output_type": "execute_result",
          "data": {
            "text/html": [
              "<div>\n",
              "<style scoped>\n",
              "    .dataframe tbody tr th:only-of-type {\n",
              "        vertical-align: middle;\n",
              "    }\n",
              "\n",
              "    .dataframe tbody tr th {\n",
              "        vertical-align: top;\n",
              "    }\n",
              "\n",
              "    .dataframe thead th {\n",
              "        text-align: right;\n",
              "    }\n",
              "</style>\n",
              "<table border=\"1\" class=\"dataframe\">\n",
              "  <thead>\n",
              "    <tr style=\"text-align: right;\">\n",
              "      <th></th>\n",
              "      <th>sent1</th>\n",
              "      <th>sent2</th>\n",
              "      <th>is_duplicate</th>\n",
              "    </tr>\n",
              "  </thead>\n",
              "  <tbody>\n",
              "    <tr>\n",
              "      <th>0</th>\n",
              "      <td>Doesn't really turn well at all</td>\n",
              "      <td>Everything about this light shows good design....</td>\n",
              "      <td>1</td>\n",
              "    </tr>\n",
              "    <tr>\n",
              "      <th>1</th>\n",
              "      <td>These were cheep, not well made, hard to work ...</td>\n",
              "      <td>This design is exactly what I want. I read the...</td>\n",
              "      <td>1</td>\n",
              "    </tr>\n",
              "    <tr>\n",
              "      <th>2</th>\n",
              "      <td>I wish the grommet pieces were better sorted, ...</td>\n",
              "      <td>...this was a really good art house film. I li...</td>\n",
              "      <td>1</td>\n",
              "    </tr>\n",
              "    <tr>\n",
              "      <th>3</th>\n",
              "      <td>Came really wrinkled but it’s cute</td>\n",
              "      <td>One of my favorite/smooth flavors of Nespresso...</td>\n",
              "      <td>1</td>\n",
              "    </tr>\n",
              "    <tr>\n",
              "      <th>4</th>\n",
              "      <td>I bought the two-pack of these seat belt retai...</td>\n",
              "      <td>Good quality and good design.</td>\n",
              "      <td>1</td>\n",
              "    </tr>\n",
              "    <tr>\n",
              "      <th>...</th>\n",
              "      <td>...</td>\n",
              "      <td>...</td>\n",
              "      <td>...</td>\n",
              "    </tr>\n",
              "    <tr>\n",
              "      <th>8019995</th>\n",
              "      <td>I never got these :(</td>\n",
              "      <td>Very quick delivery, excellent item, They are ...</td>\n",
              "      <td>0</td>\n",
              "    </tr>\n",
              "    <tr>\n",
              "      <th>8019996</th>\n",
              "      <td>Exactly what I need for keeping my \"veggie\" gr...</td>\n",
              "      <td>One of the slots was made too big so the capsu...</td>\n",
              "      <td>0</td>\n",
              "    </tr>\n",
              "    <tr>\n",
              "      <th>8019997</th>\n",
              "      <td>Easy to use and install Works well in diffusin...</td>\n",
              "      <td>These SMELL. It's a very odd smell. I've no id...</td>\n",
              "      <td>0</td>\n",
              "    </tr>\n",
              "    <tr>\n",
              "      <th>8019998</th>\n",
              "      <td>I just received this item today and, to my sur...</td>\n",
              "      <td>Excellent and up to date. We had several trave...</td>\n",
              "      <td>0</td>\n",
              "    </tr>\n",
              "    <tr>\n",
              "      <th>8019999</th>\n",
              "      <td>Clip broke when putting on pants for the first...</td>\n",
              "      <td>The cord works well with my new MacBook Pro.</td>\n",
              "      <td>0</td>\n",
              "    </tr>\n",
              "  </tbody>\n",
              "</table>\n",
              "<p>8020000 rows × 3 columns</p>\n",
              "</div>"
            ],
            "text/plain": [
              "                                                     sent1  ... is_duplicate\n",
              "0                          Doesn't really turn well at all  ...            1\n",
              "1        These were cheep, not well made, hard to work ...  ...            1\n",
              "2        I wish the grommet pieces were better sorted, ...  ...            1\n",
              "3                       Came really wrinkled but it’s cute  ...            1\n",
              "4        I bought the two-pack of these seat belt retai...  ...            1\n",
              "...                                                    ...  ...          ...\n",
              "8019995                               I never got these :(  ...            0\n",
              "8019996  Exactly what I need for keeping my \"veggie\" gr...  ...            0\n",
              "8019997  Easy to use and install Works well in diffusin...  ...            0\n",
              "8019998  I just received this item today and, to my sur...  ...            0\n",
              "8019999  Clip broke when putting on pants for the first...  ...            0\n",
              "\n",
              "[8020000 rows x 3 columns]"
            ]
          },
          "metadata": {
            "tags": []
          },
          "execution_count": 35
        }
      ]
    },
    {
      "cell_type": "code",
      "metadata": {
        "colab": {
          "base_uri": "https://localhost:8080/"
        },
        "id": "Zxo1cxMka58m",
        "outputId": "29241b47-7feb-47f3-c6c0-098c76b08714"
      },
      "source": [
        "print(result_final_data['sent1'][10000])\n",
        "print(result_final_data['sent2'][10000])\n",
        "print(result_final_data['is_duplicate'][10000])"
      ],
      "execution_count": null,
      "outputs": [
        {
          "output_type": "stream",
          "text": [
            "This product caused an allergic reaction which brought alot of little itchy bumps on my arms\n",
            "Great read. Love her books.\n",
            "0\n"
          ],
          "name": "stdout"
        }
      ]
    },
    {
      "cell_type": "code",
      "metadata": {
        "id": "u5hP2Hc6Iz5i"
      },
      "source": [
        "# LO GUARDO EN UN DATAFRAME\n",
        "result_final_data1.to_csv(r\"drive/MyDrive/TFG/review_pairs_new.csv\", index = False)"
      ],
      "execution_count": null,
      "outputs": []
    },
    {
      "cell_type": "code",
      "metadata": {
        "colab": {
          "base_uri": "https://localhost:8080/"
        },
        "id": "wAeZmFfLCvZY",
        "outputId": "1b6cde4e-14d3-487f-ba94-16774311671d"
      },
      "source": [
        "majority =result_final_data1[result_final_data1[\"is_duplicate\"] == 0]\n",
        "len(majority)"
      ],
      "execution_count": null,
      "outputs": [
        {
          "output_type": "execute_result",
          "data": {
            "text/plain": [
              "7999999"
            ]
          },
          "metadata": {
            "tags": []
          },
          "execution_count": 36
        }
      ]
    },
    {
      "cell_type": "code",
      "metadata": {
        "colab": {
          "base_uri": "https://localhost:8080/"
        },
        "id": "hjNe9XVAC2XD",
        "outputId": "0ab37c7f-edce-42bb-ebdf-bf05914e409b"
      },
      "source": [
        "menority =result_final_data1[result_final_data1[\"is_duplicate\"] == 1]\n",
        "len(menority)"
      ],
      "execution_count": null,
      "outputs": [
        {
          "output_type": "execute_result",
          "data": {
            "text/plain": [
              "20001"
            ]
          },
          "metadata": {
            "tags": []
          },
          "execution_count": 37
        }
      ]
    },
    {
      "cell_type": "code",
      "metadata": {
        "id": "A36g514UsEPc"
      },
      "source": [
        "from sklearn.utils import resample\n",
        "\n",
        "df_maj_resamp = resample(majority,replace=False,n_samples=20000,random_state=20000)"
      ],
      "execution_count": null,
      "outputs": []
    },
    {
      "cell_type": "code",
      "metadata": {
        "id": "FtDzvoMrKat2"
      },
      "source": [
        "final_dataframe= pd.concat([menority,df_maj_resamp])"
      ],
      "execution_count": null,
      "outputs": []
    },
    {
      "cell_type": "code",
      "metadata": {
        "id": "Dw1ON4YdKqLr"
      },
      "source": [
        "final_dataframe = final_dataframe.sample(frac=1).reset_index(drop=True)"
      ],
      "execution_count": null,
      "outputs": []
    },
    {
      "cell_type": "code",
      "metadata": {
        "colab": {
          "base_uri": "https://localhost:8080/"
        },
        "id": "qeah-1-iK7_W",
        "outputId": "9d05e78a-4a85-4f4c-e7d0-0de153fe3d40"
      },
      "source": [
        "print(final_dataframe.loc[15]['sent1'])\n",
        "print(final_dataframe.loc[15]['sent2'])\n",
        "print(final_dataframe.loc[15]['is_duplicate'])"
      ],
      "execution_count": null,
      "outputs": [
        {
          "output_type": "stream",
          "text": [
            "Very high quality for the price\n",
            "They are all a different size, it’s no good.\n",
            "0\n"
          ],
          "name": "stdout"
        }
      ]
    },
    {
      "cell_type": "code",
      "metadata": {
        "colab": {
          "base_uri": "https://localhost:8080/"
        },
        "id": "vbDqgxv7udsW",
        "outputId": "a444612b-fd51-44a4-be12-b24528653c49"
      },
      "source": [
        "final_dataframe.shape"
      ],
      "execution_count": null,
      "outputs": [
        {
          "output_type": "execute_result",
          "data": {
            "text/plain": [
              "(40001, 3)"
            ]
          },
          "metadata": {
            "tags": []
          },
          "execution_count": 45
        }
      ]
    },
    {
      "cell_type": "code",
      "metadata": {
        "id": "Jq_VxiDyMdPf"
      },
      "source": [
        "final_dataframe.to_csv(r\"drive/MyDrive/TFG/review_pairs_downsampled.csv\", index = False)"
      ],
      "execution_count": null,
      "outputs": []
    },
    {
      "cell_type": "markdown",
      "metadata": {
        "id": "r8w9KOspwE30"
      },
      "source": [
        "# ZERO-SHOT Classification\n",
        "- Directamente importamos el archivo con la base de datos por pares. "
      ]
    },
    {
      "cell_type": "code",
      "metadata": {
        "colab": {
          "base_uri": "https://localhost:8080/",
          "height": 204
        },
        "id": "67-zlRo00D8t",
        "outputId": "0a45c805-485e-42d4-c664-0e32b1d55e16"
      },
      "source": [
        "## Import data pairs :\n",
        "\n",
        "final_dataframe = pd.read_csv('drive/MyDrive/TFG/review_pairs_downsampled.csv')\n",
        "final_dataframe.head()"
      ],
      "execution_count": null,
      "outputs": [
        {
          "output_type": "execute_result",
          "data": {
            "text/html": [
              "<div>\n",
              "<style scoped>\n",
              "    .dataframe tbody tr th:only-of-type {\n",
              "        vertical-align: middle;\n",
              "    }\n",
              "\n",
              "    .dataframe tbody tr th {\n",
              "        vertical-align: top;\n",
              "    }\n",
              "\n",
              "    .dataframe thead th {\n",
              "        text-align: right;\n",
              "    }\n",
              "</style>\n",
              "<table border=\"1\" class=\"dataframe\">\n",
              "  <thead>\n",
              "    <tr style=\"text-align: right;\">\n",
              "      <th></th>\n",
              "      <th>sent1</th>\n",
              "      <th>sent2</th>\n",
              "      <th>is_duplicate</th>\n",
              "    </tr>\n",
              "  </thead>\n",
              "  <tbody>\n",
              "    <tr>\n",
              "      <th>0</th>\n",
              "      <td>I purchased another scent from Anthropology an...</td>\n",
              "      <td>Mechanically is is a good device, Good fit. bu...</td>\n",
              "      <td>1</td>\n",
              "    </tr>\n",
              "    <tr>\n",
              "      <th>1</th>\n",
              "      <td>Gotta have it if you want to wire your lights....</td>\n",
              "      <td>works great for my computer. its the 13 inch m...</td>\n",
              "      <td>1</td>\n",
              "    </tr>\n",
              "    <tr>\n",
              "      <th>2</th>\n",
              "      <td>It's well made and I enjoy it, but really wish...</td>\n",
              "      <td>Capsules were damage, I tried to return for a ...</td>\n",
              "      <td>0</td>\n",
              "    </tr>\n",
              "    <tr>\n",
              "      <th>3</th>\n",
              "      <td>The top barely covered anything...not the same...</td>\n",
              "      <td>Gaiters really are helpful in keeping you warm...</td>\n",
              "      <td>0</td>\n",
              "    </tr>\n",
              "    <tr>\n",
              "      <th>4</th>\n",
              "      <td>Not happy with the purchase at all. The cables...</td>\n",
              "      <td>Great price and they are more comfortable for ...</td>\n",
              "      <td>0</td>\n",
              "    </tr>\n",
              "  </tbody>\n",
              "</table>\n",
              "</div>"
            ],
            "text/plain": [
              "                                               sent1  ... is_duplicate\n",
              "0  I purchased another scent from Anthropology an...  ...            1\n",
              "1  Gotta have it if you want to wire your lights....  ...            1\n",
              "2  It's well made and I enjoy it, but really wish...  ...            0\n",
              "3  The top barely covered anything...not the same...  ...            0\n",
              "4  Not happy with the purchase at all. The cables...  ...            0\n",
              "\n",
              "[5 rows x 3 columns]"
            ]
          },
          "metadata": {
            "tags": []
          },
          "execution_count": 5
        }
      ]
    },
    {
      "cell_type": "code",
      "metadata": {
        "colab": {
          "base_uri": "https://localhost:8080/"
        },
        "id": "Dsfhyah2w6UE",
        "outputId": "aebcf709-40df-4a87-e595-6c2764fd86c6"
      },
      "source": [
        "from sklearn.model_selection import train_test_split\n",
        "\n",
        "\n",
        "X_temp, X_test, y_temp, y_test = train_test_split(final_dataframe[['sent1', 'sent2']], final_dataframe['is_duplicate'], test_size=0.2, random_state=42)\n",
        "\n",
        "X_train, X_val, y_train, y_val = train_test_split(X_temp, y_temp, test_size=0.2, random_state=42)\n",
        "\n",
        "print(X_train.shape)\n",
        "print(y_train.shape)\n",
        "print(X_val.shape)\n",
        "print(y_val.shape)\n",
        "print(X_test.shape)\n",
        "print(y_test.shape)"
      ],
      "execution_count": null,
      "outputs": [
        {
          "output_type": "stream",
          "text": [
            "(25600, 2)\n",
            "(25600,)\n",
            "(6400, 2)\n",
            "(6400,)\n",
            "(8001, 2)\n",
            "(8001,)\n"
          ],
          "name": "stdout"
        }
      ]
    },
    {
      "cell_type": "code",
      "metadata": {
        "id": "q4sA_Vsuer3V"
      },
      "source": [
        "# Concatenación sentence 1 y sentence 2 \n",
        "%%capture\n",
        "#X_train['text'] = X_train[['sent1','sent2']].apply(lambda x:str(x[0])+\" \"+str(x[1]), axis=1)\n",
        "X_train[\"text\"] = X_train[\"sent1\"] + \" \" + X_train[\"sent2\"]\n"
      ],
      "execution_count": null,
      "outputs": []
    },
    {
      "cell_type": "code",
      "metadata": {
        "colab": {
          "base_uri": "https://localhost:8080/",
          "height": 204
        },
        "id": "9nbam5wR1Q1F",
        "outputId": "18ccdc88-d6d9-4141-a2ed-3ad22cbd5441"
      },
      "source": [
        "X_train.head()"
      ],
      "execution_count": null,
      "outputs": [
        {
          "output_type": "execute_result",
          "data": {
            "text/html": [
              "<div>\n",
              "<style scoped>\n",
              "    .dataframe tbody tr th:only-of-type {\n",
              "        vertical-align: middle;\n",
              "    }\n",
              "\n",
              "    .dataframe tbody tr th {\n",
              "        vertical-align: top;\n",
              "    }\n",
              "\n",
              "    .dataframe thead th {\n",
              "        text-align: right;\n",
              "    }\n",
              "</style>\n",
              "<table border=\"1\" class=\"dataframe\">\n",
              "  <thead>\n",
              "    <tr style=\"text-align: right;\">\n",
              "      <th></th>\n",
              "      <th>sent1</th>\n",
              "      <th>sent2</th>\n",
              "      <th>text</th>\n",
              "    </tr>\n",
              "  </thead>\n",
              "  <tbody>\n",
              "    <tr>\n",
              "      <th>24340</th>\n",
              "      <td>Love this dress, I probably should order a sma...</td>\n",
              "      <td>I used them for sample packets for food produc...</td>\n",
              "      <td>Love this dress, I probably should order a sma...</td>\n",
              "    </tr>\n",
              "    <tr>\n",
              "      <th>31272</th>\n",
              "      <td>Just as advertised.. Great quality shears, not...</td>\n",
              "      <td>I'm very happy with this unit. I've read a lot...</td>\n",
              "      <td>Just as advertised.. Great quality shears, not...</td>\n",
              "    </tr>\n",
              "    <tr>\n",
              "      <th>18443</th>\n",
              "      <td>Would have liked better if it had a protector ...</td>\n",
              "      <td>I like the dress was surprised that the front ...</td>\n",
              "      <td>Would have liked better if it had a protector ...</td>\n",
              "    </tr>\n",
              "    <tr>\n",
              "      <th>34259</th>\n",
              "      <td>This collar is really heavy duty. I actually b...</td>\n",
              "      <td>Bought two initially. One didn't work. Company...</td>\n",
              "      <td>This collar is really heavy duty. I actually b...</td>\n",
              "    </tr>\n",
              "    <tr>\n",
              "      <th>34694</th>\n",
              "      <td>They taste good and I like that they're indivi...</td>\n",
              "      <td>The movies are what they say the problem I am ...</td>\n",
              "      <td>They taste good and I like that they're indivi...</td>\n",
              "    </tr>\n",
              "  </tbody>\n",
              "</table>\n",
              "</div>"
            ],
            "text/plain": [
              "                                                   sent1  ...                                               text\n",
              "24340  Love this dress, I probably should order a sma...  ...  Love this dress, I probably should order a sma...\n",
              "31272  Just as advertised.. Great quality shears, not...  ...  Just as advertised.. Great quality shears, not...\n",
              "18443  Would have liked better if it had a protector ...  ...  Would have liked better if it had a protector ...\n",
              "34259  This collar is really heavy duty. I actually b...  ...  This collar is really heavy duty. I actually b...\n",
              "34694  They taste good and I like that they're indivi...  ...  They taste good and I like that they're indivi...\n",
              "\n",
              "[5 rows x 3 columns]"
            ]
          },
          "metadata": {
            "tags": []
          },
          "execution_count": 8
        }
      ]
    },
    {
      "cell_type": "code",
      "metadata": {
        "id": "Z0kNuviZe2O9"
      },
      "source": [
        "%%capture\n",
        "import tensorflow as tf\n",
        "import keras\n",
        "import keras.backend as K\n",
        "from keras.preprocessing.text import Tokenizer\n",
        "from keras.preprocessing.sequence import pad_sequences\n",
        "from keras.layers import Input, Concatenate, Conv2D, Flatten, Dense, Embedding, LSTM\n",
        "from keras.models import Model\n",
        "\n",
        "## Creamos tokenizer a partir de el vocabulario de la columna text (ambas sentences)\n",
        "t = Tokenizer()\n",
        "t.fit_on_texts(X_train['text'].values)\n",
        "vocab_size = len(t.word_index)+1\n",
        "\n",
        "## Convertimos a string\n",
        "X_train['sent1'] = X_train['sent1'].astype(str)\n",
        "X_train['sent2'] = X_train['sent2'].astype(str)\n",
        "\n",
        "X_val['sent1'] = X_val['sent1'].astype(str)\n",
        "X_val['sent2'] = X_val['sent2'].astype(str)\n",
        "\n",
        "X_test['sent1'] = X_test['sent1'].astype(str)\n",
        "X_test['sent2'] = X_test['sent2'].astype(str)\n",
        "\n",
        "## Aplicamos text_to_sequences para pasar a secuencia\n",
        "\n",
        "train_sent1_seq = t.texts_to_sequences(X_train['sent1'].values)\n",
        "train_sent2_seq = t.texts_to_sequences(X_train['sent2'].values)\n",
        "val_sent1_seq = t.texts_to_sequences(X_val['sent1'].values)\n",
        "val_sent2_seq = t.texts_to_sequences(X_val['sent2'].values)\n",
        "test_sent1_seq = t.texts_to_sequences(X_test['sent1'].values)\n",
        "test_sent2_seq = t.texts_to_sequences(X_test['sent2'].values)\n"
      ],
      "execution_count": null,
      "outputs": []
    },
    {
      "cell_type": "code",
      "metadata": {
        "colab": {
          "base_uri": "https://localhost:8080/",
          "height": 336
        },
        "id": "TDF9dpc9hMHl",
        "outputId": "fbec329d-fcbe-4c87-87d8-859e6480665f"
      },
      "source": [
        "len_vec = [len(sent_vec) for sent_vec in train_sent1_seq]\n",
        "np.max(len_vec)\n",
        "\n",
        "sns.distplot(len_vec)"
      ],
      "execution_count": null,
      "outputs": [
        {
          "output_type": "stream",
          "text": [
            "/usr/local/lib/python3.7/dist-packages/seaborn/distributions.py:2557: FutureWarning: `distplot` is a deprecated function and will be removed in a future version. Please adapt your code to use either `displot` (a figure-level function with similar flexibility) or `histplot` (an axes-level function for histograms).\n",
            "  warnings.warn(msg, FutureWarning)\n"
          ],
          "name": "stderr"
        },
        {
          "output_type": "execute_result",
          "data": {
            "text/plain": [
              "<matplotlib.axes._subplots.AxesSubplot at 0x7f99fb768bd0>"
            ]
          },
          "metadata": {
            "tags": []
          },
          "execution_count": 10
        },
        {
          "output_type": "display_data",
          "data": {
            "image/png": "[encoded data removed]",
            "text/plain": [
              "<Figure size 432x288 with 1 Axes>"
            ]
          },
          "metadata": {
            "tags": []
          }
        }
      ]
    },
    {
      "cell_type": "code",
      "metadata": {
        "id": "9J4bcYH7hfa6"
      },
      "source": [
        "# Definimos maxima longitud de secuencia\n",
        "max_len = 260"
      ],
      "execution_count": null,
      "outputs": []
    },
    {
      "cell_type": "code",
      "metadata": {
        "id": "YNMbC-zkhyz9"
      },
      "source": [
        "# Realizamos padding para igualar la longitud de las secuencias\n",
        "train_sent1_seq = pad_sequences(train_sent1_seq, maxlen=max_len, padding='post')\n",
        "train_sent2_seq = pad_sequences(train_sent2_seq, maxlen=max_len, padding='post')\n",
        "val_sent1_seq = pad_sequences(val_sent1_seq, maxlen=max_len, padding='post')\n",
        "val_sent2_seq = pad_sequences(val_sent2_seq, maxlen=max_len, padding='post')\n",
        "test_sent1_seq = pad_sequences(test_sent1_seq, maxlen=max_len, padding='post')\n",
        "test_sent2_seq = pad_sequences(test_sent2_seq, maxlen=max_len, padding='post')\n"
      ],
      "execution_count": null,
      "outputs": []
    },
    {
      "cell_type": "markdown",
      "metadata": {
        "id": "qNmaUJ8Bw6T-"
      },
      "source": [
        "## Load Muse Embeddings"
      ]
    },
    {
      "cell_type": "code",
      "metadata": {
        "id": "iLEhYY6Yw6T_"
      },
      "source": [
        "def read_muse_vecs(muse_file):\n",
        "        with open(muse_file, 'r',  errors='ignore', encoding=\"utf-8\") as f:\n",
        "            words = set()\n",
        "            word_to_vec_map = {}\n",
        "            for line in f:\n",
        "                line = line.strip().split()\n",
        "                curr_word_list = line[0: len(line) - 300]\n",
        "                curr_word = \"\"\n",
        "                for t in curr_word_list:\n",
        "                    curr_word = curr_word + str(t) + \" \"\n",
        "                curr_word = curr_word.strip()\n",
        "                words.add(curr_word)\n",
        "                try:\n",
        "                    word_to_vec_map[curr_word] = np.array(line[-300:], dtype=np.float64)\n",
        "                except:\n",
        "                    print(line, len(line))\n",
        "\n",
        "            i = 1\n",
        "            words_to_index = {}\n",
        "            index_to_words = {}\n",
        "\n",
        "            words.add(\"nokey\")\n",
        "            word_to_vec_map[\"nokey\"] = np.zeros((300,), dtype=np.float64)\n",
        "\n",
        "            for w in sorted(words):\n",
        "                words_to_index[w] = i\n",
        "                index_to_words[i] = w\n",
        "                i = i + 1\n",
        "        return words_to_index, index_to_words, word_to_vec_map"
      ],
      "execution_count": 1,
      "outputs": []
    },
    {
      "cell_type": "code",
      "metadata": {
        "colab": {
          "base_uri": "https://localhost:8080/"
        },
        "id": "7De9OL7RxBbA",
        "outputId": "a094db7f-a323-4887-f89d-fa9616a70f46"
      },
      "source": [
        "from google.colab import drive\n",
        "drive.mount('/content/drive')"
      ],
      "execution_count": 2,
      "outputs": [
        {
          "output_type": "stream",
          "text": [
            "Drive already mounted at /content/drive; to attempt to forcibly remount, call drive.mount(\"/content/drive\", force_remount=True).\n"
          ],
          "name": "stdout"
        }
      ]
    },
    {
      "cell_type": "code",
      "metadata": {
        "id": "ZFejxeB7jfd0"
      },
      "source": [
        "%%capture\n",
        "Pathjup = \"muse/data/wiki.en.vec\"\n",
        "Pathdrive = \"/content/drive/MyDrive/muse/data/wiki.en.vec\"\n",
        "\n",
        "words_to_index, index_to_words, word_to_vec_map = read_muse_vecs(Pathdrive)"
      ],
      "execution_count": 8,
      "outputs": []
    },
    {
      "cell_type": "code",
      "metadata": {
        "id": "L1Sy1s2Hw6UA"
      },
      "source": [
        "## Diccionario con word-embeddings(300)\n",
        "#word_to_vec_map.keys()"
      ],
      "execution_count": 5,
      "outputs": []
    },
    {
      "cell_type": "code",
      "metadata": {
        "colab": {
          "base_uri": "https://localhost:8080/"
        },
        "id": "70KybO03w6UB",
        "outputId": "d76a0c45-f398-487d-9029-5e678324094c"
      },
      "source": [
        "len(words_to_index) # Tamaño del vocabulario ingles"
      ],
      "execution_count": 9,
      "outputs": [
        {
          "output_type": "execute_result",
          "data": {
            "text/plain": [
              "199989"
            ]
          },
          "metadata": {
            "tags": []
          },
          "execution_count": 9
        }
      ]
    },
    {
      "cell_type": "code",
      "metadata": {
        "colab": {
          "base_uri": "https://localhost:8080/"
        },
        "id": "pqEo5qaKw6UB",
        "outputId": "8fa8b405-5a47-428b-b9ae-dfc57612ad0d"
      },
      "source": [
        "len(word_to_vec_map[\"no\"]) # Embeddings palabra \"right\""
      ],
      "execution_count": 10,
      "outputs": [
        {
          "output_type": "execute_result",
          "data": {
            "text/plain": [
              "300"
            ]
          },
          "metadata": {
            "tags": []
          },
          "execution_count": 10
        }
      ]
    },
    {
      "cell_type": "markdown",
      "metadata": {
        "id": "jqz-RMkQyc7U"
      },
      "source": [
        "# Modelo red Siamesa"
      ]
    },
    {
      "cell_type": "markdown",
      "metadata": {
        "id": "pQZM0g33l2Ki"
      },
      "source": [
        "## Binary-cross entropy loss "
      ]
    },
    {
      "cell_type": "code",
      "metadata": {
        "id": "VLPrUSNYyfL-"
      },
      "source": [
        "from keras.regularizers import l2\n",
        "from keras.models import Sequential\n",
        "from keras.optimizers import Adam\n",
        "from keras.layers import Conv2D, ZeroPadding2D, Activation, Input, concatenate\n",
        "from keras.models import Model\n",
        "\n",
        "from keras.layers.normalization import BatchNormalization\n",
        "from keras.layers.pooling import MaxPooling2D\n",
        "from keras.layers.merge import Concatenate\n",
        "from keras.layers.core import Lambda, Flatten, Dense\n",
        "from keras.initializers import glorot_uniform\n",
        "from keras.layers import Input, Dense, Flatten, GlobalMaxPool2D, GlobalAvgPool2D, Concatenate, Multiply, Dropout, Subtract, Add, Conv2D,Bidirectional"
      ],
      "execution_count": null,
      "outputs": []
    },
    {
      "cell_type": "code",
      "metadata": {
        "id": "qCNfFav9zpeu"
      },
      "source": [
        "from keras import backend as K\n",
        "\n",
        "def cosine_distance(vests):\n",
        "    x, y = vests\n",
        "    x = K.l2_normalize(x, axis=-1)\n",
        "    y = K.l2_normalize(y, axis=-1)\n",
        "    return -K.mean(x * y, axis=-1, keepdims=True)\n",
        "\n",
        "def cos_dist_output_shape(shapes):\n",
        "    shape1, shape2 = shapes\n",
        "    return (shape1[0],1)"
      ],
      "execution_count": null,
      "outputs": []
    },
    {
      "cell_type": "code",
      "metadata": {
        "id": "cdifajYPztCS"
      },
      "source": [
        "from sklearn.metrics import roc_auc_score\n",
        "\n",
        "\n",
        "def auroc(y_true, y_pred):\n",
        "    return tf.py_function(roc_auc_score, (y_true, y_pred), tf.double)"
      ],
      "execution_count": null,
      "outputs": []
    },
    {
      "cell_type": "code",
      "metadata": {
        "id": "U_CRZ83vzzAw"
      },
      "source": [
        "input_1 = Input(shape=(train_sent1_seq.shape[1],))\n",
        "input_2 = Input(shape=(train_sent2_seq.shape[1],))\n",
        "\n",
        "\n",
        "common_embed = Embedding(input_dim = vocab_size, output_dim=300,weights=[embedding_matrix], input_length= max_len,trainable=False) \n",
        "\n",
        "bilstm_1 = common_embed(input_1)\n",
        "bilstm_2 = common_embed(input_2)\n",
        "\n",
        "\n",
        "common_bilstm = Bidirectional(LSTM(128,return_sequences=True, activation=\"relu\"))\n",
        "\n",
        "vector_1 = common_bilstm(bilstm_1)\n",
        "vector_1 = Flatten()(vector_1)\n",
        "\n",
        "vector_2 = common_bilstm(bilstm_2)\n",
        "vector_2 = Flatten()(vector_2)\n",
        "\n",
        "x3 = Subtract()([vector_1, vector_2])\n",
        "x3 = Multiply()([x3, x3])\n",
        "\n",
        "x1_ = Multiply()([vector_1, vector_1])\n",
        "x2_ = Multiply()([vector_2, vector_2])\n",
        "x4 = Subtract()([x1_, x2_])\n",
        "    \n",
        "#https://stackoverflow.com/a/51003359/10650182\n",
        "x5 = Lambda(cosine_distance, output_shape=cos_dist_output_shape)([vector_1, vector_2])\n",
        "    \n",
        "conc = Concatenate(axis=-1)([x5,x4, x3])\n",
        "\n",
        "x = Dense(100, activation=\"relu\", name='conc_layer')(conc)\n",
        "x = Dropout(0.01)(x)\n",
        "out = Dense(1, activation=\"sigmoid\", name = 'out')(x)\n",
        "\n",
        "model = Model([input_1, input_2], out)\n",
        "\n",
        "model.compile(loss=\"binary_crossentropy\", metrics=['acc',auroc], optimizer=Adam(0.00001))"
      ],
      "execution_count": null,
      "outputs": []
    },
    {
      "cell_type": "code",
      "metadata": {
        "colab": {
          "base_uri": "https://localhost:8080/"
        },
        "id": "btDu_g6C0DMg",
        "outputId": "16048cfd-a22b-494c-8b7f-2a7c1aecd360"
      },
      "source": [
        "model.summary()"
      ],
      "execution_count": null,
      "outputs": [
        {
          "output_type": "stream",
          "text": [
            "Model: \"model\"\n",
            "__________________________________________________________________________________________________\n",
            "Layer (type)                    Output Shape         Param #     Connected to                     \n",
            "==================================================================================================\n",
            "input_1 (InputLayer)            [(None, 260)]        0                                            \n",
            "__________________________________________________________________________________________________\n",
            "input_2 (InputLayer)            [(None, 260)]        0                                            \n",
            "__________________________________________________________________________________________________\n",
            "embedding (Embedding)           (None, 260, 300)     6891300     input_1[0][0]                    \n",
            "                                                                 input_2[0][0]                    \n",
            "__________________________________________________________________________________________________\n",
            "bidirectional (Bidirectional)   (None, 260, 256)     439296      embedding[0][0]                  \n",
            "                                                                 embedding[1][0]                  \n",
            "__________________________________________________________________________________________________\n",
            "flatten (Flatten)               (None, 66560)        0           bidirectional[0][0]              \n",
            "__________________________________________________________________________________________________\n",
            "flatten_1 (Flatten)             (None, 66560)        0           bidirectional[1][0]              \n",
            "__________________________________________________________________________________________________\n",
            "multiply_1 (Multiply)           (None, 66560)        0           flatten[0][0]                    \n",
            "                                                                 flatten[0][0]                    \n",
            "__________________________________________________________________________________________________\n",
            "multiply_2 (Multiply)           (None, 66560)        0           flatten_1[0][0]                  \n",
            "                                                                 flatten_1[0][0]                  \n",
            "__________________________________________________________________________________________________\n",
            "subtract (Subtract)             (None, 66560)        0           flatten[0][0]                    \n",
            "                                                                 flatten_1[0][0]                  \n",
            "__________________________________________________________________________________________________\n",
            "lambda (Lambda)                 (None, 1)            0           flatten[0][0]                    \n",
            "                                                                 flatten_1[0][0]                  \n",
            "__________________________________________________________________________________________________\n",
            "subtract_1 (Subtract)           (None, 66560)        0           multiply_1[0][0]                 \n",
            "                                                                 multiply_2[0][0]                 \n",
            "__________________________________________________________________________________________________\n",
            "multiply (Multiply)             (None, 66560)        0           subtract[0][0]                   \n",
            "                                                                 subtract[0][0]                   \n",
            "__________________________________________________________________________________________________\n",
            "concatenate (Concatenate)       (None, 133121)       0           lambda[0][0]                     \n",
            "                                                                 subtract_1[0][0]                 \n",
            "                                                                 multiply[0][0]                   \n",
            "__________________________________________________________________________________________________\n",
            "conc_layer (Dense)              (None, 100)          13312200    concatenate[0][0]                \n",
            "__________________________________________________________________________________________________\n",
            "dropout (Dropout)               (None, 100)          0           conc_layer[0][0]                 \n",
            "__________________________________________________________________________________________________\n",
            "out (Dense)                     (None, 1)            101         dropout[0][0]                    \n",
            "==================================================================================================\n",
            "Total params: 20,642,897\n",
            "Trainable params: 13,751,597\n",
            "Non-trainable params: 6,891,300\n",
            "__________________________________________________________________________________________________\n"
          ],
          "name": "stdout"
        }
      ]
    },
    {
      "cell_type": "code",
      "metadata": {
        "colab": {
          "base_uri": "https://localhost:8080/",
          "height": 1000
        },
        "id": "UnoD-1Jt0TfE",
        "outputId": "e93c3146-28ca-4c8d-b2e7-a83c8a5fb9cd"
      },
      "source": [
        "X_train_final = [train_sent1_seq,train_sent2_seq]\n",
        "X_val_final= [val_sent1_seq, val_sent2_seq]\n",
        "\n",
        "\n",
        "y_train_final = y_train.values.reshape(-1,1)\n",
        "y_val_final= y_val.values.reshape(-1,1)\n",
        "\n",
        "model.fit(X_train_final, y_train_final,epochs=10,batch_size=128,validation_data=(X_val_final, y_val_final),callbacks= [PlotLossesKeras()])\n"
      ],
      "execution_count": null,
      "outputs": [
        {
          "output_type": "display_data",
          "data": {
            "image/png": "[encoded data removed]",
            "text/plain": [
              "<Figure size 864x864 with 4 Axes>"
            ]
          },
          "metadata": {
            "tags": []
          }
        },
        {
          "output_type": "stream",
          "text": [
            "Accuracy\n",
            "\ttraining         \t (min:    0.510, max:    0.612, cur:    0.612)\n",
            "\tvalidation       \t (min:    0.532, max:    0.602, cur:    0.602)\n",
            "auroc\n",
            "\ttraining         \t (min:    0.529, max:    0.645, cur:    0.645)\n",
            "\tvalidation       \t (min:    0.547, max:    0.630, cur:    0.630)\n",
            "Loss\n",
            "\ttraining         \t (min:    0.662, max:    0.693, cur:    0.662)\n",
            "\tvalidation       \t (min:    0.669, max:    0.693, cur:    0.669)\n"
          ],
          "name": "stdout"
        },
        {
          "output_type": "execute_result",
          "data": {
            "text/plain": [
              "<tensorflow.python.keras.callbacks.History at 0x7f99df6bb210>"
            ]
          },
          "metadata": {
            "tags": []
          },
          "execution_count": 25
        }
      ]
    },
    {
      "cell_type": "code",
      "metadata": {
        "id": "hh0T8IpVxMmz"
      },
      "source": [
        "model.save(\"drive/MyDrive/TFG/siamese_first\")"
      ],
      "execution_count": null,
      "outputs": []
    },
    {
      "cell_type": "code",
      "metadata": {
        "id": "J7PyfKictsGL"
      },
      "source": [
        "X_test_final = [test_sent1_seq,test_sent2_seq]\n",
        "y_test_final = y_test.values.reshape(-1,1)\n",
        "\n",
        "\n",
        "y_pred_test = model.predict(X_test_final)\n"
      ],
      "execution_count": null,
      "outputs": []
    },
    {
      "cell_type": "code",
      "metadata": {
        "id": "8rFMGv6ym8TI"
      },
      "source": [
        "y_pred_test_mapped= np.where(y_pred_test > 0.5, 1, 0)"
      ],
      "execution_count": null,
      "outputs": []
    },
    {
      "cell_type": "code",
      "metadata": {
        "colab": {
          "base_uri": "https://localhost:8080/"
        },
        "id": "s10Y_7b9vGB2",
        "outputId": "d481cd4d-1c92-4fb7-d56c-6f1940202b25"
      },
      "source": [
        "print(X_test['sent1'].values[110])\n",
        "print(X_test['sent2'].values[110])\n",
        "print(y_pred_test[110]) # similaridad\n",
        "print(y_pred_test_mapped[110]) #clase"
      ],
      "execution_count": null,
      "outputs": [
        {
          "output_type": "stream",
          "text": [
            "The desk looked great after assembling, which wasn't overly difficult. The box was well packed & instructions were adequate. My only complaint would be regard to the collar for wiring/cables to go thru - cheap, super thin plastic that cracked apart during assembly. Needs to be soft rubber.\n",
            "Not what I expected but gets the job done.\n",
            "[0.5364939]\n",
            "[1]\n"
          ],
          "name": "stdout"
        }
      ]
    },
    {
      "cell_type": "markdown",
      "metadata": {
        "id": "9qr9xrFtdk7G"
      },
      "source": [
        "##Contrastive Loss"
      ]
    },
    {
      "cell_type": "code",
      "metadata": {
        "id": "3heHiKp5e6Ys"
      },
      "source": [
        "# import the necessary packages\n",
        "import tensorflow.keras.backend as K\n",
        "import tensorflow as tf\n",
        "def contrastive_loss(y, preds, margin=1):\n",
        "\t# explicitly cast the true class label data type to the predicted\n",
        "\t# class label data type (otherwise we run the risk of having two\n",
        "\t# separate data types, causing TensorFlow to error out)\n",
        "\ty = tf.cast(y, preds.dtype)\n",
        "\t# calculate the contrastive loss between the true labels and\n",
        "\t# the predicted labels\n",
        "\tsquaredPreds = K.square(preds)\n",
        "\tsquaredMargin = K.square(K.maximum(margin - preds, 0))\n",
        "\tloss = K.mean(y * squaredPreds + (1 - y) * squaredMargin)\n",
        "\t# return the computed contrastive loss to the calling function\n",
        "\treturn loss"
      ],
      "execution_count": null,
      "outputs": []
    },
    {
      "cell_type": "code",
      "metadata": {
        "id": "gTH8-cpZeKoT"
      },
      "source": [
        "input_1 = Input(shape=(train_sent1_seq.shape[1],))\n",
        "input_2 = Input(shape=(train_sent2_seq.shape[1],))\n",
        "\n",
        "\n",
        "common_embed = Embedding(input_dim = vocab_size, output_dim=300,weights=[embedding_matrix], input_length= max_len,trainable=False) \n",
        "\n",
        "bilstm_1 = common_embed(input_1)\n",
        "bilstm_2 = common_embed(input_2)\n",
        "\n",
        "\n",
        "common_bilstm = Bidirectional(LSTM(128,return_sequences=True, activation=\"relu\"))\n",
        "\n",
        "vector_1 = common_bilstm(bilstm_1)\n",
        "vector_1 = Flatten()(vector_1)\n",
        "\n",
        "vector_2 = common_bilstm(bilstm_2)\n",
        "vector_2 = Flatten()(vector_2)\n",
        "\n",
        "x3 = Subtract()([vector_1, vector_2])\n",
        "x3 = Multiply()([x3, x3])\n",
        "\n",
        "x1_ = Multiply()([vector_1, vector_1])\n",
        "x2_ = Multiply()([vector_2, vector_2])\n",
        "x4 = Subtract()([x1_, x2_])\n",
        "    \n",
        "    #https://stackoverflow.com/a/51003359/10650182\n",
        "x5 = Lambda(cosine_distance, output_shape=cos_dist_output_shape)([vector_1, vector_2])\n",
        "    \n",
        "conc = Concatenate(axis=-1)([x5,x4, x3])\n",
        "\n",
        "x = Dense(100, activation=\"relu\", name='conc_layer')(conc)\n",
        "x = Dropout(0.01)(x)\n",
        "out = Dense(1, activation=\"sigmoid\", name = 'out')(x)\n",
        "\n",
        "model = Model([input_1, input_2], out)\n",
        "\n",
        "## Cambiamos la funcion de perdida\n",
        "model.compile(loss= contrastive_loss, optimizer=Adam(0.00001))"
      ],
      "execution_count": null,
      "outputs": []
    },
    {
      "cell_type": "code",
      "metadata": {
        "colab": {
          "base_uri": "https://localhost:8080/"
        },
        "id": "5gj6ugAPecyQ",
        "outputId": "c2fde8fb-33f9-4cb9-e255-2917a548c849"
      },
      "source": [
        "model.summary()"
      ],
      "execution_count": null,
      "outputs": [
        {
          "output_type": "stream",
          "text": [
            "Model: \"model_2\"\n",
            "__________________________________________________________________________________________________\n",
            "Layer (type)                    Output Shape         Param #     Connected to                     \n",
            "==================================================================================================\n",
            "input_5 (InputLayer)            [(None, 260)]        0                                            \n",
            "__________________________________________________________________________________________________\n",
            "input_6 (InputLayer)            [(None, 260)]        0                                            \n",
            "__________________________________________________________________________________________________\n",
            "embedding_2 (Embedding)         (None, 260, 300)     6891300     input_5[0][0]                    \n",
            "                                                                 input_6[0][0]                    \n",
            "__________________________________________________________________________________________________\n",
            "bidirectional_2 (Bidirectional) (None, 260, 256)     439296      embedding_2[0][0]                \n",
            "                                                                 embedding_2[1][0]                \n",
            "__________________________________________________________________________________________________\n",
            "flatten_4 (Flatten)             (None, 66560)        0           bidirectional_2[0][0]            \n",
            "__________________________________________________________________________________________________\n",
            "flatten_5 (Flatten)             (None, 66560)        0           bidirectional_2[1][0]            \n",
            "__________________________________________________________________________________________________\n",
            "multiply_7 (Multiply)           (None, 66560)        0           flatten_4[0][0]                  \n",
            "                                                                 flatten_4[0][0]                  \n",
            "__________________________________________________________________________________________________\n",
            "multiply_8 (Multiply)           (None, 66560)        0           flatten_5[0][0]                  \n",
            "                                                                 flatten_5[0][0]                  \n",
            "__________________________________________________________________________________________________\n",
            "subtract_4 (Subtract)           (None, 66560)        0           flatten_4[0][0]                  \n",
            "                                                                 flatten_5[0][0]                  \n",
            "__________________________________________________________________________________________________\n",
            "lambda_2 (Lambda)               (None, 1)            0           flatten_4[0][0]                  \n",
            "                                                                 flatten_5[0][0]                  \n",
            "__________________________________________________________________________________________________\n",
            "subtract_5 (Subtract)           (None, 66560)        0           multiply_7[0][0]                 \n",
            "                                                                 multiply_8[0][0]                 \n",
            "__________________________________________________________________________________________________\n",
            "multiply_6 (Multiply)           (None, 66560)        0           subtract_4[0][0]                 \n",
            "                                                                 subtract_4[0][0]                 \n",
            "__________________________________________________________________________________________________\n",
            "concatenate_2 (Concatenate)     (None, 133121)       0           lambda_2[0][0]                   \n",
            "                                                                 subtract_5[0][0]                 \n",
            "                                                                 multiply_6[0][0]                 \n",
            "__________________________________________________________________________________________________\n",
            "conc_layer (Dense)              (None, 100)          13312200    concatenate_2[0][0]              \n",
            "__________________________________________________________________________________________________\n",
            "dropout_2 (Dropout)             (None, 100)          0           conc_layer[0][0]                 \n",
            "__________________________________________________________________________________________________\n",
            "out (Dense)                     (None, 1)            101         dropout_2[0][0]                  \n",
            "==================================================================================================\n",
            "Total params: 20,642,897\n",
            "Trainable params: 13,751,597\n",
            "Non-trainable params: 6,891,300\n",
            "__________________________________________________________________________________________________\n"
          ],
          "name": "stdout"
        }
      ]
    },
    {
      "cell_type": "code",
      "metadata": {
        "colab": {
          "base_uri": "https://localhost:8080/",
          "height": 653
        },
        "id": "P3Oj2WCni_Vl",
        "outputId": "b509217d-beb7-4e11-d44d-c86697e80804"
      },
      "source": [
        "model.fit(X_train_final, y_train_final,epochs=15,batch_size=128,validation_data=(X_val_final, y_val_final),callbacks= [PlotLossesKeras()])\n"
      ],
      "execution_count": null,
      "outputs": [
        {
          "output_type": "display_data",
          "data": {
            "image/png": "[encoded data removed]",
            "text/plain": [
              "<Figure size 864x576 with 2 Axes>"
            ]
          },
          "metadata": {
            "tags": []
          }
        },
        {
          "output_type": "stream",
          "text": [
            "Loss\n",
            "\ttraining         \t (min:    0.229, max:    0.250, cur:    0.229)\n",
            "\tvalidation       \t (min:    0.232, max:    0.250, cur:    0.232)\n"
          ],
          "name": "stdout"
        },
        {
          "output_type": "execute_result",
          "data": {
            "text/plain": [
              "<tensorflow.python.keras.callbacks.History at 0x7f99da6167d0>"
            ]
          },
          "metadata": {
            "tags": []
          },
          "execution_count": 40
        }
      ]
    },
    {
      "cell_type": "code",
      "metadata": {
        "id": "Zr3mafgOjGXD"
      },
      "source": [
        "X_test_final = [test_sent1_seq,test_sent2_seq]\n",
        "y_test_final = y_test.values.reshape(-1,1)\n",
        "\n",
        "model.predict(X_test_final)\n",
        "\n",
        "y_pred_test_mapped= np.where(y_pred_test > 0.5, 1, 0)"
      ],
      "execution_count": null,
      "outputs": []
    },
    {
      "cell_type": "code",
      "metadata": {
        "colab": {
          "base_uri": "https://localhost:8080/"
        },
        "id": "t5zAfgViQJ6m",
        "outputId": "90f78b3e-17b5-4e92-deb4-0758b2ea7bc2"
      },
      "source": [
        "print(X_test['sent1'].values[1])\n",
        "print(X_test['sent2'].values[1])\n",
        "print(y_pred_test[1])\n",
        "print(y_pred_test_mapped[1])"
      ],
      "execution_count": null,
      "outputs": [
        {
          "output_type": "stream",
          "text": [
            "This is the second one we purchased. The kettle stopped working on the other one and was out of warranty.\n",
            "I did lose weight, in combination with other things, but this belt is not for smaller people! I have a short torso and the large part of my waistline was about 34\". It was way, way too long for me and very hard to bend over while exercising. You will, however, sweat like a stuck hog at a state fair in July. Drink lots of water if you use anything neoprene.\n",
            "[0.36168247]\n",
            "[0]\n"
          ],
          "name": "stdout"
        }
      ]
    },
    {
      "cell_type": "code",
      "metadata": {
        "id": "800SLW5rwFmT"
      },
      "source": [
        "model.save(\"drive/MyDrive/TFG/siamese_contrastive\")"
      ],
      "execution_count": null,
      "outputs": []
    }
  ]
}